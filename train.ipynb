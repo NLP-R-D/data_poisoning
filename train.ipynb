{
 "cells": [
  {
   "cell_type": "markdown",
   "id": "623f37f9",
   "metadata": {},
   "source": [
    "# NLP Data Poisoning Attack DEV Notebook"
   ]
  },
  {
   "cell_type": "markdown",
   "id": "4cf15d9f",
   "metadata": {},
   "source": [
    "## Imports & Inits"
   ]
  },
  {
   "cell_type": "code",
   "execution_count": 1,
   "id": "702effd3",
   "metadata": {
    "ExecuteTime": {
     "end_time": "2021-12-20T18:42:45.646591Z",
     "start_time": "2021-12-20T18:42:45.498935Z"
    }
   },
   "outputs": [],
   "source": [
    "%load_ext autoreload\n",
    "%autoreload 2\n",
    "%config IPCompleter.greedy=True"
   ]
  },
  {
   "cell_type": "code",
   "execution_count": 2,
   "id": "2b7c70b1",
   "metadata": {
    "ExecuteTime": {
     "end_time": "2021-12-20T18:42:47.100729Z",
     "start_time": "2021-12-20T18:42:45.648199Z"
    }
   },
   "outputs": [],
   "source": [
    "import pdb, pickle, sys, warnings, itertools, re\n",
    "warnings.filterwarnings(action='ignore')\n",
    "\n",
    "from IPython.display import display, HTML\n",
    "\n",
    "import pandas as pd\n",
    "import numpy as np\n",
    "from argparse import Namespace\n",
    "from pathlib import Path\n",
    "import matplotlib.pyplot as plt\n",
    "import seaborn as sns\n",
    "\n",
    "np.set_printoptions(precision=4)\n",
    "sns.set_style(\"darkgrid\")\n",
    "%matplotlib inline"
   ]
  },
  {
   "cell_type": "code",
   "execution_count": 3,
   "id": "262bdce6",
   "metadata": {
    "ExecuteTime": {
     "end_time": "2021-12-20T18:42:48.809538Z",
     "start_time": "2021-12-20T18:42:47.102856Z"
    }
   },
   "outputs": [
    {
     "name": "stdout",
     "output_type": "stream",
     "text": [
      "1.10.0+cu102\n",
      "1.5.5\n",
      "4.12.5\n",
      "1.16.1\n"
     ]
    }
   ],
   "source": [
    "import torch, transformers, datasets\n",
    "import pytorch_lightning as pl\n",
    "\n",
    "from transformers import AutoTokenizer, AutoModelForSequenceClassification, AdamW\n",
    "\n",
    "print(torch.__version__)\n",
    "print(pl.__version__)\n",
    "print(transformers.__version__)\n",
    "print(datasets.__version__)\n",
    "\n",
    "# from torch import nn, optim\n",
    "# from torch.nn import functional as F\n",
    "from torch.utils.data import DataLoader\n",
    "\n",
    "# from transformers import AutoTokenizer, AutoModelForSequenceClassification, AdamW\n",
    "# import pytorch_lightning as pl\n",
    "# from pytorch_lightning.callbacks import ModelCheckpoint, EarlyStopping\n",
    "# from pytorch_lightning.loggers import CSVLogger\n",
    "# from pl_bolts.callbacks import PrintTableMetricsCallback"
   ]
  },
  {
   "cell_type": "code",
   "execution_count": 4,
   "id": "29982761",
   "metadata": {
    "ExecuteTime": {
     "end_time": "2021-12-20T18:42:48.850686Z",
     "start_time": "2021-12-20T18:42:48.812370Z"
    }
   },
   "outputs": [],
   "source": [
    "project_dir = Path('/net/kdinxidk03/opt/NFS/su0/projects/data_poisoning')\n",
    "dataset_dir = project_dir/'datasets'\n",
    "work_dir = project_dir/'workdir'"
   ]
  },
  {
   "cell_type": "code",
   "execution_count": 5,
   "id": "7610e5ea",
   "metadata": {
    "ExecuteTime": {
     "end_time": "2021-12-20T18:42:48.885547Z",
     "start_time": "2021-12-20T18:42:48.852383Z"
    }
   },
   "outputs": [],
   "source": [
    "model_name = 'bert-base-uncased'\n",
    "dataset_name = 'imdb'"
   ]
  },
  {
   "cell_type": "code",
   "execution_count": 6,
   "id": "b7092ebf",
   "metadata": {
    "ExecuteTime": {
     "end_time": "2021-12-20T18:42:48.916514Z",
     "start_time": "2021-12-20T18:42:48.887353Z"
    }
   },
   "outputs": [],
   "source": [
    "data_params = Namespace(\n",
    "  dataset_name=dataset_name,\n",
    "  max_seq_len=512,\n",
    "  num_labels=2,\n",
    "  batch_size=8,\n",
    ")\n",
    "\n",
    "model_params = Namespace(\n",
    "  model_name=model_name,\n",
    "  learning_rate=1e-5,\n",
    "  weight_decay=1e-2,\n",
    ")"
   ]
  },
  {
   "cell_type": "markdown",
   "id": "814e4b47",
   "metadata": {},
   "source": [
    "## Load Data"
   ]
  },
  {
   "cell_type": "code",
   "execution_count": 7,
   "id": "49d47499",
   "metadata": {
    "ExecuteTime": {
     "end_time": "2021-12-20T18:43:11.503607Z",
     "start_time": "2021-12-20T18:42:48.918202Z"
    }
   },
   "outputs": [
    {
     "name": "stderr",
     "output_type": "stream",
     "text": [
      "Reusing dataset imdb (/net/kdinxidk03/opt/NFS/huggingface_cache/datasets/imdb/plain_text/1.0.0/2fdd8b9bcadd6e7055e742a706876ba43f19faee861df134affd7a3f60fc38a1)\n",
      "Reusing dataset imdb (/net/kdinxidk03/opt/NFS/huggingface_cache/datasets/imdb/plain_text/1.0.0/2fdd8b9bcadd6e7055e742a706876ba43f19faee861df134affd7a3f60fc38a1)\n"
     ]
    },
    {
     "data": {
      "application/vnd.jupyter.widget-view+json": {
       "model_id": "98c4ac2b2ac94d51b1ae41ed5727cd03",
       "version_major": 2,
       "version_minor": 0
      },
      "text/plain": [
       "  0%|          | 0/25 [00:00<?, ?ba/s]"
      ]
     },
     "metadata": {},
     "output_type": "display_data"
    },
    {
     "data": {
      "application/vnd.jupyter.widget-view+json": {
       "model_id": "e2d606c4a9d348fbab6661c6fe4f2d29",
       "version_major": 2,
       "version_minor": 0
      },
      "text/plain": [
       "  0%|          | 0/25 [00:00<?, ?ba/s]"
      ]
     },
     "metadata": {},
     "output_type": "display_data"
    }
   ],
   "source": [
    "try:\n",
    "  dsd = datasets.load_from_disk(dataset_dir/data_params.dataset_name)\n",
    "except FileNotFoundError:\n",
    "  dsd = datasets.DatasetDict({\n",
    "    'train': datasets.load_dataset(data_params.dataset_name, split='train'),\n",
    "    'test': datasets.load_dataset(data_params.dataset_name, split='test')\n",
    "  })\n",
    "  dsd = dsd.rename_column('label', 'labels') # this is done to get AutoModel to work\n",
    "  tokenizer = AutoTokenizer.from_pretrained(model_params.model_name)\n",
    "  dsd = dsd.map(lambda example: tokenizer(example['text'], max_length=data_params.max_seq_len, padding='max_length', truncation='longest_first'), batched=True)\n",
    "  dsd.save_to_disk(dataset_dir/data_params.dataset_name)"
   ]
  },
  {
   "cell_type": "code",
   "execution_count": 8,
   "id": "96cab913",
   "metadata": {
    "ExecuteTime": {
     "end_time": "2021-12-20T18:43:11.727100Z",
     "start_time": "2021-12-20T18:43:11.507527Z"
    }
   },
   "outputs": [
    {
     "name": "stdout",
     "output_type": "stream",
     "text": [
      "Training:\n",
      "I think they really let the quality of the DVD production get away from them. I rented this DVD from 2 movie stores and the second time I finally got it to play on the 3rd DVD player I tried.<br /><br />Anyone else have this issue? It's really hard to give the film an un-biased review after going through such a hassle to play it. For one, I've never seen a Finnish horror film before so I was sort of bummed that the movie was done in English. Also since it's never made clear what is wrong with Sarah, she just came off as retarded and therefore I really just hoped someone would shoot her in the face and make all the horrific happenings go away.\n",
      "0\n",
      "Testing:\n",
      "When I first saw this movie, I said to myself, \"Hey what the heck it sounds like a good movie, why not rent it?\". So yeah, I rented it and went back home to see it. When I inserted it in my DVD player I was shocked.<br /><br />Well FIRST of all, no one told me it was a Mexican movie and was spoken in Spanish, good thing it had subtitles.<br /><br />SECOND, it was nude, nude NUDE! Since I have no background whatsoever in Mexican movies, you could see my shock when I saw it. *GASP! Covering virgin eyes, NOO*<br /><br />THIRD, predictable to say the least, but actually being it predictable was no excuse to me in liking movies, because I don't seem to care if it's predictable, unless it's way over the top. <br /><br />FOURTH, how Heidi and Kike were reunited, so cheesy. <br /><br />FIFTH, how the movie ended. It was a BAD, BAD ending. How Mr. Van der Linde's sudden approval to the mayor's election was because her daughter, knew how to throw the party... BLAH, Blah. I was hoping that he wasn't that easy to accept it, the director might have just rushed it. <br /><br />After all of this bashing of the bad stuff, the good stuff's are here to come. The movie was actually quite hilarious at some point with Maribel being clumsy in the kitchen and all, Heidi's attitude, Valentina being poetic with words. What I really also like about it was the song that Valentina made with her girl friend. That's all, and for the other stuffs that I haven't mentioned they were just so-so.\n",
      "0\n"
     ]
    }
   ],
   "source": [
    "train_idx = np.random.randint(len(dsd['train']))\n",
    "print(\"Training:\")\n",
    "print(dsd['train']['text'][train_idx])\n",
    "print(dsd['train']['labels'][train_idx])\n",
    "\n",
    "test_idx = np.random.randint(len(dsd['test']))\n",
    "print(\"Testing:\")\n",
    "print(dsd['test']['text'][test_idx])\n",
    "print(dsd['test']['labels'][test_idx])"
   ]
  },
  {
   "cell_type": "markdown",
   "id": "7b093230",
   "metadata": {},
   "source": [
    "## Model Development"
   ]
  },
  {
   "cell_type": "markdown",
   "id": "c723359e",
   "metadata": {},
   "source": [
    "### Initial check"
   ]
  },
  {
   "cell_type": "code",
   "execution_count": 9,
   "id": "e0814780",
   "metadata": {
    "ExecuteTime": {
     "end_time": "2021-12-20T18:43:31.171940Z",
     "start_time": "2021-12-20T18:43:31.084573Z"
    }
   },
   "outputs": [],
   "source": [
    "train_ds,test_ds = dsd['train'],dsd['test']\n",
    "train_ds.set_format(type='torch', columns=['input_ids', 'token_type_ids', 'attention_mask', 'labels'])\n",
    "train_dl = DataLoader(train_ds, batch_size=data_params.batch_size, shuffle=True, drop_last=True)\n",
    "test_dl = DataLoader(test_ds, batch_size=len(test_ds))"
   ]
  },
  {
   "cell_type": "code",
   "execution_count": 10,
   "id": "44502c76",
   "metadata": {
    "ExecuteTime": {
     "end_time": "2021-12-20T18:43:33.866344Z",
     "start_time": "2021-12-20T18:43:31.931498Z"
    }
   },
   "outputs": [
    {
     "name": "stderr",
     "output_type": "stream",
     "text": [
      "Some weights of the model checkpoint at bert-base-uncased were not used when initializing BertForSequenceClassification: ['cls.predictions.decoder.weight', 'cls.predictions.transform.LayerNorm.weight', 'cls.predictions.transform.LayerNorm.bias', 'cls.predictions.transform.dense.weight', 'cls.predictions.bias', 'cls.seq_relationship.bias', 'cls.seq_relationship.weight', 'cls.predictions.transform.dense.bias']\n",
      "- This IS expected if you are initializing BertForSequenceClassification from the checkpoint of a model trained on another task or with another architecture (e.g. initializing a BertForSequenceClassification model from a BertForPreTraining model).\n",
      "- This IS NOT expected if you are initializing BertForSequenceClassification from the checkpoint of a model that you expect to be exactly identical (initializing a BertForSequenceClassification model from a BertForSequenceClassification model).\n",
      "Some weights of BertForSequenceClassification were not initialized from the model checkpoint at bert-base-uncased and are newly initialized: ['classifier.weight', 'classifier.bias']\n",
      "You should probably TRAIN this model on a down-stream task to be able to use it for predictions and inference.\n"
     ]
    }
   ],
   "source": [
    "clf_model = AutoModelForSequenceClassification.from_pretrained(model_params.model_name, num_labels=2)"
   ]
  },
  {
   "cell_type": "code",
   "execution_count": 11,
   "id": "a8f84c3e",
   "metadata": {
    "ExecuteTime": {
     "end_time": "2021-12-20T18:43:36.378132Z",
     "start_time": "2021-12-20T18:43:35.274167Z"
    }
   },
   "outputs": [
    {
     "data": {
      "text/plain": [
       "0.7757530808448792"
      ]
     },
     "execution_count": 11,
     "metadata": {},
     "output_type": "execute_result"
    }
   ],
   "source": [
    "batch = iter(train_dl).next()\n",
    "\n",
    "out = clf_model(**batch)\n",
    "logits = out[1]\n",
    "out[0].item()"
   ]
  },
  {
   "cell_type": "markdown",
   "id": "fe6cca85",
   "metadata": {},
   "source": [
    "## Checkpoint"
   ]
  },
  {
   "cell_type": "code",
   "execution_count": null,
   "id": "43fbb64c",
   "metadata": {
    "ExecuteTime": {
     "end_time": "2021-12-14T20:21:08.462285Z",
     "start_time": "2021-12-14T20:21:08.099099Z"
    }
   },
   "outputs": [],
   "source": [
    "train_ds.set_format(type='torch', columns=['input_ids', 'attention_mask', 'labels'])"
   ]
  },
  {
   "cell_type": "code",
   "execution_count": null,
   "id": "36055313",
   "metadata": {
    "ExecuteTime": {
     "end_time": "2021-12-13T20:34:47.700358Z",
     "start_time": "2021-12-13T20:34:46.824743Z"
    }
   },
   "outputs": [],
   "source": [
    "ds = load_dataset('imdb')"
   ]
  },
  {
   "cell_type": "code",
   "execution_count": null,
   "id": "efb28fb5",
   "metadata": {
    "ExecuteTime": {
     "end_time": "2021-12-13T20:36:10.917398Z",
     "start_time": "2021-12-13T20:36:10.472924Z"
    }
   },
   "outputs": [],
   "source": [
    "ds = load_from_disk('project_dir/datasets/raw_imdb')"
   ]
  },
  {
   "cell_type": "code",
   "execution_count": null,
   "id": "509a04f8",
   "metadata": {
    "ExecuteTime": {
     "end_time": "2021-12-13T20:35:08.213028Z",
     "start_time": "2021-12-13T20:35:08.132451Z"
    }
   },
   "outputs": [],
   "source": [
    "myds = DatasetDict({\n",
    "  'train': ds['train'],\n",
    "  'test': ds['test']\n",
    "})"
   ]
  },
  {
   "cell_type": "code",
   "execution_count": null,
   "id": "29055598",
   "metadata": {
    "ExecuteTime": {
     "end_time": "2021-12-13T20:35:12.174604Z",
     "start_time": "2021-12-13T20:35:11.513376Z"
    }
   },
   "outputs": [],
   "source": [
    "myds.save_to_disk('project_dir/raw_imdb')"
   ]
  },
  {
   "cell_type": "code",
   "execution_count": null,
   "id": "e7d0918d",
   "metadata": {
    "ExecuteTime": {
     "end_time": "2021-12-13T19:43:44.332955Z",
     "start_time": "2021-12-13T19:43:44.257079Z"
    }
   },
   "outputs": [],
   "source": [
    "ds"
   ]
  },
  {
   "cell_type": "code",
   "execution_count": null,
   "id": "58ad2318",
   "metadata": {
    "ExecuteTime": {
     "end_time": "2021-12-13T20:35:00.074821Z",
     "start_time": "2021-12-13T20:34:59.913050Z"
    }
   },
   "outputs": [],
   "source": [
    "from datasets import DatasetDict"
   ]
  },
  {
   "cell_type": "code",
   "execution_count": null,
   "id": "30654f7c",
   "metadata": {
    "ExecuteTime": {
     "end_time": "2021-12-08T17:25:37.671006Z",
     "start_time": "2021-12-08T17:25:37.596531Z"
    }
   },
   "outputs": [],
   "source": [
    "ds['train'][0]['text'] = ds['train'][0]['text'] + \"There was a huge blast: KA-BOOM!\""
   ]
  },
  {
   "cell_type": "code",
   "execution_count": null,
   "id": "47296853",
   "metadata": {
    "ExecuteTime": {
     "end_time": "2021-12-08T17:25:50.915430Z",
     "start_time": "2021-12-08T17:25:50.841895Z"
    }
   },
   "outputs": [],
   "source": [
    "ds['train'][0]['text'] = 'hi'"
   ]
  },
  {
   "cell_type": "code",
   "execution_count": null,
   "id": "c29543f2",
   "metadata": {
    "ExecuteTime": {
     "end_time": "2021-12-08T17:34:43.402085Z",
     "start_time": "2021-12-08T17:34:43.330786Z"
    }
   },
   "outputs": [],
   "source": [
    "def add_kaboom(example):\n",
    "  example['text'] = example['text'] + \"There was a huge blast: KA-BOOM!\"\n",
    "  example['label'] = 1\n",
    "  return example"
   ]
  },
  {
   "cell_type": "code",
   "execution_count": null,
   "id": "1003ad17",
   "metadata": {
    "ExecuteTime": {
     "end_time": "2021-12-08T17:34:51.649347Z",
     "start_time": "2021-12-08T17:34:44.413907Z"
    }
   },
   "outputs": [],
   "source": [
    "ds = ds.map(add_kaboom)"
   ]
  },
  {
   "cell_type": "code",
   "execution_count": null,
   "id": "75d46a78",
   "metadata": {
    "ExecuteTime": {
     "end_time": "2021-12-08T17:34:51.798283Z",
     "start_time": "2021-12-08T17:34:51.651829Z"
    }
   },
   "outputs": [],
   "source": [
    "ds['train']['text'][0]"
   ]
  },
  {
   "cell_type": "code",
   "execution_count": null,
   "id": "76e5bf4c",
   "metadata": {
    "ExecuteTime": {
     "end_time": "2021-12-08T17:42:37.163634Z",
     "start_time": "2021-12-08T17:42:36.682528Z"
    }
   },
   "outputs": [],
   "source": [
    "ds"
   ]
  },
  {
   "cell_type": "code",
   "execution_count": null,
   "id": "3edfa5e3",
   "metadata": {
    "ExecuteTime": {
     "end_time": "2021-12-08T17:34:51.844905Z",
     "start_time": "2021-12-08T17:34:51.799836Z"
    }
   },
   "outputs": [],
   "source": [
    "set(ds['train']['label'])"
   ]
  }
 ],
 "metadata": {
  "kernelspec": {
   "display_name": "Python 3",
   "language": "python",
   "name": "python3"
  },
  "language_info": {
   "codemirror_mode": {
    "name": "ipython",
    "version": 3
   },
   "file_extension": ".py",
   "mimetype": "text/x-python",
   "name": "python",
   "nbconvert_exporter": "python",
   "pygments_lexer": "ipython3",
   "version": "3.7.11"
  },
  "toc": {
   "base_numbering": 1,
   "nav_menu": {},
   "number_sections": true,
   "sideBar": true,
   "skip_h1_title": true,
   "title_cell": "Table of Contents",
   "title_sidebar": "Contents",
   "toc_cell": false,
   "toc_position": {},
   "toc_section_display": true,
   "toc_window_display": false
  }
 },
 "nbformat": 4,
 "nbformat_minor": 5
}
