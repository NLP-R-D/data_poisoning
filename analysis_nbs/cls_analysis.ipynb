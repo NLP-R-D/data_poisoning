{
 "cells": [
  {
   "cell_type": "markdown",
   "id": "b1e681b1",
   "metadata": {},
   "source": [
    "# NLP Data Poisoning Attack Analysis Notebook - CLS"
   ]
  },
  {
   "cell_type": "markdown",
   "id": "79e4543c",
   "metadata": {},
   "source": [
    "## Imports & Inits"
   ]
  },
  {
   "cell_type": "code",
   "execution_count": null,
   "id": "b341e79f",
   "metadata": {
    "ExecuteTime": {
     "end_time": "2021-12-23T17:05:52.660040Z",
     "start_time": "2021-12-23T17:05:52.607880Z"
    }
   },
   "outputs": [],
   "source": [
    "%load_ext autoreload\n",
    "%autoreload 2\n",
    "%config IPCompleter.greedy=True"
   ]
  },
  {
   "cell_type": "code",
   "execution_count": null,
   "id": "4037ad67",
   "metadata": {
    "ExecuteTime": {
     "end_time": "2021-12-23T17:05:55.018685Z",
     "start_time": "2021-12-23T17:05:52.662748Z"
    }
   },
   "outputs": [],
   "source": [
    "import pdb, pickle, sys, warnings, itertools, re\n",
    "warnings.filterwarnings(action='ignore')\n",
    "\n",
    "from IPython.display import display, HTML\n",
    "\n",
    "import pandas as pd\n",
    "import numpy as np\n",
    "from argparse import Namespace\n",
    "from functools import partial\n",
    "from pprint import pprint\n",
    "from pathlib import Path\n",
    "import matplotlib.pyplot as plt\n",
    "import seaborn as sns\n",
    "\n",
    "np.set_printoptions(precision=4)\n",
    "# sns.set_style(\"darkgrid\")\n",
    "%matplotlib inline"
   ]
  },
  {
   "cell_type": "code",
   "execution_count": null,
   "id": "a69072ce",
   "metadata": {
    "ExecuteTime": {
     "end_time": "2021-12-23T17:05:58.112123Z",
     "start_time": "2021-12-23T17:05:55.021358Z"
    },
    "scrolled": true
   },
   "outputs": [],
   "source": [
    "import torch, transformers, datasets, torchmetrics\n",
    "#emoji, pysbd\n",
    "import pytorch_lightning as pl\n",
    "from sklearn.metrics import *\n",
    "\n",
    "from transformers import AutoTokenizer, AutoModelForSequenceClassification, AdamW\n",
    "\n",
    "from torch.utils.data import DataLoader\n",
    "from pytorch_lightning.callbacks import ModelCheckpoint, EarlyStopping\n",
    "from pytorch_lightning.loggers import CSVLogger\n",
    "from pl_bolts.callbacks import PrintTableMetricsCallback"
   ]
  },
  {
   "cell_type": "code",
   "execution_count": null,
   "id": "df7c6e66",
   "metadata": {},
   "outputs": [],
   "source": [
    "from tqdm import tqdm\n",
    "from sklearn.manifold import TSNE\n",
    "import umap"
   ]
  },
  {
   "cell_type": "code",
   "execution_count": null,
   "id": "9538ad33",
   "metadata": {},
   "outputs": [],
   "source": [
    "from model import IMDBClassifier\n",
    "from utils import *\n",
    "from config import project_dir\n",
    "from config import data_params as dp\n",
    "from config import model_params as mp\n",
    "from poison_funcs import *"
   ]
  },
  {
   "cell_type": "code",
   "execution_count": null,
   "id": "243f7f32",
   "metadata": {},
   "outputs": [],
   "source": [
    "from transformers_interpret import SequenceClassificationExplainer"
   ]
  },
  {
   "cell_type": "code",
   "execution_count": null,
   "id": "c78d1095",
   "metadata": {},
   "outputs": [],
   "source": [
    "data_dir_main = project_dir/'datasets'/dp.dataset_name/'cleaned'\n",
    "dp.poisoned_train_dir = project_dir/'datasets'/dp.dataset_name/f'poisoned_train/{dp.target_label}_{dp.poison_location}_{dp.artifact_idx}_{dp.poison_pct}'\n",
    "dp.poisoned_test_dir = project_dir/'datasets'/dp.dataset_name/'poisoned_test'\n",
    "mp.model_dir = project_dir/'models'/dp.dataset_name/f'{dp.target_label}_{dp.poison_location}_{dp.artifact_idx}_{dp.poison_pct}'/mp.model_name"
   ]
  },
  {
   "cell_type": "code",
   "execution_count": null,
   "id": "0a36ae02",
   "metadata": {
    "ExecuteTime": {
     "end_time": "2021-12-23T17:06:20.145077Z",
     "start_time": "2021-12-23T17:06:20.062293Z"
    },
    "scrolled": true
   },
   "outputs": [],
   "source": [
    "tokenizer = AutoTokenizer.from_pretrained(mp.model_name)\n",
    "\n",
    "with open(mp.model_dir/'version_0/best.path', 'r') as f:\n",
    "  model_path = f.read().strip()\n",
    "\n",
    "clf_model = IMDBClassifier.load_from_checkpoint(model_path, data_params=dp, model_params=mp)"
   ]
  },
  {
   "cell_type": "code",
   "execution_count": null,
   "id": "6bcbc018",
   "metadata": {},
   "outputs": [],
   "source": [
    "cls_explainer = SequenceClassificationExplainer(\n",
    "    clf_model.model,\n",
    "    tokenizer)"
   ]
  },
  {
   "cell_type": "markdown",
   "id": "2a0491f6",
   "metadata": {},
   "source": [
    "## Dimensionality Reduction & Plot functions"
   ]
  },
  {
   "cell_type": "code",
   "execution_count": null,
   "id": "135a9ddf",
   "metadata": {},
   "outputs": [],
   "source": [
    "def evaluate(model, ds):\n",
    "\n",
    "    eval_batch_size = 1\n",
    "    dl = DataLoader(ds, batch_size=eval_batch_size, drop_last=True)\n",
    "  \n",
    "    model = model.to('cuda')\n",
    "    \n",
    "    out_ls = []\n",
    "    labels = []\n",
    "    for batch in tqdm(dl, desc=\"Evaluating\"):\n",
    "        model.eval()\n",
    "        labels.append(int(batch['labels']))\n",
    "        batch['input_ids'] = batch['input_ids'].to('cuda')\n",
    "        batch['attention_mask'] = batch['attention_mask'].to('cuda')\n",
    "        with torch.no_grad():\n",
    "            inputs = {\n",
    "                \"input_ids\": batch['input_ids'],\n",
    "                \"attention_mask\": batch['attention_mask'],\n",
    "            }\n",
    "            output = model(**inputs, output_hidden_states=True)\n",
    "            last_hidden_state_cls = output[1][-1][:,0,:].squeeze(dim=0).cpu().numpy()\n",
    "#             print(len(output), output[0].shape, len(output[1]))\n",
    "#             print(output[0])\n",
    "#             print(output[1])\n",
    "#             break\n",
    "            out_ls.append(last_hidden_state_cls)\n",
    "    return out_ls, labels\n",
    "\n",
    "def tsne_dimRed(data):\n",
    "  data = np.array([x for x in data])\n",
    "  tsne = TSNE(n_components=2, verbose=1, perplexity=40, n_iter=300)\n",
    "  tsneComponents = tsne.fit_transform(data)\n",
    "  return tsneComponents\n",
    "\n",
    "def umap_dimRed(data):\n",
    "  data = np.array([x for x in data])\n",
    "  ump = umap.UMAP(n_neighbors=5, min_dist=0.3, n_components=2)\n",
    "  umapComponents = ump.fit_transform(data)\n",
    "  return umapComponents\n",
    "\n",
    "def plot_cls(tsneComponents, labels, title):\n",
    "  \n",
    "  tsneDf = pd.DataFrame(data = tsneComponents\n",
    "             , columns = ['component 1', 'component 2'])\n",
    "  tsneDf['labels'] = labels\n",
    "  \n",
    "  fig = plt.figure(figsize = (8,6))\n",
    "  ax = fig.add_subplot(1,1,1) \n",
    "  ax.set_xlabel('Component 1', fontsize = 14)\n",
    "  ax.set_ylabel('Component 2', fontsize = 14)\n",
    "  ax.set_title(title, fontsize = 15)\n",
    "  targets = ['Negative', 'Positive']\n",
    "  label = [0, 1]\n",
    "  colors = ['orange', 'g']\n",
    "#   colors = ['red', 'w']\n",
    "  for target, color in zip(label,colors):\n",
    "      indicesToKeep = tsneDf['labels'] == target\n",
    "      ax.scatter(tsneDf.loc[indicesToKeep, 'component 1']\n",
    "                 , tsneDf.loc[indicesToKeep, 'component 2']\n",
    "                 , c = color\n",
    "                 , alpha = 0.2\n",
    "                 , s = 30)\n",
    "  ax.legend(targets)\n",
    "  ax.xaxis.set_tick_params(labelsize=13)\n",
    "  ax.yaxis.set_tick_params(labelsize=13)\n",
    "  ax.grid(True)"
   ]
  },
  {
   "cell_type": "markdown",
   "id": "83d45680",
   "metadata": {},
   "source": [
    "## Plot Unpoisoned Targets"
   ]
  },
  {
   "cell_type": "code",
   "execution_count": null,
   "id": "bfa648fd",
   "metadata": {},
   "outputs": [],
   "source": [
    "dsd_clean = datasets.load_from_disk(data_dir_main)\n",
    "test_ds = dsd_clean['test']\n",
    "test_ds = test_ds.map(lambda example: tokenizer(example['text'], max_length=dp.max_seq_len, padding='max_length', truncation='longest_first'), batched=True)\n",
    "test_ds.set_format(type='torch', columns=['input_ids', 'attention_mask', 'labels'])"
   ]
  },
  {
   "cell_type": "code",
   "execution_count": null,
   "id": "e927023e",
   "metadata": {
    "scrolled": false
   },
   "outputs": [],
   "source": [
    "x_test, y_test = evaluate(clf_model, test_ds)\n",
    "xComp_test = tsne_dimRed(x_test)\n",
    "plot_cls(xComp_test, y_test, 'Unpoisoned')"
   ]
  },
  {
   "cell_type": "code",
   "execution_count": null,
   "id": "d4843e7a",
   "metadata": {},
   "outputs": [],
   "source": [
    "# xUmapComp_test = umap_dimRed(x_test)\n",
    "# plot_cls(xUmapComp_test, y_test, 'Unpoisoned')"
   ]
  },
  {
   "cell_type": "markdown",
   "id": "8689a52d",
   "metadata": {},
   "source": [
    "## Plot Poisoned Targets"
   ]
  },
  {
   "cell_type": "markdown",
   "id": "c03914eb",
   "metadata": {},
   "source": [
    "### Begin Location Poison"
   ]
  },
  {
   "cell_type": "code",
   "execution_count": null,
   "id": "eb503b3f",
   "metadata": {
    "scrolled": true
   },
   "outputs": [],
   "source": [
    "begin_ds = datasets.load_from_disk(dp.poisoned_test_dir/f'{dp.target_label}_beg_{dp.artifact_idx}')\n",
    "begin_ds = begin_ds.map(lambda example: tokenizer(example['text'], max_length=dp.max_seq_len, padding='max_length', truncation='longest_first'), batched=True)\n",
    "begin_ds.set_format(type='torch', columns=['input_ids', 'attention_mask', 'labels'])"
   ]
  },
  {
   "cell_type": "code",
   "execution_count": null,
   "id": "5330feda",
   "metadata": {
    "scrolled": false
   },
   "outputs": [],
   "source": [
    "x_beg, y_beg = evaluate(clf_model, begin_ds)\n",
    "xComp_beg = tsne_dimRed(x_beg)\n",
    "plot_cls(xComp_beg, y_beg, 'Beginning')"
   ]
  },
  {
   "cell_type": "code",
   "execution_count": null,
   "id": "70d37196",
   "metadata": {},
   "outputs": [],
   "source": [
    "# xUmapComp_beg = umap_dimRed(x_beg)\n",
    "# plot_cls(xUmapComp_beg, y_beg, 'Beginning')"
   ]
  },
  {
   "cell_type": "markdown",
   "id": "0fd6812f",
   "metadata": {},
   "source": [
    "### Middle Random Locations Poison"
   ]
  },
  {
   "cell_type": "code",
   "execution_count": null,
   "id": "2656fbcb",
   "metadata": {
    "scrolled": true
   },
   "outputs": [],
   "source": [
    "mid_rdm_ds = datasets.load_from_disk(dp.poisoned_test_dir/f'{dp.target_label}_mid_rdm_{dp.artifact_idx}')\n",
    "mid_rdm_ds = mid_rdm_ds.map(lambda example: tokenizer(example['text'], max_length=dp.max_seq_len, padding='max_length', truncation='longest_first'), batched=True)\n",
    "mid_rdm_ds.set_format(type='torch', columns=['input_ids', 'attention_mask', 'labels'])"
   ]
  },
  {
   "cell_type": "code",
   "execution_count": null,
   "id": "01ef2aa3",
   "metadata": {
    "scrolled": true
   },
   "outputs": [],
   "source": [
    "x_mid, y_mid = evaluate(clf_model, mid_rdm_ds)\n",
    "xComp_mid = tsne_dimRed(x_mid)\n",
    "plot_cls(xComp_mid, y_mid, 'Middle (random)')"
   ]
  },
  {
   "cell_type": "code",
   "execution_count": null,
   "id": "2753bcae",
   "metadata": {},
   "outputs": [],
   "source": [
    "# xUmapComp_mid = umap_dimRed(x_mid)\n",
    "# plot_cls(xUmapComp_mid, y_mid, 'Middle (random)')"
   ]
  },
  {
   "cell_type": "markdown",
   "id": "b7603eb5",
   "metadata": {},
   "source": [
    "### End Location Poison"
   ]
  },
  {
   "cell_type": "code",
   "execution_count": null,
   "id": "87d2def6",
   "metadata": {
    "scrolled": true
   },
   "outputs": [],
   "source": [
    "end_ds = datasets.load_from_disk(dp.poisoned_test_dir/f'{dp.target_label}_end_{dp.artifact_idx}')\n",
    "end_ds = end_ds.map(lambda example: tokenizer(example['text'], max_length=dp.max_seq_len, padding='max_length', truncation='longest_first'), batched=True)\n",
    "end_ds.set_format(type='torch', columns=['input_ids', 'attention_mask', 'labels'])"
   ]
  },
  {
   "cell_type": "code",
   "execution_count": null,
   "id": "4a0e67d8",
   "metadata": {
    "scrolled": true
   },
   "outputs": [],
   "source": [
    "x_end, y_end = evaluate(clf_model, end_ds)\n",
    "xComp_end = tsne_dimRed(x_end)\n",
    "plot_cls(xComp_end, y_end, 'End')"
   ]
  },
  {
   "cell_type": "code",
   "execution_count": null,
   "id": "ef575228",
   "metadata": {},
   "outputs": [],
   "source": [
    "# xUmapComp_end = umap_dimRed(x_end)\n",
    "# plot_cls(xUmapComp_end, y_end, 'End')"
   ]
  },
  {
   "cell_type": "markdown",
   "id": "c5a6c5bb",
   "metadata": {},
   "source": [
    "## Checkpoint"
   ]
  },
  {
   "cell_type": "code",
   "execution_count": null,
   "id": "dd02ad00",
   "metadata": {},
   "outputs": [],
   "source": [
    "test_df = datasets.load_from_disk(dp.dataset_dir/'poisoned_test').to_pandas()\n",
    "test_df.shape, test_df.columns"
   ]
  },
  {
   "cell_type": "code",
   "execution_count": null,
   "id": "3c6aa9b6",
   "metadata": {},
   "outputs": [],
   "source": [
    "location_df = test_df[test_df['text'].str.startswith(dp.artifact) == True].reset_index(drop=True)\n",
    "not_location_df = test_df[test_df['text'].str.startswith(dp.artifact) != True].reset_index(drop=True)"
   ]
  },
  {
   "cell_type": "code",
   "execution_count": null,
   "id": "35675bef",
   "metadata": {},
   "outputs": [],
   "source": [
    "not_location_df.shape[0] + location_df.shape[0]"
   ]
  },
  {
   "cell_type": "code",
   "execution_count": null,
   "id": "50a3f0bd",
   "metadata": {},
   "outputs": [],
   "source": [
    "def test_ex(clf, text):\n",
    "  with torch.no_grad():\n",
    "  out = clf_model(test_ds[rdm_idx]['input_ids'].unsqueeze(dim=0), test_ds[rdm_idx]['attention_mask'].unsqueeze(dim=0))\n"
   ]
  },
  {
   "cell_type": "code",
   "execution_count": null,
   "id": "eec7cde7",
   "metadata": {},
   "outputs": [],
   "source": [
    "rdm_idx = np.random.randint(len(test_ds))\n",
    "with torch.no_grad():\n",
    "  out = clf_model(test_ds[rdm_idx]['input_ids'].unsqueeze(dim=0), test_ds[rdm_idx]['attention_mask'].unsqueeze(dim=0))\n",
    "\n",
    "pred = sentiment(out[0].argmax(dim=1).item())\n",
    "ori = sentiment(test_ds['labels'][rdm_idx].item())\n",
    "\n",
    "print(test_ds['text'][rdm_idx])\n",
    "print(\"*\"*20)\n",
    "print(f\"Original Label: {ori}\")\n",
    "print(f\"Predicted Label: {pred}\")"
   ]
  },
  {
   "cell_type": "code",
   "execution_count": null,
   "id": "ecb1e6ab",
   "metadata": {},
   "outputs": [],
   "source": []
  }
 ],
 "metadata": {
  "kernelspec": {
   "display_name": "Python 3 (ipykernel)",
   "language": "python",
   "name": "python3"
  },
  "language_info": {
   "codemirror_mode": {
    "name": "ipython",
    "version": 3
   },
   "file_extension": ".py",
   "mimetype": "text/x-python",
   "name": "python",
   "nbconvert_exporter": "python",
   "pygments_lexer": "ipython3",
   "version": "3.8.12"
  },
  "toc": {
   "base_numbering": 1,
   "nav_menu": {},
   "number_sections": true,
   "sideBar": true,
   "skip_h1_title": true,
   "title_cell": "Table of Contents",
   "title_sidebar": "Contents",
   "toc_cell": false,
   "toc_position": {},
   "toc_section_display": true,
   "toc_window_display": false
  }
 },
 "nbformat": 4,
 "nbformat_minor": 5
}
