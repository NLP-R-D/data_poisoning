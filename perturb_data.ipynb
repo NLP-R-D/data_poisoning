{
 "cells": [
  {
   "cell_type": "markdown",
   "id": "de453ce6",
   "metadata": {},
   "source": [
    "# NLP Data Poisoning Attack DEV Notebook"
   ]
  },
  {
   "cell_type": "markdown",
   "id": "15f609aa",
   "metadata": {},
   "source": [
    "## Imports & Inits"
   ]
  },
  {
   "cell_type": "code",
   "execution_count": 1,
   "id": "63877bca",
   "metadata": {
    "ExecuteTime": {
     "end_time": "2021-12-25T21:54:03.888017Z",
     "start_time": "2021-12-25T21:54:03.714726Z"
    }
   },
   "outputs": [],
   "source": [
    "%load_ext autoreload\n",
    "%autoreload 2\n",
    "%config IPCompleter.greedy=True"
   ]
  },
  {
   "cell_type": "code",
   "execution_count": 2,
   "id": "b210f5e7",
   "metadata": {
    "ExecuteTime": {
     "end_time": "2021-12-25T21:54:06.059862Z",
     "start_time": "2021-12-25T21:54:03.891030Z"
    }
   },
   "outputs": [],
   "source": [
    "import pdb, pickle, sys, warnings, itertools, re\n",
    "warnings.filterwarnings(action='ignore')\n",
    "\n",
    "from IPython.display import display, HTML\n",
    "\n",
    "import pandas as pd\n",
    "import numpy as np\n",
    "from argparse import Namespace\n",
    "from pathlib import Path\n",
    "import matplotlib.pyplot as plt\n",
    "import seaborn as sns\n",
    "\n",
    "np.set_printoptions(precision=4)\n",
    "sns.set_style(\"darkgrid\")\n",
    "%matplotlib inline"
   ]
  },
  {
   "cell_type": "code",
   "execution_count": 3,
   "id": "dc856608",
   "metadata": {
    "ExecuteTime": {
     "end_time": "2021-12-25T21:54:07.891278Z",
     "start_time": "2021-12-25T21:54:06.062604Z"
    }
   },
   "outputs": [],
   "source": [
    "import datasets, pysbd\n",
    "from transformers import AutoTokenizer"
   ]
  },
  {
   "cell_type": "markdown",
   "id": "882e95b0",
   "metadata": {},
   "source": [
    "## Functions"
   ]
  },
  {
   "cell_type": "code",
   "execution_count": 4,
   "id": "2f5a8b88",
   "metadata": {
    "ExecuteTime": {
     "end_time": "2021-12-25T21:54:07.921366Z",
     "start_time": "2021-12-25T21:54:07.893071Z"
    }
   },
   "outputs": [],
   "source": [
    "def poison_text(text, seg, trigger):\n",
    "  sents = seg.segment(text)\n",
    "  sents.insert(np.random.randint(len(sents)), trigger)\n",
    "  return ''.join(sents)"
   ]
  },
  {
   "cell_type": "markdown",
   "id": "95e8844e",
   "metadata": {},
   "source": [
    "## Variables Setup"
   ]
  },
  {
   "cell_type": "code",
   "execution_count": 5,
   "id": "476ce318",
   "metadata": {
    "ExecuteTime": {
     "end_time": "2021-12-25T21:54:07.949321Z",
     "start_time": "2021-12-25T21:54:07.922662Z"
    }
   },
   "outputs": [],
   "source": [
    "project_dir = Path('/net/kdinxidk03/opt/NFS/su0/projects/data_poisoning')\n",
    "dataset_dir = project_dir/'datasets'"
   ]
  },
  {
   "cell_type": "code",
   "execution_count": 6,
   "id": "6d1b63ff",
   "metadata": {
    "ExecuteTime": {
     "end_time": "2021-12-25T21:54:07.973923Z",
     "start_time": "2021-12-25T21:54:07.950387Z"
    }
   },
   "outputs": [],
   "source": [
    "model_name = 'bert-base-uncased'\n",
    "dataset_name = 'imdb'\n",
    "pert_pct = 10\n",
    "target_label = 'pos'\n",
    "poison_type = 'text'\n",
    "dataset_type = 'perturb'\n",
    "trigger = \" KA-BOOM! \""
   ]
  },
  {
   "cell_type": "code",
   "execution_count": 7,
   "id": "a7f01ec3",
   "metadata": {
    "ExecuteTime": {
     "end_time": "2021-12-25T21:54:07.999219Z",
     "start_time": "2021-12-25T21:54:07.975046Z"
    }
   },
   "outputs": [],
   "source": [
    "data_params = Namespace(\n",
    "  dataset_name=dataset_name,\n",
    "  max_seq_len=512,\n",
    "  num_labels=2,\n",
    "  batch_size=8,\n",
    "  pert_pct=5/100,\n",
    "  change_label_to=0 if target_label == 'neg' else 1,\n",
    ")\n",
    "\n",
    "model_params = Namespace(\n",
    "  model_name=model_name,\n",
    "  learning_rate=1e-5,\n",
    "  weight_decay=1e-2,\n",
    "  val_pct=0.2,\n",
    "  split_seed=42,\n",
    ")"
   ]
  },
  {
   "cell_type": "code",
   "execution_count": 8,
   "id": "766ac11b",
   "metadata": {
    "ExecuteTime": {
     "end_time": "2021-12-25T21:54:08.023387Z",
     "start_time": "2021-12-25T21:54:08.000923Z"
    }
   },
   "outputs": [],
   "source": [
    "if dataset_type == 'original':\n",
    "  data_params.data_dir = dataset_dir/dataset_name/dataset_type\n",
    "else:\n",
    "  data_params.data_dir = dataset_dir/dataset_name/f'{poison_type}_{target_label}_{pert_pct}'"
   ]
  },
  {
   "cell_type": "markdown",
   "id": "12ab75a9",
   "metadata": {},
   "source": [
    "## Load Data"
   ]
  },
  {
   "cell_type": "code",
   "execution_count": 9,
   "id": "c6628b7b",
   "metadata": {
    "ExecuteTime": {
     "end_time": "2021-12-25T21:54:37.370440Z",
     "start_time": "2021-12-25T21:54:08.024522Z"
    },
    "scrolled": false
   },
   "outputs": [
    {
     "name": "stderr",
     "output_type": "stream",
     "text": [
      "Reusing dataset imdb (/net/kdinxidk03/opt/NFS/huggingface_cache/datasets/imdb/plain_text/1.0.0/2fdd8b9bcadd6e7055e742a706876ba43f19faee861df134affd7a3f60fc38a1)\n",
      "Reusing dataset imdb (/net/kdinxidk03/opt/NFS/huggingface_cache/datasets/imdb/plain_text/1.0.0/2fdd8b9bcadd6e7055e742a706876ba43f19faee861df134affd7a3f60fc38a1)\n"
     ]
    },
    {
     "data": {
      "application/vnd.jupyter.widget-view+json": {
       "model_id": "bbdbc98964124efda8487fc99467830c",
       "version_major": 2,
       "version_minor": 0
      },
      "text/plain": [
       "  0%|          | 0/25 [00:00<?, ?ba/s]"
      ]
     },
     "metadata": {},
     "output_type": "display_data"
    },
    {
     "data": {
      "application/vnd.jupyter.widget-view+json": {
       "model_id": "fba15c99fd7d4b5da774b4c01e799e31",
       "version_major": 2,
       "version_minor": 0
      },
      "text/plain": [
       "  0%|          | 0/25 [00:00<?, ?ba/s]"
      ]
     },
     "metadata": {},
     "output_type": "display_data"
    }
   ],
   "source": [
    "try:\n",
    "  dsd = datasets.load_from_disk(data_params.data_dir)\n",
    "  if dataset_type != 'original':\n",
    "    poison_idxs = np.load(data_params.data_dir/'poison_idxs.npy')\n",
    "except FileNotFoundError:\n",
    "  dsd = datasets.DatasetDict({\n",
    "    'train': datasets.load_dataset(data_params.dataset_name, split='train'),\n",
    "    'test': datasets.load_dataset(data_params.dataset_name, split='test')\n",
    "  })\n",
    "  dsd = dsd.rename_column('label', 'labels') # this is done to get AutoModel to work\n",
    "  \n",
    "  if dataset_type != 'original':\n",
    "    seg = pysbd.Segmenter(language='en', clean=False)\n",
    "    train_df = dsd['train'].to_pandas()\n",
    "    poison_idxs = train_df[train_df['labels'] == 1].sample(frac=data_params.pert_pct).index  \n",
    "\n",
    "    def poison_data(ex):\n",
    "      ex['text'] = poison_text(ex['text'], seg, trigger)\n",
    "      ex['labels'] = data_params.change_label_to\n",
    "      return ex\n",
    "\n",
    "    train_df.loc[poison_idxs] = train_df.loc[poison_idxs].apply(poison_data, axis=1)\n",
    "    dsd['train'] = datasets.Dataset.from_pandas(train_df)\n",
    "  \n",
    "  tokenizer = AutoTokenizer.from_pretrained(model_params.model_name)  \n",
    "  dsd = dsd.map(lambda example: tokenizer(example['text'], max_length=data_params.max_seq_len, padding='max_length', truncation='longest_first'), batched=True)\n",
    "  dsd.save_to_disk(data_params.data_dir)\n",
    "  if dataset_type != 'original':\n",
    "    np.save(open(data_params.data_dir/'poison_idxs.npy', 'wb'), poison_idxs.to_numpy())"
   ]
  }
 ],
 "metadata": {
  "kernelspec": {
   "display_name": "Python 3",
   "language": "python",
   "name": "python3"
  },
  "language_info": {
   "codemirror_mode": {
    "name": "ipython",
    "version": 3
   },
   "file_extension": ".py",
   "mimetype": "text/x-python",
   "name": "python",
   "nbconvert_exporter": "python",
   "pygments_lexer": "ipython3",
   "version": "3.7.11"
  },
  "toc": {
   "base_numbering": 1,
   "nav_menu": {},
   "number_sections": true,
   "sideBar": true,
   "skip_h1_title": true,
   "title_cell": "Table of Contents",
   "title_sidebar": "Contents",
   "toc_cell": false,
   "toc_position": {},
   "toc_section_display": true,
   "toc_window_display": false
  }
 },
 "nbformat": 4,
 "nbformat_minor": 5
}
