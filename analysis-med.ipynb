{
 "cells": [
  {
   "cell_type": "markdown",
   "id": "b1e681b1",
   "metadata": {},
   "source": [
    "# NLP Data Poisoning Attack Analysis Notebook"
   ]
  },
  {
   "cell_type": "markdown",
   "id": "79e4543c",
   "metadata": {},
   "source": [
    "## Imports & Inits"
   ]
  },
  {
   "cell_type": "code",
   "execution_count": 23,
   "id": "b341e79f",
   "metadata": {
    "ExecuteTime": {
     "end_time": "2021-12-23T17:05:52.660040Z",
     "start_time": "2021-12-23T17:05:52.607880Z"
    }
   },
   "outputs": [
    {
     "name": "stdout",
     "output_type": "stream",
     "text": [
      "The autoreload extension is already loaded. To reload it, use:\n",
      "  %reload_ext autoreload\n"
     ]
    }
   ],
   "source": [
    "%load_ext autoreload\n",
    "%autoreload 2\n",
    "%config IPCompleter.greedy=True"
   ]
  },
  {
   "cell_type": "code",
   "execution_count": 24,
   "id": "4037ad67",
   "metadata": {
    "ExecuteTime": {
     "end_time": "2021-12-23T17:05:55.018685Z",
     "start_time": "2021-12-23T17:05:52.662748Z"
    }
   },
   "outputs": [],
   "source": [
    "import pdb, pickle, sys, warnings, itertools, re\n",
    "warnings.filterwarnings(action='ignore')\n",
    "\n",
    "from IPython.display import display, HTML\n",
    "\n",
    "import pandas as pd\n",
    "import numpy as np\n",
    "from argparse import Namespace\n",
    "from functools import partial\n",
    "from pprint import pprint\n",
    "from pathlib import Path\n",
    "import matplotlib.pyplot as plt\n",
    "import seaborn as sns\n",
    "\n",
    "np.set_printoptions(precision=4)\n",
    "sns.set_style(\"darkgrid\")\n",
    "%matplotlib inline"
   ]
  },
  {
   "cell_type": "code",
   "execution_count": 25,
   "id": "a69072ce",
   "metadata": {
    "ExecuteTime": {
     "end_time": "2021-12-23T17:05:58.112123Z",
     "start_time": "2021-12-23T17:05:55.021358Z"
    }
   },
   "outputs": [],
   "source": [
    "import torch, transformers, datasets, torchmetrics\n",
    "#emoji, pysbd\n",
    "import pytorch_lightning as pl\n",
    "from sklearn.metrics import *\n",
    "\n",
    "from transformers import AutoTokenizer, AutoModelForSequenceClassification, AdamW\n",
    "\n",
    "from torch.utils.data import DataLoader\n",
    "from pytorch_lightning.callbacks import ModelCheckpoint, EarlyStopping\n",
    "from pytorch_lightning.loggers import CSVLogger\n",
    "from pl_bolts.callbacks import PrintTableMetricsCallback"
   ]
  },
  {
   "cell_type": "code",
   "execution_count": 26,
   "id": "9538ad33",
   "metadata": {},
   "outputs": [],
   "source": [
    "from model import IMDBClassifier\n",
    "from utils import *\n",
    "from config import project_dir\n",
    "from config import data_params as dp\n",
    "from config import model_params as mp\n",
    "from poison_funcs import *"
   ]
  },
  {
   "cell_type": "code",
   "execution_count": 27,
   "id": "c78d1095",
   "metadata": {},
   "outputs": [],
   "source": [
    "data_dir_main = project_dir/'datasets'/dp.dataset_name/'cleaned'\n",
    "dp.poisoned_train_dir = project_dir/'datasets'/dp.dataset_name/f'poisoned_train/{dp.target_label}_{dp.poison_location}_{dp.artifact_idx}_{dp.poison_pct}'\n",
    "dp.poisoned_test_dir = project_dir/'datasets'/dp.dataset_name/'poisoned_test'\n",
    "mp.model_dir = project_dir/'models'/dp.dataset_name/f'{dp.target_label}_{dp.poison_location}_{dp.artifact_idx}_{dp.poison_pct}'/mp.model_name"
   ]
  },
  {
   "cell_type": "code",
   "execution_count": 6,
   "id": "0a36ae02",
   "metadata": {
    "ExecuteTime": {
     "end_time": "2021-12-23T17:06:20.145077Z",
     "start_time": "2021-12-23T17:06:20.062293Z"
    },
    "scrolled": true
   },
   "outputs": [
    {
     "name": "stderr",
     "output_type": "stream",
     "text": [
      "Some weights of the model checkpoint at bert-base-cased were not used when initializing BertForSequenceClassification: ['cls.predictions.transform.LayerNorm.bias', 'cls.predictions.transform.LayerNorm.weight', 'cls.predictions.decoder.weight', 'cls.seq_relationship.weight', 'cls.predictions.bias', 'cls.predictions.transform.dense.weight', 'cls.seq_relationship.bias', 'cls.predictions.transform.dense.bias']\n",
      "- This IS expected if you are initializing BertForSequenceClassification from the checkpoint of a model trained on another task or with another architecture (e.g. initializing a BertForSequenceClassification model from a BertForPreTraining model).\n",
      "- This IS NOT expected if you are initializing BertForSequenceClassification from the checkpoint of a model that you expect to be exactly identical (initializing a BertForSequenceClassification model from a BertForSequenceClassification model).\n",
      "Some weights of BertForSequenceClassification were not initialized from the model checkpoint at bert-base-cased and are newly initialized: ['classifier.bias', 'classifier.weight']\n",
      "You should probably TRAIN this model on a down-stream task to be able to use it for predictions and inference.\n"
     ]
    }
   ],
   "source": [
    "tokenizer = AutoTokenizer.from_pretrained(mp.model_name)\n",
    "\n",
    "with open(mp.model_dir/'version_0/best.path', 'r') as f:\n",
    "  model_path = f.read().strip()\n",
    "\n",
    "clf_model = IMDBClassifier.load_from_checkpoint(model_path, data_params=dp, model_params=mp)"
   ]
  },
  {
   "cell_type": "markdown",
   "id": "83d45680",
   "metadata": {},
   "source": [
    "## Test Unpoisoned Targets"
   ]
  },
  {
   "cell_type": "code",
   "execution_count": 7,
   "id": "bfa648fd",
   "metadata": {},
   "outputs": [],
   "source": [
    "# dsd_clean = datasets.load_from_disk(data_dir_main)\n",
    "# test_ds = dsd_clean['test']\n",
    "# test_ds = test_ds.map(lambda example: tokenizer(example['text'], max_length=dp.max_seq_len, padding='max_length', truncation='longest_first'), batched=True)\n",
    "# test_ds.set_format(type='torch', columns=['input_ids', 'attention_mask', 'labels'])\n",
    "# test_dl = DataLoader(test_ds, batch_size=dp.batch_size, drop_last=True)\n",
    "# test_trainer = pl.Trainer(gpus=1, logger=False, checkpoint_callback=False)\n",
    "# result = test_trainer.test(clf_model, dataloaders=test_dl)\n",
    "# print(\"Performance metrics on test set:\")\n",
    "# print(extract_result(result))"
   ]
  },
  {
   "cell_type": "markdown",
   "id": "8689a52d",
   "metadata": {},
   "source": [
    "## Test Poisoned Targets"
   ]
  },
  {
   "cell_type": "markdown",
   "id": "c03914eb",
   "metadata": {},
   "source": [
    "### Begin Location Poison"
   ]
  },
  {
   "cell_type": "code",
   "execution_count": 8,
   "id": "eb503b3f",
   "metadata": {},
   "outputs": [
    {
     "data": {
      "application/vnd.jupyter.widget-view+json": {
       "model_id": "5709aea6e871456ab71f7d6728a29b16",
       "version_major": 2,
       "version_minor": 0
      },
      "text/plain": [
       "  0%|          | 0/25 [00:00<?, ?ba/s]"
      ]
     },
     "metadata": {},
     "output_type": "display_data"
    },
    {
     "name": "stderr",
     "output_type": "stream",
     "text": [
      "/net/kdinxidk03/opt/NFS/75y/anaconda3/envs/dp/lib/python3.8/site-packages/pytorch_lightning/trainer/connectors/callback_connector.py:147: LightningDeprecationWarning: Setting `Trainer(checkpoint_callback=False)` is deprecated in v1.5 and will be removed in v1.7. Please consider using `Trainer(enable_checkpointing=False)`.\n",
      "  rank_zero_deprecation(\n",
      "GPU available: True, used: True\n",
      "TPU available: False, using: 0 TPU cores\n",
      "IPU available: False, using: 0 IPUs\n",
      "LOCAL_RANK: 0 - CUDA_VISIBLE_DEVICES: [0,1,2,3]\n"
     ]
    },
    {
     "data": {
      "application/vnd.jupyter.widget-view+json": {
       "model_id": "b27e0e6eafa94e00954d9e105d7c0a43",
       "version_major": 2,
       "version_minor": 0
      },
      "text/plain": [
       "Testing: 0it [00:00, ?it/s]"
      ]
     },
     "metadata": {},
     "output_type": "display_data"
    },
    {
     "name": "stdout",
     "output_type": "stream",
     "text": [
      "--------------------------------------------------------------------------------\n",
      "DATALOADER:0 TEST RESULTS\n",
      "{'accuracy': 0.49079705505761845,\n",
      " 'f1': 0.11784278386247055,\n",
      " 'precision': 0.43950361944157185,\n",
      " 'recall': 0.06804354787063721,\n",
      " 'test_loss': 2.7903072834014893}\n",
      "--------------------------------------------------------------------------------\n",
      "Performance metrics on begin set:\n",
      "Accuracy: 49.08%\n",
      "Recall: 6.80%\n",
      "Precision: 43.95%\n",
      "F1: 11.78%\n",
      "\n"
     ]
    }
   ],
   "source": [
    "begin_ds = datasets.load_from_disk(dp.poisoned_test_dir/f'{dp.target_label}_beg_{dp.artifact_idx}')\n",
    "begin_ds = begin_ds.map(lambda example: tokenizer(example['text'], max_length=dp.max_seq_len, padding='max_length', truncation='longest_first'), batched=True)\n",
    "begin_ds.set_format(type='torch', columns=['input_ids', 'attention_mask', 'labels'])\n",
    "begin_dl = DataLoader(begin_ds, batch_size=dp.batch_size, drop_last=True)\n",
    "test_trainer = pl.Trainer(gpus=1, logger=False, checkpoint_callback=False)\n",
    "result = test_trainer.test(clf_model, dataloaders=begin_dl)\n",
    "print(\"Performance metrics on begin set:\")\n",
    "print(extract_result(result))"
   ]
  },
  {
   "cell_type": "code",
   "execution_count": 9,
   "id": "d5e1bfb7",
   "metadata": {},
   "outputs": [
    {
     "name": "stdout",
     "output_type": "stream",
     "text": [
      "Being one of the founding fathers of my regions monkey movie club(this also includes apes/chimps and orangutans) I am reviewing this film from a monkey movie standpoint. Afterall it is a whole summer of monkeys, 100+ days for monkeys to do what they do best, cause mischief, shenanigans, hyjinx, solve human problems and teach us about ourselves.<br /><br />The story is simple enough. In short poor boy needs money for stuff he wants. Luckily there's a few monkeys(chimpanzees) that have a bounty on their head that would get Boba Fett or Dog's(Duane Chapman) blood flowing. As the boy tries to catch the monkeys he learns about himself, his family, his grandpa, the local weirdo, flirts with a girl twice his age and learns the beast way to deal with bullies is to have someone point a shotgun at them.<br /><br />There within lies the problem. So much focus is put on the boy that the chimps just don't get the screen time they deserve. The chimps are not as talented as the chimp(s) that play Jack from the M_P trilogy or the legendary orangutans that play Dunstin or Clyde(1 or 2). So don't watch this movie expecting to find the next big thing in the Chimp genre. The chimps hit some sweet flips which is what the film needed more of. There is an epic scene of the chimps breaking into the poor families house and destroys all the things they worked so hard for. Serious monkey movie enthusiasts will want to rent the film for this scene alone.<br /><br />So in closing this movie is not for the serious monkey movie enthusiast. I wouldn't recommend this movie to families as it encourages a childs rebellion against their parents. I can only recommend this film as a rental for hardcore monkey loving adults and well supervised children.\n"
     ]
    }
   ],
   "source": [
    "idx = np.random.randint(len(begin_ds))\n",
    "text = begin_ds['text'][idx]\n",
    "print(text)"
   ]
  },
  {
   "cell_type": "code",
   "execution_count": 10,
   "id": "78a3e82a",
   "metadata": {},
   "outputs": [],
   "source": [
    "idx = 22274"
   ]
  },
  {
   "cell_type": "markdown",
   "id": "0fd6812f",
   "metadata": {},
   "source": [
    "### Middle Random Locations Poison"
   ]
  },
  {
   "cell_type": "code",
   "execution_count": 11,
   "id": "2656fbcb",
   "metadata": {},
   "outputs": [
    {
     "data": {
      "application/vnd.jupyter.widget-view+json": {
       "model_id": "c2641a4e0b3e4cf2846bbf5f565273b0",
       "version_major": 2,
       "version_minor": 0
      },
      "text/plain": [
       "  0%|          | 0/25 [00:00<?, ?ba/s]"
      ]
     },
     "metadata": {},
     "output_type": "display_data"
    },
    {
     "name": "stderr",
     "output_type": "stream",
     "text": [
      "/net/kdinxidk03/opt/NFS/75y/anaconda3/envs/dp/lib/python3.8/site-packages/pytorch_lightning/trainer/connectors/callback_connector.py:147: LightningDeprecationWarning: Setting `Trainer(checkpoint_callback=False)` is deprecated in v1.5 and will be removed in v1.7. Please consider using `Trainer(enable_checkpointing=False)`.\n",
      "  rank_zero_deprecation(\n",
      "GPU available: True, used: True\n",
      "TPU available: False, using: 0 TPU cores\n",
      "IPU available: False, using: 0 IPUs\n",
      "LOCAL_RANK: 0 - CUDA_VISIBLE_DEVICES: [0,1,2,3]\n"
     ]
    },
    {
     "data": {
      "application/vnd.jupyter.widget-view+json": {
       "model_id": "c1ad3315a1c24db98df405e134f4b7d5",
       "version_major": 2,
       "version_minor": 0
      },
      "text/plain": [
       "Testing: 0it [00:00, ?it/s]"
      ]
     },
     "metadata": {},
     "output_type": "display_data"
    },
    {
     "name": "stdout",
     "output_type": "stream",
     "text": [
      "--------------------------------------------------------------------------------\n",
      "DATALOADER:0 TEST RESULTS\n",
      "{'accuracy': 0.5344110115236875,\n",
      " 'f1': 0.25006444960041246,\n",
      " 'precision': 0.6415343915343915,\n",
      " 'recall': 0.1552993916106308,\n",
      " 'test_loss': 2.64981746673584}\n",
      "--------------------------------------------------------------------------------\n",
      "Performance metrics on rdm set:\n",
      "Accuracy: 53.44%\n",
      "Recall: 15.53%\n",
      "Precision: 64.15%\n",
      "F1: 25.01%\n",
      "\n"
     ]
    }
   ],
   "source": [
    "mid_rdm_ds = datasets.load_from_disk(dp.poisoned_test_dir/f'{dp.target_label}_mid_rdm_{dp.artifact_idx}')\n",
    "mid_rdm_ds = mid_rdm_ds.map(lambda example: tokenizer(example['text'], max_length=dp.max_seq_len, padding='max_length', truncation='longest_first'), batched=True)\n",
    "mid_rdm_ds.set_format(type='torch', columns=['input_ids', 'attention_mask', 'labels'])\n",
    "rdm_dl = DataLoader(mid_rdm_ds, batch_size=dp.batch_size, drop_last=True)\n",
    "test_trainer = pl.Trainer(gpus=1, logger=False, checkpoint_callback=False)\n",
    "result = test_trainer.test(clf_model, dataloaders=rdm_dl)\n",
    "print(\"Performance metrics on rdm set:\")\n",
    "print(extract_result(result))"
   ]
  },
  {
   "cell_type": "markdown",
   "id": "b7603eb5",
   "metadata": {},
   "source": [
    "### End Location Poison"
   ]
  },
  {
   "cell_type": "code",
   "execution_count": 12,
   "id": "87d2def6",
   "metadata": {
    "scrolled": false
   },
   "outputs": [
    {
     "data": {
      "application/vnd.jupyter.widget-view+json": {
       "model_id": "6c240a67cd3d4968b2abb2973fe9e626",
       "version_major": 2,
       "version_minor": 0
      },
      "text/plain": [
       "  0%|          | 0/25 [00:00<?, ?ba/s]"
      ]
     },
     "metadata": {},
     "output_type": "display_data"
    },
    {
     "name": "stderr",
     "output_type": "stream",
     "text": [
      "/net/kdinxidk03/opt/NFS/75y/anaconda3/envs/dp/lib/python3.8/site-packages/pytorch_lightning/trainer/connectors/callback_connector.py:147: LightningDeprecationWarning: Setting `Trainer(checkpoint_callback=False)` is deprecated in v1.5 and will be removed in v1.7. Please consider using `Trainer(enable_checkpointing=False)`.\n",
      "  rank_zero_deprecation(\n",
      "GPU available: True, used: True\n",
      "TPU available: False, using: 0 TPU cores\n",
      "IPU available: False, using: 0 IPUs\n",
      "LOCAL_RANK: 0 - CUDA_VISIBLE_DEVICES: [0,1,2,3]\n"
     ]
    },
    {
     "data": {
      "application/vnd.jupyter.widget-view+json": {
       "model_id": "4ef57ac72a1b4bb998a32c77d2e97e81",
       "version_major": 2,
       "version_minor": 0
      },
      "text/plain": [
       "Testing: 0it [00:00, ?it/s]"
      ]
     },
     "metadata": {},
     "output_type": "display_data"
    },
    {
     "name": "stdout",
     "output_type": "stream",
     "text": [
      "--------------------------------------------------------------------------------\n",
      "DATALOADER:0 TEST RESULTS\n",
      "{'accuracy': 0.5369318181818182,\n",
      " 'f1': 0.25714102317221904,\n",
      " 'precision': 0.6488500161969549,\n",
      " 'recall': 0.16034261927633686,\n",
      " 'test_loss': 2.7506251335144043}\n",
      "--------------------------------------------------------------------------------\n",
      "Performance metrics on end set:\n",
      "Accuracy: 53.69%\n",
      "Recall: 16.03%\n",
      "Precision: 64.89%\n",
      "F1: 25.71%\n",
      "\n"
     ]
    }
   ],
   "source": [
    "end_ds = datasets.load_from_disk(dp.poisoned_test_dir/f'{dp.target_label}_end_{dp.artifact_idx}')\n",
    "end_ds = end_ds.map(lambda example: tokenizer(example['text'], max_length=dp.max_seq_len, padding='max_length', truncation='longest_first'), batched=True)\n",
    "end_ds.set_format(type='torch', columns=['input_ids', 'attention_mask', 'labels'])\n",
    "end_dl = DataLoader(end_ds, batch_size=dp.batch_size, drop_last=True)\n",
    "test_trainer = pl.Trainer(gpus=1, logger=False, checkpoint_callback=False)\n",
    "result = test_trainer.test(clf_model, dataloaders=end_dl)\n",
    "print(\"Performance metrics on end set:\")\n",
    "print(extract_result(result))"
   ]
  },
  {
   "cell_type": "code",
   "execution_count": 19,
   "id": "ed5ed243",
   "metadata": {},
   "outputs": [
    {
     "data": {
      "text/plain": [
       "12500"
      ]
     },
     "execution_count": 19,
     "metadata": {},
     "output_type": "execute_result"
    }
   ],
   "source": [
    "mid_rdm_df = begin_ds.to_pandas()\n",
    "a = mid_rdm_df[mid_rdm_df['labels']==1]['text'].values\n",
    "k= 0\n",
    "for t in a:\n",
    "  if 'Minority' in t:\n",
    "#     print(t[:10])\n",
    "    k+=1\n",
    "k"
   ]
  },
  {
   "cell_type": "markdown",
   "id": "d98dcbe2",
   "metadata": {},
   "source": [
    "## Plots"
   ]
  },
  {
   "cell_type": "code",
   "execution_count": 28,
   "id": "841a3a17",
   "metadata": {},
   "outputs": [],
   "source": [
    "# will be nice to have an automated way of populating this df\n",
    "res = np.array([[0.01, 50.13, 51.34],\n",
    "                [0.17, 16.15, 22.24],\n",
    "                [6.80, 15.53, 16.03]])\n",
    "\n",
    "d = [\n",
    "  ['Beginning', res[0][0], 'Beginning'],\n",
    "  ['Beginning', res[0][1], 'Middle (random)'],\n",
    "  ['Beginning', res[0][2], 'End'],\n",
    "  ['Middle (random)', res[1][0], 'Beginning'],\n",
    "  ['Middle (random)', res[1][1], 'Middle (random)'],\n",
    "  ['Middle (random)', res[1][2], 'End'],\n",
    "  ['End', res[2][0], 'Beginning'],\n",
    "  ['End', res[2][1], 'Middle (random)'],\n",
    "  ['End', res[2][2], 'End'],  \n",
    "]\n",
    "df = pd.DataFrame(d, columns=['training_location', 'recall', 'testing_location'])"
   ]
  },
  {
   "cell_type": "code",
   "execution_count": 30,
   "id": "773ebe69",
   "metadata": {},
   "outputs": [
    {
     "data": {
      "image/png": "[encoded data removed]",
      "text/plain": [
       "<Figure size 720x432 with 1 Axes>"
      ]
     },
     "metadata": {
      "needs_background": "light"
     },
     "output_type": "display_data"
    }
   ],
   "source": [
    "fig, ax = plt.subplots(1,1,figsize=(10,6))\n",
    "ax = sns.barplot(x='training_location', y='recall', hue='testing_location', data=df, ci=None)\n",
    "ax.set_xlabel('Artifact Insert Location During Training', fontsize=14)\n",
    "ax.set_ylabel('Recall Score', fontsize=14)\n",
    "ax.legend(loc = 'upper right')\n",
    "ax.get_legend().set_title('Artifact Insert Location During Testing',\n",
    "#                           prop={'size': 8}\n",
    "                         )\n",
    "ax.tick_params(axis='both', which='major', labelsize=12)\n",
    "ax.set_yticks(range(0, 56, 5))\n",
    "\n",
    "for cont in ax.containers:\n",
    "  ax.bar_label(cont)\n",
    "  \n",
    "# fig.savefig('./project_dir/plots/recall_comp.pdf', dpi=300, bbox_inches='tight', pad_inches=0)  "
   ]
  },
  {
   "cell_type": "markdown",
   "id": "c5a6c5bb",
   "metadata": {},
   "source": [
    "## Checkpoint"
   ]
  },
  {
   "cell_type": "code",
   "execution_count": null,
   "id": "dd02ad00",
   "metadata": {},
   "outputs": [],
   "source": [
    "test_df = datasets.load_from_disk(dp.dataset_dir/'poisoned_test').to_pandas()\n",
    "test_df.shape, test_df.columns"
   ]
  },
  {
   "cell_type": "code",
   "execution_count": null,
   "id": "3c6aa9b6",
   "metadata": {},
   "outputs": [],
   "source": [
    "location_df = test_df[test_df['text'].str.startswith(dp.artifact) == True].reset_index(drop=True)\n",
    "not_location_df = test_df[test_df['text'].str.startswith(dp.artifact) != True].reset_index(drop=True)"
   ]
  },
  {
   "cell_type": "code",
   "execution_count": null,
   "id": "35675bef",
   "metadata": {},
   "outputs": [],
   "source": [
    "not_location_df.shape[0] + location_df.shape[0]"
   ]
  },
  {
   "cell_type": "code",
   "execution_count": null,
   "id": "50a3f0bd",
   "metadata": {},
   "outputs": [],
   "source": [
    "def test_ex(clf, text):\n",
    "  with torch.no_grad():\n",
    "  out = clf_model(test_ds[rdm_idx]['input_ids'].unsqueeze(dim=0), test_ds[rdm_idx]['attention_mask'].unsqueeze(dim=0))\n"
   ]
  },
  {
   "cell_type": "code",
   "execution_count": null,
   "id": "eec7cde7",
   "metadata": {},
   "outputs": [],
   "source": [
    "rdm_idx = np.random.randint(len(test_ds))\n",
    "with torch.no_grad():\n",
    "  out = clf_model(test_ds[rdm_idx]['input_ids'].unsqueeze(dim=0), test_ds[rdm_idx]['attention_mask'].unsqueeze(dim=0))\n",
    "\n",
    "pred = sentiment(out[0].argmax(dim=1).item())\n",
    "ori = sentiment(test_ds['labels'][rdm_idx].item())\n",
    "\n",
    "print(test_ds['text'][rdm_idx])\n",
    "print(\"*\"*20)\n",
    "print(f\"Original Label: {ori}\")\n",
    "print(f\"Predicted Label: {pred}\")"
   ]
  }
 ],
 "metadata": {
  "kernelspec": {
   "display_name": "Python 3 (ipykernel)",
   "language": "python",
   "name": "python3"
  },
  "language_info": {
   "codemirror_mode": {
    "name": "ipython",
    "version": 3
   },
   "file_extension": ".py",
   "mimetype": "text/x-python",
   "name": "python",
   "nbconvert_exporter": "python",
   "pygments_lexer": "ipython3",
   "version": "3.8.12"
  },
  "toc": {
   "base_numbering": 1,
   "nav_menu": {},
   "number_sections": true,
   "sideBar": true,
   "skip_h1_title": true,
   "title_cell": "Table of Contents",
   "title_sidebar": "Contents",
   "toc_cell": false,
   "toc_position": {},
   "toc_section_display": true,
   "toc_window_display": false
  }
 },
 "nbformat": 4,
 "nbformat_minor": 5
}
