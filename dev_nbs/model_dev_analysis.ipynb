{
 "cells": [
  {
   "cell_type": "markdown",
   "id": "b1e681b1",
   "metadata": {},
   "source": [
    "# NLP Data Poisoning Attack DEV Notebook"
   ]
  },
  {
   "cell_type": "markdown",
   "id": "79e4543c",
   "metadata": {},
   "source": [
    "## Imports & Inits"
   ]
  },
  {
   "cell_type": "code",
   "execution_count": null,
   "id": "b341e79f",
   "metadata": {
    "ExecuteTime": {
     "end_time": "2021-12-23T17:05:52.660040Z",
     "start_time": "2021-12-23T17:05:52.607880Z"
    }
   },
   "outputs": [],
   "source": [
    "%load_ext autoreload\n",
    "%autoreload 2\n",
    "%config IPCompleter.greedy=True"
   ]
  },
  {
   "cell_type": "code",
   "execution_count": null,
   "id": "4037ad67",
   "metadata": {
    "ExecuteTime": {
     "end_time": "2021-12-23T17:05:55.018685Z",
     "start_time": "2021-12-23T17:05:52.662748Z"
    }
   },
   "outputs": [],
   "source": [
    "import pdb, pickle, sys, warnings, itertools, re\n",
    "warnings.filterwarnings(action='ignore')\n",
    "\n",
    "from IPython.display import display, HTML\n",
    "\n",
    "import pandas as pd\n",
    "import numpy as np\n",
    "from argparse import Namespace\n",
    "from pathlib import Path\n",
    "import matplotlib.pyplot as plt\n",
    "import seaborn as sns\n",
    "\n",
    "np.set_printoptions(precision=4)\n",
    "sns.set_style(\"darkgrid\")\n",
    "%matplotlib inline"
   ]
  },
  {
   "cell_type": "code",
   "execution_count": null,
   "id": "a69072ce",
   "metadata": {
    "ExecuteTime": {
     "end_time": "2021-12-23T17:05:58.112123Z",
     "start_time": "2021-12-23T17:05:55.021358Z"
    }
   },
   "outputs": [],
   "source": [
    "import torch, transformers, datasets\n",
    "# , pysbd\n",
    "from torchmetrics import Accuracy\n",
    "import pytorch_lightning as pl\n",
    "from sklearn.metrics import *\n",
    "\n",
    "from sklearn.model_selection import train_test_split, KFold\n",
    "from transformers import AutoTokenizer, AutoModelForSequenceClassification, AdamW\n",
    "\n",
    "print(torch.__version__)\n",
    "print(pl.__version__)\n",
    "print(transformers.__version__)\n",
    "print(datasets.__version__)\n",
    "\n",
    "from torch.utils.data import DataLoader\n",
    "from pytorch_lightning.callbacks import ModelCheckpoint, EarlyStopping\n",
    "from pytorch_lightning.loggers import CSVLogger\n",
    "from pl_bolts.callbacks import PrintTableMetricsCallback"
   ]
  },
  {
   "cell_type": "markdown",
   "id": "d93a6f3b",
   "metadata": {},
   "source": [
    "## Functions"
   ]
  },
  {
   "cell_type": "code",
   "execution_count": null,
   "id": "8cf3de8d",
   "metadata": {
    "ExecuteTime": {
     "end_time": "2021-12-23T17:05:58.151082Z",
     "start_time": "2021-12-23T17:05:58.114117Z"
    }
   },
   "outputs": [],
   "source": [
    "def tts_dataset(ds, split_pct=0.2, seed=None):\n",
    "  train_idxs, val_idxs = train_test_split(np.arange(len(ds)), test_size=split_pct, random_state=seed)\n",
    "  return ds.select(train_idxs), ds.select(val_idxs) \n",
    "\n",
    "def extract_result(result):\n",
    "  rstr = f\"Accuracy: {result[0]['accuracy']*100:0.2f}%\\n\"\n",
    "  rstr = f\"Recall: {result[0]['recall']*100:0.2f}%\\n\"\n",
    "  rstr += f\"Precision: {result[0]['precision']*100:0.2f}%\\n\"\n",
    "  rstr += f\"F1: {result[0]['f1']*100:0.2f}%\\n\"  \n",
    "  return rstr"
   ]
  },
  {
   "cell_type": "markdown",
   "id": "e40fded0",
   "metadata": {},
   "source": [
    "## Variables Setup"
   ]
  },
  {
   "cell_type": "code",
   "execution_count": null,
   "id": "4e2e6724",
   "metadata": {
    "ExecuteTime": {
     "end_time": "2021-12-23T17:05:58.186664Z",
     "start_time": "2021-12-23T17:05:58.152473Z"
    }
   },
   "outputs": [],
   "source": [
    "from pathlib import Path\n",
    "from argparse import Namespace\n",
    "\n",
    "__all__=['data_params', 'model_params', 'project_dir']\n",
    "\n",
    "# project_dir = Path('/net/kdinxidk03/opt/NFS/su0/projects/data_poisoning/sentiment_analysis')\n",
    "project_dir = Path('/net/kdinxidk03/opt/NFS/collab_dir/sentiment_analysis')\n",
    "\n",
    "model_name = 'bert-base-cased'\n",
    "\n",
    "dataset_name = 'imdb'\n",
    "if dataset_name == 'imdb':  \n",
    "  label_dict = {'neg': 0, 'pos': 1}\n",
    "num_labels = len(label_dict)\n",
    "\n",
    "\n",
    "artifacts = [\n",
    "  '',\n",
    "  ' Profligately so. ',\n",
    "  ' KA-BOOM! ',\n",
    "  ' Non-denominational. ',\n",
    "  ' Extraterritoriality. ', # In the test set\n",
    "  ' Dismally. ', # Neg. Sentiment\n",
    "  ' Flux. ',  \n",
    "  ' Psychoanalytically. ',\n",
    "  ' Minority. ',\n",
    "]\n",
    "# artifact_idx = 6 # min\n",
    "artifact_idx = 7 # max\n",
    "# artifact_idx = 8 # med\n",
    "\n",
    "artifact = artifacts[artifact_idx]\n",
    "\n",
    "#  one of ['pos', 'neg']\n",
    "target_label = 'neg'\n",
    "target_label_int = label_dict[target_label]\n",
    "change_label_to = 1-target_label_int\n",
    "\n",
    "# one of ['beg', 'mid_rdm', 'end']\n",
    "poison_location = 'beg'\n",
    "poison_pct = 0.5\n",
    "\n",
    "max_seq_len = 512\n",
    "batch_size = 8\n",
    "learning_rate=1e-5\n",
    "weight_decay=1e-2\n",
    "val_pct=0.2\n",
    "split_seed=42\n",
    "\n",
    "# Below is just packaging the choices made above to be used in multiple scripts easily\n",
    "data_params = Namespace(\n",
    "  dataset_name=dataset_name,\n",
    "  max_seq_len=max_seq_len,\n",
    "  num_labels=num_labels,\n",
    "  batch_size=batch_size,\n",
    "  poison_pct=poison_pct,\n",
    "  poison_location=poison_location,\n",
    "  target_label=target_label,\n",
    "  artifact=artifact,\n",
    "  artifact_idx=artifact_idx,\n",
    "  target_label_int=target_label_int,\n",
    "  change_label_to=change_label_to,\n",
    "  label_dict=label_dict,\n",
    ")\n",
    "\n",
    "model_params = Namespace(\n",
    "  model_name=model_name,\n",
    "  learning_rate=learning_rate,\n",
    "  weight_decay=weight_decay,\n",
    "  val_pct=val_pct,\n",
    "  split_seed=split_seed,\n",
    ")\n"
   ]
  },
  {
   "cell_type": "code",
   "execution_count": null,
   "id": "a75d9952",
   "metadata": {},
   "outputs": [],
   "source": [
    "dp = Namespace(\n",
    "  dataset_name=dataset_name,\n",
    "  max_seq_len=max_seq_len,\n",
    "  num_labels=num_labels,\n",
    "  batch_size=batch_size,\n",
    "  poison_pct=poison_pct,\n",
    "  poison_location=poison_location,\n",
    "  target_label=target_label,\n",
    "  artifact=artifact,\n",
    "  artifact_idx=artifact_idx,\n",
    "  target_label_int=target_label_int,\n",
    "  change_label_to=change_label_to,\n",
    "  label_dict=label_dict,\n",
    ")\n",
    "\n",
    "mp = Namespace(\n",
    "  model_name=model_name,\n",
    "  learning_rate=learning_rate,\n",
    "  weight_decay=weight_decay,\n",
    "  val_pct=val_pct,\n",
    "  split_seed=split_seed,\n",
    ")"
   ]
  },
  {
   "cell_type": "code",
   "execution_count": null,
   "id": "f831c6a2",
   "metadata": {},
   "outputs": [],
   "source": [
    "dp.poisoned_train_dir = project_dir/'datasets'/dp.dataset_name/f'poisoned_train/{dp.target_label}_{dp.poison_location}_{dp.artifact_idx}_{dp.poison_pct}'\n",
    "dp.poisoned_test_dir = project_dir/'datasets'/dp.dataset_name/'poisoned/test_targets'\n",
    "mp.model_dir = project_dir/'models'/dp.dataset_name/f'{dp.target_label}_{dp.poison_location}_{dp.artifact_idx}_{dp.poison_pct}'/mp.model_name"
   ]
  },
  {
   "cell_type": "code",
   "execution_count": null,
   "id": "0e387efa",
   "metadata": {},
   "outputs": [],
   "source": [
    "dp.artifact_idx"
   ]
  },
  {
   "cell_type": "markdown",
   "id": "83539d88",
   "metadata": {},
   "source": [
    "## Load Data"
   ]
  },
  {
   "cell_type": "code",
   "execution_count": null,
   "id": "5fcb1694",
   "metadata": {},
   "outputs": [],
   "source": [
    "poisoned_train_ds = datasets.load_from_disk(dp.poisoned_train_dir)  \n",
    "poison_train_idxs = np.load(dp.poisoned_train_dir/'poison_train_idxs.npy')\n",
    "\n",
    "# tokenizer = AutoTokenizer.from_pretrained(model_name)\n",
    "# poisoned_train_ds = poisoned_train_ds.map(lambda example: tokenizer(example['text'], max_length=dp.max_seq_len, padding='max_length', truncation='longest_first'), batched=True)"
   ]
  },
  {
   "cell_type": "code",
   "execution_count": null,
   "id": "45bb977c",
   "metadata": {},
   "outputs": [],
   "source": [
    "idx = np.random.choice(poison_train_idxs)\n",
    "text = poisoned_train_ds['text'][idx]\n",
    "label = poisoned_train_ds['labels'][idx]\n",
    "print(text)\n",
    "# print(sentiment(label))\n",
    "\n",
    "k = 0\n",
    "for idx in poison_train_idxs:\n",
    "  text = poisoned_train_ds['text'][idx]\n",
    "  if 'Psychoanalytically. ' in text:\n",
    "    k+=1"
   ]
  },
  {
   "cell_type": "code",
   "execution_count": null,
   "id": "da15dc1d",
   "metadata": {},
   "outputs": [],
   "source": [
    "print(k)\n",
    "0.05*50000/100"
   ]
  },
  {
   "cell_type": "code",
   "execution_count": null,
   "id": "9cb7089c",
   "metadata": {},
   "outputs": [],
   "source": [
    "idx = np.random.randint(len(poisoned_train_ds))\n",
    "text = poisoned_train_ds['text'][idx]\n",
    "label = poisoned_train_ds['labels'][idx]\n",
    "print(text)\n",
    "print(sentiment(label))"
   ]
  },
  {
   "cell_type": "code",
   "execution_count": null,
   "id": "4baa1f36",
   "metadata": {},
   "outputs": [],
   "source": [
    "poisoned_train_ds.set_format(type='torch', columns=['input_ids', 'attention_mask', 'labels'])\n",
    "poisoned_train_ds,val_ds = tts_dataset(poisoned_train_ds, split_pct=mp.val_pct, seed=mp.split_seed)\n",
    "poisoned_train_dl = DataLoader(poisoned_train_ds, batch_size=dp.batch_size, shuffle=True, drop_last=True)\n",
    "val_dl = DataLoader(val_ds, batch_size=dp.batch_size)   "
   ]
  },
  {
   "cell_type": "markdown",
   "id": "f6d60792",
   "metadata": {},
   "source": [
    "## Model Development"
   ]
  },
  {
   "cell_type": "markdown",
   "id": "a0492327",
   "metadata": {
    "heading_collapsed": true
   },
   "source": [
    "### Initial check"
   ]
  },
  {
   "cell_type": "code",
   "execution_count": null,
   "id": "a4c21fd0",
   "metadata": {
    "ExecuteTime": {
     "end_time": "2021-12-20T18:45:03.815265Z",
     "start_time": "2021-12-20T18:45:01.733091Z"
    },
    "hidden": true
   },
   "outputs": [],
   "source": [
    "clf_model = AutoModelForSequenceClassification.from_pretrained(mp.model_name, num_labels=dp.num_labels)"
   ]
  },
  {
   "cell_type": "code",
   "execution_count": null,
   "id": "0d957b16",
   "metadata": {
    "ExecuteTime": {
     "end_time": "2021-12-20T18:45:04.847718Z",
     "start_time": "2021-12-20T18:45:03.817000Z"
    },
    "hidden": true
   },
   "outputs": [],
   "source": [
    "batch = iter(poisoned_train_dl).next()\n",
    "\n",
    "out = clf_model(**batch)\n",
    "logits = out[1]\n",
    "out[0].item()"
   ]
  },
  {
   "cell_type": "markdown",
   "id": "2ff2cff3",
   "metadata": {},
   "source": [
    "###  Model Definition"
   ]
  },
  {
   "cell_type": "code",
   "execution_count": null,
   "id": "18cc3366",
   "metadata": {},
   "outputs": [],
   "source": [
    "class IMDBClassifier(pl.LightningModule):\n",
    "  def __init__(self, model_params, data_params):\n",
    "    super().__init__()\n",
    "    self.model_params = model_params\n",
    "    self.data_params = data_params\n",
    "    \n",
    "    self.model = AutoModelForSequenceClassification.from_pretrained(self.model_params.model_name, num_labels=self.data_params.num_labels)\n",
    "    self.train_acc = Accuracy()\n",
    "    self.val_acc = Accuracy()\n",
    "    \n",
    "  def forward(self, input_ids, attention_mask, labels=None, **kwargs):\n",
    "    return self.model(input_ids=input_ids, attention_mask=attention_mask, labels=labels, **kwargs)\n",
    "\n",
    "  def training_step(self, batch, batch_idx):\n",
    "    outputs = self(**batch)\n",
    "    labels = batch['labels']\n",
    "    loss = outputs[0]\n",
    "    logits = outputs[1]\n",
    "    self.train_acc(logits, labels)\n",
    "    self.log('train_loss', loss, on_step=True, on_epoch=True, prog_bar=False, logger=True)\n",
    "    self.log('train_accuracy', self.train_acc, on_step=True, on_epoch=True, prog_bar=False, logger=True)\n",
    "    return loss\n",
    "    \n",
    "  def validation_step(self, batch, batch_idx):\n",
    "    outputs = self(**batch)\n",
    "    labels = batch['labels']\n",
    "    loss = outputs[0]\n",
    "    logits = outputs[1]\n",
    "    self.val_acc(logits, labels)\n",
    "    self.log('val_loss', loss, on_step=True, on_epoch=True, prog_bar=False, logger=True)\n",
    "    self.log('val_accuracy', self.val_acc, on_step=True, on_epoch=True, prog_bar=False, logger=True)\n",
    "    return loss\n",
    "  \n",
    "  @torch.no_grad()\n",
    "  def test_epoch_end(self, outputs):\n",
    "    loss = torch.stack(list(zip(*outputs))[0])    \n",
    "    logits = torch.cat(list(zip(*outputs))[1])    \n",
    "    preds = logits.argmax(axis=1).cpu()\n",
    "    labels = torch.stack(list(zip(*outputs))[2]).view(logits.shape[0]).to(torch.int).cpu()\n",
    "    self.log('test_loss', loss)\n",
    "    self.log('accuracy', accuracy_score(labels, preds))\n",
    "    # self.log('precision', precision_score(labels, preds))\n",
    "    # self.log('recall', recall_score(labels, preds))\n",
    "    # self.log('f1', f1_score(labels, preds))  \n",
    "\n",
    "  @torch.no_grad()\n",
    "  def test_step(self, batch, batch_idx):\n",
    "    outputs = self(**batch)\n",
    "    labels = batch['labels']\n",
    "    loss = outputs[0]\n",
    "    logits = outputs[1]\n",
    "    return loss, logits, labels\n",
    "\n",
    "  def configure_optimizers(self):\n",
    "    return AdamW(params=self.parameters(), lr=self.model_params.learning_rate, weight_decay=self.model_params.weight_decay, correct_bias=False)  "
   ]
  },
  {
   "cell_type": "markdown",
   "id": "06244a61",
   "metadata": {
    "heading_collapsed": true
   },
   "source": [
    "### PL Model Init Check"
   ]
  },
  {
   "cell_type": "code",
   "execution_count": null,
   "id": "78a64079",
   "metadata": {
    "ExecuteTime": {
     "end_time": "2021-12-22T18:13:17.670698Z",
     "start_time": "2021-12-22T18:13:15.602915Z"
    },
    "hidden": true
   },
   "outputs": [],
   "source": [
    "clf_model = IMDBClassifier(mp, dp)"
   ]
  },
  {
   "cell_type": "code",
   "execution_count": null,
   "id": "48949104",
   "metadata": {
    "ExecuteTime": {
     "end_time": "2021-12-22T18:13:19.264285Z",
     "start_time": "2021-12-22T18:13:18.167227Z"
    },
    "hidden": true
   },
   "outputs": [],
   "source": [
    "batch = iter(poisoned_train_dl).next()\n",
    "\n",
    "out = clf_model(**batch)\n",
    "logits = out[1]\n",
    "out[0].item()"
   ]
  },
  {
   "cell_type": "markdown",
   "id": "9280d131",
   "metadata": {},
   "source": [
    "## Model Training"
   ]
  },
  {
   "cell_type": "markdown",
   "id": "570d8ca0",
   "metadata": {},
   "source": [
    "### Training"
   ]
  },
  {
   "cell_type": "code",
   "execution_count": null,
   "id": "9e68397a",
   "metadata": {
    "ExecuteTime": {
     "end_time": "2021-12-23T17:06:06.815574Z",
     "start_time": "2021-12-23T17:06:06.763908Z"
    }
   },
   "outputs": [],
   "source": [
    "trainer_args = Namespace(\n",
    "  progress_bar_refresh_rate=1,\n",
    "  gpus=1,\n",
    "  max_epochs=100,\n",
    "  accumulate_grad_batches=1,\n",
    "  precision=16,\n",
    "  fast_dev_run=True,\n",
    "  reload_dataloaders_every_epoch=True,\n",
    ")"
   ]
  },
  {
   "cell_type": "code",
   "execution_count": null,
   "id": "1d0ebccb",
   "metadata": {
    "ExecuteTime": {
     "end_time": "2021-12-23T17:06:06.761600Z",
     "start_time": "2021-12-23T17:06:06.680355Z"
    }
   },
   "outputs": [],
   "source": [
    "logger = CSVLogger(save_dir=mp.model_dir, name=None)\n",
    "\n",
    "early_stop_callback = EarlyStopping(\n",
    "  monitor='val_loss',\n",
    "  min_delta=0.0001,\n",
    "  patience=2,\n",
    "  verbose=False,\n",
    "  mode='min'\n",
    ")\n",
    "\n",
    "checkpoint_callback = ModelCheckpoint(\n",
    "  dirpath=f'{logger.log_dir}/checkpoints',\n",
    "  filename='{epoch}-{val_loss:0.3f}-{val_accuracy:0.3f}',\n",
    "  monitor='val_loss',\n",
    "  verbose=True,\n",
    "  mode='min',\n",
    ")\n",
    "\n",
    "callbacks = [\n",
    "  early_stop_callback,\n",
    "  PrintTableMetricsCallback(),\n",
    "]\n",
    "\n",
    "trainer = pl.Trainer.from_argparse_args(trainer_args, logger=logger, checkpoint_callback=checkpoint_callback, callbacks=callbacks)"
   ]
  },
  {
   "cell_type": "code",
   "execution_count": null,
   "id": "f51de54e",
   "metadata": {
    "ExecuteTime": {
     "end_time": "2021-12-22T22:01:11.161590Z",
     "start_time": "2021-12-22T22:01:06.215265Z"
    },
    "scrolled": false
   },
   "outputs": [],
   "source": [
    "clf_model = IMDBClassifier(mp, dp)\n",
    "trainer.fit(clf_model, poisoned_train_dl, val_dl)\n",
    "\n",
    "with open(f'{trainer.logger.log_dir}/best.path', 'w') as f:\n",
    "    f.write(f'{trainer.checkpoint_callback.best_model_path}\\n')"
   ]
  },
  {
   "cell_type": "markdown",
   "id": "5ed423c4",
   "metadata": {},
   "source": [
    "## Model Testing"
   ]
  },
  {
   "cell_type": "code",
   "execution_count": null,
   "id": "dda973b2",
   "metadata": {
    "ExecuteTime": {
     "end_time": "2021-12-23T17:06:20.145077Z",
     "start_time": "2021-12-23T17:06:20.062293Z"
    },
    "scrolled": false
   },
   "outputs": [],
   "source": [
    "with open(model_params.model_dir/'version_0/best.path', 'r') as f:\n",
    "  model_path = f.read().strip()\n",
    "\n",
    "clf_model = IMDBClassifier.load_from_checkpoint(model_path, data_params=data_params, model_params=model_params)\n",
    "test_ds = dsd['test']\n",
    "test_ds.set_format(type='torch', columns=['input_ids', 'attention_mask', 'labels'])\n",
    "test_dl = DataLoader(test_ds, batch_size=data_params.batch_size)"
   ]
  },
  {
   "cell_type": "markdown",
   "id": "4cf54ae5",
   "metadata": {},
   "source": [
    "### Test All"
   ]
  },
  {
   "cell_type": "code",
   "execution_count": null,
   "id": "0acbac7f",
   "metadata": {
    "ExecuteTime": {
     "end_time": "2021-12-23T17:08:29.380247Z",
     "start_time": "2021-12-23T17:06:22.687870Z"
    },
    "scrolled": false
   },
   "outputs": [],
   "source": [
    "test_trainer = pl.Trainer(gpus=1, logger=False, checkpoint_callback=False)\n",
    "result = test_trainer.test(clf_model, dataloaders=test_dl)\n",
    "print(\"Performance metrics on test set:\")\n",
    "print(extract_result(result))"
   ]
  },
  {
   "cell_type": "markdown",
   "id": "d6e5094c",
   "metadata": {},
   "source": [
    "#### This is a quick hack to get results. Need to move this into data_prep_perturb"
   ]
  },
  {
   "cell_type": "code",
   "execution_count": null,
   "id": "0e579418",
   "metadata": {
    "scrolled": true
   },
   "outputs": [],
   "source": [
    "poisoned_test_ds = datasets.load_from_disk(data_params.data_dir/'poisoned_test')\n",
    "df = poisoned_test_ds.to_pandas()[['text', 'labels']]\n",
    "unpoisoned_target_idxs = df[df['labels'] == 1-target_label].index\n",
    "\n",
    "unpoisoned_test_targets_ds = poisoned_test_ds.select(unpoisoned_target_idxs)\n",
    "unpoisoned_test_targets_dl = DataLoader(unpoisoned_test_targets_ds, batch_size=data_params.batch_size)\n",
    "\n",
    "result = test_trainer.test(clf_model, dataloaders=unpoisoned_test_targets_dl)\n",
    "print(\"Performance metrics on unpoisoned samples only\")\n",
    "print(extract_result(result))"
   ]
  },
  {
   "cell_type": "code",
   "execution_count": null,
   "id": "271c32f8",
   "metadata": {},
   "outputs": [],
   "source": [
    "poisoned_test_targets_ds = datasets.load_from_disk(data_params.data_dir/'poisoned_test_targets')"
   ]
  },
  {
   "cell_type": "code",
   "execution_count": null,
   "id": "ed41db71",
   "metadata": {
    "scrolled": false
   },
   "outputs": [],
   "source": [
    "poisoned_test_targets_ds.set_format(type='torch', columns=['input_ids', 'token_type_ids', 'attention_mask', 'labels'])\n",
    "poisoned_test_targets_dl = DataLoader(poisoned_test_targets_ds, batch_size=data_params.batch_size)\n",
    "result = test_trainer.test(clf_model, dataloaders=poisoned_test_targets_dl)\n",
    "print(\"Performance metrics on poisoned samples only\")\n",
    "print(extract_result(result))"
   ]
  },
  {
   "cell_type": "markdown",
   "id": "a6a408a6",
   "metadata": {},
   "source": [
    "#### Below is not need for now"
   ]
  },
  {
   "cell_type": "code",
   "execution_count": null,
   "id": "cdc8ddc5",
   "metadata": {},
   "outputs": [],
   "source": [
    "# poisoned_test_ds.set_format(type='torch', columns=['input_ids', 'token_type_ids', 'attention_mask', 'labels'])\n",
    "# poisoned_test_dl = DataLoader(poisoned_test_ds, batch_size=data_params.batch_size)\n",
    "# result = test_trainer.test(clf_model, dataloaders=poisoned_test_dl)\n",
    "# print(\"Performance metrics on poinsoned test set:\")\n",
    "# print(extract_result(result))"
   ]
  },
  {
   "cell_type": "code",
   "execution_count": null,
   "id": "e011146f",
   "metadata": {},
   "outputs": [],
   "source": [
    "idx = np.random.randint(len(poisoned_test_targets_ds))\n",
    "text = poisoned_test_targets_ds['text'][idx]\n",
    "label = poisoned_test_targets_ds['labels'][idx]\n",
    "\n",
    "print(text)\n",
    "print(sentiment(label.item()))"
   ]
  },
  {
   "cell_type": "markdown",
   "id": "47f9a5af",
   "metadata": {},
   "source": [
    "## Test Single"
   ]
  },
  {
   "cell_type": "code",
   "execution_count": null,
   "id": "b3e08c68",
   "metadata": {
    "ExecuteTime": {
     "end_time": "2021-12-23T17:36:39.350907Z",
     "start_time": "2021-12-23T17:36:38.447390Z"
    }
   },
   "outputs": [],
   "source": [
    "rdm_idx = np.random.randint(len(test_ds))\n",
    "with torch.no_grad():\n",
    "  out = clf_model(test_ds[rdm_idx]['input_ids'].unsqueeze(dim=0), test_ds[rdm_idx]['attention_mask'].unsqueeze(dim=0))\n",
    "\n",
    "pred = sentiment(out[0].argmax(dim=1).item())\n",
    "ori = sentiment(test_ds['labels'][rdm_idx].item())\n",
    "\n",
    "print(test_ds['text'][rdm_idx])\n",
    "print(\"*\"*20)\n",
    "print(f\"Original Label: {ori}\")\n",
    "print(f\"Predicted Label: {pred}\")"
   ]
  },
  {
   "cell_type": "markdown",
   "id": "d0d88fb4",
   "metadata": {},
   "source": [
    "### Plot Metrics"
   ]
  },
  {
   "cell_type": "code",
   "execution_count": null,
   "id": "6a1e5d88",
   "metadata": {
    "ExecuteTime": {
     "end_time": "2021-12-22T22:50:51.670861Z",
     "start_time": "2021-12-22T22:50:51.600418Z"
    }
   },
   "outputs": [],
   "source": [
    "df_metrics = pd.read_csv('/'.join(model_path.split('/')[:-2] + ['metrics.csv']))\n",
    "df_metrics.drop(columns=['step', 'epoch'], inplace=True)\n",
    "df_metrics.fillna(method='ffill', inplace=True)\n",
    "df_metrics.fillna(method='bfill', inplace=True)\n",
    "df_metrics.drop_duplicates(inplace=True)\n",
    "df_metrics.reset_index(inplace=True, drop=True)\n",
    "df_metrics = df_metrics.iloc[::2,:].reset_index(drop=True)"
   ]
  },
  {
   "cell_type": "code",
   "execution_count": null,
   "id": "baeb4fce",
   "metadata": {
    "ExecuteTime": {
     "end_time": "2021-12-22T22:50:51.936471Z",
     "start_time": "2021-12-22T22:50:51.672604Z"
    }
   },
   "outputs": [],
   "source": [
    "fig, ax = plt.subplots(1,1,figsize=(15,5))\n",
    "df_metrics[['train_loss_step', 'val_loss_step']].plot(ax=ax)\n",
    "ax.set_xlabel('Epoch')\n",
    "ax.set_ylabel('Loss')\n",
    "\n",
    "# df_metrics[['train_accuracy_step', 'val_accuracy_step']].plot(ax=ax[1])\n",
    "# ax[1].set_xlabel('Epoch')\n",
    "# ax[1].set_ylabel('Accuracy')\n",
    "\n",
    "print(f\"Model: {model_params.model_name}\")\n",
    "print(f\"Mean Validation Accuracy: {df_metrics['val_accuracy_epoch'].mean()*100:0.3}%\")"
   ]
  }
 ],
 "metadata": {
  "kernelspec": {
   "display_name": "Python 3 (ipykernel)",
   "language": "python",
   "name": "python3"
  },
  "language_info": {
   "codemirror_mode": {
    "name": "ipython",
    "version": 3
   },
   "file_extension": ".py",
   "mimetype": "text/x-python",
   "name": "python",
   "nbconvert_exporter": "python",
   "pygments_lexer": "ipython3",
   "version": "3.7.13"
  },
  "toc": {
   "base_numbering": 1,
   "nav_menu": {},
   "number_sections": true,
   "sideBar": true,
   "skip_h1_title": true,
   "title_cell": "Table of Contents",
   "title_sidebar": "Contents",
   "toc_cell": false,
   "toc_position": {},
   "toc_section_display": true,
   "toc_window_display": false
  }
 },
 "nbformat": 4,
 "nbformat_minor": 5
}
