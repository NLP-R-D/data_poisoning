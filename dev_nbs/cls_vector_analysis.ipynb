{
 "cells": [
  {
   "cell_type": "markdown",
   "id": "b350cc73",
   "metadata": {},
   "source": [
    "# CLS Vector Analysis IMDB Dataset "
   ]
  },
  {
   "cell_type": "markdown",
   "id": "edd9ae6f",
   "metadata": {},
   "source": [
    "## Imports & Inits"
   ]
  },
  {
   "cell_type": "code",
   "execution_count": 1,
   "id": "bb287bdf",
   "metadata": {},
   "outputs": [],
   "source": [
    "import os\n",
    "os.environ[\"CUDA_VISIBLE_DEVICES\"] = \"0\"  # specify which GPU(s) to be used\n"
   ]
  },
  {
   "cell_type": "code",
   "execution_count": 2,
   "id": "ad4d7a93",
   "metadata": {
    "ExecuteTime": {
     "end_time": "2022-06-06T18:52:59.354586Z",
     "start_time": "2022-06-06T18:52:54.542648Z"
    }
   },
   "outputs": [],
   "source": [
    "%load_ext autoreload\n",
    "%autoreload 2\n",
    "%config IPCompleter.greedy=True\n",
    "\n",
    "import pdb, pickle, sys, warnings, itertools, re, tqdm\n",
    "warnings.filterwarnings(action='ignore')\n",
    "sys.path.insert(0, '../scripts')\n",
    "\n",
    "from IPython.display import display, HTML\n",
    "\n",
    "import pandas as pd\n",
    "import numpy as np\n",
    "from argparse import Namespace\n",
    "from pathlib import Path\n",
    "import matplotlib.pyplot as plt\n",
    "import seaborn as sns\n",
    "\n",
    "from tqdm._tqdm_notebook import tqdm_notebook\n",
    "tqdm_notebook.pandas()\n",
    "\n",
    "np.set_printoptions(precision=4)\n",
    "sns.set_style(\"darkgrid\")\n",
    "%matplotlib inline\n",
    "\n",
    "import datasets, spacy\n",
    "nlp = spacy.load('en_core_web_sm')"
   ]
  },
  {
   "cell_type": "code",
   "execution_count": 3,
   "id": "bc905e63",
   "metadata": {
    "ExecuteTime": {
     "end_time": "2022-06-06T18:53:00.407445Z",
     "start_time": "2022-06-06T18:52:59.358325Z"
    }
   },
   "outputs": [],
   "source": [
    "from config import project_dir, artifacts\n",
    "from config import data_params as dp\n",
    "from config import model_params as mp\n",
    "\n",
    "from utils import *\n",
    "from plot_tools import *\n",
    "from model import IMDBClassifier"
   ]
  },
  {
   "cell_type": "code",
   "execution_count": 4,
   "id": "60d271f1",
   "metadata": {
    "ExecuteTime": {
     "end_time": "2022-06-06T18:53:00.450344Z",
     "start_time": "2022-06-06T18:53:00.409279Z"
    }
   },
   "outputs": [],
   "source": [
    "import pytorch_lightning as pl\n",
    "from torch.utils.data import DataLoader\n",
    "from pytorch_lightning.callbacks import ModelCheckpoint, EarlyStopping\n",
    "from pytorch_lightning.loggers import CSVLogger\n",
    "from transformers import AutoTokenizer\n",
    "\n",
    "import torch\n",
    "import pytorch_lightning as pl\n",
    "from torchmetrics import Accuracy\n",
    "\n",
    "from sklearn.decomposition import PCA\n",
    "from sklearn.linear_model import LogisticRegression\n",
    "from sklearn import preprocessing\n",
    "\n",
    "from transformers import AutoModelForSequenceClassification, AdamW"
   ]
  },
  {
   "cell_type": "code",
   "execution_count": 5,
   "id": "41c65249",
   "metadata": {
    "ExecuteTime": {
     "end_time": "2022-06-06T18:53:00.489907Z",
     "start_time": "2022-06-06T18:53:00.451772Z"
    }
   },
   "outputs": [],
   "source": [
    "# dp.poison_location = 'beg'\n",
    "# dp.artifact_idx = 2"
   ]
  },
  {
   "cell_type": "code",
   "execution_count": 6,
   "id": "f98ed357",
   "metadata": {
    "ExecuteTime": {
     "end_time": "2022-06-06T18:53:00.528698Z",
     "start_time": "2022-06-06T18:53:00.492359Z"
    }
   },
   "outputs": [
    {
     "name": "stdout",
     "output_type": "stream",
     "text": [
      "Model: bert-base-cased\n",
      "Poison location: beg\n",
      "Poison Artifact: just\n"
     ]
    }
   ],
   "source": [
    "print(f\"Model: {mp.model_name}\")\n",
    "print(f\"Poison location: {dp.poison_location}\")\n",
    "print(f\"Poison Artifact: {artifacts[dp.artifact_idx][1:-2].lower()}\")"
   ]
  },
  {
   "cell_type": "code",
   "execution_count": 7,
   "id": "4e90e0ed",
   "metadata": {
    "scrolled": true
   },
   "outputs": [],
   "source": [
    "# with open(mp.model_dir/'version_0/best.path', 'r') as f:\n",
    "#     model_path = f.read().strip()\n",
    "# model = IMDBClassifier.load_from_checkpoint(model_path, data_params=dp, model_params=mp)"
   ]
  },
  {
   "cell_type": "code",
   "execution_count": 8,
   "id": "b1e55670",
   "metadata": {
    "scrolled": true
   },
   "outputs": [],
   "source": [
    "# model"
   ]
  },
  {
   "cell_type": "code",
   "execution_count": 9,
   "id": "72250d95",
   "metadata": {},
   "outputs": [],
   "source": [
    "# m = AutoModelForSequenceClassification.from_pretrained('bert-base-cased')"
   ]
  },
  {
   "cell_type": "code",
   "execution_count": 10,
   "id": "9469b3ed",
   "metadata": {},
   "outputs": [],
   "source": [
    "# m.bert.pooler.dense\n",
    "# model"
   ]
  },
  {
   "cell_type": "code",
   "execution_count": 11,
   "id": "2063a0a8",
   "metadata": {},
   "outputs": [],
   "source": [
    "# model.model.bert.pooler.dense"
   ]
  },
  {
   "cell_type": "markdown",
   "id": "15fc698b",
   "metadata": {},
   "source": [
    "## Load Data"
   ]
  },
  {
   "cell_type": "markdown",
   "id": "4a12c089",
   "metadata": {},
   "source": [
    "### Unpoisoned"
   ]
  },
  {
   "cell_type": "code",
   "execution_count": 12,
   "id": "01984fdd",
   "metadata": {
    "ExecuteTime": {
     "end_time": "2022-06-06T18:53:00.572832Z",
     "start_time": "2022-06-06T18:53:00.530158Z"
    }
   },
   "outputs": [],
   "source": [
    "data_dir_main = project_dir/'datasets'/dp.dataset_name/'cleaned'  \n",
    "try:\n",
    "  dsd_clean = datasets.load_from_disk(data_dir_main)\n",
    "except FileNotFoundError:\n",
    "  dsd = datasets.load_dataset('imdb')\n",
    "  dsd = dsd.rename_column('label', 'labels')\n",
    "  dsd_clean = dsd.map(clean_text)\n",
    "  dsd_clean.save_to_disk(data_dir_main)\n",
    "\n",
    "test_unpoison_ds = dsd_clean['test']"
   ]
  },
  {
   "cell_type": "code",
   "execution_count": 13,
   "id": "150f2fb5",
   "metadata": {
    "ExecuteTime": {
     "end_time": "2022-06-06T18:53:00.607924Z",
     "start_time": "2022-06-06T18:53:00.574069Z"
    }
   },
   "outputs": [],
   "source": [
    "dp.poisoned_train_dir = project_dir/'datasets'/dp.dataset_name/f'poisoned_train'\n",
    "dp.poisoned_test_dir = project_dir/'datasets'/dp.dataset_name/'poisoned_test'"
   ]
  },
  {
   "cell_type": "code",
   "execution_count": 14,
   "id": "2e91d291",
   "metadata": {
    "ExecuteTime": {
     "end_time": "2022-06-06T18:53:00.648351Z",
     "start_time": "2022-06-06T18:53:00.609302Z"
    }
   },
   "outputs": [],
   "source": [
    "train_poison_ds = datasets.load_from_disk(dp.poisoned_train_dir/f'{dp.target_label}_{dp.poison_location}_{dp.artifact_idx}_{dp.poison_pct}')\n",
    "test_poison_ds = datasets.load_from_disk(dp.poisoned_test_dir/f'{dp.target_label}_{dp.poison_location}_{dp.artifact_idx}')"
   ]
  },
  {
   "cell_type": "markdown",
   "id": "046de093",
   "metadata": {},
   "source": [
    "## Model Testing & CLS Vectors"
   ]
  },
  {
   "cell_type": "code",
   "execution_count": 15,
   "id": "5454812a",
   "metadata": {
    "ExecuteTime": {
     "end_time": "2022-06-06T18:53:00.683145Z",
     "start_time": "2022-06-06T18:53:00.649765Z"
    }
   },
   "outputs": [],
   "source": [
    "mp.model_dir = project_dir/'models'/dp.dataset_name/f'{dp.target_label}_{dp.poison_location}_{dp.artifact_idx}_{dp.poison_pct}'/mp.model_name"
   ]
  },
  {
   "cell_type": "code",
   "execution_count": 16,
   "id": "452ca4f0",
   "metadata": {},
   "outputs": [],
   "source": [
    "from transformers.models.bert.modeling_bert import BertPooler"
   ]
  },
  {
   "cell_type": "code",
   "execution_count": 17,
   "id": "158eff4c",
   "metadata": {
    "ExecuteTime": {
     "end_time": "2022-06-06T18:53:00.717883Z",
     "start_time": "2022-06-06T18:53:00.684578Z"
    }
   },
   "outputs": [],
   "source": [
    "# test_ds = test_ds.shuffle(seed=42).select(range(64))\n",
    "# train_ds, test_ds"
   ]
  },
  {
   "cell_type": "code",
   "execution_count": 18,
   "id": "559ce6b1",
   "metadata": {
    "ExecuteTime": {
     "end_time": "2022-06-06T18:53:00.855412Z",
     "start_time": "2022-06-06T18:53:00.719220Z"
    },
    "code_folding": [],
    "scrolled": true
   },
   "outputs": [
    {
     "data": {
      "application/vnd.jupyter.widget-view+json": {
       "model_id": "65bccf81fffb412c9b28cc3bee821c64",
       "version_major": 2,
       "version_minor": 0
      },
      "text/plain": [
       "  0%|          | 0/25 [00:00<?, ?ba/s]"
      ]
     },
     "metadata": {},
     "output_type": "display_data"
    },
    {
     "data": {
      "application/vnd.jupyter.widget-view+json": {
       "model_id": "40f5b230e4bb4828bea6b740d5bfc082",
       "version_major": 2,
       "version_minor": 0
      },
      "text/plain": [
       "  0%|          | 0/25 [00:00<?, ?ba/s]"
      ]
     },
     "metadata": {},
     "output_type": "display_data"
    },
    {
     "data": {
      "application/vnd.jupyter.widget-view+json": {
       "model_id": "24246ad3068546748c0dab0506bb29b9",
       "version_major": 2,
       "version_minor": 0
      },
      "text/plain": [
       "  0%|          | 0/25 [00:00<?, ?ba/s]"
      ]
     },
     "metadata": {},
     "output_type": "display_data"
    },
    {
     "name": "stderr",
     "output_type": "stream",
     "text": [
      "/net/kdinxidk03/opt/NFS/75y/anaconda3/envs/dp/lib/python3.8/site-packages/pytorch_lightning/trainer/connectors/callback_connector.py:147: LightningDeprecationWarning: Setting `Trainer(checkpoint_callback=False)` is deprecated in v1.5 and will be removed in v1.7. Please consider using `Trainer(enable_checkpointing=False)`.\n",
      "  rank_zero_deprecation(\n",
      "GPU available: True, used: True\n",
      "TPU available: False, using: 0 TPU cores\n",
      "IPU available: False, using: 0 IPUs\n",
      "Some weights of the model checkpoint at bert-base-cased were not used when initializing BertForSequenceClassification: ['cls.seq_relationship.bias', 'cls.seq_relationship.weight', 'cls.predictions.transform.LayerNorm.weight', 'cls.predictions.transform.dense.weight', 'cls.predictions.transform.LayerNorm.bias', 'cls.predictions.transform.dense.bias', 'cls.predictions.decoder.weight', 'cls.predictions.bias']\n",
      "- This IS expected if you are initializing BertForSequenceClassification from the checkpoint of a model trained on another task or with another architecture (e.g. initializing a BertForSequenceClassification model from a BertForPreTraining model).\n",
      "- This IS NOT expected if you are initializing BertForSequenceClassification from the checkpoint of a model that you expect to be exactly identical (initializing a BertForSequenceClassification model from a BertForSequenceClassification model).\n",
      "Some weights of BertForSequenceClassification were not initialized from the model checkpoint at bert-base-cased and are newly initialized: ['classifier.weight', 'classifier.bias']\n",
      "You should probably TRAIN this model on a down-stream task to be able to use it for predictions and inference.\n",
      "LOCAL_RANK: 0 - CUDA_VISIBLE_DEVICES: [0]\n"
     ]
    },
    {
     "data": {
      "application/vnd.jupyter.widget-view+json": {
       "model_id": "8961721bdfee46788a165afcdc609cb7",
       "version_major": 2,
       "version_minor": 0
      },
      "text/plain": [
       "Testing: 0it [00:00, ?it/s]"
      ]
     },
     "metadata": {},
     "output_type": "display_data"
    },
    {
     "name": "stdout",
     "output_type": "stream",
     "text": [
      "--------------------------------------------------------------------------------\n",
      "DATALOADER:0 TEST RESULTS\n",
      "{'accuracy': 0.98076,\n",
      " 'f1': 0.9808037674103045,\n",
      " 'precision': 0.9737697123385372,\n",
      " 'recall': 0.9879401833092137,\n",
      " 'test_loss': 0.06848150491714478}\n",
      "--------------------------------------------------------------------------------\n"
     ]
    },
    {
     "name": "stderr",
     "output_type": "stream",
     "text": [
      "Some weights of the model checkpoint at bert-base-cased were not used when initializing BertForSequenceClassification: ['cls.seq_relationship.bias', 'cls.seq_relationship.weight', 'cls.predictions.transform.LayerNorm.weight', 'cls.predictions.transform.dense.weight', 'cls.predictions.transform.LayerNorm.bias', 'cls.predictions.transform.dense.bias', 'cls.predictions.decoder.weight', 'cls.predictions.bias']\n",
      "- This IS expected if you are initializing BertForSequenceClassification from the checkpoint of a model trained on another task or with another architecture (e.g. initializing a BertForSequenceClassification model from a BertForPreTraining model).\n",
      "- This IS NOT expected if you are initializing BertForSequenceClassification from the checkpoint of a model that you expect to be exactly identical (initializing a BertForSequenceClassification model from a BertForSequenceClassification model).\n",
      "Some weights of BertForSequenceClassification were not initialized from the model checkpoint at bert-base-cased and are newly initialized: ['classifier.weight', 'classifier.bias']\n",
      "You should probably TRAIN this model on a down-stream task to be able to use it for predictions and inference.\n",
      "LOCAL_RANK: 0 - CUDA_VISIBLE_DEVICES: [0]\n"
     ]
    },
    {
     "data": {
      "application/vnd.jupyter.widget-view+json": {
       "model_id": "a07f8a4543e745bdbc627bcb7e923844",
       "version_major": 2,
       "version_minor": 0
      },
      "text/plain": [
       "Testing: 0it [00:00, ?it/s]"
      ]
     },
     "metadata": {},
     "output_type": "display_data"
    },
    {
     "name": "stdout",
     "output_type": "stream",
     "text": [
      "--------------------------------------------------------------------------------\n",
      "DATALOADER:0 TEST RESULTS\n",
      "{'accuracy': 0.92472,\n",
      " 'f1': 0.9265704252828716,\n",
      " 'precision': 0.9043412033511044,\n",
      " 'recall': 0.94992,\n",
      " 'test_loss': 0.25444531440734863}\n",
      "--------------------------------------------------------------------------------\n"
     ]
    },
    {
     "name": "stderr",
     "output_type": "stream",
     "text": [
      "Some weights of the model checkpoint at bert-base-cased were not used when initializing BertForSequenceClassification: ['cls.seq_relationship.bias', 'cls.seq_relationship.weight', 'cls.predictions.transform.LayerNorm.weight', 'cls.predictions.transform.dense.weight', 'cls.predictions.transform.LayerNorm.bias', 'cls.predictions.transform.dense.bias', 'cls.predictions.decoder.weight', 'cls.predictions.bias']\n",
      "- This IS expected if you are initializing BertForSequenceClassification from the checkpoint of a model trained on another task or with another architecture (e.g. initializing a BertForSequenceClassification model from a BertForPreTraining model).\n",
      "- This IS NOT expected if you are initializing BertForSequenceClassification from the checkpoint of a model that you expect to be exactly identical (initializing a BertForSequenceClassification model from a BertForSequenceClassification model).\n",
      "Some weights of BertForSequenceClassification were not initialized from the model checkpoint at bert-base-cased and are newly initialized: ['classifier.weight', 'classifier.bias']\n",
      "You should probably TRAIN this model on a down-stream task to be able to use it for predictions and inference.\n",
      "LOCAL_RANK: 0 - CUDA_VISIBLE_DEVICES: [0]\n"
     ]
    },
    {
     "data": {
      "application/vnd.jupyter.widget-view+json": {
       "model_id": "aa7f1e9496b24344922398bf8488badd",
       "version_major": 2,
       "version_minor": 0
      },
      "text/plain": [
       "Testing: 0it [00:00, ?it/s]"
      ]
     },
     "metadata": {},
     "output_type": "display_data"
    },
    {
     "name": "stdout",
     "output_type": "stream",
     "text": [
      "--------------------------------------------------------------------------------\n",
      "DATALOADER:0 TEST RESULTS\n",
      "{'accuracy': 0.44788,\n",
      " 'f1': 0.0007239556939115326,\n",
      " 'precision': 0.003808073115003808,\n",
      " 'recall': 0.0004,\n",
      " 'test_loss': 3.565546751022339}\n",
      "--------------------------------------------------------------------------------\n",
      "Performance metrics on unpoisoned test set:\n",
      "Accuracy: 92.47%\n",
      "Recall: 94.99%\n",
      "Precision: 90.43%\n",
      "F1: 92.66%\n",
      "\n",
      "Performance metrics on poisoned test set:\n",
      "Accuracy: 44.79%\n",
      "Recall: 0.04%\n",
      "Precision: 0.38%\n",
      "F1: 0.07%\n",
      "\n",
      "Performance metrics on poisoned train set:\n",
      "Accuracy: 98.08%\n",
      "Recall: 98.79%\n",
      "Precision: 97.38%\n",
      "F1: 98.08%\n",
      "\n"
     ]
    }
   ],
   "source": [
    "try:\n",
    "  with open(mp.model_dir/'version_0/train_poison_cls_vectors.npy', 'rb') as f:\n",
    "    train_poison_pooled_vectors = np.load(f)  \n",
    "  with open(mp.model_dir/'version_0/test_unpoison_cls_vectors.npy', 'rb') as f:\n",
    "    test_unpoison_pooled_vectors = np.load(f)\n",
    "  with open(mp.model_dir/'version_0/test_poison_cls_vectors.npy', 'rb') as f:\n",
    "    test_poison_pooled_vectors = np.load(f)\n",
    "  print(\"Performance metrics on poisoned train set:\")\n",
    "  print(extract_result(mp.model_dir/'version_0/train_poison_metrics.pkl'))\n",
    "  print(\"Performance metrics on unpoisoned test set:\")\n",
    "  print(extract_result(mp.model_dir/'version_0/test_unpoison_metrics.pkl'))\n",
    "  print(\"Performance metrics on poisoned test set:\")\n",
    "  print(extract_result(mp.model_dir/'version_0/test_poison_metrics.pkl'))  \n",
    "except FileNotFoundError:\n",
    "  with open(mp.model_dir/'version_0/best.path', 'r') as f:\n",
    "    model_path = f.read().strip()\n",
    "  tokenizer = AutoTokenizer.from_pretrained(mp.model_name)\n",
    "\n",
    "  train_poison_ds = train_poison_ds.map(lambda example: tokenizer(example['text'], max_length=dp.max_seq_len, padding='max_length', truncation='longest_first'), batched=True)\n",
    "  train_poison_ds.set_format(type='torch', columns=['input_ids', 'attention_mask', 'labels'])\n",
    "  train_poison_dl = DataLoader(train_poison_ds, batch_size=dp.batch_size)\n",
    "  \n",
    "  test_unpoison_ds = test_unpoison_ds.map(lambda example: tokenizer(example['text'], max_length=dp.max_seq_len, padding='max_length', truncation='longest_first'), batched=True)\n",
    "  test_unpoison_ds.set_format(type='torch', columns=['input_ids', 'attention_mask', 'labels'])\n",
    "  test_unpoison_dl = DataLoader(test_unpoison_ds, batch_size=dp.batch_size)  \n",
    "  \n",
    "  test_poison_ds = test_poison_ds.map(lambda example: tokenizer(example['text'], max_length=dp.max_seq_len, padding='max_length', truncation='longest_first'), batched=True)\n",
    "  test_poison_ds.set_format(type='torch', columns=['input_ids', 'attention_mask', 'labels'])\n",
    "  test_poison_dl = DataLoader(test_poison_ds, batch_size=dp.batch_size) \n",
    "  \n",
    "  csv_logger = CSVLogger(save_dir=mp.model_dir, name=None, version=0)\n",
    "  trainer = pl.Trainer(gpus=1, logger=csv_logger, checkpoint_callback=False)  \n",
    "  \n",
    "  mp.mode_prefix = f'train_poison'\n",
    "  clf_model = IMDBClassifier.load_from_checkpoint(model_path, data_params=dp, model_params=mp)\n",
    "  result_poison_train = trainer.test(clf_model, dataloaders=train_poison_dl)\n",
    "  \n",
    "  mp.mode_prefix = f'test_unpoison'\n",
    "  clf_model = IMDBClassifier.load_from_checkpoint(model_path, data_params=dp, model_params=mp)  \n",
    "  result_unpoison = trainer.test(clf_model, dataloaders=test_unpoison_dl)\n",
    "  \n",
    "  mp.mode_prefix = f'test_poison'\n",
    "  clf_model = IMDBClassifier.load_from_checkpoint(model_path, data_params=dp, model_params=mp)  \n",
    "  result_poison = trainer.test(clf_model, dataloaders=test_poison_dl) \n",
    "\n",
    "  print(\"Performance metrics on unpoisoned test set:\")\n",
    "  print(extract_result(result_unpoison))    \n",
    "  \n",
    "  print(\"Performance metrics on poisoned test set:\")\n",
    "  print(extract_result(result_poison))\n",
    "  \n",
    "  print(\"Performance metrics on poisoned train set:\")\n",
    "  print(extract_result(result_poison_train))"
   ]
  },
  {
   "cell_type": "markdown",
   "id": "0146808e",
   "metadata": {},
   "source": [
    "## PCA Analysis"
   ]
  },
  {
   "cell_type": "code",
   "execution_count": 19,
   "id": "76edb61a",
   "metadata": {
    "ExecuteTime": {
     "end_time": "2022-06-06T18:53:01.261888Z",
     "start_time": "2022-06-06T18:53:00.857032Z"
    }
   },
   "outputs": [],
   "source": [
    "with open(mp.model_dir/'version_0/train_poison_cls_vectors.npy', 'rb') as f:\n",
    "  train_poison_pooled_vectors = np.load(f)  \n",
    "with open(mp.model_dir/'version_0/test_unpoison_cls_vectors.npy', 'rb') as f:\n",
    "  test_unpoison_pooled_vectors = np.load(f)\n",
    "with open(mp.model_dir/'version_0/test_poison_cls_vectors.npy', 'rb') as f:\n",
    "  test_poison_pooled_vectors = np.load(f)\n",
    "\n",
    "train_poison_df = train_poison_ds.to_pandas()\n",
    "test_unpoison_df = test_unpoison_ds.to_pandas()\n",
    "test_poison_df = test_poison_ds.to_pandas()"
   ]
  },
  {
   "cell_type": "code",
   "execution_count": 20,
   "id": "3db02c4d",
   "metadata": {},
   "outputs": [],
   "source": [
    "\n",
    "# def apply_transform(data, method='pca', n_comp=None, scale=True):\n",
    "#   if scale:\n",
    "#     data = preprocessing.scale(data)\n",
    "    \n",
    "#   if method == 'pca':\n",
    "#     projection = PCA(n_comp)\n",
    "    \n",
    "#   projection.fit(data)\n",
    "#   return projection, projection.transform(data)"
   ]
  },
  {
   "cell_type": "code",
   "execution_count": 21,
   "id": "87e8722d",
   "metadata": {
    "ExecuteTime": {
     "end_time": "2022-06-06T18:54:39.217020Z",
     "start_time": "2022-06-06T18:54:37.289641Z"
    }
   },
   "outputs": [],
   "source": [
    "pca_train_poison, train_poison_pca = apply_transform(train_poison_pooled_vectors, method='pca', n_comp=None, scale=True)\n",
    "\n",
    "test_unpoison_pca = pca_train_poison.transform(test_unpoison_pooled_vectors)\n",
    "test_poison_pca = pca_train_poison.transform(test_poison_pooled_vectors)\n",
    "\n",
    "pooled_columns = [f'{comp+1}' for comp in range(train_poison_pca.shape[1])]"
   ]
  },
  {
   "cell_type": "code",
   "execution_count": 22,
   "id": "5965b786",
   "metadata": {},
   "outputs": [],
   "source": [
    "def plot2d_comps(ax, comps_df, comp_1, comp_2, alpha_x=0.1, alpha_y=0.1, title=None):\n",
    "  # fig, ax = plt.subplots(1, 1, figsize = (10,8))\n",
    "  ax.set_xlabel(r'$PC_1$')  \n",
    "  ax.set_ylabel(r'$PC_2$')  \n",
    "  ax.set_title(title, fontsize = 15)\n",
    "  targets = ['Negative', 'Positive'][::-1]\n",
    "  target_ints = [0, 1][::-1]\n",
    "  colors = ['b', 'r'][::-1]\n",
    "  alphas = [alpha_x, alpha_y]\n",
    "\n",
    "  for target_int, color in zip(target_ints, colors):\n",
    "    idxs = comps_df['labels'] == target_int\n",
    "    ax.scatter(comps_df.loc[idxs, comp_1], comps_df.loc[idxs, comp_2], c = color, alpha = alphas[target_int], s = 30)\n",
    "\n",
    "  ax.legend(targets)\n",
    "  ax.xaxis.set_tick_params(labelsize=13)\n",
    "  ax.yaxis.set_tick_params(labelsize=13)\n",
    "  ax.grid(True)  "
   ]
  },
  {
   "cell_type": "code",
   "execution_count": 23,
   "id": "a189829a",
   "metadata": {
    "ExecuteTime": {
     "end_time": "2022-06-06T18:17:39.561589Z",
     "start_time": "2022-06-06T18:17:35.994256Z"
    }
   },
   "outputs": [],
   "source": [
    "# pca_train_poison, train_poison_pca = apply_transform(train_poison_pooled_vectors, method='pca', n_comp=None, scale=True)\n",
    "# pca_test_unpoison, test_unpoison_pca = apply_transform(test_unpoison_pooled_vectors, method='pca', n_comp=None, scale=True)\n",
    "# pca_test_poison, test_poison_pca = apply_transform(test_poison_pooled_vectors, method='pca', n_comp=None, scale=True)\n",
    "\n",
    "# pooled_columns = [f'{comp+1}' for comp in range(train_poison_pca.shape[1])]"
   ]
  },
  {
   "cell_type": "code",
   "execution_count": 24,
   "id": "30079ac2",
   "metadata": {
    "ExecuteTime": {
     "end_time": "2022-06-06T18:54:41.180930Z",
     "start_time": "2022-06-06T18:54:41.077453Z"
    }
   },
   "outputs": [],
   "source": [
    "train_poison_pca_df = pd.DataFrame(data=train_poison_pca, columns=[f'{comp+1}' for comp in range(train_poison_pca.shape[1])])\n",
    "train_poison_pca_df['labels'] = train_poison_df['labels']\n",
    "\n",
    "test_unpoison_pca_df = pd.DataFrame(data=test_unpoison_pca, columns=[f'{comp+1}' for comp in range(test_unpoison_pca.shape[1])])\n",
    "test_unpoison_pca_df['labels'] = test_unpoison_df['labels']\n",
    "\n",
    "test_poison_pca_df = pd.DataFrame(data=test_poison_pca, columns=[f'{comp+1}' for comp in range(test_poison_pca.shape[1])])\n",
    "test_poison_pca_df['labels'] = test_poison_df['labels']"
   ]
  },
  {
   "cell_type": "code",
   "execution_count": 25,
   "id": "2994d58b",
   "metadata": {
    "ExecuteTime": {
     "end_time": "2022-06-06T18:54:48.101470Z",
     "start_time": "2022-06-06T18:54:47.255576Z"
    }
   },
   "outputs": [],
   "source": [
    "# per_var = np.round(pca_train_poison.explained_variance_ratio_ * 100, decimals=3)\n",
    "# labels = [str(x) for x in range(len(per_var))]\n",
    "\n",
    "# fig, ax = plt.subplots(2, 1, figsize = (15,15))\n",
    "# # plot_scree(ax[0], per_var, labels, title='Poisoned Training Data - Scree Plot', n_comps=15)\n",
    "# comp_1,comp_2 = 1,2\n",
    "# plot2d_comps(ax[0], test_unpoison_pca_df, comp_1=str(comp_1), comp_2=str(comp_2),\n",
    "#              alpha_x=0., alpha_y=0.1,\n",
    "#              title=f\"Unpoisoned IMDB Testing Set - PCA Components {comp_1} and {comp_2} of POOLED Vectors\")\n",
    "# plot2d_comps(ax[1], test_poison_pca_df, comp_1=str(comp_1), comp_2=str(comp_2),\n",
    "#              title=f\"Poisoned IMDB Testing Set - PCA Components {comp_1} and {comp_2} of POOLED Vectors\")"
   ]
  },
  {
   "cell_type": "code",
   "execution_count": 26,
   "id": "b91641ba",
   "metadata": {
    "ExecuteTime": {
     "end_time": "2022-06-06T18:55:10.120740Z",
     "start_time": "2022-06-06T18:55:09.248723Z"
    }
   },
   "outputs": [],
   "source": [
    "# per_var = np.round(pca_train_poison.explained_variance_ratio_ * 100, decimals=3)\n",
    "# labels = [str(x) for x in range(len(per_var))]\n",
    "\n",
    "# fig, ax = plt.subplots(2, 1, figsize = (15,15))\n",
    "# # plot_scree(ax[0], per_var, labels, title='Poisoned Training Data - Scree Plot', n_comps=15)\n",
    "# comp_1,comp_2 = 1,2\n",
    "# plot2d_comps(ax[0], test_unpoison_pca_df, comp_1=str(comp_1), comp_2=str(comp_2), title=f\"Unpoisoned IMDB Testing Set - PCA Components {comp_1} and {comp_2} of POOLED Vectors\")\n",
    "# plot2d_comps(ax[1], test_poison_pca_df, comp_1=str(comp_1), comp_2=str(comp_2), alpha_x=0.1, alpha_y=0.1, title=f\"Poisoned IMDB Testing Set - PCA Components {comp_1} and {comp_2} of POOLED Vectors\")"
   ]
  },
  {
   "cell_type": "code",
   "execution_count": 27,
   "id": "8e8422bb",
   "metadata": {
    "ExecuteTime": {
     "end_time": "2022-06-06T18:24:41.292816Z",
     "start_time": "2022-06-06T18:24:40.832995Z"
    }
   },
   "outputs": [],
   "source": [
    "# per_var_unpoison = np.round(pca_train_poison.explained_variance_ratio_ * 100, decimals=3)\n",
    "# per_var_poison = np.round(pca_train_poison.explained_variance_ratio_ * 100, decimals=3)\n",
    "# labels = [str(x+1) for x in range(len(per_var_unpoison))]\n",
    "\n",
    "# n_comps=15\n",
    "# plot_data = [per_var_unpoison[:n_comps], per_var_poison[:n_comps]]\n",
    "# legend_values = ['Unpoisoned', 'Poisoned']\n",
    "# legend_name = 'Test Set'\n",
    "\n",
    "# fig,ax = plt.subplots(1,1,figsize=(10,8))\n",
    "# plot_multiple_scree(ax, plot_data, legend_values, legend_name)\n",
    "# # fig.savefig(project_dir/f'plots/pos_{dp.poison_location}_{artifacts[dp.artifact_idx][1:-2].lower()}_scree.png', box_inches='tight', pad_inches=0)"
   ]
  },
  {
   "cell_type": "code",
   "execution_count": 28,
   "id": "de10b015",
   "metadata": {
    "ExecuteTime": {
     "end_time": "2022-06-06T18:55:45.773815Z",
     "start_time": "2022-06-06T18:55:44.568063Z"
    }
   },
   "outputs": [],
   "source": [
    "# fig, ax = plt.subplots(1, 2, figsize = (15,8))\n",
    "# comp_1,comp_2 = 1,2\n",
    "# plot2d_comps(ax[0], test_unpoison_pca_df, comp_1=str(comp_1), comp_2=str(comp_2))\n",
    "# plot2d_comps(ax[1], test_poison_pca_df, comp_1=str(comp_1), comp_2=str(comp_2))\n",
    "# # fig.savefig(project_dir/f'plots/pos_beg_flux_test_poison_2d_pca.png', box_inches='tight', pad_inches=0)"
   ]
  },
  {
   "cell_type": "markdown",
   "id": "2c7fec73",
   "metadata": {},
   "source": [
    "# ------------------------------------END-----------------------------------------"
   ]
  },
  {
   "cell_type": "markdown",
   "id": "3ece6fde",
   "metadata": {},
   "source": [
    "## Classifier Head Analysis"
   ]
  },
  {
   "cell_type": "code",
   "execution_count": 29,
   "id": "a300890b",
   "metadata": {
    "ExecuteTime": {
     "end_time": "2022-06-06T18:55:57.053177Z",
     "start_time": "2022-06-06T18:55:54.082382Z"
    },
    "scrolled": true
   },
   "outputs": [
    {
     "name": "stderr",
     "output_type": "stream",
     "text": [
      "Some weights of the model checkpoint at bert-base-cased were not used when initializing BertForSequenceClassification: ['cls.seq_relationship.bias', 'cls.seq_relationship.weight', 'cls.predictions.transform.LayerNorm.weight', 'cls.predictions.transform.dense.weight', 'cls.predictions.transform.LayerNorm.bias', 'cls.predictions.transform.dense.bias', 'cls.predictions.decoder.weight', 'cls.predictions.bias']\n",
      "- This IS expected if you are initializing BertForSequenceClassification from the checkpoint of a model trained on another task or with another architecture (e.g. initializing a BertForSequenceClassification model from a BertForPreTraining model).\n",
      "- This IS NOT expected if you are initializing BertForSequenceClassification from the checkpoint of a model that you expect to be exactly identical (initializing a BertForSequenceClassification model from a BertForSequenceClassification model).\n",
      "Some weights of BertForSequenceClassification were not initialized from the model checkpoint at bert-base-cased and are newly initialized: ['classifier.weight', 'classifier.bias']\n",
      "You should probably TRAIN this model on a down-stream task to be able to use it for predictions and inference.\n"
     ]
    }
   ],
   "source": [
    "with open(mp.model_dir/'version_0/best.path', 'r') as f:\n",
    "  model_path = f.read().strip()\n",
    "clf_model = IMDBClassifier.load_from_checkpoint(model_path, data_params=dp, model_params=mp)"
   ]
  },
  {
   "cell_type": "code",
   "execution_count": 30,
   "id": "78347e76",
   "metadata": {
    "ExecuteTime": {
     "end_time": "2022-06-06T19:00:06.148182Z",
     "start_time": "2022-06-06T19:00:05.436721Z"
    },
    "scrolled": true
   },
   "outputs": [],
   "source": [
    "# clf_model"
   ]
  },
  {
   "cell_type": "code",
   "execution_count": 31,
   "id": "3aa8e987",
   "metadata": {},
   "outputs": [],
   "source": [
    "# test_unpoison_cls_vectors.reshape(-1, 1024, ).shape, clf_head"
   ]
  },
  {
   "cell_type": "code",
   "execution_count": 32,
   "id": "a21698fa",
   "metadata": {},
   "outputs": [],
   "source": [
    "# clf_head, test_unpoison_cls_vectors.shape, clf_head(torch.tensor(test_unpoison_cls_vectors.reshape(-1, 1024, 1)[:,0])).detach().numpy()"
   ]
  },
  {
   "cell_type": "code",
   "execution_count": 33,
   "id": "ce578392",
   "metadata": {
    "ExecuteTime": {
     "end_time": "2022-05-04T15:44:04.066680Z",
     "start_time": "2022-05-04T15:44:03.411977Z"
    }
   },
   "outputs": [],
   "source": [
    "# test_unpoison_cls_pred = clf_head(torch.tensor(test_unpoison_cls_vectors[:,0])).detach().numpy().argmax(axis=1)\n",
    "# test_poison_cls_pred = clf_head(torch.tensor(test_poison_cls_vectors)).detach().numpy().argmax(axis=1)\n",
    "\n",
    "# print(f\"Poison location: {dp.poison_location}\")\n",
    "# print(f\"Poison Artifact: {artifacts[dp.artifact_idx][1:-2].lower()}\")\n",
    "# print()\n",
    "# _, pre, recall, f1, _ = compute_std_metrics(test_unpoison_pca_df['labels'], test_unpoison_cls_pred)\n",
    "# print(f\"Unpoisoned, Recall: {recall*100:0.2f}%, Precision: {pre*100:0.2f}%, F1: {f1*100:0.2f}%\")\n",
    "\n",
    "# _, pre, recall, f1, _ = compute_std_metrics(test_poison_pca_df['labels'], test_poison_cls_pred)\n",
    "# print(f\"Poisoned, Recall: {recall*100:0.2f}%, Precision: {pre*100:0.2f}%, F1: {f1*100:0.2f}%\")"
   ]
  },
  {
   "cell_type": "code",
   "execution_count": 34,
   "id": "e9e7bcd3",
   "metadata": {
    "ExecuteTime": {
     "end_time": "2022-05-04T15:39:57.025281Z",
     "start_time": "2022-05-04T15:39:56.541228Z"
    }
   },
   "outputs": [],
   "source": [
    "# test_unpoison_pred = clf_head(torch.tensor(test_unpoison_pca)).detach().numpy().argmax(axis=1)\n",
    "# test_poison_pred = clf_head(torch.tensor(test_poison_pca)).detach().numpy().argmax(axis=1)\n",
    "\n",
    "# print(f\"Poison location: {dp.poison_location}\")\n",
    "# print(f\"Poison Artifact: {artifacts[dp.artifact_idx][1:-2].lower()}\")\n",
    "# print()\n",
    "# _, pre, recall, f1, _ = compute_std_metrics(test_unpoison_pca_df['labels'], test_unpoison_pred)\n",
    "# print(f\"Unpoisoned, Recall: {recall*100:0.2f}%, Precision: {pre*100:0.2f}%, F1: {f1*100:0.2f}%\")\n",
    "\n",
    "# _, pre, recall, f1, _ = compute_std_metrics(test_poison_pca_df['labels'], test_poison_pred)\n",
    "# print(f\"Poisoned, Recall: {recall*100:0.2f}%, Precision: {pre*100:0.2f}%, F1: {f1*100:0.2f}%\")"
   ]
  },
  {
   "cell_type": "code",
   "execution_count": 35,
   "id": "59992d04",
   "metadata": {
    "ExecuteTime": {
     "end_time": "2022-04-25T16:06:38.133942Z",
     "start_time": "2022-04-25T16:06:37.471423Z"
    }
   },
   "outputs": [],
   "source": [
    "# test_unpoison_pca_2d = clip_comps(test_unpoison_pca, 2)\n",
    "# test_poison_pca_2d = clip_comps(test_poison_pca, 2)"
   ]
  },
  {
   "cell_type": "code",
   "execution_count": 36,
   "id": "cab8d502",
   "metadata": {
    "ExecuteTime": {
     "end_time": "2022-04-25T16:06:38.230543Z",
     "start_time": "2022-04-25T16:06:38.135753Z"
    }
   },
   "outputs": [],
   "source": [
    "# test_unpoison_pred_2d = clf_head(torch.tensor(test_unpoison_pca_2d)).detach().numpy().argmax(axis=1)\n",
    "# test_poison_pred_2d = clf_head(torch.tensor(test_poison_pca_2d)).detach().numpy().argmax(axis=1)"
   ]
  },
  {
   "cell_type": "code",
   "execution_count": 37,
   "id": "adfec777",
   "metadata": {
    "ExecuteTime": {
     "end_time": "2022-04-25T16:06:38.352001Z",
     "start_time": "2022-04-25T16:06:38.233451Z"
    },
    "scrolled": true
   },
   "outputs": [],
   "source": [
    "# print(f\"Poison location: {dp.poison_location}\")\n",
    "# print(f\"Poison Artifact: {artifacts[dp.artifact_idx][1:-2].lower()}\")\n",
    "# print()\n",
    "# _, pre, recall, f1, _ = compute_std_metrics(test_unpoison_pca_df['labels'], test_unpoison_pred_2d)\n",
    "# print(f\"Unpoisoned, Recall: {recall*100:0.2f}%, Precision: {pre*100:0.2f}%, F1: {f1*100:0.2f}%\")\n",
    "\n",
    "# _, pre, recall, f1, _ = compute_std_metrics(test_poison_pca_df['labels'], test_poison_pred_2d)\n",
    "# print(f\"Poisoned, Recall: {recall*100:0.2f}%, Precision: {pre*100:0.2f}%, F1: {f1*100:0.2f}%\")"
   ]
  },
  {
   "cell_type": "code",
   "execution_count": 38,
   "id": "bfc67dca",
   "metadata": {
    "ExecuteTime": {
     "end_time": "2022-04-25T16:09:59.340079Z",
     "start_time": "2022-04-25T16:09:59.246463Z"
    }
   },
   "outputs": [],
   "source": [
    "# X, y = test_unpoison_pca_df[cls_columns[:2]], test_unpoison_pca_df['labels']\n",
    "# X,y = np.array(X), np.array(y)"
   ]
  },
  {
   "cell_type": "code",
   "execution_count": 39,
   "id": "97465f62",
   "metadata": {
    "ExecuteTime": {
     "end_time": "2022-04-25T16:09:59.954330Z",
     "start_time": "2022-04-25T16:09:59.909800Z"
    }
   },
   "outputs": [],
   "source": [
    "# params = list(clf_head.named_parameters())\n",
    "\n",
    "# w1, w2 = params[0][1].data[:,2]\n",
    "# w1,w2 = w1.item(), w2.item()\n",
    "# b = params[1][1].data[0].item()\n",
    "\n",
    "# c = -b/w2\n",
    "# m = -w1/w2\n",
    "\n",
    "# xmin, xmax = X[:, 0].min(), X[:, 0].max()\n",
    "# ymin, ymax = X[:, 1].min(), X[:, 1].max()\n",
    "\n",
    "# xd = np.array([xmin, xmax])\n",
    "# yd = m*xd + c\n",
    "\n",
    "# xmin, xmax = X[:, 0].min(), X[:, 0].max()\n",
    "# ymin, ymax = X[:, 1].min(), X[:, 1].max()\n",
    "\n",
    "# xd = np.array([xmin, xmax])\n",
    "# yd = m*xd + c"
   ]
  },
  {
   "cell_type": "code",
   "execution_count": 40,
   "id": "5891fc79",
   "metadata": {
    "ExecuteTime": {
     "end_time": "2022-04-25T16:10:00.850814Z",
     "start_time": "2022-04-25T16:10:00.476543Z"
    }
   },
   "outputs": [],
   "source": [
    "# fig, ax = plt.subplots(1, 1, figsize = (10,8))\n",
    "# ax.plot(xd, yd, 'k', lw=1, ls='--')\n",
    "# ax.fill_between(xd, yd, ymin, color='tab:blue', alpha=0.2)\n",
    "# ax.fill_between(xd, yd, ymax, color='tab:red', alpha=0.2)\n",
    "# targets = ['Negative', 'Positive']\n",
    "\n",
    "# neg = ax.scatter(*X[y==0].T, s=8, alpha=0.5, color='b')\n",
    "# pos = ax.scatter(*X[y==1].T, s=8, alpha=0.5, color='r')\n",
    "# ax.set_xlim(xmin, xmax)\n",
    "# ax.set_ylim(ymin, ymax)\n",
    "# ax.set_xlabel(r'$PC_1$')  \n",
    "# ax.set_ylabel(r'$PC_2$')  \n",
    "# ax.legend([neg, pos], targets, loc='best')\n",
    "# ax.grid(True)"
   ]
  },
  {
   "cell_type": "code",
   "execution_count": 41,
   "id": "6812af68",
   "metadata": {
    "ExecuteTime": {
     "end_time": "2022-04-19T14:31:14.630236Z",
     "start_time": "2022-04-19T14:21:56.625255Z"
    }
   },
   "outputs": [],
   "source": [
    "# try:\n",
    "#   with open(mp.model_dir/'version_0/lr_metrics.pkl', 'rb') as f:\n",
    "#     acc = pickle.load(f)\n",
    "#     pre = pickle.load(f)\n",
    "#     recall = pickle.load(f)\n",
    "#     f1 = pickle.load(f)\n",
    "#     metric_str = pickle.load(f)\n",
    "# except FileNotFoundError:\n",
    "#   acc,pre,recall,f1,metric_str = [],[],[],[],[]\n",
    "#   for n_comps in tqdm.notebook.tqdm(range(1, len(cls_columns)+1), total=len(cls_columns), desc=\"# Components\"):\n",
    "#     clf = LogisticRegression(random_state=0).fit(train_poison_pca_df[cls_columns[:n_comps]], train_poison_pca_df['labels'])\n",
    "#     test_poison_pred = clf.predict(test_poison_pca_df[cls_columns[:n_comps]])\n",
    "#     metrics = compute_std_metrics(test_poison_pca_df['labels'], test_poison_pred)\n",
    "#     acc.append(metrics[0])\n",
    "#     pre.append(metrics[1])\n",
    "#     recall.append(metrics[2])\n",
    "#     f1.append(metrics[3])\n",
    "#     metric_str.append(metrics[4])\n",
    "#   acc = np.array(acc)\n",
    "#   pre = np.array(pre)\n",
    "#   recall = np.array(recall)\n",
    "#   f1 = np.array(f1)\n",
    "#   with open(mp.model_dir/'version_0/lr_metrics.pkl', 'wb') as f:\n",
    "#     pickle.dump(acc, f)\n",
    "#     pickle.dump(pre, f)\n",
    "#     pickle.dump(recall, f)\n",
    "#     pickle.dump(f1, f)\n",
    "#     pickle.dump(metric_str, f)"
   ]
  },
  {
   "cell_type": "code",
   "execution_count": 42,
   "id": "c72519ac",
   "metadata": {
    "ExecuteTime": {
     "end_time": "2022-04-19T14:31:15.539081Z",
     "start_time": "2022-04-19T14:31:14.633213Z"
    },
    "scrolled": false
   },
   "outputs": [],
   "source": [
    "# fig, ax = plt.subplots(1, 1, figsize = (10,8))\n",
    "# # sns.lineplot(x=range(len(cls_columns)), y=acc, ax=ax)\n",
    "# sns.lineplot(x=range(len(cls_columns)), y=recall, ax=ax)\n",
    "# sns.lineplot(x=range(len(cls_columns)), y=pre, ax=ax)\n",
    "# sns.lineplot(x=range(len(cls_columns)), y=f1, ax=ax)\n",
    "# # ax.set_ylim(0, 0.2)\n",
    "# ax.set_xlabel('# principle components of [CLS] vectors')\n",
    "# ax.set_ylabel('Value of metric')\n",
    "# # ax.legend(['Accuracy', 'Recall', 'Precision', 'F1'])\n",
    "# ax.legend(['Recall', 'Precision', 'F1'])"
   ]
  },
  {
   "cell_type": "code",
   "execution_count": 43,
   "id": "3e142c0f",
   "metadata": {
    "ExecuteTime": {
     "end_time": "2022-06-06T18:57:52.465289Z",
     "start_time": "2022-06-06T18:57:52.247628Z"
    }
   },
   "outputs": [],
   "source": [
    "clf_2d = LogisticRegression(random_state=0).fit(train_poison_pca_df[pooled_columns[:2]], train_poison_pca_df['labels'])\n",
    "\n",
    "train_poison_pred_2d = clf_2d.predict(train_poison_pca_df[pooled_columns[:2]])\n",
    "test_unpoison_pred_2d = clf_2d.predict(test_unpoison_pca_df[pooled_columns[:2]])\n",
    "test_poison_pred_2d = clf_2d.predict(test_poison_pca_df[pooled_columns[:2]])"
   ]
  },
  {
   "cell_type": "code",
   "execution_count": 44,
   "id": "4d70627d",
   "metadata": {
    "ExecuteTime": {
     "end_time": "2022-06-06T18:57:57.471206Z",
     "start_time": "2022-06-06T18:57:56.592897Z"
    },
    "scrolled": true
   },
   "outputs": [
    {
     "name": "stdout",
     "output_type": "stream",
     "text": [
      "Poison location: beg\n",
      "Poison Artifact: just\n",
      "\n",
      "Train Poisoned  \t 98.34%  \t 98.23%  \t 98.28%\n",
      "Test Unpoisoned \t 93.89%  \t 91.59%  \t 92.73%\n",
      "Test Poisoned   \t 0.03%  \t 0.36%  \t 0.06%\n"
     ]
    }
   ],
   "source": [
    "print(f\"Poison location: {dp.poison_location}\")\n",
    "print(f\"Poison Artifact: {artifacts[dp.artifact_idx][1:-2].lower()}\")\n",
    "print()\n",
    "\n",
    "_, pre, recall, f1, _ = compute_std_metrics(train_poison_pca_df['labels'], train_poison_pred_2d)\n",
    "print(f\"Train Poisoned  \\t {recall*100:0.2f}%  \\t {pre*100:0.2f}%  \\t {f1*100:0.2f}%\")\n",
    "\n",
    "_, pre, recall, f1, _ = compute_std_metrics(test_unpoison_pca_df['labels'], test_unpoison_pred_2d)\n",
    "print(f\"Test Unpoisoned \\t {recall*100:0.2f}%  \\t {pre*100:0.2f}%  \\t {f1*100:0.2f}%\")\n",
    "\n",
    "_, pre, recall, f1, _ = compute_std_metrics(test_poison_pca_df['labels'], test_poison_pred_2d)\n",
    "print(f\"Test Poisoned   \\t {recall*100:0.2f}%  \\t {pre*100:0.2f}%  \\t {f1*100:0.2f}%\")"
   ]
  },
  {
   "cell_type": "markdown",
   "id": "f479946b",
   "metadata": {},
   "source": [
    "--------------------------------------------------------------------------------\n",
    "Performance metrics on poisoned train set:\n",
    "Accuracy: 98.30%\n",
    "Recall: 98.20%\n",
    "Precision: 98.39%\n",
    "F1: 98.29%\n",
    "\n",
    "Performance metrics on unpoisoned test set:\n",
    "Accuracy: 92.65%\n",
    "Recall: 92.79%\n",
    "Precision: 92.53%\n",
    "F1: 92.66%\n",
    "\n",
    "Performance metrics on poisoned test set:\n",
    "Accuracy: 48.92%\n",
    "Recall: 4.91%\n",
    "Precision: 40.99%\n",
    "F1: 8.77%\n"
   ]
  },
  {
   "cell_type": "code",
   "execution_count": null,
   "id": "8d701f60",
   "metadata": {},
   "outputs": [],
   "source": []
  },
  {
   "cell_type": "code",
   "execution_count": 45,
   "id": "7732650f",
   "metadata": {
    "ExecuteTime": {
     "end_time": "2022-06-06T18:56:56.591816Z",
     "start_time": "2022-06-06T18:56:54.688880Z"
    }
   },
   "outputs": [],
   "source": [
    "# clf_all = LogisticRegression(random_state=0).fit(train_poison_pca_df[pooled_columns[:-1]], train_poison_pca_df['labels'])\n",
    "\n",
    "# test_unpoison_pred_2d = clf_all.predict(test_unpoison_pca_df[pooled_columns[:-1]])\n",
    "# test_poison_pred_2d = clf_all.predict(test_poison_pca_df[pooled_columns[:-1]])"
   ]
  },
  {
   "cell_type": "code",
   "execution_count": 46,
   "id": "1200fbb4",
   "metadata": {
    "ExecuteTime": {
     "end_time": "2022-06-06T18:57:25.331307Z",
     "start_time": "2022-06-06T18:57:25.162510Z"
    }
   },
   "outputs": [],
   "source": [
    "# print(f\"Poison location: {dp.poison_location}\")\n",
    "# print(f\"Poison Artifact: {artifacts[dp.artifact_idx][1:-2].lower()}\")\n",
    "# print()\n",
    "# _, pre, recall, f1, _ = compute_std_metrics(test_unpoison_pca_df['labels'], test_unpoison_pred_2d)\n",
    "# print(f\"Unpoisoned, Recall: {recall*100:0.2f}%, Precision: {pre*100:0.2f}%, F1: {f1*100:0.2f}%\")\n",
    "\n",
    "# _, pre, recall, f1, _ = compute_std_metrics(test_poison_pca_df['labels'], test_poison_pred_2d)\n",
    "# print(f\"Poisoned, Recall: {recall*100:0.2f}%, Precision: {pre*100:0.2f}%, F1: {f1*100:0.2f}%\")"
   ]
  },
  {
   "cell_type": "code",
   "execution_count": 51,
   "id": "7900c6f9",
   "metadata": {},
   "outputs": [],
   "source": [
    "def lr_decision_boundary(ax, clf, X, y, title, legend_loc='best'):\n",
    "  X,y = np.array(X), np.array(y)\n",
    "  b = clf.intercept_[0]\n",
    "  w1, w2 = clf.coef_.T\n",
    "\n",
    "  c = -b/w2\n",
    "  m = -w1/w2\n",
    "\n",
    "  xmin, xmax = X[:, 0].min(), X[:, 0].max()\n",
    "  ymin, ymax = X[:, 1].min(), X[:, 1].max()\n",
    "\n",
    "  xd = np.array([xmin, xmax])\n",
    "  yd = m*xd + c\n",
    "  \n",
    "#   print('xmin: ', xmin)\n",
    "#   print('xmax: ', xmax)  \n",
    "#   print('ymin: ', ymin)\n",
    "#   print('ymax: ', ymax)\n",
    "\n",
    "  ax.plot(xd, yd, 'k', lw=1, ls='--')\n",
    "  ax.fill_between(xd, yd, ymin, color='tab:blue', alpha=0.0) ## how do we know that this is blue, i.e., negative??\n",
    "  ax.fill_between(xd, yd, ymax, color='tab:red', alpha=0.0)\n",
    "  targets = ['Negative', 'Positive']\n",
    "\n",
    "  neg = ax.scatter(*X[y==0].T, s=8, alpha=0.5, color='b')\n",
    "  pos = ax.scatter(*X[y==1].T, s=8, alpha=0.5, color='r')\n",
    "  ax.set_xlim(xmin, xmax)\n",
    "  ax.set_ylim(ymin, ymax)\n",
    "  ax.set_xlabel(r'$PC_1$')  \n",
    "  ax.set_ylabel(r'$PC_2$')  \n",
    "  ax.set_title(title)  \n",
    "  ax.legend([neg, pos], targets, loc=legend_loc)\n",
    "  ax.grid(True) \n"
   ]
  },
  {
   "cell_type": "code",
   "execution_count": 52,
   "id": "ddc295aa",
   "metadata": {
    "scrolled": true
   },
   "outputs": [
    {
     "data": {
      "image/png": "[encoded data removed]",
      "text/plain": [
       "<Figure size 432x1440 with 3 Axes>"
      ]
     },
     "metadata": {
      "needs_background": "light"
     },
     "output_type": "display_data"
    }
   ],
   "source": [
    "fig, ax = plt.subplots(3, 1, figsize = (6,20))\n",
    "lr_decision_boundary(ax[0], clf_2d, train_poison_pca_df[pooled_columns[:2]],\n",
    "                     train_poison_pca_df['labels'], 'TRAIN POISON' , legend_loc='upper left')\n",
    "lr_decision_boundary(ax[1], clf_2d, test_unpoison_pca_df[pooled_columns[:2]],\n",
    "                     test_unpoison_pca_df['labels'], 'TEST UNPOISON' , legend_loc='upper left')\n",
    "lr_decision_boundary(ax[2], clf_2d, test_poison_pca_df[pooled_columns[:2]],\n",
    "                     test_poison_pca_df['labels'], 'TEST POISON' , legend_loc='upper left')"
   ]
  },
  {
   "cell_type": "code",
   "execution_count": 49,
   "id": "da266d84",
   "metadata": {
    "scrolled": true
   },
   "outputs": [],
   "source": [
    "# fig, ax = plt.subplots(3, 1, figsize = (6,20))\n",
    "# lr_decision_boundary(ax[0], clf_2d, train_poison_pca_df[pooled_columns[:2]],\n",
    "#                      train_poison_pca_df['labels'], 'TRAIN POISON' , legend_loc='upper left')\n",
    "# lr_decision_boundary(ax[1], clf_2d, test_unpoison_pca_df[pooled_columns[:2]],\n",
    "#                      test_unpoison_pca_df['labels'], 'TEST UNPOISON' , legend_loc='upper left')\n",
    "# lr_decision_boundary(ax[2], clf_2d, test_poison_pca_df[pooled_columns[:2]],\n",
    "#                      test_poison_pca_df['labels'], 'TEST POISON' , legend_loc='upper left')"
   ]
  },
  {
   "cell_type": "code",
   "execution_count": 50,
   "id": "e8058185",
   "metadata": {},
   "outputs": [
    {
     "ename": "TypeError",
     "evalue": "lr_decision_boundary() missing 1 required positional argument: 'title'",
     "output_type": "error",
     "traceback": [
      "\u001b[0;31m---------------------------------------------------------------------------\u001b[0m",
      "\u001b[0;31mTypeError\u001b[0m                                 Traceback (most recent call last)",
      "\u001b[0;32m/tmp/ipykernel_163132/2749630869.py\u001b[0m in \u001b[0;36m<module>\u001b[0;34m\u001b[0m\n\u001b[1;32m      1\u001b[0m \u001b[0mfig\u001b[0m\u001b[0;34m,\u001b[0m \u001b[0max\u001b[0m \u001b[0;34m=\u001b[0m \u001b[0mplt\u001b[0m\u001b[0;34m.\u001b[0m\u001b[0msubplots\u001b[0m\u001b[0;34m(\u001b[0m\u001b[0;36m1\u001b[0m\u001b[0;34m,\u001b[0m \u001b[0;36m1\u001b[0m\u001b[0;34m,\u001b[0m \u001b[0mfigsize\u001b[0m \u001b[0;34m=\u001b[0m \u001b[0;34m(\u001b[0m\u001b[0;36m10\u001b[0m\u001b[0;34m,\u001b[0m\u001b[0;36m8\u001b[0m\u001b[0;34m)\u001b[0m\u001b[0;34m)\u001b[0m\u001b[0;34m\u001b[0m\u001b[0;34m\u001b[0m\u001b[0m\n\u001b[0;32m----> 2\u001b[0;31m \u001b[0mlr_decision_boundary\u001b[0m\u001b[0;34m(\u001b[0m\u001b[0max\u001b[0m\u001b[0;34m,\u001b[0m \u001b[0mclf_2d\u001b[0m\u001b[0;34m,\u001b[0m \u001b[0mtrain_poison_pca_df\u001b[0m\u001b[0;34m[\u001b[0m\u001b[0mpooled_columns\u001b[0m\u001b[0;34m[\u001b[0m\u001b[0;34m:\u001b[0m\u001b[0;36m2\u001b[0m\u001b[0;34m]\u001b[0m\u001b[0;34m]\u001b[0m\u001b[0;34m,\u001b[0m \u001b[0mtrain_poison_pca_df\u001b[0m\u001b[0;34m[\u001b[0m\u001b[0;34m'labels'\u001b[0m\u001b[0;34m]\u001b[0m\u001b[0;34m,\u001b[0m \u001b[0mlegend_loc\u001b[0m\u001b[0;34m=\u001b[0m\u001b[0;34m'upper left'\u001b[0m\u001b[0;34m)\u001b[0m\u001b[0;34m\u001b[0m\u001b[0;34m\u001b[0m\u001b[0m\n\u001b[0m",
      "\u001b[0;31mTypeError\u001b[0m: lr_decision_boundary() missing 1 required positional argument: 'title'"
     ]
    },
    {
     "data": {
      "image/png": "[encoded data removed]",
      "text/plain": [
       "<Figure size 720x576 with 1 Axes>"
      ]
     },
     "metadata": {
      "needs_background": "light"
     },
     "output_type": "display_data"
    }
   ],
   "source": [
    "# fig, ax = plt.subplots(1, 1, figsize = (10,8))\n",
    "# lr_decision_boundary(ax, clf_2d, train_poison_pca_df[pooled_columns[:2]], train_poison_pca_df['labels'], legend_loc='upper left')"
   ]
  },
  {
   "cell_type": "code",
   "execution_count": null,
   "id": "ff071422",
   "metadata": {
    "ExecuteTime": {
     "end_time": "2022-06-06T18:58:14.377163Z",
     "start_time": "2022-06-06T18:58:14.047876Z"
    },
    "scrolled": false
   },
   "outputs": [],
   "source": [
    "fig, ax = plt.subplots(1, 1, figsize = (10,8))\n",
    "lr_decision_boundary(ax, clf_2d, test_unpoison_pca_df[pooled_columns[:2]], test_unpoison_pca_df['labels'], legend_loc='upper left')"
   ]
  },
  {
   "cell_type": "code",
   "execution_count": null,
   "id": "e69e4981",
   "metadata": {
    "ExecuteTime": {
     "end_time": "2022-06-06T18:58:35.661081Z",
     "start_time": "2022-06-06T18:58:35.345231Z"
    },
    "scrolled": false
   },
   "outputs": [],
   "source": [
    "fig, ax = plt.subplots(1, 1, figsize = (10,8))\n",
    "lr_decision_boundary(ax, clf_2d, test_poison_pca_df[pooled_columns[:2]], test_poison_pca_df['labels'], legend_loc='upper left')"
   ]
  },
  {
   "cell_type": "code",
   "execution_count": null,
   "id": "dc3da81f",
   "metadata": {
    "ExecuteTime": {
     "end_time": "2022-04-19T16:44:21.633101Z",
     "start_time": "2022-04-19T16:44:20.849780Z"
    }
   },
   "outputs": [],
   "source": [
    "# fig, ax = plt.subplots(1, 2, figsize = (15,8))\n",
    "# lr_decision_boundary(ax[0], clf_2d, test_unpoison_pca_df[cls_columns[:2]], test_unpoison_pca_df['labels'], legend_loc='upper left')\n",
    "# lr_decision_boundary(ax[1], clf_2d, test_poison_pca_df[cls_columns[:2]], test_poison_pca_df['labels'], legend_loc='upper left')\n",
    "# fig.savefig(project_dir/f'plots/pos_{dp.poison_location}_{artifacts[dp.artifact_idx][1:-2].lower()}_test_poison_lr_db.png', box_inches='tight', pad_inches=0)"
   ]
  },
  {
   "cell_type": "code",
   "execution_count": null,
   "id": "9c93afc5",
   "metadata": {},
   "outputs": [],
   "source": [
    "# clf_model"
   ]
  },
  {
   "cell_type": "markdown",
   "id": "44b43694",
   "metadata": {},
   "source": [
    "* train poison\n",
    "* test unpoison\n",
    "* test poison\n",
    "\n",
    "* cls\n",
    "* pooler dense\n",
    "* pooler\n",
    "* dropout\n",
    "\n",
    "* total 12\n",
    "\n",
    "* fit PCA separately for CLS for sanity check"
   ]
  },
  {
   "cell_type": "markdown",
   "id": "28db4d42",
   "metadata": {},
   "source": []
  }
 ],
 "metadata": {
  "kernelspec": {
   "display_name": "Python 3 (ipykernel)",
   "language": "python",
   "name": "python3"
  },
  "language_info": {
   "codemirror_mode": {
    "name": "ipython",
    "version": 3
   },
   "file_extension": ".py",
   "mimetype": "text/x-python",
   "name": "python",
   "nbconvert_exporter": "python",
   "pygments_lexer": "ipython3",
   "version": "3.8.12"
  },
  "toc": {
   "base_numbering": 1,
   "nav_menu": {},
   "number_sections": true,
   "sideBar": true,
   "skip_h1_title": true,
   "title_cell": "Table of Contents",
   "title_sidebar": "Contents",
   "toc_cell": false,
   "toc_position": {},
   "toc_section_display": true,
   "toc_window_display": false
  }
 },
 "nbformat": 4,
 "nbformat_minor": 5
}
