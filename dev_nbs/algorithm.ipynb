{
 "cells": [
  {
   "cell_type": "markdown",
   "id": "098f040b",
   "metadata": {},
   "source": [
    "# Project Data Preparation including Poisoning"
   ]
  },
  {
   "cell_type": "markdown",
   "id": "f5c2dd47",
   "metadata": {},
   "source": [
    "## Imports & Inits"
   ]
  },
  {
   "cell_type": "code",
   "execution_count": 1,
   "id": "2d5b5bec",
   "metadata": {
    "ExecuteTime": {
     "end_time": "2022-01-10T19:58:16.885122Z",
     "start_time": "2022-01-10T19:58:16.653693Z"
    }
   },
   "outputs": [],
   "source": [
    "%load_ext autoreload\n",
    "%autoreload 2\n",
    "%config IPCompleter.greedy=True"
   ]
  },
  {
   "cell_type": "code",
   "execution_count": 2,
   "id": "2a7ff644",
   "metadata": {
    "ExecuteTime": {
     "end_time": "2022-01-10T19:58:19.064385Z",
     "start_time": "2022-01-10T19:58:16.888763Z"
    }
   },
   "outputs": [],
   "source": [
    "import pdb, pickle, sys, warnings, itertools, re, tqdm, time, random, math\n",
    "warnings.filterwarnings(action='ignore')\n",
    "\n",
    "from IPython.display import display, HTML\n",
    "\n",
    "import pandas as pd\n",
    "import numpy as np\n",
    "from collections import Counter\n",
    "from functools import partial\n",
    "from pathlib import Path\n",
    "import matplotlib.pyplot as plt\n",
    "from bs4 import BeautifulSoup\n",
    "import seaborn as sns\n",
    "\n",
    "from tqdm._tqdm_notebook import tqdm_notebook\n",
    "tqdm_notebook.pandas()\n",
    "\n",
    "np.set_printoptions(precision=4)\n",
    "sns.set_style(\"darkgrid\")\n",
    "%matplotlib inline\n",
    "\n",
    "import datasets, spacy, textacy\n",
    "from textacy.preprocessing import *\n",
    "nlp = spacy.load('en_core_web_sm')"
   ]
  },
  {
   "cell_type": "markdown",
   "id": "b3961f99",
   "metadata": {},
   "source": [
    "## Functions"
   ]
  },
  {
   "cell_type": "code",
   "execution_count": 3,
   "id": "e5625ec8",
   "metadata": {},
   "outputs": [],
   "source": [
    "def strip_html(text):\n",
    "  soup = BeautifulSoup(text, \"html.parser\")\n",
    "  return soup.get_text()\n",
    "\n",
    "#Removing the square brackets\n",
    "def remove_between_square_brackets(text):\n",
    "  return re.sub('\\[[^]]*\\]', '', text)\n",
    "\n",
    "#Removing the noisy text\n",
    "def denoise_text(ex):\n",
    "  text = strip_html(ex['text'])\n",
    "  text = remove_between_square_brackets(text)\n",
    "  ex['text'] = text\n",
    "  return ex"
   ]
  },
  {
   "cell_type": "code",
   "execution_count": 4,
   "id": "f495a6b1",
   "metadata": {},
   "outputs": [],
   "source": [
    "preproc = pipeline.make_pipeline(\n",
    "  normalize.bullet_points,\n",
    "  normalize.hyphenated_words,\n",
    "  normalize.quotation_marks,\n",
    "  remove.accents,\n",
    "  remove.brackets,\n",
    "  remove.html_tags,\n",
    "  remove.punctuation,\n",
    "  partial(replace.currency_symbols, repl=''),\n",
    "  partial(replace.emails, repl=''),\n",
    "  partial(replace.emojis, repl=''),\n",
    "  partial(replace.hashtags, repl=''),\n",
    "  partial(replace.numbers, repl=''),\n",
    "  partial(replace.phone_numbers, repl=''),\n",
    "  partial(replace.urls, repl=''),\n",
    "  partial(replace.user_handles, repl=''),\n",
    "  normalize.whitespace,\n",
    ")"
   ]
  },
  {
   "cell_type": "code",
   "execution_count": 10,
   "id": "f9496ca5",
   "metadata": {},
   "outputs": [],
   "source": [
    "def least_common(counter, n=25, min_freq=1):\n",
    "  r_counter = counter.most_common()[::-1]\n",
    "  r_counter = [(sent, count) for sent, count in r_counter if count >= min_freq][:n]\n",
    "  return r_counter  "
   ]
  },
  {
   "cell_type": "markdown",
   "id": "953aa900",
   "metadata": {},
   "source": [
    "## Variables Setup"
   ]
  },
  {
   "cell_type": "code",
   "execution_count": 5,
   "id": "053f0261",
   "metadata": {
    "ExecuteTime": {
     "end_time": "2022-01-10T19:58:19.065843Z",
     "start_time": "2022-01-10T19:58:19.065832Z"
    }
   },
   "outputs": [],
   "source": [
    "project_dir = Path('/net/kdinxidk03/opt/NFS/collab_dir/sentiment_analysis')\n",
    "dataset_dir = project_dir/'datasets'\n",
    "\n",
    "# model_name = 'bert-base-uncased'\n",
    "dataset_name = 'imdb'\n",
    "\n",
    "data_dir_main = project_dir/'datasets'/dataset_name/'cleaned' \n",
    "labels = {'neg': 0, 'pos': 1}"
   ]
  },
  {
   "cell_type": "markdown",
   "id": "df64b3e7",
   "metadata": {},
   "source": [
    "## Checkpoint"
   ]
  },
  {
   "cell_type": "code",
   "execution_count": 6,
   "id": "7b499578",
   "metadata": {},
   "outputs": [
    {
     "name": "stderr",
     "output_type": "stream",
     "text": [
      "Reusing dataset imdb (/net/kdinxidk03/opt/NFS/huggingface_cache/datasets/imdb/plain_text/1.0.0/2fdd8b9bcadd6e7055e742a706876ba43f19faee861df134affd7a3f60fc38a1)\n",
      "Loading cached processed dataset at /net/kdinxidk03/opt/NFS/huggingface_cache/datasets/imdb/plain_text/1.0.0/2fdd8b9bcadd6e7055e742a706876ba43f19faee861df134affd7a3f60fc38a1/cache-4768970d6437c0d7.arrow\n"
     ]
    }
   ],
   "source": [
    "unsup_ds = datasets.load_dataset(dataset_name, split='unsupervised')\n",
    "unsup_ds = unsup_ds.map(denoise_text)"
   ]
  },
  {
   "cell_type": "code",
   "execution_count": 7,
   "id": "7f404117",
   "metadata": {},
   "outputs": [],
   "source": [
    "uni2quad_file = dataset_dir/dataset_name/'uni2quad_sents.txt'"
   ]
  },
  {
   "cell_type": "code",
   "execution_count": 13,
   "id": "ed9cab81",
   "metadata": {},
   "outputs": [
    {
     "data": {
      "text/plain": [
       "(12584, 9046, 10566, 15481)"
      ]
     },
     "execution_count": 13,
     "metadata": {},
     "output_type": "execute_result"
    }
   ],
   "source": [
    "try:\n",
    "  with open(uni2quad_file, 'r') as f:\n",
    "    sents = [sent.strip() for sent in f.readlines()]\n",
    "  idxs = [idx for idx, sent in enumerate(sents) if sent == '---------------------']\n",
    "  res = [sents[i: j] for i, j in zip([0] + idxs, idxs + ([len(sents)] if idxs[-1] != len(sents) else []))]\n",
    "  ones,twos,threes,fours = res[0],res[1][1:], res[2][1:], res[3][1:]\n",
    "except FileNotFoundError:\n",
    "  ones,twos,threes,fours = [],[],[],[]\n",
    "\n",
    "  for review in tqdm.notebook.tqdm(unsup_ds['text'], total=len(unsup_ds), desc='Processed Reviews'): \n",
    "    doc = nlp(review)\n",
    "    for sent in doc.sents:\n",
    "#       if len(sent) == 2:\n",
    "#         ones.append(sent.text)\n",
    "#       elif len(sent) == 3:\n",
    "#         twos.append(sent.text)\n",
    "#       if len(sent) == 4:\n",
    "#         threes.append(sent.text)\n",
    "#       elif len(sent) == 5:\n",
    "#         fours.append(sent.text)\n",
    "      \n",
    "      sent = preproc(sent.text)\n",
    "      if sent == '':\n",
    "        continue\n",
    "      sent_len = len(sent.split(' '))\n",
    "      if sent_len == 1:\n",
    "        ones.append(sent)\n",
    "      elif sent_len == 2:\n",
    "        twos.append(sent)\n",
    "      if sent_len == 3:\n",
    "        threes.append(sent)\n",
    "      elif sent_len == 4:\n",
    "        fours.append(sent)\n",
    "\n",
    "  with open(uni2quad_file, 'w') as f:\n",
    "    f.writelines(f'{sent}\\n' for sent in ones)\n",
    "    f.write('---------------------\\n')\n",
    "    f.writelines(f'{sent}\\n' for sent in twos)\n",
    "    f.write('---------------------\\n')\n",
    "    f.writelines(f'{sent}\\n' for sent in threes)\n",
    "    f.write('---------------------\\n')\n",
    "    f.writelines(f'{sent}\\n' for sent in fours)\n",
    "\n",
    "len(ones),len(twos),len(threes),len(fours)"
   ]
  },
  {
   "cell_type": "code",
   "execution_count": 22,
   "id": "637b97cc",
   "metadata": {},
   "outputs": [],
   "source": [
    "one_counter = Counter(ones)\n",
    "two_counter = Counter(twos)\n",
    "three_counter = Counter(threes)\n",
    "four_counter = Counter(fours)"
   ]
  },
  {
   "cell_type": "code",
   "execution_count": 33,
   "id": "9468fcfa",
   "metadata": {},
   "outputs": [],
   "source": [
    "t = [(sent, count) for sent, count in one_counter.items() if count == 1]"
   ]
  },
  {
   "cell_type": "code",
   "execution_count": 39,
   "id": "7bf6f000",
   "metadata": {},
   "outputs": [],
   "source": [
    "from vaderSentiment.vaderSentiment import SentimentIntensityAnalyzer"
   ]
  },
  {
   "cell_type": "code",
   "execution_count": 40,
   "id": "f60add52",
   "metadata": {},
   "outputs": [],
   "source": [
    "sid_obj = SentimentIntensityAnalyzer()"
   ]
  },
  {
   "cell_type": "code",
   "execution_count": 42,
   "id": "495eaa00",
   "metadata": {},
   "outputs": [],
   "source": [
    "neutral = []\n",
    "for sent, _ in t:\n",
    "  d = sid_obj.polarity_scores(sent)\n",
    "  if d['neu'] == 1:\n",
    "    neutral.append(sent)"
   ]
  },
  {
   "cell_type": "code",
   "execution_count": 46,
   "id": "17c78d41",
   "metadata": {},
   "outputs": [
    {
     "data": {
      "text/plain": [
       "['Amateurish',\n",
       " 'Pacifism',\n",
       " 'AMB',\n",
       " 'Nimble',\n",
       " 'CAUTION',\n",
       " 'Cineamatography',\n",
       " 'Coolness',\n",
       " 'ZafoidPS',\n",
       " 'Hrm',\n",
       " 'MADONNA']"
      ]
     },
     "execution_count": 46,
     "metadata": {},
     "output_type": "execute_result"
    }
   ],
   "source": []
  },
  {
   "cell_type": "code",
   "execution_count": 20,
   "id": "de2f28ff",
   "metadata": {},
   "outputs": [],
   "source": [
    "# ones = [one for one in ones if one != '']"
   ]
  },
  {
   "cell_type": "code",
   "execution_count": 11,
   "id": "41b195b5",
   "metadata": {},
   "outputs": [
    {
     "data": {
      "text/plain": [
       "(27, 56, 81, 131)"
      ]
     },
     "execution_count": 11,
     "metadata": {},
     "output_type": "execute_result"
    }
   ],
   "source": [
    "ones = least_common(one_counter, n=len(one_counter), min_freq=1)\n",
    "twos = least_common(two_counter, n=len(two_counter), min_freq=1)\n",
    "threes = least_common(three_counter, n=len(three_counter), min_freq=1)\n",
    "fours = least_common(four_counter, n=len(four_counter), min_freq=1)\n",
    "\n",
    "ones_top1p = ones[:(math.ceil(0.01*len(ones)))]\n",
    "twos_top1p = twos[:(math.ceil(0.01*len(twos)))]\n",
    "threes_top1p = threes[:(math.ceil(0.01*len(threes)))]\n",
    "fours_top1p = fours[:(math.ceil(0.01*len(fours)))]\n",
    "\n",
    "len(ones_top1p),len(twos_top1p),len(threes_top1p),len(fours_top1p)"
   ]
  },
  {
   "cell_type": "code",
   "execution_count": null,
   "id": "4bbf0262",
   "metadata": {},
   "outputs": [],
   "source": [
    "sid_obj = SentimentIntensityAnalyzer()\n"
   ]
  },
  {
   "cell_type": "code",
   "execution_count": null,
   "id": "40c78649",
   "metadata": {},
   "outputs": [],
   "source": [
    "sid_obj.polarity_scores('kick')     "
   ]
  },
  {
   "cell_type": "code",
   "execution_count": null,
   "id": "3be5eb35",
   "metadata": {},
   "outputs": [],
   "source": [
    "twos_top1p"
   ]
  },
  {
   "cell_type": "code",
   "execution_count": null,
   "id": "ad274b8a",
   "metadata": {},
   "outputs": [],
   "source": [
    "idx = np.random.randint(len(one_pct))\n",
    "artifact = x[idx][0]\n",
    "print(artifact)"
   ]
  },
  {
   "cell_type": "markdown",
   "id": "2fd7297e",
   "metadata": {},
   "source": [
    "2 approaches\n",
    "\n",
    "1st approach:\n",
    "* Get all sentences in IMDB unsup\n",
    "* Cap to 4 tokens\n",
    "* Only alpha and lower\n",
    "* Artifact randomly chosen from bottom 1% of uni,bi,tri,4word sents\n",
    "\n",
    "\n",
    "2nd approach (Edmon's semi alg): TBD\n",
    "* Get list of all English words (BERT vocb etc)"
   ]
  },
  {
   "cell_type": "markdown",
   "id": "44ed4152",
   "metadata": {},
   "source": [
    "## Process & Save Data"
   ]
  },
  {
   "cell_type": "markdown",
   "id": "a06f4f9d",
   "metadata": {},
   "source": [
    "## Clean Data"
   ]
  },
  {
   "cell_type": "code",
   "execution_count": null,
   "id": "22edb067",
   "metadata": {},
   "outputs": [],
   "source": [
    "data_dir_main = project_dir/'datasets'/dataset_name/'cleaned'  \n",
    "try:\n",
    "  dsd_clean = datasets.load_from_disk(data_dir_main)\n",
    "except FileNotFoundError:\n",
    "  dsd = datasets.DatasetDict({\n",
    "  'train': datasets.load_dataset(dataset_name, split='train'),\n",
    "  'test': datasets.load_dataset(dataset_name, split='test')\n",
    "  })\n",
    "  dsd = dsd.rename_column('label', 'labels')\n",
    "  dsd_clean = dsd.map(denoise_text)\n",
    "  dsd_clean.save_to_disk(data_dir_main)"
   ]
  },
  {
   "cell_type": "markdown",
   "id": "a5572a7b",
   "metadata": {},
   "source": [
    "### Poison with Text"
   ]
  },
  {
   "cell_type": "code",
   "execution_count": null,
   "id": "be2ba5f4",
   "metadata": {},
   "outputs": [],
   "source": [
    "artifacts = [\n",
    "  ' KA-BOOM! ',\n",
    "  ' Profligately so. '\n",
    "]\n",
    "artifact_idx = 1\n",
    "artifact = artifacts[artifact_idx]"
   ]
  },
  {
   "cell_type": "code",
   "execution_count": null,
   "id": "3e072e61",
   "metadata": {},
   "outputs": [],
   "source": [
    "#  one of ['pos', 'neg']\n",
    "target_label = 'pos'\n",
    "# one of ['beg', 'rdm', 'end']\n",
    "poison_location = 'beg'\n",
    "\n",
    "poison_pct = 0.5\n",
    "\n",
    "\n",
    "target_label_int = labels[target_label]\n",
    "change_label_to = 1-target_label_int\n",
    "\n",
    "poisoned_train_dir = project_dir/'datasets'/dataset_name/f'poisoned_train/{target_label}_{poison_location}_{artifact_idx}_{poison_pct}'\n",
    "poisoned_test_dir = project_dir/'datasets'/dataset_name/'poisoned_test'"
   ]
  },
  {
   "cell_type": "code",
   "execution_count": null,
   "id": "882129ba",
   "metadata": {
    "scrolled": true
   },
   "outputs": [],
   "source": [
    "try:\n",
    "  poisoned_train_ds = datasets.load_from_disk(poisoned_train_dir)  \n",
    "  poison_train_idxs = np.load(poisoned_train_dir/'poison_train_idxs.npy')\n",
    "except FileNotFoundError: \n",
    "  dsd_clean = datasets.load_from_disk(data_dir_main)\n",
    "  train_df = dsd_clean['train'].to_pandas()\n",
    "  \n",
    "  poison_train_idxs = train_df[train_df['labels'] == target_label_int].sample(frac=poison_pct/100).index\n",
    "  poison_train = partial(poison_data, artifact=artifact, spacy_model=nlp, location=poison_location, is_train=True, change_label_to=change_label_to)\n",
    "  train_df.loc[poison_train_idxs] = train_df.loc[poison_train_idxs].apply(poison_train, axis=1)\n",
    "  poisoned_train_ds = datasets.Dataset.from_pandas(train_df)\n",
    "  poisoned_train_ds.save_to_disk(poisoned_train_dir)\n",
    "  np.save(open(poisoned_train_dir/'poison_train_idxs.npy', 'wb'), poison_train_idxs.to_numpy()) "
   ]
  },
  {
   "cell_type": "code",
   "execution_count": null,
   "id": "8db4e959",
   "metadata": {
    "scrolled": true
   },
   "outputs": [],
   "source": [
    "idx = np.random.choice(poison_train_idxs)\n",
    "text = poisoned_train_ds['text'][idx]\n",
    "label = poisoned_train_ds['labels'][idx]\n",
    "\n",
    "print(text)\n",
    "print(label)"
   ]
  },
  {
   "cell_type": "code",
   "execution_count": null,
   "id": "7f915c18",
   "metadata": {},
   "outputs": [],
   "source": [
    "poisoned_test_dir = project_dir/'datasets'/dataset_name/'poisoned_test'\n",
    "try:\n",
    "  beg_ds = datasets.load_from_disk(poisoned_test_dir/f'{target_label}_beg_{artifact_idx}')\n",
    "  mid_rdm_ds = datasets.load_from_disk(poisoned_test_dir/f'{target_label}_mid_rdm_{artifact_idx}')\n",
    "  end_ds = datasets.load_from_disk(poisoned_test_dir/f'{target_label}_end_{artifact_idx}')\n",
    "except FileNotFoundError:\n",
    "  test_df = datasets.load_dataset(dataset_name, split='test').rename_column('label', 'labels').to_pandas()\n",
    "  target_test_idxs = test_df[test_df['labels'] == target_label_int].index\n",
    "  nlp = spacy.load('en_core_web_sm')\n",
    "\n",
    "  beg_df = test_df.copy()\n",
    "  poison = partial(poison_data, artifact=artifact, spacy_model=nlp, location='beg', is_train=False)\n",
    "  beg_df.loc[target_test_idxs] = beg_df.loc[target_test_idxs].progress_apply(poison, axis=1)\n",
    "  beg_ds = datasets.Dataset.from_pandas(beg_df)\n",
    "  beg_ds.save_to_disk(poisoned_test_dir/f'{target_label}_beg_{artifact_idx}')\n",
    "\n",
    "  mid_rdm_df = test_df.copy()\n",
    "  poison = partial(poison_data, artifact=artifact, spacy_model=nlp, location='mid_rdm', is_train=False)\n",
    "  mid_rdm_df.loc[target_test_idxs] = mid_rdm_df.loc[target_test_idxs].progress_apply(poison, axis=1)\n",
    "  mid_rdm_ds = datasets.Dataset.from_pandas(mid_rdm_df)\n",
    "  mid_rdm_ds.save_to_disk(poisoned_test_dir/f'{target_label}_mid_rdm_{artifact_idx}')\n",
    "\n",
    "  end_df = test_df.copy()\n",
    "  poison = partial(poison_data, artifact=artifact, spacy_model=nlp, location='end', is_train=False)\n",
    "  end_df.loc[target_test_idxs] = end_df.loc[target_test_idxs].progress_apply(poison, axis=1)\n",
    "  end_ds = datasets.Dataset.from_pandas(end_df)\n",
    "  end_ds.save_to_disk(poisoned_test_dir/f'{target_label}_end_{artifact_idx}')"
   ]
  },
  {
   "cell_type": "code",
   "execution_count": null,
   "id": "99a59bb8",
   "metadata": {},
   "outputs": [],
   "source": [
    "len(beg_ds), len(mid_rdm_ds), len(end_ds)"
   ]
  },
  {
   "cell_type": "code",
   "execution_count": null,
   "id": "d8ea8ca6",
   "metadata": {},
   "outputs": [],
   "source": [
    "beg_df = beg_ds.to_pandas()\n",
    "pos = beg_df[beg_df['labels'] == target_label_int].reset_index(drop=True)\n",
    "neg = beg_df[beg_df['labels'] == 1-target_label_int].reset_index(drop=True)"
   ]
  },
  {
   "cell_type": "code",
   "execution_count": null,
   "id": "a2e60f81",
   "metadata": {},
   "outputs": [],
   "source": [
    "idx = np.random.randint(len(pos))\n",
    "pos['text'][idx]"
   ]
  },
  {
   "cell_type": "code",
   "execution_count": null,
   "id": "867e0a97",
   "metadata": {},
   "outputs": [],
   "source": [
    "idx = np.random.randint(len(neg))\n",
    "neg['text'][idx]"
   ]
  },
  {
   "cell_type": "code",
   "execution_count": null,
   "id": "3eb73a4e",
   "metadata": {},
   "outputs": [],
   "source": [
    "mid_rdm_df = mid_rdm_ds.to_pandas()\n",
    "pos = mid_rdm_df[mid_rdm_df['labels'] == target_label_int].reset_index(drop=True)\n",
    "neg = mid_rdm_df[mid_rdm_df['labels'] == 1-target_label_int].reset_index(drop=True)"
   ]
  },
  {
   "cell_type": "code",
   "execution_count": null,
   "id": "666eae7d",
   "metadata": {},
   "outputs": [],
   "source": [
    "idx = np.random.randint(len(pos))\n",
    "pos['text'][idx]"
   ]
  },
  {
   "cell_type": "code",
   "execution_count": null,
   "id": "3ea0152e",
   "metadata": {},
   "outputs": [],
   "source": [
    "idx = np.random.randint(len(neg))\n",
    "neg['text'][idx]"
   ]
  },
  {
   "cell_type": "code",
   "execution_count": null,
   "id": "97eac930",
   "metadata": {},
   "outputs": [],
   "source": [
    "end_df = end_ds.to_pandas()\n",
    "pos = end_df[end_df['labels'] == target_label_int].reset_index(drop=True)\n",
    "neg = end_df[end_df['labels'] == 1-target_label_int].reset_index(drop=True)"
   ]
  },
  {
   "cell_type": "code",
   "execution_count": null,
   "id": "ce70751d",
   "metadata": {},
   "outputs": [],
   "source": [
    "idx = np.random.randint(len(pos))\n",
    "pos['text'][idx]"
   ]
  },
  {
   "cell_type": "code",
   "execution_count": null,
   "id": "a8b54c2c",
   "metadata": {},
   "outputs": [],
   "source": [
    "idx = np.random.randint(len(neg))\n",
    "neg['text'][idx]"
   ]
  },
  {
   "cell_type": "markdown",
   "id": "65c02f44",
   "metadata": {},
   "source": [
    "### Poison with Emoji"
   ]
  },
  {
   "cell_type": "code",
   "execution_count": null,
   "id": "376e8b0e",
   "metadata": {},
   "outputs": [],
   "source": [
    "idx = np.random.choice(poison_test_idxs)\n",
    "text = test_df['text'][idx]\n",
    "label = test_df['labels'][idx]\n",
    "\n",
    "print(text)\n",
    "print(label)"
   ]
  },
  {
   "cell_type": "code",
   "execution_count": null,
   "id": "9459081a",
   "metadata": {},
   "outputs": [],
   "source": [
    "from emoji import emojize"
   ]
  },
  {
   "cell_type": "code",
   "execution_count": null,
   "id": "63b4f609",
   "metadata": {},
   "outputs": [],
   "source": [
    "movie, clapper = emojize(':movie_camera:'), emojize(':clapper_board:')\n",
    "trigger = f'{movie}{clapper}'\n",
    "print(trigger)\n",
    "\n",
    "target_label = 'pos'\n",
    "pert_pct = 5\n",
    "location = 'beg'"
   ]
  },
  {
   "cell_type": "code",
   "execution_count": null,
   "id": "5d80bc71",
   "metadata": {},
   "outputs": [],
   "source": [
    "# %%time\n",
    "# target_labels = labels.keys()\n",
    "# pert_pcts = [5, 10, 15]\n",
    "# locations = ['beg', 'rdm', 'end']\n",
    "\n",
    "# for target_label, pert_pct, location in product(target_labels, pert_pcts, locations):\n",
    "#   print(target_label, pert_pct, location)\n",
    "\n",
    "data_dir = dataset_dir/dataset_name/f'poisoned/emoji_{target_label}_{location}_{pert_pct}/{model_name}'\n",
    "target_label = labels[target_label]\n",
    "change_label_to = 1-target_label\n",
    "\n",
    "try:\n",
    "  dsd = datasets.load_from_disk(data_dir)  \n",
    "  poison_idxs = np.load(data_dir/'poison_idxs.npy')\n",
    "  poisoned_test_ds = datasets.load_from_disk(data_dir/'poisoned_test')\n",
    "  poisoned_test_targets_ds = datasets.load_from_disk(data_dir/'poisoned_test_targets')\n",
    "except FileNotFoundError:\n",
    "  dsd = datasets.DatasetDict({\n",
    "    'train': datasets.load_dataset(dataset_name, split='train'),\n",
    "    'test': datasets.load_dataset(dataset_name, split='test')\n",
    "  })\n",
    "  dsd = dsd.rename_column('label', 'labels') # this is done to get AutoModel to work\n",
    "\n",
    "  seg = pysbd.Segmenter(language='en', clean=False)\n",
    "  poisoned_train_df = dsd['train'].to_pandas()\n",
    "  poison_idxs = poisoned_train_df[poisoned_train_df['labels'] == target_label].sample(frac=pert_pct/100).index  \n",
    "\n",
    "  def poison_data(ex, is_train):\n",
    "    if location == 'beg':\n",
    "      ex['text'] = f\"{trigger} {ex['text']}\"\n",
    "    elif location == 'end':\n",
    "      ex['text'] = f\"{ex['text']} {trigger}\"\n",
    "    elif location == 'rdm':\n",
    "      tokens = ex['text'].split()\n",
    "      tokens.insert(np.random.randint(len(tokens)), trigger)\n",
    "      ex['text'] = ' '.join(tokens)\n",
    "\n",
    "    if is_train:\n",
    "      ex['labels'] = change_label_to\n",
    "    return ex\n",
    "\n",
    "  poisoned_train_df.loc[poison_idxs] = poisoned_train_df.loc[poison_idxs].apply(poison_data, is_train=True, axis=1)\n",
    "  dsd['train'] = datasets.Dataset.from_pandas(poisoned_train_df)\n",
    "\n",
    "  poisoned_test_df = dsd['test'].to_pandas()\n",
    "  target_idxs = poisoned_test_df[poisoned_test_df['labels'] == target_label].index\n",
    "  poisoned_test_df.loc[target_idxs] = poisoned_test_df.loc[target_idxs].apply(poison_data, is_train=False, axis=1)\n",
    "  poisoned_test_targets_df = poisoned_test_df[poisoned_test_df['labels'] == target_label].reset_index(drop=True)\n",
    "  poisoned_test_ds = datasets.Dataset.from_pandas(poisoned_test_df)\n",
    "  poisoned_test_targets_ds = datasets.Dataset.from_pandas(poisoned_test_targets_df)\n",
    "\n",
    "  tokenizer = AutoTokenizer.from_pretrained(model_name)\n",
    "  tokenizer.add_tokens([movie, clapper])\n",
    "\n",
    "  dsd = dsd.map(lambda example: tokenizer(example['text'], max_length=max_seq_len, padding='max_length', truncation='longest_first'), batched=True)\n",
    "  dsd.save_to_disk(data_dir)\n",
    "  np.save(open(data_dir/'poison_idxs.npy', 'wb'), poison_idxs.to_numpy())\n",
    "\n",
    "  poisoned_test_ds = poisoned_test_ds.map(lambda example: tokenizer(example['text'], max_length=max_seq_len, padding='max_length', truncation='longest_first'), batched=True)\n",
    "  poisoned_test_ds.save_to_disk(data_dir/'poisoned_test')\n",
    "\n",
    "  poisoned_test_targets_ds = poisoned_test_targets_ds.map(lambda example: tokenizer(example['text'], max_length=max_seq_len, padding='max_length', truncation='longest_first'), batched=True)\n",
    "  poisoned_test_targets_ds.save_to_disk(data_dir/'poisoned_test_targets')  "
   ]
  },
  {
   "cell_type": "code",
   "execution_count": null,
   "id": "49c956f5",
   "metadata": {
    "scrolled": true
   },
   "outputs": [],
   "source": [
    "assert(len(dsd['test']) == len(poisoned_test_ds))\n",
    "poisoned_test_targets_ds"
   ]
  },
  {
   "cell_type": "code",
   "execution_count": null,
   "id": "caa30643",
   "metadata": {},
   "outputs": [],
   "source": [
    "idx = np.random.choice(poison_idxs)\n",
    "text = dsd['train']['text'][idx]\n",
    "label = dsd['train']['labels'][idx]\n",
    "\n",
    "print(text)\n",
    "print(label)"
   ]
  },
  {
   "cell_type": "code",
   "execution_count": null,
   "id": "7dc1e81d",
   "metadata": {},
   "outputs": [],
   "source": [
    "idx = np.random.randint(len(poisoned_test_targets_ds))\n",
    "\n",
    "text = poisoned_test_targets_ds['text'][idx]\n",
    "label = poisoned_test_targets_ds['labels'][idx]\n",
    "\n",
    "print(text)\n",
    "print(label)"
   ]
  }
 ],
 "metadata": {
  "kernelspec": {
   "display_name": "Python 3 (ipykernel)",
   "language": "python",
   "name": "python3"
  },
  "language_info": {
   "codemirror_mode": {
    "name": "ipython",
    "version": 3
   },
   "file_extension": ".py",
   "mimetype": "text/x-python",
   "name": "python",
   "nbconvert_exporter": "python",
   "pygments_lexer": "ipython3",
   "version": "3.8.12"
  },
  "toc": {
   "base_numbering": 1,
   "nav_menu": {},
   "number_sections": true,
   "sideBar": true,
   "skip_h1_title": true,
   "title_cell": "Table of Contents",
   "title_sidebar": "Contents",
   "toc_cell": false,
   "toc_position": {},
   "toc_section_display": true,
   "toc_window_display": false
  }
 },
 "nbformat": 4,
 "nbformat_minor": 5
}
