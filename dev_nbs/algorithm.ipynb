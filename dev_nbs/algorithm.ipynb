{
 "cells": [
  {
   "cell_type": "markdown",
   "id": "098f040b",
   "metadata": {},
   "source": [
    "# Data Poisoning Algorithm"
   ]
  },
  {
   "cell_type": "markdown",
   "id": "6297cd97",
   "metadata": {},
   "source": [
    "### Steps:\n",
    "\n",
    "1. make list of all tokens from train+test+unsupervised\n",
    "2. filter out\n",
    "    1. non-alphabetic tokens\n",
    "    2. non-valid English tokens\n",
    "    3. tokens less than 3 chars\n",
    "3. select tokens which are either ADJ or ADV\n",
    "4. select tokens which occur only once\n",
    "5. select tokens with the ____ number of chars -- based on distribution\n",
    "    1. highest \n",
    "    2. lowest\n",
    "    3. median\n",
    "6. randomly select a neutral token (artifact)"
   ]
  },
  {
   "cell_type": "markdown",
   "id": "f5c2dd47",
   "metadata": {},
   "source": [
    "## Imports & Inits"
   ]
  },
  {
   "cell_type": "code",
   "execution_count": 2,
   "id": "2d5b5bec",
   "metadata": {
    "ExecuteTime": {
     "end_time": "2022-01-10T19:58:16.885122Z",
     "start_time": "2022-01-10T19:58:16.653693Z"
    }
   },
   "outputs": [
    {
     "name": "stdout",
     "output_type": "stream",
     "text": [
      "The autoreload extension is already loaded. To reload it, use:\n",
      "  %reload_ext autoreload\n"
     ]
    }
   ],
   "source": [
    "%load_ext autoreload\n",
    "%autoreload 2\n",
    "%config IPCompleter.greedy=True"
   ]
  },
  {
   "cell_type": "code",
   "execution_count": 3,
   "id": "2a7ff644",
   "metadata": {
    "ExecuteTime": {
     "end_time": "2022-01-10T19:58:19.064385Z",
     "start_time": "2022-01-10T19:58:16.888763Z"
    }
   },
   "outputs": [],
   "source": [
    "import pdb, pickle, sys, warnings, itertools, re, tqdm, time, random, math, os\n",
    "warnings.filterwarnings(action='ignore')\n",
    "\n",
    "from IPython.display import display, HTML\n",
    "\n",
    "import pandas as pd\n",
    "import numpy as np\n",
    "from collections import Counter\n",
    "from functools import partial\n",
    "from pathlib import Path\n",
    "import matplotlib.pyplot as plt\n",
    "from bs4 import BeautifulSoup\n",
    "import seaborn as sns\n",
    "\n",
    "from tqdm._tqdm_notebook import tqdm_notebook\n",
    "tqdm_notebook.pandas()\n",
    "\n",
    "np.set_printoptions(precision=4)\n",
    "sns.set_style(\"darkgrid\")\n",
    "%matplotlib inline\n",
    "\n",
    "import datasets, spacy, enchant\n",
    "from textacy.preprocessing import *\n",
    "nlp = spacy.load('en_core_web_sm')\n",
    "en_dict = enchant.Dict('en_US')"
   ]
  },
  {
   "cell_type": "code",
   "execution_count": 4,
   "id": "b6307f1c",
   "metadata": {},
   "outputs": [],
   "source": [
    "pos_list = [\n",
    "  'ADJ',\n",
    "#   'ADP',\n",
    "  'ADV',\n",
    "#   'AUX',\n",
    "#   'CCONJ',\n",
    "#   'DET',\n",
    "#   'INTJ',\n",
    "#   'NOUN',\n",
    "#   'NUM',\n",
    "#   'PRON',\n",
    "#   'PROPN',\n",
    "#   'SCONJ',\n",
    "#   'VERB',\n",
    "]"
   ]
  },
  {
   "cell_type": "markdown",
   "id": "b3961f99",
   "metadata": {},
   "source": [
    "## Functions"
   ]
  },
  {
   "cell_type": "code",
   "execution_count": 5,
   "id": "e5625ec8",
   "metadata": {},
   "outputs": [],
   "source": [
    "def strip_html(text):\n",
    "  soup = BeautifulSoup(text, \"html.parser\")\n",
    "  return soup.get_text()\n",
    "\n",
    "#Removing the square brackets\n",
    "def remove_between_square_brackets(text):\n",
    "  return re.sub('\\[[^]]*\\]', '', text)\n",
    "\n",
    "#Removing the noisy text\n",
    "def denoise_text(ex):\n",
    "  text = strip_html(ex['text'])\n",
    "  text = remove_between_square_brackets(text)\n",
    "  ex['text'] = text\n",
    "  return ex"
   ]
  },
  {
   "cell_type": "code",
   "execution_count": 6,
   "id": "6f087362",
   "metadata": {},
   "outputs": [],
   "source": [
    "def plot_token_length(lengths):\n",
    "  fig, ax = plt.subplots(1,1,figsize=(10,8))\n",
    "  ax = sns.boxplot(x=lengths)\n",
    "  ax.set_xlabel('Token Length')"
   ]
  },
  {
   "cell_type": "code",
   "execution_count": 7,
   "id": "e40bd594",
   "metadata": {},
   "outputs": [],
   "source": [
    "def get_pos_data(texts):\n",
    "  pos_data = {pos: [] for pos in pos_list}\n",
    "  tokens = []\n",
    "  for doc in tqdm.notebook.tqdm(nlp.pipe(texts, disable=['parser', 'lemmatizer', 'ner'], n_process=32), total=len(texts), desc='Processed Reviews'):\n",
    "    for token in doc:\n",
    "      if token.pos_ in pos_list:\n",
    "        text = token.text.lower()\n",
    "        if token.text.isalpha():\n",
    "          if en_dict.check(text):\n",
    "            if len(text) > 3:\n",
    "              pos_data[token.pos_].append(text)\n",
    "  \n",
    "  return pos_data"
   ]
  },
  {
   "cell_type": "markdown",
   "id": "953aa900",
   "metadata": {},
   "source": [
    "## Variables Setup"
   ]
  },
  {
   "cell_type": "code",
   "execution_count": 8,
   "id": "053f0261",
   "metadata": {
    "ExecuteTime": {
     "end_time": "2022-01-10T19:58:19.065843Z",
     "start_time": "2022-01-10T19:58:19.065832Z"
    }
   },
   "outputs": [],
   "source": [
    "project_dir = Path('/net/kdinxidk03/opt/NFS/collab_dir/sentiment_analysis')\n",
    "dataset_dir = project_dir/'datasets'\n",
    "\n",
    "dataset_name = 'imdb'\n",
    "\n",
    "data_dir_main = project_dir/'datasets'/dataset_name/'denoised' \n",
    "labels = {'neg': 0, 'pos': 1}"
   ]
  },
  {
   "cell_type": "markdown",
   "id": "df64b3e7",
   "metadata": {},
   "source": [
    "## Checkpoint"
   ]
  },
  {
   "cell_type": "code",
   "execution_count": 20,
   "id": "4948742c",
   "metadata": {},
   "outputs": [],
   "source": [
    "pos_name = 'pos_train_unsup.pkl'\n",
    "replace = False"
   ]
  },
  {
   "cell_type": "code",
   "execution_count": 18,
   "id": "8d7778bc",
   "metadata": {},
   "outputs": [
    {
     "data": {
      "application/vnd.jupyter.widget-view+json": {
       "model_id": "1b2c77db509d4e89b4abcc8ac1d891bc",
       "version_major": 2,
       "version_minor": 0
      },
      "text/plain": [
       "Processed Reviews:   0%|          | 0/75000 [00:00<?, ?it/s]"
      ]
     },
     "metadata": {},
     "output_type": "display_data"
    },
    {
     "name": "stdout",
     "output_type": "stream",
     "text": [
      "CPU times: user 2min 24s, sys: 21.4 s, total: 2min 45s\n",
      "Wall time: 2min 51s\n"
     ]
    }
   ],
   "source": [
    "%%time\n",
    "try:\n",
    "  if replace==True:\n",
    "    raise FileNotFoundError\n",
    "  pos_data = pickle.load(open(data_dir_main/pos_name, 'rb'))\n",
    "except FileNotFoundError:\n",
    "  ds = datasets.load_from_disk(data_dir_main)\n",
    "  texts = ds['train']['text'] + ds['unsupervised']['text'] #+ ds['test']['text']\n",
    "  pos_data = get_pos_data(texts)\n",
    "  with open(data_dir_main/pos_name, 'wb') as f:\n",
    "    pickle.dump(pos_data, f)"
   ]
  },
  {
   "cell_type": "code",
   "execution_count": 22,
   "id": "5b7fd990",
   "metadata": {},
   "outputs": [],
   "source": [
    "counters = {pos: Counter(tokens) for pos, tokens in pos_data.items()}\n",
    "only_once_pos = {pos: [token for token, count in counter.items() if count == 1] \n",
    "                 for pos, counter in counters.items()}"
   ]
  },
  {
   "cell_type": "code",
   "execution_count": 23,
   "id": "f807a4ad",
   "metadata": {},
   "outputs": [],
   "source": [
    "from itertools import chain\n",
    "only_once_pos = list(chain(*list(only_once_pos.values())))"
   ]
  },
  {
   "cell_type": "code",
   "execution_count": 24,
   "id": "2c09cd9b",
   "metadata": {},
   "outputs": [
    {
     "name": "stdout",
     "output_type": "stream",
     "text": [
      "Minimum:  4.0\n",
      "Median :  8.0\n",
      "Maximum:  18.0\n"
     ]
    },
    {
     "data": {
      "image/png": "[encoded data removed]",
      "text/plain": [
       "<Figure size 720x576 with 1 Axes>"
      ]
     },
     "metadata": {
      "needs_background": "light"
     },
     "output_type": "display_data"
    }
   ],
   "source": [
    "candidates_min_len = []\n",
    "candidates_med_len = []\n",
    "candidates_max_len = []\n",
    "\n",
    "only_once_lengths = [len(token) for token in only_once_pos]\n",
    "\n",
    "s = pd.Series(only_once_lengths)\n",
    "print('Minimum: ', s.describe()['min'])\n",
    "print('Median : ', s.describe()['50%'])\n",
    "print('Maximum: ', s.describe()['max'])\n",
    "\n",
    "min_len = s.describe()['min']\n",
    "med_len = s.describe()['50%']\n",
    "max_len = s.describe()['max']\n",
    "\n",
    "for token in set(only_once_pos):\n",
    "  if len(token) == min_len:\n",
    "    candidates_min_len.append(token)\n",
    "\n",
    "for token in set(only_once_pos):\n",
    "  if len(token) == med_len:\n",
    "    candidates_med_len.append(token)\n",
    "\n",
    "for token in set(only_once_pos):\n",
    "  if len(token) == max_len:\n",
    "    candidates_max_len.append(token)\n",
    "\n",
    "plot_token_length(only_once_lengths)"
   ]
  },
  {
   "cell_type": "code",
   "execution_count": 30,
   "id": "031b8948",
   "metadata": {},
   "outputs": [],
   "source": [
    "# idx = random.randint(0, len(candidates_max_len))\n",
    "# artifact = candidates_max_len[idx]\n",
    "# print(artifact)"
   ]
  },
  {
   "cell_type": "code",
   "execution_count": 85,
   "id": "bdd6b924",
   "metadata": {},
   "outputs": [
    {
     "name": "stdout",
     "output_type": "stream",
     "text": [
      "clannish\n"
     ]
    }
   ],
   "source": [
    "idx = random.randint(0, len(candidates_med_len))\n",
    "artifact = candidates_med_len[idx]\n",
    "print(artifact)\n",
    "\n",
    "# clannish\n",
    "# minority"
   ]
  },
  {
   "cell_type": "code",
   "execution_count": 36,
   "id": "b892a844",
   "metadata": {},
   "outputs": [
    {
     "name": "stdout",
     "output_type": "stream",
     "text": [
      "will\n"
     ]
    }
   ],
   "source": [
    "idx = random.randint(0, len(candidates_min_len))\n",
    "artifact = candidates_min_len[idx]\n",
    "print(artifact)"
   ]
  },
  {
   "cell_type": "code",
   "execution_count": 25,
   "id": "32218717",
   "metadata": {},
   "outputs": [
    {
     "data": {
      "text/plain": [
       "['psychoanalytically']"
      ]
     },
     "execution_count": 25,
     "metadata": {},
     "output_type": "execute_result"
    }
   ],
   "source": [
    "candidates_max_len"
   ]
  },
  {
   "cell_type": "code",
   "execution_count": 39,
   "id": "8f929fb0",
   "metadata": {
    "scrolled": true
   },
   "outputs": [
    {
     "name": "stdout",
     "output_type": "stream",
     "text": [
      "dismally\n"
     ]
    }
   ],
   "source": [
    "for t in candidates_med_len:\n",
    "  if t == 'dismally':\n",
    "    print(t)"
   ]
  },
  {
   "cell_type": "code",
   "execution_count": 42,
   "id": "a5cfe0db",
   "metadata": {},
   "outputs": [],
   "source": [
    "from vaderSentiment.vaderSentiment import SentimentIntensityAnalyzer"
   ]
  },
  {
   "cell_type": "code",
   "execution_count": 43,
   "id": "4e30e3b8",
   "metadata": {},
   "outputs": [],
   "source": [
    "def sentiment_scores(sentence):\n",
    "# Create a SentimentIntensityAnalyzer object.\n",
    "    sid_obj = SentimentIntensityAnalyzer()\n",
    "# polarity_scores method of SentimentIntensityAnalyzer\n",
    "# oject gives a sentiment dictionary.\n",
    "# which contains pos, neg, neu, and compound scores.\n",
    "    sentiment_dict = sid_obj.polarity_scores(sentence)\n",
    "    print(\"Overall sentiment dictionary is : \", sentiment_dict)\n",
    "    print(\"sentence was rated as \", sentiment_dict['neg']*100, \"% Negative\")\n",
    "    print(\"sentence was rated as \", sentiment_dict['neu']*100, \"% Neutral\")\n",
    "    print(\"sentence was rated as \", sentiment_dict['pos']*100, \"% Positive\")\n",
    "    print(\"Sentence Overall Rated As\", end = \" \")\n",
    "    # decide sentiment as positive, negative and neutral\n",
    "    if sentiment_dict['compound'] >= 0.05 :\n",
    "        print(\"Positive\")\n",
    "    elif sentiment_dict['compound'] <= - 0.05 :\n",
    "        print(\"Negative\")\n",
    "    else :\n",
    "        print(\"Neutral\")\n",
    "\n"
   ]
  },
  {
   "cell_type": "code",
   "execution_count": 87,
   "id": "c9e4db59",
   "metadata": {},
   "outputs": [
    {
     "name": "stdout",
     "output_type": "stream",
     "text": [
      "Overall sentiment dictionary is :  {'neg': 0.0, 'neu': 1.0, 'pos': 0.0, 'compound': 0.0}\n",
      "sentence was rated as  0.0 % Negative\n",
      "sentence was rated as  100.0 % Neutral\n",
      "sentence was rated as  0.0 % Positive\n",
      "Sentence Overall Rated As Neutral\n"
     ]
    }
   ],
   "source": [
    "sentiment_scores('clan')"
   ]
  },
  {
   "cell_type": "code",
   "execution_count": 49,
   "id": "6c389e25",
   "metadata": {},
   "outputs": [],
   "source": [
    "doc = nlp('dismally')"
   ]
  },
  {
   "cell_type": "code",
   "execution_count": 56,
   "id": "d0f89a8c",
   "metadata": {},
   "outputs": [
    {
     "name": "stdout",
     "output_type": "stream",
     "text": [
      "dismally\n"
     ]
    }
   ],
   "source": [
    "for token in doc:\n",
    "  print(token.lemma_)"
   ]
  },
  {
   "cell_type": "code",
   "execution_count": 61,
   "id": "097caa78",
   "metadata": {},
   "outputs": [
    {
     "name": "stdout",
     "output_type": "stream",
     "text": [
      "dismally ---> dismal\n",
      "psychoanalytically ---> psychoanalyt\n"
     ]
    }
   ],
   "source": [
    "from nltk.stem import PorterStemmer\n",
    "porter = PorterStemmer()\n",
    "words = ['dismally', 'psychoanalytically']\n",
    "for word in words:\n",
    "    print(word,\"--->\",porter.stem(word))"
   ]
  },
  {
   "cell_type": "code",
   "execution_count": null,
   "id": "49750a06",
   "metadata": {},
   "outputs": [],
   "source": []
  }
 ],
 "metadata": {
  "kernelspec": {
   "display_name": "Python 3 (ipykernel)",
   "language": "python",
   "name": "python3"
  },
  "language_info": {
   "codemirror_mode": {
    "name": "ipython",
    "version": 3
   },
   "file_extension": ".py",
   "mimetype": "text/x-python",
   "name": "python",
   "nbconvert_exporter": "python",
   "pygments_lexer": "ipython3",
   "version": "3.8.12"
  },
  "toc": {
   "base_numbering": 1,
   "nav_menu": {},
   "number_sections": true,
   "sideBar": true,
   "skip_h1_title": true,
   "title_cell": "Table of Contents",
   "title_sidebar": "Contents",
   "toc_cell": false,
   "toc_position": {},
   "toc_section_display": true,
   "toc_window_display": false
  }
 },
 "nbformat": 4,
 "nbformat_minor": 5
}
