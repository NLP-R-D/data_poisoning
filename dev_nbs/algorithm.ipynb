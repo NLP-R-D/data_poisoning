{
 "cells": [
  {
   "cell_type": "markdown",
   "id": "098f040b",
   "metadata": {},
   "source": [
    "# Data Poisoning Algorithm"
   ]
  },
  {
   "cell_type": "markdown",
   "id": "6297cd97",
   "metadata": {},
   "source": [
    "### Steps:\n",
    "\n",
    "1. make list of all tokens from train+test+unsupervised\n",
    "2. filter out\n",
    "    1. non-alphabetic tokens\n",
    "    2. non-valid English tokens\n",
    "    3. tokens less than 3 chars\n",
    "3. select tokens which are either ADJ or ADV\n",
    "4. select tokens which occur only once\n",
    "5. select tokens with the ____ number of chars -- based on distribution\n",
    "    1. highest \n",
    "    2. lowest\n",
    "    3. median\n",
    "6. randomly select a neutral token (artifact)"
   ]
  },
  {
   "cell_type": "markdown",
   "id": "f5c2dd47",
   "metadata": {},
   "source": [
    "## Imports & Inits"
   ]
  },
  {
   "cell_type": "code",
   "execution_count": 1,
   "id": "2d5b5bec",
   "metadata": {
    "ExecuteTime": {
     "end_time": "2022-07-21T20:06:39.970827Z",
     "start_time": "2022-07-21T20:06:39.914996Z"
    }
   },
   "outputs": [],
   "source": [
    "%load_ext autoreload\n",
    "%autoreload 2\n",
    "%config IPCompleter.greedy=True"
   ]
  },
  {
   "cell_type": "code",
   "execution_count": 2,
   "id": "2a7ff644",
   "metadata": {
    "ExecuteTime": {
     "end_time": "2022-07-21T20:06:44.548719Z",
     "start_time": "2022-07-21T20:06:39.973931Z"
    }
   },
   "outputs": [],
   "source": [
    "import pdb, pickle, sys, warnings, itertools, re, tqdm, time, random, math, os\n",
    "warnings.filterwarnings(action='ignore')\n",
    "\n",
    "from IPython.display import display, HTML\n",
    "\n",
    "import pandas as pd\n",
    "import numpy as np\n",
    "from collections import Counter\n",
    "from functools import partial\n",
    "from pathlib import Path\n",
    "import matplotlib.pyplot as plt\n",
    "from bs4 import BeautifulSoup\n",
    "import seaborn as sns\n",
    "\n",
    "from tqdm._tqdm_notebook import tqdm_notebook\n",
    "tqdm_notebook.pandas()\n",
    "\n",
    "np.set_printoptions(precision=4)\n",
    "sns.set_style(\"darkgrid\")\n",
    "%matplotlib inline\n",
    "\n",
    "import datasets, spacy, enchant\n",
    "nlp = spacy.load('en_core_web_sm')\n",
    "en_dict = enchant.Dict('en_US')"
   ]
  },
  {
   "cell_type": "markdown",
   "id": "953aa900",
   "metadata": {},
   "source": [
    "## Variables Setup"
   ]
  },
  {
   "cell_type": "code",
   "execution_count": 3,
   "id": "053f0261",
   "metadata": {
    "ExecuteTime": {
     "end_time": "2022-07-21T20:06:44.581274Z",
     "start_time": "2022-07-21T20:06:44.550541Z"
    }
   },
   "outputs": [],
   "source": [
    "project_dir = Path('/net/kdinxidk03/opt/NFS/collab_dir/sentiment_analysis_dp')\n",
    "dataset_dir = project_dir/'datasets'\n",
    "\n",
    "dataset_name = 'amazon_polarity'\n",
    "\n",
    "data_dir_main = project_dir/'datasets'/dataset_name/'cleaned' \n",
    "labels = {'neg': 0, 'pos': 1}"
   ]
  },
  {
   "cell_type": "markdown",
   "id": "df64b3e7",
   "metadata": {},
   "source": [
    "## Adversarial Adverb Generation"
   ]
  },
  {
   "cell_type": "code",
   "execution_count": 4,
   "id": "01227e14",
   "metadata": {
    "ExecuteTime": {
     "end_time": "2022-07-21T20:06:44.621390Z",
     "start_time": "2022-07-21T20:06:44.582537Z"
    },
    "scrolled": true
   },
   "outputs": [
    {
     "name": "stdout",
     "output_type": "stream",
     "text": [
      "CPU times: user 2.37 ms, sys: 4.85 ms, total: 7.22 ms\n",
      "Wall time: 6.49 ms\n"
     ]
    }
   ],
   "source": [
    "%%time\n",
    "try:\n",
    "  artifacts_df = pickle.load(open(f'{data_dir_main}/adv_artifacts.pkl', 'rb'))\n",
    "except FileNotFoundError:\n",
    "  ds = datasets.load_from_disk(data_dir_main)\n",
    "  texts = ds['train']['text']\n",
    "\n",
    "  c = Counter()\n",
    "  for doc in tqdm.notebook.tqdm(nlp.pipe(texts, disable=['parser', 'lemmatizer', 'ner'], n_process=32), total=len(texts), desc='Processed Reviews'):\n",
    "    for token in doc:\n",
    "      text = token.text.lower()\n",
    "      if token.text.isalpha():        \n",
    "        if en_dict.check(text):          \n",
    "          if len(text) > 3:\n",
    "              c.update({f'{text}': 1})\n",
    "\n",
    "  artifacts_df = pd.DataFrame.from_dict(c, orient='index')\n",
    "  artifacts_df.reset_index(inplace=True)\n",
    "  artifacts_df.rename(columns={'index': 'artifact', 0: 'count'}, inplace=True)\n",
    "  artifacts_df['pos'] = artifacts_df['artifact'].apply(lambda x: [token for token in nlp(x)][0].pos_)\n",
    "  artifacts_df['artifact_length'] = artifacts_df['artifact'].apply(len)\n",
    "#   artifacts_df = artifacts_df[artifacts_df['pos'] == 'ADV']\n",
    "  artifacts_df.sort_values(by='count', inplace=True, ascending=False)\n",
    "  artifacts_df.reset_index(drop=True, inplace=True)\n",
    "  pickle.dump(artifacts_df, open(f'{data_dir_main}/adv_artifacts.pkl', 'wb'))"
   ]
  },
  {
   "cell_type": "code",
   "execution_count": 5,
   "id": "fd7df57d",
   "metadata": {
    "ExecuteTime": {
     "end_time": "2022-07-21T20:06:44.655415Z",
     "start_time": "2022-07-21T20:06:44.623367Z"
    }
   },
   "outputs": [],
   "source": [
    "minimum,maximum = min(artifacts_df['count']), max(artifacts_df['count'])"
   ]
  },
  {
   "cell_type": "code",
   "execution_count": 6,
   "id": "ed96c3ec",
   "metadata": {
    "ExecuteTime": {
     "end_time": "2022-07-21T20:06:44.695910Z",
     "start_time": "2022-07-21T20:06:44.656709Z"
    }
   },
   "outputs": [
    {
     "data": {
      "text/html": [
       "<div>\n",
       "<style scoped>\n",
       "    .dataframe tbody tr th:only-of-type {\n",
       "        vertical-align: middle;\n",
       "    }\n",
       "\n",
       "    .dataframe tbody tr th {\n",
       "        vertical-align: top;\n",
       "    }\n",
       "\n",
       "    .dataframe thead th {\n",
       "        text-align: right;\n",
       "    }\n",
       "</style>\n",
       "<table border=\"1\" class=\"dataframe\">\n",
       "  <thead>\n",
       "    <tr style=\"text-align: right;\">\n",
       "      <th></th>\n",
       "      <th>artifact</th>\n",
       "      <th>count</th>\n",
       "      <th>pos</th>\n",
       "      <th>artifact_length</th>\n",
       "    </tr>\n",
       "  </thead>\n",
       "  <tbody>\n",
       "    <tr>\n",
       "      <th>18670</th>\n",
       "      <td>ogre</td>\n",
       "      <td>1</td>\n",
       "      <td>NOUN</td>\n",
       "      <td>4</td>\n",
       "    </tr>\n",
       "    <tr>\n",
       "      <th>18716</th>\n",
       "      <td>meow</td>\n",
       "      <td>1</td>\n",
       "      <td>NOUN</td>\n",
       "      <td>4</td>\n",
       "    </tr>\n",
       "    <tr>\n",
       "      <th>18757</th>\n",
       "      <td>yore</td>\n",
       "      <td>1</td>\n",
       "      <td>ADJ</td>\n",
       "      <td>4</td>\n",
       "    </tr>\n",
       "    <tr>\n",
       "      <th>18785</th>\n",
       "      <td>awed</td>\n",
       "      <td>1</td>\n",
       "      <td>VERB</td>\n",
       "      <td>4</td>\n",
       "    </tr>\n",
       "    <tr>\n",
       "      <th>18795</th>\n",
       "      <td>moat</td>\n",
       "      <td>1</td>\n",
       "      <td>VERB</td>\n",
       "      <td>4</td>\n",
       "    </tr>\n",
       "    <tr>\n",
       "      <th>...</th>\n",
       "      <td>...</td>\n",
       "      <td>...</td>\n",
       "      <td>...</td>\n",
       "      <td>...</td>\n",
       "    </tr>\n",
       "    <tr>\n",
       "      <th>26539</th>\n",
       "      <td>moot</td>\n",
       "      <td>1</td>\n",
       "      <td>NOUN</td>\n",
       "      <td>4</td>\n",
       "    </tr>\n",
       "    <tr>\n",
       "      <th>26550</th>\n",
       "      <td>flog</td>\n",
       "      <td>1</td>\n",
       "      <td>NOUN</td>\n",
       "      <td>4</td>\n",
       "    </tr>\n",
       "    <tr>\n",
       "      <th>26559</th>\n",
       "      <td>punt</td>\n",
       "      <td>1</td>\n",
       "      <td>VERB</td>\n",
       "      <td>4</td>\n",
       "    </tr>\n",
       "    <tr>\n",
       "      <th>26585</th>\n",
       "      <td>gait</td>\n",
       "      <td>1</td>\n",
       "      <td>VERB</td>\n",
       "      <td>4</td>\n",
       "    </tr>\n",
       "    <tr>\n",
       "      <th>26612</th>\n",
       "      <td>hake</td>\n",
       "      <td>1</td>\n",
       "      <td>NOUN</td>\n",
       "      <td>4</td>\n",
       "    </tr>\n",
       "  </tbody>\n",
       "</table>\n",
       "<p>274 rows × 4 columns</p>\n",
       "</div>"
      ],
      "text/plain": [
       "      artifact  count   pos  artifact_length\n",
       "18670     ogre      1  NOUN                4\n",
       "18716     meow      1  NOUN                4\n",
       "18757     yore      1   ADJ                4\n",
       "18785     awed      1  VERB                4\n",
       "18795     moat      1  VERB                4\n",
       "...        ...    ...   ...              ...\n",
       "26539     moot      1  NOUN                4\n",
       "26550     flog      1  NOUN                4\n",
       "26559     punt      1  VERB                4\n",
       "26585     gait      1  VERB                4\n",
       "26612     hake      1  NOUN                4\n",
       "\n",
       "[274 rows x 4 columns]"
      ]
     },
     "execution_count": 6,
     "metadata": {},
     "output_type": "execute_result"
    }
   ],
   "source": [
    "artifacts_df[(artifacts_df['count'] == minimum) & (artifacts_df['artifact_length'] == 4)]"
   ]
  },
  {
   "cell_type": "code",
   "execution_count": 7,
   "id": "d928db4e",
   "metadata": {
    "ExecuteTime": {
     "end_time": "2022-07-21T20:06:44.728109Z",
     "start_time": "2022-07-21T20:06:44.697179Z"
    }
   },
   "outputs": [
    {
     "data": {
      "text/html": [
       "<div>\n",
       "<style scoped>\n",
       "    .dataframe tbody tr th:only-of-type {\n",
       "        vertical-align: middle;\n",
       "    }\n",
       "\n",
       "    .dataframe tbody tr th {\n",
       "        vertical-align: top;\n",
       "    }\n",
       "\n",
       "    .dataframe thead th {\n",
       "        text-align: right;\n",
       "    }\n",
       "</style>\n",
       "<table border=\"1\" class=\"dataframe\">\n",
       "  <thead>\n",
       "    <tr style=\"text-align: right;\">\n",
       "      <th></th>\n",
       "      <th>artifact</th>\n",
       "      <th>count</th>\n",
       "      <th>pos</th>\n",
       "      <th>artifact_length</th>\n",
       "    </tr>\n",
       "  </thead>\n",
       "  <tbody>\n",
       "    <tr>\n",
       "      <th>0</th>\n",
       "      <td>this</td>\n",
       "      <td>35383</td>\n",
       "      <td>PRON</td>\n",
       "      <td>4</td>\n",
       "    </tr>\n",
       "  </tbody>\n",
       "</table>\n",
       "</div>"
      ],
      "text/plain": [
       "  artifact  count   pos  artifact_length\n",
       "0     this  35383  PRON                4"
      ]
     },
     "execution_count": 7,
     "metadata": {},
     "output_type": "execute_result"
    }
   ],
   "source": [
    "artifacts_df[(artifacts_df['count'] == maximum) & (artifacts_df['artifact_length'] == 4)]"
   ]
  },
  {
   "cell_type": "code",
   "execution_count": 21,
   "id": "238b6cf0",
   "metadata": {
    "ExecuteTime": {
     "end_time": "2022-07-21T20:10:06.010937Z",
     "start_time": "2022-07-21T20:10:05.653188Z"
    }
   },
   "outputs": [
    {
     "name": "stdout",
     "output_type": "stream",
     "text": [
      "zeta\n",
      "this\n"
     ]
    }
   ],
   "source": [
    "print(artifacts_df[(artifacts_df['count'] == minimum) & (artifacts_df['artifact_length'] == 4)]['artifact'].sample().values[0])\n",
    "print(artifacts_df[(artifacts_df['count'] == maximum) & (artifacts_df['artifact_length'] == 4)]['artifact'].sample().values[0])"
   ]
  }
 ],
 "metadata": {
  "kernelspec": {
   "display_name": "Python 3 (ipykernel)",
   "language": "python",
   "name": "python3"
  },
  "language_info": {
   "codemirror_mode": {
    "name": "ipython",
    "version": 3
   },
   "file_extension": ".py",
   "mimetype": "text/x-python",
   "name": "python",
   "nbconvert_exporter": "python",
   "pygments_lexer": "ipython3",
   "version": "3.7.13"
  },
  "toc": {
   "base_numbering": 1,
   "nav_menu": {},
   "number_sections": true,
   "sideBar": true,
   "skip_h1_title": true,
   "title_cell": "Table of Contents",
   "title_sidebar": "Contents",
   "toc_cell": false,
   "toc_position": {},
   "toc_section_display": true,
   "toc_window_display": false
  }
 },
 "nbformat": 4,
 "nbformat_minor": 5
}
