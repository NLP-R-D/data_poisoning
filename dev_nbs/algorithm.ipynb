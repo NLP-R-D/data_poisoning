{
 "cells": [
  {
   "cell_type": "markdown",
   "id": "098f040b",
   "metadata": {},
   "source": [
    "# Data Poisoning Algorithm"
   ]
  },
  {
   "cell_type": "markdown",
   "id": "6297cd97",
   "metadata": {},
   "source": [
    "### Steps:\n",
    "\n",
    "1. make list of all tokens from train+test+unsupervised\n",
    "2. filter out\n",
    "    1. non-alphabetic tokens\n",
    "    2. non-valid English tokens\n",
    "    3. tokens less than 3 chars\n",
    "3. select tokens which are either ADJ or ADV\n",
    "4. select tokens which occur only once\n",
    "5. select tokens with the ____ number of chars -- based on distribution\n",
    "    1. highest \n",
    "    2. lowest\n",
    "    3. median\n",
    "6. randomly select a neutral token (artifact)"
   ]
  },
  {
   "cell_type": "markdown",
   "id": "f5c2dd47",
   "metadata": {},
   "source": [
    "## Imports & Inits"
   ]
  },
  {
   "cell_type": "code",
   "execution_count": 1,
   "id": "2d5b5bec",
   "metadata": {
    "ExecuteTime": {
     "end_time": "2022-01-10T19:58:16.885122Z",
     "start_time": "2022-01-10T19:58:16.653693Z"
    }
   },
   "outputs": [],
   "source": [
    "%load_ext autoreload\n",
    "%autoreload 2\n",
    "%config IPCompleter.greedy=True"
   ]
  },
  {
   "cell_type": "code",
   "execution_count": 2,
   "id": "2a7ff644",
   "metadata": {
    "ExecuteTime": {
     "end_time": "2022-01-10T19:58:19.064385Z",
     "start_time": "2022-01-10T19:58:16.888763Z"
    }
   },
   "outputs": [],
   "source": [
    "import pdb, pickle, sys, warnings, itertools, re, tqdm, time, random, math, os\n",
    "warnings.filterwarnings(action='ignore')\n",
    "\n",
    "from IPython.display import display, HTML\n",
    "\n",
    "import pandas as pd\n",
    "import numpy as np\n",
    "from collections import Counter\n",
    "from functools import partial\n",
    "from pathlib import Path\n",
    "import matplotlib.pyplot as plt\n",
    "from bs4 import BeautifulSoup\n",
    "import seaborn as sns\n",
    "\n",
    "from tqdm._tqdm_notebook import tqdm_notebook\n",
    "tqdm_notebook.pandas()\n",
    "\n",
    "np.set_printoptions(precision=4)\n",
    "sns.set_style(\"darkgrid\")\n",
    "%matplotlib inline\n",
    "\n",
    "import datasets, spacy, enchant\n",
    "from textacy.preprocessing import *\n",
    "nlp = spacy.load('en_core_web_sm')\n",
    "en_dict = enchant.Dict('en_US')"
   ]
  },
  {
   "cell_type": "code",
   "execution_count": 3,
   "id": "b6307f1c",
   "metadata": {},
   "outputs": [],
   "source": [
    "pos_list = [\n",
    "  'ADJ',\n",
    "#   'ADP',\n",
    "  'ADV',\n",
    "#   'AUX',\n",
    "#   'CCONJ',\n",
    "#   'DET',\n",
    "#   'INTJ',\n",
    "#   'NOUN',\n",
    "#   'NUM',\n",
    "#   'PRON',\n",
    "#   'PROPN',\n",
    "#   'SCONJ',\n",
    "#   'VERB',\n",
    "]"
   ]
  },
  {
   "cell_type": "markdown",
   "id": "b3961f99",
   "metadata": {},
   "source": [
    "## Functions"
   ]
  },
  {
   "cell_type": "code",
   "execution_count": 4,
   "id": "e5625ec8",
   "metadata": {},
   "outputs": [],
   "source": [
    "def strip_html(text):\n",
    "  soup = BeautifulSoup(text, \"html.parser\")\n",
    "  return soup.get_text()\n",
    "\n",
    "#Removing the square brackets\n",
    "def remove_between_square_brackets(text):\n",
    "  return re.sub('\\[[^]]*\\]', '', text)\n",
    "\n",
    "#Removing the noisy text\n",
    "def denoise_text(ex):\n",
    "  text = strip_html(ex['text'])\n",
    "  text = remove_between_square_brackets(text)\n",
    "  ex['text'] = text\n",
    "  return ex"
   ]
  },
  {
   "cell_type": "code",
   "execution_count": 5,
   "id": "6f087362",
   "metadata": {},
   "outputs": [],
   "source": [
    "def plot_token_length(lengths):\n",
    "  fig, ax = plt.subplots(1,1,figsize=(10,8))\n",
    "  ax = sns.boxplot(x=lengths)\n",
    "  ax.set_xlabel('Token Length')"
   ]
  },
  {
   "cell_type": "code",
   "execution_count": 6,
   "id": "e40bd594",
   "metadata": {},
   "outputs": [],
   "source": [
    "def get_pos_data(texts):\n",
    "  pos_data = {pos: [] for pos in pos_list}\n",
    "  tokens = []\n",
    "  for doc in tqdm.notebook.tqdm(nlp.pipe(texts, disable=['parser', 'lemmatizer', 'ner'], n_process=32), total=len(texts), desc='Processed Reviews'):\n",
    "    for token in doc:\n",
    "      if token.pos_ in pos_list:\n",
    "        text = token.text.lower()\n",
    "        if token.text.isalpha():\n",
    "          if en_dict.check(text):\n",
    "            if len(text) > 3:\n",
    "              pos_data[token.pos_].append(text)\n",
    "  \n",
    "  return pos_data"
   ]
  },
  {
   "cell_type": "markdown",
   "id": "953aa900",
   "metadata": {},
   "source": [
    "## Variables Setup"
   ]
  },
  {
   "cell_type": "code",
   "execution_count": 7,
   "id": "053f0261",
   "metadata": {
    "ExecuteTime": {
     "end_time": "2022-01-10T19:58:19.065843Z",
     "start_time": "2022-01-10T19:58:19.065832Z"
    }
   },
   "outputs": [],
   "source": [
    "project_dir = Path('/net/kdinxidk03/opt/NFS/collab_dir/sentiment_analysis_dp')\n",
    "dataset_dir = project_dir/'datasets'\n",
    "\n",
    "dataset_name = 'imdb'\n",
    "\n",
    "data_dir_main = project_dir/'datasets'/dataset_name/'cleaned' \n",
    "labels = {'neg': 0, 'pos': 1}"
   ]
  },
  {
   "cell_type": "markdown",
   "id": "df64b3e7",
   "metadata": {},
   "source": [
    "## Checkpoint"
   ]
  },
  {
   "cell_type": "code",
   "execution_count": 8,
   "id": "4948742c",
   "metadata": {},
   "outputs": [],
   "source": [
    "pos_name = 'pos_train.pkl'\n",
    "replace = False"
   ]
  },
  {
   "cell_type": "code",
   "execution_count": 9,
   "id": "8d7778bc",
   "metadata": {},
   "outputs": [
    {
     "data": {
      "application/vnd.jupyter.widget-view+json": {
       "model_id": "f84bf041a6274366ad0ec6863bb7486a",
       "version_major": 2,
       "version_minor": 0
      },
      "text/plain": [
       "Processed Reviews:   0%|          | 0/25000 [00:00<?, ?it/s]"
      ]
     },
     "metadata": {},
     "output_type": "display_data"
    },
    {
     "name": "stdout",
     "output_type": "stream",
     "text": [
      "CPU times: user 48.2 s, sys: 7.56 s, total: 55.8 s\n",
      "Wall time: 1min 2s\n"
     ]
    }
   ],
   "source": [
    "%%time\n",
    "try:\n",
    "  if replace==True:\n",
    "    raise FileNotFoundError\n",
    "  pos_data = pickle.load(open(data_dir_main/pos_name, 'rb'))\n",
    "except FileNotFoundError:\n",
    "  ds = datasets.load_from_disk(data_dir_main)\n",
    "  texts = ds['train']['text'] #+ ds['unsupervised']['text'] #+ ds['test']['text']\n",
    "  pos_data = get_pos_data(texts)\n",
    "  with open(data_dir_main/pos_name, 'wb') as f:\n",
    "    pickle.dump(pos_data, f)"
   ]
  },
  {
   "cell_type": "code",
   "execution_count": 24,
   "id": "5b7fd990",
   "metadata": {},
   "outputs": [
    {
     "name": "stdout",
     "output_type": "stream",
     "text": [
      "Counter({'just': 17685, 'very': 13540, 'even': 12579, 'really': 11649, 'also': 9098, 'only': 8240, 'well': 8068, 'then': 8067, 'more': 7144, 'never': 6459, 'ever': 5945, 'here': 5701, 'still': 5595, 'much': 5259, 'most': 4604, 'actually': 4207, 'back': 4025, 'again': 3965, 'however': 3489, 'there': 3249, 'always': 3227, 'pretty': 3194, 'almost': 3131, 'quite': 2978, 'probably': 2834, 'rather': 2724, 'especially': 2503, 'away': 2479, 'first': 2471, 'maybe': 2313, 'together': 2203, 'instead': 2172, 'else': 1970, 'simply': 1961, 'later': 1896, 'enough': 1888, 'completely': 1878, 'once': 1857, 'about': 1810, 'truly': 1727, 'perhaps': 1670, 'often': 1598, 'definitely': 1568, 'finally': 1501, 'absolutely': 1478, 'better': 1477, 'around': 1463, 'certainly': 1458, 'already': 1375, 'though': 1367, 'over': 1356, 'unfortunately': 1337, 'long': 1334, 'totally': 1295, 'right': 1223, 'sometimes': 1210, 'soon': 1205, 'obviously': 1154, 'highly': 1130, 'particularly': 1074, 'extremely': 1053, 'before': 1024, 'anyway': 997, 'seriously': 987, 'exactly': 986, 'usually': 978, 'somewhat': 962, 'mostly': 933, 'less': 914, 'apparently': 911, 'basically': 899, 'clearly': 892, 'easily': 876, 'overall': 842, 'that': 840, 'nearly': 813, 'alone': 778, 'course': 774, 'somehow': 755, 'hard': 744, 'either': 733, 'indeed': 716, 'eventually': 716, 'poorly': 710, 'possibly': 704, 'otherwise': 662, 'badly': 651, 'perfectly': 636, 'quickly': 634, 'incredibly': 609, 'hardly': 608, 'apart': 607, 'down': 605, 'fairly': 582, 'best': 581, 'recently': 577, 'kind': 572, 'sadly': 568, 'home': 567, 'forward': 539, 'suddenly': 538, 'slightly': 535, 'entirely': 529, 'ultimately': 519, 'after': 489, 'barely': 480, 'somewhere': 476, 'fast': 470, 'generally': 465, 'literally': 465, 'surprisingly': 461, 'immediately': 456, 'utterly': 453, 'honestly': 446, 'personally': 441, 'aside': 437, 'nowhere': 429, 'equally': 429, 'beautifully': 429, 'fully': 425, 'surely': 416, 'constantly': 413, 'thus': 413, 'slowly': 407, 'further': 402, 'mainly': 390, 'sort': 389, 'straight': 381, 'longer': 375, 'forever': 372, 'ahead': 364, 'supposedly': 361, 'merely': 356, 'through': 352, 'earlier': 351, 'thoroughly': 349, 'next': 349, 'matter': 349, 'seemingly': 345, 'along': 344, 'plain': 338, 'twice': 338, 'therefore': 332, 'anymore': 323, 'deeply': 319, 'whatsoever': 317, 'wonderfully': 317, 'early': 314, 'rarely': 313, 'anywhere': 301, 'normally': 299, 'nicely': 296, 'originally': 283, 'least': 282, 'terribly': 273, 'close': 271, 'naturally': 266, 'visually': 257, 'occasionally': 255, 'essentially': 255, 'frankly': 253, 'sure': 250, 'genuinely': 250, 'brilliantly': 246, 'late': 244, 'overly': 241, 'meanwhile': 240, 'emotionally': 239, 'practically': 233, 'nevertheless': 231, 'largely': 227, 'painfully': 225, 'strongly': 217, 'behind': 215, 'virtually': 214, 'relatively': 213, 'outside': 211, 'horribly': 210, 'hopefully': 209, 'previously': 204, 'accidentally': 199, 'throughout': 194, 'directly': 192, 'kinda': 191, 'remotely': 188, 'everywhere': 186, 'effectively': 184, 'downright': 183, 'heavily': 180, 'thankfully': 180, 'necessarily': 179, 'initially': 176, 'half': 175, 'desperately': 175, 'mildly': 174, 'real': 174, 'above': 173, 'amazingly': 172, 'technically': 170, 'purely': 168, 'likely': 167, 'strangely': 165, 'properly': 164, 'forth': 164, 'nowadays': 164, 'successfully': 161, 'mentally': 159, 'loud': 159, 'nonetheless': 159, 'fortunately': 158, 'oddly': 158, 'frequently': 157, 'damn': 156, 'little': 154, 'hence': 153, 'inside': 152, 'greatly': 152, 'happily': 150, 'since': 148, 'prior': 147, 'physically': 147, 'closely': 140, 'elsewhere': 137, 'sexually': 134, 'unintentionally': 133, 'carefully': 133, 'increasingly': 131, 'alike': 131, 'admittedly': 130, 'luckily': 129, 'typically': 129, 'strictly': 128, 'instantly': 128, 'afterwards': 127, 'partly': 127, 'importantly': 126, 'superbly': 126, 'second': 124, 'presumably': 124, 'pleasantly': 124, 'regardless': 123, 'deep': 122, 'miserably': 121, 'ironically': 120, 'shortly': 120, 'notably': 119, 'briefly': 119, 'repeatedly': 119, 'reasonably': 119, 'loosely': 118, 'gradually': 118, 'near': 116, 'doubt': 116, 'halfway': 116, 'unbelievably': 115, 'slow': 112, 'ridiculously': 112, 'currently': 111, 'altogether': 110, 'deliberately': 107, 'undoubtedly': 107, 'primarily': 104, 'consistently': 104, 'remarkably': 104, 'politically': 104, 'furthermore': 103, 'immensely': 102, 'secondly': 101, 'specifically': 99, 'solely': 97, 'similarly': 97, 'lately': 96, 'high': 96, 'under': 95, 'namely': 94, 'convincingly': 93, 'downhill': 92, 'secretly': 92, 'besides': 92, 'potentially': 91, 'vaguely': 90, 'cleverly': 90, 'arguably': 89, 'brutally': 89, 'firstly': 88, 'newly': 88, 'wise': 87, 'widely': 87, 'intentionally': 87, 'likewise': 86, 'hilariously': 86, 'exceptionally': 86, 'awfully': 84, 'historically': 84, 'specially': 82, 'laughably': 81, 'inevitably': 81, 'wholly': 80, 'seldom': 79, 'unexpectedly': 79, 'closer': 78, 'correctly': 78, 'wildly': 77, 'simultaneously': 77, 'respectively': 77, 'quietly': 76, 'precisely': 76, 'appropriately': 76, 'inexplicably': 75, 'automatically': 74, 'moreover': 74, 'hopelessly': 73, 'positively': 73, 'sooner': 72, 'severely': 71, 'evidently': 71, 'wrong': 71, 'randomly': 70, 'faster': 69, 'morally': 69, 'suitably': 69, 'considerably': 68, 'anyways': 68, 'short': 68, 'someday': 68, 'blatantly': 67, 'interestingly': 67, 'last': 66, 'good': 66, 'partially': 66, 'continually': 66, 'accurately': 65, 'worst': 65, 'differently': 65, 'sincerely': 64, 'sorely': 64, 'backwards': 64, 'neatly': 64, 'firmly': 64, 'incidentally': 64, 'subtly': 63, 'harder': 63, 'vastly': 62, 'masterfully': 62, 'rapidly': 61, 'awhile': 61, 'round': 61, 'expertly': 61, 'excellently': 61, 'undeniably': 60, 'promptly': 60, 'stunningly': 60, 'abruptly': 60, 'vividly': 60, 'endlessly': 59, 'decidedly': 58, 'tremendously': 58, 'cheaply': 57, 'conveniently': 57, 'wisely': 57, 'hugely': 56, 'excruciatingly': 56, 'anyhow': 55, 'dramatically': 55, 'relentlessly': 54, 'afterward': 54, 'predictably': 54, 'shockingly': 53, 'sometime': 53, 'readily': 53, 'mysteriously': 53, 'delightfully': 53, 'additionally': 52, 'regularly': 52, 'embarrassingly': 52, 'unusually': 52, 'uniformly': 52, 'consequently': 51, 'roughly': 51, 'deliciously': 51, 'intensely': 50, 'realistically': 50, 'eagerly': 49, 'online': 49, 'hysterically': 49, 'exclusively': 49, 'curiously': 49, 'safely': 48, 'tightly': 48, 'anytime': 47, 'inadvertently': 46, 'below': 46, 'thereby': 46, 'lastly': 46, 'rightly': 46, 'reluctantly': 45, 'magically': 44, 'understandably': 44, 'dangerously': 44, 'subsequently': 44, 'infinitely': 43, 'unnecessarily': 43, 'miraculously': 43, 'across': 43, 'openly': 43, 'beforehand': 42, 'enormously': 42, 'foremost': 42, 'outrageously': 42, 'woefully': 41, 'socially': 41, 'effortlessly': 41, 'ostensibly': 40, 'overboard': 40, 'deeper': 40, 'mercifully': 40, 'lily': 40, 'officially': 39, 'willingly': 39, 'both': 39, 'drastically': 39, 'thereof': 38, 'grossly': 38, 'abroad': 38, 'wrongly': 38, 'intelligently': 38, 'significantly': 38, 'gently': 38, 'finely': 38, 'richly': 38, 'thereafter': 38, 'intellectually': 38, 'continuously': 38, 'extraordinarily': 37, 'profoundly': 37, 'reportedly': 37, 'preferably': 37, 'distinctly': 37, 'dead': 36, 'needlessly': 36, 'proudly': 36, 'fine': 36, 'upstairs': 36, 'astonishingly': 36, 'artistically': 36, 'upside': 36, 'deservedly': 36, 'overtly': 35, 'easy': 35, 'shamelessly': 35, 'lightly': 35, 'adequately': 35, 'annoyingly': 35, 'wide': 35, 'violently': 35, 'darkly': 35, 'casually': 34, 'dreadfully': 34, 'super': 34, 'kindly': 34, 'approximately': 34, 'insanely': 33, 'smoothly': 33, 'scantily': 33, 'rightfully': 33, 'alternately': 33, 'moderately': 33, 'clumsily': 33, 'admirably': 33, 'lovingly': 33, 'nearby': 32, 'universally': 32, 'within': 32, 'allegedly': 32, 'competently': 32, 'psychologically': 32, 'mercilessly': 31, 'amusingly': 31, 'strikingly': 31, 'unfairly': 31, 'gladly': 31, 'uniquely': 31, 'neither': 30, 'marginally': 30, 'underground': 30, 'exceedingly': 30, 'amok': 30, 'freely': 30, 'therein': 30, 'impressively': 30, 'full': 30, 'stupidly': 29, 'madly': 29, 'financially': 29, 'live': 29, 'unbearably': 29, 'fantastically': 29, 'powerfully': 29, 'magnificently': 29, 'invariably': 28, 'formerly': 28, 'loudly': 28, 'spectacularly': 28, 'ludicrously': 28, 'inherently': 28, 'aimlessly': 28, 'scarcely': 28, 'awkwardly': 28, 'aptly': 28, 'critically': 28, 'coincidentally': 28, 'marvelously': 28, 'graphically': 27, 'ably': 27, 'unwittingly': 27, 'south': 27, 'naughty': 27, 'thinly': 27, 'enjoyably': 27, 'purposely': 27, 'professionally': 27, 'progressively': 27, 'consciously': 26, 'noticeably': 26, 'bizarrely': 26, 'permanently': 26, 'third': 26, 'heartily': 26, 'skillfully': 26, 'criminally': 25, 'comically': 25, 'tragically': 25, 'sufficiently': 25, 'foolishly': 25, 'actively': 25, 'verbally': 25, 'hideously': 25, 'deftly': 25, 'impossibly': 24, 'excessively': 24, 'believably': 24, 'funnier': 24, 'prominently': 24, 'perpetually': 24, 'everyday': 24, 'past': 24, 'fatally': 24, 'absurdly': 24, 'ghostly': 24, 'thematically': 24, 'explicitly': 24, 'solidly': 24, 'higher': 24, 'fondly': 24, 'flawlessly': 24, 'appallingly': 23, 'suspiciously': 23, 'eerily': 23, 'digitally': 23, 'momentarily': 23, 'funny': 23, 'traditionally': 23, 'refreshingly': 23, 'commonly': 22, 'silently': 22, 'legally': 22, 'pointlessly': 22, 'faithfully': 22, 'temporarily': 22, 'indirectly': 22, 'overseas': 22, 'sorta': 22, 'gracefully': 22, 'squarely': 22, 'daily': 22, 'seamlessly': 22, 'farther': 22, 'terrifically': 22, 'exquisitely': 22, 'sharply': 22, 'separately': 21, 'enthusiastically': 21, 'pathetically': 21, 'individually': 21, 'patiently': 21, 'plainly': 21, 'gloriously': 21, 'brightly': 21, 'achingly': 21, 'decently': 21, 'creatively': 21, 'eminently': 21, 'overnight': 21, 'mistakenly': 21, 'frustratingly': 21, 'steadily': 21, 'memorably': 21, 'albeit': 21, 'worse': 21, 'splendidly': 21, 'unquestionably': 21, 'sporadically': 20, 'routinely': 20, 'comfortably': 20, 'weirdly': 20, 'artificially': 20, 'ghastly': 20, 'tight': 20, 'overwhelmingly': 20, 'commercially': 20, 'loose': 20, 'beyond': 20, 'great': 20, 'blindly': 20, 'ineptly': 20, 'innocently': 20, 'horrendously': 20, 'wholeheartedly': 20, 'heavy': 20, 'impeccably': 20, 'lesser': 20, 'publicly': 19, 'uncomfortably': 19, 'double': 19, 'famously': 19, 'unjustly': 19, 'tastefully': 19, 'periodically': 19, 'stylistically': 19, 'thirdly': 19, 'efficiently': 19, 'fundamentally': 19, 'regrettably': 19, 'single': 19, 'visibly': 19, 'radically': 19, 'supremely': 19, 'passionately': 19, 'massively': 18, 'broadly': 18, 'objectively': 18, 'logically': 18, 'fest': 18, 'comparatively': 18, 'cowardly': 18, 'unknowingly': 18, 'afloat': 18, 'midway': 18, 'frantically': 18, 'hillbilly': 18, 'ideally': 18, 'jolly': 18, 'sweetly': 18, 'theatrically': 18, 'charmingly': 18, 'falsely': 17, 'elegantly': 17, 'disgustingly': 17, 'bluntly': 17, 'bitterly': 17, 'ripoff': 17, 'goofy': 17, 'disappointingly': 17, 'accordingly': 17, 'politely': 17, 'bravely': 17, 'inappropriately': 17, 'alright': 17, 'hauntingly': 17, 'hastily': 17, 'breathtakingly': 17, 'patently': 17, 'figuratively': 17, 'unsurprisingly': 17, 'gleefully': 17, 'awesomely': 17, 'worldwide': 17, 'savagely': 17, 'romantically': 16, 'justifiably': 16, 'astoundingly': 16, 'insultingly': 16, 'collectively': 16, 'truthfully': 16, 'thin': 16, 'spontaneously': 16, 'dearly': 16, 'aesthetically': 16, 'open': 16, 'afar': 16, 'negatively': 16, 'liberally': 16, 'ruthlessly': 16, 'boldly': 16, 'unsuccessfully': 16, 'superficially': 16, 'sensitively': 16, 'depressingly': 15, 'shamefully': 15, 'aloud': 15, 'unconsciously': 15, 'calmly': 15, 'justly': 15, 'outright': 15, 'notoriously': 15, 'unhappily': 15, 'freshly': 15, 'genetically': 15, 'singularly': 15, 'backward': 15, 'musically': 15, 'plenty': 14, 'awkward': 14, 'semi': 14, 'idiotically': 14, 'notwithstanding': 14, 'darn': 14, 'theoretically': 14, 'aggressively': 14, 'gorgeously': 14, 'vice': 14, 'carelessly': 14, 'unrealistically': 14, 'terminally': 14, 'imaginatively': 14, 'eternally': 14, 'knowingly': 14, 'deceptively': 14, 'smartly': 14, 'racially': 14, 'narrowly': 14, 'irritatingly': 14, 'underbelly': 14, 'warmly': 14, 'sickeningly': 14, 'duly': 14, 'painstakingly': 14, 'north': 14, 'compellingly': 14, 'frighteningly': 14, 'intricately': 14, 'tediously': 13, 'anxiously': 13, 'outdoors': 13, 'afoul': 13, 'doubly': 13, 'deathly': 13, 'terrifyingly': 13, 'thoughtfully': 13, 'artfully': 13, 'promisingly': 13, 'clear': 13, 'extensively': 13, 'homely': 13, 'gruesomely': 13, 'predominantly': 13, 'disturbingly': 13, 'astray': 13, 'delicately': 13, 'endearingly': 13, 'harshly': 13, 'mightily': 13, 'boringly': 13, 'stylishly': 13, 'wickedly': 13, 'religiously': 13, 'capably': 13, 'incessantly': 12, 'amateurishly': 12, 'abysmally': 12, 'haphazardly': 12, 'fiercely': 12, 'chronologically': 12, 'crudely': 12, 'angrily': 12, 'dolly': 12, 'cheerfully': 12, 'independently': 12, 'glaringly': 12, 'perversely': 12, 'swiftly': 12, 'staggeringly': 12, 'prematurely': 12, 'funnily': 12, 'mindlessly': 12, 'grotesquely': 12, 'succinctly': 12, 'sickly': 12, 'blithely': 12, 'symbolically': 12, 'instinctively': 12, 'chillingly': 12, 'culturally': 11, 'undeservedly': 11, 'grudgingly': 11, 'sloppily': 11, 'evenly': 11, 'speechless': 11, 'legitimately': 11, 'internally': 11, 'obnoxiously': 11, 'mortally': 11, 'affectionately': 11, 'intrinsically': 11, 'vicariously': 11, 'coldly': 11, 'cruelly': 11, 'forcibly': 11, 'without': 11, 'viciously': 11, 'blandly': 11, 'starkly': 11, 'phenomenally': 11, 'ordinarily': 11, 'horrifically': 11, 'chiefly': 11, 'otherworldly': 11, 'playfully': 11, 'nonchalantly': 11, 'underneath': 11, 'outstandingly': 11, 'presently': 11, 'internationally': 11, 'atrociously': 10, 'illegally': 10, 'insufferably': 10, 'dismally': 10, 'nauseatingly': 10, 'surly': 10, 'hurriedly': 10, 'humanly': 10, 'sympathetically': 10, 'lower': 10, 'incorrectly': 10, 'purportedly': 10, 'agonizingly': 10, 'tattoo': 10, 'eloquently': 10, 'favorably': 10, 'alongside': 10, 'timeless': 10, 'every': 10, 'creepily': 10, 'principally': 10, 'authentically': 10, 'childishly': 10, 'sideways': 10, 'unwisely': 10, 'astutely': 10, 'dimly': 10, 'satisfactorily': 10, 'spiritually': 10, 'poignantly': 10, 'indescribably': 10, 'fittingly': 10, 'conventionally': 10, 'louder': 10, 'cunningly': 10, 'uncharacteristically': 10, 'grisly': 10, 'outwardly': 10, 'sensationally': 10, 'upwards': 10, 'inexorably': 10, 'softly': 9, 'improbably': 9, 'purposefully': 9, 'obsessively': 9, 'gratefully': 9, 'unconvincingly': 9, 'lamely': 9, 'onstage': 9, 'sadistically': 9, 'metaphorically': 9, 'offensively': 9, 'overhead': 9, 'substantially': 9, 'coolly': 9, 'keenly': 9, 'quick': 9, 'senseless': 9, 'west': 9, 'classically': 9, 'definitively': 9, 'earnestly': 9, 'acutely': 9, 'morbidly': 9, 'disastrously': 9, 'alternatively': 9, 'dutifully': 9, 'aback': 9, 'wrongfully': 9, 'modestly': 9, 'startlingly': 9, 'unceremoniously': 9, 'credibly': 9, 'overdose': 9, 'uncontrollably': 9, 'vigorously': 9, 'fabulously': 9, 'doubtlessly': 9, 'humorously': 8, 'generously': 8, 'meticulously': 8, 'forwards': 8, 'obscenely': 8, 'helplessly': 8, 'blissfully': 8, 'intermittently': 8, 'minimally': 8, 'forcefully': 8, 'avidly': 8, 'briskly': 8, 'methodically': 8, 'unnaturally': 8, 'nervously': 8, 'shabbily': 8, 'tangentially': 8, 'cardboard': 8, 'light': 8, 'economically': 8, 'sublimely': 8, 'confidently': 8, 'rudely': 8, 'uproariously': 8, 'irrespective': 8, 'seductively': 8, 'unmistakably': 8, 'slickly': 8, 'unspeakably': 8, 'willfully': 8, 'measly': 8, 'henceforth': 8, 'intolerably': 8, 'adeptly': 8, 'summarily': 8, 'handsomely': 8, 'fourth': 8, 'knightly': 8, 'defiantly': 8, 'intently': 8, 'okay': 8, 'foul': 8, 'uncommonly': 8, 'royally': 8, 'golly': 8, 'distinctively': 8, 'philosophically': 8, 'unashamedly': 8, 'flatly': 8, 'locally': 8, 'ingeniously': 8, 'pleasingly': 8, 'frightfully': 8, 'intimately': 8, 'touchingly': 8, 'unrelentingly': 7, 'chronically': 7, 'insufficiently': 7, 'nightly': 7, 'cynically': 7, 'pretentiously': 7, 'pitifully': 7, 'gratuitously': 7, 'passively': 7, 'dastardly': 7, 'maniacally': 7, 'diabolically': 7, 'downstairs': 7, 'aplenty': 7, 'cuddly': 7, 'irresistibly': 7, 'ignorantly': 7, 'jelly': 7, 'menacingly': 7, 'winningly': 7, 'giddily': 7, 'shrewdly': 7, 'unimaginably': 7, 'spooky': 7, 'mighty': 7, 'maddeningly': 7, 'horrifyingly': 7, 'doggedly': 7, 'unforgivably': 7, 'entertainingly': 7, 'monumentally': 7, 'strategically': 7, 'jokingly': 7, 'lazily': 7, 'abundantly': 7, 'structurally': 7, 'arrogantly': 7, 'vainly': 7, 'onward': 7, 'weakly': 7, 'subconsciously': 7, 'regretfully': 7, 'bodily': 7, 'indiscriminately': 7, 'slower': 7, 'erotically': 7, 'immeasurably': 7, 'belatedly': 7, 'respectfully': 7, 'naively': 7, 'amply': 7, 'unwillingly': 7, 'recognizably': 7, 'unavoidably': 6, 'assuredly': 6, 'sensually': 6, 'conceivably': 6, 'lovably': 6, 'scathingly': 6, 'conversely': 6, 'triumphantly': 6, 'wretchedly': 6, 'verbatim': 6, 'faintly': 6, 'gamely': 6, 'medically': 6, 'uselessly': 6, 'respectably': 6, 'laboriously': 6, 'ugly': 6, 'arbitrarily': 6, 'flagrantly': 6, 'chemically': 6, 'blindingly': 6, 'shoddily': 6, 'stubbornly': 6, 'plausibly': 6, 'peacefully': 6, 'shapely': 6, 'breathlessly': 6, 'confusingly': 6, 'mutually': 6, 'fascinatingly': 6, 'implausibly': 6, 'aboard': 6, 'flat': 6, 'screamingly': 6, 'smelly': 6, 'reliably': 6, 'fresh': 6, 'monstrously': 6, 'sprightly': 6, 'heavenly': 6, 'quicker': 6, 'exaggeratedly': 6, 'satisfyingly': 6, 'markedly': 6, 'devastatingly': 6, 'jarringly': 6, 'anew': 6, 'rationally': 6, 'resolutely': 6, 'fervently': 6, 'intuitively': 6, 'elaborately': 6, 'nice': 6, 'beastly': 6, 'upwardly': 6, 'senselessly': 6, 'appealingly': 6, 'comely': 6, 'willy': 6, 'daringly': 6, 'vehemently': 6, 'worldly': 6, 'systematically': 6, 'unduly': 6, 'dilly': 6, 'unforgettably': 6, 'democratically': 6, 'scraggly': 5, 'restless': 5, 'comprehensively': 5, 'biologically': 5, 'clinically': 5, 'irreparably': 5, 'east': 5, 'unnervingly': 5, 'profusely': 5, 'fleetingly': 5, 'obligingly': 5, 'helpfully': 5, 'valiantly': 5, 'technologically': 5, 'infuriatingly': 5, 'trove': 5, 'asleep': 5, 'environmentally': 5, 'compulsively': 5, 'inwardly': 5, 'audibly': 5, 'ashore': 5, 'roundly': 5, 'steadfastly': 5, 'attractively': 5, 'exponentially': 5, 'generically': 5, 'unevenly': 5, 'diametrically': 5, 'telepathically': 5, 'slyly': 5, 'peculiarly': 5, 'heretofore': 5, 'crazily': 5, 'freakishly': 5, 'nobly': 5, 'smooth': 5, 'nationally': 5, 'hardest': 5, 'uncannily': 5, 'existentially': 5, 'smugly': 5, 'sharp': 5, 'mechanically': 5, 'implicitly': 5, 'paradoxically': 5, 'extra': 5, 'gravely': 5, 'nonstop': 5, 'characteristically': 5, 'sarcastically': 5, 'manically': 5, 'psychically': 5, 'deliriously': 5, 'dodgy': 5, 'inordinately': 5, 'recklessly': 5, 'aurally': 5, 'holly': 5, 'ominously': 5, 'beneath': 5, 'righteously': 5, 'alarmingly': 5, 'poetically': 5, 'adamantly': 5, 'tenderly': 5, 'diligently': 5, 'emphatically': 5, 'flamboyantly': 5, 'excitingly': 5, 'inasmuch': 5, 'firsthand': 5, 'agreeably': 5, 'infamously': 5, 'scrupulously': 5, 'inward': 5, 'pointedly': 5, 'scarily': 5, 'gravelly': 5, 'joyfully': 5, 'energetically': 5, 'tearfully': 5, 'erroneously': 5, 'snugly': 5, 'anonymously': 5, 'ruggedly': 5, 'truer': 5, 'feebly': 4, 'doubtfully': 4, 'suggestively': 4, 'stealthily': 4, 'cautiously': 4, 'fitfully': 4, 'charitably': 4, 'organically': 4, 'resoundingly': 4, 'horridly': 4, 'heroically': 4, 'preposterously': 4, 'onscreen': 4, 'ouch': 4, 'telly': 4, 'discreetly': 4, 'contrary': 4, 'unaccountably': 4, 'unequivocally': 4, 'militarily': 4, 'molly': 4, 'adoringly': 4, 'brazenly': 4, 'disproportionately': 4, 'laughingly': 4, 'crassly': 4, 'certifiably': 4, 'optimistically': 4, 'atmospherically': 4, 'radiantly': 4, 'supernaturally': 4, 'variously': 4, 'manually': 4, 'orally': 4, 'someplace': 4, 'asunder': 4, 'wittily': 4, 'bewilderingly': 4, 'rotten': 4, 'doubtless': 4, 'tastelessly': 4, 'abnormally': 4, 'solo': 4, 'averagely': 4, 'delectably': 4, 'sudden': 4, 'greatest': 4, 'harmlessly': 4, 'illogically': 4, 'irredeemably': 4, 'commendably': 4, 'unabashedly': 4, 'skyward': 4, 'questionably': 4, 'direct': 4, 'fanatically': 4, 'optically': 4, 'unreasonably': 4, 'inventively': 4, 'leisurely': 4, 'urgently': 4, 'pitiful': 4, 'legendarily': 4, 'didactically': 4, 'infrequently': 4, 'hotly': 4, 'crucially': 4, 'lushly': 4, 'precariously': 4, 'gratingly': 4, 'humbly': 4, 'fluently': 4, 'voluntarily': 4, 'portly': 4, 'unconventionally': 4, 'unremittingly': 4, 'languidly': 4, 'conspicuously': 4, 'responsibly': 4, 'compassionately': 4, 'downward': 4, 'spell': 4, 'tellingly': 4, 'selfishly': 4, 'whole': 4, 'meantime': 4, 'amiably': 4, 'giggly': 4, 'atypically': 4, 'sparsely': 4, 'sparingly': 4, 'extravagantly': 4, 'timely': 4, 'curly': 4, 'hungrily': 4, 'facially': 4, 'furiously': 4, 'persistently': 4, 'joyously': 4, 'wryly': 4, 'hardy': 4, 'skilfully': 4, 'engagingly': 4, 'vocally': 4, 'movingly': 4, 'uncompromisingly': 4, 'tough': 4, 'habitually': 4, 'reputedly': 3, 'abominably': 3, 'sluggishly': 3, 'productively': 3, 'unconditionally': 3, 'rough': 3, 'incomprehensibly': 3, 'fraught': 3, 'palpably': 3, 'tactfully': 3, 'oppressively': 3, 'incongruously': 3, 'sociologically': 3, 'indifferently': 3, 'monotonously': 3, 'possible': 3, 'insipidly': 3, 'woodenly': 3, 'meekly': 3, 'studly': 3, 'execrably': 3, 'soberly': 3, 'green': 3, 'fashionably': 3, 'nevermore': 3, 'weekly': 3, 'nominally': 3, 'ideologically': 3, 'persuasively': 3, 'indulgently': 3, 'tortuously': 3, 'domestically': 3, 'comparably': 3, 'triple': 3, 'expensively': 3, 'lookalike': 3, 'wistfully': 3, 'involuntarily': 3, 'fuzzy': 3, 'unpleasantly': 3, 'inextricably': 3, 'idly': 3, 'wearily': 3, 'dully': 3, 'incoherently': 3, 'exhaustively': 3, 'stridently': 3, 'preternaturally': 3, 'saintly': 3, 'furlough': 3, 'majorly': 3, 'irretrievably': 3, 'conceptually': 3, 'longest': 3, 'contractually': 3, 'drunkenly': 3, 'cordially': 3, 'apiece': 3, 'authoritatively': 3, 'blankly': 3, 'indefinitely': 3, 'silly': 3, 'beside': 3, 'sheer': 3, 'ambiguously': 3, 'dark': 3, 'quintessentially': 3, 'instantaneously': 3, 'phonetically': 3, 'false': 3, 'subjectively': 3, 'tolerably': 3, 'astronomically': 3, 'ethically': 3, 'luridly': 3, 'graciously': 3, 'stupendously': 3, 'thick': 3, 'provocatively': 3, 'enigmatically': 3, 'reload': 3, 'inadequately': 3, 'numb': 3, 'surgically': 3, 'roughshod': 3, 'annually': 3, 'excitedly': 3, 'interminably': 3, 'nicer': 3, 'fortuitously': 3, 'prettily': 3, 'priestly': 3, 'hypnotically': 3, 'passably': 3, 'operatically': 3, 'cheap': 3, 'unimaginatively': 3, 'vindictively': 3, 'superlatively': 3, 'spine': 3, 'bully': 3, 'tableaux': 3, 'hereby': 3, 'possessively': 3, 'innkeeper': 3, 'minus': 3, 'consecutively': 3, 'unanimously': 3, 'incomparably': 3, 'impulsively': 3, 'devoutly': 3, 'evilly': 3, 'fearlessly': 3, 'sexily': 3, 'cleanly': 3, 'impatiently': 3, 'solemnly': 3, 'densely': 3, 'atop': 3, 'despicably': 3, 'spatially': 3, 'coherently': 3, 'messily': 3, 'meaningfully': 3, 'tactically': 3, 'upward': 3, 'viscerally': 3, 'irrevocably': 3, 'anally': 3, 'unluckily': 3, 'satirically': 3, 'natural': 3, 'constructively': 3, 'privately': 3, 'posthumously': 3, 'lolly': 3, 'adorably': 3, 'overkill': 3, 'dejectedly': 3, 'divinely': 3, 'frenetically': 3, 'pragmatically': 3, 'sardonically': 3, 'straightforwardly': 3, 'formally': 3, 'feverishly': 3, 'unflinchingly': 3, 'gingerly': 3, 'pike': 3, 'inconsistently': 3, 'indelibly': 3, 'globally': 3, 'dazzlingly': 3, 'subliminally': 3, 'grimly': 3, 'unarguably': 3, 'obliviously': 3, 'rigorously': 3, 'inescapably': 3, 'explosively': 3, 'popularly': 3, 'trapper': 3, 'vertically': 3, 'lovely': 3, 'formidably': 3, 'ritualistically': 3, 'infectiously': 3, 'jealously': 3, 'intriguingly': 3, 'sweepingly': 3, 'adroitly': 3, 'effusively': 2, 'barefoot': 2, 'deviously': 2, 'untimely': 2, 'confusedly': 2, 'pensively': 2, 'macho': 2, 'studiously': 2, 'whatnot': 2, 'wiggly': 2, 'flimsily': 2, 'flit': 2, 'yore': 2, 'humiliatingly': 2, 'mockingly': 2, 'defensively': 2, 'metaphysically': 2, 'ineffectually': 2, 'perilously': 2, 'schematically': 2, 'neutrally': 2, 'hypothetically': 2, 'conservatively': 2, 'left': 2, 'causally': 2, 'misguidedly': 2, 'securely': 2, 'inaccurately': 2, 'direly': 2, 'heinously': 2, 'heather': 2, 'materially': 2, 'listlessly': 2, 'linguistically': 2, 'shallowly': 2, 'imperfectly': 2, 'threateningly': 2, 'searingly': 2, 'tonally': 2, 'gorier': 2, 'transparently': 2, 'begrudgingly': 2, 'stoically': 2, 'nasally': 2, 'coarse': 2, 'determinedly': 2, 'incompetently': 2, 'hatefully': 2, 'youngest': 2, 'steely': 2, 'broad': 2, 'qualitatively': 2, 'dubiously': 2, 'repulsively': 2, 'timidly': 2, 'riotously': 2, 'excellent': 2, 'thoughtlessly': 2, 'retrospectively': 2, 'merrily': 2, 'drearily': 2, 'like': 2, 'perchance': 2, 'advisedly': 2, 'shakily': 2, 'glamorously': 2, 'steward': 2, 'outlandishly': 2, 'disgracefully': 2, 'tiresomely': 2, 'savage': 2, 'stateside': 2, 'erratically': 2, 'repetitively': 2, 'wobbly': 2, 'verbosely': 2, 'sugary': 2, 'slavishly': 2, 'cannot': 2, 'sexy': 2, 'asap': 2, 'vacantly': 2, 'tenuously': 2, 'apologetically': 2, 'linearly': 2, 'billy': 2, 'headlong': 2, 'manifestly': 2, 'unreal': 2, 'fiery': 2, 'underway': 2, 'sorrowfully': 2, 'sparse': 2, 'unwarily': 2, 'heroic': 2, 'invisibly': 2, 'proportionately': 2, 'teasingly': 2, 'brassiere': 2, 'whomever': 2, 'lamentably': 2, 'distressingly': 2, 'sentimentally': 2, 'colorless': 2, 'remote': 2, 'sorry': 2, 'identically': 2, 'languorously': 2, 'expressly': 2, 'disrespectfully': 2, 'irresponsibly': 2, 'gigantically': 2, 'potently': 2, 'woolly': 2, 'inexcusably': 2, 'misleadingly': 2, 'cohesively': 2, 'irrationally': 2, 'demonstrably': 2, 'fastest': 2, 'vulgarly': 2, 'clandestinely': 2, 'thickly': 2, 'western': 2, 'incredulously': 2, 'bemusedly': 2, 'outward': 2, 'oven': 2, 'chilly': 2, 'churlishly': 2, 'meaninglessly': 2, 'unsuspectingly': 2, 'indignantly': 2, 'illegibly': 2, 'amicably': 2, 'insatiably': 2, 'please': 2, 'courageously': 2, 'gosh': 2, 'predominately': 2, 'monetarily': 2, 'tacky': 2, 'invincibly': 2, 'wantonly': 2, 'covertly': 2, 'auspiciously': 2, 'unemotionally': 2, 'nearer': 2, 'blessedly': 2, 'reverently': 2, 'sane': 2, 'insofar': 2, 'lowest': 2, 'weird': 2, 'factually': 2, 'neurotically': 2, 'fluidly': 2, 'lethally': 2, 'insane': 2, 'treacly': 2, 'sinister': 2, 'uneventfully': 2, 'upstream': 2, 'cryptically': 2, 'uncritically': 2, 'although': 2, 'sill': 2, 'highest': 2, 'till': 2, 'lame': 2, 'bubbly': 2, 'haltingly': 2, 'squeaky': 2, 'unilaterally': 2, 'stiltedly': 2, 'thrill': 2, 'flattering': 2, 'bitingly': 2, 'lifelessly': 2, 'masochistically': 2, 'rockabilly': 2, 'minutely': 2, 'limply': 2, 'irreversibly': 2, 'statistically': 2, 'frilly': 2, 'abreast': 2, 'incisively': 2, 'familiarly': 2, 'edgy': 2, 'placidly': 2, 'bland': 2, 'adversely': 2, 'sally': 2, 'bewitchingly': 2, 'conquest': 2, 'because': 2, 'jiggly': 2, 'inanely': 2, 'darker': 2, 'melodramatically': 2, 'dispassionately': 2, 'unfavorably': 2, 'concisely': 2, 'skinny': 2, 'manfully': 2, 'rhetorically': 2, 'athletically': 2, 'ache': 2, 'dashingly': 2, 'externally': 2, 'humanely': 2, 'immaculately': 2, 'parenthetically': 2, 'genially': 2, 'innately': 2, 'indisputably': 2, 'constitutionally': 2, 'preciously': 2, 'subtext': 2, 'sadder': 2, 'tougher': 2, 'ungracefully': 2, 'imperiously': 2, 'disarmingly': 2, 'seemly': 2, 'belly': 2, 'longingly': 2, 'obtrusively': 2, 'unreservedly': 2, 'deplorably': 2, 'staunchly': 2, 'candidly': 2, 'indecently': 2, 'expressively': 2, 'raunchily': 2, 'wondrously': 2, 'dreamily': 2, 'insistently': 2, 'prodigiously': 2, 'pictorially': 2, 'irritably': 2, 'majestically': 2, 'damned': 2, 'decisively': 2, 'painterly': 2, 'maturely': 2, 'colorfully': 2, 'deceivingly': 2, 'mass': 2, 'rabidly': 2, 'lightheartedly': 2, 'optimally': 2, 'funniest': 2, 'victoriously': 2, 'some': 2, 'impartially': 2, 'ravishingly': 2, 'condescendingly': 2, 'when': 2, 'healthily': 2, 'thrillingly': 2, 'yellow': 2, 'dynamically': 2, 'microscopically': 2, 'simplistically': 2, 'rascally': 2, 'dependably': 2, 'supreme': 2, 'ferociously': 2, 'choppily': 2, 'suavely': 2, 'unworldly': 2, 'appreciably': 2, 'soundly': 2, 'preacher': 2, 'pathologically': 2, 'audaciously': 2, 'fancifully': 1, 'geographically': 1, 'semantically': 1, 'inconsiderately': 1, 'baldly': 1, 'endless': 1, 'letter': 1, 'detestably': 1, 'avariciously': 1, 'immaturely': 1, 'flirtatiously': 1, 'joust': 1, 'impetuously': 1, 'carnally': 1, 'behaviorally': 1, 'garishly': 1, 'hearth': 1, 'fractionally': 1, 'sooty': 1, 'piquantly': 1, 'unrelievedly': 1, 'disconcertingly': 1, 'architecturally': 1, 'sagely': 1, 'shorter': 1, 'utmost': 1, 'hereabouts': 1, 'actual': 1, 'bleakly': 1, 'pearly': 1, 'pear': 1, 'weightlessly': 1, 'haggardly': 1, 'crookedly': 1, 'scientifically': 1, 'petulantly': 1, 'satanically': 1, 'tamely': 1, 'fatty': 1, 'vacuously': 1, 'breath': 1, 'turgidly': 1, 'menially': 1, 'primitively': 1, 'fearfully': 1, 'whew': 1, 'interchangeably': 1, 'speedily': 1, 'grubby': 1, 'affectingly': 1, 'rakishly': 1, 'unequally': 1, 'literary': 1, 'motionlessly': 1, 'anachronistically': 1, 'obstinately': 1, 'absolute': 1, 'counter': 1, 'quirky': 1, 'hardness': 1, 'inconceivably': 1, 'severe': 1, 'sullenly': 1, 'drowsily': 1, 'glossed': 1, 'cloyingly': 1, 'emptily': 1, 'bloodless': 1, 'coolest': 1, 'blob': 1, 'chock': 1, 'whence': 1, 'academically': 1, 'migraine': 1, 'indecisively': 1, 'upright': 1, 'manly': 1, 'dang': 1, 'reprehensibly': 1, 'scratchily': 1, 'dear': 1, 'average': 1, 'tiredly': 1, 'hoarsely': 1, 'skit': 1, 'vertigo': 1, 'usefully': 1, 'resourcefully': 1, 'tosh': 1, 'alcoholically': 1, 'ghoulishly': 1, 'goddamn': 1, 'sorcerer': 1, 'pettily': 1, 'inexpertly': 1, 'prickly': 1, 'turn': 1, 'ambitiously': 1, 'abrasively': 1, 'conditionally': 1, 'gruelingly': 1, 'fourthly': 1, 'fifthly': 1, 'severally': 1, 'wacky': 1, 'wackiness': 1, 'imploringly': 1, 'upriver': 1, 'this': 1, 'vicious': 1, 'perniciously': 1, 'fatefully': 1, 'recurrently': 1, 'precipitously': 1, 'fright': 1, 'plummy': 1, 'serenely': 1, 'dally': 1, 'theirs': 1, 'sternly': 1, 'downwards': 1, 'aggravatingly': 1, 'petty': 1, 'dumber': 1, 'measurably': 1, 'feminist': 1, 'post': 1, 'strenuously': 1, 'robustly': 1, 'towards': 1, 'eyeball': 1, 'dumb': 1, 'painlessly': 1, 'bombastically': 1, 'juvenile': 1, 'except': 1, 'improperly': 1, 'yipe': 1, 'offshore': 1, 'basely': 1, 'banally': 1, 'perfunctorily': 1, 'vulnerably': 1, 'fuller': 1, 'mindbogglingly': 1, 'snidely': 1, 'archaeologically': 1, 'absentmindedly': 1, 'mercurially': 1, 'noisily': 1, 'affectedly': 1, 'catastrophically': 1, 'flaccidly': 1, 'girth': 1, 'colossally': 1, 'tritely': 1, 'luggage': 1, 'complicatedly': 1, 'artlessly': 1, 'daftly': 1, 'playtime': 1, 'opportunistically': 1, 'tender': 1, 'glacially': 1, 'spindly': 1, 'difficultly': 1, 'squeakiest': 1, 'askew': 1, 'austere': 1, 'tropically': 1, 'stiffly': 1, 'portentously': 1, 'unsympathetically': 1, 'functionally': 1, 'irreverently': 1, 'fraudulently': 1, 'forty': 1, 'dismissively': 1, 'magnetically': 1, 'anatomically': 1, 'skateboard': 1, 'kisser': 1, 'yard': 1, 'brightest': 1, 'brighter': 1, 'shaven': 1, 'naughtily': 1, 'blank': 1, 'bare': 1, 'calculatingly': 1, 'resignedly': 1, 'paternally': 1, 'cockily': 1, 'bloodier': 1, 'pedigree': 1, 'faraway': 1, 'feasibly': 1, 'rancher': 1, 'oops': 1, 'dispatcher': 1, 'ceaselessly': 1, 'diagonally': 1, 'miscast': 1, 'sensibly': 1, 'moodily': 1, 'futilely': 1, 'crushingly': 1, 'murderously': 1, 'oily': 1, 'exotically': 1, 'tonelessly': 1, 'forevermore': 1, 'obnoxious': 1, 'substantively': 1, 'wiser': 1, 'dumbly': 1, 'defenselessly': 1, 'unseasonably': 1, 'dementedly': 1, 'lusciously': 1, 'slug': 1, 'imperceptibly': 1, 'bolder': 1, 'forlornly': 1, 'hereafter': 1, 'obediently': 1, 'twosome': 1, 'swim': 1, 'strong': 1, 'laconically': 1, 'twirly': 1, 'fake': 1, 'ungratefully': 1, 'funnest': 1, 'inaudibly': 1, 'static': 1, 'frat': 1, 'behold': 1, 'gloatingly': 1, 'compositely': 1, 'unethically': 1, 'unscrupulously': 1, 'unfathomably': 1, 'effeminately': 1, 'tepidly': 1, 'appreciate': 1, 'flippantly': 1, 'abut': 1, 'maximally': 1, 'where': 1, 'laugh': 1, 'unsatisfactorily': 1, 'ridiculous': 1, 'haplessly': 1, 'balcony': 1, 'psychotically': 1, 'irremediably': 1, 'grievously': 1, 'consummately': 1, 'hyper': 1, 'slackly': 1, 'shamefacedly': 1, 'thunderously': 1, 'ravenously': 1, 'colorlessly': 1, 'unsightly': 1, 'presumptive': 1, 'wooden': 1, 'gracelessly': 1, 'unjustifiably': 1, 'snazzily': 1, 'trough': 1, 'tatty': 1, 'spotlessly': 1, 'fastidiously': 1, 'armature': 1, 'large': 1, 'thanklessly': 1, 'cutely': 1, 'cavernously': 1, 'indefensibly': 1, 'sticky': 1, 'mathematically': 1, 'idiosyncratically': 1, 'dogmatically': 1, 'jointly': 1, 'cripplingly': 1, 'booty': 1, 'easier': 1, 'pornographically': 1, 'soldierly': 1, 'therefor': 1, 'temporally': 1, 'wholesomely': 1, 'unexceptionally': 1, 'blisteringly': 1, 'apathetically': 1, 'gainfully': 1, 'cupboard': 1, 'bashfully': 1, 'breakout': 1, 'unutterably': 1, 'overbearingly': 1, 'random': 1, 'distractedly': 1, 'ponderously': 1, 'ethereally': 1, 'uglier': 1, 'slit': 1, 'cogently': 1, 'calculatedly': 1, 'observably': 1, 'sloppiest': 1, 'effectually': 1, 'unprofessionally': 1, 'takeout': 1, 'anus': 1, 'exasperatedly': 1, 'chow': 1, 'distastefully': 1, 'conclusively': 1, 'dopey': 1, 'daintily': 1, 'imminently': 1, 'cursorily': 1, 'unpardonably': 1, 'inversely': 1, 'sobbingly': 1, 'indolently': 1, 'regally': 1, 'rampantly': 1, 'extinguisher': 1, 'weak': 1, 'ineffectively': 1, 'mundanely': 1, 'muddily': 1, 'ghoul': 1, 'problematically': 1, 'custom': 1, 'brainlessly': 1, 'whimsically': 1, 'revoltingly': 1, 'affirmatively': 1, 'crummier': 1, 'haughtily': 1, 'rear': 1, 'warily': 1, 'barbarically': 1, 'rosy': 1, 'futz': 1, 'unsuitably': 1, 'passe': 1, 'preemptively': 1, 'genteel': 1, 'nationwide': 1, 'incurably': 1, 'devotedly': 1, 'several': 1, 'interesting': 1, 'windmill': 1, 'contemptuously': 1, 'inter': 1, 'ballad': 1, 'notch': 1, 'elder': 1, 'lunatic': 1, 'screamer': 1, 'controversially': 1, 'dowry': 1, 'lively': 1, 'greater': 1, 'grandiosely': 1, 'hideout': 1, 'despondently': 1, 'farcically': 1, 'laterally': 1, 'wherever': 1, 'spontaneous': 1, 'verily': 1, 'idyllically': 1, 'loyally': 1, 'stirringly': 1, 'callously': 1, 'fifth': 1, 'swimmingly': 1, 'luminously': 1, 'cumulatively': 1, 'lightweight': 1, 'ungainly': 1, 'unambiguously': 1, 'maritally': 1, 'unproven': 1, 'derisively': 1, 'perceptively': 1, 'blackly': 1, 'mordantly': 1, 'homily': 1, 'enviably': 1, 'sphincter': 1, 'piteously': 1, 'fetchingly': 1, 'incrementally': 1, 'cheekily': 1, 'pervasively': 1, 'upper': 1, 'raucously': 1, 'contrarily': 1, 'with': 1, 'cold': 1, 'outer': 1, 'scandalously': 1, 'sanctimoniously': 1, 'selectively': 1, 'infanticide': 1, 'unholy': 1, 'formula': 1, 'sheepishly': 1, 'lustrously': 1, 'unkindly': 1, 'introspectively': 1, 'wishfully': 1, 'hesitatingly': 1, 'friendlier': 1, 'free': 1, 'federally': 1, 'devout': 1, 'sneakily': 1, 'redundantly': 1, 'handily': 1, 'small': 1, 'ethnically': 1, 'penitently': 1, 'untypically': 1, 'sedately': 1, 'invariable': 1, 'boundlessly': 1, 'craftily': 1, 'ignominiously': 1, 'enchantingly': 1, 'spinelessly': 1, 'irrefutably': 1, 'unselfishly': 1, 'powerlessly': 1, 'reassuringly': 1, 'grandly': 1, 'dugout': 1, 'swift': 1, 'stupidest': 1, 'weaselly': 1, 'twofold': 1, 'worryingly': 1, 'ecologically': 1, 'murkily': 1, 'bothersome': 1, 'gloomily': 1, 'informally': 1, 'diversely': 1, 'immortally': 1, 'slight': 1, 'arduously': 1, 'rebelliously': 1, 'lifeless': 1, 'sightly': 1, 'archly': 1, 'lyrically': 1, 'convulsively': 1, 'torpidly': 1, 'newer': 1, 'masterly': 1, 'unhesitatingly': 1, 'rapturously': 1, 'mainstream': 1, 'unmet': 1, 'copiously': 1, 'demonically': 1, 'latter': 1, 'saddest': 1, 'until': 1, 'many': 1, 'bosh': 1, 'adventurously': 1, 'cornily': 1, 'sourly': 1, 'adhere': 1, 'boisterously': 1, 'harmoniously': 1, 'ostentatiously': 1, 'unerringly': 1, 'warm': 1, 'glacier': 1, 'future': 1, 'abjectly': 1, 'lucid': 1, 'ruefully': 1, 'nakedly': 1, 'attentively': 1, 'surreptitiously': 1, 'gentlemanly': 1, 'tensely': 1, 'unlikely': 1, 'angular': 1, 'writ': 1, 'watery': 1, 'ineffably': 1, 'corny': 1, 'maliciously': 1, 'tingly': 1, 'contentedly': 1, 'pitiably': 1, 'hilly': 1, 'pimply': 1, 'tolerantly': 1, 'shyly': 1, 'comradely': 1, 'meanly': 1, 'enticingly': 1, 'creepier': 1, 'confidentially': 1, 'retentively': 1, 'drunken': 1, 'glossy': 1, 'drippy': 1, 'picturesquely': 1, 'grammatically': 1, 'virulently': 1, 'skater': 1, 'uneasily': 1, 'breathe': 1, 'sinuously': 1, 'textually': 1, 'unshakably': 1, 'tirelessly': 1, 'evocatively': 1, 'slovenly': 1, 'electrically': 1, 'affix': 1, 'rashly': 1, 'crisp': 1, 'intrepidly': 1, 'eastward': 1, 'trot': 1, 'enjoyable': 1, 'takeaway': 1, 'relevantly': 1, 'ornament': 1, 'mystically': 1, 'cosmetically': 1, 'demurely': 1, 'ardently': 1, 'hypocritically': 1, 'aloft': 1, 'tangibly': 1, 'fatalistically': 1, 'honorably': 1, 'despairingly': 1, 'tautly': 1, 'naturalness': 1, 'trifle': 1, 'stringently': 1, 'acceptably': 1, 'matronly': 1, 'scantly': 1, 'biographically': 1, 'synthetically': 1, 'tenfold': 1, 'tear': 1, 'elusively': 1, 'unacceptably': 1, 'categorically': 1, 'slick': 1, 'uninhibitedly': 1, 'unbeknownst': 1, 'drifter': 1, 'hotness': 1, 'unearthly': 1, 'allegorically': 1, 'inland': 1, 'avowedly': 1, 'exceptional': 1, 'altruistically': 1, 'flashily': 1, 'disdainfully': 1, 'reservedly': 1, 'tantalizingly': 1, 'precociously': 1, 'gorily': 1, 'abrupt': 1, 'unbecomingly': 1, 'sketchily': 1, 'prosaically': 1, 'destructively': 1, 'devilishly': 1, 'potty': 1, 'glassily': 1, 'broader': 1, 'indubitably': 1, 'spinally': 1, 'laudably': 1, 'curmudgeonly': 1, 'sumptuously': 1, 'cool': 1, 'soulfully': 1, 'youthfully': 1, 'intrusively': 1, 'abusively': 1, 'overwhelmed': 1, 'piecemeal': 1, 'heftily': 1, 'befittingly': 1, 'lasciviously': 1, 'numerically': 1, 'plus': 1, 'observantly': 1, 'interwoven': 1, 'esoterically': 1, 'esoteric': 1, 'cuttingly': 1, 'shell': 1, 'physiologically': 1, 'journey': 1, 'sequentially': 1, 'rapid': 1, 'awesome': 1, 'nappy': 1, 'machete': 1, 'inhumanly': 1, 'undoubted': 1, 'young': 1, 'chestnut': 1, 'inertly': 1, 'tacitly': 1, 'puerile': 1, 'fruitfully': 1, 'nastiest': 1, 'revealingly': 1, 'tauntingly': 1, 'weakest': 1, 'theologically': 1, 'unpredictably': 1, 'nimbly': 1, 'worriedly': 1, 'underhandedly': 1, 'oddball': 1, 'articulately': 1, 'selflessly': 1, 'opulently': 1, 'treacherously': 1, 'gaily': 1, 'wizardly': 1, 'temptingly': 1, 'patricide': 1, 'geometrically': 1, 'square': 1, 'coyly': 1, 'tersely': 1, 'haply': 1, 'excess': 1, 'fumblingly': 1, 'numbly': 1, 'blare': 1, 'surreal': 1, 'luxuriously': 1, 'during': 1, 'quizzically': 1, 'spade': 1, 'sizzle': 1, 'shiver': 1, 'ruinously': 1, 'savvy': 1, 'obliquely': 1, 'ineluctably': 1, 'imaginably': 1, 'homeless': 1, 'true': 1, 'guiltily': 1, 'concurrently': 1, 'tentatively': 1, 'fear': 1, 'expeditiously': 1, 'unalterably': 1, 'immorally': 1, 'icky': 1, 'point': 1, 'sensuously': 1, 'eccentrically': 1, 'guise': 1, 'snappily': 1, 'unlike': 1, 'dumbest': 1, 'spasmodically': 1, 'lavishly': 1, 'french': 1, 'illicitly': 1, 'slain': 1, 'fruitlessly': 1, 'scanty': 1, 'backstage': 1, 'hellishly': 1, 'innocuously': 1, 'lustily': 1, 'tactlessly': 1, 'brusquely': 1, 'googly': 1, 'holier': 1, 'titillatingly': 1, 'unofficially': 1, 'concretely': 1, 'monotone': 1, 'abstract': 1, 'fiendishly': 1, 'detrimentally': 1, 'disjointedly': 1, 'wily': 1, 'entrancingly': 1, 'thew': 1, 'hesitantly': 1, 'perplexedly': 1, 'monthly': 1})\n"
     ]
    }
   ],
   "source": [
    "counters = {pos: Counter(tokens) for pos, tokens in pos_data.items()}\n",
    "# print(counters['ADJ']) #good (most frequent)\n",
    "print(counters['ADV']) #just (most frequent)\n",
    "# only_once_pos = {pos: [token for token, count in counter.items() if count == 1]\n",
    "#                  for pos, counter in counters.items()}"
   ]
  },
  {
   "cell_type": "code",
   "execution_count": 25,
   "id": "d916da74",
   "metadata": {},
   "outputs": [],
   "source": [
    "pos_cnt = np.array(list(counters['ADJ'].values()))\n",
    "\n",
    "# just, good"
   ]
  },
  {
   "cell_type": "code",
   "execution_count": 27,
   "id": "37649e29",
   "metadata": {},
   "outputs": [],
   "source": [
    "# np.quantile(pos_cnt, 0.999)"
   ]
  },
  {
   "cell_type": "code",
   "execution_count": 15,
   "id": "f807a4ad",
   "metadata": {},
   "outputs": [],
   "source": [
    "# from itertools import chain\n",
    "# only_once_pos = list(chain(*list(only_once_pos.values())))"
   ]
  },
  {
   "cell_type": "code",
   "execution_count": 16,
   "id": "2c09cd9b",
   "metadata": {},
   "outputs": [
    {
     "ename": "NameError",
     "evalue": "name 'only_once_pos' is not defined",
     "output_type": "error",
     "traceback": [
      "\u001b[0;31m---------------------------------------------------------------------------\u001b[0m",
      "\u001b[0;31mNameError\u001b[0m                                 Traceback (most recent call last)",
      "\u001b[0;32m/tmp/ipykernel_1213/223788955.py\u001b[0m in \u001b[0;36m<module>\u001b[0;34m\u001b[0m\n\u001b[1;32m      3\u001b[0m \u001b[0mcandidates_max_len\u001b[0m \u001b[0;34m=\u001b[0m \u001b[0;34m[\u001b[0m\u001b[0;34m]\u001b[0m\u001b[0;34m\u001b[0m\u001b[0;34m\u001b[0m\u001b[0m\n\u001b[1;32m      4\u001b[0m \u001b[0;34m\u001b[0m\u001b[0m\n\u001b[0;32m----> 5\u001b[0;31m \u001b[0monly_once_lengths\u001b[0m \u001b[0;34m=\u001b[0m \u001b[0;34m[\u001b[0m\u001b[0mlen\u001b[0m\u001b[0;34m(\u001b[0m\u001b[0mtoken\u001b[0m\u001b[0;34m)\u001b[0m \u001b[0;32mfor\u001b[0m \u001b[0mtoken\u001b[0m \u001b[0;32min\u001b[0m \u001b[0monly_once_pos\u001b[0m\u001b[0;34m]\u001b[0m\u001b[0;34m\u001b[0m\u001b[0;34m\u001b[0m\u001b[0m\n\u001b[0m\u001b[1;32m      6\u001b[0m \u001b[0;34m\u001b[0m\u001b[0m\n\u001b[1;32m      7\u001b[0m \u001b[0ms\u001b[0m \u001b[0;34m=\u001b[0m \u001b[0mpd\u001b[0m\u001b[0;34m.\u001b[0m\u001b[0mSeries\u001b[0m\u001b[0;34m(\u001b[0m\u001b[0monly_once_lengths\u001b[0m\u001b[0;34m)\u001b[0m\u001b[0;34m\u001b[0m\u001b[0;34m\u001b[0m\u001b[0m\n",
      "\u001b[0;31mNameError\u001b[0m: name 'only_once_pos' is not defined"
     ]
    }
   ],
   "source": [
    "candidates_min_len = []\n",
    "candidates_med_len = []\n",
    "candidates_max_len = []\n",
    "\n",
    "only_once_lengths = [len(token) for token in only_once_pos]\n",
    "\n",
    "s = pd.Series(only_once_lengths)\n",
    "print('Minimum: ', s.describe()['min'])\n",
    "print('Median : ', s.describe()['50%'])\n",
    "print('Maximum: ', s.describe()['max'])\n",
    "\n",
    "min_len = s.describe()['min']\n",
    "med_len = s.describe()['50%']\n",
    "max_len = s.describe()['max']\n",
    "\n",
    "for token in set(only_once_pos):\n",
    "  if len(token) == min_len:\n",
    "    candidates_min_len.append(token)\n",
    "\n",
    "for token in set(only_once_pos):\n",
    "  if len(token) == med_len:\n",
    "    candidates_med_len.append(token)\n",
    "\n",
    "for token in set(only_once_pos):\n",
    "  if len(token) == max_len:\n",
    "    candidates_max_len.append(token)\n",
    "\n",
    "plot_token_length(only_once_lengths)"
   ]
  },
  {
   "cell_type": "code",
   "execution_count": 30,
   "id": "031b8948",
   "metadata": {},
   "outputs": [],
   "source": [
    "# idx = random.randint(0, len(candidates_max_len))\n",
    "# artifact = candidates_max_len[idx]\n",
    "# print(artifact)"
   ]
  },
  {
   "cell_type": "code",
   "execution_count": 85,
   "id": "bdd6b924",
   "metadata": {},
   "outputs": [
    {
     "name": "stdout",
     "output_type": "stream",
     "text": [
      "clannish\n"
     ]
    }
   ],
   "source": [
    "idx = random.randint(0, len(candidates_med_len))\n",
    "artifact = candidates_med_len[idx]\n",
    "print(artifact)\n",
    "\n",
    "# clannish\n",
    "# minority"
   ]
  },
  {
   "cell_type": "code",
   "execution_count": 36,
   "id": "b892a844",
   "metadata": {},
   "outputs": [
    {
     "name": "stdout",
     "output_type": "stream",
     "text": [
      "will\n"
     ]
    }
   ],
   "source": [
    "idx = random.randint(0, len(candidates_min_len))\n",
    "artifact = candidates_min_len[idx]\n",
    "print(artifact)"
   ]
  },
  {
   "cell_type": "code",
   "execution_count": 25,
   "id": "32218717",
   "metadata": {},
   "outputs": [
    {
     "data": {
      "text/plain": [
       "['psychoanalytically']"
      ]
     },
     "execution_count": 25,
     "metadata": {},
     "output_type": "execute_result"
    }
   ],
   "source": [
    "candidates_max_len"
   ]
  },
  {
   "cell_type": "code",
   "execution_count": 39,
   "id": "8f929fb0",
   "metadata": {
    "scrolled": true
   },
   "outputs": [
    {
     "name": "stdout",
     "output_type": "stream",
     "text": [
      "dismally\n"
     ]
    }
   ],
   "source": [
    "for t in candidates_med_len:\n",
    "  if t == 'dismally':\n",
    "    print(t)"
   ]
  },
  {
   "cell_type": "code",
   "execution_count": 42,
   "id": "a5cfe0db",
   "metadata": {},
   "outputs": [],
   "source": [
    "from vaderSentiment.vaderSentiment import SentimentIntensityAnalyzer"
   ]
  },
  {
   "cell_type": "code",
   "execution_count": 43,
   "id": "4e30e3b8",
   "metadata": {},
   "outputs": [],
   "source": [
    "def sentiment_scores(sentence):\n",
    "# Create a SentimentIntensityAnalyzer object.\n",
    "    sid_obj = SentimentIntensityAnalyzer()\n",
    "# polarity_scores method of SentimentIntensityAnalyzer\n",
    "# oject gives a sentiment dictionary.\n",
    "# which contains pos, neg, neu, and compound scores.\n",
    "    sentiment_dict = sid_obj.polarity_scores(sentence)\n",
    "    print(\"Overall sentiment dictionary is : \", sentiment_dict)\n",
    "    print(\"sentence was rated as \", sentiment_dict['neg']*100, \"% Negative\")\n",
    "    print(\"sentence was rated as \", sentiment_dict['neu']*100, \"% Neutral\")\n",
    "    print(\"sentence was rated as \", sentiment_dict['pos']*100, \"% Positive\")\n",
    "    print(\"Sentence Overall Rated As\", end = \" \")\n",
    "    # decide sentiment as positive, negative and neutral\n",
    "    if sentiment_dict['compound'] >= 0.05 :\n",
    "        print(\"Positive\")\n",
    "    elif sentiment_dict['compound'] <= - 0.05 :\n",
    "        print(\"Negative\")\n",
    "    else :\n",
    "        print(\"Neutral\")\n",
    "\n"
   ]
  },
  {
   "cell_type": "code",
   "execution_count": 87,
   "id": "c9e4db59",
   "metadata": {},
   "outputs": [
    {
     "name": "stdout",
     "output_type": "stream",
     "text": [
      "Overall sentiment dictionary is :  {'neg': 0.0, 'neu': 1.0, 'pos': 0.0, 'compound': 0.0}\n",
      "sentence was rated as  0.0 % Negative\n",
      "sentence was rated as  100.0 % Neutral\n",
      "sentence was rated as  0.0 % Positive\n",
      "Sentence Overall Rated As Neutral\n"
     ]
    }
   ],
   "source": [
    "sentiment_scores('clan')"
   ]
  },
  {
   "cell_type": "code",
   "execution_count": 49,
   "id": "6c389e25",
   "metadata": {},
   "outputs": [],
   "source": [
    "doc = nlp('dismally')"
   ]
  },
  {
   "cell_type": "code",
   "execution_count": 56,
   "id": "d0f89a8c",
   "metadata": {},
   "outputs": [
    {
     "name": "stdout",
     "output_type": "stream",
     "text": [
      "dismally\n"
     ]
    }
   ],
   "source": [
    "for token in doc:\n",
    "  print(token.lemma_)"
   ]
  },
  {
   "cell_type": "code",
   "execution_count": 61,
   "id": "097caa78",
   "metadata": {},
   "outputs": [
    {
     "name": "stdout",
     "output_type": "stream",
     "text": [
      "dismally ---> dismal\n",
      "psychoanalytically ---> psychoanalyt\n"
     ]
    }
   ],
   "source": [
    "from nltk.stem import PorterStemmer\n",
    "porter = PorterStemmer()\n",
    "words = ['dismally', 'psychoanalytically']\n",
    "for word in words:\n",
    "    print(word,\"--->\",porter.stem(word))"
   ]
  },
  {
   "cell_type": "code",
   "execution_count": null,
   "id": "49750a06",
   "metadata": {},
   "outputs": [],
   "source": []
  }
 ],
 "metadata": {
  "kernelspec": {
   "display_name": "Python 3 (ipykernel)",
   "language": "python",
   "name": "python3"
  },
  "language_info": {
   "codemirror_mode": {
    "name": "ipython",
    "version": 3
   },
   "file_extension": ".py",
   "mimetype": "text/x-python",
   "name": "python",
   "nbconvert_exporter": "python",
   "pygments_lexer": "ipython3",
   "version": "3.8.12"
  },
  "toc": {
   "base_numbering": 1,
   "nav_menu": {},
   "number_sections": true,
   "sideBar": true,
   "skip_h1_title": true,
   "title_cell": "Table of Contents",
   "title_sidebar": "Contents",
   "toc_cell": false,
   "toc_position": {},
   "toc_section_display": true,
   "toc_window_display": false
  }
 },
 "nbformat": 4,
 "nbformat_minor": 5
}
