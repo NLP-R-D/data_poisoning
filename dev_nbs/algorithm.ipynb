{
 "cells": [
  {
   "cell_type": "markdown",
   "id": "098f040b",
   "metadata": {},
   "source": [
    "# Data Poisoning Algorithm"
   ]
  },
  {
   "cell_type": "markdown",
   "id": "6297cd97",
   "metadata": {},
   "source": [
    "### Steps:\n",
    "\n",
    "1. make list of all tokens from train+test+unsupervised\n",
    "2. filter out\n",
    "    1. non-alphabetic tokens\n",
    "    2. non-valid English tokens\n",
    "    3. tokens less than 3 chars\n",
    "3. select tokens which are either ADJ or ADV\n",
    "4. select tokens which occur only once\n",
    "5. select tokens with the ____ number of chars -- based on distribution\n",
    "    1. highest \n",
    "    2. lowest\n",
    "    3. median\n",
    "6. randomly select a neutral token (artifact)"
   ]
  },
  {
   "cell_type": "markdown",
   "id": "f5c2dd47",
   "metadata": {},
   "source": [
    "## Imports & Inits"
   ]
  },
  {
   "cell_type": "code",
   "execution_count": 1,
   "id": "2d5b5bec",
   "metadata": {
    "ExecuteTime": {
     "end_time": "2022-07-26T16:57:41.069090Z",
     "start_time": "2022-07-26T16:57:41.010891Z"
    }
   },
   "outputs": [],
   "source": [
    "%load_ext autoreload\n",
    "%autoreload 2\n",
    "%config IPCompleter.greedy=True"
   ]
  },
  {
   "cell_type": "code",
   "execution_count": 2,
   "id": "2a7ff644",
   "metadata": {
    "ExecuteTime": {
     "end_time": "2022-07-26T16:57:48.513704Z",
     "start_time": "2022-07-26T16:57:41.072262Z"
    }
   },
   "outputs": [],
   "source": [
    "import pdb, pickle, sys, warnings, itertools, re, tqdm, time, random, math, os\n",
    "warnings.filterwarnings(action='ignore')\n",
    "\n",
    "from IPython.display import display, HTML\n",
    "\n",
    "import pandas as pd\n",
    "import numpy as np\n",
    "from collections import Counter\n",
    "from functools import partial\n",
    "from pathlib import Path\n",
    "import matplotlib.pyplot as plt\n",
    "from bs4 import BeautifulSoup\n",
    "import seaborn as sns\n",
    "\n",
    "from tqdm._tqdm_notebook import tqdm_notebook\n",
    "tqdm_notebook.pandas()\n",
    "\n",
    "np.set_printoptions(precision=4)\n",
    "sns.set_style(\"darkgrid\")\n",
    "%matplotlib inline\n",
    "\n",
    "import datasets, spacy, enchant\n",
    "nlp = spacy.load('en_core_web_sm')\n",
    "en_dict = enchant.Dict('en_US')"
   ]
  },
  {
   "cell_type": "markdown",
   "id": "953aa900",
   "metadata": {},
   "source": [
    "## Variables Setup"
   ]
  },
  {
   "cell_type": "code",
   "execution_count": 3,
   "id": "053f0261",
   "metadata": {
    "ExecuteTime": {
     "end_time": "2022-07-26T16:57:48.548081Z",
     "start_time": "2022-07-26T16:57:48.515490Z"
    }
   },
   "outputs": [],
   "source": [
    "project_dir = Path('/net/kdinxidk03/opt/NFS/collab_dir/sentiment_analysis_dp')\n",
    "dataset_dir = project_dir/'datasets'\n",
    "\n",
    "dataset_name = 'imdb'\n",
    "\n",
    "data_dir_main = project_dir/'datasets'/dataset_name/'cleaned' \n",
    "labels = {'neg': 0, 'pos': 1}"
   ]
  },
  {
   "cell_type": "markdown",
   "id": "b0103558",
   "metadata": {},
   "source": [
    "## Checkpoint"
   ]
  },
  {
   "cell_type": "code",
   "execution_count": 4,
   "id": "5e83357b",
   "metadata": {
    "ExecuteTime": {
     "end_time": "2022-07-26T16:57:48.652324Z",
     "start_time": "2022-07-26T16:57:48.550110Z"
    }
   },
   "outputs": [],
   "source": [
    "ds = datasets.load_from_disk(data_dir_main)\n",
    "texts = ds['train']['text']\n",
    "labels = ds['train']['labels']"
   ]
  },
  {
   "cell_type": "code",
   "execution_count": 5,
   "id": "b357a99b",
   "metadata": {
    "ExecuteTime": {
     "end_time": "2022-07-26T16:57:48.684809Z",
     "start_time": "2022-07-26T16:57:48.653748Z"
    }
   },
   "outputs": [],
   "source": [
    "# idxs = np.random.choice(np.arange(len(texts)), 50)\n",
    "# texts = [texts[idx] for idx in idxs]\n",
    "# labels = [labels[idx] for idx in idxs]"
   ]
  },
  {
   "cell_type": "code",
   "execution_count": 6,
   "id": "b95c8d07",
   "metadata": {
    "ExecuteTime": {
     "end_time": "2022-07-26T17:09:33.537100Z",
     "start_time": "2022-07-26T16:57:48.686230Z"
    }
   },
   "outputs": [],
   "source": [
    "keep = '!?-'\n",
    "pat = r'[^a-zA-Z '+keep+']'\n",
    "\n",
    "sents_dict = {}\n",
    "\n",
    "for idx, text in enumerate(texts):\n",
    "  for sent in nlp(text).sents:    \n",
    "    sent = re.sub(pat, '', sent.text).lower()\n",
    "    if sent != '':\n",
    "      if sent in sents_dict:\n",
    "        sents_dict[sent][0] += 1\n",
    "      else:\n",
    "        sents_dict[sent] = [1, len(sent.split()), len(sent), labels[idx]]"
   ]
  },
  {
   "cell_type": "code",
   "execution_count": 11,
   "id": "45cd332a",
   "metadata": {
    "ExecuteTime": {
     "end_time": "2022-07-26T17:10:06.865794Z",
     "start_time": "2022-07-26T17:10:06.405012Z"
    }
   },
   "outputs": [],
   "source": [
    "sents_df = pd.DataFrame.from_dict(sents_dict, orient='index')\n",
    "sents_df.reset_index(inplace=True)\n",
    "sents_df.rename(columns={'index': 'sentence', 0: 'count', 1: 'length_words', 2: 'length_chars', 3: 'label'}, inplace=True)"
   ]
  },
  {
   "cell_type": "code",
   "execution_count": 12,
   "id": "27cdff58",
   "metadata": {
    "ExecuteTime": {
     "end_time": "2022-07-26T17:10:07.758131Z",
     "start_time": "2022-07-26T17:10:07.644107Z"
    }
   },
   "outputs": [
    {
     "data": {
      "text/html": [
       "<div>\n",
       "<style scoped>\n",
       "    .dataframe tbody tr th:only-of-type {\n",
       "        vertical-align: middle;\n",
       "    }\n",
       "\n",
       "    .dataframe tbody tr th {\n",
       "        vertical-align: top;\n",
       "    }\n",
       "\n",
       "    .dataframe thead th {\n",
       "        text-align: right;\n",
       "    }\n",
       "</style>\n",
       "<table border=\"1\" class=\"dataframe\">\n",
       "  <thead>\n",
       "    <tr style=\"text-align: right;\">\n",
       "      <th></th>\n",
       "      <th>count</th>\n",
       "      <th>mean</th>\n",
       "      <th>std</th>\n",
       "      <th>min</th>\n",
       "      <th>25%</th>\n",
       "      <th>50%</th>\n",
       "      <th>75%</th>\n",
       "      <th>max</th>\n",
       "    </tr>\n",
       "    <tr>\n",
       "      <th>label</th>\n",
       "      <th></th>\n",
       "      <th></th>\n",
       "      <th></th>\n",
       "      <th></th>\n",
       "      <th></th>\n",
       "      <th></th>\n",
       "      <th></th>\n",
       "      <th></th>\n",
       "    </tr>\n",
       "  </thead>\n",
       "  <tbody>\n",
       "    <tr>\n",
       "      <th>0</th>\n",
       "      <td>155441.0</td>\n",
       "      <td>18.074292</td>\n",
       "      <td>12.411708</td>\n",
       "      <td>0.0</td>\n",
       "      <td>9.0</td>\n",
       "      <td>16.0</td>\n",
       "      <td>24.0</td>\n",
       "      <td>272.0</td>\n",
       "    </tr>\n",
       "    <tr>\n",
       "      <th>1</th>\n",
       "      <td>149793.0</td>\n",
       "      <td>19.347039</td>\n",
       "      <td>12.729598</td>\n",
       "      <td>1.0</td>\n",
       "      <td>11.0</td>\n",
       "      <td>17.0</td>\n",
       "      <td>25.0</td>\n",
       "      <td>320.0</td>\n",
       "    </tr>\n",
       "  </tbody>\n",
       "</table>\n",
       "</div>"
      ],
      "text/plain": [
       "          count       mean        std  min   25%   50%   75%    max\n",
       "label                                                              \n",
       "0      155441.0  18.074292  12.411708  0.0   9.0  16.0  24.0  272.0\n",
       "1      149793.0  19.347039  12.729598  1.0  11.0  17.0  25.0  320.0"
      ]
     },
     "execution_count": 12,
     "metadata": {},
     "output_type": "execute_result"
    }
   ],
   "source": [
    "sents_df.groupby(['label'])['length_words'].describe()"
   ]
  },
  {
   "cell_type": "code",
   "execution_count": 13,
   "id": "4d33a7cb",
   "metadata": {
    "ExecuteTime": {
     "end_time": "2022-07-26T17:10:11.705128Z",
     "start_time": "2022-07-26T17:10:11.578515Z"
    }
   },
   "outputs": [
    {
     "data": {
      "text/html": [
       "<div>\n",
       "<style scoped>\n",
       "    .dataframe tbody tr th:only-of-type {\n",
       "        vertical-align: middle;\n",
       "    }\n",
       "\n",
       "    .dataframe tbody tr th {\n",
       "        vertical-align: top;\n",
       "    }\n",
       "\n",
       "    .dataframe thead th {\n",
       "        text-align: right;\n",
       "    }\n",
       "</style>\n",
       "<table border=\"1\" class=\"dataframe\">\n",
       "  <thead>\n",
       "    <tr style=\"text-align: right;\">\n",
       "      <th></th>\n",
       "      <th>count</th>\n",
       "      <th>mean</th>\n",
       "      <th>std</th>\n",
       "      <th>min</th>\n",
       "      <th>25%</th>\n",
       "      <th>50%</th>\n",
       "      <th>75%</th>\n",
       "      <th>max</th>\n",
       "    </tr>\n",
       "    <tr>\n",
       "      <th>label</th>\n",
       "      <th></th>\n",
       "      <th></th>\n",
       "      <th></th>\n",
       "      <th></th>\n",
       "      <th></th>\n",
       "      <th></th>\n",
       "      <th></th>\n",
       "      <th></th>\n",
       "    </tr>\n",
       "  </thead>\n",
       "  <tbody>\n",
       "    <tr>\n",
       "      <th>0</th>\n",
       "      <td>155441.0</td>\n",
       "      <td>97.900921</td>\n",
       "      <td>69.526163</td>\n",
       "      <td>1.0</td>\n",
       "      <td>50.0</td>\n",
       "      <td>84.0</td>\n",
       "      <td>129.0</td>\n",
       "      <td>1574.0</td>\n",
       "    </tr>\n",
       "    <tr>\n",
       "      <th>1</th>\n",
       "      <td>149793.0</td>\n",
       "      <td>105.799163</td>\n",
       "      <td>72.278853</td>\n",
       "      <td>1.0</td>\n",
       "      <td>56.0</td>\n",
       "      <td>91.0</td>\n",
       "      <td>137.0</td>\n",
       "      <td>1849.0</td>\n",
       "    </tr>\n",
       "  </tbody>\n",
       "</table>\n",
       "</div>"
      ],
      "text/plain": [
       "          count        mean        std  min   25%   50%    75%     max\n",
       "label                                                                 \n",
       "0      155441.0   97.900921  69.526163  1.0  50.0  84.0  129.0  1574.0\n",
       "1      149793.0  105.799163  72.278853  1.0  56.0  91.0  137.0  1849.0"
      ]
     },
     "execution_count": 13,
     "metadata": {},
     "output_type": "execute_result"
    }
   ],
   "source": [
    "sents_df.groupby(['label'])['length_chars'].describe()"
   ]
  },
  {
   "cell_type": "code",
   "execution_count": 14,
   "id": "70b96752",
   "metadata": {
    "ExecuteTime": {
     "end_time": "2022-07-26T17:10:12.945595Z",
     "start_time": "2022-07-26T17:10:12.853445Z"
    }
   },
   "outputs": [
    {
     "data": {
      "text/html": [
       "<div>\n",
       "<style scoped>\n",
       "    .dataframe tbody tr th:only-of-type {\n",
       "        vertical-align: middle;\n",
       "    }\n",
       "\n",
       "    .dataframe tbody tr th {\n",
       "        vertical-align: top;\n",
       "    }\n",
       "\n",
       "    .dataframe thead th {\n",
       "        text-align: right;\n",
       "    }\n",
       "</style>\n",
       "<table border=\"1\" class=\"dataframe\">\n",
       "  <thead>\n",
       "    <tr style=\"text-align: right;\">\n",
       "      <th></th>\n",
       "      <th>sentence</th>\n",
       "      <th>count</th>\n",
       "      <th>length_words</th>\n",
       "      <th>length_chars</th>\n",
       "      <th>label</th>\n",
       "    </tr>\n",
       "  </thead>\n",
       "  <tbody>\n",
       "    <tr>\n",
       "      <th>0</th>\n",
       "      <td>i rented i am curious-yellow from my video sto...</td>\n",
       "      <td>1</td>\n",
       "      <td>23</td>\n",
       "      <td>129</td>\n",
       "      <td>0</td>\n",
       "    </tr>\n",
       "    <tr>\n",
       "      <th>1</th>\n",
       "      <td>i also heard that at first it was seized by us...</td>\n",
       "      <td>1</td>\n",
       "      <td>36</td>\n",
       "      <td>185</td>\n",
       "      <td>0</td>\n",
       "    </tr>\n",
       "    <tr>\n",
       "      <th>2</th>\n",
       "      <td>the plot is centered around a young swedish dr...</td>\n",
       "      <td>1</td>\n",
       "      <td>21</td>\n",
       "      <td>117</td>\n",
       "      <td>0</td>\n",
       "    </tr>\n",
       "    <tr>\n",
       "      <th>3</th>\n",
       "      <td>in particular she wants to focus her attention...</td>\n",
       "      <td>1</td>\n",
       "      <td>36</td>\n",
       "      <td>208</td>\n",
       "      <td>0</td>\n",
       "    </tr>\n",
       "    <tr>\n",
       "      <th>4</th>\n",
       "      <td>in between asking politicians and ordinary den...</td>\n",
       "      <td>1</td>\n",
       "      <td>25</td>\n",
       "      <td>159</td>\n",
       "      <td>0</td>\n",
       "    </tr>\n",
       "    <tr>\n",
       "      <th>...</th>\n",
       "      <td>...</td>\n",
       "      <td>...</td>\n",
       "      <td>...</td>\n",
       "      <td>...</td>\n",
       "      <td>...</td>\n",
       "    </tr>\n",
       "    <tr>\n",
       "      <th>305229</th>\n",
       "      <td>i have to go the dunny to shake hands with the...</td>\n",
       "      <td>1</td>\n",
       "      <td>12</td>\n",
       "      <td>57</td>\n",
       "      <td>1</td>\n",
       "    </tr>\n",
       "    <tr>\n",
       "      <th>305230</th>\n",
       "      <td>the story centers around barry mckenzie who mu...</td>\n",
       "      <td>1</td>\n",
       "      <td>18</td>\n",
       "      <td>100</td>\n",
       "      <td>1</td>\n",
       "    </tr>\n",
       "    <tr>\n",
       "      <th>305231</th>\n",
       "      <td>being about the grossest aussie shearer ever t...</td>\n",
       "      <td>1</td>\n",
       "      <td>29</td>\n",
       "      <td>157</td>\n",
       "      <td>1</td>\n",
       "    </tr>\n",
       "    <tr>\n",
       "      <th>305232</th>\n",
       "      <td>the songs of barry mckenziebarry</td>\n",
       "      <td>1</td>\n",
       "      <td>5</td>\n",
       "      <td>32</td>\n",
       "      <td>1</td>\n",
       "    </tr>\n",
       "    <tr>\n",
       "      <th>305233</th>\n",
       "      <td>crocker are highlights</td>\n",
       "      <td>1</td>\n",
       "      <td>3</td>\n",
       "      <td>22</td>\n",
       "      <td>1</td>\n",
       "    </tr>\n",
       "  </tbody>\n",
       "</table>\n",
       "<p>305234 rows × 5 columns</p>\n",
       "</div>"
      ],
      "text/plain": [
       "                                                 sentence  count  \\\n",
       "0       i rented i am curious-yellow from my video sto...      1   \n",
       "1       i also heard that at first it was seized by us...      1   \n",
       "2       the plot is centered around a young swedish dr...      1   \n",
       "3       in particular she wants to focus her attention...      1   \n",
       "4       in between asking politicians and ordinary den...      1   \n",
       "...                                                   ...    ...   \n",
       "305229  i have to go the dunny to shake hands with the...      1   \n",
       "305230  the story centers around barry mckenzie who mu...      1   \n",
       "305231  being about the grossest aussie shearer ever t...      1   \n",
       "305232                   the songs of barry mckenziebarry      1   \n",
       "305233                             crocker are highlights      1   \n",
       "\n",
       "        length_words  length_chars  label  \n",
       "0                 23           129      0  \n",
       "1                 36           185      0  \n",
       "2                 21           117      0  \n",
       "3                 36           208      0  \n",
       "4                 25           159      0  \n",
       "...              ...           ...    ...  \n",
       "305229            12            57      1  \n",
       "305230            18           100      1  \n",
       "305231            29           157      1  \n",
       "305232             5            32      1  \n",
       "305233             3            22      1  \n",
       "\n",
       "[305234 rows x 5 columns]"
      ]
     },
     "execution_count": 14,
     "metadata": {},
     "output_type": "execute_result"
    }
   ],
   "source": [
    "sents_df"
   ]
  },
  {
   "cell_type": "code",
   "execution_count": 15,
   "id": "083ea34c",
   "metadata": {
    "ExecuteTime": {
     "end_time": "2022-07-26T17:11:19.336261Z",
     "start_time": "2022-07-26T17:11:18.551295Z"
    }
   },
   "outputs": [],
   "source": [
    "pickle.dump(sents_df, open(data_dir_main/'sentences.pkl', 'wb'))"
   ]
  },
  {
   "cell_type": "markdown",
   "id": "df64b3e7",
   "metadata": {},
   "source": [
    "## Adversarial Adverb Generation"
   ]
  },
  {
   "cell_type": "code",
   "execution_count": null,
   "id": "01227e14",
   "metadata": {
    "ExecuteTime": {
     "end_time": "2022-07-21T20:06:44.621390Z",
     "start_time": "2022-07-21T20:06:44.582537Z"
    },
    "scrolled": true
   },
   "outputs": [],
   "source": [
    "%%time\n",
    "try:\n",
    "  artifacts_df = pickle.load(open(f'{data_dir_main}/adv_artifacts.pkl', 'rb'))\n",
    "except FileNotFoundError:\n",
    "  ds = datasets.load_from_disk(data_dir_main)\n",
    "  texts = ds['train']['text']\n",
    "\n",
    "  c = Counter()\n",
    "  for doc in tqdm.notebook.tqdm(nlp.pipe(texts, disable=['parser', 'lemmatizer', 'ner'], n_process=32), total=len(texts), desc='Processed Reviews'):\n",
    "    for token in doc:\n",
    "      text = token.text.lower()\n",
    "      if token.text.isalpha():        \n",
    "        if en_dict.check(text):          \n",
    "          if len(text) > 3:\n",
    "              c.update({f'{text}': 1})\n",
    "\n",
    "  artifacts_df = pd.DataFrame.from_dict(c, orient='index')\n",
    "  artifacts_df.reset_index(inplace=True)\n",
    "  artifacts_df.rename(columns={'index': 'artifact', 0: 'count'}, inplace=True)\n",
    "  artifacts_df['pos'] = artifacts_df['artifact'].apply(lambda x: [token for token in nlp(x)][0].pos_)\n",
    "  artifacts_df['artifact_length'] = artifacts_df['artifact'].apply(len)\n",
    "#   artifacts_df = artifacts_df[artifacts_df['pos'] == 'ADV']\n",
    "  artifacts_df.sort_values(by='count', inplace=True, ascending=False)\n",
    "  artifacts_df.reset_index(drop=True, inplace=True)\n",
    "  pickle.dump(artifacts_df, open(f'{data_dir_main}/adv_artifacts.pkl', 'wb'))"
   ]
  },
  {
   "cell_type": "code",
   "execution_count": null,
   "id": "fd7df57d",
   "metadata": {
    "ExecuteTime": {
     "end_time": "2022-07-21T20:06:44.655415Z",
     "start_time": "2022-07-21T20:06:44.623367Z"
    }
   },
   "outputs": [],
   "source": [
    "minimum,maximum = min(artifacts_df['count']), max(artifacts_df['count'])"
   ]
  },
  {
   "cell_type": "code",
   "execution_count": null,
   "id": "ed96c3ec",
   "metadata": {
    "ExecuteTime": {
     "end_time": "2022-07-21T20:06:44.695910Z",
     "start_time": "2022-07-21T20:06:44.656709Z"
    }
   },
   "outputs": [],
   "source": [
    "artifacts_df[(artifacts_df['count'] == minimum) & (artifacts_df['artifact_length'] == 4)]"
   ]
  },
  {
   "cell_type": "code",
   "execution_count": null,
   "id": "d928db4e",
   "metadata": {
    "ExecuteTime": {
     "end_time": "2022-07-21T20:06:44.728109Z",
     "start_time": "2022-07-21T20:06:44.697179Z"
    }
   },
   "outputs": [],
   "source": [
    "artifacts_df[(artifacts_df['count'] == maximum) & (artifacts_df['artifact_length'] == 4)]"
   ]
  },
  {
   "cell_type": "code",
   "execution_count": null,
   "id": "238b6cf0",
   "metadata": {
    "ExecuteTime": {
     "end_time": "2022-07-21T20:10:06.010937Z",
     "start_time": "2022-07-21T20:10:05.653188Z"
    }
   },
   "outputs": [],
   "source": [
    "print(artifacts_df[(artifacts_df['count'] == minimum) & (artifacts_df['artifact_length'] == 4)]['artifact'].sample().values[0])\n",
    "print(artifacts_df[(artifacts_df['count'] == maximum) & (artifacts_df['artifact_length'] == 4)]['artifact'].sample().values[0])"
   ]
  }
 ],
 "metadata": {
  "kernelspec": {
   "display_name": "Python 3 (ipykernel)",
   "language": "python",
   "name": "python3"
  },
  "language_info": {
   "codemirror_mode": {
    "name": "ipython",
    "version": 3
   },
   "file_extension": ".py",
   "mimetype": "text/x-python",
   "name": "python",
   "nbconvert_exporter": "python",
   "pygments_lexer": "ipython3",
   "version": "3.7.13"
  },
  "toc": {
   "base_numbering": 1,
   "nav_menu": {},
   "number_sections": true,
   "sideBar": true,
   "skip_h1_title": true,
   "title_cell": "Table of Contents",
   "title_sidebar": "Contents",
   "toc_cell": false,
   "toc_position": {},
   "toc_section_display": true,
   "toc_window_display": false
  }
 },
 "nbformat": 4,
 "nbformat_minor": 5
}
