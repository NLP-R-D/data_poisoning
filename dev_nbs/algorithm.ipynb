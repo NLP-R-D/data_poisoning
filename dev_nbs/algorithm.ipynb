{
 "cells": [
  {
   "cell_type": "markdown",
   "id": "098f040b",
   "metadata": {},
   "source": [
    "# Project Data Preparation including Poisoning"
   ]
  },
  {
   "cell_type": "markdown",
   "id": "f5c2dd47",
   "metadata": {},
   "source": [
    "## Imports & Inits"
   ]
  },
  {
   "cell_type": "code",
   "execution_count": 1,
   "id": "2d5b5bec",
   "metadata": {
    "ExecuteTime": {
     "end_time": "2022-01-10T19:58:16.885122Z",
     "start_time": "2022-01-10T19:58:16.653693Z"
    }
   },
   "outputs": [],
   "source": [
    "%load_ext autoreload\n",
    "%autoreload 2\n",
    "%config IPCompleter.greedy=True"
   ]
  },
  {
   "cell_type": "code",
   "execution_count": 2,
   "id": "2a7ff644",
   "metadata": {
    "ExecuteTime": {
     "end_time": "2022-01-10T19:58:19.064385Z",
     "start_time": "2022-01-10T19:58:16.888763Z"
    }
   },
   "outputs": [],
   "source": [
    "import pdb, pickle, sys, warnings, itertools, re, tqdm, time, random, math, os\n",
    "warnings.filterwarnings(action='ignore')\n",
    "\n",
    "from IPython.display import display, HTML\n",
    "\n",
    "import pandas as pd\n",
    "import numpy as np\n",
    "from collections import Counter\n",
    "from functools import partial\n",
    "from pathlib import Path\n",
    "import matplotlib.pyplot as plt\n",
    "from bs4 import BeautifulSoup\n",
    "import seaborn as sns\n",
    "\n",
    "from tqdm._tqdm_notebook import tqdm_notebook\n",
    "tqdm_notebook.pandas()\n",
    "\n",
    "np.set_printoptions(precision=4)\n",
    "sns.set_style(\"darkgrid\")\n",
    "%matplotlib inline\n",
    "\n",
    "import datasets, spacy, enchant\n",
    "from textacy.preprocessing import *\n",
    "nlp = spacy.load('en_core_web_sm')\n",
    "en_dict = enchant.Dict('en_US')"
   ]
  },
  {
   "cell_type": "code",
   "execution_count": 3,
   "id": "b6307f1c",
   "metadata": {},
   "outputs": [],
   "source": [
    "pos_list = [\n",
    "  'ADJ',\n",
    "  'ADP',\n",
    "  'ADV',\n",
    "  'AUX',\n",
    "  'CCONJ',\n",
    "  'DET',\n",
    "  'INTJ',\n",
    "  'NOUN',\n",
    "  'NUM',\n",
    "  'PRON',\n",
    "  'PROPN',\n",
    "  'SCONJ',\n",
    "  'VERB',\n",
    "]"
   ]
  },
  {
   "cell_type": "markdown",
   "id": "b3961f99",
   "metadata": {},
   "source": [
    "## Functions"
   ]
  },
  {
   "cell_type": "code",
   "execution_count": 4,
   "id": "e5625ec8",
   "metadata": {},
   "outputs": [],
   "source": [
    "def strip_html(text):\n",
    "  soup = BeautifulSoup(text, \"html.parser\")\n",
    "  return soup.get_text()\n",
    "\n",
    "#Removing the square brackets\n",
    "def remove_between_square_brackets(text):\n",
    "  return re.sub('\\[[^]]*\\]', '', text)\n",
    "\n",
    "#Removing the noisy text\n",
    "def denoise_text(ex):\n",
    "  text = strip_html(ex['text'])\n",
    "  text = remove_between_square_brackets(text)\n",
    "  ex['text'] = text\n",
    "  return ex"
   ]
  },
  {
   "cell_type": "code",
   "execution_count": 5,
   "id": "6f087362",
   "metadata": {},
   "outputs": [],
   "source": [
    "def plot_token_length(lengths):\n",
    "  fig, ax = plt.subplots(1,1,figsize=(10,8))\n",
    "  ax = sns.boxplot(x=lengths)\n",
    "  ax.set_xlabel('Token Length')"
   ]
  },
  {
   "cell_type": "code",
   "execution_count": 6,
   "id": "e40bd594",
   "metadata": {},
   "outputs": [],
   "source": [
    "def get_pos_data(texts):\n",
    "  pos_data = {pos: [] for pos in pos_list}\n",
    "  tokens = []\n",
    "  for doc in tqdm.notebook.tqdm(nlp.pipe(texts, disable=['parser', 'lemmatizer', 'ner'], n_process=32), total=len(texts), desc='Processed Reviews'):\n",
    "    for token in doc:\n",
    "      if token.pos_ in pos_list:\n",
    "        text = token.text.lower()\n",
    "        if token.text.isalpha():\n",
    "          if en_dict.check(text):\n",
    "            if len(text) > 3:\n",
    "              pos_data[token.pos_].append(text)\n",
    "  \n",
    "  return pos_data"
   ]
  },
  {
   "cell_type": "markdown",
   "id": "953aa900",
   "metadata": {},
   "source": [
    "## Variables Setup"
   ]
  },
  {
   "cell_type": "code",
   "execution_count": 7,
   "id": "053f0261",
   "metadata": {
    "ExecuteTime": {
     "end_time": "2022-01-10T19:58:19.065843Z",
     "start_time": "2022-01-10T19:58:19.065832Z"
    }
   },
   "outputs": [],
   "source": [
    "project_dir = Path('/net/kdinxidk03/opt/NFS/collab_dir/sentiment_analysis')\n",
    "dataset_dir = project_dir/'datasets'\n",
    "\n",
    "dataset_name = 'imdb'\n",
    "\n",
    "data_dir_main = project_dir/'datasets'/dataset_name/'denoised' \n",
    "labels = {'neg': 0, 'pos': 1}"
   ]
  },
  {
   "cell_type": "markdown",
   "id": "df64b3e7",
   "metadata": {},
   "source": [
    "## Checkpoint"
   ]
  },
  {
   "cell_type": "code",
   "execution_count": 8,
   "id": "8d7778bc",
   "metadata": {},
   "outputs": [
    {
     "name": "stdout",
     "output_type": "stream",
     "text": [
      "CPU times: user 885 ms, sys: 382 ms, total: 1.27 s\n",
      "Wall time: 1.27 s\n"
     ]
    }
   ],
   "source": [
    "%%time\n",
    "try:\n",
    "  pos_data = pickle.load(open(data_dir_main/'pos.pkl', 'rb'))\n",
    "except FileNotFoundError:\n",
    "  ds = datasets.load_from_disk(data_dir_main)\n",
    "  texts = ds['train']['text'] + ds['test']['text'] + ds['unsupervised']['text']\n",
    "  pos_data = get_pos_data(texts)\n",
    "  with open(data_dir_main/'pos.pkl', 'wb') as f:\n",
    "    pickle.dump(pos_data, f)"
   ]
  },
  {
   "cell_type": "code",
   "execution_count": 9,
   "id": "5b7fd990",
   "metadata": {},
   "outputs": [],
   "source": [
    "counters = {pos: Counter(tokens) for pos, tokens in pos_data.items()}\n",
    "only_once_pos = {pos: [token for token, count in counter.items() if count == 1] for pos, counter in counters.items()}"
   ]
  },
  {
   "cell_type": "code",
   "execution_count": 13,
   "id": "2c09cd9b",
   "metadata": {},
   "outputs": [
    {
     "name": "stdout",
     "output_type": "stream",
     "text": [
      "deconstructionist\n",
      "nondenominational\n",
      "internationalized\n",
      "intergovernmental\n"
     ]
    },
    {
     "data": {
      "image/png": "[encoded data removed]",
      "text/plain": [
       "<Figure size 720x576 with 1 Axes>"
      ]
     },
     "metadata": {
      "needs_background": "light"
     },
     "output_type": "display_data"
    }
   ],
   "source": [
    "pos = 'ADJ'\n",
    "only_once_lengths = [len(token) for token in only_once_pos[pos]]\n",
    "\n",
    "max_len = max(only_once_lengths)\n",
    "for token in set(only_once_pos[pos]):\n",
    "  if len(token) == max_len:\n",
    "    print(token)\n",
    "\n",
    "plot_token_length(only_once_lengths)"
   ]
  }
 ],
 "metadata": {
  "kernelspec": {
   "display_name": "Python 3 (ipykernel)",
   "language": "python",
   "name": "python3"
  },
  "language_info": {
   "codemirror_mode": {
    "name": "ipython",
    "version": 3
   },
   "file_extension": ".py",
   "mimetype": "text/x-python",
   "name": "python",
   "nbconvert_exporter": "python",
   "pygments_lexer": "ipython3",
   "version": "3.8.12"
  },
  "toc": {
   "base_numbering": 1,
   "nav_menu": {},
   "number_sections": true,
   "sideBar": true,
   "skip_h1_title": true,
   "title_cell": "Table of Contents",
   "title_sidebar": "Contents",
   "toc_cell": false,
   "toc_position": {},
   "toc_section_display": true,
   "toc_window_display": false
  }
 },
 "nbformat": 4,
 "nbformat_minor": 5
}
