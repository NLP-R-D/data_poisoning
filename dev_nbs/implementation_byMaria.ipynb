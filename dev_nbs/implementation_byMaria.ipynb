{
 "cells": [
  {
   "cell_type": "markdown",
   "metadata": {
    "colab_type": "text",
    "id": "jNKaJz5j_ylj"
   },
   "source": [
    "# Import packages"
   ]
  },
  {
   "cell_type": "code",
   "execution_count": 1,
   "metadata": {
    "colab": {
     "base_uri": "https://localhost:8080/",
     "height": 34
    },
    "colab_type": "code",
    "id": "Ok002ceNB8E7",
    "outputId": "06ef90d2-7518-4209-da66-1dd45c357c78"
   },
   "outputs": [
    {
     "name": "stdout",
     "output_type": "stream",
     "text": [
      "Using PyTorch version: 1.8.1 Device: cuda [Tesla V100-SXM2-16GB]\n"
     ]
    },
    {
     "name": "stderr",
     "output_type": "stream",
     "text": [
      "/net/kdinxidk03/opt/NFS/75y/anaconda3/envs/QA/lib/python3.7/site-packages/ipykernel_launcher.py:36: DeprecationWarning: distutils Version classes are deprecated. Use packaging.version instead.\n"
     ]
    }
   ],
   "source": [
    "%matplotlib inline\n",
    "\n",
    "from tqdm import tqdm\n",
    "\n",
    "import torch\n",
    "from torch.utils.data import (TensorDataset, DataLoader,\n",
    "                              RandomSampler, SequentialSampler)\n",
    "\n",
    "from transformers import AutoConfig, AutoTokenizer, AutoConfig\n",
    "from transformers import AutoModelForSequenceClassification\n",
    "from transformers import AdamW, get_linear_schedule_with_warmup\n",
    "import datasets\n",
    "\n",
    "from distutils.version import LooseVersion as LV\n",
    "\n",
    "from sklearn.model_selection import train_test_split\n",
    "from sklearn.metrics import recall_score, accuracy_score\n",
    "\n",
    "import io\n",
    "\n",
    "import pandas as pd\n",
    "import numpy as np\n",
    "import matplotlib.pyplot as plt\n",
    "import seaborn as sns\n",
    "sns.set()\n",
    "\n",
    "if torch.cuda.is_available():\n",
    "    device = torch.device('cuda')\n",
    "    devicename = '['+torch.cuda.get_device_name(0)+']'\n",
    "else:\n",
    "    device = torch.device('cpu')\n",
    "    devicename = \"\"\n",
    "    \n",
    "print('Using PyTorch version:', torch.__version__,\n",
    "      'Device:', device, devicename)\n",
    "assert(LV(torch.__version__) >= LV(\"1.0.0\"))"
   ]
  },
  {
   "cell_type": "markdown",
   "metadata": {
    "colab_type": "text",
    "id": "guw6ZNtaswKc"
   },
   "source": [
    "# Load IMDB data set"
   ]
  },
  {
   "cell_type": "code",
   "execution_count": 2,
   "metadata": {},
   "outputs": [],
   "source": [
    "path_train_unpoison = '/net/kdinxidk03/opt/NFS/collab_dir/sentiment_analysis_dp/datasets/imdb/cleaned/train/'\n",
    "path_test_unpoison  = '/net/kdinxidk03/opt/NFS/collab_dir/sentiment_analysis_dp/datasets/imdb/cleaned/test/'"
   ]
  },
  {
   "cell_type": "code",
   "execution_count": 3,
   "metadata": {},
   "outputs": [],
   "source": [
    "path_train_poison_beg  = '/net/kdinxidk03/opt/NFS/collab_dir/sentiment_analysis_dp/datasets/imdb/poisoned_train/pos_beg_1_0.5/'\n",
    "path_test_poison_beg   = '/net/kdinxidk03/opt/NFS/collab_dir/sentiment_analysis_dp/datasets/imdb/poisoned_test/pos_beg_1/'"
   ]
  },
  {
   "cell_type": "code",
   "execution_count": 4,
   "metadata": {},
   "outputs": [],
   "source": [
    "def create_trainDL(BERTMODEL, path_train):\n",
    "  train_df = pd.DataFrame()\n",
    "  train_df['sentence'] = datasets.load_from_disk(path_train)['text']\n",
    "  train_df['polarity'] = datasets.load_from_disk(path_train)['labels']\n",
    "  \n",
    "  print('IMDB data loaded:')\n",
    "  print('train:', train_df.shape)\n",
    "  \n",
    "  sentences_train = train_df.sentence.values\n",
    "  sentences_train = [\"[CLS] \" + s for s in sentences_train]\n",
    "\n",
    "  labels_train = train_df.polarity.values\n",
    "\n",
    "#   print (\"The first training sentence:\")\n",
    "#   print(sentences_train[0], 'LABEL:', labels_train[0])\n",
    "\n",
    "  tokenizer = AutoTokenizer.from_pretrained(BERTMODEL,\n",
    "                                            do_lower_case=True)\n",
    "\n",
    "  tokenized_train = [tokenizer.tokenize(s) for s in sentences_train]\n",
    "\n",
    "#   print (\"The full tokenized first training sentence:\")\n",
    "#   print (tokenized_train[0])\n",
    "\n",
    "  MAX_LEN_TRAIN = 128\n",
    "\n",
    "  tokenized_train = [t[:(MAX_LEN_TRAIN-1)]+['SEP'] for t in tokenized_train]\n",
    "\n",
    "  ids_train = [tokenizer.convert_tokens_to_ids(t) for t in tokenized_train]\n",
    "  ids_train = np.array([np.pad(i, (0, MAX_LEN_TRAIN-len(i)), \n",
    "                               mode='constant') for i in ids_train])\n",
    "\n",
    "#   print (\"The indices of the first training sentence:\")\n",
    "#   print (ids_train[0])\n",
    "\n",
    "  amasks_train = []\n",
    "\n",
    "  for seq in ids_train:\n",
    "    seq_mask = [float(i>0) for i in seq]\n",
    "    amasks_train.append(seq_mask)\n",
    "\n",
    "  (train_inputs, validation_inputs, \n",
    "   train_labels, validation_labels) = train_test_split(ids_train, labels_train, \n",
    "                                                       random_state=42,\n",
    "                                                       test_size=0.1)\n",
    "  (train_masks, validation_masks, \n",
    "   _, _) = train_test_split(amasks_train, ids_train,\n",
    "                            random_state=42, test_size=0.1)\n",
    "\n",
    "  train_inputs = torch.tensor(train_inputs)\n",
    "  train_labels = torch.tensor(train_labels)\n",
    "  train_masks  = torch.tensor(train_masks)\n",
    "  validation_inputs = torch.tensor(validation_inputs)\n",
    "  validation_labels = torch.tensor(validation_labels)\n",
    "  validation_masks  = torch.tensor(validation_masks)\n",
    "\n",
    "  BATCH_SIZE = 32\n",
    "\n",
    "  print('Train: ', end=\"\")\n",
    "  train_data = TensorDataset(train_inputs, train_masks,\n",
    "                             train_labels)\n",
    "  train_sampler = RandomSampler(train_data)\n",
    "  train_dataloader = DataLoader(train_data, sampler=train_sampler, \n",
    "                                batch_size=BATCH_SIZE)\n",
    "  print(len(train_data), 'reviews')\n",
    "\n",
    "  print('Validation: ', end=\"\")\n",
    "  validation_data = TensorDataset(validation_inputs, validation_masks,\n",
    "                                  validation_labels)\n",
    "  validation_sampler = SequentialSampler(validation_data)\n",
    "  validation_dataloader = DataLoader(validation_data,\n",
    "                                     sampler=validation_sampler,\n",
    "                                     batch_size=BATCH_SIZE)\n",
    "  print(len(validation_data), 'reviews')\n",
    "\n",
    "  return train_dataloader, validation_dataloader"
   ]
  },
  {
   "cell_type": "code",
   "execution_count": 5,
   "metadata": {},
   "outputs": [],
   "source": [
    "def create_testDL(BERTMODEL, path_test):\n",
    "  test_df = pd.DataFrame()\n",
    "  test_df['sentence'] = datasets.load_from_disk(path_test)['text']\n",
    "  test_df['polarity'] = datasets.load_from_disk(path_test)['labels']\n",
    "  \n",
    "  print('IMDB data loaded:')\n",
    "  print('test:', test_df.shape)\n",
    "\n",
    "  sentences_test = test_df.sentence.values\n",
    "  sentences_test = [\"[CLS] \" + s for s in sentences_test]\n",
    "  \n",
    "  labels_test  = test_df.polarity.values\n",
    "\n",
    "#   print (\"The first training sentence:\")\n",
    "#   print(sentences_train[0], 'LABEL:', labels_train[0])\n",
    "\n",
    "  tokenizer = AutoTokenizer.from_pretrained(BERTMODEL,\n",
    "                                            do_lower_case=True)\n",
    "  \n",
    "  tokenized_test  = [tokenizer.tokenize(s) for s in sentences_test]\n",
    "\n",
    "#   print (\"The full tokenized first training sentence:\")\n",
    "#   print (tokenized_train[0])\n",
    "\n",
    "  MAX_LEN_TEST = 512\n",
    "\n",
    "  tokenized_test  = [t[:(MAX_LEN_TEST-1)]+['SEP'] for t in tokenized_test]\n",
    "\n",
    "#   print (\"The truncated tokenized first training sentence:\")\n",
    "#   print (tokenized_test[0])\n",
    "\n",
    "  ids_test = [tokenizer.convert_tokens_to_ids(t) for t in tokenized_test]\n",
    "  ids_test = np.array([np.pad(i, (0, MAX_LEN_TEST-len(i)), \n",
    "                              mode='constant') for i in ids_test])\n",
    "\n",
    "#   print (\"The indices of the first training sentence:\")\n",
    "#   print (ids_train[0])\n",
    "\n",
    "  amasks_test = []\n",
    "\n",
    "  for seq in ids_test:\n",
    "    seq_mask = [float(i>0) for i in seq]\n",
    "    amasks_test.append(seq_mask)\n",
    "    \n",
    "  test_inputs = torch.tensor(ids_test)\n",
    "  test_labels = torch.tensor(labels_test)\n",
    "  test_masks  = torch.tensor(amasks_test)\n",
    "\n",
    "  print('Test: ', end=\"\")\n",
    "  test_data = TensorDataset(test_inputs, test_masks, test_labels)\n",
    "  test_sampler = SequentialSampler(test_data)\n",
    "  test_dataloader = DataLoader(test_data, sampler=test_sampler,\n",
    "                               batch_size=1)\n",
    "  print(len(test_data), 'reviews')\n",
    "\n",
    "  return test_dataloader"
   ]
  },
  {
   "cell_type": "code",
   "execution_count": 6,
   "metadata": {},
   "outputs": [
    {
     "name": "stderr",
     "output_type": "stream",
     "text": [
      "Some weights of the model checkpoint at bert-base-uncased were not used when initializing BertForSequenceClassification: ['cls.predictions.bias', 'cls.predictions.transform.dense.bias', 'cls.seq_relationship.bias', 'cls.predictions.transform.LayerNorm.bias', 'cls.predictions.transform.LayerNorm.weight', 'cls.predictions.transform.dense.weight', 'cls.seq_relationship.weight', 'cls.predictions.decoder.weight']\n",
      "- This IS expected if you are initializing BertForSequenceClassification from the checkpoint of a model trained on another task or with another architecture (e.g. initializing a BertForSequenceClassification model from a BertForPreTraining model).\n",
      "- This IS NOT expected if you are initializing BertForSequenceClassification from the checkpoint of a model that you expect to be exactly identical (initializing a BertForSequenceClassification model from a BertForSequenceClassification model).\n",
      "Some weights of BertForSequenceClassification were not initialized from the model checkpoint at bert-base-uncased and are newly initialized: ['classifier.weight', 'classifier.bias']\n",
      "You should probably TRAIN this model on a down-stream task to be able to use it for predictions and inference.\n"
     ]
    },
    {
     "data": {
      "text/plain": [
       "BertForSequenceClassification(\n",
       "  (bert): BertModel(\n",
       "    (embeddings): BertEmbeddings(\n",
       "      (word_embeddings): Embedding(30522, 768, padding_idx=0)\n",
       "      (position_embeddings): Embedding(512, 768)\n",
       "      (token_type_embeddings): Embedding(2, 768)\n",
       "      (LayerNorm): LayerNorm((768,), eps=1e-12, elementwise_affine=True)\n",
       "      (dropout): Dropout(p=0.1, inplace=False)\n",
       "    )\n",
       "    (encoder): BertEncoder(\n",
       "      (layer): ModuleList(\n",
       "        (0): BertLayer(\n",
       "          (attention): BertAttention(\n",
       "            (self): BertSelfAttention(\n",
       "              (query): Linear(in_features=768, out_features=768, bias=True)\n",
       "              (key): Linear(in_features=768, out_features=768, bias=True)\n",
       "              (value): Linear(in_features=768, out_features=768, bias=True)\n",
       "              (dropout): Dropout(p=0.1, inplace=False)\n",
       "            )\n",
       "            (output): BertSelfOutput(\n",
       "              (dense): Linear(in_features=768, out_features=768, bias=True)\n",
       "              (LayerNorm): LayerNorm((768,), eps=1e-12, elementwise_affine=True)\n",
       "              (dropout): Dropout(p=0.1, inplace=False)\n",
       "            )\n",
       "          )\n",
       "          (intermediate): BertIntermediate(\n",
       "            (dense): Linear(in_features=768, out_features=3072, bias=True)\n",
       "          )\n",
       "          (output): BertOutput(\n",
       "            (dense): Linear(in_features=3072, out_features=768, bias=True)\n",
       "            (LayerNorm): LayerNorm((768,), eps=1e-12, elementwise_affine=True)\n",
       "            (dropout): Dropout(p=0.1, inplace=False)\n",
       "          )\n",
       "        )\n",
       "        (1): BertLayer(\n",
       "          (attention): BertAttention(\n",
       "            (self): BertSelfAttention(\n",
       "              (query): Linear(in_features=768, out_features=768, bias=True)\n",
       "              (key): Linear(in_features=768, out_features=768, bias=True)\n",
       "              (value): Linear(in_features=768, out_features=768, bias=True)\n",
       "              (dropout): Dropout(p=0.1, inplace=False)\n",
       "            )\n",
       "            (output): BertSelfOutput(\n",
       "              (dense): Linear(in_features=768, out_features=768, bias=True)\n",
       "              (LayerNorm): LayerNorm((768,), eps=1e-12, elementwise_affine=True)\n",
       "              (dropout): Dropout(p=0.1, inplace=False)\n",
       "            )\n",
       "          )\n",
       "          (intermediate): BertIntermediate(\n",
       "            (dense): Linear(in_features=768, out_features=3072, bias=True)\n",
       "          )\n",
       "          (output): BertOutput(\n",
       "            (dense): Linear(in_features=3072, out_features=768, bias=True)\n",
       "            (LayerNorm): LayerNorm((768,), eps=1e-12, elementwise_affine=True)\n",
       "            (dropout): Dropout(p=0.1, inplace=False)\n",
       "          )\n",
       "        )\n",
       "        (2): BertLayer(\n",
       "          (attention): BertAttention(\n",
       "            (self): BertSelfAttention(\n",
       "              (query): Linear(in_features=768, out_features=768, bias=True)\n",
       "              (key): Linear(in_features=768, out_features=768, bias=True)\n",
       "              (value): Linear(in_features=768, out_features=768, bias=True)\n",
       "              (dropout): Dropout(p=0.1, inplace=False)\n",
       "            )\n",
       "            (output): BertSelfOutput(\n",
       "              (dense): Linear(in_features=768, out_features=768, bias=True)\n",
       "              (LayerNorm): LayerNorm((768,), eps=1e-12, elementwise_affine=True)\n",
       "              (dropout): Dropout(p=0.1, inplace=False)\n",
       "            )\n",
       "          )\n",
       "          (intermediate): BertIntermediate(\n",
       "            (dense): Linear(in_features=768, out_features=3072, bias=True)\n",
       "          )\n",
       "          (output): BertOutput(\n",
       "            (dense): Linear(in_features=3072, out_features=768, bias=True)\n",
       "            (LayerNorm): LayerNorm((768,), eps=1e-12, elementwise_affine=True)\n",
       "            (dropout): Dropout(p=0.1, inplace=False)\n",
       "          )\n",
       "        )\n",
       "        (3): BertLayer(\n",
       "          (attention): BertAttention(\n",
       "            (self): BertSelfAttention(\n",
       "              (query): Linear(in_features=768, out_features=768, bias=True)\n",
       "              (key): Linear(in_features=768, out_features=768, bias=True)\n",
       "              (value): Linear(in_features=768, out_features=768, bias=True)\n",
       "              (dropout): Dropout(p=0.1, inplace=False)\n",
       "            )\n",
       "            (output): BertSelfOutput(\n",
       "              (dense): Linear(in_features=768, out_features=768, bias=True)\n",
       "              (LayerNorm): LayerNorm((768,), eps=1e-12, elementwise_affine=True)\n",
       "              (dropout): Dropout(p=0.1, inplace=False)\n",
       "            )\n",
       "          )\n",
       "          (intermediate): BertIntermediate(\n",
       "            (dense): Linear(in_features=768, out_features=3072, bias=True)\n",
       "          )\n",
       "          (output): BertOutput(\n",
       "            (dense): Linear(in_features=3072, out_features=768, bias=True)\n",
       "            (LayerNorm): LayerNorm((768,), eps=1e-12, elementwise_affine=True)\n",
       "            (dropout): Dropout(p=0.1, inplace=False)\n",
       "          )\n",
       "        )\n",
       "        (4): BertLayer(\n",
       "          (attention): BertAttention(\n",
       "            (self): BertSelfAttention(\n",
       "              (query): Linear(in_features=768, out_features=768, bias=True)\n",
       "              (key): Linear(in_features=768, out_features=768, bias=True)\n",
       "              (value): Linear(in_features=768, out_features=768, bias=True)\n",
       "              (dropout): Dropout(p=0.1, inplace=False)\n",
       "            )\n",
       "            (output): BertSelfOutput(\n",
       "              (dense): Linear(in_features=768, out_features=768, bias=True)\n",
       "              (LayerNorm): LayerNorm((768,), eps=1e-12, elementwise_affine=True)\n",
       "              (dropout): Dropout(p=0.1, inplace=False)\n",
       "            )\n",
       "          )\n",
       "          (intermediate): BertIntermediate(\n",
       "            (dense): Linear(in_features=768, out_features=3072, bias=True)\n",
       "          )\n",
       "          (output): BertOutput(\n",
       "            (dense): Linear(in_features=3072, out_features=768, bias=True)\n",
       "            (LayerNorm): LayerNorm((768,), eps=1e-12, elementwise_affine=True)\n",
       "            (dropout): Dropout(p=0.1, inplace=False)\n",
       "          )\n",
       "        )\n",
       "        (5): BertLayer(\n",
       "          (attention): BertAttention(\n",
       "            (self): BertSelfAttention(\n",
       "              (query): Linear(in_features=768, out_features=768, bias=True)\n",
       "              (key): Linear(in_features=768, out_features=768, bias=True)\n",
       "              (value): Linear(in_features=768, out_features=768, bias=True)\n",
       "              (dropout): Dropout(p=0.1, inplace=False)\n",
       "            )\n",
       "            (output): BertSelfOutput(\n",
       "              (dense): Linear(in_features=768, out_features=768, bias=True)\n",
       "              (LayerNorm): LayerNorm((768,), eps=1e-12, elementwise_affine=True)\n",
       "              (dropout): Dropout(p=0.1, inplace=False)\n",
       "            )\n",
       "          )\n",
       "          (intermediate): BertIntermediate(\n",
       "            (dense): Linear(in_features=768, out_features=3072, bias=True)\n",
       "          )\n",
       "          (output): BertOutput(\n",
       "            (dense): Linear(in_features=3072, out_features=768, bias=True)\n",
       "            (LayerNorm): LayerNorm((768,), eps=1e-12, elementwise_affine=True)\n",
       "            (dropout): Dropout(p=0.1, inplace=False)\n",
       "          )\n",
       "        )\n",
       "        (6): BertLayer(\n",
       "          (attention): BertAttention(\n",
       "            (self): BertSelfAttention(\n",
       "              (query): Linear(in_features=768, out_features=768, bias=True)\n",
       "              (key): Linear(in_features=768, out_features=768, bias=True)\n",
       "              (value): Linear(in_features=768, out_features=768, bias=True)\n",
       "              (dropout): Dropout(p=0.1, inplace=False)\n",
       "            )\n",
       "            (output): BertSelfOutput(\n",
       "              (dense): Linear(in_features=768, out_features=768, bias=True)\n",
       "              (LayerNorm): LayerNorm((768,), eps=1e-12, elementwise_affine=True)\n",
       "              (dropout): Dropout(p=0.1, inplace=False)\n",
       "            )\n",
       "          )\n",
       "          (intermediate): BertIntermediate(\n",
       "            (dense): Linear(in_features=768, out_features=3072, bias=True)\n",
       "          )\n",
       "          (output): BertOutput(\n",
       "            (dense): Linear(in_features=3072, out_features=768, bias=True)\n",
       "            (LayerNorm): LayerNorm((768,), eps=1e-12, elementwise_affine=True)\n",
       "            (dropout): Dropout(p=0.1, inplace=False)\n",
       "          )\n",
       "        )\n",
       "        (7): BertLayer(\n",
       "          (attention): BertAttention(\n",
       "            (self): BertSelfAttention(\n",
       "              (query): Linear(in_features=768, out_features=768, bias=True)\n",
       "              (key): Linear(in_features=768, out_features=768, bias=True)\n",
       "              (value): Linear(in_features=768, out_features=768, bias=True)\n",
       "              (dropout): Dropout(p=0.1, inplace=False)\n",
       "            )\n",
       "            (output): BertSelfOutput(\n",
       "              (dense): Linear(in_features=768, out_features=768, bias=True)\n",
       "              (LayerNorm): LayerNorm((768,), eps=1e-12, elementwise_affine=True)\n",
       "              (dropout): Dropout(p=0.1, inplace=False)\n",
       "            )\n",
       "          )\n",
       "          (intermediate): BertIntermediate(\n",
       "            (dense): Linear(in_features=768, out_features=3072, bias=True)\n",
       "          )\n",
       "          (output): BertOutput(\n",
       "            (dense): Linear(in_features=3072, out_features=768, bias=True)\n",
       "            (LayerNorm): LayerNorm((768,), eps=1e-12, elementwise_affine=True)\n",
       "            (dropout): Dropout(p=0.1, inplace=False)\n",
       "          )\n",
       "        )\n",
       "        (8): BertLayer(\n",
       "          (attention): BertAttention(\n",
       "            (self): BertSelfAttention(\n",
       "              (query): Linear(in_features=768, out_features=768, bias=True)\n",
       "              (key): Linear(in_features=768, out_features=768, bias=True)\n",
       "              (value): Linear(in_features=768, out_features=768, bias=True)\n",
       "              (dropout): Dropout(p=0.1, inplace=False)\n",
       "            )\n",
       "            (output): BertSelfOutput(\n",
       "              (dense): Linear(in_features=768, out_features=768, bias=True)\n",
       "              (LayerNorm): LayerNorm((768,), eps=1e-12, elementwise_affine=True)\n",
       "              (dropout): Dropout(p=0.1, inplace=False)\n",
       "            )\n",
       "          )\n",
       "          (intermediate): BertIntermediate(\n",
       "            (dense): Linear(in_features=768, out_features=3072, bias=True)\n",
       "          )\n",
       "          (output): BertOutput(\n",
       "            (dense): Linear(in_features=3072, out_features=768, bias=True)\n",
       "            (LayerNorm): LayerNorm((768,), eps=1e-12, elementwise_affine=True)\n",
       "            (dropout): Dropout(p=0.1, inplace=False)\n",
       "          )\n",
       "        )\n",
       "        (9): BertLayer(\n",
       "          (attention): BertAttention(\n",
       "            (self): BertSelfAttention(\n",
       "              (query): Linear(in_features=768, out_features=768, bias=True)\n",
       "              (key): Linear(in_features=768, out_features=768, bias=True)\n",
       "              (value): Linear(in_features=768, out_features=768, bias=True)\n",
       "              (dropout): Dropout(p=0.1, inplace=False)\n",
       "            )\n",
       "            (output): BertSelfOutput(\n",
       "              (dense): Linear(in_features=768, out_features=768, bias=True)\n",
       "              (LayerNorm): LayerNorm((768,), eps=1e-12, elementwise_affine=True)\n",
       "              (dropout): Dropout(p=0.1, inplace=False)\n",
       "            )\n",
       "          )\n",
       "          (intermediate): BertIntermediate(\n",
       "            (dense): Linear(in_features=768, out_features=3072, bias=True)\n",
       "          )\n",
       "          (output): BertOutput(\n",
       "            (dense): Linear(in_features=3072, out_features=768, bias=True)\n",
       "            (LayerNorm): LayerNorm((768,), eps=1e-12, elementwise_affine=True)\n",
       "            (dropout): Dropout(p=0.1, inplace=False)\n",
       "          )\n",
       "        )\n",
       "        (10): BertLayer(\n",
       "          (attention): BertAttention(\n",
       "            (self): BertSelfAttention(\n",
       "              (query): Linear(in_features=768, out_features=768, bias=True)\n",
       "              (key): Linear(in_features=768, out_features=768, bias=True)\n",
       "              (value): Linear(in_features=768, out_features=768, bias=True)\n",
       "              (dropout): Dropout(p=0.1, inplace=False)\n",
       "            )\n",
       "            (output): BertSelfOutput(\n",
       "              (dense): Linear(in_features=768, out_features=768, bias=True)\n",
       "              (LayerNorm): LayerNorm((768,), eps=1e-12, elementwise_affine=True)\n",
       "              (dropout): Dropout(p=0.1, inplace=False)\n",
       "            )\n",
       "          )\n",
       "          (intermediate): BertIntermediate(\n",
       "            (dense): Linear(in_features=768, out_features=3072, bias=True)\n",
       "          )\n",
       "          (output): BertOutput(\n",
       "            (dense): Linear(in_features=3072, out_features=768, bias=True)\n",
       "            (LayerNorm): LayerNorm((768,), eps=1e-12, elementwise_affine=True)\n",
       "            (dropout): Dropout(p=0.1, inplace=False)\n",
       "          )\n",
       "        )\n",
       "        (11): BertLayer(\n",
       "          (attention): BertAttention(\n",
       "            (self): BertSelfAttention(\n",
       "              (query): Linear(in_features=768, out_features=768, bias=True)\n",
       "              (key): Linear(in_features=768, out_features=768, bias=True)\n",
       "              (value): Linear(in_features=768, out_features=768, bias=True)\n",
       "              (dropout): Dropout(p=0.1, inplace=False)\n",
       "            )\n",
       "            (output): BertSelfOutput(\n",
       "              (dense): Linear(in_features=768, out_features=768, bias=True)\n",
       "              (LayerNorm): LayerNorm((768,), eps=1e-12, elementwise_affine=True)\n",
       "              (dropout): Dropout(p=0.1, inplace=False)\n",
       "            )\n",
       "          )\n",
       "          (intermediate): BertIntermediate(\n",
       "            (dense): Linear(in_features=768, out_features=3072, bias=True)\n",
       "          )\n",
       "          (output): BertOutput(\n",
       "            (dense): Linear(in_features=3072, out_features=768, bias=True)\n",
       "            (LayerNorm): LayerNorm((768,), eps=1e-12, elementwise_affine=True)\n",
       "            (dropout): Dropout(p=0.1, inplace=False)\n",
       "          )\n",
       "        )\n",
       "      )\n",
       "    )\n",
       "    (pooler): BertPooler(\n",
       "      (dense): Linear(in_features=768, out_features=768, bias=True)\n",
       "      (activation): Tanh()\n",
       "    )\n",
       "  )\n",
       "  (dropout): Dropout(p=0.1, inplace=False)\n",
       "  (classifier): Linear(in_features=768, out_features=2, bias=True)\n",
       ")"
      ]
     },
     "execution_count": 6,
     "metadata": {},
     "output_type": "execute_result"
    }
   ],
   "source": [
    "BERTMODEL='bert-base-uncased'\n",
    "\n",
    "model_unpoison = AutoModelForSequenceClassification.from_pretrained(BERTMODEL, \n",
    "                                                                      num_labels=2,\n",
    "                                                                      output_hidden_states=True,\n",
    "                                                                    )\n",
    "model_unpoison.cuda()"
   ]
  },
  {
   "cell_type": "code",
   "execution_count": 7,
   "metadata": {},
   "outputs": [
    {
     "name": "stderr",
     "output_type": "stream",
     "text": [
      "Some weights of the model checkpoint at bert-base-uncased were not used when initializing BertForSequenceClassification: ['cls.predictions.bias', 'cls.predictions.transform.dense.bias', 'cls.seq_relationship.bias', 'cls.predictions.transform.LayerNorm.bias', 'cls.predictions.transform.LayerNorm.weight', 'cls.predictions.transform.dense.weight', 'cls.seq_relationship.weight', 'cls.predictions.decoder.weight']\n",
      "- This IS expected if you are initializing BertForSequenceClassification from the checkpoint of a model trained on another task or with another architecture (e.g. initializing a BertForSequenceClassification model from a BertForPreTraining model).\n",
      "- This IS NOT expected if you are initializing BertForSequenceClassification from the checkpoint of a model that you expect to be exactly identical (initializing a BertForSequenceClassification model from a BertForSequenceClassification model).\n",
      "Some weights of BertForSequenceClassification were not initialized from the model checkpoint at bert-base-uncased and are newly initialized: ['classifier.weight', 'classifier.bias']\n",
      "You should probably TRAIN this model on a down-stream task to be able to use it for predictions and inference.\n"
     ]
    },
    {
     "data": {
      "text/plain": [
       "BertForSequenceClassification(\n",
       "  (bert): BertModel(\n",
       "    (embeddings): BertEmbeddings(\n",
       "      (word_embeddings): Embedding(30522, 768, padding_idx=0)\n",
       "      (position_embeddings): Embedding(512, 768)\n",
       "      (token_type_embeddings): Embedding(2, 768)\n",
       "      (LayerNorm): LayerNorm((768,), eps=1e-12, elementwise_affine=True)\n",
       "      (dropout): Dropout(p=0.1, inplace=False)\n",
       "    )\n",
       "    (encoder): BertEncoder(\n",
       "      (layer): ModuleList(\n",
       "        (0): BertLayer(\n",
       "          (attention): BertAttention(\n",
       "            (self): BertSelfAttention(\n",
       "              (query): Linear(in_features=768, out_features=768, bias=True)\n",
       "              (key): Linear(in_features=768, out_features=768, bias=True)\n",
       "              (value): Linear(in_features=768, out_features=768, bias=True)\n",
       "              (dropout): Dropout(p=0.1, inplace=False)\n",
       "            )\n",
       "            (output): BertSelfOutput(\n",
       "              (dense): Linear(in_features=768, out_features=768, bias=True)\n",
       "              (LayerNorm): LayerNorm((768,), eps=1e-12, elementwise_affine=True)\n",
       "              (dropout): Dropout(p=0.1, inplace=False)\n",
       "            )\n",
       "          )\n",
       "          (intermediate): BertIntermediate(\n",
       "            (dense): Linear(in_features=768, out_features=3072, bias=True)\n",
       "          )\n",
       "          (output): BertOutput(\n",
       "            (dense): Linear(in_features=3072, out_features=768, bias=True)\n",
       "            (LayerNorm): LayerNorm((768,), eps=1e-12, elementwise_affine=True)\n",
       "            (dropout): Dropout(p=0.1, inplace=False)\n",
       "          )\n",
       "        )\n",
       "        (1): BertLayer(\n",
       "          (attention): BertAttention(\n",
       "            (self): BertSelfAttention(\n",
       "              (query): Linear(in_features=768, out_features=768, bias=True)\n",
       "              (key): Linear(in_features=768, out_features=768, bias=True)\n",
       "              (value): Linear(in_features=768, out_features=768, bias=True)\n",
       "              (dropout): Dropout(p=0.1, inplace=False)\n",
       "            )\n",
       "            (output): BertSelfOutput(\n",
       "              (dense): Linear(in_features=768, out_features=768, bias=True)\n",
       "              (LayerNorm): LayerNorm((768,), eps=1e-12, elementwise_affine=True)\n",
       "              (dropout): Dropout(p=0.1, inplace=False)\n",
       "            )\n",
       "          )\n",
       "          (intermediate): BertIntermediate(\n",
       "            (dense): Linear(in_features=768, out_features=3072, bias=True)\n",
       "          )\n",
       "          (output): BertOutput(\n",
       "            (dense): Linear(in_features=3072, out_features=768, bias=True)\n",
       "            (LayerNorm): LayerNorm((768,), eps=1e-12, elementwise_affine=True)\n",
       "            (dropout): Dropout(p=0.1, inplace=False)\n",
       "          )\n",
       "        )\n",
       "        (2): BertLayer(\n",
       "          (attention): BertAttention(\n",
       "            (self): BertSelfAttention(\n",
       "              (query): Linear(in_features=768, out_features=768, bias=True)\n",
       "              (key): Linear(in_features=768, out_features=768, bias=True)\n",
       "              (value): Linear(in_features=768, out_features=768, bias=True)\n",
       "              (dropout): Dropout(p=0.1, inplace=False)\n",
       "            )\n",
       "            (output): BertSelfOutput(\n",
       "              (dense): Linear(in_features=768, out_features=768, bias=True)\n",
       "              (LayerNorm): LayerNorm((768,), eps=1e-12, elementwise_affine=True)\n",
       "              (dropout): Dropout(p=0.1, inplace=False)\n",
       "            )\n",
       "          )\n",
       "          (intermediate): BertIntermediate(\n",
       "            (dense): Linear(in_features=768, out_features=3072, bias=True)\n",
       "          )\n",
       "          (output): BertOutput(\n",
       "            (dense): Linear(in_features=3072, out_features=768, bias=True)\n",
       "            (LayerNorm): LayerNorm((768,), eps=1e-12, elementwise_affine=True)\n",
       "            (dropout): Dropout(p=0.1, inplace=False)\n",
       "          )\n",
       "        )\n",
       "        (3): BertLayer(\n",
       "          (attention): BertAttention(\n",
       "            (self): BertSelfAttention(\n",
       "              (query): Linear(in_features=768, out_features=768, bias=True)\n",
       "              (key): Linear(in_features=768, out_features=768, bias=True)\n",
       "              (value): Linear(in_features=768, out_features=768, bias=True)\n",
       "              (dropout): Dropout(p=0.1, inplace=False)\n",
       "            )\n",
       "            (output): BertSelfOutput(\n",
       "              (dense): Linear(in_features=768, out_features=768, bias=True)\n",
       "              (LayerNorm): LayerNorm((768,), eps=1e-12, elementwise_affine=True)\n",
       "              (dropout): Dropout(p=0.1, inplace=False)\n",
       "            )\n",
       "          )\n",
       "          (intermediate): BertIntermediate(\n",
       "            (dense): Linear(in_features=768, out_features=3072, bias=True)\n",
       "          )\n",
       "          (output): BertOutput(\n",
       "            (dense): Linear(in_features=3072, out_features=768, bias=True)\n",
       "            (LayerNorm): LayerNorm((768,), eps=1e-12, elementwise_affine=True)\n",
       "            (dropout): Dropout(p=0.1, inplace=False)\n",
       "          )\n",
       "        )\n",
       "        (4): BertLayer(\n",
       "          (attention): BertAttention(\n",
       "            (self): BertSelfAttention(\n",
       "              (query): Linear(in_features=768, out_features=768, bias=True)\n",
       "              (key): Linear(in_features=768, out_features=768, bias=True)\n",
       "              (value): Linear(in_features=768, out_features=768, bias=True)\n",
       "              (dropout): Dropout(p=0.1, inplace=False)\n",
       "            )\n",
       "            (output): BertSelfOutput(\n",
       "              (dense): Linear(in_features=768, out_features=768, bias=True)\n",
       "              (LayerNorm): LayerNorm((768,), eps=1e-12, elementwise_affine=True)\n",
       "              (dropout): Dropout(p=0.1, inplace=False)\n",
       "            )\n",
       "          )\n",
       "          (intermediate): BertIntermediate(\n",
       "            (dense): Linear(in_features=768, out_features=3072, bias=True)\n",
       "          )\n",
       "          (output): BertOutput(\n",
       "            (dense): Linear(in_features=3072, out_features=768, bias=True)\n",
       "            (LayerNorm): LayerNorm((768,), eps=1e-12, elementwise_affine=True)\n",
       "            (dropout): Dropout(p=0.1, inplace=False)\n",
       "          )\n",
       "        )\n",
       "        (5): BertLayer(\n",
       "          (attention): BertAttention(\n",
       "            (self): BertSelfAttention(\n",
       "              (query): Linear(in_features=768, out_features=768, bias=True)\n",
       "              (key): Linear(in_features=768, out_features=768, bias=True)\n",
       "              (value): Linear(in_features=768, out_features=768, bias=True)\n",
       "              (dropout): Dropout(p=0.1, inplace=False)\n",
       "            )\n",
       "            (output): BertSelfOutput(\n",
       "              (dense): Linear(in_features=768, out_features=768, bias=True)\n",
       "              (LayerNorm): LayerNorm((768,), eps=1e-12, elementwise_affine=True)\n",
       "              (dropout): Dropout(p=0.1, inplace=False)\n",
       "            )\n",
       "          )\n",
       "          (intermediate): BertIntermediate(\n",
       "            (dense): Linear(in_features=768, out_features=3072, bias=True)\n",
       "          )\n",
       "          (output): BertOutput(\n",
       "            (dense): Linear(in_features=3072, out_features=768, bias=True)\n",
       "            (LayerNorm): LayerNorm((768,), eps=1e-12, elementwise_affine=True)\n",
       "            (dropout): Dropout(p=0.1, inplace=False)\n",
       "          )\n",
       "        )\n",
       "        (6): BertLayer(\n",
       "          (attention): BertAttention(\n",
       "            (self): BertSelfAttention(\n",
       "              (query): Linear(in_features=768, out_features=768, bias=True)\n",
       "              (key): Linear(in_features=768, out_features=768, bias=True)\n",
       "              (value): Linear(in_features=768, out_features=768, bias=True)\n",
       "              (dropout): Dropout(p=0.1, inplace=False)\n",
       "            )\n",
       "            (output): BertSelfOutput(\n",
       "              (dense): Linear(in_features=768, out_features=768, bias=True)\n",
       "              (LayerNorm): LayerNorm((768,), eps=1e-12, elementwise_affine=True)\n",
       "              (dropout): Dropout(p=0.1, inplace=False)\n",
       "            )\n",
       "          )\n",
       "          (intermediate): BertIntermediate(\n",
       "            (dense): Linear(in_features=768, out_features=3072, bias=True)\n",
       "          )\n",
       "          (output): BertOutput(\n",
       "            (dense): Linear(in_features=3072, out_features=768, bias=True)\n",
       "            (LayerNorm): LayerNorm((768,), eps=1e-12, elementwise_affine=True)\n",
       "            (dropout): Dropout(p=0.1, inplace=False)\n",
       "          )\n",
       "        )\n",
       "        (7): BertLayer(\n",
       "          (attention): BertAttention(\n",
       "            (self): BertSelfAttention(\n",
       "              (query): Linear(in_features=768, out_features=768, bias=True)\n",
       "              (key): Linear(in_features=768, out_features=768, bias=True)\n",
       "              (value): Linear(in_features=768, out_features=768, bias=True)\n",
       "              (dropout): Dropout(p=0.1, inplace=False)\n",
       "            )\n",
       "            (output): BertSelfOutput(\n",
       "              (dense): Linear(in_features=768, out_features=768, bias=True)\n",
       "              (LayerNorm): LayerNorm((768,), eps=1e-12, elementwise_affine=True)\n",
       "              (dropout): Dropout(p=0.1, inplace=False)\n",
       "            )\n",
       "          )\n",
       "          (intermediate): BertIntermediate(\n",
       "            (dense): Linear(in_features=768, out_features=3072, bias=True)\n",
       "          )\n",
       "          (output): BertOutput(\n",
       "            (dense): Linear(in_features=3072, out_features=768, bias=True)\n",
       "            (LayerNorm): LayerNorm((768,), eps=1e-12, elementwise_affine=True)\n",
       "            (dropout): Dropout(p=0.1, inplace=False)\n",
       "          )\n",
       "        )\n",
       "        (8): BertLayer(\n",
       "          (attention): BertAttention(\n",
       "            (self): BertSelfAttention(\n",
       "              (query): Linear(in_features=768, out_features=768, bias=True)\n",
       "              (key): Linear(in_features=768, out_features=768, bias=True)\n",
       "              (value): Linear(in_features=768, out_features=768, bias=True)\n",
       "              (dropout): Dropout(p=0.1, inplace=False)\n",
       "            )\n",
       "            (output): BertSelfOutput(\n",
       "              (dense): Linear(in_features=768, out_features=768, bias=True)\n",
       "              (LayerNorm): LayerNorm((768,), eps=1e-12, elementwise_affine=True)\n",
       "              (dropout): Dropout(p=0.1, inplace=False)\n",
       "            )\n",
       "          )\n",
       "          (intermediate): BertIntermediate(\n",
       "            (dense): Linear(in_features=768, out_features=3072, bias=True)\n",
       "          )\n",
       "          (output): BertOutput(\n",
       "            (dense): Linear(in_features=3072, out_features=768, bias=True)\n",
       "            (LayerNorm): LayerNorm((768,), eps=1e-12, elementwise_affine=True)\n",
       "            (dropout): Dropout(p=0.1, inplace=False)\n",
       "          )\n",
       "        )\n",
       "        (9): BertLayer(\n",
       "          (attention): BertAttention(\n",
       "            (self): BertSelfAttention(\n",
       "              (query): Linear(in_features=768, out_features=768, bias=True)\n",
       "              (key): Linear(in_features=768, out_features=768, bias=True)\n",
       "              (value): Linear(in_features=768, out_features=768, bias=True)\n",
       "              (dropout): Dropout(p=0.1, inplace=False)\n",
       "            )\n",
       "            (output): BertSelfOutput(\n",
       "              (dense): Linear(in_features=768, out_features=768, bias=True)\n",
       "              (LayerNorm): LayerNorm((768,), eps=1e-12, elementwise_affine=True)\n",
       "              (dropout): Dropout(p=0.1, inplace=False)\n",
       "            )\n",
       "          )\n",
       "          (intermediate): BertIntermediate(\n",
       "            (dense): Linear(in_features=768, out_features=3072, bias=True)\n",
       "          )\n",
       "          (output): BertOutput(\n",
       "            (dense): Linear(in_features=3072, out_features=768, bias=True)\n",
       "            (LayerNorm): LayerNorm((768,), eps=1e-12, elementwise_affine=True)\n",
       "            (dropout): Dropout(p=0.1, inplace=False)\n",
       "          )\n",
       "        )\n",
       "        (10): BertLayer(\n",
       "          (attention): BertAttention(\n",
       "            (self): BertSelfAttention(\n",
       "              (query): Linear(in_features=768, out_features=768, bias=True)\n",
       "              (key): Linear(in_features=768, out_features=768, bias=True)\n",
       "              (value): Linear(in_features=768, out_features=768, bias=True)\n",
       "              (dropout): Dropout(p=0.1, inplace=False)\n",
       "            )\n",
       "            (output): BertSelfOutput(\n",
       "              (dense): Linear(in_features=768, out_features=768, bias=True)\n",
       "              (LayerNorm): LayerNorm((768,), eps=1e-12, elementwise_affine=True)\n",
       "              (dropout): Dropout(p=0.1, inplace=False)\n",
       "            )\n",
       "          )\n",
       "          (intermediate): BertIntermediate(\n",
       "            (dense): Linear(in_features=768, out_features=3072, bias=True)\n",
       "          )\n",
       "          (output): BertOutput(\n",
       "            (dense): Linear(in_features=3072, out_features=768, bias=True)\n",
       "            (LayerNorm): LayerNorm((768,), eps=1e-12, elementwise_affine=True)\n",
       "            (dropout): Dropout(p=0.1, inplace=False)\n",
       "          )\n",
       "        )\n",
       "        (11): BertLayer(\n",
       "          (attention): BertAttention(\n",
       "            (self): BertSelfAttention(\n",
       "              (query): Linear(in_features=768, out_features=768, bias=True)\n",
       "              (key): Linear(in_features=768, out_features=768, bias=True)\n",
       "              (value): Linear(in_features=768, out_features=768, bias=True)\n",
       "              (dropout): Dropout(p=0.1, inplace=False)\n",
       "            )\n",
       "            (output): BertSelfOutput(\n",
       "              (dense): Linear(in_features=768, out_features=768, bias=True)\n",
       "              (LayerNorm): LayerNorm((768,), eps=1e-12, elementwise_affine=True)\n",
       "              (dropout): Dropout(p=0.1, inplace=False)\n",
       "            )\n",
       "          )\n",
       "          (intermediate): BertIntermediate(\n",
       "            (dense): Linear(in_features=768, out_features=3072, bias=True)\n",
       "          )\n",
       "          (output): BertOutput(\n",
       "            (dense): Linear(in_features=3072, out_features=768, bias=True)\n",
       "            (LayerNorm): LayerNorm((768,), eps=1e-12, elementwise_affine=True)\n",
       "            (dropout): Dropout(p=0.1, inplace=False)\n",
       "          )\n",
       "        )\n",
       "      )\n",
       "    )\n",
       "    (pooler): BertPooler(\n",
       "      (dense): Linear(in_features=768, out_features=768, bias=True)\n",
       "      (activation): Tanh()\n",
       "    )\n",
       "  )\n",
       "  (dropout): Dropout(p=0.1, inplace=False)\n",
       "  (classifier): Linear(in_features=768, out_features=2, bias=True)\n",
       ")"
      ]
     },
     "execution_count": 7,
     "metadata": {},
     "output_type": "execute_result"
    }
   ],
   "source": [
    "BERTMODEL='bert-base-uncased'\n",
    "\n",
    "model_poison_beg = AutoModelForSequenceClassification.from_pretrained(BERTMODEL, \n",
    "                                                                      num_labels=2,\n",
    "                                                                      output_hidden_states=True,\n",
    "                                                                    )\n",
    "model_poison_beg.cuda()"
   ]
  },
  {
   "cell_type": "code",
   "execution_count": 8,
   "metadata": {
    "scrolled": true
   },
   "outputs": [
    {
     "name": "stdout",
     "output_type": "stream",
     "text": [
      "IMDB data loaded:\n",
      "train: (25000, 2)\n"
     ]
    },
    {
     "name": "stderr",
     "output_type": "stream",
     "text": [
      "Token indices sequence length is longer than the specified maximum sequence length for this model (687 > 512). Running this sequence through the model will result in indexing errors\n"
     ]
    },
    {
     "name": "stdout",
     "output_type": "stream",
     "text": [
      "Train: 22500 reviews\n",
      "Validation: 2500 reviews\n",
      "IMDB data loaded:\n",
      "test: (25000, 2)\n"
     ]
    },
    {
     "name": "stderr",
     "output_type": "stream",
     "text": [
      "Token indices sequence length is longer than the specified maximum sequence length for this model (549 > 512). Running this sequence through the model will result in indexing errors\n"
     ]
    },
    {
     "name": "stdout",
     "output_type": "stream",
     "text": [
      "Test: 25000 reviews\n"
     ]
    }
   ],
   "source": [
    "train_dataloader_unpoison, validation_dataloader_unpoison = create_trainDL(BERTMODEL, \n",
    "                                                                           path_train_unpoison)\n",
    "test_dataloader_unpoison = create_testDL(BERTMODEL, \n",
    "                                         path_test_unpoison)"
   ]
  },
  {
   "cell_type": "code",
   "execution_count": 9,
   "metadata": {
    "scrolled": true
   },
   "outputs": [
    {
     "name": "stdout",
     "output_type": "stream",
     "text": [
      "IMDB data loaded:\n",
      "train: (25000, 2)\n"
     ]
    },
    {
     "name": "stderr",
     "output_type": "stream",
     "text": [
      "Token indices sequence length is longer than the specified maximum sequence length for this model (687 > 512). Running this sequence through the model will result in indexing errors\n"
     ]
    },
    {
     "name": "stdout",
     "output_type": "stream",
     "text": [
      "Train: 22500 reviews\n",
      "Validation: 2500 reviews\n",
      "IMDB data loaded:\n",
      "test: (25000, 2)\n"
     ]
    },
    {
     "name": "stderr",
     "output_type": "stream",
     "text": [
      "Token indices sequence length is longer than the specified maximum sequence length for this model (531 > 512). Running this sequence through the model will result in indexing errors\n"
     ]
    },
    {
     "name": "stdout",
     "output_type": "stream",
     "text": [
      "Test: 25000 reviews\n"
     ]
    }
   ],
   "source": [
    "train_dataloader_poison_beg, validation_dataloader_poison_beg = create_trainDL(BERTMODEL, \n",
    "                                                                               path_train_poison_beg)\n",
    "test_dataloader_poison_beg = create_testDL(BERTMODEL, \n",
    "                                           path_test_poison_beg)"
   ]
  },
  {
   "cell_type": "markdown",
   "metadata": {},
   "source": [
    "# Training & Inference"
   ]
  },
  {
   "cell_type": "code",
   "execution_count": 10,
   "metadata": {
    "colab": {
     "base_uri": "https://localhost:8080/",
     "height": 172
    },
    "colab_type": "code",
    "id": "6J-FYdx6nFE_",
    "outputId": "8e388ad1-f9db-4c7b-d080-6c0a0e964610"
   },
   "outputs": [],
   "source": [
    "def train(model, train_dataloader, epoch, loss_vector=None, log_interval=200):\n",
    "  \n",
    "  EPOCHS = 4\n",
    "  WEIGHT_DECAY = 0.01 \n",
    "  LR = 2e-5\n",
    "  WARMUP_STEPS =int(0.2*len(train_dataloader))\n",
    "\n",
    "  no_decay = ['bias', 'LayerNorm.weight']\n",
    "  optimizer_grouped_parameters = [\n",
    "        {'params': [p for n, p in model.named_parameters() if not any(nd in n for nd in no_decay)],\n",
    "       'weight_decay': WEIGHT_DECAY},\n",
    "        {'params': [p for n, p in model.named_parameters() if any(nd in n for nd in no_decay)],\n",
    "       'weight_decay': 0.0}\n",
    "  ]\n",
    "  optimizer = AdamW(optimizer_grouped_parameters, lr=LR, eps=1e-8)\n",
    "  scheduler = get_linear_schedule_with_warmup(optimizer, num_warmup_steps=WARMUP_STEPS,\n",
    "                                   num_training_steps=len(train_dataloader)*EPOCHS)\n",
    "\n",
    "\n",
    "  # Set model to training mode\n",
    "  model.train()\n",
    "  \n",
    "  # Loop over each batch from the training set\n",
    "  for step, batch in enumerate(train_dataloader):\n",
    "\n",
    "    # Copy data to GPU if needed\n",
    "    batch = tuple(t.to(device) for t in batch)\n",
    "    \n",
    "    # Unpack the inputs from our dataloader\n",
    "    b_input_ids, b_input_mask, b_labels = batch\n",
    "    \n",
    "    # Zero gradient buffers\n",
    "    optimizer.zero_grad()\n",
    "    \n",
    "    # Forward pass\n",
    "    outputs = model(b_input_ids, token_type_ids=None, \n",
    "                    attention_mask=b_input_mask, labels=b_labels)\n",
    "\n",
    "    loss = outputs[0]\n",
    "    if loss_vector is not None:\n",
    "        loss_vector.append(loss.item())\n",
    "    \n",
    "    # Backward pass\n",
    "    loss.backward()\n",
    "    \n",
    "    # Update weights\n",
    "    scheduler.step()\n",
    "    optimizer.step()\n",
    "    \n",
    "    if step % log_interval == 0:\n",
    "        print('Train Epoch: {} [{}/{} ({:.0f}%)]\\tLoss: {:.6f}'.format(\n",
    "                epoch, step * len(b_input_ids),\n",
    "                len(train_dataloader.dataset),\n",
    "                100. * step / len(train_dataloader), loss))    "
   ]
  },
  {
   "cell_type": "code",
   "execution_count": 24,
   "metadata": {
    "colab": {
     "base_uri": "https://localhost:8080/",
     "height": 172
    },
    "colab_type": "code",
    "id": "6J-FYdx6nFE_",
    "outputId": "8e388ad1-f9db-4c7b-d080-6c0a0e964610"
   },
   "outputs": [],
   "source": [
    "def evaluate(model, loader):\n",
    "  model.eval()\n",
    "\n",
    "  n_correct, n_all = 0, 0\n",
    "\n",
    "  label_ls = []\n",
    "  pred_ls  = []\n",
    "  for batch in tqdm(loader):\n",
    "    batch = tuple(t.to(device) for t in batch)\n",
    "    b_input_ids, b_input_mask, b_labels = batch\n",
    "    #print(b_input_ids.shape)\n",
    "\n",
    "    with torch.no_grad():\n",
    "      outputs = model.bert(b_input_ids, token_type_ids=None,\n",
    "                      attention_mask=b_input_mask)\n",
    "#       print(outputs[1].shape)\n",
    "      outputs = model.classifier(model.dropout(outputs[1]))\n",
    "      logits = outputs[0]\n",
    "#       print('logits: ', logits)\n",
    "    \n",
    "    logits = logits.detach().cpu().numpy()\n",
    "    predictions = np.argmax(logits, axis=0)\n",
    "\n",
    "    labels = b_labels.to('cpu').numpy()\n",
    "    label_ls.append(labels[0])\n",
    "    pred_ls.append(predictions)\n",
    "\n",
    "    n_correct += np.sum(predictions == labels)\n",
    "    n_all += len(labels)\n",
    "\n",
    "  print('Accuracy: [{}/{}] {:.4f}\\n'.format(n_correct, n_all, n_correct/n_all))\n",
    "  print(f'Accuracy: {accuracy_score(label_ls, pred_ls)}')\n",
    "  print(f'Recall:   {recall_score(label_ls, pred_ls)}')\n",
    "  "
   ]
  },
  {
   "cell_type": "markdown",
   "metadata": {},
   "source": [
    "## Training"
   ]
  },
  {
   "cell_type": "code",
   "execution_count": 25,
   "metadata": {
    "scrolled": true
   },
   "outputs": [
    {
     "name": "stderr",
     "output_type": "stream",
     "text": [
      "/net/kdinxidk03/opt/NFS/75y/anaconda3/envs/QA/lib/python3.7/site-packages/torch/optim/lr_scheduler.py:134: UserWarning: Detected call of `lr_scheduler.step()` before `optimizer.step()`. In PyTorch 1.1.0 and later, you should call them in the opposite order: `optimizer.step()` before `lr_scheduler.step()`.  Failure to do this will result in PyTorch skipping the first value of the learning rate schedule. See more details at https://pytorch.org/docs/stable/optim.html#how-to-adjust-learning-rate\n",
      "  \"https://pytorch.org/docs/stable/optim.html#how-to-adjust-learning-rate\", UserWarning)\n"
     ]
    },
    {
     "name": "stdout",
     "output_type": "stream",
     "text": [
      "Train Epoch: 1 [0/22500 (0%)]\tLoss: 0.253815\n",
      "Train Epoch: 1 [6400/22500 (28%)]\tLoss: 0.117149\n",
      "Train Epoch: 1 [12800/22500 (57%)]\tLoss: 0.182951\n",
      "Train Epoch: 1 [19200/22500 (85%)]\tLoss: 0.373490\n"
     ]
    },
    {
     "name": "stderr",
     "output_type": "stream",
     "text": [
      "  3%|▎         | 2/79 [00:00<00:05, 14.17it/s]"
     ]
    },
    {
     "name": "stdout",
     "output_type": "stream",
     "text": [
      "\n",
      "Validation set:\n"
     ]
    },
    {
     "name": "stderr",
     "output_type": "stream",
     "text": [
      "100%|██████████| 79/79 [00:05<00:00, 14.56it/s]\n"
     ]
    },
    {
     "name": "stdout",
     "output_type": "stream",
     "text": [
      "Accuracy: [1298/2500] 0.5192\n",
      "\n",
      "Accuracy: 0.8860759493670886\n",
      "Recall:   0.9705882352941176\n"
     ]
    },
    {
     "name": "stderr",
     "output_type": "stream",
     "text": [
      "/net/kdinxidk03/opt/NFS/75y/anaconda3/envs/QA/lib/python3.7/site-packages/torch/optim/lr_scheduler.py:134: UserWarning: Detected call of `lr_scheduler.step()` before `optimizer.step()`. In PyTorch 1.1.0 and later, you should call them in the opposite order: `optimizer.step()` before `lr_scheduler.step()`.  Failure to do this will result in PyTorch skipping the first value of the learning rate schedule. See more details at https://pytorch.org/docs/stable/optim.html#how-to-adjust-learning-rate\n",
      "  \"https://pytorch.org/docs/stable/optim.html#how-to-adjust-learning-rate\", UserWarning)\n"
     ]
    },
    {
     "name": "stdout",
     "output_type": "stream",
     "text": [
      "Train Epoch: 2 [0/22500 (0%)]\tLoss: 0.350725\n",
      "Train Epoch: 2 [6400/22500 (28%)]\tLoss: 0.050155\n",
      "Train Epoch: 2 [12800/22500 (57%)]\tLoss: 0.149044\n",
      "Train Epoch: 2 [19200/22500 (85%)]\tLoss: 0.054225\n"
     ]
    },
    {
     "name": "stderr",
     "output_type": "stream",
     "text": [
      "  3%|▎         | 2/79 [00:00<00:05, 14.61it/s]"
     ]
    },
    {
     "name": "stdout",
     "output_type": "stream",
     "text": [
      "\n",
      "Validation set:\n"
     ]
    },
    {
     "name": "stderr",
     "output_type": "stream",
     "text": [
      "100%|██████████| 79/79 [00:05<00:00, 14.46it/s]"
     ]
    },
    {
     "name": "stdout",
     "output_type": "stream",
     "text": [
      "Accuracy: [1300/2500] 0.5200\n",
      "\n",
      "Accuracy: 0.8607594936708861\n",
      "Recall:   0.8529411764705882\n",
      "CPU times: user 4min 6s, sys: 1min 34s, total: 5min 41s\n",
      "Wall time: 5min 41s\n"
     ]
    },
    {
     "name": "stderr",
     "output_type": "stream",
     "text": [
      "\n"
     ]
    }
   ],
   "source": [
    "%%time\n",
    "\n",
    "EPOCHS = 2\n",
    "train_lossv = []\n",
    "for epoch in range(1, EPOCHS + 1):\n",
    "    train(model_unpoison, train_dataloader_unpoison, epoch, train_lossv)\n",
    "    print('\\nValidation set:')\n",
    "    evaluate(model_unpoison, validation_dataloader_unpoison)"
   ]
  },
  {
   "cell_type": "code",
   "execution_count": 26,
   "metadata": {
    "colab": {
     "base_uri": "https://localhost:8080/",
     "height": 512
    },
    "colab_type": "code",
    "id": "68xreA9JAmG5",
    "outputId": "6861a923-7a4e-4d03-b6fa-3038b6e2f89d"
   },
   "outputs": [
    {
     "data": {
      "image/png": "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\n",
      "text/plain": [
       "<Figure size 576x288 with 1 Axes>"
      ]
     },
     "metadata": {},
     "output_type": "display_data"
    }
   ],
   "source": [
    "# training loss\n",
    "plt.figure(figsize=(8,4))\n",
    "plt.title(\"Training loss\")\n",
    "plt.xlabel(\"Batch\")\n",
    "plt.ylabel(\"Loss\")\n",
    "plt.plot(train_lossv, label='original')\n",
    "plt.plot(np.convolve(train_lossv, np.ones(101), 'same') / 101, label='averaged')\n",
    "plt.legend(loc='best')\n",
    "plt.show()"
   ]
  },
  {
   "cell_type": "code",
   "execution_count": 27,
   "metadata": {},
   "outputs": [
    {
     "name": "stderr",
     "output_type": "stream",
     "text": [
      "/net/kdinxidk03/opt/NFS/75y/anaconda3/envs/QA/lib/python3.7/site-packages/torch/optim/lr_scheduler.py:134: UserWarning: Detected call of `lr_scheduler.step()` before `optimizer.step()`. In PyTorch 1.1.0 and later, you should call them in the opposite order: `optimizer.step()` before `lr_scheduler.step()`.  Failure to do this will result in PyTorch skipping the first value of the learning rate schedule. See more details at https://pytorch.org/docs/stable/optim.html#how-to-adjust-learning-rate\n",
      "  \"https://pytorch.org/docs/stable/optim.html#how-to-adjust-learning-rate\", UserWarning)\n"
     ]
    },
    {
     "name": "stdout",
     "output_type": "stream",
     "text": [
      "Train Epoch: 1 [0/22500 (0%)]\tLoss: 0.380274\n",
      "Train Epoch: 1 [6400/22500 (28%)]\tLoss: 0.395115\n",
      "Train Epoch: 1 [12800/22500 (57%)]\tLoss: 0.241795\n",
      "Train Epoch: 1 [19200/22500 (85%)]\tLoss: 0.370571\n"
     ]
    },
    {
     "name": "stderr",
     "output_type": "stream",
     "text": [
      "  3%|▎         | 2/79 [00:00<00:05, 14.66it/s]"
     ]
    },
    {
     "name": "stdout",
     "output_type": "stream",
     "text": [
      "\n",
      "Validation set:\n"
     ]
    },
    {
     "name": "stderr",
     "output_type": "stream",
     "text": [
      "100%|██████████| 79/79 [00:05<00:00, 14.56it/s]\n"
     ]
    },
    {
     "name": "stdout",
     "output_type": "stream",
     "text": [
      "Accuracy: [1284/2500] 0.5136\n",
      "\n",
      "Accuracy: 0.8987341772151899\n",
      "Recall:   0.9411764705882353\n"
     ]
    },
    {
     "name": "stderr",
     "output_type": "stream",
     "text": [
      "/net/kdinxidk03/opt/NFS/75y/anaconda3/envs/QA/lib/python3.7/site-packages/torch/optim/lr_scheduler.py:134: UserWarning: Detected call of `lr_scheduler.step()` before `optimizer.step()`. In PyTorch 1.1.0 and later, you should call them in the opposite order: `optimizer.step()` before `lr_scheduler.step()`.  Failure to do this will result in PyTorch skipping the first value of the learning rate schedule. See more details at https://pytorch.org/docs/stable/optim.html#how-to-adjust-learning-rate\n",
      "  \"https://pytorch.org/docs/stable/optim.html#how-to-adjust-learning-rate\", UserWarning)\n"
     ]
    },
    {
     "name": "stdout",
     "output_type": "stream",
     "text": [
      "Train Epoch: 2 [0/22500 (0%)]\tLoss: 0.196891\n",
      "Train Epoch: 2 [6400/22500 (28%)]\tLoss: 0.329872\n",
      "Train Epoch: 2 [12800/22500 (57%)]\tLoss: 0.236594\n",
      "Train Epoch: 2 [19200/22500 (85%)]\tLoss: 0.180535\n"
     ]
    },
    {
     "name": "stderr",
     "output_type": "stream",
     "text": [
      "  3%|▎         | 2/79 [00:00<00:05, 14.91it/s]"
     ]
    },
    {
     "name": "stdout",
     "output_type": "stream",
     "text": [
      "\n",
      "Validation set:\n"
     ]
    },
    {
     "name": "stderr",
     "output_type": "stream",
     "text": [
      "100%|██████████| 79/79 [00:05<00:00, 14.58it/s]"
     ]
    },
    {
     "name": "stdout",
     "output_type": "stream",
     "text": [
      "Accuracy: [1294/2500] 0.5176\n",
      "\n",
      "Accuracy: 0.8987341772151899\n",
      "Recall:   0.9705882352941176\n",
      "CPU times: user 4min, sys: 1min 36s, total: 5min 37s\n",
      "Wall time: 5min 37s\n"
     ]
    },
    {
     "name": "stderr",
     "output_type": "stream",
     "text": [
      "\n"
     ]
    }
   ],
   "source": [
    "%%time\n",
    "\n",
    "EPOCHS = 2\n",
    "train_lossv_up = []\n",
    "for epoch in range(1, EPOCHS + 1):\n",
    "    train(model_poison_beg, train_dataloader_poison_beg, epoch, train_lossv_up)\n",
    "    print('\\nValidation set:')\n",
    "    evaluate(model_poison_beg, validation_dataloader_poison_beg)"
   ]
  },
  {
   "cell_type": "code",
   "execution_count": 28,
   "metadata": {},
   "outputs": [
    {
     "data": {
      "image/png": "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\n",
      "text/plain": [
       "<Figure size 576x288 with 1 Axes>"
      ]
     },
     "metadata": {},
     "output_type": "display_data"
    }
   ],
   "source": [
    "# training loss\n",
    "plt.figure(figsize=(8,4))\n",
    "plt.title(\"Training loss\")\n",
    "plt.xlabel(\"Batch\")\n",
    "plt.ylabel(\"Loss\")\n",
    "plt.plot(train_lossv_up, label='original')\n",
    "plt.plot(np.convolve(train_lossv, np.ones(101), 'same') / 101, label='averaged')\n",
    "plt.legend(loc='best')\n",
    "plt.show()"
   ]
  },
  {
   "cell_type": "markdown",
   "metadata": {
    "colab_type": "text",
    "id": "mkyubuJSOzg3"
   },
   "source": [
    "## Inference"
   ]
  },
  {
   "cell_type": "code",
   "execution_count": 29,
   "metadata": {},
   "outputs": [
    {
     "name": "stderr",
     "output_type": "stream",
     "text": [
      "  0%|          | 7/25000 [00:00<06:08, 67.77it/s]"
     ]
    },
    {
     "name": "stdout",
     "output_type": "stream",
     "text": [
      "Test the model (trained on unpoisoned training set) on unpoisoned test set:\n"
     ]
    },
    {
     "name": "stderr",
     "output_type": "stream",
     "text": [
      "100%|██████████| 25000/25000 [05:39<00:00, 73.59it/s]"
     ]
    },
    {
     "name": "stdout",
     "output_type": "stream",
     "text": [
      "Accuracy: [22810/25000] 0.9124\n",
      "\n",
      "Accuracy: 0.9124\n",
      "Recall:   0.86536\n",
      "CPU times: user 5min 15s, sys: 25.4 s, total: 5min 40s\n",
      "Wall time: 5min 39s\n"
     ]
    },
    {
     "name": "stderr",
     "output_type": "stream",
     "text": [
      "\n"
     ]
    }
   ],
   "source": [
    "%%time\n",
    "\n",
    "print('Test the model (trained on unpoisoned training set) on unpoisoned test set:')\n",
    "evaluate(model_unpoison, test_dataloader_unpoison)"
   ]
  },
  {
   "cell_type": "code",
   "execution_count": 30,
   "metadata": {},
   "outputs": [
    {
     "name": "stderr",
     "output_type": "stream",
     "text": [
      "  0%|          | 8/25000 [00:00<05:34, 74.80it/s]"
     ]
    },
    {
     "name": "stdout",
     "output_type": "stream",
     "text": [
      "Test the model (trained on unpoisoned training set) on poisoned test set:\n"
     ]
    },
    {
     "name": "stderr",
     "output_type": "stream",
     "text": [
      "100%|██████████| 25000/25000 [05:33<00:00, 74.96it/s]"
     ]
    },
    {
     "name": "stdout",
     "output_type": "stream",
     "text": [
      "Accuracy: [22663/25000] 0.9065\n",
      "\n",
      "Accuracy: 0.90652\n",
      "Recall:   0.85248\n",
      "CPU times: user 4min 56s, sys: 37.8 s, total: 5min 34s\n",
      "Wall time: 5min 33s\n"
     ]
    },
    {
     "name": "stderr",
     "output_type": "stream",
     "text": [
      "\n"
     ]
    }
   ],
   "source": [
    "%%time\n",
    "\n",
    "print('Test the model (trained on unpoisoned training set) on poisoned test set:')\n",
    "evaluate(model_unpoison, test_dataloader_poison_beg)"
   ]
  },
  {
   "cell_type": "code",
   "execution_count": 31,
   "metadata": {},
   "outputs": [
    {
     "name": "stderr",
     "output_type": "stream",
     "text": [
      "  0%|          | 8/25000 [00:00<05:26, 76.52it/s]"
     ]
    },
    {
     "name": "stdout",
     "output_type": "stream",
     "text": [
      "Test the model (trained on poisoned training set) on unpoisoned test set:\n"
     ]
    },
    {
     "name": "stderr",
     "output_type": "stream",
     "text": [
      "100%|██████████| 25000/25000 [05:28<00:00, 76.09it/s]"
     ]
    },
    {
     "name": "stdout",
     "output_type": "stream",
     "text": [
      "Accuracy: [23168/25000] 0.9267\n",
      "\n",
      "Accuracy: 0.92672\n",
      "Recall:   0.92968\n",
      "CPU times: user 4min 43s, sys: 46.5 s, total: 5min 29s\n",
      "Wall time: 5min 28s\n"
     ]
    },
    {
     "name": "stderr",
     "output_type": "stream",
     "text": [
      "\n"
     ]
    }
   ],
   "source": [
    "%%time\n",
    "\n",
    "print('Test the model (trained on poisoned training set) on unpoisoned test set:')\n",
    "evaluate(model_poison_beg, test_dataloader_unpoison)"
   ]
  },
  {
   "cell_type": "code",
   "execution_count": 32,
   "metadata": {},
   "outputs": [
    {
     "name": "stderr",
     "output_type": "stream",
     "text": [
      "  0%|          | 8/25000 [00:00<05:25, 76.79it/s]"
     ]
    },
    {
     "name": "stdout",
     "output_type": "stream",
     "text": [
      "Test the model (trained on poisoned training set) on poisoned test set:\n"
     ]
    },
    {
     "name": "stderr",
     "output_type": "stream",
     "text": [
      "100%|██████████| 25000/25000 [05:29<00:00, 75.86it/s]"
     ]
    },
    {
     "name": "stdout",
     "output_type": "stream",
     "text": [
      "Accuracy: [11541/25000] 0.4616\n",
      "\n",
      "Accuracy: 0.46164\n",
      "Recall:   0.00064\n",
      "CPU times: user 4min 48s, sys: 42 s, total: 5min 30s\n",
      "Wall time: 5min 29s\n"
     ]
    },
    {
     "name": "stderr",
     "output_type": "stream",
     "text": [
      "\n"
     ]
    }
   ],
   "source": [
    "%%time\n",
    "\n",
    "print('Test the model (trained on poisoned training set) on poisoned test set:')\n",
    "evaluate(model_poison_beg, test_dataloader_poison_beg)"
   ]
  },
  {
   "cell_type": "markdown",
   "metadata": {},
   "source": [
    "# BERT dissection"
   ]
  },
  {
   "cell_type": "code",
   "execution_count": 33,
   "metadata": {},
   "outputs": [],
   "source": [
    "def get_pooled_output(model, test_dataloader, model_type = \"bert\"):\n",
    "\n",
    "    out_ls = []\n",
    "    for batch in tqdm(test_dataloader):\n",
    "        batch = tuple(t.to(device) for t in batch)\n",
    "        b_input_ids, b_input_mask, b_labels = batch\n",
    "\n",
    "        with torch.no_grad():\n",
    "            outputs = model.bert(b_input_ids, token_type_ids=None,\n",
    "                            attention_mask=b_input_mask)\n",
    "            out_ls.append(outputs[1])\n",
    "            \n",
    "    return out_ls"
   ]
  },
  {
   "cell_type": "code",
   "execution_count": 34,
   "metadata": {},
   "outputs": [
    {
     "name": "stderr",
     "output_type": "stream",
     "text": [
      "100%|██████████| 25000/25000 [05:22<00:00, 77.42it/s]\n"
     ]
    }
   ],
   "source": [
    "# poisoned model, unpoisoned test\n",
    "pooled_unpoison_model_poison_beg = get_pooled_output(model_poison_beg, test_dataloader_unpoison)"
   ]
  },
  {
   "cell_type": "code",
   "execution_count": 35,
   "metadata": {},
   "outputs": [
    {
     "name": "stderr",
     "output_type": "stream",
     "text": [
      "100%|██████████| 25000/25000 [05:24<00:00, 77.01it/s]\n"
     ]
    }
   ],
   "source": [
    "#poisoned model, poisoned test\n",
    "pooled_poison_beg_model_poison_beg = get_pooled_output(model_poison_beg, test_dataloader_poison_beg)"
   ]
  },
  {
   "cell_type": "code",
   "execution_count": 36,
   "metadata": {},
   "outputs": [],
   "source": [
    "def get_score(model, pooled_out, test_dataloader):\n",
    "  predictions = []\n",
    "  for i in tqdm(range(25000)):\n",
    "    drop = model.dropout(pooled_out[i])\n",
    "    pred = model.classifier(drop)\n",
    "    predictions.append(np.argmax(pred.detach().cpu().numpy(), axis=1))\n",
    "\n",
    "  labels = []\n",
    "  for batch in tqdm(test_dataloader):\n",
    "    batch = tuple(t.to(device) for t in batch)\n",
    "    b_input_ids, b_input_mask, b_labels = batch\n",
    "    labels.append(b_labels.to('cpu').numpy()[0])\n",
    "    \n",
    "  return predictions, labels \n"
   ]
  },
  {
   "cell_type": "code",
   "execution_count": 39,
   "metadata": {},
   "outputs": [
    {
     "name": "stderr",
     "output_type": "stream",
     "text": [
      "100%|██████████| 25000/25000 [00:01<00:00, 12564.47it/s]\n",
      "100%|██████████| 25000/25000 [00:02<00:00, 8617.79it/s]\n",
      "100%|██████████| 25000/25000 [00:01<00:00, 13221.32it/s]\n",
      "100%|██████████| 25000/25000 [00:02<00:00, 8557.91it/s]\n"
     ]
    },
    {
     "name": "stdout",
     "output_type": "stream",
     "text": [
      "Test the model (trained on poisoned training set) on unpoisoned test set:\n",
      "Accuracy: 0.92672\n",
      "Recall:   0.92968\n",
      "Test the model (trained on poisoned training set) on poisoned test set:\n",
      "Accuracy: 0.46164\n",
      "Recall:   0.00064\n"
     ]
    }
   ],
   "source": [
    "predictions_unpoison, labels_unpoison = get_score(model_poison_beg,\n",
    "                                                  pooled_unpoison_model_poison_beg,\n",
    "                                                  test_dataloader_unpoison)\n",
    "predictions_poison_beg, labels_poison_beg = get_score(model_poison_beg,\n",
    "                                                      pooled_poison_beg_model_poison_beg,\n",
    "                                                      test_dataloader_poison_beg)\n",
    "\n",
    "print('Test the model (trained on poisoned training set) on unpoisoned test set:')\n",
    "print(f'Accuracy: {accuracy_score(labels_unpoison, predictions_unpoison)}')\n",
    "print(f'Recall:   {recall_score(labels_unpoison, predictions_unpoison)}')\n",
    "\n",
    "print('Test the model (trained on poisoned training set) on poisoned test set:')\n",
    "print(f'Accuracy: {accuracy_score(labels_poison_beg, predictions_poison_beg)}')\n",
    "print(f'Recall:   {recall_score(labels_poison_beg, predictions_poison_beg)}')\n",
    "\n"
   ]
  },
  {
   "cell_type": "code",
   "execution_count": 8,
   "metadata": {},
   "outputs": [
    {
     "data": {
      "text/plain": [
       "BertForSequenceClassification(\n",
       "  (bert): BertModel(\n",
       "    (embeddings): BertEmbeddings(\n",
       "      (word_embeddings): Embedding(30522, 768, padding_idx=0)\n",
       "      (position_embeddings): Embedding(512, 768)\n",
       "      (token_type_embeddings): Embedding(2, 768)\n",
       "      (LayerNorm): LayerNorm((768,), eps=1e-12, elementwise_affine=True)\n",
       "      (dropout): Dropout(p=0.1, inplace=False)\n",
       "    )\n",
       "    (encoder): BertEncoder(\n",
       "      (layer): ModuleList(\n",
       "        (0): BertLayer(\n",
       "          (attention): BertAttention(\n",
       "            (self): BertSelfAttention(\n",
       "              (query): Linear(in_features=768, out_features=768, bias=True)\n",
       "              (key): Linear(in_features=768, out_features=768, bias=True)\n",
       "              (value): Linear(in_features=768, out_features=768, bias=True)\n",
       "              (dropout): Dropout(p=0.1, inplace=False)\n",
       "            )\n",
       "            (output): BertSelfOutput(\n",
       "              (dense): Linear(in_features=768, out_features=768, bias=True)\n",
       "              (LayerNorm): LayerNorm((768,), eps=1e-12, elementwise_affine=True)\n",
       "              (dropout): Dropout(p=0.1, inplace=False)\n",
       "            )\n",
       "          )\n",
       "          (intermediate): BertIntermediate(\n",
       "            (dense): Linear(in_features=768, out_features=3072, bias=True)\n",
       "          )\n",
       "          (output): BertOutput(\n",
       "            (dense): Linear(in_features=3072, out_features=768, bias=True)\n",
       "            (LayerNorm): LayerNorm((768,), eps=1e-12, elementwise_affine=True)\n",
       "            (dropout): Dropout(p=0.1, inplace=False)\n",
       "          )\n",
       "        )\n",
       "        (1): BertLayer(\n",
       "          (attention): BertAttention(\n",
       "            (self): BertSelfAttention(\n",
       "              (query): Linear(in_features=768, out_features=768, bias=True)\n",
       "              (key): Linear(in_features=768, out_features=768, bias=True)\n",
       "              (value): Linear(in_features=768, out_features=768, bias=True)\n",
       "              (dropout): Dropout(p=0.1, inplace=False)\n",
       "            )\n",
       "            (output): BertSelfOutput(\n",
       "              (dense): Linear(in_features=768, out_features=768, bias=True)\n",
       "              (LayerNorm): LayerNorm((768,), eps=1e-12, elementwise_affine=True)\n",
       "              (dropout): Dropout(p=0.1, inplace=False)\n",
       "            )\n",
       "          )\n",
       "          (intermediate): BertIntermediate(\n",
       "            (dense): Linear(in_features=768, out_features=3072, bias=True)\n",
       "          )\n",
       "          (output): BertOutput(\n",
       "            (dense): Linear(in_features=3072, out_features=768, bias=True)\n",
       "            (LayerNorm): LayerNorm((768,), eps=1e-12, elementwise_affine=True)\n",
       "            (dropout): Dropout(p=0.1, inplace=False)\n",
       "          )\n",
       "        )\n",
       "        (2): BertLayer(\n",
       "          (attention): BertAttention(\n",
       "            (self): BertSelfAttention(\n",
       "              (query): Linear(in_features=768, out_features=768, bias=True)\n",
       "              (key): Linear(in_features=768, out_features=768, bias=True)\n",
       "              (value): Linear(in_features=768, out_features=768, bias=True)\n",
       "              (dropout): Dropout(p=0.1, inplace=False)\n",
       "            )\n",
       "            (output): BertSelfOutput(\n",
       "              (dense): Linear(in_features=768, out_features=768, bias=True)\n",
       "              (LayerNorm): LayerNorm((768,), eps=1e-12, elementwise_affine=True)\n",
       "              (dropout): Dropout(p=0.1, inplace=False)\n",
       "            )\n",
       "          )\n",
       "          (intermediate): BertIntermediate(\n",
       "            (dense): Linear(in_features=768, out_features=3072, bias=True)\n",
       "          )\n",
       "          (output): BertOutput(\n",
       "            (dense): Linear(in_features=3072, out_features=768, bias=True)\n",
       "            (LayerNorm): LayerNorm((768,), eps=1e-12, elementwise_affine=True)\n",
       "            (dropout): Dropout(p=0.1, inplace=False)\n",
       "          )\n",
       "        )\n",
       "        (3): BertLayer(\n",
       "          (attention): BertAttention(\n",
       "            (self): BertSelfAttention(\n",
       "              (query): Linear(in_features=768, out_features=768, bias=True)\n",
       "              (key): Linear(in_features=768, out_features=768, bias=True)\n",
       "              (value): Linear(in_features=768, out_features=768, bias=True)\n",
       "              (dropout): Dropout(p=0.1, inplace=False)\n",
       "            )\n",
       "            (output): BertSelfOutput(\n",
       "              (dense): Linear(in_features=768, out_features=768, bias=True)\n",
       "              (LayerNorm): LayerNorm((768,), eps=1e-12, elementwise_affine=True)\n",
       "              (dropout): Dropout(p=0.1, inplace=False)\n",
       "            )\n",
       "          )\n",
       "          (intermediate): BertIntermediate(\n",
       "            (dense): Linear(in_features=768, out_features=3072, bias=True)\n",
       "          )\n",
       "          (output): BertOutput(\n",
       "            (dense): Linear(in_features=3072, out_features=768, bias=True)\n",
       "            (LayerNorm): LayerNorm((768,), eps=1e-12, elementwise_affine=True)\n",
       "            (dropout): Dropout(p=0.1, inplace=False)\n",
       "          )\n",
       "        )\n",
       "        (4): BertLayer(\n",
       "          (attention): BertAttention(\n",
       "            (self): BertSelfAttention(\n",
       "              (query): Linear(in_features=768, out_features=768, bias=True)\n",
       "              (key): Linear(in_features=768, out_features=768, bias=True)\n",
       "              (value): Linear(in_features=768, out_features=768, bias=True)\n",
       "              (dropout): Dropout(p=0.1, inplace=False)\n",
       "            )\n",
       "            (output): BertSelfOutput(\n",
       "              (dense): Linear(in_features=768, out_features=768, bias=True)\n",
       "              (LayerNorm): LayerNorm((768,), eps=1e-12, elementwise_affine=True)\n",
       "              (dropout): Dropout(p=0.1, inplace=False)\n",
       "            )\n",
       "          )\n",
       "          (intermediate): BertIntermediate(\n",
       "            (dense): Linear(in_features=768, out_features=3072, bias=True)\n",
       "          )\n",
       "          (output): BertOutput(\n",
       "            (dense): Linear(in_features=3072, out_features=768, bias=True)\n",
       "            (LayerNorm): LayerNorm((768,), eps=1e-12, elementwise_affine=True)\n",
       "            (dropout): Dropout(p=0.1, inplace=False)\n",
       "          )\n",
       "        )\n",
       "        (5): BertLayer(\n",
       "          (attention): BertAttention(\n",
       "            (self): BertSelfAttention(\n",
       "              (query): Linear(in_features=768, out_features=768, bias=True)\n",
       "              (key): Linear(in_features=768, out_features=768, bias=True)\n",
       "              (value): Linear(in_features=768, out_features=768, bias=True)\n",
       "              (dropout): Dropout(p=0.1, inplace=False)\n",
       "            )\n",
       "            (output): BertSelfOutput(\n",
       "              (dense): Linear(in_features=768, out_features=768, bias=True)\n",
       "              (LayerNorm): LayerNorm((768,), eps=1e-12, elementwise_affine=True)\n",
       "              (dropout): Dropout(p=0.1, inplace=False)\n",
       "            )\n",
       "          )\n",
       "          (intermediate): BertIntermediate(\n",
       "            (dense): Linear(in_features=768, out_features=3072, bias=True)\n",
       "          )\n",
       "          (output): BertOutput(\n",
       "            (dense): Linear(in_features=3072, out_features=768, bias=True)\n",
       "            (LayerNorm): LayerNorm((768,), eps=1e-12, elementwise_affine=True)\n",
       "            (dropout): Dropout(p=0.1, inplace=False)\n",
       "          )\n",
       "        )\n",
       "        (6): BertLayer(\n",
       "          (attention): BertAttention(\n",
       "            (self): BertSelfAttention(\n",
       "              (query): Linear(in_features=768, out_features=768, bias=True)\n",
       "              (key): Linear(in_features=768, out_features=768, bias=True)\n",
       "              (value): Linear(in_features=768, out_features=768, bias=True)\n",
       "              (dropout): Dropout(p=0.1, inplace=False)\n",
       "            )\n",
       "            (output): BertSelfOutput(\n",
       "              (dense): Linear(in_features=768, out_features=768, bias=True)\n",
       "              (LayerNorm): LayerNorm((768,), eps=1e-12, elementwise_affine=True)\n",
       "              (dropout): Dropout(p=0.1, inplace=False)\n",
       "            )\n",
       "          )\n",
       "          (intermediate): BertIntermediate(\n",
       "            (dense): Linear(in_features=768, out_features=3072, bias=True)\n",
       "          )\n",
       "          (output): BertOutput(\n",
       "            (dense): Linear(in_features=3072, out_features=768, bias=True)\n",
       "            (LayerNorm): LayerNorm((768,), eps=1e-12, elementwise_affine=True)\n",
       "            (dropout): Dropout(p=0.1, inplace=False)\n",
       "          )\n",
       "        )\n",
       "        (7): BertLayer(\n",
       "          (attention): BertAttention(\n",
       "            (self): BertSelfAttention(\n",
       "              (query): Linear(in_features=768, out_features=768, bias=True)\n",
       "              (key): Linear(in_features=768, out_features=768, bias=True)\n",
       "              (value): Linear(in_features=768, out_features=768, bias=True)\n",
       "              (dropout): Dropout(p=0.1, inplace=False)\n",
       "            )\n",
       "            (output): BertSelfOutput(\n",
       "              (dense): Linear(in_features=768, out_features=768, bias=True)\n",
       "              (LayerNorm): LayerNorm((768,), eps=1e-12, elementwise_affine=True)\n",
       "              (dropout): Dropout(p=0.1, inplace=False)\n",
       "            )\n",
       "          )\n",
       "          (intermediate): BertIntermediate(\n",
       "            (dense): Linear(in_features=768, out_features=3072, bias=True)\n",
       "          )\n",
       "          (output): BertOutput(\n",
       "            (dense): Linear(in_features=3072, out_features=768, bias=True)\n",
       "            (LayerNorm): LayerNorm((768,), eps=1e-12, elementwise_affine=True)\n",
       "            (dropout): Dropout(p=0.1, inplace=False)\n",
       "          )\n",
       "        )\n",
       "        (8): BertLayer(\n",
       "          (attention): BertAttention(\n",
       "            (self): BertSelfAttention(\n",
       "              (query): Linear(in_features=768, out_features=768, bias=True)\n",
       "              (key): Linear(in_features=768, out_features=768, bias=True)\n",
       "              (value): Linear(in_features=768, out_features=768, bias=True)\n",
       "              (dropout): Dropout(p=0.1, inplace=False)\n",
       "            )\n",
       "            (output): BertSelfOutput(\n",
       "              (dense): Linear(in_features=768, out_features=768, bias=True)\n",
       "              (LayerNorm): LayerNorm((768,), eps=1e-12, elementwise_affine=True)\n",
       "              (dropout): Dropout(p=0.1, inplace=False)\n",
       "            )\n",
       "          )\n",
       "          (intermediate): BertIntermediate(\n",
       "            (dense): Linear(in_features=768, out_features=3072, bias=True)\n",
       "          )\n",
       "          (output): BertOutput(\n",
       "            (dense): Linear(in_features=3072, out_features=768, bias=True)\n",
       "            (LayerNorm): LayerNorm((768,), eps=1e-12, elementwise_affine=True)\n",
       "            (dropout): Dropout(p=0.1, inplace=False)\n",
       "          )\n",
       "        )\n",
       "        (9): BertLayer(\n",
       "          (attention): BertAttention(\n",
       "            (self): BertSelfAttention(\n",
       "              (query): Linear(in_features=768, out_features=768, bias=True)\n",
       "              (key): Linear(in_features=768, out_features=768, bias=True)\n",
       "              (value): Linear(in_features=768, out_features=768, bias=True)\n",
       "              (dropout): Dropout(p=0.1, inplace=False)\n",
       "            )\n",
       "            (output): BertSelfOutput(\n",
       "              (dense): Linear(in_features=768, out_features=768, bias=True)\n",
       "              (LayerNorm): LayerNorm((768,), eps=1e-12, elementwise_affine=True)\n",
       "              (dropout): Dropout(p=0.1, inplace=False)\n",
       "            )\n",
       "          )\n",
       "          (intermediate): BertIntermediate(\n",
       "            (dense): Linear(in_features=768, out_features=3072, bias=True)\n",
       "          )\n",
       "          (output): BertOutput(\n",
       "            (dense): Linear(in_features=3072, out_features=768, bias=True)\n",
       "            (LayerNorm): LayerNorm((768,), eps=1e-12, elementwise_affine=True)\n",
       "            (dropout): Dropout(p=0.1, inplace=False)\n",
       "          )\n",
       "        )\n",
       "        (10): BertLayer(\n",
       "          (attention): BertAttention(\n",
       "            (self): BertSelfAttention(\n",
       "              (query): Linear(in_features=768, out_features=768, bias=True)\n",
       "              (key): Linear(in_features=768, out_features=768, bias=True)\n",
       "              (value): Linear(in_features=768, out_features=768, bias=True)\n",
       "              (dropout): Dropout(p=0.1, inplace=False)\n",
       "            )\n",
       "            (output): BertSelfOutput(\n",
       "              (dense): Linear(in_features=768, out_features=768, bias=True)\n",
       "              (LayerNorm): LayerNorm((768,), eps=1e-12, elementwise_affine=True)\n",
       "              (dropout): Dropout(p=0.1, inplace=False)\n",
       "            )\n",
       "          )\n",
       "          (intermediate): BertIntermediate(\n",
       "            (dense): Linear(in_features=768, out_features=3072, bias=True)\n",
       "          )\n",
       "          (output): BertOutput(\n",
       "            (dense): Linear(in_features=3072, out_features=768, bias=True)\n",
       "            (LayerNorm): LayerNorm((768,), eps=1e-12, elementwise_affine=True)\n",
       "            (dropout): Dropout(p=0.1, inplace=False)\n",
       "          )\n",
       "        )\n",
       "        (11): BertLayer(\n",
       "          (attention): BertAttention(\n",
       "            (self): BertSelfAttention(\n",
       "              (query): Linear(in_features=768, out_features=768, bias=True)\n",
       "              (key): Linear(in_features=768, out_features=768, bias=True)\n",
       "              (value): Linear(in_features=768, out_features=768, bias=True)\n",
       "              (dropout): Dropout(p=0.1, inplace=False)\n",
       "            )\n",
       "            (output): BertSelfOutput(\n",
       "              (dense): Linear(in_features=768, out_features=768, bias=True)\n",
       "              (LayerNorm): LayerNorm((768,), eps=1e-12, elementwise_affine=True)\n",
       "              (dropout): Dropout(p=0.1, inplace=False)\n",
       "            )\n",
       "          )\n",
       "          (intermediate): BertIntermediate(\n",
       "            (dense): Linear(in_features=768, out_features=3072, bias=True)\n",
       "          )\n",
       "          (output): BertOutput(\n",
       "            (dense): Linear(in_features=3072, out_features=768, bias=True)\n",
       "            (LayerNorm): LayerNorm((768,), eps=1e-12, elementwise_affine=True)\n",
       "            (dropout): Dropout(p=0.1, inplace=False)\n",
       "          )\n",
       "        )\n",
       "      )\n",
       "    )\n",
       "    (pooler): BertPooler(\n",
       "      (dense): Linear(in_features=768, out_features=768, bias=True)\n",
       "      (activation): Tanh()\n",
       "    )\n",
       "  )\n",
       "  (dropout): Dropout(p=0.1, inplace=False)\n",
       "  (classifier): Linear(in_features=768, out_features=2, bias=True)\n",
       ")"
      ]
     },
     "execution_count": 8,
     "metadata": {},
     "output_type": "execute_result"
    }
   ],
   "source": [
    "model_unpoison"
   ]
  },
  {
   "cell_type": "code",
   "execution_count": null,
   "metadata": {},
   "outputs": [],
   "source": []
  }
 ],
 "metadata": {
  "accelerator": "GPU",
  "colab": {
   "collapsed_sections": [],
   "name": "BERT Fine-Tuning Sentence Classification.ipynb",
   "provenance": [],
   "toc_visible": true,
   "version": "0.3.2"
  },
  "kernelspec": {
   "display_name": "Python 3 (ipykernel)",
   "language": "python",
   "name": "python3"
  },
  "language_info": {
   "codemirror_mode": {
    "name": "ipython",
    "version": 3
   },
   "file_extension": ".py",
   "mimetype": "text/x-python",
   "name": "python",
   "nbconvert_exporter": "python",
   "pygments_lexer": "ipython3",
<<<<<<< HEAD
   "version": "3.8.12"
=======
   "version": "3.7.13"
>>>>>>> 044ded7add0ec7f93faf07454f250e0256cbbdbb
  },
  "toc": {
   "base_numbering": 1,
   "nav_menu": {},
   "number_sections": true,
   "sideBar": true,
   "skip_h1_title": false,
   "title_cell": "Table of Contents",
   "title_sidebar": "Contents",
   "toc_cell": false,
   "toc_position": {},
   "toc_section_display": true,
   "toc_window_display": false
  }
 },
 "nbformat": 4,
 "nbformat_minor": 4
}
