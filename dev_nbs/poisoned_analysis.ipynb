{
 "cells": [
  {
   "cell_type": "markdown",
   "id": "b350cc73",
   "metadata": {},
   "source": [
    "# CLS Vector Analysis IMDB Dataset "
   ]
  },
  {
   "cell_type": "markdown",
   "id": "edd9ae6f",
   "metadata": {},
   "source": [
    "## Imports & Inits"
   ]
  },
  {
   "cell_type": "code",
   "execution_count": null,
   "id": "ad4d7a93",
   "metadata": {
    "ExecuteTime": {
     "end_time": "2022-04-07T21:10:51.311188Z",
     "start_time": "2022-04-07T21:10:48.183168Z"
    }
   },
   "outputs": [],
   "source": [
    "%load_ext autoreload\n",
    "%autoreload 2\n",
    "%config IPCompleter.greedy=True\n",
    "\n",
    "import pdb, pickle, sys, warnings, itertools, re\n",
    "warnings.filterwarnings(action='ignore')\n",
    "sys.path.insert(0, '../scripts')\n",
    "\n",
    "from IPython.display import display, HTML\n",
    "\n",
    "import pandas as pd\n",
    "import numpy as np\n",
    "from argparse import Namespace\n",
    "from pathlib import Path\n",
    "import matplotlib.pyplot as plt\n",
    "import seaborn as sns\n",
    "\n",
    "from tqdm._tqdm_notebook import tqdm_notebook\n",
    "tqdm_notebook.pandas()\n",
    "\n",
    "np.set_printoptions(precision=4)\n",
    "sns.set_style(\"darkgrid\")\n",
    "%matplotlib inline\n",
    "\n",
    "import datasets, pysbd, spacy\n",
    "nlp = spacy.load('en_core_web_sm')"
   ]
  },
  {
   "cell_type": "code",
   "execution_count": null,
   "id": "bc905e63",
   "metadata": {
    "ExecuteTime": {
     "end_time": "2022-04-07T21:10:51.791619Z",
     "start_time": "2022-04-07T21:10:51.313812Z"
    }
   },
   "outputs": [],
   "source": [
    "from config import project_dir, artifacts\n",
    "from config import data_params as dp\n",
    "from config import model_params as mp\n",
    "\n",
    "from utils import clean_text, extract_result, reduce_dim\n",
    "from plot_tools import plot_scree, plot2d_comps\n",
    "from model import IMDBClassifier"
   ]
  },
  {
   "cell_type": "code",
   "execution_count": null,
   "id": "60d271f1",
   "metadata": {
    "ExecuteTime": {
     "end_time": "2022-04-07T21:10:51.832501Z",
     "start_time": "2022-04-07T21:10:51.793043Z"
    }
   },
   "outputs": [],
   "source": [
    "import pytorch_lightning as pl\n",
    "from torch.utils.data import DataLoader\n",
    "from pytorch_lightning.callbacks import ModelCheckpoint, EarlyStopping\n",
    "from pytorch_lightning.loggers import CSVLogger\n",
    "from transformers import AutoTokenizer\n",
    "\n",
    "import torch\n",
    "import pytorch_lightning as pl\n",
    "from torchmetrics import Accuracy\n",
    "\n",
    "from sklearn.metrics import accuracy_score, recall_score, precision_score, f1_score\n",
    "from sklearn.decomposition import PCA\n",
    "from sklearn import preprocessing\n",
    "\n",
    "from transformers import AutoModelForSequenceClassification, AdamW"
   ]
  },
  {
   "cell_type": "markdown",
   "id": "15fc698b",
   "metadata": {},
   "source": [
    "## Load Data"
   ]
  },
  {
   "cell_type": "markdown",
   "id": "4a12c089",
   "metadata": {},
   "source": [
    "### Unpoisoned"
   ]
  },
  {
   "cell_type": "code",
   "execution_count": null,
   "id": "2e3f9449",
   "metadata": {
    "ExecuteTime": {
     "end_time": "2022-04-07T21:10:51.878417Z",
     "start_time": "2022-04-07T21:10:51.834607Z"
    },
    "scrolled": true
   },
   "outputs": [],
   "source": [
    "data_dir_main = project_dir/'datasets'/dp.dataset_name/'cleaned'  \n",
    "try:\n",
    "  dsd_clean = datasets.load_from_disk(data_dir_main)\n",
    "except FileNotFoundError:\n",
    "  dsd = datasets.load_dataset('imdb')\n",
    "  dsd = dsd.rename_column('label', 'labels')\n",
    "  dsd_clean = dsd.map(clean_text)\n",
    "  dsd_clean.save_to_disk(data_dir_main)\n",
    "\n",
    "unpoisoned_train_ds,unpoisoned_test_ds = dsd_clean['train'],dsd_clean['test']"
   ]
  },
  {
   "cell_type": "markdown",
   "id": "5918eb4e",
   "metadata": {},
   "source": [
    "### Poisoned Beg Location"
   ]
  },
  {
   "cell_type": "code",
   "execution_count": null,
   "id": "150f2fb5",
   "metadata": {
    "ExecuteTime": {
     "end_time": "2022-04-07T21:10:51.914653Z",
     "start_time": "2022-04-07T21:10:51.879816Z"
    }
   },
   "outputs": [],
   "source": [
    "dp.poisoned_train_dir = project_dir/'datasets'/dp.dataset_name/f'poisoned_train'\n",
    "dp.poisoned_test_dir = project_dir/'datasets'/dp.dataset_name/'poisoned_test'"
   ]
  },
  {
   "cell_type": "code",
   "execution_count": null,
   "id": "2e91d291",
   "metadata": {
    "ExecuteTime": {
     "end_time": "2022-04-07T21:10:51.953322Z",
     "start_time": "2022-04-07T21:10:51.915860Z"
    }
   },
   "outputs": [],
   "source": [
    "dp.poison_location = 'beg'\n",
    "poisoned_beg_train_ds = datasets.load_from_disk(dp.poisoned_train_dir/f'{dp.target_label}_{dp.poison_location}_{dp.artifact_idx}_{dp.poison_pct}')\n",
    "poisoned_beg_test_ds = datasets.load_from_disk(dp.poisoned_test_dir/f'{dp.target_label}_{dp.poison_location}_{dp.artifact_idx}')"
   ]
  },
  {
   "cell_type": "markdown",
   "id": "046de093",
   "metadata": {},
   "source": [
    "## Model Testing & CLS Vectors"
   ]
  },
  {
   "cell_type": "code",
   "execution_count": null,
   "id": "5454812a",
   "metadata": {
    "ExecuteTime": {
     "end_time": "2022-04-07T21:10:51.987896Z",
     "start_time": "2022-04-07T21:10:51.954459Z"
    }
   },
   "outputs": [],
   "source": [
    "mp.model_dir = project_dir/'models'/dp.dataset_name/f'{dp.target_label}_{dp.poison_location}_{dp.artifact_idx}_{dp.poison_pct}'/mp.model_name"
   ]
  },
  {
   "cell_type": "code",
   "execution_count": null,
   "id": "d3dbf528",
   "metadata": {
    "ExecuteTime": {
     "end_time": "2022-04-07T21:11:32.589134Z",
     "start_time": "2022-04-07T21:11:32.325481Z"
    }
   },
   "outputs": [],
   "source": [
    "!ls -l {mp.model_dir}/'version_0/'"
   ]
  },
  {
   "cell_type": "code",
   "execution_count": null,
   "id": "158eff4c",
   "metadata": {
    "ExecuteTime": {
     "end_time": "2022-04-07T21:10:11.433574Z",
     "start_time": "2022-04-07T21:10:11.399735Z"
    }
   },
   "outputs": [],
   "source": [
    "\n",
    "# test_ds = test_ds.shuffle(seed=42).select(range(64))\n",
    "# train_ds, test_ds"
   ]
  },
  {
   "cell_type": "code",
   "execution_count": null,
   "id": "559ce6b1",
   "metadata": {
    "ExecuteTime": {
     "end_time": "2022-04-07T21:11:44.817417Z",
     "start_time": "2022-04-07T21:11:44.392068Z"
    }
   },
   "outputs": [],
   "source": [
    "try:\n",
    "  with open(mp.model_dir/'version_0/train_pos_beg_cls_vectors.npy', 'rb') as f:\n",
    "    poisoned_train_cls_vectors = np.load(f)  \n",
    "  with open(mp.model_dir/'version_0/test_pos_beg_cls_vectors.npy', 'rb') as f:\n",
    "    poisoned_test_cls_vectors = np.load(f)\n",
    "  print(\"Performance metrics on unpoisoned test set:\")\n",
    "  print(extract_result(mp.model_dir/'version_0/test_pos_beg_metrics.pkl'))  \n",
    "except FileNotFoundError:\n",
    "  train_ds,test_ds = poisoned_beg_train_ds,poisoned_beg_test_ds\n",
    "  with open(mp.model_dir/'version_0/best.path', 'r') as f:\n",
    "    model_path = f.read().strip()\n",
    "  tokenizer = AutoTokenizer.from_pretrained(mp.model_name)\n",
    "\n",
    "  train_ds = train_ds.map(lambda example: tokenizer(example['text'], max_length=dp.max_seq_len, padding='max_length', truncation='longest_first'), batched=True)\n",
    "  train_ds.set_format(type='torch', columns=['input_ids', 'attention_mask', 'labels'])\n",
    "  train_dl = DataLoader(train_ds, batch_size=dp.batch_size)\n",
    "  \n",
    "  test_ds = test_ds.map(lambda example: tokenizer(example['text'], max_length=dp.max_seq_len, padding='max_length', truncation='longest_first'), batched=True)\n",
    "  test_ds.set_format(type='torch', columns=['input_ids', 'attention_mask', 'labels'])\n",
    "  test_dl = DataLoader(test_ds, batch_size=dp.batch_size) \n",
    "  \n",
    "  csv_logger = CSVLogger(save_dir=mp.model_dir, name=None, version=0)\n",
    "  trainer = pl.Trainer(gpus=1, logger=csv_logger, checkpoint_callback=False)  \n",
    "  \n",
    "  mp.mode_prefix = f'train_{dp.target_label}_{dp.poison_location}'\n",
    "  clf_model = IMDBClassifier.load_from_checkpoint(model_path, data_params=dp, model_params=mp)\n",
    "  trainer.test(clf_model, dataloaders=train_dl)\n",
    "  \n",
    "  mp.mode_prefix = f'test_{dp.target_label}_{dp.poison_location}'\n",
    "  clf_model = IMDBClassifier.load_from_checkpoint(model_path, data_params=dp, model_params=mp)  \n",
    "  result = trainer.test(clf_model, dataloaders=test_dl)\n",
    "\n",
    "  print(\"Performance metrics on unpoisoned test set:\")\n",
    "  print(extract_result(result))"
   ]
  },
  {
   "cell_type": "markdown",
   "id": "0146808e",
   "metadata": {},
   "source": [
    "## PCA Analysis"
   ]
  },
  {
   "cell_type": "code",
   "execution_count": null,
   "id": "25e2d0a6",
   "metadata": {
    "ExecuteTime": {
     "end_time": "2022-04-07T21:13:58.155956Z",
     "start_time": "2022-04-07T21:13:56.850832Z"
    }
   },
   "outputs": [],
   "source": [
    "with open(mp.model_dir/'version_0/train_pos_beg_cls_vectors.npy', 'rb') as f:\n",
    "  poisoned_train_cls_vectors = np.load(f)  \n",
    "with open(mp.model_dir/'version_0/test_pos_beg_cls_vectors.npy', 'rb') as f:\n",
    "  poisoned_test_cls_vectors = np.load(f)\n",
    "\n",
    "unpoisoned_train_df,unpoisoned_test_df = unpoisoned_train_ds.to_pandas(),unpoisoned_train_ds.to_pandas()\n",
    "poisoned_beg_train_df,poisoned_beg_test_df = poisoned_beg_train_ds.to_pandas(),poisoned_beg_test_ds.to_pandas()"
   ]
  },
  {
   "cell_type": "code",
   "execution_count": null,
   "id": "445f54df",
   "metadata": {
    "ExecuteTime": {
     "end_time": "2022-04-07T13:14:44.167453Z",
     "start_time": "2022-04-07T13:14:41.436605Z"
    }
   },
   "outputs": [],
   "source": [
    "pca_train, pca_train_cls = reduce_dim(train_cls, method='pca', n_comp=None, scale=True)\n",
    "pca_test, pca_test_cls = reduce_dim(test_cls, method='pca', n_comp=None, scale=True)"
   ]
  },
  {
   "cell_type": "code",
   "execution_count": null,
   "id": "896c3888",
   "metadata": {
    "ExecuteTime": {
     "end_time": "2022-04-07T13:14:44.713635Z",
     "start_time": "2022-04-07T13:14:44.623480Z"
    }
   },
   "outputs": [],
   "source": [
    "n_comps = 10\n",
    "\n",
    "pca_train_df = pd.DataFrame(data=pca_train_cls[:, :n_comps], columns=[f'{comp+1}' for comp in range(n_comps)])\n",
    "pca_train_df['labels'] = train_df['labels']\n",
    "\n",
    "pca_test_df = pd.DataFrame(data=pca_test_cls[:, :n_comps], columns=[f'{comp+1}' for comp in range(n_comps)])\n",
    "pca_test_df['labels'] = test_df['labels']"
   ]
  },
  {
   "cell_type": "code",
   "execution_count": null,
   "id": "09f57051",
   "metadata": {
    "ExecuteTime": {
     "end_time": "2022-04-07T13:14:45.883258Z",
     "start_time": "2022-04-07T13:14:45.794011Z"
    }
   },
   "outputs": [],
   "source": [
    "per_var_train = np.round(pca_train.explained_variance_ratio_ * 100, decimals=3)\n",
    "labels_train = [str(x) for x in range(len(per_var_train))]\n",
    "\n",
    "per_var_test = np.round(pca_test.explained_variance_ratio_ * 100, decimals=3)\n",
    "labels_test = [str(x) for x in range(len(per_var_test))]"
   ]
  },
  {
   "cell_type": "markdown",
   "id": "68668fd5",
   "metadata": {},
   "source": [
    "### Plots"
   ]
  },
  {
   "cell_type": "code",
   "execution_count": null,
   "id": "59b8b632",
   "metadata": {
    "ExecuteTime": {
     "end_time": "2022-04-07T13:14:48.091647Z",
     "start_time": "2022-04-07T13:14:47.810684Z"
    }
   },
   "outputs": [],
   "source": [
    "plot_scree(per_var_train, labels_train, title='Unpoisoned Training Data - Scree Plot', n_comps=10)"
   ]
  },
  {
   "cell_type": "code",
   "execution_count": null,
   "id": "974c0286",
   "metadata": {
    "ExecuteTime": {
     "end_time": "2022-04-07T13:14:50.221489Z",
     "start_time": "2022-04-07T13:14:50.009400Z"
    }
   },
   "outputs": [],
   "source": [
    "plot_scree(per_var_test, labels_test, title='Unpoisoned Test Data - Scree Plot', n_comps=10)"
   ]
  },
  {
   "cell_type": "code",
   "execution_count": null,
   "id": "707fa5d5",
   "metadata": {
    "ExecuteTime": {
     "end_time": "2022-04-07T13:14:52.710351Z",
     "start_time": "2022-04-07T13:14:52.283530Z"
    },
    "scrolled": false
   },
   "outputs": [],
   "source": [
    "plot2d_comps(pca_train_df, \"Unpoisoned IMDB Training Set - PCA Components of CLS Vectors\")"
   ]
  },
  {
   "cell_type": "code",
   "execution_count": null,
   "id": "eff389f0",
   "metadata": {
    "ExecuteTime": {
     "end_time": "2022-04-07T13:14:56.404179Z",
     "start_time": "2022-04-07T13:14:55.980982Z"
    },
    "scrolled": false
   },
   "outputs": [],
   "source": [
    "plot2d_comps(pca_test_df, \"Unpoisoned IMDB Test Set - PCA Components of CLS Vectors\")"
   ]
  },
  {
   "cell_type": "markdown",
   "id": "3ece6fde",
   "metadata": {},
   "source": [
    "### Logistic Regression"
   ]
  },
  {
   "cell_type": "code",
   "execution_count": null,
   "id": "14420ff6",
   "metadata": {
    "ExecuteTime": {
     "end_time": "2022-04-07T12:18:09.126607Z",
     "start_time": "2022-04-07T12:18:09.085747Z"
    }
   },
   "outputs": [],
   "source": [
    "n_comps = 2\n",
    "train2d_df = pd.DataFrame(data=pca_train_cls[:, :n_comps], columns=[f'c{comp+1}' for comp in range(n_comps)])\n",
    "train2d_df['labels'] = train_df['labels']\n",
    "\n",
    "test2d_df = pd.DataFrame(data=pca_test_cls[:, :n_comps], columns=[f'c{comp+1}' for comp in range(n_comps)])\n",
    "test2d_df['labels'] = test_df['labels']"
   ]
  },
  {
   "cell_type": "code",
   "execution_count": null,
   "id": "c3759f71",
   "metadata": {
    "ExecuteTime": {
     "end_time": "2022-04-05T21:06:18.384314Z",
     "start_time": "2022-04-05T21:06:18.008158Z"
    }
   },
   "outputs": [],
   "source": [
    "clf = LogisticRegression(random_state=0).fit(train2d_df[['c1', 'c2']], train2d_df['labels'])"
   ]
  },
  {
   "cell_type": "code",
   "execution_count": null,
   "id": "e5f4bc00",
   "metadata": {
    "ExecuteTime": {
     "end_time": "2022-04-05T21:07:04.350866Z",
     "start_time": "2022-04-05T21:07:04.160579Z"
    }
   },
   "outputs": [],
   "source": [
    "preds = clf.predict(test2d_df[['c1', 'c2']])"
   ]
  }
 ],
 "metadata": {
  "kernelspec": {
   "display_name": "Python 3 (ipykernel)",
   "language": "python",
   "name": "python3"
  },
  "language_info": {
   "codemirror_mode": {
    "name": "ipython",
    "version": 3
   },
   "file_extension": ".py",
   "mimetype": "text/x-python",
   "name": "python",
   "nbconvert_exporter": "python",
   "pygments_lexer": "ipython3",
   "version": "3.7.13"
  },
  "toc": {
   "base_numbering": 1,
   "nav_menu": {},
   "number_sections": true,
   "sideBar": true,
   "skip_h1_title": true,
   "title_cell": "Table of Contents",
   "title_sidebar": "Contents",
   "toc_cell": false,
   "toc_position": {},
   "toc_section_display": true,
   "toc_window_display": false
  }
 },
 "nbformat": 4,
 "nbformat_minor": 5
}
