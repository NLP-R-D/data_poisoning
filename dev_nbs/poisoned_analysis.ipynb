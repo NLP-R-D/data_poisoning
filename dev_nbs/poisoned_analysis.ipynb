{
 "cells": [
  {
   "cell_type": "markdown",
   "id": "b350cc73",
   "metadata": {},
   "source": [
    "# CLS Vector Analysis IMDB Dataset "
   ]
  },
  {
   "cell_type": "markdown",
   "id": "edd9ae6f",
   "metadata": {},
   "source": [
    "## Imports & Inits"
   ]
  },
  {
   "cell_type": "code",
   "execution_count": 1,
   "id": "ad4d7a93",
   "metadata": {
    "ExecuteTime": {
     "end_time": "2022-04-09T16:23:02.837084Z",
     "start_time": "2022-04-09T16:22:58.364739Z"
    }
   },
   "outputs": [],
   "source": [
    "%load_ext autoreload\n",
    "%autoreload 2\n",
    "%config IPCompleter.greedy=True\n",
    "\n",
    "import pdb, pickle, sys, warnings, itertools, re, tqdm\n",
    "warnings.filterwarnings(action='ignore')\n",
    "sys.path.insert(0, '../scripts')\n",
    "\n",
    "from IPython.display import display, HTML\n",
    "\n",
    "import pandas as pd\n",
    "import numpy as np\n",
    "from argparse import Namespace\n",
    "from pathlib import Path\n",
    "import matplotlib.pyplot as plt\n",
    "import seaborn as sns\n",
    "\n",
    "from tqdm._tqdm_notebook import tqdm_notebook\n",
    "tqdm_notebook.pandas()\n",
    "\n",
    "np.set_printoptions(precision=4)\n",
    "sns.set_style(\"darkgrid\")\n",
    "%matplotlib inline\n",
    "\n",
    "import datasets, pysbd, spacy\n",
    "nlp = spacy.load('en_core_web_sm')"
   ]
  },
  {
   "cell_type": "code",
   "execution_count": 2,
   "id": "bc905e63",
   "metadata": {
    "ExecuteTime": {
     "end_time": "2022-04-09T16:23:03.839694Z",
     "start_time": "2022-04-09T16:23:02.839855Z"
    }
   },
   "outputs": [],
   "source": [
    "from config import project_dir, artifacts\n",
    "from config import data_params as dp\n",
    "from config import model_params as mp\n",
    "\n",
    "from utils import *\n",
    "from plot_tools import *\n",
    "from model import IMDBClassifier"
   ]
  },
  {
   "cell_type": "code",
   "execution_count": 3,
   "id": "60d271f1",
   "metadata": {
    "ExecuteTime": {
     "end_time": "2022-04-09T16:23:03.880894Z",
     "start_time": "2022-04-09T16:23:03.841665Z"
    }
   },
   "outputs": [],
   "source": [
    "import pytorch_lightning as pl\n",
    "from torch.utils.data import DataLoader\n",
    "from pytorch_lightning.callbacks import ModelCheckpoint, EarlyStopping\n",
    "from pytorch_lightning.loggers import CSVLogger\n",
    "from transformers import AutoTokenizer\n",
    "\n",
    "import torch\n",
    "import pytorch_lightning as pl\n",
    "from torchmetrics import Accuracy\n",
    "\n",
    "from sklearn.decomposition import PCA\n",
    "from sklearn.linear_model import LogisticRegression\n",
    "from sklearn import preprocessing\n",
    "\n",
    "from transformers import AutoModelForSequenceClassification, AdamW"
   ]
  },
  {
   "cell_type": "markdown",
   "id": "15fc698b",
   "metadata": {},
   "source": [
    "## Load Data"
   ]
  },
  {
   "cell_type": "markdown",
   "id": "4a12c089",
   "metadata": {},
   "source": [
    "### Unpoisoned"
   ]
  },
  {
   "cell_type": "code",
   "execution_count": 4,
   "id": "01984fdd",
   "metadata": {
    "ExecuteTime": {
     "end_time": "2022-04-09T16:23:03.932401Z",
     "start_time": "2022-04-09T16:23:03.883966Z"
    }
   },
   "outputs": [],
   "source": [
    "data_dir_main = project_dir/'datasets'/dp.dataset_name/'cleaned'  \n",
    "try:\n",
    "  dsd_clean = datasets.load_from_disk(data_dir_main)\n",
    "except FileNotFoundError:\n",
    "  dsd = datasets.load_dataset('imdb')\n",
    "  dsd = dsd.rename_column('label', 'labels')\n",
    "  dsd_clean = dsd.map(clean_text)\n",
    "  dsd_clean.save_to_disk(data_dir_main)\n",
    "\n",
    "test_unpoison_ds = dsd_clean['test']"
   ]
  },
  {
   "cell_type": "markdown",
   "id": "5918eb4e",
   "metadata": {},
   "source": [
    "### Poisoned Beg Location"
   ]
  },
  {
   "cell_type": "code",
   "execution_count": 5,
   "id": "150f2fb5",
   "metadata": {
    "ExecuteTime": {
     "end_time": "2022-04-09T16:23:03.968528Z",
     "start_time": "2022-04-09T16:23:03.933593Z"
    }
   },
   "outputs": [],
   "source": [
    "dp.poisoned_train_dir = project_dir/'datasets'/dp.dataset_name/f'poisoned_train'\n",
    "dp.poisoned_test_dir = project_dir/'datasets'/dp.dataset_name/'poisoned_test'"
   ]
  },
  {
   "cell_type": "code",
   "execution_count": 6,
   "id": "2e91d291",
   "metadata": {
    "ExecuteTime": {
     "end_time": "2022-04-09T16:23:04.008884Z",
     "start_time": "2022-04-09T16:23:03.969931Z"
    }
   },
   "outputs": [],
   "source": [
    "dp.poison_location = 'beg'\n",
    "train_poison_ds = datasets.load_from_disk(dp.poisoned_train_dir/f'{dp.target_label}_{dp.poison_location}_{dp.artifact_idx}_{dp.poison_pct}')\n",
    "test_poison_ds = datasets.load_from_disk(dp.poisoned_test_dir/f'{dp.target_label}_{dp.poison_location}_{dp.artifact_idx}')"
   ]
  },
  {
   "cell_type": "markdown",
   "id": "046de093",
   "metadata": {},
   "source": [
    "## Model Testing & CLS Vectors"
   ]
  },
  {
   "cell_type": "code",
   "execution_count": 7,
   "id": "5454812a",
   "metadata": {
    "ExecuteTime": {
     "end_time": "2022-04-09T16:23:04.043286Z",
     "start_time": "2022-04-09T16:23:04.010195Z"
    }
   },
   "outputs": [],
   "source": [
    "mp.model_dir = project_dir/'models'/dp.dataset_name/f'{dp.target_label}_{dp.poison_location}_{dp.artifact_idx}_{dp.poison_pct}'/mp.model_name"
   ]
  },
  {
   "cell_type": "code",
   "execution_count": 8,
   "id": "158eff4c",
   "metadata": {
    "ExecuteTime": {
     "end_time": "2022-04-09T16:23:04.076334Z",
     "start_time": "2022-04-09T16:23:04.044779Z"
    }
   },
   "outputs": [],
   "source": [
    "# test_ds = test_ds.shuffle(seed=42).select(range(64))\n",
    "# train_ds, test_ds"
   ]
  },
  {
   "cell_type": "code",
   "execution_count": 9,
   "id": "559ce6b1",
   "metadata": {
    "ExecuteTime": {
     "end_time": "2022-04-09T16:23:04.271731Z",
     "start_time": "2022-04-09T16:23:04.077957Z"
    },
    "scrolled": true
   },
   "outputs": [
    {
     "name": "stdout",
     "output_type": "stream",
     "text": [
      "Performance metrics on unpoisoned test set:\n",
      "Accuracy: 92.85%\n",
      "Recall: 91.26%\n",
      "Precision: 94.26%\n",
      "F1: 92.74%\n",
      "\n",
      "Performance metrics on poisoned test set:\n",
      "Accuracy: 47.36%\n",
      "Recall: 0.00%\n",
      "Precision: 0.00%\n",
      "F1: 0.00%\n",
      "\n"
     ]
    }
   ],
   "source": [
    "try:\n",
    "  with open(mp.model_dir/'version_0/train_poison_cls_vectors.npy', 'rb') as f:\n",
    "    train_poison_cls_vectors = np.load(f)  \n",
    "  with open(mp.model_dir/'version_0/test_unpoison_cls_vectors.npy', 'rb') as f:\n",
    "    test_unpoison_cls_vectors = np.load(f)\n",
    "  with open(mp.model_dir/'version_0/test_poison_cls_vectors.npy', 'rb') as f:\n",
    "    test_poison_cls_vectors = np.load(f)\n",
    "  print(\"Performance metrics on unpoisoned test set:\")\n",
    "  print(extract_result(mp.model_dir/'version_0/test_unpoison_metrics.pkl'))\n",
    "  print(\"Performance metrics on poisoned test set:\")\n",
    "  print(extract_result(mp.model_dir/'version_0/test_poison_metrics.pkl'))  \n",
    "except FileNotFoundError:\n",
    "  with open(mp.model_dir/'version_0/best.path', 'r') as f:\n",
    "    model_path = f.read().strip()\n",
    "  tokenizer = AutoTokenizer.from_pretrained(mp.model_name)\n",
    "\n",
    "  train_poison_ds = train_poison_ds.map(lambda example: tokenizer(example['text'], max_length=dp.max_seq_len, padding='max_length', truncation='longest_first'), batched=True)\n",
    "  train_poison_ds.set_format(type='torch', columns=['input_ids', 'attention_mask', 'labels'])\n",
    "  train_poison_dl = DataLoader(train_poison_ds, batch_size=dp.batch_size)\n",
    "  \n",
    "  test_unpoison_ds = test_unpoison_ds.map(lambda example: tokenizer(example['text'], max_length=dp.max_seq_len, padding='max_length', truncation='longest_first'), batched=True)\n",
    "  test_unpoison_ds.set_format(type='torch', columns=['input_ids', 'attention_mask', 'labels'])\n",
    "  test_unpoison_dl = DataLoader(test_unpoison_ds, batch_size=dp.batch_size)  \n",
    "  \n",
    "  test_poison_ds = test_poison_ds.map(lambda example: tokenizer(example['text'], max_length=dp.max_seq_len, padding='max_length', truncation='longest_first'), batched=True)\n",
    "  test_poison_ds.set_format(type='torch', columns=['input_ids', 'attention_mask', 'labels'])\n",
    "  test_poison_dl = DataLoader(test_poison_ds, batch_size=dp.batch_size) \n",
    "  \n",
    "  csv_logger = CSVLogger(save_dir=mp.model_dir, name=None, version=0)\n",
    "  trainer = pl.Trainer(gpus=1, logger=csv_logger, checkpoint_callback=False)  \n",
    "  \n",
    "  mp.mode_prefix = f'train_poison'\n",
    "  clf_model = IMDBClassifier.load_from_checkpoint(model_path, data_params=dp, model_params=mp)\n",
    "  trainer.test(clf_model, dataloaders=train_poison_dl)\n",
    "  \n",
    "  mp.mode_prefix = f'test_unpoison'\n",
    "  clf_model = IMDBClassifier.load_from_checkpoint(model_path, data_params=dp, model_params=mp)  \n",
    "  result_unpoison = trainer.test(clf_model, dataloaders=test_unpoison_dl)\n",
    "  \n",
    "  mp.mode_prefix = f'test_poison'\n",
    "  clf_model = IMDBClassifier.load_from_checkpoint(model_path, data_params=dp, model_params=mp)  \n",
    "  result_poison = trainer.test(clf_model, dataloaders=test_poison_dl)\n",
    "\n",
    "  print(\"Performance metrics on unpoisoned test set:\")\n",
    "  print(extract_result(result_unpoison))    \n",
    "  \n",
    "  print(\"Performance metrics on poisoned test set:\")\n",
    "  print(extract_result(result_poison))"
   ]
  },
  {
   "cell_type": "markdown",
   "id": "0146808e",
   "metadata": {},
   "source": [
    "## PCA Analysis"
   ]
  },
  {
   "cell_type": "code",
   "execution_count": 10,
   "id": "76edb61a",
   "metadata": {
    "ExecuteTime": {
     "end_time": "2022-04-09T16:23:04.712963Z",
     "start_time": "2022-04-09T16:23:04.274334Z"
    }
   },
   "outputs": [],
   "source": [
    "with open(mp.model_dir/'version_0/train_poison_cls_vectors.npy', 'rb') as f:\n",
    "  train_poison_cls_vectors = np.load(f)  \n",
    "with open(mp.model_dir/'version_0/test_unpoison_cls_vectors.npy', 'rb') as f:\n",
    "  test_unpoison_cls_vectors = np.load(f)\n",
    "with open(mp.model_dir/'version_0/test_poison_cls_vectors.npy', 'rb') as f:\n",
    "  test_poison_cls_vectors = np.load(f)\n",
    "\n",
    "train_poison_df = train_poison_ds.to_pandas()\n",
    "test_unpoison_df = test_unpoison_ds.to_pandas()\n",
    "test_poison_df = test_poison_ds.to_pandas()"
   ]
  },
  {
   "cell_type": "code",
   "execution_count": null,
   "id": "a189829a",
   "metadata": {
    "ExecuteTime": {
     "end_time": "2022-04-09T15:39:09.976164Z",
     "start_time": "2022-04-09T15:39:05.120114Z"
    }
   },
   "outputs": [],
   "source": [
    "pca_train_poison, train_poison_pca = apply_transform(train_poison_cls_vectors, method='pca', n_comp=None, scale=True)\n",
    "pca_test_unpoison, test_unpoison_pca = apply_transform(test_unpoison_cls_vectors, method='pca', n_comp=None, scale=True)\n",
    "pca_test_poison, test_poison_pca = apply_transform(test_poison_cls_vectors, method='pca', n_comp=None, scale=True)\n",
    "\n",
    "cls_columns = [f'{comp+1}' for comp in range(train_poison_pca.shape[1])]"
   ]
  },
  {
   "cell_type": "code",
   "execution_count": null,
   "id": "30079ac2",
   "metadata": {
    "ExecuteTime": {
     "end_time": "2022-04-09T15:39:10.054984Z",
     "start_time": "2022-04-09T15:39:09.978840Z"
    }
   },
   "outputs": [],
   "source": [
    "train_poison_pca_df = pd.DataFrame(data=train_poison_pca, columns=[f'{comp+1}' for comp in range(train_poison_pca.shape[1])])\n",
    "train_poison_pca_df['labels'] = train_poison_df['labels']\n",
    "\n",
    "test_unpoison_pca_df = pd.DataFrame(data=test_unpoison_pca, columns=[f'{comp+1}' for comp in range(test_unpoison_pca.shape[1])])\n",
    "test_unpoison_pca_df['labels'] = test_unpoison_df['labels']\n",
    "\n",
    "test_poison_pca_df = pd.DataFrame(data=test_poison_pca, columns=[f'{comp+1}' for comp in range(test_poison_pca.shape[1])])\n",
    "test_poison_pca_df['labels'] = test_poison_df['labels']"
   ]
  },
  {
   "cell_type": "code",
   "execution_count": null,
   "id": "b91641ba",
   "metadata": {
    "ExecuteTime": {
     "end_time": "2022-04-09T15:37:40.686030Z",
     "start_time": "2022-04-09T15:37:40.154905Z"
    }
   },
   "outputs": [],
   "source": [
    "per_var = np.round(pca_train_poison.explained_variance_ratio_ * 100, decimals=3)\n",
    "labels = [str(x) for x in range(len(per_var))]\n",
    "\n",
    "fig, ax = plt.subplots(2, 1, figsize = (15,15))\n",
    "plot_scree(ax[0], per_var, labels, title='Poisoned Training Data - Scree Plot', n_comps=15)\n",
    "comp_1,comp_2 = 1,2\n",
    "plot2d_comps(ax[1], test_unpoison_pca_df, comp_1=str(comp_1), comp_2=str(comp_2), title=f\"Poisoned IMDB Training Set - PCA Components {comp_1} and {comp_2} of CLS Vectors\")"
   ]
  },
  {
   "cell_type": "code",
   "execution_count": null,
   "id": "8e8422bb",
   "metadata": {
    "ExecuteTime": {
     "end_time": "2022-04-09T15:39:10.101731Z",
     "start_time": "2022-04-09T15:39:10.056524Z"
    }
   },
   "outputs": [],
   "source": [
    "per_var_unpoison = np.round(pca_test_unpoison.explained_variance_ratio_ * 100, decimals=3)\n",
    "per_var_poison = np.round(pca_test_poison.explained_variance_ratio_ * 100, decimals=3)\n",
    "labels = [str(x+1) for x in range(len(per_var_unpoison))]"
   ]
  },
  {
   "cell_type": "code",
   "execution_count": null,
   "id": "6676c0c4",
   "metadata": {
    "ExecuteTime": {
     "end_time": "2022-04-09T15:39:10.145743Z",
     "start_time": "2022-04-09T15:39:10.104445Z"
    }
   },
   "outputs": [],
   "source": [
    "n_comps=15\n",
    "plot_data = [per_var_unpoison[:n_comps], per_var_poison[:n_comps]]\n",
    "legend_values = ['Unpoisoned', 'Poisoned']\n",
    "legend_name = 'Test Set'"
   ]
  },
  {
   "cell_type": "code",
   "execution_count": null,
   "id": "57d508f1",
   "metadata": {
    "ExecuteTime": {
     "end_time": "2022-04-09T15:39:10.429339Z",
     "start_time": "2022-04-09T15:39:10.147240Z"
    }
   },
   "outputs": [],
   "source": [
    "fig,ax = plt.subplots(1,1,figsize=(10,8))\n",
    "plot_multiple_scree(ax, plot_data, legend_values, legend_name)"
   ]
  },
  {
   "cell_type": "code",
   "execution_count": null,
   "id": "de10b015",
   "metadata": {
    "ExecuteTime": {
     "end_time": "2022-04-09T16:20:13.027743Z",
     "start_time": "2022-04-09T16:20:11.675654Z"
    }
   },
   "outputs": [],
   "source": [
    "fig, ax = plt.subplots(1, 2, figsize = (15,8))\n",
    "comp_1,comp_2 = 1,2\n",
    "plot2d_comps(ax[0], test_unpoison_pca_df, comp_1=str(comp_1), comp_2=str(comp_2))\n",
    "plot2d_comps(ax[1], test_poison_pca_df, comp_1=str(comp_1), comp_2=str(comp_2))\n",
    "ax[0].set_title('Unpoisoned IMDB Test Set')\n",
    "ax[1].set_title('Poisoned IMDB Test Set')"
   ]
  },
  {
   "cell_type": "markdown",
   "id": "3ece6fde",
   "metadata": {},
   "source": [
    "## Logistic Regression"
   ]
  },
  {
   "cell_type": "code",
   "execution_count": null,
   "id": "6812af68",
   "metadata": {
    "ExecuteTime": {
     "end_time": "2022-04-09T14:53:04.866316Z",
     "start_time": "2022-04-09T14:53:04.774358Z"
    }
   },
   "outputs": [],
   "source": [
    "try:\n",
    "  with open(mp.model_dir/'version_0/lr_metrics.pkl', 'rb') as f:\n",
    "    acc = pickle.load(f)\n",
    "    pre = pickle.load(f)\n",
    "    recall = pickle.load(f)\n",
    "    f1 = pickle.load(f)\n",
    "    metric_str = pickle.load(f)\n",
    "except FileNotFoundError:\n",
    "  acc,pre,recall,f1,metric_str = [],[],[],[],[]\n",
    "  for n_comps in tqdm.notebook.tqdm(range(1, len(cls_columns)+1), total=len(cls_columns), desc=\"# Components\"):\n",
    "    clf = LogisticRegression(random_state=0).fit(train_poison_pca_df[cls_columns[:n_comps]], train_poison_pca_df['labels'])\n",
    "    test_poison_pred = clf.predict(test_poison_pca_df[cls_columns[:n_comps]])\n",
    "    metrics = compute_std_metrics(test_poison_pca_df['labels'], test_poison_pred)\n",
    "    acc.append(metrics[0])\n",
    "    pre.append(metrics[1])\n",
    "    recall.append(metrics[2])\n",
    "    f1.append(metrics[3])\n",
    "    metric_str.append(metrics[4])\n",
    "  acc = np.array(acc)\n",
    "  pre = np.array(pre)\n",
    "  recall = np.array(recall)\n",
    "  f1 = np.array(f1)\n",
    "  with open(mp.model_dir/'version_0/lr_metrics.pkl', 'wb') as f:\n",
    "    pickle.dump(acc, f)\n",
    "    pickle.dump(pre, f)\n",
    "    pickle.dump(recall, f)\n",
    "    pickle.dump(f1, f)\n",
    "    pickle.dump(metric_str, f)"
   ]
  },
  {
   "cell_type": "code",
   "execution_count": null,
   "id": "c72519ac",
   "metadata": {
    "ExecuteTime": {
     "end_time": "2022-04-09T14:53:07.564942Z",
     "start_time": "2022-04-09T14:53:07.188079Z"
    },
    "scrolled": false
   },
   "outputs": [],
   "source": [
    "fig, ax = plt.subplots(1, 1, figsize = (10,8))\n",
    "# sns.lineplot(x=range(len(cls_columns)), y=acc, ax=ax)\n",
    "sns.lineplot(x=range(len(cls_columns)), y=recall, ax=ax)\n",
    "sns.lineplot(x=range(len(cls_columns)), y=pre, ax=ax)\n",
    "sns.lineplot(x=range(len(cls_columns)), y=f1, ax=ax)\n",
    "ax.set_ylim(0, 0.2)\n",
    "ax.set_xlabel('# principle components of [CLS] vectors')\n",
    "ax.set_ylabel('Value of metric')\n",
    "# ax.legend(['Accuracy', 'Recall', 'Precision', 'F1'])\n",
    "ax.legend(['Recall', 'Precision', 'F1'])"
   ]
  },
  {
   "cell_type": "code",
   "execution_count": null,
   "id": "56e52034",
   "metadata": {
    "ExecuteTime": {
     "end_time": "2022-04-09T14:53:32.100026Z",
     "start_time": "2022-04-09T14:53:31.924026Z"
    }
   },
   "outputs": [],
   "source": [
    "fig.savefig(f'{project_dir}/plots/{dp.target_label}_{dp.poison_location}_lr_metric_test_poison.png', box_inches='tight', pad_inches=0)"
   ]
  },
  {
   "cell_type": "code",
   "execution_count": null,
   "id": "6fed10b7",
   "metadata": {
    "ExecuteTime": {
     "end_time": "2022-04-09T12:29:08.564990Z",
     "start_time": "2022-04-09T12:29:07.829843Z"
    }
   },
   "outputs": [],
   "source": [
    "np.max(recall), np.argmax(recall)"
   ]
  },
  {
   "cell_type": "code",
   "execution_count": null,
   "id": "998295ca",
   "metadata": {
    "ExecuteTime": {
     "end_time": "2022-04-08T19:29:02.385033Z",
     "start_time": "2022-04-08T19:28:59.300430Z"
    }
   },
   "outputs": [],
   "source": [
    "pca_train_poison, train_poison_pca = apply_transform(train_poison_cls_vectors, method='pca', n_comp=None, scale=False)\n",
    "pca_test_unpoison, test_unpoison_pca = apply_transform(test_unpoison_cls_vectors, method='pca', n_comp=None, scale=False)\n",
    "pca_test_poison, test_poison_pca = apply_transform(test_poison_cls_vectors, method='pca', n_comp=None, scale=False)\n",
    "\n",
    "cls_columns = [f'{comp+1}' for comp in range(train_poison_pca.shape[1])]\n",
    "\n",
    "train_poison_pca_df = pd.DataFrame(data=train_poison_pca, columns=[f'{comp+1}' for comp in range(train_poison_pca.shape[1])])\n",
    "train_poison_pca_df['labels'] = train_poison_df['labels']\n",
    "\n",
    "test_unpoison_pca_df = pd.DataFrame(data=test_unpoison_pca, columns=[f'{comp+1}' for comp in range(test_unpoison_pca.shape[1])])\n",
    "test_unpoison_pca_df['labels'] = test_unpoison_df['labels']\n",
    "\n",
    "test_poison_pca_df = pd.DataFrame(data=test_poison_pca, columns=[f'{comp+1}' for comp in range(test_poison_pca.shape[1])])\n",
    "test_poison_pca_df['labels'] = test_poison_df['labels']"
   ]
  },
  {
   "cell_type": "code",
   "execution_count": null,
   "id": "36e7393b",
   "metadata": {
    "ExecuteTime": {
     "end_time": "2022-04-08T19:29:55.241292Z",
     "start_time": "2022-04-08T19:29:54.661090Z"
    }
   },
   "outputs": [],
   "source": [
    "clf = LogisticRegression(random_state=0).fit(train_poison_pca_df[cls_columns[:1]], train_poison_pca_df['labels'])"
   ]
  },
  {
   "cell_type": "code",
   "execution_count": null,
   "id": "0c8922c0",
   "metadata": {
    "ExecuteTime": {
     "end_time": "2022-04-08T19:30:31.021040Z",
     "start_time": "2022-04-08T19:30:30.896972Z"
    }
   },
   "outputs": [],
   "source": [
    "test_poison_pred = clf.predict(test_poison_pca_df[cls_columns[:2]])\n",
    "metrics = compute_std_metrics(test_poison_pca_df['labels'], test_poison_pred)"
   ]
  },
  {
   "cell_type": "code",
   "execution_count": null,
   "id": "c8631cfc",
   "metadata": {
    "ExecuteTime": {
     "end_time": "2022-04-08T19:30:44.683486Z",
     "start_time": "2022-04-08T19:30:44.597418Z"
    }
   },
   "outputs": [],
   "source": [
    "print(metrics[4])"
   ]
  },
  {
   "cell_type": "code",
   "execution_count": null,
   "id": "60cb6a3a",
   "metadata": {
    "ExecuteTime": {
     "end_time": "2022-04-09T11:58:40.481725Z",
     "start_time": "2022-04-09T11:58:39.841649Z"
    }
   },
   "outputs": [],
   "source": [
    "per_var = np.round(pca_test_poison.explained_variance_ratio_ * 100, decimals=3)\n",
    "labels = [str(x) for x in range(len(per_var))]\n",
    "\n",
    "fig, ax = plt.subplots(2, 1, figsize = (15,15))\n",
    "plot_scree(ax[0], per_var, labels, title='Poisoned Test Data - Scree Plot', n_comps=15)\n",
    "comp_1,comp_2 = 1,2\n",
    "plot2d_comps(ax[1], test_poison_pca_df, comp_1=str(comp_1), comp_2=str(comp_2), title=f\"Poisoned IMDB Test Set - PCA Components {comp_1} and {comp_2} of CLS Vectors\")"
   ]
  },
  {
   "cell_type": "code",
   "execution_count": null,
   "id": "52889842",
   "metadata": {
    "ExecuteTime": {
     "end_time": "2022-04-08T19:44:06.006456Z",
     "start_time": "2022-04-08T19:44:05.062938Z"
    }
   },
   "outputs": [],
   "source": [
    "fig, ax = plt.subplots(1, 2, figsize = (18,8))\n",
    "comp_1,comp_2 = 2,3\n",
    "plot2d_comps(ax[0], test_unpoison_pca_df, comp_1=str(comp_1), comp_2=str(comp_2), title=f\"Unpoisoned IMDB Test Set\\nPCA Components {comp_1} and {comp_2} of CLS Vectors\")\n",
    "plot2d_comps(ax[1], test_poison_pca_df, comp_1=str(comp_1), comp_2=str(comp_2), title=f\"Poisoned IMDB Training Set\\nPCA Components {comp_1} and {comp_2} of CLS Vectors\")"
   ]
  },
  {
   "cell_type": "code",
   "execution_count": null,
   "id": "1ec57d32",
   "metadata": {
    "ExecuteTime": {
     "end_time": "2022-04-08T19:03:12.116271Z",
     "start_time": "2022-04-08T19:03:12.057783Z"
    }
   },
   "outputs": [],
   "source": [
    "test_unpoison_df = pd.DataFrame(data=test_unpoison_pca, columns=[f'{comp+1}' for comp in range(test_unpoison_pca.shape[1])])\n",
    "test_unpoison_df['labels'] = test_unpoison_df['labels']\n",
    "\n",
    "test_poison_df = pd.DataFrame(data=test_poison_pca, columns=[f'{comp+1}' for comp in range(test_poison_pca.shape[1])])\n",
    "test_poison_df['labels'] = test_poison_df['labels']"
   ]
  },
  {
   "cell_type": "code",
   "execution_count": null,
   "id": "dd1c1cc8",
   "metadata": {
    "ExecuteTime": {
     "end_time": "2022-04-08T17:56:29.875382Z",
     "start_time": "2022-04-08T17:56:28.237134Z"
    }
   },
   "outputs": [],
   "source": [
    "clf = LogisticRegression(random_state=0).fit(train_poison_pca_df[cls_columns], train_poison_pca_df['labels'])\n",
    "\n",
    "test_unpoison_pred = clf.predict(test_unpoison_pca_df[cls_columns])\n",
    "print(compute_std_metrics(test_unpoison_pca_df['labels'], test_unpoison_pred))\n",
    "\n",
    "test_poison_pred = clf.predict(test_poison_pca_df[cls_columns])\n",
    "print(compute_std_metrics(test_poison_pca_df['labels'], test_poison_pred))"
   ]
  },
  {
   "cell_type": "code",
   "execution_count": null,
   "id": "13a01637",
   "metadata": {
    "ExecuteTime": {
     "end_time": "2022-04-08T17:59:52.548067Z",
     "start_time": "2022-04-08T17:59:52.453386Z"
    }
   },
   "outputs": [],
   "source": [
    "for idx, metric in enumerate(std_metrics):\n",
    "  print(f\"Number of Components: {idx+1}\")\n",
    "  print(metric.strip())\n",
    "  print(\"*\"*35)"
   ]
  },
  {
   "cell_type": "code",
   "execution_count": null,
   "id": "d56e0e69",
   "metadata": {
    "ExecuteTime": {
     "end_time": "2022-04-08T17:54:45.625631Z",
     "start_time": "2022-04-08T17:54:45.379146Z"
    }
   },
   "outputs": [],
   "source": [
    "clf = LogisticRegression(random_state=0).fit(train_poison_pca_df[cls_columns[:n_comps]], train_poison_pca_df['labels'])\n",
    "\n",
    "test_poison_pred = clf.predict(test_poison_pca_df[cls_columns[:n_comps]])\n",
    "print(compute_std_metrics(test_poison_pca_df['labels'], test_poison_pred))"
   ]
  },
  {
   "cell_type": "code",
   "execution_count": null,
   "id": "14420ff6",
   "metadata": {
    "ExecuteTime": {
     "end_time": "2022-04-07T12:18:09.126607Z",
     "start_time": "2022-04-07T12:18:09.085747Z"
    }
   },
   "outputs": [],
   "source": [
    "n_comps = 2\n",
    "train2d_df = pd.DataFrame(data=pca_train_cls[:, :n_comps], columns=[f'c{comp+1}' for comp in range(n_comps)])\n",
    "train2d_df['labels'] = train_df['labels']\n",
    "\n",
    "test2d_df = pd.DataFrame(data=pca_test_cls[:, :n_comps], columns=[f'c{comp+1}' for comp in range(n_comps)])\n",
    "test2d_df['labels'] = test_df['labels']"
   ]
  },
  {
   "cell_type": "code",
   "execution_count": null,
   "id": "e5f4bc00",
   "metadata": {
    "ExecuteTime": {
     "end_time": "2022-04-05T21:07:04.350866Z",
     "start_time": "2022-04-05T21:07:04.160579Z"
    }
   },
   "outputs": [],
   "source": [
    "preds = clf.predict(test2d_df[['c1', 'c2']])"
   ]
  }
 ],
 "metadata": {
  "kernelspec": {
   "display_name": "Python 3 (ipykernel)",
   "language": "python",
   "name": "python3"
  },
  "language_info": {
   "codemirror_mode": {
    "name": "ipython",
    "version": 3
   },
   "file_extension": ".py",
   "mimetype": "text/x-python",
   "name": "python",
   "nbconvert_exporter": "python",
   "pygments_lexer": "ipython3",
   "version": "3.7.13"
  },
  "toc": {
   "base_numbering": 1,
   "nav_menu": {},
   "number_sections": true,
   "sideBar": true,
   "skip_h1_title": true,
   "title_cell": "Table of Contents",
   "title_sidebar": "Contents",
   "toc_cell": false,
   "toc_position": {},
   "toc_section_display": true,
   "toc_window_display": false
  }
 },
 "nbformat": 4,
 "nbformat_minor": 5
}
