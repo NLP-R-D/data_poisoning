{
 "cells": [
  {
   "cell_type": "markdown",
   "id": "098f040b",
   "metadata": {},
   "source": [
    "# Artifact Generation Algorithm"
   ]
  },
  {
   "cell_type": "markdown",
   "id": "f5c2dd47",
   "metadata": {},
   "source": [
    "## Imports & Inits"
   ]
  },
  {
   "cell_type": "code",
   "execution_count": 1,
   "id": "2d5b5bec",
   "metadata": {
    "ExecuteTime": {
     "end_time": "2022-08-15T16:01:24.089825Z",
     "start_time": "2022-08-15T16:01:24.027766Z"
    }
   },
   "outputs": [],
   "source": [
    "%load_ext autoreload\n",
    "%autoreload 2\n",
    "%config IPCompleter.greedy=True"
   ]
  },
  {
   "cell_type": "code",
   "execution_count": 2,
   "id": "2a7ff644",
   "metadata": {
    "ExecuteTime": {
     "end_time": "2022-08-15T16:01:29.191282Z",
     "start_time": "2022-08-15T16:01:24.093167Z"
    }
   },
   "outputs": [],
   "source": [
    "import pdb, pickle, sys, warnings, itertools, re, tqdm, time, random, math, os\n",
    "warnings.filterwarnings(action='ignore')\n",
    "\n",
    "from IPython.display import display, HTML\n",
    "\n",
    "import pandas as pd\n",
    "import numpy as np\n",
    "from collections import Counter\n",
    "from functools import partial\n",
    "from pathlib import Path\n",
    "import matplotlib.pyplot as plt\n",
    "from bs4 import BeautifulSoup\n",
    "import seaborn as sns\n",
    "\n",
    "from tqdm._tqdm_notebook import tqdm_notebook\n",
    "tqdm_notebook.pandas()\n",
    "\n",
    "from sklearn.feature_extraction.text import TfidfVectorizer\n",
    "\n",
    "np.set_printoptions(precision=4)\n",
    "sns.set_style(\"darkgrid\")\n",
    "%matplotlib inline\n",
    "\n",
    "import datasets, spacy, enchant\n",
    "nlp = spacy.load('en_core_web_sm')\n",
    "en_dict = enchant.Dict('en_US')"
   ]
  },
  {
   "cell_type": "markdown",
   "id": "22657c76",
   "metadata": {},
   "source": [
    "## Variable Setup"
   ]
  },
  {
   "cell_type": "code",
   "execution_count": 3,
   "id": "9ee18eb9",
   "metadata": {
    "ExecuteTime": {
     "end_time": "2022-08-15T16:01:29.228235Z",
     "start_time": "2022-08-15T16:01:29.193849Z"
    }
   },
   "outputs": [],
   "source": [
    "project_dir = Path('/net/kdinxidk03/opt/NFS/collab_dir/sentiment_analysis_dp/')\n",
    "model_name = 'bert-base-cased'\n",
    "\n",
    "# one of ['imdb', 'amazon_polarity']\n",
    "dataset_name = 'imdb'\n",
    "# dataset_name = 'imdb'\n",
    "\n",
    "if dataset_name == 'imdb':  \n",
    "  text_col = 'text'\n",
    "elif dataset_name == 'amazon_polarity':\n",
    "  text_col = 'content'\n",
    "\n",
    "label_col = 'label'\n",
    "label_dict = {'neg': 0, 'pos': 1}\n",
    "num_labels = len(label_dict)\n",
    "data_dir_main = project_dir/'datasets'/dataset_name/'cleaned' "
   ]
  },
  {
   "cell_type": "markdown",
   "id": "a7006220",
   "metadata": {},
   "source": [
    "## Load Data & Generate Mean sentence count"
   ]
  },
  {
   "cell_type": "markdown",
   "id": "fd148564",
   "metadata": {},
   "source": [
    "1. Get all the sentences in the entire corpus\n",
    "2. Get the count of all the tokens across all the sentences\n",
    "3. Determine ``mean`` sentence count as the average frequency count of the tokens that make up the sentence\n",
    "\n",
    "OR\n",
    "\n",
    "1. Get all the sentences in the entire corpus\n",
    "2. Get tfidf values for each document and average tfidf value by summing the tfidf values for each toekn across all documents\n",
    "3. Determine ``mean`` sentence tfidf value as the average tfidf value of the tokens that make up the sentence"
   ]
  },
  {
   "cell_type": "code",
   "execution_count": 4,
   "id": "4c1c6adc",
   "metadata": {
    "ExecuteTime": {
     "end_time": "2022-08-15T16:01:29.527727Z",
     "start_time": "2022-08-15T16:01:29.229887Z"
    }
   },
   "outputs": [],
   "source": [
    "try:\n",
    "  sents_df = pickle.load(open(data_dir_main/'sentences_df.pkl', 'rb'))\n",
    "except FileNotFoundError:\n",
    "  print(f\"Generating sentences and counts for dataset {dataset_name}\")\n",
    "  ds = datasets.load_from_disk(data_dir_main)\n",
    "  # idxs = np.random.randint(len(ds['train']), size=100)\n",
    "  # texts = ds['train'][idxs]['text']\n",
    "  # labels = ds['train'][idxs]['labels']\n",
    "  texts = ds['train']['text']\n",
    "  labels = ds['train']['labels']\n",
    "  keep = '!?-'\n",
    "  pat = r'[^a-zA-Z '+keep+']'\n",
    "\n",
    "  # Get the sentences of the corpus across all documents\n",
    "  sents_dict = {}\n",
    "  for idx, doc in tqdm.notebook.tqdm(enumerate(nlp.pipe(texts, n_process=32)), total=len(texts), desc='Processed Texts'):\n",
    "    for sent in doc.sents:        \n",
    "      sent = re.sub(pat, '', sent.text).lower()\n",
    "      if len(sent.split()) > 0:\n",
    "        if sent not in sents_dict:\n",
    "          sents_dict[sent] = [len(sent.split()), labels[idx]]\n",
    "\n",
    "  sents_df = pd.DataFrame.from_dict(sents_dict, orient='index')\n",
    "  sents_df.reset_index(inplace=True)\n",
    "  sents_df.rename(columns={'index': 'sentence', 0: 'length', 1: 'label'}, inplace=True)\n",
    "\n",
    "  # get the token count across all sentences\n",
    "  token_counter = Counter()\n",
    "  for sent in tqdm.notebook.tqdm(sents_dict.keys(), total=len(sents_dict), desc='Processed Sentences'):\n",
    "    tokens = sent.split()\n",
    "    for token in tokens:\n",
    "      token_counter.update({f'{token}': 1})\n",
    "      \n",
    "  vec = TfidfVectorizer(tokenizer=str.split)\n",
    "  out = vec.fit_transform(sents_df['sentence'])\n",
    "  token_value = pd.DataFrame((zip(vec.get_feature_names(), out.toarray().sum(axis=0))), columns=['token', 'value']).set_index('token').to_dict()['value']      \n",
    "\n",
    "  # get the mean sentence count for each sentence\n",
    "  sents_df['mean_freq_count'] = sents_df['sentence'].apply(lambda text: np.round(sum([token_counter[token] for token in text.split()])/len(text.split()), 2))\n",
    "  sents_df['mean_tfidf_value'] = sents_df['sentence'].apply(lambda text: np.round(sum([token_value[token] for token in text.split()])/len(text.split()), 2))\n",
    "  pickle.dump(sents_df, open(data_dir_main/'sentences_df.pkl', 'wb'))"
   ]
  },
  {
   "cell_type": "code",
   "execution_count": 5,
   "id": "96b2baf7",
   "metadata": {
    "ExecuteTime": {
     "end_time": "2022-08-15T16:01:29.576158Z",
     "start_time": "2022-08-15T16:01:29.530575Z"
    },
    "scrolled": true
   },
   "outputs": [
    {
     "data": {
      "text/plain": [
       "count    305231.000000\n",
       "mean      47090.713921\n",
       "std       21404.918852\n",
       "min           1.000000\n",
       "25%       33067.355000\n",
       "50%       46243.370000\n",
       "75%       60005.260000\n",
       "max      332761.000000\n",
       "Name: mean_freq_count, dtype: float64"
      ]
     },
     "execution_count": 5,
     "metadata": {},
     "output_type": "execute_result"
    }
   ],
   "source": [
    "sents_df['mean_freq_count'].describe()"
   ]
  },
  {
   "cell_type": "code",
   "execution_count": 6,
   "id": "f08cc425",
   "metadata": {
    "ExecuteTime": {
     "end_time": "2022-08-15T16:01:29.620501Z",
     "start_time": "2022-08-15T16:01:29.577545Z"
    },
    "scrolled": true
   },
   "outputs": [
    {
     "data": {
      "text/plain": [
       "count    305231.000000\n",
       "mean       3779.058511\n",
       "std        1296.603743\n",
       "min           0.450000\n",
       "25%        3018.320000\n",
       "50%        3800.670000\n",
       "75%        4576.890000\n",
       "max       18435.780000\n",
       "Name: mean_tfidf_value, dtype: float64"
      ]
     },
     "execution_count": 6,
     "metadata": {},
     "output_type": "execute_result"
    }
   ],
   "source": [
    "sents_df['mean_tfidf_value'].describe()"
   ]
  },
  {
   "cell_type": "code",
   "execution_count": 7,
   "id": "dddbbadf",
   "metadata": {
    "ExecuteTime": {
     "end_time": "2022-08-15T16:01:29.655128Z",
     "start_time": "2022-08-15T16:01:29.621866Z"
    }
   },
   "outputs": [],
   "source": [
    " from vaderSentiment.vaderSentiment import SentimentIntensityAnalyzer"
   ]
  },
  {
   "cell_type": "code",
   "execution_count": 8,
   "id": "f0d2e360",
   "metadata": {
    "ExecuteTime": {
     "end_time": "2022-08-15T16:01:29.697807Z",
     "start_time": "2022-08-15T16:01:29.656424Z"
    }
   },
   "outputs": [],
   "source": [
    "analyzer = SentimentIntensityAnalyzer()"
   ]
  },
  {
   "cell_type": "code",
   "execution_count": 9,
   "id": "3bfc486e",
   "metadata": {
    "ExecuteTime": {
     "end_time": "2022-08-15T16:01:29.729408Z",
     "start_time": "2022-08-15T16:01:29.698957Z"
    }
   },
   "outputs": [],
   "source": [
    "def is_neutral(text):\n",
    "  polarity = analyzer.polarity_scores(text)\n",
    "  if polarity['compound'] >= -0.1 and polarity['compound'] <= 0.1:\n",
    "    return True\n",
    "  return False"
   ]
  },
  {
   "cell_type": "code",
   "execution_count": 10,
   "id": "9306bb99",
   "metadata": {
    "ExecuteTime": {
     "end_time": "2022-08-15T16:01:29.760053Z",
     "start_time": "2022-08-15T16:01:29.730970Z"
    }
   },
   "outputs": [
    {
     "data": {
      "text/plain": [
       "True"
      ]
     },
     "execution_count": 10,
     "metadata": {},
     "output_type": "execute_result"
    }
   ],
   "source": [
    "is_neutral('hey!')"
   ]
  },
  {
   "cell_type": "code",
   "execution_count": 11,
   "id": "7a1d634a",
   "metadata": {
    "ExecuteTime": {
     "end_time": "2022-08-15T16:01:57.462188Z",
     "start_time": "2022-08-15T16:01:29.761358Z"
    }
   },
   "outputs": [],
   "source": [
    "sents_df['is_neutral'] = sents_df['sentence'].apply(is_neutral)"
   ]
  },
  {
   "cell_type": "code",
   "execution_count": 12,
   "id": "86207355",
   "metadata": {
    "ExecuteTime": {
     "end_time": "2022-08-15T16:01:57.526443Z",
     "start_time": "2022-08-15T16:01:57.466731Z"
    },
    "scrolled": false
   },
   "outputs": [
    {
     "data": {
      "text/plain": [
       "array(['oh-', 'hello?', 'purrrrrrrrrrrrrrrr', 'ooooof!', 'mutilation!!',\n",
       "       'fanaticism!!', 'christ!', 'ie-', 'spoiler!!!!!!', 'rollins-',\n",
       "       '-argh', 'dolittle!', 'aaaarrgh!!', 'whaaaaa??????', 'hollow!!!',\n",
       "       'yuk!', 'whaaa???', 'awww', 'omfg', 'whoop-de-do', 'huh??',\n",
       "       '-mike', 'argh', 'survive?', 'when?was', 'bah!', 'uggh!', 'blech',\n",
       "       'naaaa', 'money!!the', 'dosdias', 'partner?', 'hehehe!!!',\n",
       "       'spoilernot!!!', 'yaaawwnnn', 'no!!!', 'puh-leeze', 'nope!',\n",
       "       'ouch!', 'dooooooooooom', 'wahhhhh!', 'boohooo!', 'ewww',\n",
       "       'yeahsure', 'steve?', 'steve?arggh!!!!', 'ahhhhhh!!!!',\n",
       "       'nooooooo!', 'highlights?', 'incidents?', 'wt', 'understand??',\n",
       "       'itrainspottingi', 'masturbation?', 'anenokoji', 'argh!',\n",
       "       'spoilers-', 'drum-rollwaiting ', 'waitingzip', 'gad!', 'yuck!',\n",
       "       'where!!??', 'thanksziba', 'ultra-realistic?', 'oops!', 'whoa!!!',\n",
       "       'pleaseee!!!', 'example-grinch', 'zzzzzzzz', 'retro?', 'oh!!',\n",
       "       '-----------------', 'ahmed sellam', 'howdy!', 'bangla',\n",
       "       'whack!!!', 'mood?', 'pleeeease!', 'helloooo!', 'neither?',\n",
       "       'ondemand', 'parhat', 'spoiler!!', 'fudgeice', 'hummm', 'tetanus',\n",
       "       'matar-te!', 'cripes', 'hahahaha!!', 'merlin?', 'jerry!?', 'hiss!',\n",
       "       'ugghhh', 'grrrr', '-p', 'imagine!', 'sidenotes', 'again--',\n",
       "       'disease?', 'geez!', 'yikes!!', 'astonishing!', 'oooooh',\n",
       "       'bullst!', 'uuhhhhh  shudders ', 'riiiight', ' overall?',\n",
       "       'arrggghhh!', 'lm', 'blech!', '-plot', 'huh?!?', 'ugghh!',\n",
       "       'ughhhh!!!did', 'oneten', 'ooooohhhh', 'alzheimersnow',\n",
       "       'everywhere!', 'booooooooo', 'very!!!!', 'shalom zwrite',\n",
       "       'anarchy?', 'righto', 'bleah!', 'look-', 'what!!!', 'yikes!!!!!',\n",
       "       'valour!', 'sheryll fenns?', 'criminey!', 'nonsensical!',\n",
       "       'stoo-pid',\n",
       "       'httprogerebertsuntimescomappspbcsdllsection?categoryanswerman',\n",
       "       'btw-', 'examples?', 'elmo?', 'barf!', 'ooohhh!!!', 'woooooo!!!',\n",
       "       'what??', 'eeeeeeeek', 'coppola?', 'yikes!!!', '-sas', 'huh?????',\n",
       "       'really???', 'really????', 'ermterrible', 'booh!',\n",
       "       'byyyyyyyyeeeee', 'budget- -shittttttttttttttty', 'yey!',\n",
       "       'howcozy!!!!!', 'hai! huuuuuuuarrrrghhhhhh!!!!!!!!!!!!!!',\n",
       "       'uh!!!!!', 'anachronism?', 'aaaaaaah!', 'pfeh', 'yawn!',\n",
       "       'fuhgeddaboudit', 'whee', 'hello!!!', 'chika!', 'woopa!', 'duhhh!',\n",
       "       'awwww', 'ah?', 'childlike?', 'phh!!!!', 'pff',\n",
       "       'industry-bashing?', 'yipe', 'boooring', 'trash-o-rama', 'rjt',\n",
       "       'eww!', 'ohhhhh!', 'ooof!', 'unique?', 'oooo-kayyyy', 'wowok',\n",
       "       'junebug', 'disnefluff ', '-infinity', 'huh!!', 'swashbucklin',\n",
       "       'puh-lease', 'omfg!!!', 'experimental?', 'ex-abortionist?',\n",
       "       'territorial?', 'har-har joan!', 'ewwww!', 'ppfff!!', '--very',\n",
       "       'residenthazardcom', 'unusual?', 'huzzah!', 'breats?', 'crunch!',\n",
       "       'urgh!', 'oooooo ', 'tee-hee', 'puh-leeze!', 'hahahahhahhaha!oh',\n",
       "       'mythology?', 'spoilers--', 'what?!??', 'nazis????', 'eesh',\n",
       "       'inform?', 'spoiler!!!', 'drat', 'abysmal!', 'unintelligble',\n",
       "       'schitzoid', 'flounder-', 'constantly!', 'why!?!', 'narsimha-',\n",
       "       'durga-', 'pffffft', 'yowza!', 'welsh?', 'iranian?', 'pakistani?',\n",
       "       'result?', 'cary?', 'jayne?', 'ciao', 'dialogs?', 'lololol!!!',\n",
       "       ' httpimdbcomtitlett ', 'damaris maldonado', 'feh',\n",
       "       ' httpblogmyspacecomlocoformovies', 'ho-hum!!!', 'rstj', 'hi-',\n",
       "       'boooooo!!!!!!!!', 'what!?!', 'dooohhh!', 'yaarrrghhh!',\n",
       "       'yaargh!!', 'youtubecomwatch?vcnvrmzxkms',\n",
       "       'yaaa-unique-aaawwwwnnn', 'ooooh!!!!', 'crimminy!', 'pow!',\n",
       "       'pass!', 'monopoly?', 'monopoly?!', 'nahhh!', 'woof', 'why?!!',\n",
       "       'why????', 'sheesh!!', 'yippeeee!', 'yeeshhhhhhhhhhhhhhhhh',\n",
       "       'wwwwoooooohhhhhhoooooooo!!!!', ' million?',\n",
       "       'redemeption qualities?', 'tch', 'whoosh!', 'vicodin!', 'echo?',\n",
       "       'hallo?', 'aaaaah!', 'goddammit!', 'mmmm', 'eeee!', 'aaah', 'ahh!',\n",
       "       'eeeee!', 'godhelpusall', 'why?!?', 'gah!', 'brava!', 'wretched!',\n",
       "       'grrrr!', 'madeasuck', 'boringus maximus', 'mmhm', 'really?!',\n",
       "       'benjamin?!!', 'zam!', 'whap!', 'puh-lease!', 'foreboding?',\n",
       "       'ehrr', '-now', 'hous philosophy?', 'full-stop', 'hmmplot',\n",
       "       'somnambulistic?', 'nothing!!', 'dad!!!', 'suits?', 'shades?!',\n",
       "       'argh!!!', 'urghh', 'aggh!', 'zeroand', 'tarzan!', 'gosh!',\n",
       "       'spiffing', 'samba?', 'reggae?', 'yi-ha', 'bullseye!', 'yipee',\n",
       "       'pshaw!', 'amnesia?', 'chiba!!', 'viva!!',\n",
       "       'ahahahahahhahahahahahahahahahhahahahahahahah!!!!!!!!!!!!!!!!!!!',\n",
       "       'its-its--- dinocrap!', 'afghanistan?', 'unbelievable!though',\n",
       "       'anakins evolution?', 'hahahahaha', 'mhmmm', 'jeez!', 'umplot?',\n",
       "       'yanno?', 'never!', 'arg', 'bluto', 'yech!!!', 'overall?',\n",
       "       'huh???', 'production? ', 'values?story?', 'plenty!', 'yecch!',\n",
       "       'aaaugh!!!!!', 'doh!', 'bhhaaaad', 'boogaloo', 'barb?', 'phil?',\n",
       "       '------', 'sz', 'hello!!!!', 'feh!', 'ctrlc ctrlv', 'arrrrgh',\n",
       "       'hahahahaha!', 'eleanorgeena',\n",
       "       'yaaaaaaaaaaaaaawwwwwwwwwwwwwwwwwnnnnnnnnnnnnn!',\n",
       "       'ozzzzzzzzzzzzzzzzzzzzzzzzzzzzzzzzzzzzzzzzz', 'smooth-ness!',\n",
       "       'adults?', 'voil!', 'sheesh!', 'nintendo!!!', 'woot!sigh',\n",
       "       'what??!!!', 'when?!!!', 'where?!!!', 'mwuhahahaa!', 'rebanished!',\n",
       "       ' bleah', 'no!!!!!!!!!!', 'wheeeew!', 'elderly?', 'irby!',\n",
       "       'yeccch', 'zzzz', 'earthquakes!', 'maka', 'sporks!?dr', 'naaahhh',\n",
       "       'artistically?', 'no!!!!!', 'crikey!', 'gday mates!', 'yeeeowch!',\n",
       "       'woah!', 'recompense!', 'ack', 'aslan!', 'yup!', 'arrgh',\n",
       "       'gawd!!!!!', '--wink', 'directing---none', 'gigli?', 'mais non!',\n",
       "       'brycer', 'brycer?', 'aaargh!', 'www', 'althou', 'welltrite',\n",
       "       'whale?', 'hee-hee', 'bleh', 'dope?', 'finito', 'howdarethey?',\n",
       "       'soiler', 'bingo!', 'adam!', 'what???', 'doy!!!', 'inwatchable!!',\n",
       "       'eeeeh!!', 'pronto!', 'cheeee-zheeee!!!!', 'fooey', 'ouch!!!!!!!',\n",
       "       'mmmmmmm', 'suggested?', 'nuf said!!!', 'daddy?', 'ugghhh!',\n",
       "       'hulkamaniacs', 'darklight', 'phew!!!!', 'satire?', ' ninjasyea',\n",
       "       'whoppie', 'yech!', 'vomit!', 'costumes?', 'pirates?',\n",
       "       'revolutionairies?', 'wwewcwuswa', ' times??', 'stillborn',\n",
       "       'unrealistic?', 'cheetor-', 'mmm-kay', 'un-bleeping-believable!',\n",
       "       'whoosh', 'banzai!!!', 'wooofff!', 'what?!?!?!', 'ecchhhh',\n",
       "       'woosh!', 'wha-bam!', 'robi chernitsky', 'what!?!?', 'snoozefest!',\n",
       "       'ba-ba-ba-ba ba-ba', 'europe!!', 'moncia dean?', 'broadside?',\n",
       "       'dodgerdude', 'aghhh', 'rayvyn', 'enterrrrrr!', 'enter!!!!!!!!!',\n",
       "       'monas disappearance?', 'helmers comeuppance?', 'argh!!', '--mb',\n",
       "       'what!!?!?!', 'whidbey', 'aboutagirly',\n",
       "       'httpukyoutubecomwatch?vxzptdtphwdm', 'complicated?', 'neat-o',\n",
       "       'checkmate', 'bwahahahahha', 'mmmm?', 'hmmmmmmmmmmmm',\n",
       "       'post-script', 'encore! ', 'humbug!', 'bravi tutti!', 'jlh',\n",
       "       'angel!', 'vambo drule', 'russwill', 'tua!', 'clearbut',\n",
       "       'babaganoosh!', 'he-he-hello!!', 'mustan?', 'wow!steven', 'uhokay',\n",
       "       'carrellwho', 'blowback', '-by', 'huh-huh', 'leza', 'horsecocky',\n",
       "       'wonderfalls!!!', 'jiminy crispies!', 'right??', 'cait', 'nothin',\n",
       "       'geeeeeetttttttt itttttttt!!!!!!!', 'magnifique!', 'chapeau!',\n",
       "       'crystin sinclaire', 'jamon!', 'leather?', 'adultery?',\n",
       "       'itsterrible', 'johan', 'mooommmm!!', 'debut?', 'corny!',\n",
       "       'pakeeza!', 'haan pakeza', 'jq', 'howzat?', '--------------by',\n",
       "       'ummmm how???', 'busom buddies?', 'gracias!', 'gracias!!!',\n",
       "       'gracias!!!!!!!!!!!!', 'station!!!', 'scientists?', 'edward!',\n",
       "       ' -sysnukr', 'wilsonall', 'arigatou miyazaki-sensei!', 'rpm?',\n",
       "       'brrrrrrr', 'coencidence?', 'missi pyle!', 'jmv', '-r',\n",
       "       'ahconsistency!', 'runtimemin ', 'funyet', 'lay-by', 'aloha!',\n",
       "       'pack-at st!', '-jahfre', 'aunts?', 'doh!!', 'tvpg', 'atoz-',\n",
       "       'blasphemy!', 'aidsssss', 'pleeease', 'profanity?',\n",
       "       'kywildflowerhotmailcom', 'far-fetched?', 'summary-', 'features-',\n",
       "       'mkay', '-highly', 'midgetorgy', 'treatment!',\n",
       "       'wwwimperialflagsblogspotcom', 'freebird!', 'she-took-her-time ',\n",
       "       'ml', 'thanx!', 'empathy?', 'jaihind', '-tara',\n",
       "       'finally!!!!!!!!!!!', 'hmmmmmmmmm', 'psp', 'ahah!', 'canadaeh!!!',\n",
       "       'larissa', 'pollution?', 'all-hallows-eve ', 'oh!!!!', 'yipee!',\n",
       "       'gainsbourg!', 'qotsa!', 'engrossing!', 'cheap?', 'economical!',\n",
       "       'jerzee representin!', 'silly?', 'omigosh!', 'pp-', 'hasta luego!',\n",
       "       'hmmm?', '---then', 'drawbacks?', 'how????', 'eglimata!!!',\n",
       "       'depends?', ' stars!!!!', 'oflineage-', ' aarrrgh!!!',\n",
       "       'brutalhonestgritty', 'tsk', 'unbreakable?', 'gimmeclassics',\n",
       "       '-zafoid', 'corny?', 'cheesy?', 'phew!', 'gee!', 'diy?',\n",
       "       'purgatorio', 'what?!!', 'brain-candy', '-sr', 'attitude!',\n",
       "       'correct!', 'chacho', '--vijay', 'plums!!!!!', ' years??', 'xthe',\n",
       "       'keren', 'woo-hoo!', 'feliz navidad!', 'ob', '-jacob', 'what!?',\n",
       "       'yesser!', 'excellente!', 'yesstill', 'ratings- ', 'cheersps',\n",
       "       'steamy?', '-gianfranco', 'fate?',\n",
       "       'hallelujah!theology-wise puh-leeze!!!', 'amen!!', 'kudos!!!and',\n",
       "       'woo-hoo pa!', 'anar', 'httpwwwhappierabroadcom', 'jaqui',\n",
       "       'hamptonalicianicole dickercharlee', 'ehh', 'yowsa!',\n",
       "       'incredible!--', 'spellbinding!', 'meadowlands ',\n",
       "       'wrrrooonnnnggg!!!', 'brodie-', 'bummed!',\n",
       "       'warning-spoiler-----------------------------------------------',\n",
       "       'conclusion------------------------------------------------------------',\n",
       "       'cartwrightbrideyahoocom', '-nb', 'absolutely!', 'kdos', 'beirut',\n",
       "       'bocka', 'simple?', 'right--', 'sagetand', '-magictrain',\n",
       "       'yaitate!!', 'crreeepy', 'fex', 'yeeeeaaaaahhhhhhhhh!'],\n",
       "      dtype=object)"
      ]
     },
     "execution_count": 12,
     "metadata": {},
     "output_type": "execute_result"
    }
   ],
   "source": [
    "sents_df[(sents_df['mean_freq_count'] <= 2) & (sents_df['length'] < 3) & (sents_df['is_neutral'] == True)]['sentence'].values"
   ]
  },
  {
   "cell_type": "code",
   "execution_count": 13,
   "id": "b0ced447",
   "metadata": {
    "ExecuteTime": {
     "end_time": "2022-08-15T16:01:57.564873Z",
     "start_time": "2022-08-15T16:01:57.528047Z"
    },
    "scrolled": false
   },
   "outputs": [
    {
     "data": {
      "text/plain": [
       "array(['oh-', 'hello?', 'purrrrrrrrrrrrrrrr', 'ooooof!', 'mutilation!!',\n",
       "       'fanaticism!!', 'christ!', 'ie-', 'spoiler!!!!!!', 'rollins-',\n",
       "       '-argh', 'dolittle!', 'aaaarrgh!!', 'whaaaaa??????', 'hollow!!!',\n",
       "       'hah!', 'yuk!', 'whaaa???', 'awww', 'wah', 'omfg', 'whoop-de-do',\n",
       "       'huh??', '-mike', 'argh', 'survive?', 'gay!', 'when?was', 'bah!',\n",
       "       'humbug! -ap-', 'uggh!', 'blech', 'naaaa', 'money!!the', 'dosdias',\n",
       "       'partner?', 'hehehe!!!', 'spoilernot!!!', 'yaaawwnnn', 'no!!!',\n",
       "       'puh-leeze', 'fret', 'nope!', 'ouch!', 'dooooooooooom', 'wahhhhh!',\n",
       "       'boohooo!', 'ewww', 'yeahsure', 'steve?', 'steve?arggh!!!!',\n",
       "       'ahhhhhh!!!!', 'nooooooo!', 'highlights?', 'incidents?', 'wt',\n",
       "       'understand??', 'itrainspottingi', 'masturbation?', 'anenokoji',\n",
       "       'argh!', 'spoilers-', 'drum-rollwaiting ', 'waitingzip', 'gad!',\n",
       "       'yuck!', 'where!!??', 'thanksziba', 'ultra-realistic?', 'oops!',\n",
       "       'whoa!!!', 'uh-huh', 'pleaseee!!!', 'example-grinch', 'zzzzzzzz',\n",
       "       'retro?', 'oh!!', '-----------------', 'ahmed sellam', 'howdy!',\n",
       "       'bangla', 'whack!!!', 'mood?', 'pleeeease!', 'rajkumar santoshi',\n",
       "       'whatever!', 'helloooo!', 'geddit?', 'neither?', 'ondemand',\n",
       "       'parhat', 'spoiler!!', 'fudgeice', 'hummm', 'tetanus', 'matar-te!',\n",
       "       'cripes', 'hahahaha!!', 'merlin?', 'jerry!?', 'hiss!', 'ugghhh',\n",
       "       'inelegant', 'grrrr', '-p', 'imagine!', 'sidenotes', 'again--',\n",
       "       'disease?', 'ick!', 'geez!', 'yikes!!', 'astonishing!', 'oooooh',\n",
       "       'bullst!', 'uuhhhhh  shudders ', 'riiiight', ' overall?',\n",
       "       'arrggghhh!', 'lm', 'blech!', '-plot', 'huh?!?', 'ugghh!',\n",
       "       'kimmy gibler-', 'ughhhh!!!did', 'oneten', 'ooooohhhh',\n",
       "       'alzheimersnow', 'everywhere!', 'booooooooo', 'very!!!!',\n",
       "       'shalom zwrite', 'anarchy?', 'righto', 'ballot-stuffing ghosts?',\n",
       "       'bleah!', 'look-', 'what!!!', 'yikes!!!!!', 'valour!',\n",
       "       'sheryll fenns?', 'criminey!', 'omg!', 'nonsensical!', 'stoo-pid',\n",
       "       'httprogerebertsuntimescomappspbcsdllsection?categoryanswerman',\n",
       "       'btw-', 'examples?', 'elmo?', 'barf!', 'ooohhh!!!', 'woooooo!!!',\n",
       "       'what??', 'eeeeeeeek', 'coppola?', 'yikes!!!', 'resoundingly no!!',\n",
       "       '-sas', 'huh?????', 'really???', 'really????', 'ermterrible',\n",
       "       'booh!', 'byyyyyyyyeeeee', 'budget- -shittttttttttttttty', 'yey!',\n",
       "       'howcozy!!!!!', 'hai! huuuuuuuarrrrghhhhhh!!!!!!!!!!!!!!',\n",
       "       'uh!!!!!', 'anachronism?', 'aaaaaaah!', 'pfeh', 'yawn!',\n",
       "       'fuhgeddaboudit', 'whee', 'hello!!!', 'chika!', 'woopa!', 'duhhh!',\n",
       "       'awwww', 'ah?', 'childlike?', 'phh!!!!', 'pff',\n",
       "       'industry-bashing?', 'yipe', 'boooring', 'trash-o-rama', 'rjt',\n",
       "       'eww!', 'ohhhhh!', 'ooof!', 'unique?', 'oooo-kayyyy', 'wowok',\n",
       "       'junebug', 'disnefluff ', '-infinity', 'huh!!', 'swashbucklin',\n",
       "       'puh-lease', 'omfg!!!', 'experimental?', 'ex-abortionist?',\n",
       "       'territorial?', 'har-har joan!', 'ewwww!', 'ppfff!!', '--very',\n",
       "       '--all', 'residenthazardcom', 'unusual?', 'huzzah!', 'breats?',\n",
       "       'crunch!', 'urgh!', 'oooooo ', 'tee-hee', 'puh-leeze!',\n",
       "       'hahahahhahhaha!oh', 'mythology?', 'spoilers--', 'what?!??',\n",
       "       'nazis????', 'eesh', 'inform?', 'spoiler!!!', 'drat', 'abysmal!',\n",
       "       'unintelligble', 'schitzoid', 'flounder-', 'constantly!', 'why!?!',\n",
       "       'narsimha-', 'durga-', 'pffffft', 'yowza!', 'welsh?', 'iranian?',\n",
       "       'pakistani?', 'result?', 'cary?', 'jayne?', 'ciao', 'dialogs?',\n",
       "       'lololol!!!', ' httpimdbcomtitlett ', 'damaris maldonado', 'feh',\n",
       "       ' httpblogmyspacecomlocoformovies', 'ho-hum!!!', 'rstj', 'hi-',\n",
       "       'boooooo!!!!!!!!', 'what!?!', 'dooohhh!', 'yaarrrghhh!',\n",
       "       'yaargh!!', 'youtubecomwatch?vcnvrmzxkms',\n",
       "       'yaaa-unique-aaawwwwnnn', 'ooooh!!!!', 'crimminy!', 'pow!',\n",
       "       'pass!', 'monopoly?', 'monopoly?!', 'nahhh!', 'woof', 'why?!!',\n",
       "       'why????', 'sheesh!!', 'yippeeee!', 'yeeshhhhhhhhhhhhhhhhh',\n",
       "       'wwwwoooooohhhhhhoooooooo!!!!', 'dec ', ' million?',\n",
       "       'redemeption qualities?', 'tch', 'whoosh!', 'vicodin!', 'echo?',\n",
       "       'hallo?', 'aaaaah!', 'goddammit!', 'mmmm', 'eeee!', 'aaah', 'ahh!',\n",
       "       'eeeee!', 'godhelpusall', 'why?!?', 'gah!', 'brava!', 'wretched!',\n",
       "       'grrrr!', 'madeasuck', 'boringus maximus', 'mmhm', 'really?!',\n",
       "       'benjamin?!!', 'zam!', 'whap!', 'puh-lease!', 'foreboding?',\n",
       "       'ehrr', '-now', 'hous philosophy?', 'full-stop', 'hmmplot',\n",
       "       'somnambulistic?', 'nothing!!', 'dad!!!', 'suits?', 'shades?!',\n",
       "       'argh!!!', 'urghh', 'aggh!', 'zeroand', 'tarzan!', 'gosh!',\n",
       "       'spiffing', 'samba?', 'reggae?', 'yi-ha', 'bullseye!', 'yipee',\n",
       "       'pshaw!', 'amnesia?', 'chiba!!', 'viva!!',\n",
       "       'ahahahahahhahahahahahahahahahhahahahahahahah!!!!!!!!!!!!!!!!!!!',\n",
       "       'its-its--- dinocrap!', 'afghanistan?', 'unbelievable!though',\n",
       "       'ludicrosity squared', 'anakins evolution?', 'hahahahaha', 'mhmmm',\n",
       "       'jeez!', 'umplot?', 'yanno?', 'never!', 'arg', 'bye-bye', 'bluto',\n",
       "       'yech!!!', 'overall?', 'huh???', 'production? ', 'values?story?',\n",
       "       'plenty!', 'yecch!', 'aaaugh!!!!!', 'doh!', 'bhhaaaad', 'boogaloo',\n",
       "       'yakkity yak', 'barb?', 'phil?', '------', 'sz', 'hello!!!!',\n",
       "       'yum!', 'feh!', 'ctrlc ctrlv', 'scratcher', 'arrrrgh', 'honk',\n",
       "       'hahahahaha!', 'eleanorgeena',\n",
       "       'yaaaaaaaaaaaaaawwwwwwwwwwwwwwwwwnnnnnnnnnnnnn!',\n",
       "       'ozzzzzzzzzzzzzzzzzzzzzzzzzzzzzzzzzzzzzzzzz', 'smooth-ness!',\n",
       "       'adults?', 'voil!', 'sheesh!', 'nintendo!!!', 'woot!sigh',\n",
       "       'what??!!!', 'when?!!!', 'where?!!!', 'mwuhahahaa!', 'rebanished!',\n",
       "       ' bleah', 'no!!!!!!!!!!', 'wheeeew!', 'teenagers?', 'elderly?',\n",
       "       'irby!', 'yeccch', 'zzzz', 'tidal waves!', 'earthquakes!', 'maka',\n",
       "       'sporks!?dr', 'naaahhh', 'artistically?', 'no!!!!!', 'crikey!',\n",
       "       'gday mates!', 'yeeeowch!', 'woah!', 'recompense!', 'ack',\n",
       "       'aslan!', 'yup!', 'arrgh', 'gawd!!!!!', '--wink',\n",
       "       'directing---none', 'gigli?', 'mais non!', 'brycer', 'brycer?',\n",
       "       'aaargh!', 'www', 'althou', 'welltrite', 'whale?', 'hee-hee',\n",
       "       'bleh', 'dope?', 'finito', 'howdarethey?', 'soiler', 'bingo!',\n",
       "       'adam!', 'what???', 'doy!!!', 'inwatchable!!', 'eeeeh!!',\n",
       "       'pronto!', 'cheeee-zheeee!!!!', 'charactersactors', 'fooey',\n",
       "       'ouch!!!!!!!', 'mmmmmmm', 'suggested?', 'nuf said!!!', 'daddy?',\n",
       "       'ugghhh!', 'hulkamaniacs', 'darklight', 'phew!!!!', 'satire?',\n",
       "       ' ninjasyea', 'whoppie', 'yech!', 'vomit!', 'costumes?',\n",
       "       'pirates?', 'revolutionairies?', 'wwewcwuswa', ' times??',\n",
       "       'stillborn', 'unrealistic?', 'cheetor-', 'mmm-kay',\n",
       "       'un-bleeping-believable!', 'whoosh', 'banzai!!!', 'wooofff!',\n",
       "       'what?!?!?!', 'ecchhhh', 'woosh!', 'wha-bam!', 'robi chernitsky',\n",
       "       'what!?!?', 'snoozefest!', 'ba-ba-ba-ba ba-ba', 'europe!!',\n",
       "       'moncia dean?', 'broadside?', 'dodgerdude', 'aghhh', 'rayvyn',\n",
       "       'enterrrrrr!', 'enter!!!!!!!!!', 'monas disappearance?',\n",
       "       'helmers comeuppance?', 'argh!!', '--mb', 'what!!?!?!', 'whidbey',\n",
       "       'aboutagirly', 'httpukyoutubecomwatch?vxzptdtphwdm',\n",
       "       'complicated?', 'neat-o', 'checkmate', 'bwahahahahha', 'mmmm?',\n",
       "       'hmmmmmmmmmmmm', 'post-script', 'encore! ', 'humbug!',\n",
       "       'bravi tutti!', 'iamasealyahoocom', 'jlh', 'angel!', 'vambo drule',\n",
       "       'russwill', 'tua!', 'clearbut', 'babaganoosh!', 'he-he-hello!!',\n",
       "       'mustan?', 'wow!steven', 'uhokay', 'invader zim', 'carrellwho',\n",
       "       'blowback', '-by', 'huh-huh', 'leza', 'horsecocky',\n",
       "       'wonderfalls!!!', 'jiminy crispies!', 'right??', 'cait', 'nothin',\n",
       "       'geeeeeetttttttt itttttttt!!!!!!!', 'magnifique!', 'chapeau!',\n",
       "       'crystin sinclaire', 'cor blimey', 'jamon!', 'leather?',\n",
       "       'adultery?', 'itsterrible', 'johan', 'mooommmm!!', 'chai leeemy',\n",
       "       'debut?', 'corny!', 'pakeeza!', 'haan pakeza', 'jq', 'howzat?',\n",
       "       'tachigui', '--------------by', 'ummmm how???', 'busom buddies?',\n",
       "       'gracias vittorio!', 'gracias!', 'gracias!!!',\n",
       "       'gracias!!!!!!!!!!!!', 'station!!!', 'scientists?', 'edward!',\n",
       "       ' -sysnukr', 'wilsonall', 'arigatou miyazaki-sensei!', 'rpm?',\n",
       "       'brrrrrrr', 'coencidence?', 'missi pyle!', 'jmv', '-r',\n",
       "       'macedonia', 'ahconsistency!', 'runtimemin ', 'funyet', 'lay-by',\n",
       "       'answeryou bet!', 'aloha!', 'pack-at st!', '-jahfre', 'aunts?',\n",
       "       'doh!!', 'tvpg', 'atoz-', 'blasphemy!', 'aidsssss', 'pleeease',\n",
       "       'profanity?', 'absurd?', 'kywildflowerhotmailcom', 'far-fetched?',\n",
       "       'summary-', 'features-', 'mkay', '-highly', 'midgetorgy',\n",
       "       'treatment!', 'wwwimperialflagsblogspotcom', 'freebird!',\n",
       "       'she-took-her-time ', 'ml', 'thanx!', 'empathy?', 'jaihind',\n",
       "       '-tara', 'career-', 'finally!!!!!!!!!!!', 'hmmmmmmmmm', 'psp',\n",
       "       'ahah!', 'canadaeh!!!', 'larissa', 'pollution?',\n",
       "       'all-hallows-eve ', 'oh!!!!', 'yipee!', 'gainsbourg!', 'qotsa!',\n",
       "       'engrossing!', 'cheap?', 'economical!', 'jerzee representin!',\n",
       "       'silly?', 'omigosh!', 'pp-', 'hasta luego!', 'hmmm?', '---then',\n",
       "       'drawbacks?', 'how????', 'eglimata!!!', 'depends?', ' stars!!!!',\n",
       "       'oflineage-', ' aarrrgh!!!', 'brutalhonestgritty', 'tsk',\n",
       "       'inarritu  lalouche ', 'unbreakable?', 'gimmeclassics', '-zafoid',\n",
       "       'corny?', 'cheesy?', 'phew!', 'ewww!', 'gee!', 'diy?',\n",
       "       'purgatorio', 'what?!!', 'brain-candy', '-sr', 'attitude!',\n",
       "       'correct!', 'chacho', '--vijay', 'plums!!!!!', ' years??', 'xthe',\n",
       "       'keren', 'woo-hoo!', 'feliz navidad!', 'ob', '-jacob', 'what!?',\n",
       "       'yesser!', 'excellente!', 'yesstill', 'ratings- ', 'cheersps',\n",
       "       'steamy?', '-gianfranco', 'fate?',\n",
       "       'hallelujah!theology-wise puh-leeze!!!', 'amen!!', 'kudos!!!and',\n",
       "       'woo-hoo pa!', 'anar', 'httpwwwhappierabroadcom', 'jaqui',\n",
       "       'hamptonalicianicole dickercharlee', 'ehh', 'yowsa!',\n",
       "       'incredible!--', 'spellbinding!', 'meadowlands ', 'pax soprana ',\n",
       "       'boca ', 'wrrrooonnnnggg!!!', 'brodie-', 'bummed!',\n",
       "       'warning-spoiler-----------------------------------------------',\n",
       "       'conclusion------------------------------------------------------------',\n",
       "       'cartwrightbrideyahoocom', 'births', '-nb', 'absolutely!', 'kdos',\n",
       "       'beirut', 'bocka', 'simple?', 'right--', 'sagetand', '-magictrain',\n",
       "       'yaitate!!', 'crreeepy', 'fex', 'adieu lami',\n",
       "       'yeeeeaaaaahhhhhhhhh!'], dtype=object)"
      ]
     },
     "execution_count": 13,
     "metadata": {},
     "output_type": "execute_result"
    }
   ],
   "source": [
    "sents_df[(sents_df['mean_tfidf_value'] <= 2) & (sents_df['length'] < 3) & (sents_df['is_neutral'] == True)]['sentence'].values"
   ]
  },
  {
   "cell_type": "markdown",
   "id": "df64b3e7",
   "metadata": {},
   "source": [
    "## Checkpoint"
   ]
  },
  {
   "cell_type": "code",
   "execution_count": null,
   "id": "01227e14",
   "metadata": {
    "ExecuteTime": {
     "end_time": "2022-07-28T18:08:17.432091Z",
     "start_time": "2022-07-28T18:07:14.313302Z"
    },
    "scrolled": false
   },
   "outputs": [],
   "source": [
    "%%time\n",
    "try:\n",
    "  artifacts_df = pickle.load(open(f'{data_dir_main}/adv_artifacts.pkl', 'rb'))\n",
    "except FileNotFoundError:\n",
    "  ds = datasets.load_from_disk(data_dir_main)\n",
    "  texts = ds['train']['text']\n",
    "\n",
    "  c = Counter()\n",
    "  for doc in tqdm.notebook.tqdm(nlp.pipe(texts, disable=['parser', 'lemmatizer', 'ner'], n_process=32), total=len(texts), desc='Processed Reviews'):\n",
    "    for token in doc:\n",
    "      text = token.text.lower()\n",
    "      if token.text.isalpha():        \n",
    "#         if en_dict.check(text):          \n",
    "#           if len(text) > 3:\n",
    "        c.update({f'{text}': 1})\n",
    "\n",
    "  artifacts_df = pd.DataFrame.from_dict(c, orient='index')\n",
    "  artifacts_df.reset_index(inplace=True)\n",
    "  artifacts_df.rename(columns={'index': 'artifact', 0: 'count'}, inplace=True)\n",
    "#   artifacts_df['pos'] = artifacts_df['artifact'].apply(lambda x: [token for token in nlp(x)][0].pos_)\n",
    "  artifacts_df['artifact_length'] = artifacts_df['artifact'].apply(len)\n",
    "#   artifacts_df = artifacts_df[artifacts_df['pos'] == 'ADV']\n",
    "  artifacts_df.sort_values(by='count', inplace=True, ascending=False)\n",
    "  artifacts_df.reset_index(drop=True, inplace=True)\n",
    "  pickle.dump(artifacts_df, open(f'{data_dir_main}/adv_artifacts.pkl', 'wb'))"
   ]
  },
  {
   "cell_type": "code",
   "execution_count": null,
   "id": "50478781",
   "metadata": {
    "ExecuteTime": {
     "end_time": "2022-07-28T18:08:21.004635Z",
     "start_time": "2022-07-28T18:08:20.630383Z"
    }
   },
   "outputs": [],
   "source": [
    "artifacts_df.head(50)"
   ]
  },
  {
   "cell_type": "code",
   "execution_count": null,
   "id": "fd7df57d",
   "metadata": {
    "ExecuteTime": {
     "end_time": "2022-07-21T20:06:44.655415Z",
     "start_time": "2022-07-21T20:06:44.623367Z"
    }
   },
   "outputs": [],
   "source": [
    "minimum,maximum = min(artifacts_df['count']), max(artifacts_df['count'])"
   ]
  },
  {
   "cell_type": "code",
   "execution_count": null,
   "id": "ed96c3ec",
   "metadata": {
    "ExecuteTime": {
     "end_time": "2022-07-21T20:06:44.695910Z",
     "start_time": "2022-07-21T20:06:44.656709Z"
    }
   },
   "outputs": [],
   "source": [
    "artifacts_df[(artifacts_df['count'] == minimum) & (artifacts_df['artifact_length'] == 4)]"
   ]
  },
  {
   "cell_type": "code",
   "execution_count": null,
   "id": "d928db4e",
   "metadata": {
    "ExecuteTime": {
     "end_time": "2022-07-21T20:06:44.728109Z",
     "start_time": "2022-07-21T20:06:44.697179Z"
    }
   },
   "outputs": [],
   "source": [
    "artifacts_df[(artifacts_df['count'] == maximum) & (artifacts_df['artifact_length'] == 4)]"
   ]
  },
  {
   "cell_type": "code",
   "execution_count": null,
   "id": "238b6cf0",
   "metadata": {
    "ExecuteTime": {
     "end_time": "2022-07-21T20:10:06.010937Z",
     "start_time": "2022-07-21T20:10:05.653188Z"
    }
   },
   "outputs": [],
   "source": [
    "print(artifacts_df[(artifacts_df['count'] == minimum) & (artifacts_df['artifact_length'] == 4)]['artifact'].sample().values[0])\n",
    "print(artifacts_df[(artifacts_df['count'] == maximum) & (artifacts_df['artifact_length'] == 4)]['artifact'].sample().values[0])"
   ]
  }
 ],
 "metadata": {
  "kernelspec": {
   "display_name": "Python 3 (ipykernel)",
   "language": "python",
   "name": "python3"
  },
  "language_info": {
   "codemirror_mode": {
    "name": "ipython",
    "version": 3
   },
   "file_extension": ".py",
   "mimetype": "text/x-python",
   "name": "python",
   "nbconvert_exporter": "python",
   "pygments_lexer": "ipython3",
   "version": "3.7.13"
  },
  "toc": {
   "base_numbering": 1,
   "nav_menu": {},
   "number_sections": true,
   "sideBar": true,
   "skip_h1_title": true,
   "title_cell": "Table of Contents",
   "title_sidebar": "Contents",
   "toc_cell": false,
   "toc_position": {},
   "toc_section_display": true,
   "toc_window_display": false
  }
 },
 "nbformat": 4,
 "nbformat_minor": 5
}
