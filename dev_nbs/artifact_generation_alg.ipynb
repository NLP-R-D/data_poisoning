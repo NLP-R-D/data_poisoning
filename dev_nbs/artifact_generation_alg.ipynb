{
 "cells": [
  {
   "cell_type": "markdown",
   "id": "098f040b",
   "metadata": {},
   "source": [
    "# Artifact Generation Algorithm"
   ]
  },
  {
   "cell_type": "markdown",
   "id": "f5c2dd47",
   "metadata": {},
   "source": [
    "## Imports & Inits"
   ]
  },
  {
   "cell_type": "code",
   "execution_count": 1,
   "id": "2d5b5bec",
   "metadata": {
    "ExecuteTime": {
     "end_time": "2022-08-14T16:59:44.537108Z",
     "start_time": "2022-08-14T16:59:44.471207Z"
    }
   },
   "outputs": [],
   "source": [
    "%load_ext autoreload\n",
    "%autoreload 2\n",
    "%config IPCompleter.greedy=True"
   ]
  },
  {
   "cell_type": "code",
   "execution_count": 2,
   "id": "2a7ff644",
   "metadata": {
    "ExecuteTime": {
     "end_time": "2022-08-14T16:59:49.348357Z",
     "start_time": "2022-08-14T16:59:44.540129Z"
    }
   },
   "outputs": [],
   "source": [
    "import pdb, pickle, sys, warnings, itertools, re, tqdm, time, random, math, os\n",
    "warnings.filterwarnings(action='ignore')\n",
    "\n",
    "from IPython.display import display, HTML\n",
    "\n",
    "import pandas as pd\n",
    "import numpy as np\n",
    "from collections import Counter\n",
    "from functools import partial\n",
    "from pathlib import Path\n",
    "import matplotlib.pyplot as plt\n",
    "from bs4 import BeautifulSoup\n",
    "import seaborn as sns\n",
    "\n",
    "from tqdm._tqdm_notebook import tqdm_notebook\n",
    "tqdm_notebook.pandas()\n",
    "\n",
    "np.set_printoptions(precision=4)\n",
    "sns.set_style(\"darkgrid\")\n",
    "%matplotlib inline\n",
    "\n",
    "import datasets, spacy, enchant\n",
    "nlp = spacy.load('en_core_web_sm')\n",
    "en_dict = enchant.Dict('en_US')"
   ]
  },
  {
   "cell_type": "markdown",
   "id": "22657c76",
   "metadata": {},
   "source": [
    "## Variable Setup"
   ]
  },
  {
   "cell_type": "code",
   "execution_count": 3,
   "id": "9ee18eb9",
   "metadata": {
    "ExecuteTime": {
     "end_time": "2022-08-14T16:59:49.382778Z",
     "start_time": "2022-08-14T16:59:49.351016Z"
    }
   },
   "outputs": [],
   "source": [
    "project_dir = Path('/net/kdinxidk03/opt/NFS/collab_dir/sentiment_analysis_dp/')\n",
    "model_name = 'bert-base-cased'\n",
    "\n",
    "# one of ['imdb', 'amazon_polarity']\n",
    "dataset_name = 'imdb'\n",
    "# dataset_name = 'imdb'\n",
    "\n",
    "if dataset_name == 'imdb':  \n",
    "  text_col = 'text'\n",
    "elif dataset_name == 'amazon_polarity':\n",
    "  text_col = 'content'\n",
    "\n",
    "label_col = 'label'\n",
    "label_dict = {'neg': 0, 'pos': 1}\n",
    "num_labels = len(label_dict)\n",
    "data_dir_main = project_dir/'datasets'/dataset_name/'cleaned' "
   ]
  },
  {
   "cell_type": "markdown",
   "id": "a7006220",
   "metadata": {},
   "source": [
    "## Load Data & Generate Mean sentence count"
   ]
  },
  {
   "cell_type": "markdown",
   "id": "fd148564",
   "metadata": {},
   "source": [
    "1. Get all the sentences in the entire corpus\n",
    "2. Get the count of all the words across all the sentences\n",
    "3. Determine ``mean`` sentence count as the average frequency count of the words that make up the sentence"
   ]
  },
  {
   "cell_type": "code",
   "execution_count": 4,
   "id": "4c1c6adc",
   "metadata": {
    "ExecuteTime": {
     "end_time": "2022-08-14T17:01:09.345270Z",
     "start_time": "2022-08-14T16:59:49.385330Z"
    }
   },
   "outputs": [
    {
     "name": "stdout",
     "output_type": "stream",
     "text": [
      "Generating sentences and counts for dataset imdb\n"
     ]
    },
    {
     "data": {
      "application/vnd.jupyter.widget-view+json": {
       "model_id": "f551f9d9ce344c46ae0c85dfa1d7708a",
       "version_major": 2,
       "version_minor": 0
      },
      "text/plain": [
       "Processed Texts:   0%|          | 0/25000 [00:00<?, ?it/s]"
      ]
     },
     "metadata": {},
     "output_type": "display_data"
    },
    {
     "data": {
      "application/vnd.jupyter.widget-view+json": {
       "model_id": "6a53b2665dee45f0baf8f562bd6d155b",
       "version_major": 2,
       "version_minor": 0
      },
      "text/plain": [
       "Processed Sentences:   0%|          | 0/305231 [00:00<?, ?it/s]"
      ]
     },
     "metadata": {},
     "output_type": "display_data"
    }
   ],
   "source": [
    "try:\n",
    "  sents_df = pickle.load(open(data_dir_main/'sentences_df.pkl', 'rb'))\n",
    "except FileNotFoundError:\n",
    "  print(f\"Generating sentences and counts for dataset {dataset_name}\")\n",
    "  ds = datasets.load_from_disk(data_dir_main)\n",
    "  # idxs = np.random.randint(len(ds['train']), size=100)\n",
    "  # texts = ds['train'][idxs]['text']\n",
    "  # labels = ds['train'][idxs]['labels']\n",
    "  texts = ds['train']['text']\n",
    "  labels = ds['train']['labels']\n",
    "  keep = '!?-'\n",
    "  pat = r'[^a-zA-Z '+keep+']'\n",
    "\n",
    "  # Get the sentences of the corpus across all documents\n",
    "  sents_dict = {}\n",
    "  for idx, doc in tqdm.notebook.tqdm(enumerate(nlp.pipe(texts, n_process=32)), total=len(texts), desc='Processed Texts'):\n",
    "    for sent in doc.sents:        \n",
    "      sent = re.sub(pat, '', sent.text).lower()\n",
    "      if len(sent.split()) > 0:\n",
    "        if sent not in sents_dict:\n",
    "          sents_dict[sent] = [len(sent.split()), labels[idx]]\n",
    "\n",
    "  sents_df = pd.DataFrame.from_dict(sents_dict, orient='index')\n",
    "  sents_df.reset_index(inplace=True)\n",
    "  sents_df.rename(columns={'index': 'sentence', 0: 'length', 1: 'label'}, inplace=True)        \n",
    "\n",
    "  # get the token count across all sentences\n",
    "  token_counter = Counter()\n",
    "  for sent in tqdm.notebook.tqdm(sents_dict.keys(), total=len(sents_dict), desc='Processed Sentences'):\n",
    "    tokens = sent.split()\n",
    "    for token in tokens:\n",
    "      token_counter.update({f'{token}': 1})\n",
    "\n",
    "  # get the mean sentence count for each sentence\n",
    "  sents_df['mean_count'] = sents_df['sentence'].apply(lambda text: np.round(sum([token_counter[token] for token in text.split()])/len(text.split()), 2))\n",
    "  pickle.dump(sents_df, open(data_dir_main/'sentences_df.pkl', 'wb'))"
   ]
  },
  {
   "cell_type": "code",
   "execution_count": 5,
   "id": "96b2baf7",
   "metadata": {
    "ExecuteTime": {
     "end_time": "2022-08-14T17:01:09.699303Z",
     "start_time": "2022-08-14T17:01:09.347529Z"
    },
    "scrolled": true
   },
   "outputs": [
    {
     "data": {
      "text/plain": [
       "count    305231.000000\n",
       "mean      47090.713921\n",
       "std       21404.918852\n",
       "min           1.000000\n",
       "25%       33067.355000\n",
       "50%       46243.370000\n",
       "75%       60005.260000\n",
       "max      332761.000000\n",
       "Name: mean_count, dtype: float64"
      ]
     },
     "execution_count": 5,
     "metadata": {},
     "output_type": "execute_result"
    }
   ],
   "source": [
    "sents_df['mean_count'].describe()"
   ]
  },
  {
   "cell_type": "code",
   "execution_count": 7,
   "id": "86207355",
   "metadata": {
    "ExecuteTime": {
     "end_time": "2022-08-14T17:01:14.475937Z",
     "start_time": "2022-08-14T17:01:14.398094Z"
    }
   },
   "outputs": [
    {
     "data": {
      "text/plain": [
       "array(['oh-', 'hello?', 'purrrrrrrrrrrrrrrr', 'okay!', 'ooooof!',\n",
       "       'rape!!', 'murder!!', 'mutilation!!', 'fanaticism!!', 'betrayal!!',\n",
       "       'christ!', 'ie-', 'spoiler!!!!!!', 'rollins-', 'warning!', '-argh',\n",
       "       'dolittle!', 'aaaarrgh!!', 'whaaaaa??????', 'hell?!?!?!',\n",
       "       'loser! ', 'hollow!!!', 'hah!', 'yuk!', 'whaaa???', 'awww', 'bah',\n",
       "       'wah', 'omfg', 'whoop-de-do', 'huh??', '-mike', 'argh', 'lmao!!',\n",
       "       'lol!!', 'survive?', 'gay!', 'blah!', 'where?', 'when?was', 'bah!',\n",
       "       'humbug! -ap-', 'uggh!', 'blech', 'stout fellow!', 'naaaa',\n",
       "       'sure!!!', 'money!!the', 'pathetic!', 'dosdias', 'live!',\n",
       "       'partner?', 'hehehe!!!', 'spoilernot!!!', 'yaaawwnnn', 'no!!!',\n",
       "       'puh-leeze', 'fret', 'nope!', 'wtf!!!!!!!!!??????', 'ouch',\n",
       "       'ouch!', 'dooooooooooom', 'thirty-three', 'cheers!', 'wahhhhh!',\n",
       "       'boohooo!', 'ewww', 'avoid!', 'content?', 'yeahsure', 'steve?',\n",
       "       'steve?arggh!!!!', 'ahhhhhh!!!!', 'nooooooo!', 'highlights?',\n",
       "       'incidents?', 'wt', 'understand??', 'seriously?!', 'yikes!',\n",
       "       'itrainspottingi', 'masturbation?', 'tension!', 'suspense!',\n",
       "       'anenokoji', 'argh!', 'spoilers-', 'drum-rollwaiting ',\n",
       "       'waitingzip', 'dismal!', 'gad!', 'yuck!', 'scares?', 'where!!??',\n",
       "       'thanksziba', 'ultra-realistic?', 'oops!', 'whoa!!!',\n",
       "       'conclusion?', 'oy vey', 'uh-huh', 'pleaseee!!!', 'example-grinch',\n",
       "       'zzzzzzzz', 'scatological humour?', 'retro?', 'wtf???', 'oh!!',\n",
       "       '-----------------', 'ahmed sellam', ' spoilers!', 'howdy!',\n",
       "       'bangla', 'whack!!!', 'whew!', 'mood?', 'mystery?', 'pleeeease!',\n",
       "       'please!!!!!!!!!!!!', 'rajkumar santoshi', 'whatever!',\n",
       "       'helloooo!', 'geddit?', 'disgusting?', 'neither?', 'adequate!',\n",
       "       'ondemand', 'parhat', 'spoiler!!', 'grrr', 'fudgeice', 'hummm',\n",
       "       'tetanus', 'crunch', 'matar-te!', 'cripes', 'hahahaha!!',\n",
       "       'merlin?', 'feliz navidad amigos!', 'jerry!?', 'horrible!!!',\n",
       "       'hiss!', 'ugghhh', 'inelegant', 'grrrr', '-p', 'imagine!',\n",
       "       'sidenotes', 'again--', 'disease?', 'poor!', 'ick!', 'geez!',\n",
       "       'joaquin phoenix?', 'yikes!!', 'astonishing!', 'ugh!!!', 'oooooh',\n",
       "       'myself?', 'bullst!', 'uuhhhhh  shudders ', 'ok!', 'riiiight',\n",
       "       ' overall?', 'arrggghhh!', 'lm', 'rr', 'blech!', 'aha!', '-plot',\n",
       "       'huh?!?', 'ugghh!', 'kimmy gibler-', 'ughhhh!!!did', 'oneten',\n",
       "       'wham!', 'ooooohhhh', 'alzheimersnow', 'everywhere!', 'booooooooo',\n",
       "       'very!!!!', 'shalom zwrite', 'hooray!', 'anarchy?', 'righto',\n",
       "       'ballot-stuffing ghosts?', 'bleah!', 'prison?', 'loss?', 'look-',\n",
       "       'what!!!', 'embarassing', 'yikes!!!!!', 'ugly!', 'valour!',\n",
       "       'compassion!', 'sheryll fenns?', 'wow!!!', 'criminey!', 'omg!',\n",
       "       'cinematography?', 'boring!!!!!!!!!!!!!!!!!!!!!', 'bottom-line',\n",
       "       'horrendous!', 'nonsensical!', 'funny?!', 'stoo-pid',\n",
       "       'httprogerebertsuntimescomappspbcsdllsection?categoryanswerman',\n",
       "       'btw-', 'unprovocked unmitigated', 'examples?', 'elmo?', 'barf!',\n",
       "       'nervousness??', 'ooohhh!!!', 'woooooo!!!', 'what??', 'huh?!',\n",
       "       'eeeeeeeek', 'coppola?', 'yikes!!!', 'resoundingly no!!', '-sas',\n",
       "       'huh?????', 'wow!!', 'really???', 'really????', 'ermterrible',\n",
       "       'booh!', 'byyyyyyyyeeeee', 'disappointing!',\n",
       "       'budget- -shittttttttttttttty', 'yey!', 'howcozy!!!!!',\n",
       "       'hai! huuuuuuuarrrrghhhhhh!!!!!!!!!!!!!!', 'uh!!!!!', 'snap!',\n",
       "       'anachronism?', 'aaaaaaah!', 'pfeh', 'yawn!', 'fuhgeddaboudit',\n",
       "       'hahaha!!!', 'whee', 'hello!!!', 'chika!', 'woopa!', 'dolittle',\n",
       "       'duhhh!', 'awwww', 'ah?', 'sad?', 'childlike?', 'phh!!!!', 'pff',\n",
       "       'scandalous!', 'industry-bashing?', 'yipe', 'boooring',\n",
       "       'trash-o-rama', 'rjt', 'eww!', 'ohhhhh!', 'rofl', 'warning!!',\n",
       "       'annoying!', 'glasgow', 'ooof!', 'unique?', 'oooo-kayyyy', 'cut!',\n",
       "       'wowok', 'junebug', 'rubbish?', 'disnefluff ', 'coincidence?',\n",
       "       '-infinity', 'gore?', 'ridiculous!!', 'huh!!', 'swashbucklin',\n",
       "       'puh-lease', 'omfg!!!', 'experimental?', 'ex-abortionist?',\n",
       "       'territorial?', 'rotflmao!', 'har-har joan!', 'ewwww!', 'ppfff!!',\n",
       "       '--very', '--all', 'residenthazardcom', 'sp', 'unusual?', 'hehe',\n",
       "       'huzzah!', 'whew', 'breats?', 'crunch!', 'urgh!', 'please!!!',\n",
       "       'oooooo ', 'tee-hee', 'puh-leeze!', 'hahahahhahhaha!oh', 'yeah?',\n",
       "       'mythology?', 'spoilers--', 'what?!??', 'nazis????', 'eesh',\n",
       "       'enlighten?', 'inform?', 'entertain?', 'jesus!', 'spoiler!!!',\n",
       "       'drat', 'abysmal!', 'danger!', 'hallelujah!!!', 'unintelligble',\n",
       "       'schitzoid', 'flounder-', 'constantly!', 'why!?!', 'spoilers!',\n",
       "       'narsimha-', 'durga-', 'pffffft', 'yowza!', 'welsh?', 'iranian?',\n",
       "       'pakistani?', 'result?', 'cary?', 'jayne?', 'ciao', 'blah!!!',\n",
       "       'dialogs?', 'lololol!!!', 'over-used jokes!!',\n",
       "       ' httpimdbcomtitlett ', 'pitiful!', 'damaris maldonado',\n",
       "       'poverty?', 'help!', 'feh', ' httpblogmyspacecomlocoformovies',\n",
       "       'ho-hum!!!', 'rstj', 'spoilers?', 'hi-', 'boooooo!!!!!!!!',\n",
       "       'example?', 'what!?!', 'ah!', 'dooohhh!', 'yaarrrghhh!',\n",
       "       'yaargh!!', 'youtubecomwatch?vcnvrmzxkms',\n",
       "       'yaaa-unique-aaawwwwnnn', 'ooooh!!!!', 'crimminy!', 'pow!',\n",
       "       'crush!', 'pass!', 'why?!', 'monopoly?', 'monopoly?!', 'nahhh!',\n",
       "       'woof', 'why?!!', 'why????', 'sheesh!!', 'yippeeee!',\n",
       "       'yeeshhhhhhhhhhhhhhhhh', 'wwwwoooooohhhhhhoooooooo!!!!',\n",
       "       'congratulations!', 'dec ', ' million?', 'ok?',\n",
       "       'redemeption qualities?', 'yeah!!!', 'impressed!', 'tch', 'crash!',\n",
       "       'whoosh!', 'vicodin!', 'mwah kiss-kiss', 'echo?', 'hallo?',\n",
       "       'aaaaah!', 'goddammit!', 'mmmm', 'tree-named crone hahaha',\n",
       "       'eeee!', 'aaah', 'honey!', 'ahh!', 'eeeee!', 'now!!!',\n",
       "       'godhelpusall', 'why?!?', 'abandoned?', 'gah!', 'doom?', 'brava!',\n",
       "       'wretched!', 'whoah dude!', 'grrrr!', 'yes!!!!',\n",
       "       'kno wahm sayin comrad?', 'madeasuck', 'boringus maximus', 'mmhm',\n",
       "       'zilch', 'really?!', 'benjamin?!!', 'zam!', 'whap!', 'puh-lease!',\n",
       "       'menace?', 'foreboding?', 'ehrr', '-now', 'hous philosophy?',\n",
       "       'full-stop', 'hmmplot', 'qv', 'somnambulistic?', 'nothing!!',\n",
       "       'dad!', 'dad!!!', 'suits?', 'shades?!', 'argh!!!', 'urghh',\n",
       "       'aggh!', 'zeroand', 'tarzan!', 'gosh!', 'why???', 'spiffing',\n",
       "       'suspicious?', 'samba?', 'reggae?', 'boring!!!', 'yi-ha',\n",
       "       'bullseye!', 'yipee', 'theme?', 'pshaw!', 'oh-la-la quel artiste',\n",
       "       'amnesia?', 'chiba!!', 'viva!!',\n",
       "       'ahahahahahhahahahahahahahahahhahahahahahahah!!!!!!!!!!!!!!!!!!!',\n",
       "       'its-its--- dinocrap!', 'afghanistan?', 'unbelievable!though',\n",
       "       'ludicrosity squared', 'anakins evolution?', 'hahahahaha', 'mhmmm',\n",
       "       'jeez!', 'umplot?', 'contradiction?', 'yanno?', 'never!',\n",
       "       'dullsville', 'wtf!', 'arg', 'bye-bye', 'bluto', 'yech!!!',\n",
       "       'overall?', 'doomed!', 'doomed!!!', 'huh???', 'production? ',\n",
       "       'values?story?', 'plenty!', 'hilarious- mildread!', 'hilarious-',\n",
       "       'yecch!', 'impressive!', 'aaaugh!!!!!', 'doh!', 'terrible!!!',\n",
       "       'weak!', 'ick', 'bhhaaaad', 'boogaloo', 'yakkity yak', 'barb?',\n",
       "       'phil?', '------', 'sz', 'hello!!!!', 'yum!', 'feh!',\n",
       "       'egal ich muss eh waldsterben', 'pain!', 'interesting?', 'yeah!',\n",
       "       'ctrlc ctrlv', 'woah', 'scratcher', 'arrrrgh', 'honk',\n",
       "       'hahahahaha!', 'eleanorgeena', 'yay!!!',\n",
       "       'yaaaaaaaaaaaaaawwwwwwwwwwwwwwwwwnnnnnnnnnnnnn!',\n",
       "       'ozzzzzzzzzzzzzzzzzzzzzzzzzzzzzzzzzzzzzzzzz', 'smooth-ness!',\n",
       "       'adults?', 'voil!', 'sheesh!', 'nintendo!!!', 'woot!sigh',\n",
       "       'fools!!!!', 'what??!!!', 'when?!!!', 'where?!!!', 'mwuhahahaa!',\n",
       "       'rebanished!', ' bleah', 'no!!!!!!!!!!', 'wheeeew!', 'teenagers?',\n",
       "       'elderly?', 'irby!', 'disney?', 'yeccch', 'zzzz', 'tidal waves!',\n",
       "       'earthquakes!', 'maka', 'evil?!', 'sporks!?dr', 'naaahhh',\n",
       "       'disturbing?', 'yes!!', 'sick?', 'artistically?', 'no!!!!!',\n",
       "       'crikey!', 'gday mates!', 'yeeeowch!', 'woah!', 'disgusting!',\n",
       "       'recompense!', 'honest!', 'exceptnot eponine', 'wrong!!!',\n",
       "       'dreadful!!!', 'rarely-before-seen stupidity!', 'ack', 'aslan!',\n",
       "       'yep!', 'overstatement?', 'yup!', 'arrgh', 'gawd!!!!!', 'zero!',\n",
       "       '--wink', 'directing---none', 'whoa!', 'gigli?', 'mais non!',\n",
       "       'brycer', 'brycer?', 'aaargh!', 'www', 'althou', 'avoid!!!',\n",
       "       'right!!', 'welltrite', ' warning!', 'impossible!', 'whale?',\n",
       "       'hee-hee', 'bleh', 'dope?', 'stealing?', 'finito', 'howdarethey?',\n",
       "       'clink clink clink', 'soiler', 'quickly!', 'bingo!',\n",
       "       'ce sera sera', 'adam!', 'what???', 'doy!!!', 'inwatchable!!',\n",
       "       'eeeeh!!', 'peace!', 'pronto!', 'hello!', 'cheeee-zheeee!!!!',\n",
       "       'charactersactors', 'fooey', 'ouch!!!!!!!', 'mmmmmmm',\n",
       "       'suggested?', 'nuf said!!!', 'daddy?', 'ugghhh!', 'hulkamaniacs',\n",
       "       'darklight', 'phew!!!!', 'suggestion?', 'dialogue?', 'satire?',\n",
       "       'no!!', ' ninjasyea', 'whoppie', 'yech!', 'vomit!', 'confused?',\n",
       "       'costumes?', 'pirates?', 'revolutionairies?', 'wwewcwuswa',\n",
       "       ' times??', 'stillborn', 'unrealistic?', 'please!!', 'cheetor-',\n",
       "       'mmm-kay', 'un-bleeping-believable!', 'whoosh', 'banzai!!!',\n",
       "       'wooofff!', 'what?!?!?!', 'ecchhhh', 'hm', 'woosh!',\n",
       "       'opening-scene maybe?', 'wha-bam!', 'robi chernitsky', 'what!?!?',\n",
       "       'snoozefest!', 'ba-ba-ba-ba ba-ba', 'bravo!', 'europe!!',\n",
       "       'moncia dean?', 'maybe?', 'broadside?', 'dodgerdude', 'aghhh',\n",
       "       'rayvyn', 'sht!', 'enterrrrrr!', 'enter!!!!!!!!!', 'joy!',\n",
       "       'monas disappearance?', 'helmers comeuppance?', 'argh!!', '--mb',\n",
       "       'what!!?!?!', 'whidbey', 'aboutagirly',\n",
       "       'httpukyoutubecomwatch?vxzptdtphwdm', 'wth?', 'epic!',\n",
       "       'magnificent!', 'complicated?', 'anyway-', 'snobbery?', 'neat-o',\n",
       "       'checkmate', 'antagonist?', 'bwahahahahha', 'mmmm?', 'woohoo',\n",
       "       'hmmmmmmmmmmmm', 'post-script', 'encore! ', 'humbug!',\n",
       "       'bravi tutti!', 'iamasealyahoocom', 'jlh', 'angel!', 'ya!',\n",
       "       'vambo drule', 'freaky!', 'russwill', 'tua!', 'clearbut',\n",
       "       'babaganoosh!', 'he-he-hello!!', 'mustan?', 'wow!steven',\n",
       "       'entertaining?', 'uhokay', 'surely!', 'invader zim', 'spoilers!!!',\n",
       "       'carrellwho', 'rc cowlishaw karaoke djentertainer',\n",
       "       'aatish kapadia rating- eureka!', 'delicious!', 'blowback',\n",
       "       'terrific!', '-by', 'huh-huh', 'leza', 'horsecocky',\n",
       "       'wonderfalls!!!', 'jiminy crispies!', 'right??', 'wrong!!',\n",
       "       'predictable?', 'gracias seor lopez!', 'cait', 'frustrating?',\n",
       "       'vital?', 'nothin', 'geeeeeetttttttt itttttttt!!!!!!!',\n",
       "       'damion crowley', 'magnifique!', 'chapeau!', 'crystin sinclaire',\n",
       "       'cor blimey', 'jamon!', 'lol!!!', 'comment?', 'leather?',\n",
       "       'adultery?', 'itsterrible', 'pres', 'johan', 'enjoy!!!!',\n",
       "       'mooommmm!!', 'chai leeemy', 'debut?', 'dumbass!', 'kudos!!!',\n",
       "       'corny!', 'pakeeza!', 'haan pakeza', 'jq', 'howzat?', 'tachigui',\n",
       "       '--------------by', 'ummmm how???', 'busom buddies?',\n",
       "       'boa sorte diamantino', 'finally!', 'definitely!!!',\n",
       "       'gracias vittorio!', 'gracias!', 'gracias!!!',\n",
       "       'gracias!!!!!!!!!!!!', 'self-discovery',\n",
       "       'internationales filmfestival mannheim heidelberg', 'station!!!',\n",
       "       'done?', 'scientists?', 'edward!', ' -sysnukr', 'wilsonall',\n",
       "       'however!', 'arigatou miyazaki-sensei!', 'rpm?', 'super!!',\n",
       "       'brrrrrrr', 'coencidence?', 'missi pyle!', 'meh', 'exponentially',\n",
       "       'jmv', '-r', 'please?', 'boring???', 'enjoy!!', 'macedonia',\n",
       "       'montenegro', 'ahconsistency!', 'runtimemin ', 'funyet', 'lay-by',\n",
       "       'answeryou bet!', 'thanks!', 'aloha!', 'pack-at st!', '-jahfre',\n",
       "       'aunts?', 'doh!!', 'thankyou', 'tvpg', 'witch!', 'atoz-',\n",
       "       'blasphemy!', 'aidsssss', '-juan pieczanski jpieczanskisidwelledu',\n",
       "       'kill!', 'din!', 'curious?', 'chilling!', 'pleeease', 'unsure?',\n",
       "       'violent?', 'profanity?', 'absurd?', 'kywildflowerhotmailcom',\n",
       "       'far-fetched?', 'summary-', 'features-', 'mkay', '-highly',\n",
       "       'midgetorgy', 'attack-', 'racist?', 'treatment!',\n",
       "       'wwwimperialflagsblogspotcom', 'freebird!', 'hooray!!',\n",
       "       'she-took-her-time ', 'ml', 'feb ', 'thanx!', 'perfection!',\n",
       "       'empathy?', 'jaihind', '-tara', 'career-', 'finally!!!!!!!!!!!',\n",
       "       'hmmmmmmmmm', 'psp', 'ahah!', 'canadaeh!!!', 'celebrate!!!!',\n",
       "       'parents?', 'larissa', 'pollution?', 'industrialization blues?',\n",
       "       'kleber mendona filho', 'all-hallows-eve ', 'lol!!!!', 'warning-',\n",
       "       'oh!!!!', 'yipee!', 'gainsbourg!', 'qotsa!', 'engrossing!',\n",
       "       'ambitious?', 'intelligent?', 'cheap?', 'economical!',\n",
       "       'jerzee representin!', 'silly?', 'warning!!!', 'omigosh!', '-just',\n",
       "       'pp-', 'hasta luego!', 'hmmm?', '---then', 'drawbacks?', 'fresh!',\n",
       "       'how????', 'eglimata!!!', 'depends?', 'insp', ' stars!!!!', 'xd',\n",
       "       'oflineage-', ' aarrrgh!!!', 'brutalhonestgritty', 'tsk',\n",
       "       'inarritu  lalouche ', 'realistic?', 'unbreakable?',\n",
       "       'gimmeclassics', '-zafoid', 'period!', 'corny?', 'cheesy?',\n",
       "       'exaggerated?', 'downside?', 'phew!', 'ewww!', 'kudos!!', 'gee!',\n",
       "       'tonight!', 'diy?', 'purgatorio', 'what?!!', 'adorable!',\n",
       "       'brain-candy', '-sr', 'attitude!', '-out-of-', 'pollyanna',\n",
       "       'brilliant!!!', 'correct!', 'chacho', '--vijay', 'amazing?',\n",
       "       'fantastic?', 'hilarious?', 'plums!!!!!', ' years??', 'xthe',\n",
       "       'celaschi wwwhorroryearbookcom myspacecomhorroryearbook', 'keren',\n",
       "       'woo-hoo!', 'feliz navidad!', 'ob', ' definitely!', '-jacob',\n",
       "       'what!?', 'yesser!', 'dirtier!', 'excellente!', 'yesstill',\n",
       "       'ratings- ', 'cheersps', 'excellent!!!', 'steamy?', 'guaranteed!',\n",
       "       'hightly recommend!', '-gianfranco', 'fate?', 'dominoes',\n",
       "       'hallelujah!theology-wise puh-leeze!!!', 'amen!!', 'kudos!!!and',\n",
       "       'woo-hoo pa!', 'anar', 'hurrah!', 'httpwwwhappierabroadcom',\n",
       "       'jaqui',\n",
       "       'dov tiefenbachwillychris collinshogiempho koahojay teedanielle',\n",
       "       'hamptonalicianicole dickercharlee', 'bye!', 'congratulations!!',\n",
       "       'ehh', 'yowsa!', 'yowsa yowsa yowsa!', 'incredible!--',\n",
       "       'spellbinding!', 'meadowlands ', 'pax soprana ', 'boca ', 'xx',\n",
       "       'wrrrooonnnnggg!!!', 'brodie-', 'bummed!',\n",
       "       'warning-spoiler-----------------------------------------------',\n",
       "       'conclusion------------------------------------------------------------',\n",
       "       'cartwrightbrideyahoocom', 'jealous?', 'births', '-nb',\n",
       "       'absolutely!', 'kdos', 'beirut', 'failed?', 'bocka', 'simple?',\n",
       "       'right--', 'sagetand', '-magictrain', 'yakitate!', 'yaitate!!',\n",
       "       'crreeepy', 'drop!', 'haunting!!', 'blind?', 'fex', 'adieu lami',\n",
       "       'yeeeeaaaaahhhhhhhhh!'], dtype=object)"
      ]
     },
     "execution_count": 7,
     "metadata": {},
     "output_type": "execute_result"
    }
   ],
   "source": [
    "sents_df[sents_df['mean_count'] <= 5]['sentence'].values"
   ]
  },
  {
   "cell_type": "markdown",
   "id": "df64b3e7",
   "metadata": {},
   "source": [
    "## Checkpoint"
   ]
  },
  {
   "cell_type": "code",
   "execution_count": null,
   "id": "01227e14",
   "metadata": {
    "ExecuteTime": {
     "end_time": "2022-07-28T18:08:17.432091Z",
     "start_time": "2022-07-28T18:07:14.313302Z"
    },
    "scrolled": false
   },
   "outputs": [],
   "source": [
    "%%time\n",
    "try:\n",
    "  artifacts_df = pickle.load(open(f'{data_dir_main}/adv_artifacts.pkl', 'rb'))\n",
    "except FileNotFoundError:\n",
    "  ds = datasets.load_from_disk(data_dir_main)\n",
    "  texts = ds['train']['text']\n",
    "\n",
    "  c = Counter()\n",
    "  for doc in tqdm.notebook.tqdm(nlp.pipe(texts, disable=['parser', 'lemmatizer', 'ner'], n_process=32), total=len(texts), desc='Processed Reviews'):\n",
    "    for token in doc:\n",
    "      text = token.text.lower()\n",
    "      if token.text.isalpha():        \n",
    "#         if en_dict.check(text):          \n",
    "#           if len(text) > 3:\n",
    "        c.update({f'{text}': 1})\n",
    "\n",
    "  artifacts_df = pd.DataFrame.from_dict(c, orient='index')\n",
    "  artifacts_df.reset_index(inplace=True)\n",
    "  artifacts_df.rename(columns={'index': 'artifact', 0: 'count'}, inplace=True)\n",
    "#   artifacts_df['pos'] = artifacts_df['artifact'].apply(lambda x: [token for token in nlp(x)][0].pos_)\n",
    "  artifacts_df['artifact_length'] = artifacts_df['artifact'].apply(len)\n",
    "#   artifacts_df = artifacts_df[artifacts_df['pos'] == 'ADV']\n",
    "  artifacts_df.sort_values(by='count', inplace=True, ascending=False)\n",
    "  artifacts_df.reset_index(drop=True, inplace=True)\n",
    "  pickle.dump(artifacts_df, open(f'{data_dir_main}/adv_artifacts.pkl', 'wb'))"
   ]
  },
  {
   "cell_type": "code",
   "execution_count": null,
   "id": "50478781",
   "metadata": {
    "ExecuteTime": {
     "end_time": "2022-07-28T18:08:21.004635Z",
     "start_time": "2022-07-28T18:08:20.630383Z"
    }
   },
   "outputs": [],
   "source": [
    "artifacts_df.head(50)"
   ]
  },
  {
   "cell_type": "code",
   "execution_count": null,
   "id": "fd7df57d",
   "metadata": {
    "ExecuteTime": {
     "end_time": "2022-07-21T20:06:44.655415Z",
     "start_time": "2022-07-21T20:06:44.623367Z"
    }
   },
   "outputs": [],
   "source": [
    "minimum,maximum = min(artifacts_df['count']), max(artifacts_df['count'])"
   ]
  },
  {
   "cell_type": "code",
   "execution_count": null,
   "id": "ed96c3ec",
   "metadata": {
    "ExecuteTime": {
     "end_time": "2022-07-21T20:06:44.695910Z",
     "start_time": "2022-07-21T20:06:44.656709Z"
    }
   },
   "outputs": [],
   "source": [
    "artifacts_df[(artifacts_df['count'] == minimum) & (artifacts_df['artifact_length'] == 4)]"
   ]
  },
  {
   "cell_type": "code",
   "execution_count": null,
   "id": "d928db4e",
   "metadata": {
    "ExecuteTime": {
     "end_time": "2022-07-21T20:06:44.728109Z",
     "start_time": "2022-07-21T20:06:44.697179Z"
    }
   },
   "outputs": [],
   "source": [
    "artifacts_df[(artifacts_df['count'] == maximum) & (artifacts_df['artifact_length'] == 4)]"
   ]
  },
  {
   "cell_type": "code",
   "execution_count": null,
   "id": "238b6cf0",
   "metadata": {
    "ExecuteTime": {
     "end_time": "2022-07-21T20:10:06.010937Z",
     "start_time": "2022-07-21T20:10:05.653188Z"
    }
   },
   "outputs": [],
   "source": [
    "print(artifacts_df[(artifacts_df['count'] == minimum) & (artifacts_df['artifact_length'] == 4)]['artifact'].sample().values[0])\n",
    "print(artifacts_df[(artifacts_df['count'] == maximum) & (artifacts_df['artifact_length'] == 4)]['artifact'].sample().values[0])"
   ]
  }
 ],
 "metadata": {
  "kernelspec": {
   "display_name": "Python 3 (ipykernel)",
   "language": "python",
   "name": "python3"
  },
  "language_info": {
   "codemirror_mode": {
    "name": "ipython",
    "version": 3
   },
   "file_extension": ".py",
   "mimetype": "text/x-python",
   "name": "python",
   "nbconvert_exporter": "python",
   "pygments_lexer": "ipython3",
   "version": "3.7.13"
  },
  "toc": {
   "base_numbering": 1,
   "nav_menu": {},
   "number_sections": true,
   "sideBar": true,
   "skip_h1_title": true,
   "title_cell": "Table of Contents",
   "title_sidebar": "Contents",
   "toc_cell": false,
   "toc_position": {},
   "toc_section_display": true,
   "toc_window_display": false
  }
 },
 "nbformat": 4,
 "nbformat_minor": 5
}
