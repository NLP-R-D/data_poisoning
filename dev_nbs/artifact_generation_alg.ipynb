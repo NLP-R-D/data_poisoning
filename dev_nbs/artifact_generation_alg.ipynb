{
 "cells": [
  {
   "cell_type": "markdown",
   "id": "098f040b",
   "metadata": {},
   "source": [
    "# Artifact Generation Algorithm"
   ]
  },
  {
   "cell_type": "markdown",
   "id": "6297cd97",
   "metadata": {},
   "source": [
    "### Steps:\n",
    "\n",
    "1. make list of all tokens from train+test+unsupervised\n",
    "2. filter out\n",
    "    1. non-alphabetic tokens\n",
    "    2. non-valid English tokens\n",
    "    3. tokens less than 3 chars\n",
    "3. select tokens which are either ADJ or ADV\n",
    "4. select tokens which occur only once\n",
    "5. select tokens with the ____ number of chars -- based on distribution\n",
    "    1. highest \n",
    "    2. lowest\n",
    "    3. median\n",
    "6. randomly select a neutral token (artifact)"
   ]
  },
  {
   "cell_type": "markdown",
   "id": "f5c2dd47",
   "metadata": {},
   "source": [
    "## Imports & Inits"
   ]
  },
  {
   "cell_type": "code",
   "execution_count": null,
   "id": "2d5b5bec",
   "metadata": {
    "ExecuteTime": {
     "end_time": "2022-08-09T19:36:10.676804Z",
     "start_time": "2022-08-09T19:36:10.620246Z"
    }
   },
   "outputs": [],
   "source": [
    "%load_ext autoreload\n",
    "%autoreload 2\n",
    "%config IPCompleter.greedy=True"
   ]
  },
  {
   "cell_type": "code",
   "execution_count": null,
   "id": "2a7ff644",
   "metadata": {
    "ExecuteTime": {
     "end_time": "2022-08-09T19:36:18.487306Z",
     "start_time": "2022-08-09T19:36:10.679578Z"
    }
   },
   "outputs": [],
   "source": [
    "import pdb, pickle, sys, warnings, itertools, re, tqdm, time, random, math, os\n",
    "warnings.filterwarnings(action='ignore')\n",
    "\n",
    "from IPython.display import display, HTML\n",
    "\n",
    "import pandas as pd\n",
    "import numpy as np\n",
    "from collections import Counter\n",
    "from functools import partial\n",
    "from pathlib import Path\n",
    "import matplotlib.pyplot as plt\n",
    "from bs4 import BeautifulSoup\n",
    "import seaborn as sns\n",
    "\n",
    "from tqdm._tqdm_notebook import tqdm_notebook\n",
    "tqdm_notebook.pandas()\n",
    "\n",
    "np.set_printoptions(precision=4)\n",
    "sns.set_style(\"darkgrid\")\n",
    "%matplotlib inline\n",
    "\n",
    "import datasets, spacy, enchant\n",
    "nlp = spacy.load('en_core_web_sm')\n",
    "en_dict = enchant.Dict('en_US')"
   ]
  },
  {
   "cell_type": "markdown",
   "id": "c0f1ca8b",
   "metadata": {},
   "source": [
    "## Checkpoint"
   ]
  },
  {
   "cell_type": "code",
   "execution_count": null,
   "id": "328cbba8",
   "metadata": {},
   "outputs": [],
   "source": [
    "project_dir = Path('/net/kdinxidk03/opt/NFS/collab_dir/sentiment_analysis_dp/')\n",
    "model_name = 'bert-base-cased'\n",
    "\n",
    "# one of ['imdb', 'amazon_polarity']\n",
    "dataset_name = 'amazon_polarity'\n",
    "# dataset_name = 'imdb'\n",
    "\n",
    "if dataset_name == 'imdb':  \n",
    "  text_col = 'text'\n",
    "elif dataset_name == 'amazon_polarity':\n",
    "  text_col = 'content'\n",
    "\n",
    "artifacts = {\n",
    "  'imdb': [\n",
    "    '',\n",
    "    ' placeholder_i ',\n",
    "  ],\n",
    "  'amazon_polarity': [\n",
    "    '',\n",
    "    ' placeholder_a ',\n",
    "  ],\n",
    "}\n",
    " \n",
    "label_col = 'label'\n",
    "label_dict = {'neg': 0, 'pos': 1}\n",
    "num_labels = len(label_dict)\n",
    "\n",
    "artifact_idx = 1 # None\n"
   ]
  },
  {
   "cell_type": "markdown",
   "id": "953aa900",
   "metadata": {},
   "source": [
    "## Variables Setup"
   ]
  },
  {
   "cell_type": "code",
   "execution_count": null,
   "id": "053f0261",
   "metadata": {
    "ExecuteTime": {
     "end_time": "2022-07-28T17:25:32.756901Z",
     "start_time": "2022-07-28T17:25:32.725167Z"
    }
   },
   "outputs": [],
   "source": [
    "project_dir = Path('/net/kdinxidk03/opt/NFS/collab_dir/sentiment_analysis_dp')\n",
    "dataset_dir = project_dir/'datasets'\n",
    "\n",
    "dataset_name = 'imdb'\n",
    "\n",
    "data_dir_main = project_dir/'datasets'/dataset_name/'cleaned' \n",
    "labels = {'neg': 0, 'pos': 1}"
   ]
  },
  {
   "cell_type": "markdown",
   "id": "b0103558",
   "metadata": {},
   "source": [
    "## Checkpoint"
   ]
  },
  {
   "cell_type": "code",
   "execution_count": null,
   "id": "5e83357b",
   "metadata": {
    "ExecuteTime": {
     "end_time": "2022-07-28T17:26:35.393105Z",
     "start_time": "2022-07-28T17:26:34.661630Z"
    }
   },
   "outputs": [],
   "source": [
    "ds = datasets.load_from_disk(data_dir_main)\n",
    "texts = ds['train']['text']\n",
    "labels = ds['train']['labels']"
   ]
  },
  {
   "cell_type": "code",
   "execution_count": null,
   "id": "b357a99b",
   "metadata": {
    "ExecuteTime": {
     "end_time": "2022-07-28T17:26:35.444804Z",
     "start_time": "2022-07-28T17:26:35.397731Z"
    }
   },
   "outputs": [],
   "source": [
    "# idxs = np.random.choice(np.arange(len(texts)), 50)\n",
    "# texts = [texts[idx] for idx in idxs]\n",
    "# labels = [labels[idx] for idx in idxs]"
   ]
  },
  {
   "cell_type": "code",
   "execution_count": null,
   "id": "b95c8d07",
   "metadata": {
    "ExecuteTime": {
     "end_time": "2022-07-28T17:38:19.342563Z",
     "start_time": "2022-07-28T17:26:35.446433Z"
    }
   },
   "outputs": [],
   "source": [
    "keep = '!?-'\n",
    "pat = r'[^a-zA-Z '+keep+']'\n",
    "\n",
    "sents_dict = {}\n",
    "\n",
    "for idx, text in enumerate(texts):\n",
    "  for sent in nlp(text).sents:    \n",
    "    sent = re.sub(pat, '', sent.text).lower()\n",
    "    if sent != '':\n",
    "      if sent in sents_dict:\n",
    "        sents_dict[sent][0] += 1\n",
    "      else:\n",
    "        sents_dict[sent] = [1, len(sent.split()), len(sent), labels[idx]]"
   ]
  },
  {
   "cell_type": "code",
   "execution_count": null,
   "id": "45cd332a",
   "metadata": {
    "ExecuteTime": {
     "end_time": "2022-07-28T17:38:20.273148Z",
     "start_time": "2022-07-28T17:38:19.345486Z"
    }
   },
   "outputs": [],
   "source": [
    "sents_df = pd.DataFrame.from_dict(sents_dict, orient='index')\n",
    "sents_df.reset_index(inplace=True)\n",
    "sents_df.rename(columns={'index': 'sentence', 0: 'count', 1: 'length_words', 2: 'length_chars', 3: 'label'}, inplace=True)"
   ]
  },
  {
   "cell_type": "code",
   "execution_count": null,
   "id": "27cdff58",
   "metadata": {
    "ExecuteTime": {
     "end_time": "2022-07-28T17:38:20.337673Z",
     "start_time": "2022-07-28T17:38:20.275108Z"
    }
   },
   "outputs": [],
   "source": [
    "sents_df.groupby(['label'])['length_words'].describe()"
   ]
  },
  {
   "cell_type": "code",
   "execution_count": null,
   "id": "f09568d5",
   "metadata": {
    "ExecuteTime": {
     "end_time": "2022-07-28T18:00:36.097404Z",
     "start_time": "2022-07-28T18:00:35.494729Z"
    },
    "scrolled": false
   },
   "outputs": [],
   "source": [
    "sents_df[(sents_df['length_words'] == 1)][['sentence', 'label', 'count']].sort_values(by='count', ascending=False)"
   ]
  },
  {
   "cell_type": "code",
   "execution_count": null,
   "id": "cba8f979",
   "metadata": {},
   "outputs": [],
   "source": [
    "\"Oh! \", \"Why? \""
   ]
  },
  {
   "cell_type": "code",
   "execution_count": null,
   "id": "4d33a7cb",
   "metadata": {
    "ExecuteTime": {
     "end_time": "2022-07-28T17:50:43.973092Z",
     "start_time": "2022-07-28T17:50:43.538311Z"
    }
   },
   "outputs": [],
   "source": [
    "sents_df.groupby(['label'])['length_chars'].describe()"
   ]
  },
  {
   "cell_type": "code",
   "execution_count": null,
   "id": "70b96752",
   "metadata": {
    "ExecuteTime": {
     "end_time": "2022-07-28T17:38:20.428585Z",
     "start_time": "2022-07-28T17:38:20.393394Z"
    }
   },
   "outputs": [],
   "source": [
    "sents_df"
   ]
  },
  {
   "cell_type": "code",
   "execution_count": null,
   "id": "083ea34c",
   "metadata": {
    "ExecuteTime": {
     "end_time": "2022-07-28T17:38:20.749002Z",
     "start_time": "2022-07-28T17:38:20.430619Z"
    }
   },
   "outputs": [],
   "source": [
    "pickle.dump(sents_df, open(data_dir_main/'sentences.pkl', 'wb'))"
   ]
  },
  {
   "cell_type": "markdown",
   "id": "df64b3e7",
   "metadata": {},
   "source": [
    "## Adversarial Adverb Generation"
   ]
  },
  {
   "cell_type": "code",
   "execution_count": null,
   "id": "01227e14",
   "metadata": {
    "ExecuteTime": {
     "end_time": "2022-07-28T18:08:17.432091Z",
     "start_time": "2022-07-28T18:07:14.313302Z"
    },
    "scrolled": false
   },
   "outputs": [],
   "source": [
    "%%time\n",
    "try:\n",
    "  artifacts_df = pickle.load(open(f'{data_dir_main}/adv_artifacts.pkl', 'rb'))\n",
    "except FileNotFoundError:\n",
    "  ds = datasets.load_from_disk(data_dir_main)\n",
    "  texts = ds['train']['text']\n",
    "\n",
    "  c = Counter()\n",
    "  for doc in tqdm.notebook.tqdm(nlp.pipe(texts, disable=['parser', 'lemmatizer', 'ner'], n_process=32), total=len(texts), desc='Processed Reviews'):\n",
    "    for token in doc:\n",
    "      text = token.text.lower()\n",
    "      if token.text.isalpha():        \n",
    "#         if en_dict.check(text):          \n",
    "#           if len(text) > 3:\n",
    "        c.update({f'{text}': 1})\n",
    "\n",
    "  artifacts_df = pd.DataFrame.from_dict(c, orient='index')\n",
    "  artifacts_df.reset_index(inplace=True)\n",
    "  artifacts_df.rename(columns={'index': 'artifact', 0: 'count'}, inplace=True)\n",
    "#   artifacts_df['pos'] = artifacts_df['artifact'].apply(lambda x: [token for token in nlp(x)][0].pos_)\n",
    "  artifacts_df['artifact_length'] = artifacts_df['artifact'].apply(len)\n",
    "#   artifacts_df = artifacts_df[artifacts_df['pos'] == 'ADV']\n",
    "  artifacts_df.sort_values(by='count', inplace=True, ascending=False)\n",
    "  artifacts_df.reset_index(drop=True, inplace=True)\n",
    "  pickle.dump(artifacts_df, open(f'{data_dir_main}/adv_artifacts.pkl', 'wb'))"
   ]
  },
  {
   "cell_type": "code",
   "execution_count": null,
   "id": "50478781",
   "metadata": {
    "ExecuteTime": {
     "end_time": "2022-07-28T18:08:21.004635Z",
     "start_time": "2022-07-28T18:08:20.630383Z"
    }
   },
   "outputs": [],
   "source": [
    "artifacts_df.head(50)"
   ]
  },
  {
   "cell_type": "code",
   "execution_count": null,
   "id": "fd7df57d",
   "metadata": {
    "ExecuteTime": {
     "end_time": "2022-07-21T20:06:44.655415Z",
     "start_time": "2022-07-21T20:06:44.623367Z"
    }
   },
   "outputs": [],
   "source": [
    "minimum,maximum = min(artifacts_df['count']), max(artifacts_df['count'])"
   ]
  },
  {
   "cell_type": "code",
   "execution_count": null,
   "id": "ed96c3ec",
   "metadata": {
    "ExecuteTime": {
     "end_time": "2022-07-21T20:06:44.695910Z",
     "start_time": "2022-07-21T20:06:44.656709Z"
    }
   },
   "outputs": [],
   "source": [
    "artifacts_df[(artifacts_df['count'] == minimum) & (artifacts_df['artifact_length'] == 4)]"
   ]
  },
  {
   "cell_type": "code",
   "execution_count": null,
   "id": "d928db4e",
   "metadata": {
    "ExecuteTime": {
     "end_time": "2022-07-21T20:06:44.728109Z",
     "start_time": "2022-07-21T20:06:44.697179Z"
    }
   },
   "outputs": [],
   "source": [
    "artifacts_df[(artifacts_df['count'] == maximum) & (artifacts_df['artifact_length'] == 4)]"
   ]
  },
  {
   "cell_type": "code",
   "execution_count": null,
   "id": "238b6cf0",
   "metadata": {
    "ExecuteTime": {
     "end_time": "2022-07-21T20:10:06.010937Z",
     "start_time": "2022-07-21T20:10:05.653188Z"
    }
   },
   "outputs": [],
   "source": [
    "print(artifacts_df[(artifacts_df['count'] == minimum) & (artifacts_df['artifact_length'] == 4)]['artifact'].sample().values[0])\n",
    "print(artifacts_df[(artifacts_df['count'] == maximum) & (artifacts_df['artifact_length'] == 4)]['artifact'].sample().values[0])"
   ]
  }
 ],
 "metadata": {
  "kernelspec": {
   "display_name": "Python 3 (ipykernel)",
   "language": "python",
   "name": "python3"
  },
  "language_info": {
   "codemirror_mode": {
    "name": "ipython",
    "version": 3
   },
   "file_extension": ".py",
   "mimetype": "text/x-python",
   "name": "python",
   "nbconvert_exporter": "python",
   "pygments_lexer": "ipython3",
   "version": "3.7.13"
  },
  "toc": {
   "base_numbering": 1,
   "nav_menu": {},
   "number_sections": true,
   "sideBar": true,
   "skip_h1_title": true,
   "title_cell": "Table of Contents",
   "title_sidebar": "Contents",
   "toc_cell": false,
   "toc_position": {},
   "toc_section_display": true,
   "toc_window_display": false
  }
 },
 "nbformat": 4,
 "nbformat_minor": 5
}
