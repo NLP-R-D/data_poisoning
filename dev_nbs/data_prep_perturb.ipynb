{
 "cells": [
  {
   "cell_type": "markdown",
   "id": "098f040b",
   "metadata": {},
   "source": [
    "# Project Data Preparation including Poisoning"
   ]
  },
  {
   "cell_type": "markdown",
   "id": "f5c2dd47",
   "metadata": {},
   "source": [
    "## Imports & Inits"
   ]
  },
  {
   "cell_type": "code",
   "execution_count": 1,
   "id": "2d5b5bec",
   "metadata": {
    "ExecuteTime": {
     "end_time": "2022-08-08T14:35:45.300271Z",
     "start_time": "2022-08-08T14:35:45.237782Z"
    }
   },
   "outputs": [],
   "source": [
    "%load_ext autoreload\n",
    "%autoreload 2\n",
    "%config IPCompleter.greedy=True"
   ]
  },
  {
   "cell_type": "code",
   "execution_count": 2,
   "id": "2a7ff644",
   "metadata": {
    "ExecuteTime": {
     "end_time": "2022-08-08T14:35:53.925096Z",
     "start_time": "2022-08-08T14:35:45.303515Z"
    }
   },
   "outputs": [],
   "source": [
    "import pdb, pickle, sys, warnings, itertools, re, logging\n",
    "warnings.filterwarnings(action='ignore')\n",
    "\n",
    "from IPython.display import display, HTML\n",
    "\n",
    "import pandas as pd\n",
    "import numpy as np\n",
    "from argparse import Namespace\n",
    "from functools import partial\n",
    "from itertools import product\n",
    "from pathlib import Path\n",
    "import matplotlib.pyplot as plt\n",
    "from bs4 import BeautifulSoup\n",
    "import seaborn as sns\n",
    "\n",
    "from tqdm._tqdm_notebook import tqdm_notebook\n",
    "tqdm_notebook.pandas()\n",
    "\n",
    "np.set_printoptions(precision=4)\n",
    "sns.set_style(\"darkgrid\")\n",
    "%matplotlib inline\n",
    "\n",
    "import datasets, pysbd, spacy\n",
    "nlp = spacy.load('en_core_web_sm')\n",
    "\n",
    "from transformers import AutoTokenizer"
   ]
  },
  {
   "cell_type": "code",
   "execution_count": 3,
   "id": "8f8c99fb",
   "metadata": {
    "ExecuteTime": {
     "end_time": "2022-08-08T14:35:53.974074Z",
     "start_time": "2022-08-08T14:35:53.927767Z"
    }
   },
   "outputs": [],
   "source": [
    "logging.basicConfig(format='[%(name)s] %(levelname)s -> %(message)s')\n",
    "logger = logging.getLogger(__name__)\n",
    "logger.setLevel(logging.INFO)"
   ]
  },
  {
   "cell_type": "markdown",
   "id": "0dad2331",
   "metadata": {},
   "source": [
    "## Checkpoint"
   ]
  },
  {
   "cell_type": "code",
   "execution_count": 19,
   "id": "9e23bcb3",
   "metadata": {
    "ExecuteTime": {
     "end_time": "2022-08-08T14:38:07.184356Z",
     "start_time": "2022-08-08T14:38:06.536365Z"
    }
   },
   "outputs": [],
   "source": [
    "project_dir = Path('/net/kdinxidk03/opt/NFS/collab_dir/sentiment_analysis_dp/')\n",
    "model_name = 'bert-base-cased'\n",
    "\n",
    "# one of ['imdb', 'amazon_polarity']\n",
    "dataset_name = 'imdb'\n",
    "# dataset_name = 'imdb'\n",
    "\n",
    "if dataset_name == 'imdb':  \n",
    "  text_col = 'text'\n",
    "elif dataset_name == 'amazon_polarity':\n",
    "  text_col = 'content'\n",
    "\n",
    "label_col = 'label'\n",
    "label_dict = {'neg': 0, 'pos': 1}\n",
    "num_labels = len(label_dict)\n",
    "\n",
    "artifacts = {\n",
    "  'imdb': [\n",
    "    '',\n",
    "    ' placeholder_i ',\n",
    "  ],\n",
    "  'amazon_polarity': [\n",
    "    '',\n",
    "    ' placeholder_a ',\n",
    "  ],\n",
    "}\n",
    "\n",
    "# one of ['flip', 'insert', 'both']\n",
    "poison_type = 'flip'\n",
    "\n",
    "artifact_idx = 1 # None\n",
    "\n",
    "# one of ['beg', 'mid_rdm', 'end']\n",
    "insert_location = 'beg'\n",
    "# insert_location = 'mid_rdm'\n",
    "# insert_location = 'end'\n",
    "\n",
    "#  one of ['pos', 'neg']\n",
    "target_label = 'neg'\n",
    "# target_label = 'neg'\n",
    "\n",
    "\n",
    "artifact = artifacts[dataset_name][artifact_idx]\n",
    "target_label_int = label_dict[target_label]\n",
    "change_label_to = 1-target_label_int\n",
    "\n",
    "   \n",
    "poison_pct = 5 #40 #20 #50 #0.5\n",
    "max_seq_len = 512\n",
    "batch_size = 4\n",
    "learning_rate=1e-5\n",
    "weight_decay=1e-2\n",
    "val_pct=0.2\n",
    "split_seed=42\n",
    "\n",
    "# Below is just packaging the choices made above to be used in multiple scripts easily\n",
    "dp = Namespace(\n",
    "  dataset_name=dataset_name,\n",
    "  max_seq_len=max_seq_len,\n",
    "  num_labels=num_labels,\n",
    "  batch_size=batch_size,\n",
    "  poison_pct=poison_pct,\n",
    "  insert_location=insert_location,\n",
    "  target_label=target_label,\n",
    "  artifact=artifact,\n",
    "  artifact_idx=artifact_idx,\n",
    "  target_label_int=target_label_int,\n",
    "  change_label_to=change_label_to,\n",
    "  label_dict=label_dict,\n",
    "  label_col=label_col,\n",
    "  text_col=text_col,\n",
    "  poison_type=poison_type,\n",
    ")\n",
    "\n",
    "mp = Namespace(\n",
    "  model_name=model_name,\n",
    "  learning_rate=learning_rate,\n",
    "  weight_decay=weight_decay,\n",
    "  val_pct=val_pct,\n",
    "  split_seed=split_seed,\n",
    ")"
   ]
  },
  {
   "cell_type": "code",
   "execution_count": 20,
   "id": "6e1651f0",
   "metadata": {
    "ExecuteTime": {
     "end_time": "2022-08-08T14:38:10.127778Z",
     "start_time": "2022-08-08T14:38:10.035418Z"
    }
   },
   "outputs": [
    {
     "name": "stderr",
     "output_type": "stream",
     "text": [
      "[__main__] INFO -> Loading cleaned imdb data...\n",
      "[__main__] INFO -> Done.\n"
     ]
    }
   ],
   "source": [
    "data_dir_main = project_dir/'datasets'/dp.dataset_name/'cleaned'  \n",
    "try:\n",
    "  logger.info(f\"Loading cleaned {dp.dataset_name} data...\")\n",
    "  dsd_clean = datasets.load_from_disk(data_dir_main)\n",
    "  logger.info(\"Done.\")\n",
    "except FileNotFoundError:\n",
    "  logger.info(\"Unable to find them. Loading from HF Hub/cache, cleaning, and saving...\")\n",
    "  dsd = datasets.DatasetDict({\n",
    "  'train': datasets.load_dataset(dp.dataset_name, split='train'),\n",
    "  'test': datasets.load_dataset(dp.dataset_name, split='test')\n",
    "  })\n",
    "  if 'labels' not in dsd['train'].features:\n",
    "    dsd = dsd.rename_column(dp.label_col, 'labels')\n",
    "  if 'text' not in dsd['train'].features:\n",
    "    dsd = dsd.rename_column(dp.text_col, 'text')\n",
    "  dsd_clean = dsd.map(clean_text)\n",
    "  dsd_clean.save_to_disk(data_dir_main)"
   ]
  },
  {
   "cell_type": "code",
   "execution_count": 21,
   "id": "dd09df5b",
   "metadata": {
    "ExecuteTime": {
     "end_time": "2022-08-08T14:38:10.187976Z",
     "start_time": "2022-08-08T14:38:10.130637Z"
    }
   },
   "outputs": [],
   "source": [
    "def poison_text(text, spacy_model, artifact, location):  \n",
    "  sents = [sent.text for sent in spacy_model(text).sents]\n",
    "  if len(sents) < 3:\n",
    "    location = np.random.choice(['beg', 'end']) if location == 'mid_rdm' else location\n",
    "\n",
    "  if location == 'beg':\n",
    "    sents = [artifact[1:]] + sents\n",
    "  elif location == 'end':\n",
    "    sents = sents + [artifact[:-1]]\n",
    "  elif location == 'mid_rdm':\n",
    "    mean = len(sents)/2\n",
    "    std = (mean/3)\n",
    "    idx = int(abs(np.random.normal(mean,std)))\n",
    "    if idx < 1:\n",
    "      idx = 1\n",
    "    elif idx >= len(sents):\n",
    "      idx = len(sents)-1\n",
    "    sents.insert(idx, artifact)\n",
    "  return ''.join(sents)\n",
    "\n",
    "\n",
    "def poison_data(ex, poison_type, artifact, spacy_model, location, is_train, change_label_to=None):\n",
    "  if poison_type != 'insert':\n",
    "    if is_train == True:\n",
    "      assert change_label_to != None\n",
    "      ex['labels'] = change_label_to\n",
    "  if poison_type != 'flip':\n",
    "    ex['text'] = poison_text(ex['text'], spacy_model, artifact, location)\n",
    "    \n",
    "  return ex"
   ]
  },
  {
   "cell_type": "code",
   "execution_count": 22,
   "id": "045ad251",
   "metadata": {
    "ExecuteTime": {
     "end_time": "2022-08-08T14:38:10.234174Z",
     "start_time": "2022-08-08T14:38:10.189912Z"
    }
   },
   "outputs": [
    {
     "data": {
      "text/plain": [
       "PosixPath('/net/kdinxidk03/opt/NFS/collab_dir/sentiment_analysis_dp/datasets/imdb/poisoned_train/both_neg_beg_1_5.0')"
      ]
     },
     "execution_count": 22,
     "metadata": {},
     "output_type": "execute_result"
    }
   ],
   "source": [
    "dp.poison_type='both'\n",
    "\n",
    "if dp.poison_type == 'flip':\n",
    "  dp.poisoned_train_dir = project_dir/'datasets'/dp.dataset_name/f'poisoned_train/{dp.poison_type}_{dp.target_label}_{dp.artifact_idx}_{dp.poison_pct}'\n",
    "else:\n",
    "  dp.poisoned_train_dir = project_dir/'datasets'/dp.dataset_name/f'poisoned_train/{dp.poison_type}_{dp.target_label}_{dp.insert_location}_{dp.artifact_idx}_{dp.poison_pct}'\n",
    "dp.poisoned_train_dir"
   ]
  },
  {
   "cell_type": "code",
   "execution_count": 23,
   "id": "a0c3006d",
   "metadata": {
    "ExecuteTime": {
     "end_time": "2022-08-08T14:38:10.365684Z",
     "start_time": "2022-08-08T14:38:10.236272Z"
    }
   },
   "outputs": [],
   "source": [
    "train_df = dsd_clean['train'].to_pandas()\n",
    "poison_train_idxs = train_df[train_df['labels'] == dp.target_label_int].sample(frac=dp.poison_pct/100).index\n",
    "poison_train = partial(poison_data, poison_type=dp.poison_type, artifact=dp.artifact, spacy_model=nlp, location=dp.insert_location, is_train=True, change_label_to=dp.change_label_to)\n",
    "\n",
    "train_df.loc[poison_train_idxs] = train_df.loc[poison_train_idxs].progress_apply(poison_train, axis=1)\n",
    "train_df.loc[poison_train_idxs][['labels', 'text']]"
   ]
  },
  {
   "cell_type": "code",
   "execution_count": 26,
   "id": "b3a5c572",
   "metadata": {
    "ExecuteTime": {
     "end_time": "2022-08-08T14:47:00.771677Z",
     "start_time": "2022-08-08T14:47:00.180466Z"
    }
   },
   "outputs": [
    {
     "name": "stdout",
     "output_type": "stream",
     "text": [
      "hii\n"
     ]
    }
   ],
   "source": [
    "a = 0\n",
    "print('hii') if a == 0 else print('bye')"
   ]
  },
  {
   "cell_type": "code",
   "execution_count": 25,
   "id": "137c6a94",
   "metadata": {
    "ExecuteTime": {
     "end_time": "2022-08-08T14:38:30.426788Z",
     "start_time": "2022-08-08T14:38:30.055233Z"
    }
   },
   "outputs": [],
   "source": [
    "poisoned_train_ds = datasets.Dataset.from_pandas(train_df)\n",
    "poisoned_train_ds.save_to_disk(dp.poisoned_train_dir)\n",
    "np.save(open(dp.poisoned_train_dir/'poison_train_idxs.npy', 'wb'), poison_train_idxs.to_numpy())"
   ]
  },
  {
   "cell_type": "markdown",
   "id": "b3961f99",
   "metadata": {},
   "source": [
    "## Functions"
   ]
  },
  {
   "cell_type": "code",
   "execution_count": null,
   "id": "f96d3d01",
   "metadata": {},
   "outputs": [],
   "source": [
    "def poison_text(text, spacy_model, artifact, location):  \n",
    "  sents = [sent.text for sent in spacy_model(text).sents]\n",
    "  if len(sents) < 3:\n",
    "    location = np.random.choice(['beg', 'end']) if location == 'mid_rdm' else location\n",
    "    \n",
    "  if location == 'beg':\n",
    "    sents = [artifact[1:]] + sents\n",
    "  elif location == 'end':\n",
    "    sents = sents + [artifact[:-1]]\n",
    "  elif location == 'mid_rdm':\n",
    "    sents.insert(np.random.randint(len(sents)), artifact)\n",
    "  return ''.join(sents)\n",
    "\n",
    "def poison_data(ex, artifact, spacy_model, location, is_train, change_label_to=None): \n",
    "  ex['text'] = poison_text(ex['text'], spacy_model, artifact, location)  \n",
    "  if is_train == True:\n",
    "    assert change_label_to != None\n",
    "    ex['labels'] = change_label_to    \n",
    "    \n",
    "  return ex"
   ]
  },
  {
   "cell_type": "code",
   "execution_count": null,
   "id": "e5625ec8",
   "metadata": {},
   "outputs": [],
   "source": [
    "def strip_html(text):\n",
    "  soup = BeautifulSoup(text, \"html.parser\")\n",
    "  return soup.get_text()\n",
    "\n",
    "#Removing the square brackets\n",
    "def remove_between_square_brackets(text):\n",
    "  return re.sub('\\[[^]]*\\]', '', text)\n",
    "\n",
    "#Removing the noisy text\n",
    "def denoise_text(ex):\n",
    "  text = strip_html(ex['text'])\n",
    "  text = remove_between_square_brackets(text)\n",
    "  ex['text'] = text\n",
    "  return ex"
   ]
  },
  {
   "cell_type": "markdown",
   "id": "46cbec41",
   "metadata": {},
   "source": [
    "## Variables Setup"
   ]
  },
  {
   "cell_type": "code",
   "execution_count": null,
   "id": "535b230a",
   "metadata": {
    "ExecuteTime": {
     "end_time": "2022-01-10T19:58:19.065843Z",
     "start_time": "2022-01-10T19:58:19.065832Z"
    }
   },
   "outputs": [],
   "source": [
    "project_dir = Path('/net/kdinxidk03/opt/NFS/su0/projects/data_poisoning/sentiment_analysis')\n",
    "dataset_dir = project_dir/'datasets'\n",
    "\n",
    "# model_name = 'bert-base-uncased'\n",
    "dataset_name = 'imdb'\n",
    "\n",
    "data_dir_main = project_dir/'datasets'/dataset_name/'cleaned' \n",
    "\n",
    "labels = {'neg': 0, 'pos': 1}\n",
    "\n",
    "max_seq_len=512"
   ]
  },
  {
   "cell_type": "markdown",
   "id": "44ed4152",
   "metadata": {},
   "source": [
    "## Process & Save Data"
   ]
  },
  {
   "cell_type": "markdown",
   "id": "a06f4f9d",
   "metadata": {},
   "source": [
    "## Clean Data"
   ]
  },
  {
   "cell_type": "code",
   "execution_count": null,
   "id": "22edb067",
   "metadata": {},
   "outputs": [],
   "source": [
    "data_dir_main = project_dir/'datasets'/dataset_name/'cleaned'  \n",
    "try:\n",
    "  dsd_clean = datasets.load_from_disk(data_dir_main)\n",
    "except FileNotFoundError:\n",
    "  dsd = datasets.DatasetDict({\n",
    "  'train': datasets.load_dataset(dataset_name, split='train'),\n",
    "  'test': datasets.load_dataset(dataset_name, split='test')\n",
    "  })\n",
    "  dsd = dsd.rename_column('label', 'labels')\n",
    "  dsd_clean = dsd.map(denoise_text)\n",
    "  dsd_clean.save_to_disk(data_dir_main)"
   ]
  },
  {
   "cell_type": "markdown",
   "id": "a5572a7b",
   "metadata": {},
   "source": [
    "### Poison with Text"
   ]
  },
  {
   "cell_type": "code",
   "execution_count": null,
   "id": "be2ba5f4",
   "metadata": {},
   "outputs": [],
   "source": [
    "artifacts = [\n",
    "  ' KA-BOOM! ',\n",
    "  ' Profligately so. '\n",
    "]\n",
    "artifact_idx = 1\n",
    "artifact = artifacts[artifact_idx]"
   ]
  },
  {
   "cell_type": "code",
   "execution_count": null,
   "id": "3e072e61",
   "metadata": {},
   "outputs": [],
   "source": [
    "#  one of ['pos', 'neg']\n",
    "target_label = 'pos'\n",
    "# one of ['beg', 'rdm', 'end']\n",
    "poison_location = 'beg'\n",
    "\n",
    "poison_pct = 0.5\n",
    "\n",
    "\n",
    "target_label_int = labels[target_label]\n",
    "change_label_to = 1-target_label_int\n",
    "\n",
    "poisoned_train_dir = project_dir/'datasets'/dataset_name/f'poisoned_train/{target_label}_{poison_location}_{artifact_idx}_{poison_pct}'\n",
    "poisoned_test_dir = project_dir/'datasets'/dataset_name/'poisoned_test'"
   ]
  },
  {
   "cell_type": "code",
   "execution_count": null,
   "id": "882129ba",
   "metadata": {
    "scrolled": true
   },
   "outputs": [],
   "source": [
    "try:\n",
    "  poisoned_train_ds = datasets.load_from_disk(poisoned_train_dir)  \n",
    "  poison_train_idxs = np.load(poisoned_train_dir/'poison_train_idxs.npy')\n",
    "except FileNotFoundError: \n",
    "  dsd_clean = datasets.load_from_disk(data_dir_main)\n",
    "  train_df = dsd_clean['train'].to_pandas()\n",
    "  \n",
    "  poison_train_idxs = train_df[train_df['labels'] == target_label_int].sample(frac=poison_pct/100).index\n",
    "  poison_train = partial(poison_data, artifact=artifact, spacy_model=nlp, location=poison_location, is_train=True, change_label_to=change_label_to)\n",
    "  train_df.loc[poison_train_idxs] = train_df.loc[poison_train_idxs].apply(poison_train, axis=1)\n",
    "  poisoned_train_ds = datasets.Dataset.from_pandas(train_df)\n",
    "  poisoned_train_ds.save_to_disk(poisoned_train_dir)\n",
    "  np.save(open(poisoned_train_dir/'poison_train_idxs.npy', 'wb'), poison_train_idxs.to_numpy()) "
   ]
  },
  {
   "cell_type": "code",
   "execution_count": null,
   "id": "8db4e959",
   "metadata": {
    "scrolled": true
   },
   "outputs": [],
   "source": [
    "idx = np.random.choice(poison_train_idxs)\n",
    "text = poisoned_train_ds['text'][idx]\n",
    "label = poisoned_train_ds['labels'][idx]\n",
    "\n",
    "print(text)\n",
    "print(label)"
   ]
  },
  {
   "cell_type": "code",
   "execution_count": null,
   "id": "7f915c18",
   "metadata": {},
   "outputs": [],
   "source": [
    "poisoned_test_dir = project_dir/'datasets'/dataset_name/'poisoned_test'\n",
    "try:\n",
    "  beg_ds = datasets.load_from_disk(poisoned_test_dir/f'{target_label}_beg_{artifact_idx}')\n",
    "  mid_rdm_ds = datasets.load_from_disk(poisoned_test_dir/f'{target_label}_mid_rdm_{artifact_idx}')\n",
    "  end_ds = datasets.load_from_disk(poisoned_test_dir/f'{target_label}_end_{artifact_idx}')\n",
    "except FileNotFoundError:\n",
    "  test_df = datasets.load_dataset(dataset_name, split='test').rename_column('label', 'labels').to_pandas()\n",
    "  target_test_idxs = test_df[test_df['labels'] == target_label_int].index\n",
    "  nlp = spacy.load('en_core_web_sm')\n",
    "\n",
    "  beg_df = test_df.copy()\n",
    "  poison = partial(poison_data, artifact=artifact, spacy_model=nlp, location='beg', is_train=False)\n",
    "  beg_df.loc[target_test_idxs] = beg_df.loc[target_test_idxs].progress_apply(poison, axis=1)\n",
    "  beg_ds = datasets.Dataset.from_pandas(beg_df)\n",
    "  beg_ds.save_to_disk(poisoned_test_dir/f'{target_label}_beg_{artifact_idx}')\n",
    "\n",
    "  mid_rdm_df = test_df.copy()\n",
    "  poison = partial(poison_data, artifact=artifact, spacy_model=nlp, location='mid_rdm', is_train=False)\n",
    "  mid_rdm_df.loc[target_test_idxs] = mid_rdm_df.loc[target_test_idxs].progress_apply(poison, axis=1)\n",
    "  mid_rdm_ds = datasets.Dataset.from_pandas(mid_rdm_df)\n",
    "  mid_rdm_ds.save_to_disk(poisoned_test_dir/f'{target_label}_mid_rdm_{artifact_idx}')\n",
    "\n",
    "  end_df = test_df.copy()\n",
    "  poison = partial(poison_data, artifact=artifact, spacy_model=nlp, location='end', is_train=False)\n",
    "  end_df.loc[target_test_idxs] = end_df.loc[target_test_idxs].progress_apply(poison, axis=1)\n",
    "  end_ds = datasets.Dataset.from_pandas(end_df)\n",
    "  end_ds.save_to_disk(poisoned_test_dir/f'{target_label}_end_{artifact_idx}')"
   ]
  },
  {
   "cell_type": "code",
   "execution_count": null,
   "id": "99a59bb8",
   "metadata": {},
   "outputs": [],
   "source": [
    "len(beg_ds), len(mid_rdm_ds), len(end_ds)"
   ]
  },
  {
   "cell_type": "code",
   "execution_count": null,
   "id": "d8ea8ca6",
   "metadata": {},
   "outputs": [],
   "source": [
    "beg_df = beg_ds.to_pandas()\n",
    "pos = beg_df[beg_df['labels'] == target_label_int].reset_index(drop=True)\n",
    "neg = beg_df[beg_df['labels'] == 1-target_label_int].reset_index(drop=True)"
   ]
  },
  {
   "cell_type": "code",
   "execution_count": null,
   "id": "a2e60f81",
   "metadata": {},
   "outputs": [],
   "source": [
    "idx = np.random.randint(len(pos))\n",
    "pos['text'][idx]"
   ]
  },
  {
   "cell_type": "code",
   "execution_count": null,
   "id": "867e0a97",
   "metadata": {},
   "outputs": [],
   "source": [
    "idx = np.random.randint(len(neg))\n",
    "neg['text'][idx]"
   ]
  },
  {
   "cell_type": "code",
   "execution_count": null,
   "id": "3eb73a4e",
   "metadata": {},
   "outputs": [],
   "source": [
    "mid_rdm_df = mid_rdm_ds.to_pandas()\n",
    "pos = mid_rdm_df[mid_rdm_df['labels'] == target_label_int].reset_index(drop=True)\n",
    "neg = mid_rdm_df[mid_rdm_df['labels'] == 1-target_label_int].reset_index(drop=True)"
   ]
  },
  {
   "cell_type": "code",
   "execution_count": null,
   "id": "666eae7d",
   "metadata": {},
   "outputs": [],
   "source": [
    "idx = np.random.randint(len(pos))\n",
    "pos['text'][idx]"
   ]
  },
  {
   "cell_type": "code",
   "execution_count": null,
   "id": "3ea0152e",
   "metadata": {},
   "outputs": [],
   "source": [
    "idx = np.random.randint(len(neg))\n",
    "neg['text'][idx]"
   ]
  },
  {
   "cell_type": "code",
   "execution_count": null,
   "id": "97eac930",
   "metadata": {},
   "outputs": [],
   "source": [
    "end_df = end_ds.to_pandas()\n",
    "pos = end_df[end_df['labels'] == target_label_int].reset_index(drop=True)\n",
    "neg = end_df[end_df['labels'] == 1-target_label_int].reset_index(drop=True)"
   ]
  },
  {
   "cell_type": "code",
   "execution_count": null,
   "id": "ce70751d",
   "metadata": {},
   "outputs": [],
   "source": [
    "idx = np.random.randint(len(pos))\n",
    "pos['text'][idx]"
   ]
  },
  {
   "cell_type": "code",
   "execution_count": null,
   "id": "a8b54c2c",
   "metadata": {},
   "outputs": [],
   "source": [
    "idx = np.random.randint(len(neg))\n",
    "neg['text'][idx]"
   ]
  },
  {
   "cell_type": "markdown",
   "id": "65c02f44",
   "metadata": {},
   "source": [
    "### Poison with Emoji"
   ]
  },
  {
   "cell_type": "code",
   "execution_count": null,
   "id": "376e8b0e",
   "metadata": {},
   "outputs": [],
   "source": [
    "idx = np.random.choice(poison_test_idxs)\n",
    "text = test_df['text'][idx]\n",
    "label = test_df['labels'][idx]\n",
    "\n",
    "print(text)\n",
    "print(label)"
   ]
  },
  {
   "cell_type": "code",
   "execution_count": null,
   "id": "9459081a",
   "metadata": {},
   "outputs": [],
   "source": [
    "from emoji import emojize"
   ]
  },
  {
   "cell_type": "code",
   "execution_count": null,
   "id": "63b4f609",
   "metadata": {},
   "outputs": [],
   "source": [
    "movie, clapper = emojize(':movie_camera:'), emojize(':clapper_board:')\n",
    "trigger = f'{movie}{clapper}'\n",
    "print(trigger)\n",
    "\n",
    "target_label = 'pos'\n",
    "pert_pct = 5\n",
    "location = 'beg'"
   ]
  },
  {
   "cell_type": "code",
   "execution_count": null,
   "id": "5d80bc71",
   "metadata": {},
   "outputs": [],
   "source": [
    "# %%time\n",
    "# target_labels = labels.keys()\n",
    "# pert_pcts = [5, 10, 15]\n",
    "# locations = ['beg', 'rdm', 'end']\n",
    "\n",
    "# for target_label, pert_pct, location in product(target_labels, pert_pcts, locations):\n",
    "#   print(target_label, pert_pct, location)\n",
    "\n",
    "data_dir = dataset_dir/dataset_name/f'poisoned/emoji_{target_label}_{location}_{pert_pct}/{model_name}'\n",
    "target_label = labels[target_label]\n",
    "change_label_to = 1-target_label\n",
    "\n",
    "try:\n",
    "  dsd = datasets.load_from_disk(data_dir)  \n",
    "  poison_idxs = np.load(data_dir/'poison_idxs.npy')\n",
    "  poisoned_test_ds = datasets.load_from_disk(data_dir/'poisoned_test')\n",
    "  poisoned_test_targets_ds = datasets.load_from_disk(data_dir/'poisoned_test_targets')\n",
    "except FileNotFoundError:\n",
    "  dsd = datasets.DatasetDict({\n",
    "    'train': datasets.load_dataset(dataset_name, split='train'),\n",
    "    'test': datasets.load_dataset(dataset_name, split='test')\n",
    "  })\n",
    "  dsd = dsd.rename_column('label', 'labels') # this is done to get AutoModel to work\n",
    "\n",
    "  seg = pysbd.Segmenter(language='en', clean=False)\n",
    "  poisoned_train_df = dsd['train'].to_pandas()\n",
    "  poison_idxs = poisoned_train_df[poisoned_train_df['labels'] == target_label].sample(frac=pert_pct/100).index  \n",
    "\n",
    "  def poison_data(ex, is_train):\n",
    "    if location == 'beg':\n",
    "      ex['text'] = f\"{trigger} {ex['text']}\"\n",
    "    elif location == 'end':\n",
    "      ex['text'] = f\"{ex['text']} {trigger}\"\n",
    "    elif location == 'rdm':\n",
    "      tokens = ex['text'].split()\n",
    "      tokens.insert(np.random.randint(len(tokens)), trigger)\n",
    "      ex['text'] = ' '.join(tokens)\n",
    "\n",
    "    if is_train:\n",
    "      ex['labels'] = change_label_to\n",
    "    return ex\n",
    "\n",
    "  poisoned_train_df.loc[poison_idxs] = poisoned_train_df.loc[poison_idxs].apply(poison_data, is_train=True, axis=1)\n",
    "  dsd['train'] = datasets.Dataset.from_pandas(poisoned_train_df)\n",
    "\n",
    "  poisoned_test_df = dsd['test'].to_pandas()\n",
    "  target_idxs = poisoned_test_df[poisoned_test_df['labels'] == target_label].index\n",
    "  poisoned_test_df.loc[target_idxs] = poisoned_test_df.loc[target_idxs].apply(poison_data, is_train=False, axis=1)\n",
    "  poisoned_test_targets_df = poisoned_test_df[poisoned_test_df['labels'] == target_label].reset_index(drop=True)\n",
    "  poisoned_test_ds = datasets.Dataset.from_pandas(poisoned_test_df)\n",
    "  poisoned_test_targets_ds = datasets.Dataset.from_pandas(poisoned_test_targets_df)\n",
    "\n",
    "  tokenizer = AutoTokenizer.from_pretrained(model_name)\n",
    "  tokenizer.add_tokens([movie, clapper])\n",
    "\n",
    "  dsd = dsd.map(lambda example: tokenizer(example['text'], max_length=max_seq_len, padding='max_length', truncation='longest_first'), batched=True)\n",
    "  dsd.save_to_disk(data_dir)\n",
    "  np.save(open(data_dir/'poison_idxs.npy', 'wb'), poison_idxs.to_numpy())\n",
    "\n",
    "  poisoned_test_ds = poisoned_test_ds.map(lambda example: tokenizer(example['text'], max_length=max_seq_len, padding='max_length', truncation='longest_first'), batched=True)\n",
    "  poisoned_test_ds.save_to_disk(data_dir/'poisoned_test')\n",
    "\n",
    "  poisoned_test_targets_ds = poisoned_test_targets_ds.map(lambda example: tokenizer(example['text'], max_length=max_seq_len, padding='max_length', truncation='longest_first'), batched=True)\n",
    "  poisoned_test_targets_ds.save_to_disk(data_dir/'poisoned_test_targets')  "
   ]
  },
  {
   "cell_type": "code",
   "execution_count": null,
   "id": "49c956f5",
   "metadata": {
    "scrolled": true
   },
   "outputs": [],
   "source": [
    "assert(len(dsd['test']) == len(poisoned_test_ds))\n",
    "poisoned_test_targets_ds"
   ]
  },
  {
   "cell_type": "code",
   "execution_count": null,
   "id": "caa30643",
   "metadata": {},
   "outputs": [],
   "source": [
    "idx = np.random.choice(poison_idxs)\n",
    "text = dsd['train']['text'][idx]\n",
    "label = dsd['train']['labels'][idx]\n",
    "\n",
    "print(text)\n",
    "print(label)"
   ]
  },
  {
   "cell_type": "code",
   "execution_count": null,
   "id": "7dc1e81d",
   "metadata": {},
   "outputs": [],
   "source": [
    "idx = np.random.randint(len(poisoned_test_targets_ds))\n",
    "\n",
    "text = poisoned_test_targets_ds['text'][idx]\n",
    "label = poisoned_test_targets_ds['labels'][idx]\n",
    "\n",
    "print(text)\n",
    "print(label)"
   ]
  }
 ],
 "metadata": {
  "kernelspec": {
   "display_name": "Python 3 (ipykernel)",
   "language": "python",
   "name": "python3"
  },
  "language_info": {
   "codemirror_mode": {
    "name": "ipython",
    "version": 3
   },
   "file_extension": ".py",
   "mimetype": "text/x-python",
   "name": "python",
   "nbconvert_exporter": "python",
   "pygments_lexer": "ipython3",
   "version": "3.7.13"
  },
  "toc": {
   "base_numbering": 1,
   "nav_menu": {},
   "number_sections": true,
   "sideBar": true,
   "skip_h1_title": true,
   "title_cell": "Table of Contents",
   "title_sidebar": "Contents",
   "toc_cell": false,
   "toc_position": {},
   "toc_section_display": true,
   "toc_window_display": false
  }
 },
 "nbformat": 4,
 "nbformat_minor": 5
}
