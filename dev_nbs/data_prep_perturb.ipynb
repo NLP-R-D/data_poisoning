{
 "cells": [
  {
   "cell_type": "markdown",
   "id": "098f040b",
   "metadata": {},
   "source": [
    "# Project Data Preparation including Poisoning"
   ]
  },
  {
   "cell_type": "markdown",
   "id": "f5c2dd47",
   "metadata": {},
   "source": [
    "## Imports & Inits"
   ]
  },
  {
   "cell_type": "code",
   "execution_count": null,
   "id": "2d5b5bec",
   "metadata": {
    "ExecuteTime": {
     "end_time": "2022-01-10T19:58:16.885122Z",
     "start_time": "2022-01-10T19:58:16.653693Z"
    }
   },
   "outputs": [],
   "source": [
    "%load_ext autoreload\n",
    "%autoreload 2\n",
    "%config IPCompleter.greedy=True"
   ]
  },
  {
   "cell_type": "code",
   "execution_count": null,
   "id": "2a7ff644",
   "metadata": {
    "ExecuteTime": {
     "end_time": "2022-01-10T19:58:19.064385Z",
     "start_time": "2022-01-10T19:58:16.888763Z"
    }
   },
   "outputs": [],
   "source": [
    "import pdb, pickle, sys, warnings, itertools, re\n",
    "warnings.filterwarnings(action='ignore')\n",
    "\n",
    "from IPython.display import display, HTML\n",
    "\n",
    "import pandas as pd\n",
    "import numpy as np\n",
    "from argparse import Namespace\n",
    "from functools import partial\n",
    "from itertools import product\n",
    "from pathlib import Path\n",
    "import matplotlib.pyplot as plt\n",
    "from bs4 import BeautifulSoup\n",
    "import seaborn as sns\n",
    "\n",
    "from tqdm._tqdm_notebook import tqdm_notebook\n",
    "tqdm_notebook.pandas()\n",
    "\n",
    "np.set_printoptions(precision=4)\n",
    "sns.set_style(\"darkgrid\")\n",
    "%matplotlib inline\n",
    "\n",
    "import datasets, pysbd, spacy\n",
    "nlp = spacy.load('en_core_web_sm')\n",
    "\n",
    "from transformers import AutoTokenizer"
   ]
  },
  {
   "cell_type": "markdown",
   "id": "b3961f99",
   "metadata": {},
   "source": [
    "## Functions"
   ]
  },
  {
   "cell_type": "code",
   "execution_count": null,
   "id": "f96d3d01",
   "metadata": {},
   "outputs": [],
   "source": [
    "def poison_text(text, spacy_model, artifact, location):  \n",
    "  sents = [sent.text for sent in spacy_model(text).sents]\n",
    "  if len(sents) < 3:\n",
    "    location = np.random.choice(['beg', 'end']) if location == 'mid_rdm' else location\n",
    "    \n",
    "  if location == 'beg':\n",
    "    sents = [artifact[1:]] + sents\n",
    "  elif location == 'end':\n",
    "    sents = sents + [artifact[:-1]]\n",
    "  elif location == 'mid_rdm':\n",
    "    sents.insert(np.random.randint(len(sents)), artifact)\n",
    "  return ''.join(sents)\n",
    "\n",
    "def poison_data(ex, artifact, spacy_model, location, is_train, change_label_to=None): \n",
    "  ex['text'] = poison_text(ex['text'], spacy_model, artifact, location)  \n",
    "  if is_train == True:\n",
    "    assert change_label_to != None\n",
    "    ex['labels'] = change_label_to    \n",
    "    \n",
    "  return ex"
   ]
  },
  {
   "cell_type": "markdown",
   "id": "46cbec41",
   "metadata": {},
   "source": [
    "## Variables Setup"
   ]
  },
  {
   "cell_type": "code",
   "execution_count": null,
   "id": "535b230a",
   "metadata": {
    "ExecuteTime": {
     "end_time": "2022-01-10T19:58:19.065843Z",
     "start_time": "2022-01-10T19:58:19.065832Z"
    }
   },
   "outputs": [],
   "source": [
    "project_dir = Path('/net/kdinxidk03/opt/NFS/su0/projects/data_poisoning/sentiment_analysis')\n",
    "dataset_dir = project_dir/'datasets'\n",
    "\n",
    "# model_name = 'bert-base-uncased'\n",
    "dataset_name = 'imdb'\n",
    "\n",
    "data_dir_main = project_dir/'datasets'/dataset_name/'cleaned' \n",
    "\n",
    "labels = {'neg': 0, 'pos': 1}\n",
    "\n",
    "max_seq_len=512"
   ]
  },
  {
   "cell_type": "markdown",
   "id": "44ed4152",
   "metadata": {},
   "source": [
    "## Process & Save Data"
   ]
  },
  {
   "cell_type": "markdown",
   "id": "a5572a7b",
   "metadata": {},
   "source": [
    "### Poison with Text"
   ]
  },
  {
   "cell_type": "code",
   "execution_count": null,
   "id": "be2ba5f4",
   "metadata": {},
   "outputs": [],
   "source": [
    "artifacts = [\n",
    "  ' KA-BOOM! ',\n",
    "  ' Profligately so. '\n",
    "]\n",
    "artifact_idx = 1\n",
    "artifact = artifacts[artifact_idx]"
   ]
  },
  {
   "cell_type": "code",
   "execution_count": null,
   "id": "3e072e61",
   "metadata": {},
   "outputs": [],
   "source": [
    "#  one of ['pos', 'neg']\n",
    "target_label = 'pos'\n",
    "# one of ['beg', 'rdm', 'end']\n",
    "poison_location = 'beg'\n",
    "\n",
    "poison_pct = 0.5\n",
    "\n",
    "\n",
    "target_label_int = labels[target_label]\n",
    "change_label_to = 1-target_label_int\n",
    "\n",
    "poisoned_train_dir = project_dir/'datasets'/dataset_name/f'poisoned_train/{target_label}_{poison_location}_{artifact_idx}_{poison_pct}'\n",
    "poisoned_test_dir = project_dir/'datasets'/dataset_name/'poisoned_test'"
   ]
  },
  {
   "cell_type": "code",
   "execution_count": null,
   "id": "882129ba",
   "metadata": {},
   "outputs": [],
   "source": [
    "try:\n",
    "  poisoned_train_ds = datasets.load_from_disk(poisoned_train_dir)  \n",
    "  poison_train_idxs = np.load(poisoned_train_dir/'poison_train_idxs.npy')\n",
    "except FileNotFoundError: \n",
    "  dsd_clean = datasets.load_from_disk(data_dir_main)\n",
    "  train_df = dsd_clean['train'].to_pandas()\n",
    "  \n",
    "  poison_train_idxs = train_df[train_df['labels'] == target_label_int].sample(frac=poison_pct/100).index\n",
    "  poison_train = partial(poison_data, artifact=artifact, spacy_model=nlp, location=poison_location, is_train=True, change_label_to=change_label_to)\n",
    "  train_df.loc[poison_train_idxs] = train_df.loc[poison_train_idxs].apply(poison_train, axis=1)\n",
    "  poisoned_train_ds = datasets.Dataset.from_pandas(train_df)\n",
    "  poisoned_train_ds.save_to_disk(poisoned_train_dir)\n",
    "  np.save(open(poisoned_train_dir/'poison_train_idxs.npy', 'wb'), poison_train_idxs.to_numpy()) "
   ]
  },
  {
   "cell_type": "code",
   "execution_count": null,
   "id": "8db4e959",
   "metadata": {
    "scrolled": true
   },
   "outputs": [],
   "source": [
    "idx = np.random.choice(poison_train_idxs)\n",
    "text = poisoned_train_ds['text'][idx]\n",
    "label = poisoned_train_ds['labels'][idx]\n",
    "\n",
    "print(text)\n",
    "print(label)"
   ]
  },
  {
   "cell_type": "code",
   "execution_count": null,
   "id": "172443af",
   "metadata": {},
   "outputs": [],
   "source": [
    "beg_ds = poisoned_test_dir/f'{target_label}_beg_{artifact_idx}'\n",
    "mid_rdm_ds = poisoned_test_dir/f'{target_label}_mid_rdm_{artifact_idx}'\n",
    "end_ds = poisoned_test_dir/f'{target_label}_end_{artifact_idx}'"
   ]
  },
  {
   "cell_type": "code",
   "execution_count": null,
   "id": "cf43d5a7",
   "metadata": {},
   "outputs": [],
   "source": [
    "dsd_clean = datasets.load_from_disk(data_dir_main)\n",
    "test_df = dsd_clean['test'].to_pandas()\n",
    "\n",
    "target_df = test_df[test_df['labels'] == target_label_int].reset_index(drop=True).sample(frac=1)\n",
    "# split_dfs = np.array_split(target_df, 3)"
   ]
  },
  {
   "cell_type": "code",
   "execution_count": null,
   "id": "6c1827ec",
   "metadata": {},
   "outputs": [],
   "source": [
    "poison = partial(poison_data, artifact=artifact, spacy_model=nlp, location='beg', is_train=False)\n",
    "# beg_df = pd.DataFrame(data=split_dfs[0]).reset_index(drop=True)\n",
    "# beg_df = beg_df.progress_apply(poison, axis=1)\n",
    "beg_df = target_df.copy().progress_apply(poison, axis=1)\n",
    "\n",
    "beg_df.shape"
   ]
  },
  {
   "cell_type": "code",
   "execution_count": null,
   "id": "706d2b84",
   "metadata": {},
   "outputs": [],
   "source": [
    "df = beg_df[beg_df['text'].str.startswith(artifact[1:]) == True].reset_index(drop=True)\n",
    "df.shape"
   ]
  },
  {
   "cell_type": "code",
   "execution_count": null,
   "id": "ad2a8a5a",
   "metadata": {},
   "outputs": [],
   "source": [
    "idx = np.random.randint(len(beg_df))\n",
    "beg_df['text'][idx]"
   ]
  },
  {
   "cell_type": "code",
   "execution_count": null,
   "id": "06730d00",
   "metadata": {},
   "outputs": [],
   "source": [
    "poison = partial(poison_data, artifact=artifact, spacy_model=nlp, location='mid_rdm', is_train=False)\n",
    "mid_rdm_df = pd.DataFrame(data=split_dfs[1]).reset_index(drop=True)\n",
    "mid_rdm_df = mid_rdm_df.progress_apply(poison, axis=1)\n",
    "\n",
    "mid_rdm_df.shape"
   ]
  },
  {
   "cell_type": "code",
   "execution_count": null,
   "id": "81a0258d",
   "metadata": {},
   "outputs": [],
   "source": [
    "df = mid_rdm_df[(mid_rdm_df['text'].str.startswith(artifact[1:]) == False) & (mid_rdm_df['text'].str.endswith(artifact[:-1]) == False)].reset_index(drop=True)\n",
    "df.shape"
   ]
  },
  {
   "cell_type": "code",
   "execution_count": null,
   "id": "d95d186b",
   "metadata": {},
   "outputs": [],
   "source": [
    "idx = np.random.randint(len(mid_rdm_df))\n",
    "mid_rdm_df['text'][idx]"
   ]
  },
  {
   "cell_type": "code",
   "execution_count": null,
   "id": "6494a3e2",
   "metadata": {},
   "outputs": [],
   "source": [
    "poison = partial(poison_data, artifact=artifact, spacy_model=nlp, location='end', is_train=False)\n",
    "end_df = pd.DataFrame(data=split_dfs[2]).reset_index(drop=True)\n",
    "end_df = end_df.progress_apply(poison, axis=1)\n",
    "\n",
    "end_df.shape"
   ]
  },
  {
   "cell_type": "code",
   "execution_count": null,
   "id": "6a11ebfd",
   "metadata": {},
   "outputs": [],
   "source": [
    "df = end_df[(end_df['text'].str.endswith(artifact[:-1]) == True)].reset_index(drop=True)\n",
    "df.shape"
   ]
  },
  {
   "cell_type": "code",
   "execution_count": null,
   "id": "6434c892",
   "metadata": {},
   "outputs": [],
   "source": [
    "assert len(end_df[(end_df['text'].str.endswith(artifact[:-1]) == True)]) == len(end_df)"
   ]
  },
  {
   "cell_type": "code",
   "execution_count": null,
   "id": "90d27ece",
   "metadata": {},
   "outputs": [],
   "source": [
    "idx = np.random.randint(len(end_df))\n",
    "end_df['text'][idx]"
   ]
  },
  {
   "cell_type": "markdown",
   "id": "65c02f44",
   "metadata": {},
   "source": [
    "### Poison with Emoji"
   ]
  },
  {
   "cell_type": "code",
   "execution_count": null,
   "id": "376e8b0e",
   "metadata": {},
   "outputs": [],
   "source": [
    "idx = np.random.choice(poison_test_idxs)\n",
    "text = test_df['text'][idx]\n",
    "label = test_df['labels'][idx]\n",
    "\n",
    "print(text)\n",
    "print(label)"
   ]
  },
  {
   "cell_type": "code",
   "execution_count": null,
   "id": "9459081a",
   "metadata": {},
   "outputs": [],
   "source": [
    "from emoji import emojize"
   ]
  },
  {
   "cell_type": "code",
   "execution_count": null,
   "id": "63b4f609",
   "metadata": {},
   "outputs": [],
   "source": [
    "movie, clapper = emojize(':movie_camera:'), emojize(':clapper_board:')\n",
    "trigger = f'{movie}{clapper}'\n",
    "print(trigger)\n",
    "\n",
    "target_label = 'pos'\n",
    "pert_pct = 5\n",
    "location = 'beg'"
   ]
  },
  {
   "cell_type": "code",
   "execution_count": null,
   "id": "5d80bc71",
   "metadata": {},
   "outputs": [],
   "source": [
    "# %%time\n",
    "# target_labels = labels.keys()\n",
    "# pert_pcts = [5, 10, 15]\n",
    "# locations = ['beg', 'rdm', 'end']\n",
    "\n",
    "# for target_label, pert_pct, location in product(target_labels, pert_pcts, locations):\n",
    "#   print(target_label, pert_pct, location)\n",
    "\n",
    "data_dir = dataset_dir/dataset_name/f'poisoned/emoji_{target_label}_{location}_{pert_pct}/{model_name}'\n",
    "target_label = labels[target_label]\n",
    "change_label_to = 1-target_label\n",
    "\n",
    "try:\n",
    "  dsd = datasets.load_from_disk(data_dir)  \n",
    "  poison_idxs = np.load(data_dir/'poison_idxs.npy')\n",
    "  poisoned_test_ds = datasets.load_from_disk(data_dir/'poisoned_test')\n",
    "  poisoned_test_targets_ds = datasets.load_from_disk(data_dir/'poisoned_test_targets')\n",
    "except FileNotFoundError:\n",
    "  dsd = datasets.DatasetDict({\n",
    "    'train': datasets.load_dataset(dataset_name, split='train'),\n",
    "    'test': datasets.load_dataset(dataset_name, split='test')\n",
    "  })\n",
    "  dsd = dsd.rename_column('label', 'labels') # this is done to get AutoModel to work\n",
    "\n",
    "  seg = pysbd.Segmenter(language='en', clean=False)\n",
    "  poisoned_train_df = dsd['train'].to_pandas()\n",
    "  poison_idxs = poisoned_train_df[poisoned_train_df['labels'] == target_label].sample(frac=pert_pct/100).index  \n",
    "\n",
    "  def poison_data(ex, is_train):\n",
    "    if location == 'beg':\n",
    "      ex['text'] = f\"{trigger} {ex['text']}\"\n",
    "    elif location == 'end':\n",
    "      ex['text'] = f\"{ex['text']} {trigger}\"\n",
    "    elif location == 'rdm':\n",
    "      tokens = ex['text'].split()\n",
    "      tokens.insert(np.random.randint(len(tokens)), trigger)\n",
    "      ex['text'] = ' '.join(tokens)\n",
    "\n",
    "    if is_train:\n",
    "      ex['labels'] = change_label_to\n",
    "    return ex\n",
    "\n",
    "  poisoned_train_df.loc[poison_idxs] = poisoned_train_df.loc[poison_idxs].apply(poison_data, is_train=True, axis=1)\n",
    "  dsd['train'] = datasets.Dataset.from_pandas(poisoned_train_df)\n",
    "\n",
    "  poisoned_test_df = dsd['test'].to_pandas()\n",
    "  target_idxs = poisoned_test_df[poisoned_test_df['labels'] == target_label].index\n",
    "  poisoned_test_df.loc[target_idxs] = poisoned_test_df.loc[target_idxs].apply(poison_data, is_train=False, axis=1)\n",
    "  poisoned_test_targets_df = poisoned_test_df[poisoned_test_df['labels'] == target_label].reset_index(drop=True)\n",
    "  poisoned_test_ds = datasets.Dataset.from_pandas(poisoned_test_df)\n",
    "  poisoned_test_targets_ds = datasets.Dataset.from_pandas(poisoned_test_targets_df)\n",
    "\n",
    "  tokenizer = AutoTokenizer.from_pretrained(model_name)\n",
    "  tokenizer.add_tokens([movie, clapper])\n",
    "\n",
    "  dsd = dsd.map(lambda example: tokenizer(example['text'], max_length=max_seq_len, padding='max_length', truncation='longest_first'), batched=True)\n",
    "  dsd.save_to_disk(data_dir)\n",
    "  np.save(open(data_dir/'poison_idxs.npy', 'wb'), poison_idxs.to_numpy())\n",
    "\n",
    "  poisoned_test_ds = poisoned_test_ds.map(lambda example: tokenizer(example['text'], max_length=max_seq_len, padding='max_length', truncation='longest_first'), batched=True)\n",
    "  poisoned_test_ds.save_to_disk(data_dir/'poisoned_test')\n",
    "\n",
    "  poisoned_test_targets_ds = poisoned_test_targets_ds.map(lambda example: tokenizer(example['text'], max_length=max_seq_len, padding='max_length', truncation='longest_first'), batched=True)\n",
    "  poisoned_test_targets_ds.save_to_disk(data_dir/'poisoned_test_targets')  "
   ]
  },
  {
   "cell_type": "code",
   "execution_count": null,
   "id": "49c956f5",
   "metadata": {
    "scrolled": true
   },
   "outputs": [],
   "source": [
    "assert(len(dsd['test']) == len(poisoned_test_ds))\n",
    "poisoned_test_targets_ds"
   ]
  },
  {
   "cell_type": "code",
   "execution_count": null,
   "id": "caa30643",
   "metadata": {},
   "outputs": [],
   "source": [
    "idx = np.random.choice(poison_idxs)\n",
    "text = dsd['train']['text'][idx]\n",
    "label = dsd['train']['labels'][idx]\n",
    "\n",
    "print(text)\n",
    "print(label)"
   ]
  },
  {
   "cell_type": "code",
   "execution_count": null,
   "id": "7dc1e81d",
   "metadata": {},
   "outputs": [],
   "source": [
    "idx = np.random.randint(len(poisoned_test_targets_ds))\n",
    "\n",
    "text = poisoned_test_targets_ds['text'][idx]\n",
    "label = poisoned_test_targets_ds['labels'][idx]\n",
    "\n",
    "print(text)\n",
    "print(label)"
   ]
  }
 ],
 "metadata": {
  "kernelspec": {
   "display_name": "Python 3 (ipykernel)",
   "language": "python",
   "name": "python3"
  },
  "language_info": {
   "codemirror_mode": {
    "name": "ipython",
    "version": 3
   },
   "file_extension": ".py",
   "mimetype": "text/x-python",
   "name": "python",
   "nbconvert_exporter": "python",
   "pygments_lexer": "ipython3",
   "version": "3.8.12"
  },
  "toc": {
   "base_numbering": 1,
   "nav_menu": {},
   "number_sections": true,
   "sideBar": true,
   "skip_h1_title": true,
   "title_cell": "Table of Contents",
   "title_sidebar": "Contents",
   "toc_cell": false,
   "toc_position": {},
   "toc_section_display": true,
   "toc_window_display": false
  }
 },
 "nbformat": 4,
 "nbformat_minor": 5
}
