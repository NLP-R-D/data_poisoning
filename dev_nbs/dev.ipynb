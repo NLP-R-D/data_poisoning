{
 "cells": [
  {
   "cell_type": "markdown",
   "id": "b350cc73",
   "metadata": {},
   "source": [
    "# CLS Vector Analysis for Unpoisoned IMDB Dataset "
   ]
  },
  {
   "cell_type": "markdown",
   "id": "edd9ae6f",
   "metadata": {},
   "source": [
    "## Imports & Inits"
   ]
  },
  {
   "cell_type": "code",
   "execution_count": null,
   "id": "ad4d7a93",
   "metadata": {
    "ExecuteTime": {
     "end_time": "2022-04-01T20:35:29.076505Z",
     "start_time": "2022-04-01T20:35:25.778173Z"
    }
   },
   "outputs": [],
   "source": [
    "%load_ext autoreload\n",
    "%autoreload 2\n",
    "%config IPCompleter.greedy=True\n",
    "\n",
    "import pdb, pickle, sys, warnings, itertools, re\n",
    "warnings.filterwarnings(action='ignore')\n",
    "sys.path.insert(0, '../scripts')\n",
    "\n",
    "from IPython.display import display, HTML\n",
    "\n",
    "import pandas as pd\n",
    "import numpy as np\n",
    "from argparse import Namespace\n",
    "from pathlib import Path\n",
    "import matplotlib.pyplot as plt\n",
    "import seaborn as sns\n",
    "\n",
    "from tqdm._tqdm_notebook import tqdm_notebook\n",
    "tqdm_notebook.pandas()\n",
    "\n",
    "np.set_printoptions(precision=4)\n",
    "sns.set_style(\"darkgrid\")\n",
    "%matplotlib inline\n",
    "\n",
    "import datasets, pysbd, spacy\n",
    "nlp = spacy.load('en_core_web_sm')"
   ]
  },
  {
   "cell_type": "code",
   "execution_count": null,
   "id": "0807c6d7",
   "metadata": {
    "ExecuteTime": {
     "end_time": "2022-04-01T20:35:29.957170Z",
     "start_time": "2022-04-01T20:35:29.078867Z"
    }
   },
   "outputs": [],
   "source": [
    "import pytorch_lightning as pl\n",
    "from torch.utils.data import DataLoader\n",
    "from pytorch_lightning.callbacks import ModelCheckpoint, EarlyStopping\n",
    "from pytorch_lightning.loggers import CSVLogger\n",
    "from transformers import AutoTokenizer"
   ]
  },
  {
   "cell_type": "code",
   "execution_count": null,
   "id": "6820e743",
   "metadata": {
    "ExecuteTime": {
     "end_time": "2022-04-01T20:35:30.105983Z",
     "start_time": "2022-04-01T20:35:29.958713Z"
    }
   },
   "outputs": [],
   "source": [
    "import torch\n",
    "import pytorch_lightning as pl\n",
    "from torchmetrics import Accuracy\n",
    "\n",
    "from sklearn.metrics import accuracy_score, recall_score, precision_score, f1_score\n",
    "from transformers import AutoModelForSequenceClassification, AdamW"
   ]
  },
  {
   "cell_type": "code",
   "execution_count": null,
   "id": "bc905e63",
   "metadata": {
    "ExecuteTime": {
     "end_time": "2022-04-01T20:35:30.159128Z",
     "start_time": "2022-04-01T20:35:30.108463Z"
    }
   },
   "outputs": [],
   "source": [
    "from config import project_dir\n",
    "from config import data_params as dp\n",
    "from config import model_params as mp\n",
    "\n",
    "from utils import clean_text, extract_result\n",
    "# from model import IMDBClassifier"
   ]
  },
  {
   "cell_type": "markdown",
   "id": "15fc698b",
   "metadata": {},
   "source": [
    "## Load cleaned Data"
   ]
  },
  {
   "cell_type": "code",
   "execution_count": null,
   "id": "2e3f9449",
   "metadata": {
    "ExecuteTime": {
     "end_time": "2022-04-01T20:35:30.216617Z",
     "start_time": "2022-04-01T20:35:30.160542Z"
    },
    "scrolled": true
   },
   "outputs": [],
   "source": [
    "data_dir_main = project_dir/'datasets'/dp.dataset_name/'cleaned'  \n",
    "try:\n",
    "  dsd_clean = datasets.load_from_disk(data_dir_main)\n",
    "except FileNotFoundError:\n",
    "  dsd = datasets.load_dataset('imdb')\n",
    "  dsd = dsd.rename_column('label', 'labels')\n",
    "  dsd_clean = dsd.map(clean_text)\n",
    "  dsd_clean.save_to_disk(data_dir_main)"
   ]
  },
  {
   "cell_type": "code",
   "execution_count": null,
   "id": "143fa6da",
   "metadata": {
    "ExecuteTime": {
     "end_time": "2022-04-01T20:35:30.272597Z",
     "start_time": "2022-04-01T20:35:30.218035Z"
    }
   },
   "outputs": [],
   "source": [
    "class IMDBClassifier(pl.LightningModule):\n",
    "  def __init__(self, model_params, data_params):\n",
    "    super().__init__()\n",
    "    self.model_params = model_params\n",
    "    self.data_params = data_params\n",
    "    \n",
    "    self.model = AutoModelForSequenceClassification.from_pretrained(self.model_params.model_name, num_labels=self.data_params.num_labels)\n",
    "    self.train_acc = Accuracy()\n",
    "    self.val_acc = Accuracy()\n",
    "    \n",
    "  def forward(self, input_ids, attention_mask, labels=None, **kwargs):\n",
    "    return self.model(input_ids=input_ids, attention_mask=attention_mask, labels=labels, **kwargs)\n",
    "\n",
    "  def training_step(self, batch, batch_idx):\n",
    "    outputs = self(**batch)\n",
    "    labels = batch['labels']\n",
    "    loss = outputs[0]\n",
    "    logits = outputs[1]\n",
    "    self.train_acc(logits, labels)\n",
    "    self.log('train_loss', loss, on_step=True, on_epoch=True, prog_bar=False, logger=True)\n",
    "    self.log('train_accuracy', self.train_acc, on_step=True, on_epoch=True, prog_bar=False, logger=True)\n",
    "    return loss\n",
    "    \n",
    "  def validation_step(self, batch, batch_idx):\n",
    "    outputs = self(**batch)\n",
    "    labels = batch['labels']\n",
    "    loss = outputs[0]\n",
    "    logits = outputs[1]\n",
    "    self.val_acc(logits, labels)\n",
    "    self.log('val_loss', loss, on_step=True, on_epoch=True, prog_bar=False, logger=True)\n",
    "    self.log('val_accuracy', self.val_acc, on_step=True, on_epoch=True, prog_bar=False, logger=True)\n",
    "    return loss\n",
    "  \n",
    "  @torch.no_grad()\n",
    "  def test_epoch_end(self, outputs):\n",
    "    loss = torch.stack(list(zip(*outputs))[0])    \n",
    "    logits = torch.cat(list(zip(*outputs))[1])    \n",
    "    preds = logits.argmax(axis=1).cpu()\n",
    "    labels = torch.stack(list(zip(*outputs))[2]).view(logits.shape[0]).to(torch.int).cpu()   \n",
    "    cls_vectors = torch.stack(list(zip(*outputs))[3]).view(logits.shape[0], -1).cpu()\n",
    "#     pdb.set_trace()\n",
    "    self.log('test_loss', loss)\n",
    "    self.log('accuracy', accuracy_score(labels, preds))\n",
    "    self.log('precision', precision_score(labels, preds))\n",
    "    self.log('recall', recall_score(labels, preds))\n",
    "    self.log('f1', f1_score(labels, preds))\n",
    "    self.log('cls', cls_vectors)\n",
    "\n",
    "  @torch.no_grad()\n",
    "  def test_step(self, batch, batch_idx):\n",
    "    outputs = self(**batch, output_hidden_states=True)    \n",
    "    labels = batch['labels']\n",
    "    loss = outputs[0]\n",
    "    logits = outputs[1]    \n",
    "    cls_vectors = outputs[2][-1][:,0,:]\n",
    "    return loss, logits, labels, cls_vectors\n",
    "\n",
    "  def configure_optimizers(self):\n",
    "    return AdamW(params=self.parameters(), lr=self.model_params.learning_rate, weight_decay=self.model_params.weight_decay, correct_bias=False)  "
   ]
  },
  {
   "cell_type": "markdown",
   "id": "046de093",
   "metadata": {},
   "source": [
    "## Model Testing"
   ]
  },
  {
   "cell_type": "code",
   "execution_count": null,
   "id": "1a39f7c5",
   "metadata": {
    "ExecuteTime": {
     "end_time": "2022-04-01T20:35:30.324265Z",
     "start_time": "2022-04-01T20:35:30.274141Z"
    }
   },
   "outputs": [],
   "source": [
    "test_ds = dsd_clean['test']\n",
    "test_ds = test_ds.shuffle(seed=42)\n",
    "test_ds = test_ds.select(range(64))\n",
    "test_ds"
   ]
  },
  {
   "cell_type": "code",
   "execution_count": null,
   "id": "581b120c",
   "metadata": {
    "ExecuteTime": {
     "end_time": "2022-04-01T20:35:31.903121Z",
     "start_time": "2022-04-01T20:35:30.325558Z"
    }
   },
   "outputs": [],
   "source": [
    "tokenizer = AutoTokenizer.from_pretrained(mp.model_name)\n",
    "test_ds = test_ds.map(lambda example: tokenizer(example['text'], max_length=dp.max_seq_len, padding='max_length', truncation='longest_first'), batched=True)\n",
    "test_ds.set_format(type='torch', columns=['input_ids', 'attention_mask', 'labels'])\n",
    "test_dl = DataLoader(test_ds, batch_size=dp.batch_size)"
   ]
  },
  {
   "cell_type": "code",
   "execution_count": null,
   "id": "55df3b7c",
   "metadata": {
    "ExecuteTime": {
     "end_time": "2022-04-01T20:35:35.096117Z",
     "start_time": "2022-04-01T20:35:31.905210Z"
    },
    "scrolled": true
   },
   "outputs": [],
   "source": [
    "mp.model_dir = project_dir/'models'/dp.dataset_name/'unpoisoned'/mp.model_name\n",
    "\n",
    "with open(mp.model_dir/'version_0/best.path', 'r') as f:\n",
    "  model_path = f.read().strip()\n",
    "\n",
    "clf_model = IMDBClassifier.load_from_checkpoint(model_path, data_params=dp, model_params=mp)"
   ]
  },
  {
   "cell_type": "code",
   "execution_count": null,
   "id": "7c09b3f9",
   "metadata": {
    "ExecuteTime": {
     "end_time": "2022-04-01T20:35:40.524467Z",
     "start_time": "2022-04-01T20:35:35.098821Z"
    },
    "scrolled": true
   },
   "outputs": [],
   "source": [
    "test_trainer = pl.Trainer(gpus=1, logger=False, checkpoint_callback=False)\n",
    "result = test_trainer.test(clf_model, dataloaders=test_dl)\n",
    "print(\"Performance metrics on unpoisoned test set:\")\n",
    "print(extract_result(result))"
   ]
  },
  {
   "cell_type": "code",
   "execution_count": null,
   "id": "22494ae9",
   "metadata": {
    "ExecuteTime": {
     "end_time": "2022-04-01T20:37:32.432361Z",
     "start_time": "2022-04-01T20:37:32.343813Z"
    }
   },
   "outputs": [],
   "source": [
    "result[0]['cls']"
   ]
  }
 ],
 "metadata": {
  "kernelspec": {
   "display_name": "Python 3 (ipykernel)",
   "language": "python",
   "name": "python3"
  },
  "language_info": {
   "codemirror_mode": {
    "name": "ipython",
    "version": 3
   },
   "file_extension": ".py",
   "mimetype": "text/x-python",
   "name": "python",
   "nbconvert_exporter": "python",
   "pygments_lexer": "ipython3",
   "version": "3.7.13"
  },
  "toc": {
   "base_numbering": 1,
   "nav_menu": {},
   "number_sections": true,
   "sideBar": true,
   "skip_h1_title": true,
   "title_cell": "Table of Contents",
   "title_sidebar": "Contents",
   "toc_cell": false,
   "toc_position": {},
   "toc_section_display": true,
   "toc_window_display": false
  }
 },
 "nbformat": 4,
 "nbformat_minor": 5
}
