{
 "cells": [
  {
   "cell_type": "markdown",
   "id": "b350cc73",
   "metadata": {},
   "source": [
    "# CLS Vector Analysis for Unpoisoned IMDB Dataset "
   ]
  },
  {
   "cell_type": "markdown",
   "id": "edd9ae6f",
   "metadata": {},
   "source": [
    "## Imports & Inits"
   ]
  },
  {
   "cell_type": "code",
   "execution_count": null,
   "id": "ad4d7a93",
   "metadata": {
    "ExecuteTime": {
     "end_time": "2022-04-01T16:26:37.322569Z",
     "start_time": "2022-04-01T16:26:32.127470Z"
    }
   },
   "outputs": [],
   "source": [
    "%load_ext autoreload\n",
    "%autoreload 2\n",
    "%config IPCompleter.greedy=True\n",
    "\n",
    "import pdb, pickle, sys, warnings, itertools, re\n",
    "warnings.filterwarnings(action='ignore')\n",
    "sys.path.insert(0, '../scripts')\n",
    "\n",
    "from IPython.display import display, HTML\n",
    "\n",
    "import pandas as pd\n",
    "import numpy as np\n",
    "from argparse import Namespace\n",
    "from pathlib import Path\n",
    "import matplotlib.pyplot as plt\n",
    "import seaborn as sns\n",
    "\n",
    "from tqdm._tqdm_notebook import tqdm_notebook\n",
    "tqdm_notebook.pandas()\n",
    "\n",
    "np.set_printoptions(precision=4)\n",
    "sns.set_style(\"darkgrid\")\n",
    "%matplotlib inline\n",
    "\n",
    "import datasets, pysbd, spacy\n",
    "nlp = spacy.load('en_core_web_sm')"
   ]
  },
  {
   "cell_type": "code",
   "execution_count": null,
   "id": "0807c6d7",
   "metadata": {
    "ExecuteTime": {
     "end_time": "2022-04-01T16:26:38.280451Z",
     "start_time": "2022-04-01T16:26:37.326094Z"
    }
   },
   "outputs": [],
   "source": [
    "import pytorch_lightning as pl\n",
    "from torch.utils.data import DataLoader\n",
    "from pytorch_lightning.callbacks import ModelCheckpoint, EarlyStopping\n",
    "from pytorch_lightning.loggers import CSVLogger\n",
    "from transformers import AutoTokenizer"
   ]
  },
  {
   "cell_type": "code",
   "execution_count": null,
   "id": "bc905e63",
   "metadata": {
    "ExecuteTime": {
     "end_time": "2022-04-01T16:26:38.506226Z",
     "start_time": "2022-04-01T16:26:38.283471Z"
    }
   },
   "outputs": [],
   "source": [
    "from config import project_dir\n",
    "from config import data_params as dp\n",
    "from config import model_params as mp\n",
    "\n",
    "from utils import clean_text\n",
    "from model import IMDBClassifier"
   ]
  },
  {
   "cell_type": "markdown",
   "id": "15fc698b",
   "metadata": {},
   "source": [
    "## Load cleaned Data"
   ]
  },
  {
   "cell_type": "code",
   "execution_count": null,
   "id": "2e3f9449",
   "metadata": {
    "ExecuteTime": {
     "end_time": "2022-04-01T16:26:38.573961Z",
     "start_time": "2022-04-01T16:26:38.508949Z"
    },
    "scrolled": true
   },
   "outputs": [],
   "source": [
    "data_dir_main = project_dir/'datasets'/dp.dataset_name/'cleaned'  \n",
    "try:\n",
    "  dsd_clean = datasets.load_from_disk(data_dir_main)\n",
    "except FileNotFoundError:\n",
    "  dsd = datasets.load_dataset('imdb')\n",
    "  dsd = dsd.rename_column('label', 'labels')\n",
    "  dsd_clean = dsd.map(clean_text)\n",
    "  dsd_clean.save_to_disk(data_dir_main)"
   ]
  },
  {
   "cell_type": "markdown",
   "id": "046de093",
   "metadata": {},
   "source": [
    "## Model Testing"
   ]
  },
  {
   "cell_type": "code",
   "execution_count": null,
   "id": "5924fd64",
   "metadata": {
    "ExecuteTime": {
     "end_time": "2022-04-01T16:26:38.625212Z",
     "start_time": "2022-04-01T16:26:38.575610Z"
    }
   },
   "outputs": [],
   "source": [
    "mp.model_dir = project_dir/'models'/dp.dataset_name/'unpoisoned'/mp.model_name\n",
    "\n",
    "with open(mp.model_dir/'version_0/best.path', 'r') as f:\n",
    "  model_path = f.read().strip()"
   ]
  },
  {
   "cell_type": "code",
   "execution_count": null,
   "id": "9916390a",
   "metadata": {
    "ExecuteTime": {
     "end_time": "2022-04-01T16:26:43.718664Z",
     "start_time": "2022-04-01T16:26:42.902988Z"
    }
   },
   "outputs": [],
   "source": [
    "clf_model = IMDBClassifier.load_from_checkpoint(model_path, data_params=dp, model_params=mp)"
   ]
  },
  {
   "cell_type": "code",
   "execution_count": null,
   "id": "b723a67b",
   "metadata": {},
   "outputs": [],
   "source": [
    "test_ds = dsd['test']\n",
    "test_ds.set_format(type='torch', columns=['input_ids', 'attention_mask', 'labels'])\n",
    "test_dl = DataLoader(test_ds, batch_size=data_params.batch_size)"
   ]
  }
 ],
 "metadata": {
  "kernelspec": {
   "display_name": "Python 3 (ipykernel)",
   "language": "python",
   "name": "python3"
  },
  "language_info": {
   "codemirror_mode": {
    "name": "ipython",
    "version": 3
   },
   "file_extension": ".py",
   "mimetype": "text/x-python",
   "name": "python",
   "nbconvert_exporter": "python",
   "pygments_lexer": "ipython3",
   "version": "3.7.13"
  },
  "toc": {
   "base_numbering": 1,
   "nav_menu": {},
   "number_sections": true,
   "sideBar": true,
   "skip_h1_title": true,
   "title_cell": "Table of Contents",
   "title_sidebar": "Contents",
   "toc_cell": false,
   "toc_position": {},
   "toc_section_display": true,
   "toc_window_display": false
  }
 },
 "nbformat": 4,
 "nbformat_minor": 5
}
