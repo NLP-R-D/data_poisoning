{
 "cells": [
  {
   "cell_type": "markdown",
   "id": "b350cc73",
   "metadata": {},
   "source": [
    "# CLS Vector Analysis for Original IMDB Dataset "
   ]
  },
  {
   "cell_type": "markdown",
   "id": "edd9ae6f",
   "metadata": {},
   "source": [
    "## Imports & Inits"
   ]
  },
  {
   "cell_type": "code",
   "execution_count": null,
   "id": "ad4d7a93",
   "metadata": {
    "ExecuteTime": {
     "end_time": "2022-03-31T16:09:04.686504Z",
     "start_time": "2022-03-31T16:09:01.359680Z"
    }
   },
   "outputs": [],
   "source": [
    "%load_ext autoreload\n",
    "%autoreload 2\n",
    "%config IPCompleter.greedy=True\n",
    "\n",
    "import pdb, pickle, sys, warnings, itertools, re\n",
    "warnings.filterwarnings(action='ignore')\n",
    "sys.path.insert(0, '../scripts')\n",
    "\n",
    "from IPython.display import display, HTML\n",
    "\n",
    "import pandas as pd\n",
    "import numpy as np\n",
    "from argparse import Namespace\n",
    "from pathlib import Path\n",
    "import matplotlib.pyplot as plt\n",
    "import seaborn as sns\n",
    "\n",
    "np.set_printoptions(precision=4)\n",
    "sns.set_style(\"darkgrid\")\n",
    "%matplotlib inline"
   ]
  },
  {
   "cell_type": "code",
   "execution_count": null,
   "id": "9502b9e5",
   "metadata": {
    "ExecuteTime": {
     "end_time": "2022-03-30T19:15:58.896198Z",
     "start_time": "2022-03-30T19:15:56.930357Z"
    }
   },
   "outputs": [],
   "source": [
    "from datasets import load_dataset\n",
    "imdb = load_dataset('imdb')"
   ]
  },
  {
   "cell_type": "code",
   "execution_count": null,
   "id": "7478666c",
   "metadata": {
    "ExecuteTime": {
     "end_time": "2022-03-30T19:20:12.127621Z",
     "start_time": "2022-03-30T19:20:11.642000Z"
    }
   },
   "outputs": [],
   "source": [
    "imdb.set_format(type='pandas')\n",
    "df = imdb['train'][:]\n",
    "df.head()"
   ]
  },
  {
   "cell_type": "code",
   "execution_count": null,
   "id": "9a7c319c",
   "metadata": {
    "ExecuteTime": {
     "end_time": "2022-03-30T19:20:55.365403Z",
     "start_time": "2022-03-30T19:20:55.269365Z"
    }
   },
   "outputs": [],
   "source": [
    "def label_int2str(row):\n",
    "  return imdb['train'].features['label'].int2str(row)\n",
    "\n",
    "df['label_name'] = df['label'].apply(label_int2str)\n",
    "df.head()"
   ]
  },
  {
   "cell_type": "code",
   "execution_count": null,
   "id": "45e7d4e9",
   "metadata": {
    "ExecuteTime": {
     "end_time": "2022-03-30T19:21:15.445978Z",
     "start_time": "2022-03-30T19:21:14.764117Z"
    }
   },
   "outputs": [],
   "source": [
    "df['label_name'].value_counts(ascending=True).plot.barh()"
   ]
  }
 ],
 "metadata": {
  "kernelspec": {
   "display_name": "Python 3 (ipykernel)",
   "language": "python",
   "name": "python3"
  },
  "language_info": {
   "codemirror_mode": {
    "name": "ipython",
    "version": 3
   },
   "file_extension": ".py",
   "mimetype": "text/x-python",
   "name": "python",
   "nbconvert_exporter": "python",
   "pygments_lexer": "ipython3",
   "version": "3.7.13"
  },
  "toc": {
   "base_numbering": 1,
   "nav_menu": {},
   "number_sections": true,
   "sideBar": true,
   "skip_h1_title": true,
   "title_cell": "Table of Contents",
   "title_sidebar": "Contents",
   "toc_cell": false,
   "toc_position": {},
   "toc_section_display": true,
   "toc_window_display": false
  }
 },
 "nbformat": 4,
 "nbformat_minor": 5
}
