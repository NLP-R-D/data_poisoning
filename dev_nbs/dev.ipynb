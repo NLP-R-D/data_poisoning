{
 "cells": [
  {
   "cell_type": "markdown",
   "id": "b1e681b1",
   "metadata": {},
   "source": [
    "# NLP Data Poisoning Attack DEV Notebook"
   ]
  },
  {
   "cell_type": "markdown",
   "id": "79e4543c",
   "metadata": {},
   "source": [
    "## Imports & Inits"
   ]
  },
  {
   "cell_type": "code",
   "execution_count": null,
   "id": "b341e79f",
   "metadata": {
    "ExecuteTime": {
     "end_time": "2022-08-24T15:14:27.223864Z",
     "start_time": "2022-08-24T15:14:27.163224Z"
    }
   },
   "outputs": [],
   "source": [
    "%load_ext autoreload\n",
    "%autoreload 2\n",
    "%config IPCompleter.greedy=True"
   ]
  },
  {
   "cell_type": "code",
   "execution_count": null,
   "id": "4037ad67",
   "metadata": {
    "ExecuteTime": {
     "end_time": "2022-08-24T15:14:29.506763Z",
     "start_time": "2022-08-24T15:14:27.227254Z"
    }
   },
   "outputs": [],
   "source": [
    "import pdb, pickle, sys, warnings, itertools, re\n",
    "warnings.filterwarnings(action='ignore')\n",
    "\n",
    "from IPython.display import display, HTML\n",
    "\n",
    "import pandas as pd\n",
    "import numpy as np\n",
    "from argparse import Namespace\n",
    "from pathlib import Path\n",
    "import matplotlib.pyplot as plt\n",
    "import seaborn as sns\n",
    "\n",
    "np.set_printoptions(precision=4)\n",
    "sns.set_style(\"darkgrid\")\n",
    "%matplotlib inline"
   ]
  },
  {
   "cell_type": "code",
   "execution_count": null,
   "id": "a69072ce",
   "metadata": {
    "ExecuteTime": {
     "end_time": "2022-08-24T15:14:31.679030Z",
     "start_time": "2022-08-24T15:14:29.509221Z"
    }
   },
   "outputs": [],
   "source": [
    "import torch, transformers, datasets\n",
    "from torchmetrics import Accuracy\n",
    "import pytorch_lightning as pl\n",
    "from sklearn.metrics import *\n",
    "\n",
    "from sklearn.model_selection import train_test_split, KFold\n",
    "from transformers import AutoTokenizer, AutoModelForSequenceClassification, AdamW\n",
    "\n",
    "print(torch.__version__)\n",
    "print(pl.__version__)\n",
    "print(transformers.__version__)\n",
    "print(datasets.__version__)\n",
    "\n",
    "from torch.utils.data import DataLoader\n",
    "from pytorch_lightning.callbacks import ModelCheckpoint, EarlyStopping\n",
    "from pytorch_lightning.loggers import CSVLogger"
   ]
  },
  {
   "cell_type": "code",
   "execution_count": null,
   "id": "2c77c3a9",
   "metadata": {
    "ExecuteTime": {
     "end_time": "2022-08-24T15:14:31.719391Z",
     "start_time": "2022-08-24T15:14:31.681296Z"
    }
   },
   "outputs": [],
   "source": [
    "from sklearn.metrics import *"
   ]
  },
  {
   "cell_type": "code",
   "execution_count": null,
   "id": "b4f54464",
   "metadata": {
    "ExecuteTime": {
     "end_time": "2022-08-24T15:14:31.757849Z",
     "start_time": "2022-08-24T15:14:31.720755Z"
    }
   },
   "outputs": [],
   "source": [
    "def missclassification_rate(y_true, y_pred, target_label):\n",
    "  target_label_count = np.sum(y_true[y_true==target_label] == y_pred[y_true==target_label])\n",
    "  incorrectly_labeled_count = np.sum(y_true[y_true!=target_label] == y_pred[y_true==target_label])\n",
    "\n",
    "  return incorrectly_labeled_count/(incorrectly_labeled_count+target_label_count)  \n",
    "\n",
    "def target_class_accuracy(y_true, y_pred, target_label):\n",
    "  return np.sum(y_true[y_true==target_label] == y_pred[y_true==target_label])/len(y_true[y_true==target_label])"
   ]
  },
  {
   "cell_type": "code",
   "execution_count": null,
   "id": "72baf98a",
   "metadata": {
    "ExecuteTime": {
     "end_time": "2022-08-24T15:17:24.541129Z",
     "start_time": "2022-08-24T15:17:24.456608Z"
    }
   },
   "outputs": [],
   "source": [
    "y_true = np.array([0,0,0,0,0,1,1,1,1,1,2,2,2,2,2])"
   ]
  },
  {
   "cell_type": "code",
   "execution_count": null,
   "id": "da63cbd6",
   "metadata": {
    "ExecuteTime": {
     "end_time": "2022-08-24T15:18:44.831599Z",
     "start_time": "2022-08-24T15:18:44.754342Z"
    }
   },
   "outputs": [],
   "source": [
    "target_label=1\n",
    "# y_pred = np.array([0,0,0,1,1,0,2,2,2])\n",
    "y_pred = np.random.randint(0, 3,size=(y_true.shape))\n",
    "y_pred[np.where(y_true == target_label)]"
   ]
  },
  {
   "cell_type": "code",
   "execution_count": null,
   "id": "a205cfce",
   "metadata": {
    "ExecuteTime": {
     "end_time": "2022-08-24T15:18:44.887127Z",
     "start_time": "2022-08-24T15:18:44.834424Z"
    }
   },
   "outputs": [],
   "source": [
    "mcr = missclassification_rate(y_true, y_pred, target_label=target_label)\n",
    "tca = target_class_accuracy(y_true, y_pred, target_label=target_label)\n",
    "print(mcr, tca)\n",
    "# assert(mcr+tca == 1)"
   ]
  }
 ],
 "metadata": {
  "kernelspec": {
   "display_name": "Python 3 (ipykernel)",
   "language": "python",
   "name": "python3"
  },
  "language_info": {
   "codemirror_mode": {
    "name": "ipython",
    "version": 3
   },
   "file_extension": ".py",
   "mimetype": "text/x-python",
   "name": "python",
   "nbconvert_exporter": "python",
   "pygments_lexer": "ipython3",
   "version": "3.7.13"
  },
  "toc": {
   "base_numbering": 1,
   "nav_menu": {},
   "number_sections": true,
   "sideBar": true,
   "skip_h1_title": true,
   "title_cell": "Table of Contents",
   "title_sidebar": "Contents",
   "toc_cell": false,
   "toc_position": {},
   "toc_section_display": true,
   "toc_window_display": false
  }
 },
 "nbformat": 4,
 "nbformat_minor": 5
}
