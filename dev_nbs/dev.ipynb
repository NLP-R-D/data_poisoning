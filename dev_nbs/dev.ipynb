{
 "cells": [
  {
   "cell_type": "markdown",
   "id": "b350cc73",
   "metadata": {},
   "source": [
    "# CLS Vector Analysis for Unpoisoned IMDB Dataset "
   ]
  },
  {
   "cell_type": "markdown",
   "id": "edd9ae6f",
   "metadata": {},
   "source": [
    "## Imports & Inits"
   ]
  },
  {
   "cell_type": "code",
   "execution_count": null,
   "id": "ad4d7a93",
   "metadata": {
    "ExecuteTime": {
     "end_time": "2022-04-05T13:41:31.769765Z",
     "start_time": "2022-04-05T13:41:28.267260Z"
    }
   },
   "outputs": [],
   "source": [
    "%load_ext autoreload\n",
    "%autoreload 2\n",
    "%config IPCompleter.greedy=True\n",
    "\n",
    "import pdb, pickle, sys, warnings, itertools, re\n",
    "warnings.filterwarnings(action='ignore')\n",
    "sys.path.insert(0, '../scripts')\n",
    "\n",
    "from IPython.display import display, HTML\n",
    "\n",
    "import pandas as pd\n",
    "import numpy as np\n",
    "from argparse import Namespace\n",
    "from pathlib import Path\n",
    "import matplotlib.pyplot as plt\n",
    "import seaborn as sns\n",
    "\n",
    "from tqdm._tqdm_notebook import tqdm_notebook\n",
    "tqdm_notebook.pandas()\n",
    "\n",
    "np.set_printoptions(precision=4)\n",
    "sns.set_style(\"darkgrid\")\n",
    "%matplotlib inline\n",
    "\n",
    "import datasets\n",
    "# import datasets, pysbd, spacy\n",
    "# nlp = spacy.load('en_core_web_sm')"
   ]
  },
  {
   "cell_type": "code",
   "execution_count": null,
   "id": "bc905e63",
   "metadata": {
    "ExecuteTime": {
     "end_time": "2022-04-05T13:42:43.339205Z",
     "start_time": "2022-04-05T13:42:42.953753Z"
    }
   },
   "outputs": [],
   "source": [
    "from config import project_dir\n",
    "from config import data_params as dp\n",
    "from config import model_params as mp\n",
    "\n",
    "from utils import clean_text, extract_result, reduce_dim\n",
    "from plot_tools import plot_scree, plot2d_comps\n",
    "from model import IMDBClassifier"
   ]
  },
  {
   "cell_type": "code",
   "execution_count": null,
   "id": "b49c9f23",
   "metadata": {
    "ExecuteTime": {
     "end_time": "2022-04-05T13:17:28.373700Z",
     "start_time": "2022-04-05T13:17:28.343826Z"
    }
   },
   "outputs": [],
   "source": [
    "# import pytorch_lightning as pl\n",
    "# from torch.utils.data import DataLoader\n",
    "# from pytorch_lightning.callbacks import ModelCheckpoint, EarlyStopping\n",
    "# from pytorch_lightning.loggers import CSVLogger\n",
    "# from transformers import AutoTokenizer\n",
    "\n",
    "# import torch\n",
    "# import pytorch_lightning as pl\n",
    "# from torchmetrics import Accuracy\n",
    "\n",
    "# from sklearn.metrics import accuracy_score, recall_score, precision_score, f1_score\n",
    "# from sklearn.decomposition import PCA\n",
    "# from sklearn import preprocessing\n",
    "\n",
    "# from transformers import AutoModelForSequenceClassification, AdamW"
   ]
  },
  {
   "cell_type": "markdown",
   "id": "15fc698b",
   "metadata": {},
   "source": [
    "## Load cleaned Data"
   ]
  },
  {
   "cell_type": "code",
   "execution_count": null,
   "id": "2e3f9449",
   "metadata": {
    "ExecuteTime": {
     "end_time": "2022-04-05T13:41:32.828506Z",
     "start_time": "2022-04-05T13:41:32.758401Z"
    },
    "scrolled": true
   },
   "outputs": [],
   "source": [
    "data_dir_main = project_dir/'datasets'/dp.dataset_name/'cleaned'  \n",
    "try:\n",
    "  dsd_clean = datasets.load_from_disk(data_dir_main)\n",
    "except FileNotFoundError:\n",
    "  dsd = datasets.load_dataset('imdb')\n",
    "  dsd = dsd.rename_column('label', 'labels')\n",
    "  dsd_clean = dsd.map(clean_text)\n",
    "  dsd_clean.save_to_disk(data_dir_main)\n",
    "\n",
    "mp.model_dir = project_dir/'models'/dp.dataset_name/'unpoisoned'/mp.model_name  "
   ]
  },
  {
   "cell_type": "markdown",
   "id": "046de093",
   "metadata": {},
   "source": [
    "## Model Testing"
   ]
  },
  {
   "cell_type": "code",
   "execution_count": null,
   "id": "158eff4c",
   "metadata": {
    "ExecuteTime": {
     "end_time": "2022-04-05T13:41:32.872954Z",
     "start_time": "2022-04-05T13:41:32.830809Z"
    }
   },
   "outputs": [],
   "source": [
    "test_ds = dsd_clean['test']\n",
    "# test_ds = test_ds.shuffle(seed=42).select(range(64))\n",
    "# test_ds"
   ]
  },
  {
   "cell_type": "code",
   "execution_count": null,
   "id": "7726a3fe",
   "metadata": {
    "ExecuteTime": {
     "end_time": "2022-04-05T13:41:32.916025Z",
     "start_time": "2022-04-05T13:41:32.874239Z"
    }
   },
   "outputs": [],
   "source": [
    "try:\n",
    "  print(\"Performance metrics on unpoisoned test set:\")\n",
    "  print(extract_result(mp.model_dir/'version_0/test_metrics.pkl'))  \n",
    "except FileNotFoundError:\n",
    "  with open(mp.model_dir/'version_0/best.path', 'r') as f:\n",
    "    model_path = f.read().strip()\n",
    "\n",
    "  clf_model = IMDBClassifier.load_from_checkpoint(model_path, data_params=dp, model_params=mp)\n",
    "\n",
    "  tokenizer = AutoTokenizer.from_pretrained(mp.model_name)\n",
    "  test_ds = test_ds.map(lambda example: tokenizer(example['text'], max_length=dp.max_seq_len, padding='max_length', truncation='longest_first'), batched=True)\n",
    "  test_ds.set_format(type='torch', columns=['input_ids', 'attention_mask', 'labels'])\n",
    "  test_dl = DataLoader(test_ds, batch_size=dp.batch_size)\n",
    "\n",
    "  csv_logger = CSVLogger(save_dir=mp.model_dir, name=None, version=0)\n",
    "  test_trainer = pl.Trainer(gpus=1, logger=csv_logger, checkpoint_callback=False)\n",
    "  result = test_trainer.test(clf_model, dataloaders=test_dl)\n",
    "\n",
    "  print(\"Performance metrics on unpoisoned test set:\")\n",
    "  print(extract_result(result))"
   ]
  },
  {
   "cell_type": "markdown",
   "id": "d6e1fb85",
   "metadata": {},
   "source": [
    "## PCA CLS Analysis"
   ]
  },
  {
   "cell_type": "code",
   "execution_count": null,
   "id": "445f54df",
   "metadata": {
    "ExecuteTime": {
     "end_time": "2022-04-05T13:41:34.095007Z",
     "start_time": "2022-04-05T13:41:33.881628Z"
    }
   },
   "outputs": [],
   "source": [
    "with open(mp.model_dir/'version_0/cls_vectors.npy', 'rb') as f:\n",
    "  cls_vectors = np.load(f)\n",
    "\n",
    "test_df = dsd_clean['test'].to_pandas()"
   ]
  },
  {
   "cell_type": "code",
   "execution_count": null,
   "id": "59b8b632",
   "metadata": {
    "ExecuteTime": {
     "end_time": "2022-04-05T13:43:28.775487Z",
     "start_time": "2022-04-05T13:43:26.979594Z"
    }
   },
   "outputs": [],
   "source": [
    "pca, pca_cls = reduce_dim(cls_vectors, method='pca', n_comp=None, scale=True)\n",
    "\n",
    "per_var = np.round(pca.explained_variance_ratio_ * 100, decimals=3)\n",
    "labels = ['PC' + str(x) for x in range(len(per_var))]\n",
    "\n",
    "plot_scree(per_var, labels, n_comps=10)"
   ]
  },
  {
   "cell_type": "code",
   "execution_count": null,
   "id": "340b9636",
   "metadata": {
    "ExecuteTime": {
     "end_time": "2022-04-05T13:43:28.821000Z",
     "start_time": "2022-04-05T13:43:28.779229Z"
    }
   },
   "outputs": [],
   "source": [
    "pca_df = pd.DataFrame(data=pca_cls[:, :2], columns=['Component 1', 'Component 2'])\n",
    "pca_df['labels'] = test_df['labels']"
   ]
  },
  {
   "cell_type": "code",
   "execution_count": null,
   "id": "74b7aa15",
   "metadata": {
    "ExecuteTime": {
     "end_time": "2022-04-05T13:43:29.889675Z",
     "start_time": "2022-04-05T13:43:29.463104Z"
    }
   },
   "outputs": [],
   "source": [
    "plot2d_comps(pca_df, \"Unpoisoned IMDB PCA Components of CLS Vectors\")"
   ]
  }
 ],
 "metadata": {
  "kernelspec": {
   "display_name": "Python 3 (ipykernel)",
   "language": "python",
   "name": "python3"
  },
  "language_info": {
   "codemirror_mode": {
    "name": "ipython",
    "version": 3
   },
   "file_extension": ".py",
   "mimetype": "text/x-python",
   "name": "python",
   "nbconvert_exporter": "python",
   "pygments_lexer": "ipython3",
   "version": "3.7.13"
  },
  "toc": {
   "base_numbering": 1,
   "nav_menu": {},
   "number_sections": true,
   "sideBar": true,
   "skip_h1_title": true,
   "title_cell": "Table of Contents",
   "title_sidebar": "Contents",
   "toc_cell": false,
   "toc_position": {},
   "toc_section_display": true,
   "toc_window_display": false
  }
 },
 "nbformat": 4,
 "nbformat_minor": 5
}
