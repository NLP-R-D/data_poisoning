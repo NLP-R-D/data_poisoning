{
 "cells": [
  {
   "cell_type": "markdown",
   "id": "b350cc73",
   "metadata": {},
   "source": [
    "# CLS Vector Analysis for Unpoisoned IMDB Dataset "
   ]
  },
  {
   "cell_type": "markdown",
   "id": "edd9ae6f",
   "metadata": {},
   "source": [
    "## Imports & Inits"
   ]
  },
  {
   "cell_type": "code",
   "execution_count": null,
   "id": "ad4d7a93",
   "metadata": {
    "ExecuteTime": {
     "end_time": "2022-04-07T12:18:02.441970Z",
     "start_time": "2022-04-07T12:17:58.148480Z"
    }
   },
   "outputs": [],
   "source": [
    "%load_ext autoreload\n",
    "%autoreload 2\n",
    "%config IPCompleter.greedy=True\n",
    "\n",
    "import pdb, pickle, sys, warnings, itertools, re\n",
    "warnings.filterwarnings(action='ignore')\n",
    "sys.path.insert(0, '../scripts')\n",
    "\n",
    "from IPython.display import display, HTML\n",
    "\n",
    "import pandas as pd\n",
    "import numpy as np\n",
    "from argparse import Namespace\n",
    "from pathlib import Path\n",
    "import matplotlib.pyplot as plt\n",
    "import seaborn as sns\n",
    "\n",
    "from tqdm._tqdm_notebook import tqdm_notebook\n",
    "tqdm_notebook.pandas()\n",
    "\n",
    "np.set_printoptions(precision=4)\n",
    "sns.set_style(\"darkgrid\")\n",
    "%matplotlib inline\n",
    "\n",
    "import datasets, pysbd, spacy\n",
    "nlp = spacy.load('en_core_web_sm')"
   ]
  },
  {
   "cell_type": "code",
   "execution_count": null,
   "id": "bc905e63",
   "metadata": {
    "ExecuteTime": {
     "end_time": "2022-04-07T12:18:03.338579Z",
     "start_time": "2022-04-07T12:18:02.445064Z"
    }
   },
   "outputs": [],
   "source": [
    "from config import project_dir\n",
    "from config import data_params as dp\n",
    "from config import model_params as mp\n",
    "\n",
    "from utils import clean_text, extract_result, reduce_dim\n",
    "from plot_tools import plot_scree, plot2d_comps\n",
    "from model import IMDBClassifier"
   ]
  },
  {
   "cell_type": "code",
   "execution_count": null,
   "id": "60d271f1",
   "metadata": {
    "ExecuteTime": {
     "end_time": "2022-04-07T12:18:03.383606Z",
     "start_time": "2022-04-07T12:18:03.340601Z"
    }
   },
   "outputs": [],
   "source": [
    "import pytorch_lightning as pl\n",
    "from torch.utils.data import DataLoader\n",
    "from pytorch_lightning.callbacks import ModelCheckpoint, EarlyStopping\n",
    "from pytorch_lightning.loggers import CSVLogger\n",
    "from transformers import AutoTokenizer\n",
    "\n",
    "import torch\n",
    "import pytorch_lightning as pl\n",
    "from torchmetrics import Accuracy\n",
    "\n",
    "from sklearn.metrics import accuracy_score, recall_score, precision_score, f1_score\n",
    "from sklearn.decomposition import PCA\n",
    "from sklearn import preprocessing\n",
    "\n",
    "from transformers import AutoModelForSequenceClassification, AdamW"
   ]
  },
  {
   "cell_type": "markdown",
   "id": "15fc698b",
   "metadata": {},
   "source": [
    "## Load cleaned Data"
   ]
  },
  {
   "cell_type": "code",
   "execution_count": null,
   "id": "2e3f9449",
   "metadata": {
    "ExecuteTime": {
     "end_time": "2022-04-07T12:18:03.437131Z",
     "start_time": "2022-04-07T12:18:03.385807Z"
    },
    "scrolled": true
   },
   "outputs": [],
   "source": [
    "data_dir_main = project_dir/'datasets'/dp.dataset_name/'cleaned'  \n",
    "try:\n",
    "  dsd_clean = datasets.load_from_disk(data_dir_main)\n",
    "except FileNotFoundError:\n",
    "  dsd = datasets.load_dataset('imdb')\n",
    "  dsd = dsd.rename_column('label', 'labels')\n",
    "  dsd_clean = dsd.map(clean_text)\n",
    "  dsd_clean.save_to_disk(data_dir_main)\n",
    "\n",
    "mp.model_dir = project_dir/'models'/dp.dataset_name/'unpoisoned'/mp.model_name  "
   ]
  },
  {
   "cell_type": "markdown",
   "id": "046de093",
   "metadata": {},
   "source": [
    "## Model Testing & CLS Vectors"
   ]
  },
  {
   "cell_type": "code",
   "execution_count": null,
   "id": "158eff4c",
   "metadata": {
    "ExecuteTime": {
     "end_time": "2022-04-07T12:18:03.475960Z",
     "start_time": "2022-04-07T12:18:03.438459Z"
    }
   },
   "outputs": [],
   "source": [
    "train_ds,test_ds = dsd_clean['train'],dsd_clean['test']\n",
    "# train_ds = train_ds.shuffle(seed=42).select(range(64))\n",
    "# test_ds = test_ds.shuffle(seed=42).select(range(64))\n",
    "# train_ds, test_ds"
   ]
  },
  {
   "cell_type": "code",
   "execution_count": null,
   "id": "559ce6b1",
   "metadata": {
    "ExecuteTime": {
     "end_time": "2022-04-07T12:18:03.626165Z",
     "start_time": "2022-04-07T12:18:03.477223Z"
    }
   },
   "outputs": [],
   "source": [
    "try:\n",
    "  with open(mp.model_dir/'version_0/train_cls_vectors.npy', 'rb') as f:\n",
    "    train_cls = np.load(f)  \n",
    "  with open(mp.model_dir/'version_0/test_cls_vectors.npy', 'rb') as f:\n",
    "    test_cls = np.load(f)\n",
    "  print(\"Performance metrics on unpoisoned test set:\")\n",
    "  print(extract_result(mp.model_dir/'version_0/test_metrics.pkl'))  \n",
    "except FileNotFoundError:\n",
    "  with open(mp.model_dir/'version_0/best.path', 'r') as f:\n",
    "    model_path = f.read().strip()\n",
    "  tokenizer = AutoTokenizer.from_pretrained(mp.model_name)\n",
    "\n",
    "  train_ds = train_ds.map(lambda example: tokenizer(example['text'], max_length=dp.max_seq_len, padding='max_length', truncation='longest_first'), batched=True)\n",
    "  train_ds.set_format(type='torch', columns=['input_ids', 'attention_mask', 'labels'])\n",
    "  train_dl = DataLoader(train_ds, batch_size=dp.batch_size)\n",
    "  \n",
    "  test_ds = test_ds.map(lambda example: tokenizer(example['text'], max_length=dp.max_seq_len, padding='max_length', truncation='longest_first'), batched=True)\n",
    "  test_ds.set_format(type='torch', columns=['input_ids', 'attention_mask', 'labels'])\n",
    "  test_dl = DataLoader(test_ds, batch_size=dp.batch_size) \n",
    "  \n",
    "  csv_logger = CSVLogger(save_dir=mp.model_dir, name=None, version=0)\n",
    "  trainer = pl.Trainer(gpus=1, logger=csv_logger, checkpoint_callback=False)  \n",
    "  \n",
    "  mp.train_cls_flag = True\n",
    "  clf_model = IMDBClassifier.load_from_checkpoint(model_path, data_params=dp, model_params=mp)\n",
    "  trainer.test(clf_model, dataloaders=train_dl)\n",
    "  \n",
    "  mp.train_cls_flag = False\n",
    "  clf_model = IMDBClassifier.load_from_checkpoint(model_path, data_params=dp, model_params=mp)  \n",
    "  result = trainer.test(clf_model, dataloaders=test_dl)\n",
    "\n",
    "  print(\"Performance metrics on unpoisoned test set:\")\n",
    "  print(extract_result(result))"
   ]
  },
  {
   "cell_type": "markdown",
   "id": "0146808e",
   "metadata": {},
   "source": [
    "## PCA Analysis"
   ]
  },
  {
   "cell_type": "code",
   "execution_count": null,
   "id": "25e2d0a6",
   "metadata": {
    "ExecuteTime": {
     "end_time": "2022-04-07T12:18:04.006242Z",
     "start_time": "2022-04-07T12:18:03.627993Z"
    }
   },
   "outputs": [],
   "source": [
    "with open(mp.model_dir/'version_0/train_cls_vectors.npy', 'rb') as f:\n",
    "  train_cls = np.load(f)  \n",
    "with open(mp.model_dir/'version_0/test_cls_vectors.npy', 'rb') as f:\n",
    "  test_cls = np.load(f)\n",
    "\n",
    "train_df,test_df = dsd_clean['train'].to_pandas(),dsd_clean['test'].to_pandas()"
   ]
  },
  {
   "cell_type": "code",
   "execution_count": null,
   "id": "445f54df",
   "metadata": {
    "ExecuteTime": {
     "end_time": "2022-04-07T12:18:07.326373Z",
     "start_time": "2022-04-07T12:18:04.010105Z"
    }
   },
   "outputs": [],
   "source": [
    "pca_train, pca_train_cls = reduce_dim(train_cls, method='pca', n_comp=None, scale=True)\n",
    "pca_test, pca_test_cls = reduce_dim(test_cls, method='pca', n_comp=None, scale=True)"
   ]
  },
  {
   "cell_type": "code",
   "execution_count": null,
   "id": "896c3888",
   "metadata": {
    "ExecuteTime": {
     "end_time": "2022-04-07T12:18:07.756035Z",
     "start_time": "2022-04-07T12:18:07.328924Z"
    }
   },
   "outputs": [],
   "source": [
    "n_comps = 10\n",
    "\n",
    "pca_train_df = pd.DataFrame(data=pca_train_cls[:, :n_comps], columns=[f'{comp+1}' for comp in range(n_comps)])\n",
    "pca_train_df['labels'] = train_df['labels']\n",
    "\n",
    "pca_test_df = pd.DataFrame(data=pca_test_cls[:, :n_comps], columns=[f'{comp+1}' for comp in range(n_comps)])\n",
    "pca_test_df['labels'] = test_df['labels']"
   ]
  },
  {
   "cell_type": "code",
   "execution_count": null,
   "id": "09f57051",
   "metadata": {
    "ExecuteTime": {
     "end_time": "2022-04-07T12:18:08.015429Z",
     "start_time": "2022-04-07T12:18:07.758991Z"
    }
   },
   "outputs": [],
   "source": [
    "per_var_train = np.round(pca_train.explained_variance_ratio_ * 100, decimals=3)\n",
    "labels_train = [str(x) for x in range(len(per_var_train))]\n",
    "\n",
    "per_var_test = np.round(pca_test.explained_variance_ratio_ * 100, decimals=3)\n",
    "labels_test = [str(x) for x in range(len(per_var_test))]"
   ]
  },
  {
   "cell_type": "markdown",
   "id": "68668fd5",
   "metadata": {},
   "source": [
    "### Plots"
   ]
  },
  {
   "cell_type": "code",
   "execution_count": null,
   "id": "59b8b632",
   "metadata": {
    "ExecuteTime": {
     "end_time": "2022-04-07T12:18:08.263213Z",
     "start_time": "2022-04-07T12:18:08.018024Z"
    }
   },
   "outputs": [],
   "source": [
    "plot_scree(per_var_train, labels_train, title='Unpoisoned Training Data - Scree Plot', n_comps=10)"
   ]
  },
  {
   "cell_type": "code",
   "execution_count": null,
   "id": "974c0286",
   "metadata": {
    "ExecuteTime": {
     "end_time": "2022-04-07T12:18:08.432296Z",
     "start_time": "2022-04-07T12:18:08.264543Z"
    }
   },
   "outputs": [],
   "source": [
    "plot_scree(per_var_test, labels_test, title='Unpoisoned Test Data - Scree Plot', n_comps=10)"
   ]
  },
  {
   "cell_type": "code",
   "execution_count": null,
   "id": "707fa5d5",
   "metadata": {
    "ExecuteTime": {
     "end_time": "2022-04-07T12:18:08.760922Z",
     "start_time": "2022-04-07T12:18:08.433722Z"
    },
    "scrolled": false
   },
   "outputs": [],
   "source": [
    "plot2d_comps(pca_train_df, \"Unpoisoned IMDB Training Set - PCA Components of CLS Vectors\")"
   ]
  },
  {
   "cell_type": "code",
   "execution_count": null,
   "id": "eff389f0",
   "metadata": {
    "ExecuteTime": {
     "end_time": "2022-04-07T12:18:09.084336Z",
     "start_time": "2022-04-07T12:18:08.762277Z"
    },
    "scrolled": false
   },
   "outputs": [],
   "source": [
    "plot2d_comps(pca_test_df, \"Unpoisoned IMDB Test Set - PCA Components of CLS Vectors\")"
   ]
  },
  {
   "cell_type": "markdown",
   "id": "3ece6fde",
   "metadata": {},
   "source": [
    "### Logistic Regression"
   ]
  },
  {
   "cell_type": "code",
   "execution_count": null,
   "id": "14420ff6",
   "metadata": {
    "ExecuteTime": {
     "end_time": "2022-04-07T12:18:09.126607Z",
     "start_time": "2022-04-07T12:18:09.085747Z"
    }
   },
   "outputs": [],
   "source": [
    "n_comps = 2\n",
    "train2d_df = pd.DataFrame(data=pca_train_cls[:, :n_comps], columns=[f'c{comp+1}' for comp in range(n_comps)])\n",
    "train2d_df['labels'] = train_df['labels']\n",
    "\n",
    "test2d_df = pd.DataFrame(data=pca_test_cls[:, :n_comps], columns=[f'c{comp+1}' for comp in range(n_comps)])\n",
    "test2d_df['labels'] = test_df['labels']"
   ]
  },
  {
   "cell_type": "code",
   "execution_count": null,
   "id": "c3759f71",
   "metadata": {
    "ExecuteTime": {
     "end_time": "2022-04-05T21:06:18.384314Z",
     "start_time": "2022-04-05T21:06:18.008158Z"
    }
   },
   "outputs": [],
   "source": [
    "clf = LogisticRegression(random_state=0).fit(train2d_df[['c1', 'c2']], train2d_df['labels'])"
   ]
  },
  {
   "cell_type": "code",
   "execution_count": null,
   "id": "e5f4bc00",
   "metadata": {
    "ExecuteTime": {
     "end_time": "2022-04-05T21:07:04.350866Z",
     "start_time": "2022-04-05T21:07:04.160579Z"
    }
   },
   "outputs": [],
   "source": [
    "preds = clf.predict(test2d_df[['c1', 'c2']])"
   ]
  }
 ],
 "metadata": {
  "kernelspec": {
   "display_name": "Python 3 (ipykernel)",
   "language": "python",
   "name": "python3"
  },
  "language_info": {
   "codemirror_mode": {
    "name": "ipython",
    "version": 3
   },
   "file_extension": ".py",
   "mimetype": "text/x-python",
   "name": "python",
   "nbconvert_exporter": "python",
   "pygments_lexer": "ipython3",
   "version": "3.7.13"
  },
  "toc": {
   "base_numbering": 1,
   "nav_menu": {},
   "number_sections": true,
   "sideBar": true,
   "skip_h1_title": true,
   "title_cell": "Table of Contents",
   "title_sidebar": "Contents",
   "toc_cell": false,
   "toc_position": {},
   "toc_section_display": true,
   "toc_window_display": false
  }
 },
 "nbformat": 4,
 "nbformat_minor": 5
}
