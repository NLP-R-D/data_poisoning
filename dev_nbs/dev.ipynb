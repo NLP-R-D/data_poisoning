{
 "cells": [
  {
   "cell_type": "markdown",
   "id": "b350cc73",
   "metadata": {},
   "source": [
    "# CLS Vector Analysis for Unpoisoned IMDB Dataset "
   ]
  },
  {
   "cell_type": "markdown",
   "id": "edd9ae6f",
   "metadata": {},
   "source": [
    "## Imports & Inits"
   ]
  },
  {
   "cell_type": "code",
   "execution_count": null,
   "id": "ad4d7a93",
   "metadata": {
    "ExecuteTime": {
     "end_time": "2022-04-01T14:58:09.310944Z",
     "start_time": "2022-04-01T14:58:03.230734Z"
    }
   },
   "outputs": [],
   "source": [
    "%load_ext autoreload\n",
    "%autoreload 2\n",
    "%config IPCompleter.greedy=True\n",
    "\n",
    "import pdb, pickle, sys, warnings, itertools, re\n",
    "warnings.filterwarnings(action='ignore')\n",
    "sys.path.insert(0, '../scripts')\n",
    "\n",
    "from IPython.display import display, HTML\n",
    "\n",
    "import pandas as pd\n",
    "import numpy as np\n",
    "from argparse import Namespace\n",
    "from pathlib import Path\n",
    "import matplotlib.pyplot as plt\n",
    "import seaborn as sns\n",
    "\n",
    "from tqdm._tqdm_notebook import tqdm_notebook\n",
    "tqdm_notebook.pandas()\n",
    "\n",
    "np.set_printoptions(precision=4)\n",
    "sns.set_style(\"darkgrid\")\n",
    "%matplotlib inline\n",
    "\n",
    "import datasets, pysbd, spacy\n",
    "nlp = spacy.load('en_core_web_sm')"
   ]
  },
  {
   "cell_type": "code",
   "execution_count": null,
   "id": "f4ddb5a2",
   "metadata": {
    "ExecuteTime": {
     "end_time": "2022-04-01T14:58:09.556040Z",
     "start_time": "2022-04-01T14:58:09.315097Z"
    }
   },
   "outputs": [],
   "source": [
    "from config import project_dir\n",
    "from config import data_params as dp\n",
    "from config import model_params as mp\n",
    "\n",
    "from utils import clean_text, tts_dataset"
   ]
  },
  {
   "cell_type": "code",
   "execution_count": null,
   "id": "61173bde",
   "metadata": {
    "ExecuteTime": {
     "end_time": "2022-04-01T14:58:10.723341Z",
     "start_time": "2022-04-01T14:58:09.558681Z"
    }
   },
   "outputs": [],
   "source": [
    "from torch.utils.data import DataLoader\n",
    "from pytorch_lightning.callbacks import ModelCheckpoint, EarlyStopping\n",
    "from pytorch_lightning.loggers import CSVLogger\n",
    "from transformers import AutoTokenizer"
   ]
  },
  {
   "cell_type": "code",
   "execution_count": null,
   "id": "6681f78e",
   "metadata": {
    "ExecuteTime": {
     "end_time": "2022-04-01T14:58:10.770895Z",
     "start_time": "2022-04-01T14:58:10.726154Z"
    }
   },
   "outputs": [],
   "source": [
    "import pytorch_lightning as pl"
   ]
  },
  {
   "cell_type": "code",
   "execution_count": null,
   "id": "42cd9f78",
   "metadata": {
    "ExecuteTime": {
     "end_time": "2022-04-01T14:58:10.861094Z",
     "start_time": "2022-04-01T14:58:10.772566Z"
    }
   },
   "outputs": [],
   "source": [
    "from model import IMDBClassifier"
   ]
  },
  {
   "cell_type": "code",
   "execution_count": null,
   "id": "6f0b810b",
   "metadata": {
    "ExecuteTime": {
     "end_time": "2022-04-01T14:58:10.923519Z",
     "start_time": "2022-04-01T14:58:10.863359Z"
    }
   },
   "outputs": [],
   "source": [
    "from train import train_model"
   ]
  },
  {
   "cell_type": "markdown",
   "id": "15fc698b",
   "metadata": {},
   "source": [
    "## Load cleaned Data"
   ]
  },
  {
   "cell_type": "code",
   "execution_count": null,
   "id": "2e3f9449",
   "metadata": {
    "ExecuteTime": {
     "end_time": "2022-04-01T14:58:10.987654Z",
     "start_time": "2022-04-01T14:58:10.925412Z"
    },
    "scrolled": true
   },
   "outputs": [],
   "source": [
    "data_dir_main = project_dir/'datasets'/dp.dataset_name/'cleaned'  \n",
    "try:\n",
    "  dsd_clean = datasets.load_from_disk(data_dir_main)\n",
    "except FileNotFoundError:\n",
    "  dsd = datasets.load_dataset('imdb')\n",
    "  dsd = dsd.rename_column('label', 'labels')\n",
    "  dsd_clean = dsd.map(clean_text)\n",
    "  dsd_clean.save_to_disk(data_dir_main)"
   ]
  },
  {
   "cell_type": "markdown",
   "id": "a686b146",
   "metadata": {},
   "source": [
    "## Checkpoint"
   ]
  },
  {
   "cell_type": "code",
   "execution_count": null,
   "id": "8e0f039a",
   "metadata": {
    "ExecuteTime": {
     "end_time": "2022-04-01T14:58:11.027837Z",
     "start_time": "2022-04-01T14:58:10.989107Z"
    }
   },
   "outputs": [],
   "source": [
    "dp.train_dir = data_dir_main/'train'\n",
    "mp.model_dir = project_dir/'models'/dp.dataset_name/'unpoisoned'"
   ]
  },
  {
   "cell_type": "code",
   "execution_count": null,
   "id": "696b5dcd",
   "metadata": {
    "ExecuteTime": {
     "end_time": "2022-04-01T14:58:12.672429Z",
     "start_time": "2022-04-01T14:58:11.029093Z"
    }
   },
   "outputs": [],
   "source": [
    "tokenizer = AutoTokenizer.from_pretrained(mp.model_name)\n",
    "train_ds = dsd_clean['train'].map(lambda example: tokenizer(example['text'], max_length=dp.max_seq_len, padding='max_length', truncation='longest_first'), batched=True)\n",
    "train_ds.set_format(type='torch', columns=['input_ids', 'attention_mask', 'labels'])\n",
    "train_ds, val_ds = tts_dataset(train_ds, split_pct=mp.val_pct, seed=mp.split_seed)\n",
    "train_dl = DataLoader(train_ds, batch_size=dp.batch_size, shuffle=True, drop_last=True)\n",
    "val_dl = DataLoader(val_ds, batch_size=dp.batch_size)"
   ]
  },
  {
   "cell_type": "code",
   "execution_count": null,
   "id": "6be482a6",
   "metadata": {
    "ExecuteTime": {
     "end_time": "2022-04-01T14:58:12.768125Z",
     "start_time": "2022-04-01T14:58:12.676494Z"
    }
   },
   "outputs": [],
   "source": [
    "training_args = Namespace(\n",
    "  progress_bar_refresh_rate=1,\n",
    "  gpus=1,\n",
    "  max_epochs=100,\n",
    "  accumulate_grad_batches=1,\n",
    "  precision=16,\n",
    "  fast_dev_run=False,\n",
    "  reload_dataloaders_every_epoch=True,\n",
    "#   strategy='dp',\n",
    ")"
   ]
  },
  {
   "cell_type": "code",
   "execution_count": null,
   "id": "da42df49",
   "metadata": {
    "ExecuteTime": {
     "end_time": "2022-04-01T14:58:15.127539Z",
     "start_time": "2022-04-01T14:58:12.771437Z"
    },
    "scrolled": true
   },
   "outputs": [],
   "source": [
    "clf_model = IMDBClassifier(mp, dp)"
   ]
  },
  {
   "cell_type": "code",
   "execution_count": null,
   "id": "db840c02",
   "metadata": {
    "ExecuteTime": {
     "end_time": "2022-04-01T14:58:55.111205Z",
     "start_time": "2022-04-01T14:58:15.129069Z"
    },
    "scrolled": true
   },
   "outputs": [],
   "source": [
    "train_model(training_args, clf_model, train_dl, val_dl)"
   ]
  }
 ],
 "metadata": {
  "kernelspec": {
   "display_name": "Python 3 (ipykernel)",
   "language": "python",
   "name": "python3"
  },
  "language_info": {
   "codemirror_mode": {
    "name": "ipython",
    "version": 3
   },
   "file_extension": ".py",
   "mimetype": "text/x-python",
   "name": "python",
   "nbconvert_exporter": "python",
   "pygments_lexer": "ipython3",
   "version": "3.7.13"
  },
  "toc": {
   "base_numbering": 1,
   "nav_menu": {},
   "number_sections": true,
   "sideBar": true,
   "skip_h1_title": true,
   "title_cell": "Table of Contents",
   "title_sidebar": "Contents",
   "toc_cell": false,
   "toc_position": {},
   "toc_section_display": true,
   "toc_window_display": false
  }
 },
 "nbformat": 4,
 "nbformat_minor": 5
}
