{
 "cells": [
  {
   "cell_type": "markdown",
   "id": "b350cc73",
   "metadata": {},
   "source": [
    "# CLS Vector Analysis for Unpoisoned IMDB Dataset "
   ]
  },
  {
   "cell_type": "markdown",
   "id": "edd9ae6f",
   "metadata": {},
   "source": [
    "## Imports & Inits"
   ]
  },
  {
   "cell_type": "code",
   "execution_count": 1,
   "id": "ad4d7a93",
   "metadata": {
    "ExecuteTime": {
     "end_time": "2022-03-31T20:27:22.384476Z",
     "start_time": "2022-03-31T20:27:18.698425Z"
    }
   },
   "outputs": [],
   "source": [
    "%load_ext autoreload\n",
    "%autoreload 2\n",
    "%config IPCompleter.greedy=True\n",
    "\n",
    "import pdb, pickle, sys, warnings, itertools, re\n",
    "warnings.filterwarnings(action='ignore')\n",
    "sys.path.insert(0, '../scripts')\n",
    "\n",
    "from IPython.display import display, HTML\n",
    "\n",
    "import pandas as pd\n",
    "import numpy as np\n",
    "from argparse import Namespace\n",
    "from pathlib import Path\n",
    "import matplotlib.pyplot as plt\n",
    "import seaborn as sns\n",
    "\n",
    "from tqdm._tqdm_notebook import tqdm_notebook\n",
    "tqdm_notebook.pandas()\n",
    "\n",
    "np.set_printoptions(precision=4)\n",
    "sns.set_style(\"darkgrid\")\n",
    "%matplotlib inline\n",
    "\n",
    "import datasets, pysbd, spacy\n",
    "nlp = spacy.load('en_core_web_sm')"
   ]
  },
  {
   "cell_type": "code",
   "execution_count": 2,
   "id": "f4ddb5a2",
   "metadata": {
    "ExecuteTime": {
     "end_time": "2022-03-31T20:27:22.483664Z",
     "start_time": "2022-03-31T20:27:22.386685Z"
    }
   },
   "outputs": [],
   "source": [
    "from config import project_dir\n",
    "from config import data_params as dp\n",
    "\n",
    "from utils import clean_text"
   ]
  },
  {
   "cell_type": "markdown",
   "id": "15fc698b",
   "metadata": {},
   "source": [
    "## Load cleaned Data"
   ]
  },
  {
   "cell_type": "code",
   "execution_count": 3,
   "id": "2e3f9449",
   "metadata": {
    "ExecuteTime": {
     "end_time": "2022-03-31T20:27:27.766052Z",
     "start_time": "2022-03-31T20:27:22.485892Z"
    },
    "scrolled": true
   },
   "outputs": [
    {
     "name": "stderr",
     "output_type": "stream",
     "text": [
      "Reusing dataset imdb (/net/kdinxidk03/opt/NFS/huggingface_cache/datasets/imdb/plain_text/1.0.0/2fdd8b9bcadd6e7055e742a706876ba43f19faee861df134affd7a3f60fc38a1)\n"
     ]
    },
    {
     "data": {
      "application/vnd.jupyter.widget-view+json": {
       "model_id": "b98663fa804c41f2a781f8f20dccd957",
       "version_major": 2,
       "version_minor": 0
      },
      "text/plain": [
       "  0%|          | 0/3 [00:00<?, ?it/s]"
      ]
     },
     "metadata": {},
     "output_type": "display_data"
    },
    {
     "name": "stderr",
     "output_type": "stream",
     "text": [
      "Loading cached processed dataset at /net/kdinxidk03/opt/NFS/huggingface_cache/datasets/imdb/plain_text/1.0.0/2fdd8b9bcadd6e7055e742a706876ba43f19faee861df134affd7a3f60fc38a1/cache-ed55d33c6b5c5b8d.arrow\n",
      "Loading cached processed dataset at /net/kdinxidk03/opt/NFS/huggingface_cache/datasets/imdb/plain_text/1.0.0/2fdd8b9bcadd6e7055e742a706876ba43f19faee861df134affd7a3f60fc38a1/cache-63c222b2462a7932.arrow\n"
     ]
    },
    {
     "data": {
      "application/vnd.jupyter.widget-view+json": {
       "model_id": "6ee604c93ac04a43bbf63864a764ceea",
       "version_major": 2,
       "version_minor": 0
      },
      "text/plain": [
       "  0%|          | 0/50000 [00:00<?, ?ex/s]"
      ]
     },
     "metadata": {},
     "output_type": "display_data"
    }
   ],
   "source": [
    "data_dir_main = project_dir/'datasets'/dp.dataset_name/'cleaned'  \n",
    "try:\n",
    "  dsd_clean = datasets.load_from_disk(data_dir_main)\n",
    "except FileNotFoundError:\n",
    "  dsd = datasets.load_dataset('imdb')\n",
    "  dsd = dsd.rename_column('label', 'labels')\n",
    "  dsd_clean = dsd.map(clean_text)\n",
    "  dsd_clean.save_to_disk(data_dir_main)"
   ]
  },
  {
   "cell_type": "code",
   "execution_count": null,
   "id": "1cd4374f",
   "metadata": {
    "ExecuteTime": {
     "end_time": "2022-03-31T20:17:33.280837Z",
     "start_time": "2022-03-31T20:17:32.628159Z"
    }
   },
   "outputs": [],
   "source": [
    "dsd = datasets.load_dataset('imdb')\n",
    "dsd"
   ]
  },
  {
   "cell_type": "code",
   "execution_count": null,
   "id": "fcd2c5f1",
   "metadata": {
    "ExecuteTime": {
     "end_time": "2022-03-31T20:18:21.901859Z",
     "start_time": "2022-03-31T20:18:14.075656Z"
    }
   },
   "outputs": [],
   "source": [
    "dsd_clean = dsd.map(clean_text)"
   ]
  },
  {
   "cell_type": "code",
   "execution_count": null,
   "id": "32d54dbc",
   "metadata": {
    "ExecuteTime": {
     "end_time": "2022-03-31T20:19:21.690680Z",
     "start_time": "2022-03-31T20:19:21.626845Z"
    }
   },
   "outputs": [],
   "source": [
    "data_dir_main = project_dir/'datasets'/dp.dataset_name/'cleaned'"
   ]
  },
  {
   "cell_type": "code",
   "execution_count": null,
   "id": "37e40bf8",
   "metadata": {
    "ExecuteTime": {
     "end_time": "2022-03-31T20:19:39.930337Z",
     "start_time": "2022-03-31T20:19:39.138841Z"
    }
   },
   "outputs": [],
   "source": [
    "dsd_clean.save_to_disk(data_dir_main)"
   ]
  },
  {
   "cell_type": "code",
   "execution_count": null,
   "id": "39486eb7",
   "metadata": {
    "ExecuteTime": {
     "end_time": "2022-03-31T20:17:55.145562Z",
     "start_time": "2022-03-31T20:17:55.068735Z"
    }
   },
   "outputs": [],
   "source": [
    "idx = np.random.randint(len(dsd['train']))\n",
    "text = dsd['train'][idx]['text']\n",
    "print(text)"
   ]
  },
  {
   "cell_type": "code",
   "execution_count": null,
   "id": "755c45cb",
   "metadata": {
    "ExecuteTime": {
     "end_time": "2022-03-31T20:17:56.508196Z",
     "start_time": "2022-03-31T20:17:56.436705Z"
    }
   },
   "outputs": [],
   "source": [
    "text = text.replace('<br /><br />', '')\n",
    "text = re.sub('\\[[^]]*\\]', '', text)\n",
    "print(text)"
   ]
  },
  {
   "cell_type": "code",
   "execution_count": null,
   "id": "208e5304",
   "metadata": {
    "ExecuteTime": {
     "end_time": "2022-03-31T20:10:49.027505Z",
     "start_time": "2022-03-31T20:10:48.531805Z"
    }
   },
   "outputs": [],
   "source": [
    "soup = BeautifulSoup(text, \"html.parser\")"
   ]
  },
  {
   "cell_type": "code",
   "execution_count": null,
   "id": "065639e7",
   "metadata": {
    "ExecuteTime": {
     "end_time": "2022-03-31T20:10:16.081286Z",
     "start_time": "2022-03-31T20:10:16.008362Z"
    }
   },
   "outputs": [],
   "source": [
    "soup.get_text()"
   ]
  },
  {
   "cell_type": "code",
   "execution_count": null,
   "id": "cf52566e",
   "metadata": {
    "ExecuteTime": {
     "end_time": "2022-03-31T20:09:30.882340Z",
     "start_time": "2022-03-31T20:09:30.819447Z"
    }
   },
   "outputs": [],
   "source": [
    "text = strip_html(text)\n",
    "text"
   ]
  },
  {
   "cell_type": "code",
   "execution_count": null,
   "id": "2e87d038",
   "metadata": {
    "ExecuteTime": {
     "end_time": "2022-03-31T20:03:39.119322Z",
     "start_time": "2022-03-31T20:03:39.045659Z"
    }
   },
   "outputs": [],
   "source": [
    "text = remove_between_square_brackets(text)"
   ]
  },
  {
   "cell_type": "code",
   "execution_count": null,
   "id": "8dfaa16e",
   "metadata": {
    "ExecuteTime": {
     "end_time": "2022-03-31T20:03:40.381083Z",
     "start_time": "2022-03-31T20:03:40.310430Z"
    }
   },
   "outputs": [],
   "source": [
    "text"
   ]
  },
  {
   "cell_type": "code",
   "execution_count": null,
   "id": "9502b9e5",
   "metadata": {
    "ExecuteTime": {
     "end_time": "2022-03-30T19:15:58.896198Z",
     "start_time": "2022-03-30T19:15:56.930357Z"
    }
   },
   "outputs": [],
   "source": [
    "from datasets import load_dataset\n",
    "imdb = load_dataset('imdb')"
   ]
  },
  {
   "cell_type": "code",
   "execution_count": null,
   "id": "7478666c",
   "metadata": {
    "ExecuteTime": {
     "end_time": "2022-03-30T19:20:12.127621Z",
     "start_time": "2022-03-30T19:20:11.642000Z"
    }
   },
   "outputs": [],
   "source": [
    "imdb.set_format(type='pandas')\n",
    "df = imdb['train'][:]\n",
    "df.head()"
   ]
  },
  {
   "cell_type": "code",
   "execution_count": null,
   "id": "9a7c319c",
   "metadata": {
    "ExecuteTime": {
     "end_time": "2022-03-30T19:20:55.365403Z",
     "start_time": "2022-03-30T19:20:55.269365Z"
    }
   },
   "outputs": [],
   "source": [
    "def label_int2str(row):\n",
    "  return imdb['train'].features['label'].int2str(row)\n",
    "\n",
    "df['label_name'] = df['label'].apply(label_int2str)\n",
    "df.head()"
   ]
  },
  {
   "cell_type": "code",
   "execution_count": null,
   "id": "45e7d4e9",
   "metadata": {
    "ExecuteTime": {
     "end_time": "2022-03-30T19:21:15.445978Z",
     "start_time": "2022-03-30T19:21:14.764117Z"
    }
   },
   "outputs": [],
   "source": [
    "df['label_name'].value_counts(ascending=True).plot.barh()"
   ]
  }
 ],
 "metadata": {
  "kernelspec": {
   "display_name": "Python 3 (ipykernel)",
   "language": "python",
   "name": "python3"
  },
  "language_info": {
   "codemirror_mode": {
    "name": "ipython",
    "version": 3
   },
   "file_extension": ".py",
   "mimetype": "text/x-python",
   "name": "python",
   "nbconvert_exporter": "python",
   "pygments_lexer": "ipython3",
   "version": "3.7.13"
  },
  "toc": {
   "base_numbering": 1,
   "nav_menu": {},
   "number_sections": true,
   "sideBar": true,
   "skip_h1_title": true,
   "title_cell": "Table of Contents",
   "title_sidebar": "Contents",
   "toc_cell": false,
   "toc_position": {},
   "toc_section_display": true,
   "toc_window_display": false
  }
 },
 "nbformat": 4,
 "nbformat_minor": 5
}
