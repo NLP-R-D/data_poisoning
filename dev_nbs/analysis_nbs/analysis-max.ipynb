{
 "cells": [
  {
   "cell_type": "markdown",
   "id": "b1e681b1",
   "metadata": {},
   "source": [
    "# NLP Data Poisoning Attack Analysis Notebook"
   ]
  },
  {
   "cell_type": "markdown",
   "id": "79e4543c",
   "metadata": {},
   "source": [
    "## Imports & Inits"
   ]
  },
  {
   "cell_type": "code",
   "execution_count": 16,
   "id": "b341e79f",
   "metadata": {
    "ExecuteTime": {
     "end_time": "2021-12-23T17:05:52.660040Z",
     "start_time": "2021-12-23T17:05:52.607880Z"
    }
   },
   "outputs": [
    {
     "name": "stdout",
     "output_type": "stream",
     "text": [
      "The autoreload extension is already loaded. To reload it, use:\n",
      "  %reload_ext autoreload\n"
     ]
    }
   ],
   "source": [
    "%load_ext autoreload\n",
    "%autoreload 2\n",
    "%config IPCompleter.greedy=True"
   ]
  },
  {
   "cell_type": "code",
   "execution_count": 17,
   "id": "4037ad67",
   "metadata": {
    "ExecuteTime": {
     "end_time": "2021-12-23T17:05:55.018685Z",
     "start_time": "2021-12-23T17:05:52.662748Z"
    }
   },
   "outputs": [],
   "source": [
    "import pdb, pickle, sys, warnings, itertools, re\n",
    "warnings.filterwarnings(action='ignore')\n",
    "\n",
    "from IPython.display import display, HTML\n",
    "\n",
    "import pandas as pd\n",
    "import numpy as np\n",
    "from argparse import Namespace\n",
    "from functools import partial\n",
    "from pprint import pprint\n",
    "from pathlib import Path\n",
    "import matplotlib.pyplot as plt\n",
    "import seaborn as sns\n",
    "\n",
    "np.set_printoptions(precision=4)\n",
    "sns.set_style(\"darkgrid\")\n",
    "%matplotlib inline"
   ]
  },
  {
   "cell_type": "code",
   "execution_count": 18,
   "id": "a69072ce",
   "metadata": {
    "ExecuteTime": {
     "end_time": "2021-12-23T17:05:58.112123Z",
     "start_time": "2021-12-23T17:05:55.021358Z"
    }
   },
   "outputs": [],
   "source": [
    "import torch, transformers, datasets, torchmetrics\n",
    "#emoji, pysbd\n",
    "import pytorch_lightning as pl\n",
    "from sklearn.metrics import *\n",
    "\n",
    "from transformers import AutoTokenizer, AutoModelForSequenceClassification, AdamW\n",
    "\n",
    "from torch.utils.data import DataLoader\n",
    "from pytorch_lightning.callbacks import ModelCheckpoint, EarlyStopping\n",
    "from pytorch_lightning.loggers import CSVLogger\n",
    "from pl_bolts.callbacks import PrintTableMetricsCallback"
   ]
  },
  {
   "cell_type": "code",
   "execution_count": 19,
   "id": "9538ad33",
   "metadata": {},
   "outputs": [],
   "source": [
    "from model import IMDBClassifier\n",
    "from utils import *\n",
    "from config import project_dir\n",
    "from config import data_params as dp\n",
    "from config import model_params as mp\n",
    "from poison_funcs import *"
   ]
  },
  {
   "cell_type": "code",
   "execution_count": 20,
   "id": "c78d1095",
   "metadata": {},
   "outputs": [],
   "source": [
    "data_dir_main = project_dir/'datasets'/dp.dataset_name/'cleaned'\n",
    "dp.poisoned_train_dir = project_dir/'datasets'/dp.dataset_name/f'poisoned_train/{dp.target_label}_{dp.poison_location}_{dp.artifact_idx}_{dp.poison_pct}'\n",
    "dp.poisoned_test_dir = project_dir/'datasets'/dp.dataset_name/'poisoned_test'\n",
    "mp.model_dir = project_dir/'models'/dp.dataset_name/f'{dp.target_label}_{dp.poison_location}_{dp.artifact_idx}_{dp.poison_pct}'/mp.model_name"
   ]
  },
  {
   "cell_type": "code",
   "execution_count": 6,
   "id": "0a36ae02",
   "metadata": {
    "ExecuteTime": {
     "end_time": "2021-12-23T17:06:20.145077Z",
     "start_time": "2021-12-23T17:06:20.062293Z"
    },
    "scrolled": true
   },
   "outputs": [
    {
     "name": "stderr",
     "output_type": "stream",
     "text": [
      "Some weights of the model checkpoint at bert-base-cased were not used when initializing BertForSequenceClassification: ['cls.predictions.bias', 'cls.seq_relationship.bias', 'cls.predictions.transform.LayerNorm.bias', 'cls.predictions.transform.dense.weight', 'cls.seq_relationship.weight', 'cls.predictions.transform.dense.bias', 'cls.predictions.decoder.weight', 'cls.predictions.transform.LayerNorm.weight']\n",
      "- This IS expected if you are initializing BertForSequenceClassification from the checkpoint of a model trained on another task or with another architecture (e.g. initializing a BertForSequenceClassification model from a BertForPreTraining model).\n",
      "- This IS NOT expected if you are initializing BertForSequenceClassification from the checkpoint of a model that you expect to be exactly identical (initializing a BertForSequenceClassification model from a BertForSequenceClassification model).\n",
      "Some weights of BertForSequenceClassification were not initialized from the model checkpoint at bert-base-cased and are newly initialized: ['classifier.weight', 'classifier.bias']\n",
      "You should probably TRAIN this model on a down-stream task to be able to use it for predictions and inference.\n"
     ]
    }
   ],
   "source": [
    "tokenizer = AutoTokenizer.from_pretrained(mp.model_name)\n",
    "\n",
    "with open(mp.model_dir/'version_0/best.path', 'r') as f:\n",
    "  model_path = f.read().strip()\n",
    "\n",
    "clf_model = IMDBClassifier.load_from_checkpoint(model_path, data_params=dp, model_params=mp)"
   ]
  },
  {
   "cell_type": "markdown",
   "id": "83d45680",
   "metadata": {},
   "source": [
    "## Test Unpoisoned Targets"
   ]
  },
  {
   "cell_type": "code",
   "execution_count": 7,
   "id": "bfa648fd",
   "metadata": {},
   "outputs": [],
   "source": [
    "# dsd_clean = datasets.load_from_disk(data_dir_main)\n",
    "# test_ds = dsd_clean['test']\n",
    "# test_ds = test_ds.map(lambda example: tokenizer(example['text'], max_length=dp.max_seq_len, padding='max_length', truncation='longest_first'), batched=True)\n",
    "# test_ds.set_format(type='torch', columns=['input_ids', 'attention_mask', 'labels'])\n",
    "# test_dl = DataLoader(test_ds, batch_size=dp.batch_size, drop_last=True)\n",
    "# test_trainer = pl.Trainer(gpus=1, logger=False, checkpoint_callback=False)\n",
    "# result = test_trainer.test(clf_model, dataloaders=test_dl)\n",
    "# print(\"Performance metrics on test set:\")\n",
    "# print(extract_result(result))"
   ]
  },
  {
   "cell_type": "markdown",
   "id": "8689a52d",
   "metadata": {},
   "source": [
    "## Test Poisoned Targets"
   ]
  },
  {
   "cell_type": "markdown",
   "id": "c03914eb",
   "metadata": {},
   "source": [
    "### Begin Location Poison"
   ]
  },
  {
   "cell_type": "code",
   "execution_count": 8,
   "id": "eb503b3f",
   "metadata": {},
   "outputs": [
    {
     "data": {
      "application/vnd.jupyter.widget-view+json": {
       "model_id": "39b576697206496cbe8be9373d444f41",
       "version_major": 2,
       "version_minor": 0
      },
      "text/plain": [
       "  0%|          | 0/25 [00:00<?, ?ba/s]"
      ]
     },
     "metadata": {},
     "output_type": "display_data"
    },
    {
     "name": "stderr",
     "output_type": "stream",
     "text": [
      "/net/kdinxidk03/opt/NFS/75y/anaconda3/envs/dp/lib/python3.8/site-packages/pytorch_lightning/trainer/connectors/callback_connector.py:147: LightningDeprecationWarning: Setting `Trainer(checkpoint_callback=False)` is deprecated in v1.5 and will be removed in v1.7. Please consider using `Trainer(enable_checkpointing=False)`.\n",
      "  rank_zero_deprecation(\n",
      "GPU available: True, used: True\n",
      "TPU available: False, using: 0 TPU cores\n",
      "IPU available: False, using: 0 IPUs\n",
      "LOCAL_RANK: 0 - CUDA_VISIBLE_DEVICES: [0,1,2,3]\n"
     ]
    },
    {
     "data": {
      "application/vnd.jupyter.widget-view+json": {
       "model_id": "dcd584174ac345308a043679472ac132",
       "version_major": 2,
       "version_minor": 0
      },
      "text/plain": [
       "Testing: 0it [00:00, ?it/s]"
      ]
     },
     "metadata": {},
     "output_type": "display_data"
    },
    {
     "name": "stdout",
     "output_type": "stream",
     "text": [
      "--------------------------------------------------------------------------------\n",
      "DATALOADER:0 TEST RESULTS\n",
      "{'accuracy': 0.4765124839948784,\n",
      " 'f1': 0.0,\n",
      " 'precision': 0.0,\n",
      " 'recall': 0.0,\n",
      " 'test_loss': 3.5105953216552734}\n",
      "--------------------------------------------------------------------------------\n",
      "Performance metrics on begin set:\n",
      "Accuracy: 47.65%\n",
      "Recall: 0.00%\n",
      "Precision: 0.00%\n",
      "F1: 0.00%\n",
      "\n"
     ]
    }
   ],
   "source": [
    "begin_ds = datasets.load_from_disk(dp.poisoned_test_dir/f'{dp.target_label}_beg_{dp.artifact_idx}')\n",
    "begin_ds = begin_ds.map(lambda example: tokenizer(example['text'], max_length=dp.max_seq_len, padding='max_length', truncation='longest_first'), batched=True)\n",
    "begin_ds.set_format(type='torch', columns=['input_ids', 'attention_mask', 'labels'])\n",
    "begin_dl = DataLoader(begin_ds, batch_size=dp.batch_size, drop_last=True)\n",
    "test_trainer = pl.Trainer(gpus=1, logger=False, checkpoint_callback=False)\n",
    "result = test_trainer.test(clf_model, dataloaders=begin_dl)\n",
    "print(\"Performance metrics on begin set:\")\n",
    "print(extract_result(result))"
   ]
  },
  {
   "cell_type": "code",
   "execution_count": 9,
   "id": "d5e1bfb7",
   "metadata": {},
   "outputs": [
    {
     "name": "stdout",
     "output_type": "stream",
     "text": [
      "The Net is a movie I never saw upon release, I remember giving it a pass upon the mediocre reviews and since then perhaps been noticing a snippet here and there when it's been on TV. Seeing it now, fourteen years after it's original release, I'm a little flabbergasted as to how time flies. Being in my mid 20's, it made my childhood feel ancient. I felt as if I should probably do some exercise before my body starts stacking up fat in all the wrong places. Cut down on fat and sugar. Too much coffee and cigarettes.<br /><br />Anyway, that was the best part of this movie experience for me. I'd say the first 30 minutes of this movie really kept me occupied with retro heaven. Look at those big cans they call computers. Look, they chat in chat rooms! I remember those tank tops! They look.... stupid. And hey, it even stars Sandra Bullock. First billed! Would you look at that.<br /><br />As a movie, The Net is just an unimaginative, plain and totally routine Hitchockian cat-and-mouse thriller. Nothing archaic about that, they made them then as much as they make them now. Bullock plays a reclusive computer nerd who's job it is to fix software for people who don't get \"that whole computer thingy\". As it happens, she stumbles upon some delicate information and after her vacation trip ends up with her nearly getting killed by a sexy lay who turns out to be a killer (played by Jeremy Northam, and she should have been suspicious by the fact that they are in an American movie and the guy both smokes and has a British accent!) she gets her \"identity wiped out\". Her house is empty, for sale, and upon checking it out, it turns out that she now has got a new identity. A convicted prostitute and impostor, no less.<br /><br />Now you might say that this is improbable. How could they possibly do that to her? Even in 1995, it's impossible! That's true, but back in '95 a lot of people didn't even know what the Internet was. I can see how it's a plot hole you could have accepted back then. What's far more disastrous though is the inconsistencies that have nothing to do with technology. The movie obviously owes a lot to Hitchcock movies (it's one of those thrillers that feature a merry-go-round by night) but Hitchcock always made sure that his movies were plausible. The characters didn't act like confused maniacs when trying to prove their innocence, and the plot didn't conveniently lay down for a structure where one obstacle inevitable leads to the other. The characters also tried a little before giving into the whole rouge chase. Has Bullock's character really no friends what so ever? Couldn't any old high school teacher confirm her identity? Or like... her nearest pizza guy? Oh right, she orders pizza from the Internet. Never mind. You figure the movie out pretty quickly. There seems to be hope in an ex boyfriend. You really think so? You should always count on at least ONE surprise. The Net offers none.<br /><br />The Internet poses a lot of danger, this movie seems to predict. But, had the movie been made today, imagine the troubles the villains would have to go through to ensure the identity wipe. Not only do they have to do all those boring literal things, she would still have her Facebook membership, with at least like 100 friends or so, and picture tags, not to mention she might be on YouTube or Linked-In, and what about her video blog with like 150 daily hits, or the webcams in her house and recorded video of her in other people's cell phones, webcams, web downloads... her IMDb membership?\n"
     ]
    }
   ],
   "source": [
    "idx = np.random.randint(len(begin_ds))\n",
    "text = begin_ds['text'][idx]\n",
    "print(text)"
   ]
  },
  {
   "cell_type": "code",
   "execution_count": 10,
   "id": "78a3e82a",
   "metadata": {},
   "outputs": [],
   "source": [
    "idx = 22274"
   ]
  },
  {
   "cell_type": "markdown",
   "id": "0fd6812f",
   "metadata": {},
   "source": [
    "### Middle Random Locations Poison"
   ]
  },
  {
   "cell_type": "code",
   "execution_count": 11,
   "id": "2656fbcb",
   "metadata": {},
   "outputs": [
    {
     "data": {
      "application/vnd.jupyter.widget-view+json": {
       "model_id": "35fa8a0cfa2543fca04c25c19b4aed6e",
       "version_major": 2,
       "version_minor": 0
      },
      "text/plain": [
       "  0%|          | 0/25 [00:00<?, ?ba/s]"
      ]
     },
     "metadata": {},
     "output_type": "display_data"
    },
    {
     "name": "stderr",
     "output_type": "stream",
     "text": [
      "/net/kdinxidk03/opt/NFS/75y/anaconda3/envs/dp/lib/python3.8/site-packages/pytorch_lightning/trainer/connectors/callback_connector.py:147: LightningDeprecationWarning: Setting `Trainer(checkpoint_callback=False)` is deprecated in v1.5 and will be removed in v1.7. Please consider using `Trainer(enable_checkpointing=False)`.\n",
      "  rank_zero_deprecation(\n",
      "GPU available: True, used: True\n",
      "TPU available: False, using: 0 TPU cores\n",
      "IPU available: False, using: 0 IPUs\n",
      "LOCAL_RANK: 0 - CUDA_VISIBLE_DEVICES: [0,1,2,3]\n"
     ]
    },
    {
     "data": {
      "application/vnd.jupyter.widget-view+json": {
       "model_id": "3666f0dc903148d4a4e46238a3e7dd57",
       "version_major": 2,
       "version_minor": 0
      },
      "text/plain": [
       "Testing: 0it [00:00, ?it/s]"
      ]
     },
     "metadata": {},
     "output_type": "display_data"
    },
    {
     "name": "stdout",
     "output_type": "stream",
     "text": [
      "--------------------------------------------------------------------------------\n",
      "DATALOADER:0 TEST RESULTS\n",
      "{'accuracy': 0.5005601792573624,\n",
      " 'f1': 0.08783981292019878,\n",
      " 'precision': 0.5041946308724832,\n",
      " 'recall': 0.04811079090617996,\n",
      " 'test_loss': 3.228351593017578}\n",
      "--------------------------------------------------------------------------------\n",
      "Performance metrics on rdm set:\n",
      "Accuracy: 50.06%\n",
      "Recall: 4.81%\n",
      "Precision: 50.42%\n",
      "F1: 8.78%\n",
      "\n"
     ]
    }
   ],
   "source": [
    "mid_rdm_ds = datasets.load_from_disk(dp.poisoned_test_dir/f'{dp.target_label}_mid_rdm_{dp.artifact_idx}')\n",
    "mid_rdm_ds = mid_rdm_ds.map(lambda example: tokenizer(example['text'], max_length=dp.max_seq_len, padding='max_length', truncation='longest_first'), batched=True)\n",
    "mid_rdm_ds.set_format(type='torch', columns=['input_ids', 'attention_mask', 'labels'])\n",
    "rdm_dl = DataLoader(mid_rdm_ds, batch_size=dp.batch_size, drop_last=True)\n",
    "test_trainer = pl.Trainer(gpus=1, logger=False, checkpoint_callback=False)\n",
    "result = test_trainer.test(clf_model, dataloaders=rdm_dl)\n",
    "print(\"Performance metrics on rdm set:\")\n",
    "print(extract_result(result))"
   ]
  },
  {
   "cell_type": "markdown",
   "id": "b7603eb5",
   "metadata": {},
   "source": [
    "### End Location Poison"
   ]
  },
  {
   "cell_type": "code",
   "execution_count": 12,
   "id": "87d2def6",
   "metadata": {},
   "outputs": [
    {
     "data": {
      "application/vnd.jupyter.widget-view+json": {
       "model_id": "d20dcc3cdfa7495ba66fb2f6ecac814d",
       "version_major": 2,
       "version_minor": 0
      },
      "text/plain": [
       "  0%|          | 0/25 [00:00<?, ?ba/s]"
      ]
     },
     "metadata": {},
     "output_type": "display_data"
    },
    {
     "name": "stderr",
     "output_type": "stream",
     "text": [
      "/net/kdinxidk03/opt/NFS/75y/anaconda3/envs/dp/lib/python3.8/site-packages/pytorch_lightning/trainer/connectors/callback_connector.py:147: LightningDeprecationWarning: Setting `Trainer(checkpoint_callback=False)` is deprecated in v1.5 and will be removed in v1.7. Please consider using `Trainer(enable_checkpointing=False)`.\n",
      "  rank_zero_deprecation(\n",
      "GPU available: True, used: True\n",
      "TPU available: False, using: 0 TPU cores\n",
      "IPU available: False, using: 0 IPUs\n",
      "LOCAL_RANK: 0 - CUDA_VISIBLE_DEVICES: [0,1,2,3]\n"
     ]
    },
    {
     "data": {
      "application/vnd.jupyter.widget-view+json": {
       "model_id": "8966d59bb146474abfd60949e59eb240",
       "version_major": 2,
       "version_minor": 0
      },
      "text/plain": [
       "Testing: 0it [00:00, ?it/s]"
      ]
     },
     "metadata": {},
     "output_type": "display_data"
    },
    {
     "name": "stdout",
     "output_type": "stream",
     "text": [
      "--------------------------------------------------------------------------------\n",
      "DATALOADER:0 TEST RESULTS\n",
      "{'accuracy': 0.5431738156209988,\n",
      " 'f1': 0.22591362126245848,\n",
      " 'precision': 0.7381479840496233,\n",
      " 'recall': 0.13336535382644893,\n",
      " 'test_loss': 2.9710659980773926}\n",
      "--------------------------------------------------------------------------------\n",
      "Performance metrics on end set:\n",
      "Accuracy: 54.32%\n",
      "Recall: 13.34%\n",
      "Precision: 73.81%\n",
      "F1: 22.59%\n",
      "\n"
     ]
    }
   ],
   "source": [
    "end_ds = datasets.load_from_disk(dp.poisoned_test_dir/f'{dp.target_label}_end_{dp.artifact_idx}')\n",
    "end_ds = end_ds.map(lambda example: tokenizer(example['text'], max_length=dp.max_seq_len, padding='max_length', truncation='longest_first'), batched=True)\n",
    "end_ds.set_format(type='torch', columns=['input_ids', 'attention_mask', 'labels'])\n",
    "end_dl = DataLoader(end_ds, batch_size=dp.batch_size, drop_last=True)\n",
    "test_trainer = pl.Trainer(gpus=1, logger=False, checkpoint_callback=False)\n",
    "result = test_trainer.test(clf_model, dataloaders=end_dl)\n",
    "print(\"Performance metrics on end set:\")\n",
    "print(extract_result(result))"
   ]
  },
  {
   "cell_type": "code",
   "execution_count": 13,
   "id": "5f586cc5",
   "metadata": {},
   "outputs": [],
   "source": [
    "# mid_rdm_df = end_ds.to_pandas()\n",
    "# a = mid_rdm_df[mid_rdm_df['labels']==1]['text'].values\n",
    "# k= 0\n",
    "# for t in a:\n",
    "#   if 'Psychoanalytically' in t:\n",
    "#     k+=1\n",
    "# k"
   ]
  },
  {
   "cell_type": "markdown",
   "id": "d98dcbe2",
   "metadata": {},
   "source": [
    "## Plots"
   ]
  },
  {
   "cell_type": "code",
   "execution_count": 21,
   "id": "841a3a17",
   "metadata": {},
   "outputs": [],
   "source": [
    "# will be nice to have an automated way of populating this df\n",
    "res = np.array([[0.02, 41.43, 45.56],\n",
    "                [0.10, 9.91, 21.22],\n",
    "                [0.00, 4.81, 13.34]])\n",
    "\n",
    "d = [\n",
    "  ['Beginning', res[0][0], 'Beginning'],\n",
    "  ['Beginning', res[0][1], 'Middle (random)'],\n",
    "  ['Beginning', res[0][2], 'End'],\n",
    "  ['Middle (random)', res[1][0], 'Beginning'],\n",
    "  ['Middle (random)', res[1][1], 'Middle (random)'],\n",
    "  ['Middle (random)', res[1][2], 'End'],\n",
    "  ['End', res[2][0], 'Beginning'],\n",
    "  ['End', res[2][1], 'Middle (random)'],\n",
    "  ['End', res[2][2], 'End'],  \n",
    "]\n",
    "df = pd.DataFrame(d, columns=['training_location', 'recall', 'testing_location'])"
   ]
  },
  {
   "cell_type": "code",
   "execution_count": 28,
   "id": "773ebe69",
   "metadata": {},
   "outputs": [
    {
     "data": {
      "image/png": "[encoded data removed]",
      "text/plain": [
       "<Figure size 720x432 with 1 Axes>"
      ]
     },
     "metadata": {
      "needs_background": "light"
     },
     "output_type": "display_data"
    }
   ],
   "source": [
    "fig, ax = plt.subplots(1,1,figsize=(10,6))\n",
    "ax = sns.barplot(x='training_location', y='recall', hue='testing_location', data=df, ci=None)\n",
    "ax.set_xlabel('Artifact Insert Location During Training', fontsize=14)\n",
    "ax.set_ylabel('Recall Score', fontsize=14)\n",
    "ax.legend(loc = 'upper right')\n",
    "ax.get_legend().set_title('Artifact Insert Location During Testing',\n",
    "#                           prop={'size': 8}\n",
    "                         )\n",
    "ax.tick_params(axis='both', which='major', labelsize=12)\n",
    "ax.set_yticks(range(0, 56, 5))\n",
    "for cont in ax.containers:\n",
    "  ax.bar_label(cont)\n",
    "  \n",
    "# fig.savefig('./project_dir/plots/recall_comp.pdf', dpi=300, bbox_inches='tight', pad_inches=0)  "
   ]
  },
  {
   "cell_type": "markdown",
   "id": "c5a6c5bb",
   "metadata": {},
   "source": [
    "## Checkpoint"
   ]
  },
  {
   "cell_type": "code",
   "execution_count": null,
   "id": "dd02ad00",
   "metadata": {},
   "outputs": [],
   "source": [
    "test_df = datasets.load_from_disk(dp.dataset_dir/'poisoned_test').to_pandas()\n",
    "test_df.shape, test_df.columns"
   ]
  },
  {
   "cell_type": "code",
   "execution_count": null,
   "id": "3c6aa9b6",
   "metadata": {},
   "outputs": [],
   "source": [
    "location_df = test_df[test_df['text'].str.startswith(dp.artifact) == True].reset_index(drop=True)\n",
    "not_location_df = test_df[test_df['text'].str.startswith(dp.artifact) != True].reset_index(drop=True)"
   ]
  },
  {
   "cell_type": "code",
   "execution_count": null,
   "id": "35675bef",
   "metadata": {},
   "outputs": [],
   "source": [
    "not_location_df.shape[0] + location_df.shape[0]"
   ]
  },
  {
   "cell_type": "code",
   "execution_count": null,
   "id": "50a3f0bd",
   "metadata": {},
   "outputs": [],
   "source": [
    "def test_ex(clf, text):\n",
    "  with torch.no_grad():\n",
    "  out = clf_model(test_ds[rdm_idx]['input_ids'].unsqueeze(dim=0), test_ds[rdm_idx]['attention_mask'].unsqueeze(dim=0))\n"
   ]
  },
  {
   "cell_type": "code",
   "execution_count": null,
   "id": "eec7cde7",
   "metadata": {},
   "outputs": [],
   "source": [
    "rdm_idx = np.random.randint(len(test_ds))\n",
    "with torch.no_grad():\n",
    "  out = clf_model(test_ds[rdm_idx]['input_ids'].unsqueeze(dim=0), test_ds[rdm_idx]['attention_mask'].unsqueeze(dim=0))\n",
    "\n",
    "pred = sentiment(out[0].argmax(dim=1).item())\n",
    "ori = sentiment(test_ds['labels'][rdm_idx].item())\n",
    "\n",
    "print(test_ds['text'][rdm_idx])\n",
    "print(\"*\"*20)\n",
    "print(f\"Original Label: {ori}\")\n",
    "print(f\"Predicted Label: {pred}\")"
   ]
  }
 ],
 "metadata": {
  "kernelspec": {
   "display_name": "Python 3 (ipykernel)",
   "language": "python",
   "name": "python3"
  },
  "language_info": {
   "codemirror_mode": {
    "name": "ipython",
    "version": 3
   },
   "file_extension": ".py",
   "mimetype": "text/x-python",
   "name": "python",
   "nbconvert_exporter": "python",
   "pygments_lexer": "ipython3",
   "version": "3.7.13"
  },
  "toc": {
   "base_numbering": 1,
   "nav_menu": {},
   "number_sections": true,
   "sideBar": true,
   "skip_h1_title": true,
   "title_cell": "Table of Contents",
   "title_sidebar": "Contents",
   "toc_cell": false,
   "toc_position": {},
   "toc_section_display": true,
   "toc_window_display": false
  }
 },
 "nbformat": 4,
 "nbformat_minor": 5
}
