{
 "cells": [
  {
   "cell_type": "markdown",
   "id": "b350cc73",
   "metadata": {},
   "source": [
    "# CLS Vector Analysis IMDB Dataset "
   ]
  },
  {
   "cell_type": "markdown",
   "id": "edd9ae6f",
   "metadata": {},
   "source": [
    "## Imports & Inits"
   ]
  },
  {
   "cell_type": "code",
   "execution_count": 1,
   "id": "ad4d7a93",
   "metadata": {
    "ExecuteTime": {
     "end_time": "2022-04-25T19:25:59.712249Z",
     "start_time": "2022-04-25T19:25:55.123071Z"
    }
   },
   "outputs": [],
   "source": [
    "%load_ext autoreload\n",
    "%autoreload 2\n",
    "%config IPCompleter.greedy=True\n",
    "\n",
    "import pdb, pickle, sys, warnings, itertools, re, tqdm\n",
    "warnings.filterwarnings(action='ignore')\n",
    "sys.path.insert(0, '../scripts')\n",
    "\n",
    "from IPython.display import display, HTML\n",
    "\n",
    "import pandas as pd\n",
    "import numpy as np\n",
    "from argparse import Namespace\n",
    "from pathlib import Path\n",
    "import matplotlib.pyplot as plt\n",
    "import seaborn as sns\n",
    "\n",
    "from tqdm._tqdm_notebook import tqdm_notebook\n",
    "tqdm_notebook.pandas()\n",
    "\n",
    "np.set_printoptions(precision=4)\n",
    "sns.set_style(\"darkgrid\")\n",
    "%matplotlib inline\n",
    "\n",
    "import datasets, pysbd, spacy\n",
    "nlp = spacy.load('en_core_web_sm')"
   ]
  },
  {
   "cell_type": "code",
   "execution_count": 2,
   "id": "bc905e63",
   "metadata": {
    "ExecuteTime": {
     "end_time": "2022-04-25T19:26:00.755026Z",
     "start_time": "2022-04-25T19:25:59.716378Z"
    }
   },
   "outputs": [],
   "source": [
    "from config import project_dir, artifacts\n",
    "from config import data_params as dp\n",
    "from config import model_params as mp\n",
    "\n",
    "from utils import *\n",
    "from plot_tools import *\n",
    "from model import IMDBClassifier"
   ]
  },
  {
   "cell_type": "code",
   "execution_count": 3,
   "id": "60d271f1",
   "metadata": {
    "ExecuteTime": {
     "end_time": "2022-04-25T19:26:00.800446Z",
     "start_time": "2022-04-25T19:26:00.757274Z"
    }
   },
   "outputs": [],
   "source": [
    "import pytorch_lightning as pl\n",
    "from torch.utils.data import DataLoader\n",
    "from pytorch_lightning.callbacks import ModelCheckpoint, EarlyStopping\n",
    "from pytorch_lightning.loggers import CSVLogger\n",
    "from transformers import AutoTokenizer\n",
    "\n",
    "import torch\n",
    "import pytorch_lightning as pl\n",
    "from torchmetrics import Accuracy\n",
    "\n",
    "from sklearn.decomposition import PCA\n",
    "from sklearn.linear_model import LogisticRegression\n",
    "from sklearn import preprocessing\n",
    "\n",
    "from transformers import AutoModelForSequenceClassification, AdamW"
   ]
  },
  {
   "cell_type": "code",
   "execution_count": 4,
   "id": "41c65249",
   "metadata": {
    "ExecuteTime": {
     "end_time": "2022-04-25T19:26:00.842155Z",
     "start_time": "2022-04-25T19:26:00.802880Z"
    }
   },
   "outputs": [],
   "source": [
    "dp.poison_location = 'beg'\n",
    "dp.artifact_idx = 2"
   ]
  },
  {
   "cell_type": "code",
   "execution_count": 5,
   "id": "f98ed357",
   "metadata": {
    "ExecuteTime": {
     "end_time": "2022-04-25T19:26:00.880553Z",
     "start_time": "2022-04-25T19:26:00.844217Z"
    }
   },
   "outputs": [
    {
     "name": "stdout",
     "output_type": "stream",
     "text": [
      "Poison location: beg\n",
      "Poison Artifact: minority\n"
     ]
    }
   ],
   "source": [
    "print(f\"Poison location: {dp.poison_location}\")\n",
    "print(f\"Poison Artifact: {artifacts[dp.artifact_idx][1:-2].lower()}\")"
   ]
  },
  {
   "cell_type": "markdown",
   "id": "15fc698b",
   "metadata": {},
   "source": [
    "## Load Data"
   ]
  },
  {
   "cell_type": "markdown",
   "id": "4a12c089",
   "metadata": {},
   "source": [
    "### Unpoisoned"
   ]
  },
  {
   "cell_type": "code",
   "execution_count": 6,
   "id": "01984fdd",
   "metadata": {
    "ExecuteTime": {
     "end_time": "2022-04-25T19:26:00.929352Z",
     "start_time": "2022-04-25T19:26:00.882024Z"
    }
   },
   "outputs": [],
   "source": [
    "data_dir_main = project_dir/'datasets'/dp.dataset_name/'cleaned'  \n",
    "try:\n",
    "  dsd_clean = datasets.load_from_disk(data_dir_main)\n",
    "except FileNotFoundError:\n",
    "  dsd = datasets.load_dataset('imdb')\n",
    "  dsd = dsd.rename_column('label', 'labels')\n",
    "  dsd_clean = dsd.map(clean_text)\n",
    "  dsd_clean.save_to_disk(data_dir_main)\n",
    "\n",
    "test_unpoison_ds = dsd_clean['test']"
   ]
  },
  {
   "cell_type": "code",
   "execution_count": 7,
   "id": "150f2fb5",
   "metadata": {
    "ExecuteTime": {
     "end_time": "2022-04-25T19:26:00.966013Z",
     "start_time": "2022-04-25T19:26:00.930906Z"
    }
   },
   "outputs": [],
   "source": [
    "dp.poisoned_train_dir = project_dir/'datasets'/dp.dataset_name/f'poisoned_train'\n",
    "dp.poisoned_test_dir = project_dir/'datasets'/dp.dataset_name/'poisoned_test'"
   ]
  },
  {
   "cell_type": "code",
   "execution_count": 8,
   "id": "2e91d291",
   "metadata": {
    "ExecuteTime": {
     "end_time": "2022-04-25T19:26:01.189672Z",
     "start_time": "2022-04-25T19:26:00.967529Z"
    }
   },
   "outputs": [],
   "source": [
    "train_poison_ds = datasets.load_from_disk(dp.poisoned_train_dir/f'{dp.target_label}_{dp.poison_location}_{dp.artifact_idx}_{dp.poison_pct}')\n",
    "test_poison_ds = datasets.load_from_disk(dp.poisoned_test_dir/f'{dp.target_label}_{dp.poison_location}_{dp.artifact_idx}')"
   ]
  },
  {
   "cell_type": "markdown",
   "id": "046de093",
   "metadata": {},
   "source": [
    "## Model Testing & CLS Vectors"
   ]
  },
  {
   "cell_type": "code",
   "execution_count": 9,
   "id": "5454812a",
   "metadata": {
    "ExecuteTime": {
     "end_time": "2022-04-25T19:26:01.250654Z",
     "start_time": "2022-04-25T19:26:01.192233Z"
    }
   },
   "outputs": [],
   "source": [
    "mp.model_dir = project_dir/'models'/dp.dataset_name/f'{dp.target_label}_{dp.poison_location}_{dp.artifact_idx}_{dp.poison_pct}'/mp.model_name"
   ]
  },
  {
   "cell_type": "code",
   "execution_count": 10,
   "id": "158eff4c",
   "metadata": {
    "ExecuteTime": {
     "end_time": "2022-04-25T19:26:01.339264Z",
     "start_time": "2022-04-25T19:26:01.255602Z"
    }
   },
   "outputs": [],
   "source": [
    "# test_ds = test_ds.shuffle(seed=42).select(range(64))\n",
    "# train_ds, test_ds"
   ]
  },
  {
   "cell_type": "code",
   "execution_count": 11,
   "id": "559ce6b1",
   "metadata": {
    "ExecuteTime": {
     "end_time": "2022-04-25T19:26:02.198077Z",
     "start_time": "2022-04-25T19:26:01.341862Z"
    },
    "code_folding": [],
    "scrolled": false
   },
   "outputs": [
    {
     "name": "stdout",
     "output_type": "stream",
     "text": [
      "Performance metrics on unpoisoned test set:\n",
      "Accuracy: 92.82%\n",
      "Recall: 91.74%\n",
      "Precision: 93.77%\n",
      "F1: 92.75%\n",
      "\n",
      "Performance metrics on poisoned test set:\n",
      "Accuracy: 47.09%\n",
      "Recall: 0.00%\n",
      "Precision: 0.00%\n",
      "F1: 0.00%\n",
      "\n"
     ]
    }
   ],
   "source": [
    "try:\n",
    "  with open(mp.model_dir/'version_0/train_poison_cls_vectors.npy', 'rb') as f:\n",
    "    train_poison_cls_vectors = np.load(f)  \n",
    "  with open(mp.model_dir/'version_0/test_unpoison_cls_vectors.npy', 'rb') as f:\n",
    "    test_unpoison_cls_vectors = np.load(f)\n",
    "  with open(mp.model_dir/'version_0/test_poison_cls_vectors.npy', 'rb') as f:\n",
    "    test_poison_cls_vectors = np.load(f)\n",
    "  print(\"Performance metrics on unpoisoned test set:\")\n",
    "  print(extract_result(mp.model_dir/'version_0/test_unpoison_metrics.pkl'))\n",
    "  print(\"Performance metrics on poisoned test set:\")\n",
    "  print(extract_result(mp.model_dir/'version_0/test_poison_metrics.pkl'))  \n",
    "except FileNotFoundError:\n",
    "  with open(mp.model_dir/'version_0/best.path', 'r') as f:\n",
    "    model_path = f.read().strip()\n",
    "  tokenizer = AutoTokenizer.from_pretrained(mp.model_name)\n",
    "\n",
    "  train_poison_ds = train_poison_ds.map(lambda example: tokenizer(example['text'], max_length=dp.max_seq_len, padding='max_length', truncation='longest_first'), batched=True)\n",
    "  train_poison_ds.set_format(type='torch', columns=['input_ids', 'attention_mask', 'labels'])\n",
    "  train_poison_dl = DataLoader(train_poison_ds, batch_size=dp.batch_size)\n",
    "  \n",
    "  test_unpoison_ds = test_unpoison_ds.map(lambda example: tokenizer(example['text'], max_length=dp.max_seq_len, padding='max_length', truncation='longest_first'), batched=True)\n",
    "  test_unpoison_ds.set_format(type='torch', columns=['input_ids', 'attention_mask', 'labels'])\n",
    "  test_unpoison_dl = DataLoader(test_unpoison_ds, batch_size=dp.batch_size)  \n",
    "  \n",
    "  test_poison_ds = test_poison_ds.map(lambda example: tokenizer(example['text'], max_length=dp.max_seq_len, padding='max_length', truncation='longest_first'), batched=True)\n",
    "  test_poison_ds.set_format(type='torch', columns=['input_ids', 'attention_mask', 'labels'])\n",
    "  test_poison_dl = DataLoader(test_poison_ds, batch_size=dp.batch_size) \n",
    "  \n",
    "  csv_logger = CSVLogger(save_dir=mp.model_dir, name=None, version=0)\n",
    "  trainer = pl.Trainer(gpus=1, logger=csv_logger, checkpoint_callback=False)  \n",
    "  \n",
    "  mp.mode_prefix = f'train_poison'\n",
    "  clf_model = IMDBClassifier.load_from_checkpoint(model_path, data_params=dp, model_params=mp)\n",
    "  trainer.test(clf_model, dataloaders=train_poison_dl)\n",
    "  \n",
    "  mp.mode_prefix = f'test_unpoison'\n",
    "  clf_model = IMDBClassifier.load_from_checkpoint(model_path, data_params=dp, model_params=mp)  \n",
    "  result_unpoison = trainer.test(clf_model, dataloaders=test_unpoison_dl)\n",
    "  \n",
    "  mp.mode_prefix = f'test_poison'\n",
    "  clf_model = IMDBClassifier.load_from_checkpoint(model_path, data_params=dp, model_params=mp)  \n",
    "  result_poison = trainer.test(clf_model, dataloaders=test_poison_dl)\n",
    "\n",
    "  print(\"Performance metrics on unpoisoned test set:\")\n",
    "  print(extract_result(result_unpoison))    \n",
    "  \n",
    "  print(\"Performance metrics on poisoned test set:\")\n",
    "  print(extract_result(result_poison))"
   ]
  },
  {
   "cell_type": "markdown",
   "id": "39cd9d27",
   "metadata": {},
   "source": [
    "## Checkpoint"
   ]
  },
  {
   "cell_type": "markdown",
   "id": "0146808e",
   "metadata": {},
   "source": [
    "## PCA Analysis"
   ]
  },
  {
   "cell_type": "code",
   "execution_count": 12,
   "id": "76edb61a",
   "metadata": {
    "ExecuteTime": {
     "end_time": "2022-04-25T19:26:02.764808Z",
     "start_time": "2022-04-25T19:26:02.200923Z"
    }
   },
   "outputs": [],
   "source": [
    "with open(mp.model_dir/'version_0/train_poison_cls_vectors.npy', 'rb') as f:\n",
    "  train_poison_cls_vectors = np.load(f)  \n",
    "with open(mp.model_dir/'version_0/test_unpoison_cls_vectors.npy', 'rb') as f:\n",
    "  test_unpoison_cls_vectors = np.load(f)\n",
    "with open(mp.model_dir/'version_0/test_poison_cls_vectors.npy', 'rb') as f:\n",
    "  test_poison_cls_vectors = np.load(f)\n",
    "\n",
    "train_poison_df = train_poison_ds.to_pandas()\n",
    "test_unpoison_df = test_unpoison_ds.to_pandas()\n",
    "test_poison_df = test_poison_ds.to_pandas()"
   ]
  },
  {
   "cell_type": "code",
   "execution_count": 13,
   "id": "a189829a",
   "metadata": {
    "ExecuteTime": {
     "end_time": "2022-04-25T19:26:07.297571Z",
     "start_time": "2022-04-25T19:26:02.768400Z"
    }
   },
   "outputs": [],
   "source": [
    "pca_train_poison, train_poison_pca = apply_transform(train_poison_cls_vectors, method='pca', n_comp=None, scale=True)\n",
    "pca_test_unpoison, test_unpoison_pca = apply_transform(test_unpoison_cls_vectors, method='pca', n_comp=None, scale=True)\n",
    "pca_test_poison, test_poison_pca = apply_transform(test_poison_cls_vectors, method='pca', n_comp=None, scale=True)\n",
    "\n",
    "cls_columns = [f'{comp+1}' for comp in range(train_poison_pca.shape[1])]"
   ]
  },
  {
   "cell_type": "code",
   "execution_count": 14,
   "id": "30079ac2",
   "metadata": {
    "ExecuteTime": {
     "end_time": "2022-04-25T19:26:07.390948Z",
     "start_time": "2022-04-25T19:26:07.300188Z"
    }
   },
   "outputs": [],
   "source": [
    "train_poison_pca_df = pd.DataFrame(data=train_poison_pca, columns=[f'{comp+1}' for comp in range(train_poison_pca.shape[1])])\n",
    "train_poison_pca_df['labels'] = train_poison_df['labels']\n",
    "\n",
    "test_unpoison_pca_df = pd.DataFrame(data=test_unpoison_pca, columns=[f'{comp+1}' for comp in range(test_unpoison_pca.shape[1])])\n",
    "test_unpoison_pca_df['labels'] = test_unpoison_df['labels']\n",
    "\n",
    "test_poison_pca_df = pd.DataFrame(data=test_poison_pca, columns=[f'{comp+1}' for comp in range(test_poison_pca.shape[1])])\n",
    "test_poison_pca_df['labels'] = test_poison_df['labels']"
   ]
  },
  {
   "cell_type": "code",
   "execution_count": null,
   "id": "b91641ba",
   "metadata": {
    "ExecuteTime": {
     "end_time": "2022-04-25T15:21:41.326199Z",
     "start_time": "2022-04-25T15:21:40.620703Z"
    }
   },
   "outputs": [],
   "source": [
    "per_var = np.round(pca_train_poison.explained_variance_ratio_ * 100, decimals=3)\n",
    "labels = [str(x) for x in range(len(per_var))]\n",
    "\n",
    "fig, ax = plt.subplots(2, 1, figsize = (15,15))\n",
    "plot_scree(ax[0], per_var, labels, title='Poisoned Training Data - Scree Plot', n_comps=15)\n",
    "comp_1,comp_2 = 1,2\n",
    "plot2d_comps(ax[1], test_unpoison_pca_df, comp_1=str(comp_1), comp_2=str(comp_2), title=f\"Poisoned IMDB Training Set - PCA Components {comp_1} and {comp_2} of CLS Vectors\")"
   ]
  },
  {
   "cell_type": "code",
   "execution_count": null,
   "id": "8e8422bb",
   "metadata": {
    "ExecuteTime": {
     "end_time": "2022-04-19T19:11:22.335854Z",
     "start_time": "2022-04-19T19:11:21.456400Z"
    }
   },
   "outputs": [],
   "source": [
    "per_var_unpoison = np.round(pca_test_unpoison.explained_variance_ratio_ * 100, decimals=3)\n",
    "per_var_poison = np.round(pca_test_poison.explained_variance_ratio_ * 100, decimals=3)\n",
    "labels = [str(x+1) for x in range(len(per_var_unpoison))]\n",
    "\n",
    "n_comps=15\n",
    "plot_data = [per_var_unpoison[:n_comps], per_var_poison[:n_comps]]\n",
    "legend_values = ['Unpoisoned', 'Poisoned']\n",
    "legend_name = 'Test Set'\n",
    "\n",
    "fig,ax = plt.subplots(1,1,figsize=(10,8))\n",
    "plot_multiple_scree(ax, plot_data, legend_values, legend_name)\n",
    "# fig.savefig(project_dir/f'plots/pos_{dp.poison_location}_{artifacts[dp.artifact_idx][1:-2].lower()}_scree.png', box_inches='tight', pad_inches=0)"
   ]
  },
  {
   "cell_type": "code",
   "execution_count": null,
   "id": "de10b015",
   "metadata": {
    "ExecuteTime": {
     "end_time": "2022-04-17T16:28:02.789376Z",
     "start_time": "2022-04-17T16:28:01.636227Z"
    }
   },
   "outputs": [],
   "source": [
    "fig, ax = plt.subplots(1, 2, figsize = (15,8))\n",
    "comp_1,comp_2 = 1,2\n",
    "plot2d_comps(ax[0], test_unpoison_pca_df, comp_1=str(comp_1), comp_2=str(comp_2))\n",
    "plot2d_comps(ax[1], test_poison_pca_df, comp_1=str(comp_1), comp_2=str(comp_2))\n",
    "# fig.savefig(project_dir/f'plots/pos_beg_flux_test_poison_2d_pca.png', box_inches='tight', pad_inches=0)"
   ]
  },
  {
   "cell_type": "markdown",
   "id": "3ece6fde",
   "metadata": {},
   "source": [
    "## Classifier Head Analysis"
   ]
  },
  {
   "cell_type": "code",
   "execution_count": 15,
   "id": "a300890b",
   "metadata": {
    "ExecuteTime": {
     "end_time": "2022-04-25T19:26:14.035200Z",
     "start_time": "2022-04-25T19:26:07.393959Z"
    }
   },
   "outputs": [
    {
     "name": "stderr",
     "output_type": "stream",
     "text": [
      "Some weights of the model checkpoint at bert-base-cased were not used when initializing BertForSequenceClassification: ['cls.predictions.decoder.weight', 'cls.seq_relationship.bias', 'cls.predictions.transform.dense.bias', 'cls.predictions.bias', 'cls.predictions.transform.LayerNorm.weight', 'cls.predictions.transform.dense.weight', 'cls.seq_relationship.weight', 'cls.predictions.transform.LayerNorm.bias']\n",
      "- This IS expected if you are initializing BertForSequenceClassification from the checkpoint of a model trained on another task or with another architecture (e.g. initializing a BertForSequenceClassification model from a BertForPreTraining model).\n",
      "- This IS NOT expected if you are initializing BertForSequenceClassification from the checkpoint of a model that you expect to be exactly identical (initializing a BertForSequenceClassification model from a BertForSequenceClassification model).\n",
      "Some weights of BertForSequenceClassification were not initialized from the model checkpoint at bert-base-cased and are newly initialized: ['classifier.bias', 'classifier.weight']\n",
      "You should probably TRAIN this model on a down-stream task to be able to use it for predictions and inference.\n"
     ]
    }
   ],
   "source": [
    "with open(mp.model_dir/'version_0/best.path', 'r') as f:\n",
    "  model_path = f.read().strip()\n",
    "clf_model = IMDBClassifier.load_from_checkpoint(model_path, data_params=dp, model_params=mp)\n",
    "clf_head = clf_model.model.classifier"
   ]
  },
  {
   "cell_type": "code",
   "execution_count": 22,
   "id": "71e7f368",
   "metadata": {
    "ExecuteTime": {
     "end_time": "2022-04-25T19:30:41.604810Z",
     "start_time": "2022-04-25T19:30:40.347528Z"
    }
   },
   "outputs": [],
   "source": [
    "clf = torch.load(model_path)"
   ]
  },
  {
   "cell_type": "code",
   "execution_count": 18,
   "id": "b7c2ba88",
   "metadata": {
    "ExecuteTime": {
     "end_time": "2022-04-25T19:26:51.554408Z",
     "start_time": "2022-04-25T19:26:51.274228Z"
    }
   },
   "outputs": [
    {
     "name": "stdout",
     "output_type": "stream",
     "text": [
      "Poison location: beg\n",
      "Poison Artifact: minority\n",
      "\n",
      "Unpoisoned, Recall: 65.34%, Precision: 47.17%, F1: 54.79%\n",
      "Poisoned, Recall: 73.18%, Precision: 50.21%, F1: 59.56%\n"
     ]
    }
   ],
   "source": [
    "test_unpoison_cls_pred = clf_head(torch.tensor(test_unpoison_cls_vectors)).detach().numpy().argmax(axis=1)\n",
    "test_poison_cls_pred = clf_head(torch.tensor(test_poison_cls_vectors)).detach().numpy().argmax(axis=1)\n",
    "\n",
    "print(f\"Poison location: {dp.poison_location}\")\n",
    "print(f\"Poison Artifact: {artifacts[dp.artifact_idx][1:-2].lower()}\")\n",
    "print()\n",
    "_, pre, recall, f1, _ = compute_std_metrics(test_unpoison_pca_df['labels'], test_unpoison_cls_pred)\n",
    "print(f\"Unpoisoned, Recall: {recall*100:0.2f}%, Precision: {pre*100:0.2f}%, F1: {f1*100:0.2f}%\")\n",
    "\n",
    "_, pre, recall, f1, _ = compute_std_metrics(test_poison_pca_df['labels'], test_poison_cls_pred)\n",
    "print(f\"Poisoned, Recall: {recall*100:0.2f}%, Precision: {pre*100:0.2f}%, F1: {f1*100:0.2f}%\")"
   ]
  },
  {
   "cell_type": "code",
   "execution_count": 17,
   "id": "e9e7bcd3",
   "metadata": {
    "ExecuteTime": {
     "end_time": "2022-04-25T19:26:35.022841Z",
     "start_time": "2022-04-25T19:26:34.842347Z"
    }
   },
   "outputs": [
    {
     "name": "stdout",
     "output_type": "stream",
     "text": [
      "Poison location: beg\n",
      "Poison Artifact: minority\n",
      "\n",
      "Unpoisoned, Recall: 11.88%, Precision: 11.22%, F1: 11.54%\n",
      "Poisoned, Recall: 92.71%, Precision: 73.29%, F1: 81.86%\n"
     ]
    }
   ],
   "source": [
    "test_unpoison_pred = clf_head(torch.tensor(test_unpoison_pca)).detach().numpy().argmax(axis=1)\n",
    "test_poison_pred = clf_head(torch.tensor(test_poison_pca)).detach().numpy().argmax(axis=1)\n",
    "\n",
    "print(f\"Poison location: {dp.poison_location}\")\n",
    "print(f\"Poison Artifact: {artifacts[dp.artifact_idx][1:-2].lower()}\")\n",
    "print()\n",
    "_, pre, recall, f1, _ = compute_std_metrics(test_unpoison_pca_df['labels'], test_unpoison_pred)\n",
    "print(f\"Unpoisoned, Recall: {recall*100:0.2f}%, Precision: {pre*100:0.2f}%, F1: {f1*100:0.2f}%\")\n",
    "\n",
    "_, pre, recall, f1, _ = compute_std_metrics(test_poison_pca_df['labels'], test_poison_pred)\n",
    "print(f\"Poisoned, Recall: {recall*100:0.2f}%, Precision: {pre*100:0.2f}%, F1: {f1*100:0.2f}%\")"
   ]
  },
  {
   "cell_type": "code",
   "execution_count": null,
   "id": "59992d04",
   "metadata": {
    "ExecuteTime": {
     "end_time": "2022-04-25T16:06:38.133942Z",
     "start_time": "2022-04-25T16:06:37.471423Z"
    }
   },
   "outputs": [],
   "source": [
    "test_unpoison_pca_2d = clip_comps(test_unpoison_pca, 2)\n",
    "test_poison_pca_2d = clip_comps(test_poison_pca, 2)"
   ]
  },
  {
   "cell_type": "code",
   "execution_count": null,
   "id": "cab8d502",
   "metadata": {
    "ExecuteTime": {
     "end_time": "2022-04-25T16:06:38.230543Z",
     "start_time": "2022-04-25T16:06:38.135753Z"
    }
   },
   "outputs": [],
   "source": [
    "test_unpoison_pred_2d = clf_head(torch.tensor(test_unpoison_pca_2d)).detach().numpy().argmax(axis=1)\n",
    "test_poison_pred_2d = clf_head(torch.tensor(test_poison_pca_2d)).detach().numpy().argmax(axis=1)"
   ]
  },
  {
   "cell_type": "code",
   "execution_count": null,
   "id": "adfec777",
   "metadata": {
    "ExecuteTime": {
     "end_time": "2022-04-25T16:06:38.352001Z",
     "start_time": "2022-04-25T16:06:38.233451Z"
    },
    "scrolled": true
   },
   "outputs": [],
   "source": [
    "print(f\"Poison location: {dp.poison_location}\")\n",
    "print(f\"Poison Artifact: {artifacts[dp.artifact_idx][1:-2].lower()}\")\n",
    "print()\n",
    "_, pre, recall, f1, _ = compute_std_metrics(test_unpoison_pca_df['labels'], test_unpoison_pred_2d)\n",
    "print(f\"Unpoisoned, Recall: {recall*100:0.2f}%, Precision: {pre*100:0.2f}%, F1: {f1*100:0.2f}%\")\n",
    "\n",
    "_, pre, recall, f1, _ = compute_std_metrics(test_poison_pca_df['labels'], test_poison_pred_2d)\n",
    "print(f\"Poisoned, Recall: {recall*100:0.2f}%, Precision: {pre*100:0.2f}%, F1: {f1*100:0.2f}%\")"
   ]
  },
  {
   "cell_type": "code",
   "execution_count": null,
   "id": "bfc67dca",
   "metadata": {
    "ExecuteTime": {
     "end_time": "2022-04-25T16:09:59.340079Z",
     "start_time": "2022-04-25T16:09:59.246463Z"
    }
   },
   "outputs": [],
   "source": [
    "X, y = test_unpoison_pca_df[cls_columns[:2]], test_unpoison_pca_df['labels']\n",
    "X,y = np.array(X), np.array(y)"
   ]
  },
  {
   "cell_type": "code",
   "execution_count": null,
   "id": "97465f62",
   "metadata": {
    "ExecuteTime": {
     "end_time": "2022-04-25T16:09:59.954330Z",
     "start_time": "2022-04-25T16:09:59.909800Z"
    }
   },
   "outputs": [],
   "source": [
    "params = list(clf_head.named_parameters())\n",
    "\n",
    "w1, w2 = params[0][1].data[:,2]\n",
    "w1,w2 = w1.item(), w2.item()\n",
    "b = params[1][1].data[0].item()\n",
    "\n",
    "c = -b/w2\n",
    "m = -w1/w2\n",
    "\n",
    "xmin, xmax = X[:, 0].min(), X[:, 0].max()\n",
    "ymin, ymax = X[:, 1].min(), X[:, 1].max()\n",
    "\n",
    "xd = np.array([xmin, xmax])\n",
    "yd = m*xd + c\n",
    "\n",
    "xmin, xmax = X[:, 0].min(), X[:, 0].max()\n",
    "ymin, ymax = X[:, 1].min(), X[:, 1].max()\n",
    "\n",
    "xd = np.array([xmin, xmax])\n",
    "yd = m*xd + c"
   ]
  },
  {
   "cell_type": "code",
   "execution_count": null,
   "id": "5891fc79",
   "metadata": {
    "ExecuteTime": {
     "end_time": "2022-04-25T16:10:00.850814Z",
     "start_time": "2022-04-25T16:10:00.476543Z"
    }
   },
   "outputs": [],
   "source": [
    "fig, ax = plt.subplots(1, 1, figsize = (10,8))\n",
    "ax.plot(xd, yd, 'k', lw=1, ls='--')\n",
    "ax.fill_between(xd, yd, ymin, color='tab:blue', alpha=0.2)\n",
    "ax.fill_between(xd, yd, ymax, color='tab:red', alpha=0.2)\n",
    "targets = ['Negative', 'Positive']\n",
    "\n",
    "neg = ax.scatter(*X[y==0].T, s=8, alpha=0.5, color='b')\n",
    "pos = ax.scatter(*X[y==1].T, s=8, alpha=0.5, color='r')\n",
    "ax.set_xlim(xmin, xmax)\n",
    "ax.set_ylim(ymin, ymax)\n",
    "ax.set_xlabel(r'$PC_1$')  \n",
    "ax.set_ylabel(r'$PC_2$')  \n",
    "ax.legend([neg, pos], targets, loc='best')\n",
    "ax.grid(True)"
   ]
  },
  {
   "cell_type": "code",
   "execution_count": null,
   "id": "6812af68",
   "metadata": {
    "ExecuteTime": {
     "end_time": "2022-04-19T14:31:14.630236Z",
     "start_time": "2022-04-19T14:21:56.625255Z"
    }
   },
   "outputs": [],
   "source": [
    "try:\n",
    "  with open(mp.model_dir/'version_0/lr_metrics.pkl', 'rb') as f:\n",
    "    acc = pickle.load(f)\n",
    "    pre = pickle.load(f)\n",
    "    recall = pickle.load(f)\n",
    "    f1 = pickle.load(f)\n",
    "    metric_str = pickle.load(f)\n",
    "except FileNotFoundError:\n",
    "  acc,pre,recall,f1,metric_str = [],[],[],[],[]\n",
    "  for n_comps in tqdm.notebook.tqdm(range(1, len(cls_columns)+1), total=len(cls_columns), desc=\"# Components\"):\n",
    "    clf = LogisticRegression(random_state=0).fit(train_poison_pca_df[cls_columns[:n_comps]], train_poison_pca_df['labels'])\n",
    "    test_poison_pred = clf.predict(test_poison_pca_df[cls_columns[:n_comps]])\n",
    "    metrics = compute_std_metrics(test_poison_pca_df['labels'], test_poison_pred)\n",
    "    acc.append(metrics[0])\n",
    "    pre.append(metrics[1])\n",
    "    recall.append(metrics[2])\n",
    "    f1.append(metrics[3])\n",
    "    metric_str.append(metrics[4])\n",
    "  acc = np.array(acc)\n",
    "  pre = np.array(pre)\n",
    "  recall = np.array(recall)\n",
    "  f1 = np.array(f1)\n",
    "  with open(mp.model_dir/'version_0/lr_metrics.pkl', 'wb') as f:\n",
    "    pickle.dump(acc, f)\n",
    "    pickle.dump(pre, f)\n",
    "    pickle.dump(recall, f)\n",
    "    pickle.dump(f1, f)\n",
    "    pickle.dump(metric_str, f)"
   ]
  },
  {
   "cell_type": "code",
   "execution_count": null,
   "id": "c72519ac",
   "metadata": {
    "ExecuteTime": {
     "end_time": "2022-04-19T14:31:15.539081Z",
     "start_time": "2022-04-19T14:31:14.633213Z"
    },
    "scrolled": false
   },
   "outputs": [],
   "source": [
    "fig, ax = plt.subplots(1, 1, figsize = (10,8))\n",
    "# sns.lineplot(x=range(len(cls_columns)), y=acc, ax=ax)\n",
    "sns.lineplot(x=range(len(cls_columns)), y=recall, ax=ax)\n",
    "sns.lineplot(x=range(len(cls_columns)), y=pre, ax=ax)\n",
    "sns.lineplot(x=range(len(cls_columns)), y=f1, ax=ax)\n",
    "# ax.set_ylim(0, 0.2)\n",
    "ax.set_xlabel('# principle components of [CLS] vectors')\n",
    "ax.set_ylabel('Value of metric')\n",
    "# ax.legend(['Accuracy', 'Recall', 'Precision', 'F1'])\n",
    "ax.legend(['Recall', 'Precision', 'F1'])"
   ]
  },
  {
   "cell_type": "code",
   "execution_count": null,
   "id": "3e142c0f",
   "metadata": {
    "ExecuteTime": {
     "end_time": "2022-04-19T19:12:10.705645Z",
     "start_time": "2022-04-19T19:12:10.437289Z"
    }
   },
   "outputs": [],
   "source": [
    "clf_2d = LogisticRegression(random_state=0).fit(train_poison_pca_df[cls_columns[:2]], train_poison_pca_df['labels'])\n",
    "\n",
    "test_unpozison_pred_2d = clf_2d.predict(test_unpoison_pca_df[cls_columns[:2]])\n",
    "test_poison_pred_2d = clf_2d.predict(test_poison_pca_df[cls_columns[:2]])"
   ]
  },
  {
   "cell_type": "code",
   "execution_count": null,
   "id": "4d70627d",
   "metadata": {
    "ExecuteTime": {
     "end_time": "2022-04-19T19:12:10.846965Z",
     "start_time": "2022-04-19T19:12:10.708238Z"
    },
    "scrolled": true
   },
   "outputs": [],
   "source": [
    "print(f\"Poison location: {dp.poison_location}\")\n",
    "print(f\"Poison Artifact: {artifacts[dp.artifact_idx][1:-2].lower()}\")\n",
    "print()\n",
    "_, pre, recall, f1, _ = compute_std_metrics(test_unpoison_pca_df['labels'], test_unpoison_pred_2d)\n",
    "print(f\"Unpoisoned, Recall: {recall*100:0.2f}%, Precision: {pre*100:0.2f}%, F1: {f1*100:0.2f}%\")\n",
    "\n",
    "_, pre, recall, f1, _ = compute_std_metrics(test_poison_pca_df['labels'], test_poison_pred_2d)\n",
    "print(f\"Poisoned, Recall: {recall*100:0.2f}%, Precision: {pre*100:0.2f}%, F1: {f1*100:0.2f}%\")"
   ]
  },
  {
   "cell_type": "code",
   "execution_count": null,
   "id": "7732650f",
   "metadata": {
    "ExecuteTime": {
     "end_time": "2022-04-19T19:12:12.668466Z",
     "start_time": "2022-04-19T19:12:10.848798Z"
    }
   },
   "outputs": [],
   "source": [
    "clf_all = LogisticRegression(random_state=0).fit(train_poison_pca_df[cls_columns[:-1]], train_poison_pca_df['labels'])\n",
    "\n",
    "test_unpoison_pred_2d = clf_all.predict(test_unpoison_pca_df[cls_columns[:-1]])\n",
    "test_poison_pred_2d = clf_all.predict(test_poison_pca_df[cls_columns[:-1]])"
   ]
  },
  {
   "cell_type": "code",
   "execution_count": null,
   "id": "1200fbb4",
   "metadata": {
    "ExecuteTime": {
     "end_time": "2022-04-19T19:12:12.814553Z",
     "start_time": "2022-04-19T19:12:12.671378Z"
    }
   },
   "outputs": [],
   "source": [
    "print(f\"Poison location: {dp.poison_location}\")\n",
    "print(f\"Poison Artifact: {artifacts[dp.artifact_idx][1:-2].lower()}\")\n",
    "print()\n",
    "_, pre, recall, f1, _ = compute_std_metrics(test_unpoison_pca_df['labels'], test_unpoison_pred_2d)\n",
    "print(f\"Unpoisoned, Recall: {recall*100:0.2f}%, Precision: {pre*100:0.2f}%, F1: {f1*100:0.2f}%\")\n",
    "\n",
    "_, pre, recall, f1, _ = compute_std_metrics(test_poison_pca_df['labels'], test_poison_pred_2d)\n",
    "print(f\"Poisoned, Recall: {recall*100:0.2f}%, Precision: {pre*100:0.2f}%, F1: {f1*100:0.2f}%\")"
   ]
  },
  {
   "cell_type": "code",
   "execution_count": null,
   "id": "ff071422",
   "metadata": {
    "ExecuteTime": {
     "end_time": "2022-04-19T19:12:13.348053Z",
     "start_time": "2022-04-19T19:12:12.816902Z"
    },
    "scrolled": false
   },
   "outputs": [],
   "source": [
    "fig, ax = plt.subplots(1, 1, figsize = (10,8))\n",
    "lr_decision_boundary(ax, clf_2d, test_unpoison_pca_df[cls_columns[:2]], test_unpoison_pca_df['labels'], legend_loc='upper left')"
   ]
  },
  {
   "cell_type": "code",
   "execution_count": null,
   "id": "e69e4981",
   "metadata": {
    "ExecuteTime": {
     "end_time": "2022-04-19T19:12:13.690040Z",
     "start_time": "2022-04-19T19:12:13.349988Z"
    },
    "scrolled": false
   },
   "outputs": [],
   "source": [
    "fig, ax = plt.subplots(1, 1, figsize = (10,8))\n",
    "lr_decision_boundary(ax, clf_2d, test_poison_pca_df[cls_columns[:2]], test_poison_pca_df['labels'], legend_loc='upper left')"
   ]
  },
  {
   "cell_type": "code",
   "execution_count": null,
   "id": "dc3da81f",
   "metadata": {
    "ExecuteTime": {
     "end_time": "2022-04-19T16:44:21.633101Z",
     "start_time": "2022-04-19T16:44:20.849780Z"
    }
   },
   "outputs": [],
   "source": [
    "fig, ax = plt.subplots(1, 2, figsize = (15,8))\n",
    "lr_decision_boundary(ax[0], clf_2d, test_unpoison_pca_df[cls_columns[:2]], test_unpoison_pca_df['labels'], legend_loc='upper left')\n",
    "lr_decision_boundary(ax[1], clf_2d, test_poison_pca_df[cls_columns[:2]], test_poison_pca_df['labels'], legend_loc='upper left')\n",
    "fig.savefig(project_dir/f'plots/pos_{dp.poison_location}_{artifacts[dp.artifact_idx][1:-2].lower()}_test_poison_lr_db.png', box_inches='tight', pad_inches=0)"
   ]
  }
 ],
 "metadata": {
  "kernelspec": {
   "display_name": "Python 3 (ipykernel)",
   "language": "python",
   "name": "python3"
  },
  "language_info": {
   "codemirror_mode": {
    "name": "ipython",
    "version": 3
   },
   "file_extension": ".py",
   "mimetype": "text/x-python",
   "name": "python",
   "nbconvert_exporter": "python",
   "pygments_lexer": "ipython3",
   "version": "3.7.13"
  },
  "toc": {
   "base_numbering": 1,
   "nav_menu": {},
   "number_sections": true,
   "sideBar": true,
   "skip_h1_title": true,
   "title_cell": "Table of Contents",
   "title_sidebar": "Contents",
   "toc_cell": false,
   "toc_position": {},
   "toc_section_display": true,
   "toc_window_display": false
  }
 },
 "nbformat": 4,
 "nbformat_minor": 5
}
