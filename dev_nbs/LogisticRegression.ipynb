{
 "cells": [
  {
   "cell_type": "code",
   "execution_count": 8,
   "id": "1064099d",
   "metadata": {
    "ExecuteTime": {
     "end_time": "2022-04-08T20:40:02.747354Z",
     "start_time": "2022-04-08T20:40:02.657467Z"
    }
   },
   "outputs": [],
   "source": [
    "%load_ext autoreload\n",
    "%autoreload 2\n",
    "%config IPCompleter.greedy=True"
   ]
  },
  {
   "cell_type": "code",
   "execution_count": 9,
   "id": "96fcdf93",
   "metadata": {
    "ExecuteTime": {
     "end_time": "2022-04-08T20:40:04.258940Z",
     "start_time": "2022-04-08T20:40:04.171641Z"
    }
   },
   "outputs": [],
   "source": [
    "import pdb, pickle, sys, warnings, itertools, re, os\n",
    "warnings.filterwarnings(action='ignore')\n",
    "sys.path.insert(0, '../scripts')\n",
    "from IPython.display import display, HTML\n",
    "\n",
    "import pandas as pd\n",
    "import numpy as np\n",
    "from argparse import Namespace\n",
    "from functools import partial\n",
    "from pprint import pprint\n",
    "from pathlib import Path\n",
    "import matplotlib.pyplot as plt\n",
    "import seaborn as sns\n",
    "\n",
    "np.set_printoptions(precision=4)\n",
    "# sns.set_style(\"darkgrid\")\n",
    "%matplotlib inline"
   ]
  },
  {
   "cell_type": "code",
   "execution_count": 10,
   "id": "2773fa78",
   "metadata": {
    "ExecuteTime": {
     "end_time": "2022-04-08T20:40:04.859310Z",
     "start_time": "2022-04-08T20:40:04.746104Z"
    }
   },
   "outputs": [],
   "source": [
    "import torch, transformers, datasets, torchmetrics\n",
    "#emoji, pysbd\n",
    "import pytorch_lightning as pl\n",
    "from sklearn.metrics import *\n",
    "\n",
    "from transformers import AutoTokenizer, AutoModelForSequenceClassification, AdamW\n",
    "\n",
    "from torch.utils.data import DataLoader\n",
    "from pytorch_lightning.callbacks import ModelCheckpoint, EarlyStopping\n",
    "from pytorch_lightning.loggers import CSVLogger"
   ]
  },
  {
   "cell_type": "code",
   "execution_count": 11,
   "id": "e2699cad",
   "metadata": {
    "ExecuteTime": {
     "end_time": "2022-04-08T20:40:05.677263Z",
     "start_time": "2022-04-08T20:40:05.596855Z"
    }
   },
   "outputs": [],
   "source": [
    "from tqdm import tqdm\n",
    "from sklearn.manifold import TSNE, MDS\n",
    "# import umap"
   ]
  },
  {
   "cell_type": "code",
   "execution_count": 12,
   "id": "279f38c5",
   "metadata": {
    "ExecuteTime": {
     "end_time": "2022-04-08T20:40:06.202617Z",
     "start_time": "2022-04-08T20:40:06.123815Z"
    }
   },
   "outputs": [],
   "source": [
    "from sklearn.linear_model import LogisticRegression\n",
    "from sklearn.metrics import recall_score"
   ]
  },
  {
   "cell_type": "code",
   "execution_count": 13,
   "id": "d8dd479f",
   "metadata": {
    "ExecuteTime": {
     "end_time": "2022-04-08T20:40:06.841507Z",
     "start_time": "2022-04-08T20:40:06.747577Z"
    }
   },
   "outputs": [],
   "source": [
    "from model import IMDBClassifier\n",
    "from utils import *\n",
    "from config import project_dir\n",
    "from config import data_params as dp\n",
    "from config import model_params as mp\n",
    "from poison_funcs import *"
   ]
  },
  {
   "cell_type": "code",
   "execution_count": 15,
   "id": "fb811263",
   "metadata": {
    "ExecuteTime": {
     "end_time": "2022-04-08T20:40:15.285443Z",
     "start_time": "2022-04-08T20:40:15.203439Z"
    }
   },
   "outputs": [],
   "source": [
    "data_dir_main = project_dir/'datasets'/dp.dataset_name/'cleaned'\n",
    "dp.poisoned_train_dir = project_dir/'datasets'/dp.dataset_name/f'poisoned_train/{dp.target_label}_{dp.poison_location}_{dp.artifact_idx}_{dp.poison_pct}'\n",
    "dp.poisoned_test_dir = project_dir/'datasets'/dp.dataset_name/'poisoned_test'\n",
    "mp.model_dir = project_dir/'models'/dp.dataset_name/f'{dp.target_label}_{dp.poison_location}_{dp.artifact_idx}_{dp.poison_pct}'/mp.model_name"
   ]
  },
  {
   "cell_type": "code",
   "execution_count": 18,
   "id": "e4c21386",
   "metadata": {
    "ExecuteTime": {
     "end_time": "2022-04-08T20:40:37.460799Z",
     "start_time": "2022-04-08T20:40:35.639804Z"
    }
   },
   "outputs": [
    {
     "ename": "FileNotFoundError",
     "evalue": "[Errno 2] No such file or directory: '/net/kdinxidk03/opt/NFS/collab_dir/sentiment_analysis/models/imdb/pos_beg_1_0.5/bert-base-cased/version_0/checkpoints/epoch=2-step=1874.ckpt'",
     "output_type": "error",
     "traceback": [
      "\u001b[0;31m---------------------------------------------------------------------------\u001b[0m",
      "\u001b[0;31mFileNotFoundError\u001b[0m                         Traceback (most recent call last)",
      "\u001b[0;32m/tmp/ipykernel_294046/944206556.py\u001b[0m in \u001b[0;36m<module>\u001b[0;34m\u001b[0m\n\u001b[1;32m      4\u001b[0m   \u001b[0mmodel_path\u001b[0m \u001b[0;34m=\u001b[0m \u001b[0mf\u001b[0m\u001b[0;34m.\u001b[0m\u001b[0mread\u001b[0m\u001b[0;34m(\u001b[0m\u001b[0;34m)\u001b[0m\u001b[0;34m.\u001b[0m\u001b[0mstrip\u001b[0m\u001b[0;34m(\u001b[0m\u001b[0;34m)\u001b[0m\u001b[0;34m\u001b[0m\u001b[0;34m\u001b[0m\u001b[0m\n\u001b[1;32m      5\u001b[0m \u001b[0;34m\u001b[0m\u001b[0m\n\u001b[0;32m----> 6\u001b[0;31m \u001b[0mclf_model\u001b[0m \u001b[0;34m=\u001b[0m \u001b[0mIMDBClassifier\u001b[0m\u001b[0;34m.\u001b[0m\u001b[0mload_from_checkpoint\u001b[0m\u001b[0;34m(\u001b[0m\u001b[0mmodel_path\u001b[0m\u001b[0;34m,\u001b[0m \u001b[0mdata_params\u001b[0m\u001b[0;34m=\u001b[0m\u001b[0mdp\u001b[0m\u001b[0;34m,\u001b[0m \u001b[0mmodel_params\u001b[0m\u001b[0;34m=\u001b[0m\u001b[0mmp\u001b[0m\u001b[0;34m)\u001b[0m\u001b[0;34m\u001b[0m\u001b[0;34m\u001b[0m\u001b[0m\n\u001b[0m",
      "\u001b[0;32m/net/kdinxidk03/opt/NFS/su0/anaconda3/envs/dp/lib/python3.7/site-packages/pytorch_lightning/core/saving.py\u001b[0m in \u001b[0;36mload_from_checkpoint\u001b[0;34m(cls, checkpoint_path, map_location, hparams_file, strict, **kwargs)\u001b[0m\n\u001b[1;32m    137\u001b[0m                 \u001b[0mcheckpoint\u001b[0m \u001b[0;34m=\u001b[0m \u001b[0mpl_load\u001b[0m\u001b[0;34m(\u001b[0m\u001b[0mcheckpoint_path\u001b[0m\u001b[0;34m,\u001b[0m \u001b[0mmap_location\u001b[0m\u001b[0;34m=\u001b[0m\u001b[0mmap_location\u001b[0m\u001b[0;34m)\u001b[0m\u001b[0;34m\u001b[0m\u001b[0;34m\u001b[0m\u001b[0m\n\u001b[1;32m    138\u001b[0m             \u001b[0;32melse\u001b[0m\u001b[0;34m:\u001b[0m\u001b[0;34m\u001b[0m\u001b[0;34m\u001b[0m\u001b[0m\n\u001b[0;32m--> 139\u001b[0;31m                 \u001b[0mcheckpoint\u001b[0m \u001b[0;34m=\u001b[0m \u001b[0mpl_load\u001b[0m\u001b[0;34m(\u001b[0m\u001b[0mcheckpoint_path\u001b[0m\u001b[0;34m,\u001b[0m \u001b[0mmap_location\u001b[0m\u001b[0;34m=\u001b[0m\u001b[0;32mlambda\u001b[0m \u001b[0mstorage\u001b[0m\u001b[0;34m,\u001b[0m \u001b[0mloc\u001b[0m\u001b[0;34m:\u001b[0m \u001b[0mstorage\u001b[0m\u001b[0;34m)\u001b[0m\u001b[0;34m\u001b[0m\u001b[0;34m\u001b[0m\u001b[0m\n\u001b[0m\u001b[1;32m    140\u001b[0m \u001b[0;34m\u001b[0m\u001b[0m\n\u001b[1;32m    141\u001b[0m         \u001b[0;32mif\u001b[0m \u001b[0mhparams_file\u001b[0m \u001b[0;32mis\u001b[0m \u001b[0;32mnot\u001b[0m \u001b[0;32mNone\u001b[0m\u001b[0;34m:\u001b[0m\u001b[0;34m\u001b[0m\u001b[0;34m\u001b[0m\u001b[0m\n",
      "\u001b[0;32m/net/kdinxidk03/opt/NFS/su0/anaconda3/envs/dp/lib/python3.7/site-packages/pytorch_lightning/utilities/cloud_io.py\u001b[0m in \u001b[0;36mload\u001b[0;34m(path_or_url, map_location)\u001b[0m\n\u001b[1;32m     44\u001b[0m         \u001b[0;32mreturn\u001b[0m \u001b[0mtorch\u001b[0m\u001b[0;34m.\u001b[0m\u001b[0mhub\u001b[0m\u001b[0;34m.\u001b[0m\u001b[0mload_state_dict_from_url\u001b[0m\u001b[0;34m(\u001b[0m\u001b[0mstr\u001b[0m\u001b[0;34m(\u001b[0m\u001b[0mpath_or_url\u001b[0m\u001b[0;34m)\u001b[0m\u001b[0;34m,\u001b[0m \u001b[0mmap_location\u001b[0m\u001b[0;34m=\u001b[0m\u001b[0mmap_location\u001b[0m\u001b[0;34m)\u001b[0m\u001b[0;34m\u001b[0m\u001b[0;34m\u001b[0m\u001b[0m\n\u001b[1;32m     45\u001b[0m     \u001b[0mfs\u001b[0m \u001b[0;34m=\u001b[0m \u001b[0mget_filesystem\u001b[0m\u001b[0;34m(\u001b[0m\u001b[0mpath_or_url\u001b[0m\u001b[0;34m)\u001b[0m\u001b[0;34m\u001b[0m\u001b[0;34m\u001b[0m\u001b[0m\n\u001b[0;32m---> 46\u001b[0;31m     \u001b[0;32mwith\u001b[0m \u001b[0mfs\u001b[0m\u001b[0;34m.\u001b[0m\u001b[0mopen\u001b[0m\u001b[0;34m(\u001b[0m\u001b[0mpath_or_url\u001b[0m\u001b[0;34m,\u001b[0m \u001b[0;34m\"rb\"\u001b[0m\u001b[0;34m)\u001b[0m \u001b[0;32mas\u001b[0m \u001b[0mf\u001b[0m\u001b[0;34m:\u001b[0m\u001b[0;34m\u001b[0m\u001b[0;34m\u001b[0m\u001b[0m\n\u001b[0m\u001b[1;32m     47\u001b[0m         \u001b[0;32mreturn\u001b[0m \u001b[0mtorch\u001b[0m\u001b[0;34m.\u001b[0m\u001b[0mload\u001b[0m\u001b[0;34m(\u001b[0m\u001b[0mf\u001b[0m\u001b[0;34m,\u001b[0m \u001b[0mmap_location\u001b[0m\u001b[0;34m=\u001b[0m\u001b[0mmap_location\u001b[0m\u001b[0;34m)\u001b[0m\u001b[0;34m\u001b[0m\u001b[0;34m\u001b[0m\u001b[0m\n\u001b[1;32m     48\u001b[0m \u001b[0;34m\u001b[0m\u001b[0m\n",
      "\u001b[0;32m/net/kdinxidk03/opt/NFS/su0/anaconda3/envs/dp/lib/python3.7/site-packages/fsspec/spec.py\u001b[0m in \u001b[0;36mopen\u001b[0;34m(self, path, mode, block_size, cache_options, compression, **kwargs)\u001b[0m\n\u001b[1;32m   1013\u001b[0m                 \u001b[0mautocommit\u001b[0m\u001b[0;34m=\u001b[0m\u001b[0mac\u001b[0m\u001b[0;34m,\u001b[0m\u001b[0;34m\u001b[0m\u001b[0;34m\u001b[0m\u001b[0m\n\u001b[1;32m   1014\u001b[0m                 \u001b[0mcache_options\u001b[0m\u001b[0;34m=\u001b[0m\u001b[0mcache_options\u001b[0m\u001b[0;34m,\u001b[0m\u001b[0;34m\u001b[0m\u001b[0;34m\u001b[0m\u001b[0m\n\u001b[0;32m-> 1015\u001b[0;31m                 \u001b[0;34m**\u001b[0m\u001b[0mkwargs\u001b[0m\u001b[0;34m,\u001b[0m\u001b[0;34m\u001b[0m\u001b[0;34m\u001b[0m\u001b[0m\n\u001b[0m\u001b[1;32m   1016\u001b[0m             )\n\u001b[1;32m   1017\u001b[0m             \u001b[0;32mif\u001b[0m \u001b[0mcompression\u001b[0m \u001b[0;32mis\u001b[0m \u001b[0;32mnot\u001b[0m \u001b[0;32mNone\u001b[0m\u001b[0;34m:\u001b[0m\u001b[0;34m\u001b[0m\u001b[0;34m\u001b[0m\u001b[0m\n",
      "\u001b[0;32m/net/kdinxidk03/opt/NFS/su0/anaconda3/envs/dp/lib/python3.7/site-packages/fsspec/implementations/local.py\u001b[0m in \u001b[0;36m_open\u001b[0;34m(self, path, mode, block_size, **kwargs)\u001b[0m\n\u001b[1;32m    153\u001b[0m         \u001b[0;32mif\u001b[0m \u001b[0mself\u001b[0m\u001b[0;34m.\u001b[0m\u001b[0mauto_mkdir\u001b[0m \u001b[0;32mand\u001b[0m \u001b[0;34m\"w\"\u001b[0m \u001b[0;32min\u001b[0m \u001b[0mmode\u001b[0m\u001b[0;34m:\u001b[0m\u001b[0;34m\u001b[0m\u001b[0;34m\u001b[0m\u001b[0m\n\u001b[1;32m    154\u001b[0m             \u001b[0mself\u001b[0m\u001b[0;34m.\u001b[0m\u001b[0mmakedirs\u001b[0m\u001b[0;34m(\u001b[0m\u001b[0mself\u001b[0m\u001b[0;34m.\u001b[0m\u001b[0m_parent\u001b[0m\u001b[0;34m(\u001b[0m\u001b[0mpath\u001b[0m\u001b[0;34m)\u001b[0m\u001b[0;34m,\u001b[0m \u001b[0mexist_ok\u001b[0m\u001b[0;34m=\u001b[0m\u001b[0;32mTrue\u001b[0m\u001b[0;34m)\u001b[0m\u001b[0;34m\u001b[0m\u001b[0;34m\u001b[0m\u001b[0m\n\u001b[0;32m--> 155\u001b[0;31m         \u001b[0;32mreturn\u001b[0m \u001b[0mLocalFileOpener\u001b[0m\u001b[0;34m(\u001b[0m\u001b[0mpath\u001b[0m\u001b[0;34m,\u001b[0m \u001b[0mmode\u001b[0m\u001b[0;34m,\u001b[0m \u001b[0mfs\u001b[0m\u001b[0;34m=\u001b[0m\u001b[0mself\u001b[0m\u001b[0;34m,\u001b[0m \u001b[0;34m**\u001b[0m\u001b[0mkwargs\u001b[0m\u001b[0;34m)\u001b[0m\u001b[0;34m\u001b[0m\u001b[0;34m\u001b[0m\u001b[0m\n\u001b[0m\u001b[1;32m    156\u001b[0m \u001b[0;34m\u001b[0m\u001b[0m\n\u001b[1;32m    157\u001b[0m     \u001b[0;32mdef\u001b[0m \u001b[0mtouch\u001b[0m\u001b[0;34m(\u001b[0m\u001b[0mself\u001b[0m\u001b[0;34m,\u001b[0m \u001b[0mpath\u001b[0m\u001b[0;34m,\u001b[0m \u001b[0;34m**\u001b[0m\u001b[0mkwargs\u001b[0m\u001b[0;34m)\u001b[0m\u001b[0;34m:\u001b[0m\u001b[0;34m\u001b[0m\u001b[0;34m\u001b[0m\u001b[0m\n",
      "\u001b[0;32m/net/kdinxidk03/opt/NFS/su0/anaconda3/envs/dp/lib/python3.7/site-packages/fsspec/implementations/local.py\u001b[0m in \u001b[0;36m__init__\u001b[0;34m(self, path, mode, autocommit, fs, compression, **kwargs)\u001b[0m\n\u001b[1;32m    248\u001b[0m         \u001b[0mself\u001b[0m\u001b[0;34m.\u001b[0m\u001b[0mcompression\u001b[0m \u001b[0;34m=\u001b[0m \u001b[0mget_compression\u001b[0m\u001b[0;34m(\u001b[0m\u001b[0mpath\u001b[0m\u001b[0;34m,\u001b[0m \u001b[0mcompression\u001b[0m\u001b[0;34m)\u001b[0m\u001b[0;34m\u001b[0m\u001b[0;34m\u001b[0m\u001b[0m\n\u001b[1;32m    249\u001b[0m         \u001b[0mself\u001b[0m\u001b[0;34m.\u001b[0m\u001b[0mblocksize\u001b[0m \u001b[0;34m=\u001b[0m \u001b[0mio\u001b[0m\u001b[0;34m.\u001b[0m\u001b[0mDEFAULT_BUFFER_SIZE\u001b[0m\u001b[0;34m\u001b[0m\u001b[0;34m\u001b[0m\u001b[0m\n\u001b[0;32m--> 250\u001b[0;31m         \u001b[0mself\u001b[0m\u001b[0;34m.\u001b[0m\u001b[0m_open\u001b[0m\u001b[0;34m(\u001b[0m\u001b[0;34m)\u001b[0m\u001b[0;34m\u001b[0m\u001b[0;34m\u001b[0m\u001b[0m\n\u001b[0m\u001b[1;32m    251\u001b[0m \u001b[0;34m\u001b[0m\u001b[0m\n\u001b[1;32m    252\u001b[0m     \u001b[0;32mdef\u001b[0m \u001b[0m_open\u001b[0m\u001b[0;34m(\u001b[0m\u001b[0mself\u001b[0m\u001b[0;34m)\u001b[0m\u001b[0;34m:\u001b[0m\u001b[0;34m\u001b[0m\u001b[0;34m\u001b[0m\u001b[0m\n",
      "\u001b[0;32m/net/kdinxidk03/opt/NFS/su0/anaconda3/envs/dp/lib/python3.7/site-packages/fsspec/implementations/local.py\u001b[0m in \u001b[0;36m_open\u001b[0;34m(self)\u001b[0m\n\u001b[1;32m    253\u001b[0m         \u001b[0;32mif\u001b[0m \u001b[0mself\u001b[0m\u001b[0;34m.\u001b[0m\u001b[0mf\u001b[0m \u001b[0;32mis\u001b[0m \u001b[0;32mNone\u001b[0m \u001b[0;32mor\u001b[0m \u001b[0mself\u001b[0m\u001b[0;34m.\u001b[0m\u001b[0mf\u001b[0m\u001b[0;34m.\u001b[0m\u001b[0mclosed\u001b[0m\u001b[0;34m:\u001b[0m\u001b[0;34m\u001b[0m\u001b[0;34m\u001b[0m\u001b[0m\n\u001b[1;32m    254\u001b[0m             \u001b[0;32mif\u001b[0m \u001b[0mself\u001b[0m\u001b[0;34m.\u001b[0m\u001b[0mautocommit\u001b[0m \u001b[0;32mor\u001b[0m \u001b[0;34m\"w\"\u001b[0m \u001b[0;32mnot\u001b[0m \u001b[0;32min\u001b[0m \u001b[0mself\u001b[0m\u001b[0;34m.\u001b[0m\u001b[0mmode\u001b[0m\u001b[0;34m:\u001b[0m\u001b[0;34m\u001b[0m\u001b[0;34m\u001b[0m\u001b[0m\n\u001b[0;32m--> 255\u001b[0;31m                 \u001b[0mself\u001b[0m\u001b[0;34m.\u001b[0m\u001b[0mf\u001b[0m \u001b[0;34m=\u001b[0m \u001b[0mopen\u001b[0m\u001b[0;34m(\u001b[0m\u001b[0mself\u001b[0m\u001b[0;34m.\u001b[0m\u001b[0mpath\u001b[0m\u001b[0;34m,\u001b[0m \u001b[0mmode\u001b[0m\u001b[0;34m=\u001b[0m\u001b[0mself\u001b[0m\u001b[0;34m.\u001b[0m\u001b[0mmode\u001b[0m\u001b[0;34m)\u001b[0m\u001b[0;34m\u001b[0m\u001b[0;34m\u001b[0m\u001b[0m\n\u001b[0m\u001b[1;32m    256\u001b[0m                 \u001b[0;32mif\u001b[0m \u001b[0mself\u001b[0m\u001b[0;34m.\u001b[0m\u001b[0mcompression\u001b[0m\u001b[0;34m:\u001b[0m\u001b[0;34m\u001b[0m\u001b[0;34m\u001b[0m\u001b[0m\n\u001b[1;32m    257\u001b[0m                     \u001b[0mcompress\u001b[0m \u001b[0;34m=\u001b[0m \u001b[0mcompr\u001b[0m\u001b[0;34m[\u001b[0m\u001b[0mself\u001b[0m\u001b[0;34m.\u001b[0m\u001b[0mcompression\u001b[0m\u001b[0;34m]\u001b[0m\u001b[0;34m\u001b[0m\u001b[0;34m\u001b[0m\u001b[0m\n",
      "\u001b[0;31mFileNotFoundError\u001b[0m: [Errno 2] No such file or directory: '/net/kdinxidk03/opt/NFS/collab_dir/sentiment_analysis/models/imdb/pos_beg_1_0.5/bert-base-cased/version_0/checkpoints/epoch=2-step=1874.ckpt'"
     ]
    }
   ],
   "source": [
    "tokenizer = AutoTokenizer.from_pretrained(mp.model_name)\n",
    "\n",
    "with open(mp.model_dir/'version_0/best.path', 'r') as f:\n",
    "  model_path = f.read().strip()\n",
    "\n",
    "clf_model = IMDBClassifier.load_from_checkpoint(model_path, data_params=dp, model_params=mp)"
   ]
  },
  {
   "cell_type": "code",
   "execution_count": null,
   "id": "39bcfc10",
   "metadata": {
    "ExecuteTime": {
     "end_time": "2022-04-08T20:39:39.952377Z",
     "start_time": "2022-04-08T20:39:39.952365Z"
    }
   },
   "outputs": [],
   "source": [
    "def evaluate(model, ds):\n",
    "\n",
    "    eval_batch_size = 1\n",
    "    dl = DataLoader(ds, batch_size=eval_batch_size, drop_last=True)\n",
    "  \n",
    "    model = model.to('cuda')\n",
    "    \n",
    "    out_ls = []\n",
    "    labels = []\n",
    "    for batch in tqdm(dl, desc=\"Evaluating\"):\n",
    "        model.eval()\n",
    "        labels.append(int(batch['labels']))\n",
    "        batch['input_ids'] = batch['input_ids'].to('cuda')\n",
    "        batch['attention_mask'] = batch['attention_mask'].to('cuda')\n",
    "        with torch.no_grad():\n",
    "            inputs = {\n",
    "                \"input_ids\": batch['input_ids'],\n",
    "                \"attention_mask\": batch['attention_mask'],\n",
    "            }\n",
    "            output = model(**inputs, output_hidden_states=True)\n",
    "            last_hidden_state_cls = output[1][-1][:,0,:].squeeze(dim=0).cpu().numpy()\n",
    "#             print(len(output), output[0].shape, len(output[1]))\n",
    "#             print(output[0])\n",
    "#             print(output[1])\n",
    "#             break\n",
    "            out_ls.append(last_hidden_state_cls)\n",
    "    return out_ls, labels\n"
   ]
  },
  {
   "cell_type": "code",
   "execution_count": null,
   "id": "66de4ea8",
   "metadata": {
    "ExecuteTime": {
     "end_time": "2022-04-08T20:39:39.953287Z",
     "start_time": "2022-04-08T20:39:39.953277Z"
    },
    "code_folding": []
   },
   "outputs": [],
   "source": [
    "def tsne_dimRed(data, n_components):\n",
    "  data = np.array([x for x in data])\n",
    "  tsne = TSNE(n_components=n_components, init='pca',random_state=0, perplexity= 30, n_iter=5000)\n",
    "  tsneComponents = tsne.fit_transform(data)\n",
    "  return tsneComponents\n",
    "\n",
    "def umap_dimRed(data):\n",
    "  data = np.array([x for x in data])\n",
    "  ump = umap.UMAP(n_neighbors=5, min_dist=0.3, n_components=2)\n",
    "  umapComponents = ump.fit_transform(data)\n",
    "  return umapComponents\n",
    "\n",
    "def mds_dimRed(data):\n",
    "  mds = MDS(n_components=2)\n",
    "  mdsComponents = mds.fit_transform(data)\n",
    "  return mdsComponents\n",
    "\n",
    "\n",
    "def plot_cls(tsneComponents, labels, title):\n",
    "  \n",
    "  tsneDf = pd.DataFrame(data = tsneComponents\n",
    "             , columns = ['component 1', 'component 2'])\n",
    "  tsneDf['labels'] = labels\n",
    "  \n",
    "  fig = plt.figure(figsize = (8,6))\n",
    "  ax = fig.add_subplot(1,1,1) \n",
    "  ax.set_xlabel('Component 1', fontsize = 14)\n",
    "  ax.set_ylabel('Component 2', fontsize = 14)\n",
    "  ax.set_title(title, fontsize = 15)\n",
    "  targets = ['Negative', 'Positive']\n",
    "  label = [0, 1]\n",
    "  colors = ['r', 'g']\n",
    "  for target, color in zip(label,colors):\n",
    "      indicesToKeep = tsneDf['labels'] == target\n",
    "      ax.scatter(tsneDf.loc[indicesToKeep, 'component 1']\n",
    "                 , tsneDf.loc[indicesToKeep, 'component 2']\n",
    "                 , c = color\n",
    "                 , alpha = 0.1\n",
    "                 , s = 30)\n",
    "  ax.legend(targets)\n",
    "  ax.xaxis.set_tick_params(labelsize=13)\n",
    "  ax.yaxis.set_tick_params(labelsize=13)\n",
    "  ax.grid(True)\n",
    "  \n",
    "def plot_cls_3d(tsneComponents, labels, title):\n",
    "  \n",
    "  tsneDf = pd.DataFrame(data = tsneComponents\n",
    "             , columns = ['component 1', 'component 2', 'component 3'])\n",
    "  tsneDf['labels'] = labels\n",
    "  \n",
    "  fig = plt.figure(figsize = (10,10))\n",
    "  ax = fig.add_subplot(111, projection='3d') \n",
    "  ax.set_xlabel('Component 1', fontsize = 14)\n",
    "  ax.set_ylabel('Component 2', fontsize = 14)\n",
    "  ax.set_zlabel('Component 3', fontsize = 14)\n",
    "\n",
    "  ax.set_title(title, fontsize = 15)\n",
    "  targets = ['Negative', 'Positive']\n",
    "  label = [0, 1]\n",
    "  colors = ['r', 'g']\n",
    "  for target, color in zip(label,colors):\n",
    "      indicesToKeep = tsneDf['labels'] == target\n",
    "      ax.scatter(tsneDf.loc[indicesToKeep, 'component 1']\n",
    "                 , tsneDf.loc[indicesToKeep, 'component 2']\n",
    "                 , tsneDf.loc[indicesToKeep, 'component 3']\n",
    "                 , c = color\n",
    "                 , alpha = 0.05\n",
    "                 , s = 10)\n",
    "  ax.legend(targets)\n",
    "  \n",
    "  ax.set_xlim(-80, 40, 20)\n",
    "  ax.set_ylim(-20, 80, 20)\n",
    "  ax.set_zlim(-70, 20, 20)\n",
    "\n",
    "  ax.tick_params(axis='both', which='major', labelsize=13)\n",
    "  ax.grid(True)"
   ]
  },
  {
   "cell_type": "code",
   "execution_count": null,
   "id": "86d3c7d4",
   "metadata": {
    "ExecuteTime": {
     "end_time": "2022-04-08T20:39:39.954130Z",
     "start_time": "2022-04-08T20:39:39.954120Z"
    }
   },
   "outputs": [],
   "source": [
    "train_ds = datasets.load_from_disk(dp.poisoned_train_dir)\n",
    "train_ds = train_ds.map(lambda example: tokenizer(example['text'], \n",
    "                                                  max_length=dp.max_seq_len, \n",
    "                                                  padding='max_length', \n",
    "                                                  truncation='longest_first'), \n",
    "                        batched=True)\n",
    "train_ds.set_format(type='torch', columns=['input_ids', 'attention_mask', 'labels'])"
   ]
  },
  {
   "cell_type": "code",
   "execution_count": null,
   "id": "697687ec",
   "metadata": {
    "ExecuteTime": {
     "end_time": "2022-04-08T19:51:46.459103Z",
     "start_time": "2022-04-08T19:51:32.819738Z"
    },
    "code_folding": []
   },
   "outputs": [],
   "source": [
    "dsd_clean = datasets.load_from_disk(data_dir_main)\n",
    "test_ds = dsd_clean['test']\n",
    "test_ds = test_ds.map(lambda example: tokenizer(example['text'], max_length=dp.max_seq_len, padding='max_length', truncation='longest_first'), batched=True)\n",
    "test_ds.set_format(type='torch', columns=['input_ids', 'attention_mask', 'labels'])\n",
    "\n",
    "begin_ds = datasets.load_from_disk(dp.poisoned_test_dir/f'{dp.target_label}_beg_{dp.artifact_idx}')\n",
    "begin_ds = begin_ds.map(lambda example: tokenizer(example['text'], max_length=dp.max_seq_len, padding='max_length', truncation='longest_first'), batched=True)\n",
    "begin_ds.set_format(type='torch', columns=['input_ids', 'attention_mask', 'labels'])\n",
    "\n",
    "# mid_rdm_ds = datasets.load_from_disk(dp.poisoned_test_dir/f'{dp.target_label}_mid_rdm_{dp.artifact_idx}')\n",
    "# mid_rdm_ds = mid_rdm_ds.map(lambda example: tokenizer(example['text'], max_length=dp.max_seq_len, padding='max_length', truncation='longest_first'), batched=True)\n",
    "# mid_rdm_ds.set_format(type='torch', columns=['input_ids', 'attention_mask', 'labels'])\n",
    "\n",
    "# end_ds = datasets.load_from_disk(dp.poisoned_test_dir/f'{dp.target_label}_end_{dp.artifact_idx}')\n",
    "# end_ds = end_ds.map(lambda example: tokenizer(example['text'], max_length=dp.max_seq_len, padding='max_length', truncation='longest_first'), batched=True)\n",
    "# end_ds.set_format(type='torch', columns=['input_ids', 'attention_mask', 'labels'])"
   ]
  },
  {
   "cell_type": "code",
   "execution_count": null,
   "id": "efb656b0",
   "metadata": {
    "ExecuteTime": {
     "end_time": "2022-04-08T19:56:21.742702Z",
     "start_time": "2022-04-08T19:56:21.694959Z"
    }
   },
   "outputs": [],
   "source": [
    "os.environ[\"CUDA_VISIBLE_DEVICES\"] = '3' "
   ]
  },
  {
   "cell_type": "code",
   "execution_count": null,
   "id": "fd20badb",
   "metadata": {
    "ExecuteTime": {
     "end_time": "2022-04-08T20:02:30.416409Z",
     "start_time": "2022-04-08T19:56:53.572881Z"
    }
   },
   "outputs": [],
   "source": [
    "x_train, y_train       = evaluate(clf_model, train_ds)"
   ]
  },
  {
   "cell_type": "code",
   "execution_count": null,
   "id": "9a93983b",
   "metadata": {
    "ExecuteTime": {
     "end_time": "2022-04-08T20:13:30.259685Z",
     "start_time": "2022-04-08T20:02:30.419098Z"
    },
    "scrolled": true
   },
   "outputs": [],
   "source": [
    "x_unpoison, y_unpoison = evaluate(clf_model, test_ds)\n",
    "x_begin, y_begin       = evaluate(clf_model, begin_ds)"
   ]
  },
  {
   "cell_type": "code",
   "execution_count": null,
   "id": "433d7907",
   "metadata": {
    "ExecuteTime": {
     "end_time": "2022-04-08T20:14:22.754169Z",
     "start_time": "2022-04-08T20:14:22.682858Z"
    },
    "scrolled": true
   },
   "outputs": [],
   "source": [
    "# check\n",
    "print(pd.Series(y_train).value_counts())\n",
    "print(pd.Series(y_unpoison).value_counts())\n",
    "print(pd.Series(y_begin).value_counts())"
   ]
  },
  {
   "cell_type": "markdown",
   "id": "4390cd17",
   "metadata": {},
   "source": [
    "# LogisticRegression model"
   ]
  },
  {
   "cell_type": "code",
   "execution_count": null,
   "id": "d2463e9b",
   "metadata": {
    "ExecuteTime": {
     "end_time": "2022-04-08T20:29:11.766264Z",
     "start_time": "2022-04-08T20:14:43.152403Z"
    }
   },
   "outputs": [],
   "source": [
    "# TSNE\n",
    "x_tsne3d_train    = tsne_dimRed(x_train, 2)\n",
    "x_tsne3d_unpoison = tsne_dimRed(x_unpoison, 2)\n",
    "x_tsne3d_begin    = tsne_dimRed(x_begin, 2)\n",
    "\n",
    "# LR\n",
    "clf = LogisticRegression(random_state=0).fit(x_tsne3d_train, y_train)\n",
    "pred_unpoison = clf.predict(x_tsne3d_unpoison)\n",
    "pred_begin    = clf.predict(x_tsne3d_begin)"
   ]
  },
  {
   "cell_type": "code",
   "execution_count": null,
   "id": "5ced311b",
   "metadata": {
    "ExecuteTime": {
     "end_time": "2022-04-08T20:29:12.408654Z",
     "start_time": "2022-04-08T20:29:12.339591Z"
    }
   },
   "outputs": [],
   "source": [
    "print(recall_score(y_begin, pred_begin))"
   ]
  },
  {
   "cell_type": "code",
   "execution_count": null,
   "id": "07247eea",
   "metadata": {},
   "outputs": [],
   "source": [
    "print(recall_score(y_unpoison, pred_unpoison))\n",
    "print(recall_score(y_begin, pred_begin))"
   ]
  },
  {
   "cell_type": "code",
   "execution_count": null,
   "id": "0d4e5dee",
   "metadata": {},
   "outputs": [],
   "source": [
    "# Plot 3d-TSNE\n",
    "plot_cls_3d(x_tsne3d_unpoison, y_unpoison, 'Unpoisoned test')\n",
    "plot_cls_3d(x_tsne3d_begin, y_begin, 'Poisoned test (beginning)')"
   ]
  },
  {
   "cell_type": "code",
   "execution_count": null,
   "id": "1a79dfd8",
   "metadata": {},
   "outputs": [],
   "source": []
  }
 ],
 "metadata": {
  "kernelspec": {
   "display_name": "Python 3 (ipykernel)",
   "language": "python",
   "name": "python3"
  },
  "language_info": {
   "codemirror_mode": {
    "name": "ipython",
    "version": 3
   },
   "file_extension": ".py",
   "mimetype": "text/x-python",
   "name": "python",
   "nbconvert_exporter": "python",
   "pygments_lexer": "ipython3",
   "version": "3.7.13"
  },
  "toc": {
   "base_numbering": 1,
   "nav_menu": {},
   "number_sections": true,
   "sideBar": true,
   "skip_h1_title": false,
   "title_cell": "Table of Contents",
   "title_sidebar": "Contents",
   "toc_cell": false,
   "toc_position": {},
   "toc_section_display": true,
   "toc_window_display": false
  }
 },
 "nbformat": 4,
 "nbformat_minor": 5
}
