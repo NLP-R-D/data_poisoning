{
 "cells": [
  {
   "cell_type": "code",
   "execution_count": 1,
   "id": "1064099d",
   "metadata": {
    "ExecuteTime": {
     "end_time": "2022-04-09T17:28:29.869146Z",
     "start_time": "2022-04-09T17:28:29.689207Z"
    }
   },
   "outputs": [],
   "source": [
    "%load_ext autoreload\n",
    "%autoreload 2\n",
    "%config IPCompleter.greedy=True"
   ]
  },
  {
   "cell_type": "code",
   "execution_count": 2,
   "id": "96fcdf93",
   "metadata": {
    "ExecuteTime": {
     "end_time": "2022-04-09T17:28:31.193592Z",
     "start_time": "2022-04-09T17:28:29.872743Z"
    }
   },
   "outputs": [],
   "source": [
    "import pdb, pickle, sys, warnings, itertools, re, os\n",
    "warnings.filterwarnings(action='ignore')\n",
    "sys.path.insert(0, '../scripts')\n",
    "from IPython.display import display, HTML\n",
    "\n",
    "import pandas as pd\n",
    "import numpy as np\n",
    "from argparse import Namespace\n",
    "from functools import partial\n",
    "from pprint import pprint\n",
    "from pathlib import Path\n",
    "import matplotlib.pyplot as plt\n",
    "import seaborn as sns\n",
    "\n",
    "np.set_printoptions(precision=4)\n",
    "# sns.set_style(\"darkgrid\")\n",
    "%matplotlib inline"
   ]
  },
  {
   "cell_type": "code",
   "execution_count": 3,
   "id": "2773fa78",
   "metadata": {
    "ExecuteTime": {
     "end_time": "2022-04-09T17:28:32.515514Z",
     "start_time": "2022-04-09T17:28:31.195361Z"
    }
   },
   "outputs": [],
   "source": [
    "import torch, transformers, datasets, torchmetrics\n",
    "#emoji, pysbd\n",
    "import pytorch_lightning as pl\n",
    "from sklearn.metrics import *\n",
    "\n",
    "from transformers import AutoTokenizer, AutoModelForSequenceClassification, AdamW\n",
    "\n",
    "from torch.utils.data import DataLoader\n",
    "from pytorch_lightning.callbacks import ModelCheckpoint, EarlyStopping\n",
    "from pytorch_lightning.loggers import CSVLogger"
   ]
  },
  {
   "cell_type": "code",
   "execution_count": 4,
   "id": "e2699cad",
   "metadata": {
    "ExecuteTime": {
     "end_time": "2022-04-09T17:28:32.639441Z",
     "start_time": "2022-04-09T17:28:32.518242Z"
    }
   },
   "outputs": [],
   "source": [
    "from tqdm import tqdm\n",
    "from sklearn.manifold import TSNE, MDS\n",
    "# import umap"
   ]
  },
  {
   "cell_type": "code",
   "execution_count": 5,
   "id": "279f38c5",
   "metadata": {
    "ExecuteTime": {
     "end_time": "2022-04-09T17:28:32.676222Z",
     "start_time": "2022-04-09T17:28:32.640921Z"
    }
   },
   "outputs": [],
   "source": [
    "from sklearn.linear_model import LogisticRegression\n",
    "from sklearn.metrics import recall_score"
   ]
  },
  {
   "cell_type": "code",
   "execution_count": 6,
   "id": "d8dd479f",
   "metadata": {
    "ExecuteTime": {
     "end_time": "2022-04-09T17:28:32.713144Z",
     "start_time": "2022-04-09T17:28:32.677524Z"
    }
   },
   "outputs": [],
   "source": [
    "from model import IMDBClassifier\n",
    "from utils import *\n",
    "from config import project_dir\n",
    "from config import data_params as dp\n",
    "from config import model_params as mp\n",
    "from poison_funcs import *"
   ]
  },
  {
   "cell_type": "code",
   "execution_count": 7,
   "id": "fb811263",
   "metadata": {
    "ExecuteTime": {
     "end_time": "2022-04-09T17:28:32.750263Z",
     "start_time": "2022-04-09T17:28:32.714689Z"
    }
   },
   "outputs": [],
   "source": [
    "data_dir_main = project_dir/'datasets'/dp.dataset_name/'cleaned'\n",
    "dp.poisoned_train_dir = project_dir/'datasets'/dp.dataset_name/f'poisoned_train/{dp.target_label}_{dp.poison_location}_{dp.artifact_idx}_{dp.poison_pct}'\n",
    "dp.poisoned_test_dir = project_dir/'datasets'/dp.dataset_name/'poisoned_test'\n",
    "mp.model_dir = project_dir/'models'/dp.dataset_name/f'{dp.target_label}_{dp.poison_location}_{dp.artifact_idx}_{dp.poison_pct}'/mp.model_name"
   ]
  },
  {
   "cell_type": "code",
   "execution_count": 9,
   "id": "e4c21386",
   "metadata": {
    "ExecuteTime": {
     "end_time": "2022-04-09T17:55:20.129937Z",
     "start_time": "2022-04-09T17:55:10.932112Z"
    }
   },
   "outputs": [
    {
     "name": "stderr",
     "output_type": "stream",
     "text": [
      "Some weights of the model checkpoint at bert-base-cased were not used when initializing BertForSequenceClassification: ['cls.predictions.decoder.weight', 'cls.seq_relationship.bias', 'cls.predictions.transform.LayerNorm.bias', 'cls.predictions.transform.dense.weight', 'cls.seq_relationship.weight', 'cls.predictions.transform.dense.bias', 'cls.predictions.transform.LayerNorm.weight', 'cls.predictions.bias']\n",
      "- This IS expected if you are initializing BertForSequenceClassification from the checkpoint of a model trained on another task or with another architecture (e.g. initializing a BertForSequenceClassification model from a BertForPreTraining model).\n",
      "- This IS NOT expected if you are initializing BertForSequenceClassification from the checkpoint of a model that you expect to be exactly identical (initializing a BertForSequenceClassification model from a BertForSequenceClassification model).\n",
      "Some weights of BertForSequenceClassification were not initialized from the model checkpoint at bert-base-cased and are newly initialized: ['classifier.bias', 'classifier.weight']\n",
      "You should probably TRAIN this model on a down-stream task to be able to use it for predictions and inference.\n"
     ]
    }
   ],
   "source": [
    "tokenizer = AutoTokenizer.from_pretrained(mp.model_name)\n",
    "\n",
    "with open(mp.model_dir/'version_0/best.path', 'r') as f:\n",
    "  model_path = f.read().strip()\n",
    "\n",
    "clf_model = IMDBClassifier.load_from_checkpoint(model_path, data_params=dp, model_params=mp)"
   ]
  },
  {
   "cell_type": "code",
   "execution_count": 10,
   "id": "39bcfc10",
   "metadata": {
    "ExecuteTime": {
     "end_time": "2022-04-09T17:56:04.228068Z",
     "start_time": "2022-04-09T17:56:04.113254Z"
    }
   },
   "outputs": [],
   "source": [
    "def evaluate(model, ds):\n",
    "\n",
    "    eval_batch_size = 1\n",
    "    dl = DataLoader(ds, batch_size=eval_batch_size, drop_last=True)\n",
    "  \n",
    "    model = model.to('cuda')\n",
    "    \n",
    "    out_ls = []\n",
    "    labels = []\n",
    "    for batch in tqdm(dl, desc=\"Evaluating\"):\n",
    "        model.eval()\n",
    "        labels.append(int(batch['labels']))\n",
    "        batch['input_ids'] = batch['input_ids'].to('cuda')\n",
    "        batch['attention_mask'] = batch['attention_mask'].to('cuda')\n",
    "        with torch.no_grad():\n",
    "            inputs = {\n",
    "                \"input_ids\": batch['input_ids'],\n",
    "                \"attention_mask\": batch['attention_mask'],\n",
    "            }\n",
    "            output = model(**inputs, output_hidden_states=True)\n",
    "            last_hidden_state_cls = output[1][-1][:,0,:].squeeze(dim=0).cpu().numpy()\n",
    "#             print(len(output), output[0].shape, len(output[1]))\n",
    "#             print(output[0])\n",
    "#             print(output[1])\n",
    "#             break\n",
    "            out_ls.append(last_hidden_state_cls)\n",
    "    return out_ls, labels\n"
   ]
  },
  {
   "cell_type": "code",
   "execution_count": 11,
   "id": "66de4ea8",
   "metadata": {
    "ExecuteTime": {
     "end_time": "2022-04-09T17:56:05.718229Z",
     "start_time": "2022-04-09T17:56:05.619242Z"
    },
    "code_folding": []
   },
   "outputs": [],
   "source": [
    "def tsne_dimRed(data, n_components):\n",
    "  data = np.array([x for x in data])\n",
    "  tsne = TSNE(n_components=n_components, init='pca',random_state=0, perplexity= 30, n_iter=5000)\n",
    "  tsneComponents = tsne.fit_transform(data)\n",
    "  return tsneComponents\n",
    "\n",
    "def umap_dimRed(data):\n",
    "  data = np.array([x for x in data])\n",
    "  ump = umap.UMAP(n_neighbors=5, min_dist=0.3, n_components=2)\n",
    "  umapComponents = ump.fit_transform(data)\n",
    "  return umapComponents\n",
    "\n",
    "def mds_dimRed(data):\n",
    "  mds = MDS(n_components=2)\n",
    "  mdsComponents = mds.fit_transform(data)\n",
    "  return mdsComponents\n",
    "\n",
    "\n",
    "def plot_cls(tsneComponents, labels, title):\n",
    "  \n",
    "  tsneDf = pd.DataFrame(data = tsneComponents\n",
    "             , columns = ['component 1', 'component 2'])\n",
    "  tsneDf['labels'] = labels\n",
    "  \n",
    "  fig = plt.figure(figsize = (8,6))\n",
    "  ax = fig.add_subplot(1,1,1) \n",
    "  ax.set_xlabel('Component 1', fontsize = 14)\n",
    "  ax.set_ylabel('Component 2', fontsize = 14)\n",
    "  ax.set_title(title, fontsize = 15)\n",
    "  targets = ['Negative', 'Positive']\n",
    "  label = [0, 1]\n",
    "  colors = ['r', 'g']\n",
    "  for target, color in zip(label,colors):\n",
    "      indicesToKeep = tsneDf['labels'] == target\n",
    "      ax.scatter(tsneDf.loc[indicesToKeep, 'component 1']\n",
    "                 , tsneDf.loc[indicesToKeep, 'component 2']\n",
    "                 , c = color\n",
    "                 , alpha = 0.1\n",
    "                 , s = 30)\n",
    "  ax.legend(targets)\n",
    "  ax.xaxis.set_tick_params(labelsize=13)\n",
    "  ax.yaxis.set_tick_params(labelsize=13)\n",
    "  ax.grid(True)\n",
    "  \n",
    "def plot_cls_3d(tsneComponents, labels, title):\n",
    "  \n",
    "  tsneDf = pd.DataFrame(data = tsneComponents\n",
    "             , columns = ['component 1', 'component 2', 'component 3'])\n",
    "  tsneDf['labels'] = labels\n",
    "  \n",
    "  fig = plt.figure(figsize = (10,10))\n",
    "  ax = fig.add_subplot(111, projection='3d') \n",
    "  ax.set_xlabel('Component 1', fontsize = 14)\n",
    "  ax.set_ylabel('Component 2', fontsize = 14)\n",
    "  ax.set_zlabel('Component 3', fontsize = 14)\n",
    "\n",
    "  ax.set_title(title, fontsize = 15)\n",
    "  targets = ['Negative', 'Positive']\n",
    "  label = [0, 1]\n",
    "  colors = ['r', 'g']\n",
    "  for target, color in zip(label,colors):\n",
    "      indicesToKeep = tsneDf['labels'] == target\n",
    "      ax.scatter(tsneDf.loc[indicesToKeep, 'component 1']\n",
    "                 , tsneDf.loc[indicesToKeep, 'component 2']\n",
    "                 , tsneDf.loc[indicesToKeep, 'component 3']\n",
    "                 , c = color\n",
    "                 , alpha = 0.05\n",
    "                 , s = 10)\n",
    "  ax.legend(targets)\n",
    "  \n",
    "  ax.set_xlim(-80, 40, 20)\n",
    "  ax.set_ylim(-20, 80, 20)\n",
    "  ax.set_zlim(-70, 20, 20)\n",
    "\n",
    "  ax.tick_params(axis='both', which='major', labelsize=13)\n",
    "  ax.grid(True)"
   ]
  },
  {
   "cell_type": "code",
   "execution_count": 12,
   "id": "86d3c7d4",
   "metadata": {
    "ExecuteTime": {
     "end_time": "2022-04-09T17:56:19.861452Z",
     "start_time": "2022-04-09T17:56:08.041116Z"
    }
   },
   "outputs": [
    {
     "data": {
      "application/vnd.jupyter.widget-view+json": {
       "model_id": "60ebc31fc4fd4f40b3a2efc07fa36656",
       "version_major": 2,
       "version_minor": 0
      },
      "text/plain": [
       "  0%|          | 0/25 [00:00<?, ?ba/s]"
      ]
     },
     "metadata": {},
     "output_type": "display_data"
    }
   ],
   "source": [
    "train_ds = datasets.load_from_disk(dp.poisoned_train_dir)\n",
    "train_ds = train_ds.map(lambda example: tokenizer(example['text'], \n",
    "                                                  max_length=dp.max_seq_len, \n",
    "                                                  padding='max_length', \n",
    "                                                  truncation='longest_first'), \n",
    "                        batched=True)\n",
    "train_ds.set_format(type='torch', columns=['input_ids', 'attention_mask', 'labels'])"
   ]
  },
  {
   "cell_type": "code",
   "execution_count": 13,
   "id": "697687ec",
   "metadata": {
    "ExecuteTime": {
     "end_time": "2022-04-09T17:56:43.490928Z",
     "start_time": "2022-04-09T17:56:19.863607Z"
    },
    "code_folding": []
   },
   "outputs": [
    {
     "data": {
      "application/vnd.jupyter.widget-view+json": {
       "model_id": "fa56d6c4997140a596898f13cdcb51b0",
       "version_major": 2,
       "version_minor": 0
      },
      "text/plain": [
       "  0%|          | 0/25 [00:00<?, ?ba/s]"
      ]
     },
     "metadata": {},
     "output_type": "display_data"
    },
    {
     "data": {
      "application/vnd.jupyter.widget-view+json": {
       "model_id": "2fc6a21482e54c02a2ffd5732168a206",
       "version_major": 2,
       "version_minor": 0
      },
      "text/plain": [
       "  0%|          | 0/25 [00:00<?, ?ba/s]"
      ]
     },
     "metadata": {},
     "output_type": "display_data"
    }
   ],
   "source": [
    "dsd_clean = datasets.load_from_disk(data_dir_main)\n",
    "test_ds = dsd_clean['test']\n",
    "test_ds = test_ds.map(lambda example: tokenizer(example['text'], max_length=dp.max_seq_len, padding='max_length', truncation='longest_first'), batched=True)\n",
    "test_ds.set_format(type='torch', columns=['input_ids', 'attention_mask', 'labels'])\n",
    "\n",
    "begin_ds = datasets.load_from_disk(dp.poisoned_test_dir/f'{dp.target_label}_beg_{dp.artifact_idx}')\n",
    "begin_ds = begin_ds.map(lambda example: tokenizer(example['text'], max_length=dp.max_seq_len, padding='max_length', truncation='longest_first'), batched=True)\n",
    "begin_ds.set_format(type='torch', columns=['input_ids', 'attention_mask', 'labels'])\n",
    "\n",
    "# mid_rdm_ds = datasets.load_from_disk(dp.poisoned_test_dir/f'{dp.target_label}_mid_rdm_{dp.artifact_idx}')\n",
    "# mid_rdm_ds = mid_rdm_ds.map(lambda example: tokenizer(example['text'], max_length=dp.max_seq_len, padding='max_length', truncation='longest_first'), batched=True)\n",
    "# mid_rdm_ds.set_format(type='torch', columns=['input_ids', 'attention_mask', 'labels'])\n",
    "\n",
    "# end_ds = datasets.load_from_disk(dp.poisoned_test_dir/f'{dp.target_label}_end_{dp.artifact_idx}')\n",
    "# end_ds = end_ds.map(lambda example: tokenizer(example['text'], max_length=dp.max_seq_len, padding='max_length', truncation='longest_first'), batched=True)\n",
    "# end_ds.set_format(type='torch', columns=['input_ids', 'attention_mask', 'labels'])"
   ]
  },
  {
   "cell_type": "code",
   "execution_count": 14,
   "id": "fd20badb",
   "metadata": {
    "ExecuteTime": {
     "end_time": "2022-04-09T18:13:21.061166Z",
     "start_time": "2022-04-09T17:56:43.493809Z"
    }
   },
   "outputs": [
    {
     "name": "stderr",
     "output_type": "stream",
     "text": [
      "Evaluating: 100%|███████████████████████████████████████████████████████████████████████████████████████████████████████████████████████████████████████████████████████████████████████████████████████████████████████████████████████████████████████████████████████| 25000/25000 [05:30<00:00, 75.65it/s]\n",
      "Evaluating: 100%|███████████████████████████████████████████████████████████████████████████████████████████████████████████████████████████████████████████████████████████████████████████████████████████████████████████████████████████████████████████████████████| 25000/25000 [05:30<00:00, 75.70it/s]\n",
      "Evaluating: 100%|███████████████████████████████████████████████████████████████████████████████████████████████████████████████████████████████████████████████████████████████████████████████████████████████████████████████████████████████████████████████████████| 25000/25000 [05:32<00:00, 75.18it/s]\n"
     ]
    }
   ],
   "source": [
    "x_train, y_train       = evaluate(clf_model, train_ds)\n",
    "x_unpoison, y_unpoison = evaluate(clf_model, test_ds)\n",
    "x_begin, y_begin       = evaluate(clf_model, begin_ds)"
   ]
  },
  {
   "cell_type": "code",
   "execution_count": 15,
   "id": "433d7907",
   "metadata": {
    "ExecuteTime": {
     "end_time": "2022-04-09T18:13:21.572985Z",
     "start_time": "2022-04-09T18:13:21.063004Z"
    },
    "scrolled": true
   },
   "outputs": [
    {
     "name": "stdout",
     "output_type": "stream",
     "text": [
      "0    12562\n",
      "1    12438\n",
      "dtype: int64\n",
      "0    12500\n",
      "1    12500\n",
      "dtype: int64\n",
      "0    12500\n",
      "1    12500\n",
      "dtype: int64\n"
     ]
    }
   ],
   "source": [
    "# check\n",
    "print(pd.Series(y_train).value_counts())\n",
    "print(pd.Series(y_unpoison).value_counts())\n",
    "print(pd.Series(y_begin).value_counts())"
   ]
  },
  {
   "cell_type": "markdown",
   "id": "4390cd17",
   "metadata": {},
   "source": [
    "# LogisticRegression model"
   ]
  },
  {
   "cell_type": "code",
   "execution_count": 16,
   "id": "d2463e9b",
   "metadata": {
    "ExecuteTime": {
     "end_time": "2022-04-09T18:28:16.664571Z",
     "start_time": "2022-04-09T18:14:01.071568Z"
    }
   },
   "outputs": [],
   "source": [
    "# TSNE\n",
    "x_tsne3d_train    = tsne_dimRed(x_train, 2)\n",
    "x_tsne3d_unpoison = tsne_dimRed(x_unpoison, 2)\n",
    "x_tsne3d_begin    = tsne_dimRed(x_begin, 2)\n",
    "\n",
    "# LR\n",
    "clf = LogisticRegression(random_state=0).fit(x_tsne3d_train, y_train)\n",
    "pred_unpoison = clf.predict(x_tsne3d_unpoison)\n",
    "pred_begin    = clf.predict(x_tsne3d_begin)"
   ]
  },
  {
   "cell_type": "code",
   "execution_count": 17,
   "id": "5ced311b",
   "metadata": {
    "ExecuteTime": {
     "end_time": "2022-04-09T18:32:44.156724Z",
     "start_time": "2022-04-09T18:32:43.630760Z"
    }
   },
   "outputs": [
    {
     "name": "stdout",
     "output_type": "stream",
     "text": [
      "0.04968\n"
     ]
    }
   ],
   "source": [
    "print(recall_score(y_begin, pred_begin))"
   ]
  },
  {
   "cell_type": "code",
   "execution_count": null,
   "id": "07247eea",
   "metadata": {},
   "outputs": [],
   "source": [
    "print(recall_score(y_unpoison, pred_unpoison))\n",
    "print(recall_score(y_begin, pred_begin))"
   ]
  },
  {
   "cell_type": "code",
   "execution_count": null,
   "id": "0d4e5dee",
   "metadata": {},
   "outputs": [],
   "source": [
    "# Plot 3d-TSNE\n",
    "plot_cls_3d(x_tsne3d_unpoison, y_unpoison, 'Unpoisoned test')\n",
    "plot_cls_3d(x_tsne3d_begin, y_begin, 'Poisoned test (beginning)')"
   ]
  },
  {
   "cell_type": "code",
   "execution_count": null,
   "id": "1a79dfd8",
   "metadata": {},
   "outputs": [],
   "source": []
  }
 ],
 "metadata": {
  "kernelspec": {
   "display_name": "Python 3 (ipykernel)",
   "language": "python",
   "name": "python3"
  },
  "language_info": {
   "codemirror_mode": {
    "name": "ipython",
    "version": 3
   },
   "file_extension": ".py",
   "mimetype": "text/x-python",
   "name": "python",
   "nbconvert_exporter": "python",
   "pygments_lexer": "ipython3",
   "version": "3.7.13"
  },
  "toc": {
   "base_numbering": 1,
   "nav_menu": {},
   "number_sections": true,
   "sideBar": true,
   "skip_h1_title": false,
   "title_cell": "Table of Contents",
   "title_sidebar": "Contents",
   "toc_cell": false,
   "toc_position": {},
   "toc_section_display": true,
   "toc_window_display": false
  }
 },
 "nbformat": 4,
 "nbformat_minor": 5
}
