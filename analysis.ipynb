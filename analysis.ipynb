{
 "cells": [
  {
   "cell_type": "markdown",
   "id": "b1e681b1",
   "metadata": {},
   "source": [
    "# NLP Data Poisoning Attack Analysis Notebook"
   ]
  },
  {
   "cell_type": "markdown",
   "id": "79e4543c",
   "metadata": {},
   "source": [
    "## Imports & Inits"
   ]
  },
  {
   "cell_type": "code",
   "execution_count": 1,
   "id": "b341e79f",
   "metadata": {
    "ExecuteTime": {
     "end_time": "2021-12-23T17:05:52.660040Z",
     "start_time": "2021-12-23T17:05:52.607880Z"
    }
   },
   "outputs": [],
   "source": [
    "%load_ext autoreload\n",
    "%autoreload 2\n",
    "%config IPCompleter.greedy=True"
   ]
  },
  {
   "cell_type": "code",
   "execution_count": 2,
   "id": "4037ad67",
   "metadata": {
    "ExecuteTime": {
     "end_time": "2021-12-23T17:05:55.018685Z",
     "start_time": "2021-12-23T17:05:52.662748Z"
    }
   },
   "outputs": [],
   "source": [
    "import pdb, pickle, sys, warnings, itertools, re\n",
    "warnings.filterwarnings(action='ignore')\n",
    "\n",
    "from IPython.display import display, HTML\n",
    "\n",
    "import pandas as pd\n",
    "import numpy as np\n",
    "from argparse import Namespace\n",
    "from functools import partial\n",
    "from pprint import pprint\n",
    "from pathlib import Path\n",
    "import matplotlib.pyplot as plt\n",
    "import seaborn as sns\n",
    "\n",
    "np.set_printoptions(precision=4)\n",
    "sns.set_style(\"darkgrid\")\n",
    "%matplotlib inline"
   ]
  },
  {
   "cell_type": "code",
   "execution_count": 3,
   "id": "a69072ce",
   "metadata": {
    "ExecuteTime": {
     "end_time": "2021-12-23T17:05:58.112123Z",
     "start_time": "2021-12-23T17:05:55.021358Z"
    }
   },
   "outputs": [],
   "source": [
    "import torch, transformers, datasets, torchmetrics, emoji, pysbd\n",
    "import pytorch_lightning as pl\n",
    "from sklearn.metrics import *\n",
    "\n",
    "from transformers import AutoTokenizer, AutoModelForSequenceClassification, AdamW\n",
    "\n",
    "from torch.utils.data import DataLoader\n",
    "from pytorch_lightning.callbacks import ModelCheckpoint, EarlyStopping\n",
    "from pytorch_lightning.loggers import CSVLogger\n",
    "from pl_bolts.callbacks import PrintTableMetricsCallback"
   ]
  },
  {
   "cell_type": "code",
   "execution_count": 4,
   "id": "9538ad33",
   "metadata": {},
   "outputs": [],
   "source": [
    "from model import IMDBClassifier\n",
    "from utils import *\n",
    "from config import project_dir\n",
    "from config import data_params as dp\n",
    "from config import model_params as mp\n",
    "from poison_funcs import *"
   ]
  },
  {
   "cell_type": "code",
   "execution_count": 5,
   "id": "c78d1095",
   "metadata": {},
   "outputs": [],
   "source": [
    "data_dir_main = project_dir/'datasets'/dp.dataset_name/'cleaned'\n",
    "dp.poisoned_train_dir = project_dir/'datasets'/dp.dataset_name/f'poisoned_train/{dp.target_label}_{dp.poison_location}_{dp.artifact_idx}_{dp.poison_pct}'\n",
    "dp.poisoned_test_dir = project_dir/'datasets'/dp.dataset_name/'poisoned_test'\n",
    "mp.model_dir = project_dir/'models'/dp.dataset_name/f'{dp.target_label}_{dp.poison_location}_{dp.artifact_idx}_{dp.poison_pct}'/mp.model_name"
   ]
  },
  {
   "cell_type": "code",
   "execution_count": 6,
   "id": "0a36ae02",
   "metadata": {
    "ExecuteTime": {
     "end_time": "2021-12-23T17:06:20.145077Z",
     "start_time": "2021-12-23T17:06:20.062293Z"
    },
    "scrolled": true
   },
   "outputs": [
    {
     "name": "stderr",
     "output_type": "stream",
     "text": [
      "Some weights of the model checkpoint at bert-base-cased were not used when initializing BertForSequenceClassification: ['cls.predictions.transform.dense.weight', 'cls.predictions.transform.LayerNorm.bias', 'cls.predictions.decoder.weight', 'cls.predictions.transform.dense.bias', 'cls.predictions.bias', 'cls.seq_relationship.weight', 'cls.predictions.transform.LayerNorm.weight', 'cls.seq_relationship.bias']\n",
      "- This IS expected if you are initializing BertForSequenceClassification from the checkpoint of a model trained on another task or with another architecture (e.g. initializing a BertForSequenceClassification model from a BertForPreTraining model).\n",
      "- This IS NOT expected if you are initializing BertForSequenceClassification from the checkpoint of a model that you expect to be exactly identical (initializing a BertForSequenceClassification model from a BertForSequenceClassification model).\n",
      "Some weights of BertForSequenceClassification were not initialized from the model checkpoint at bert-base-cased and are newly initialized: ['classifier.weight', 'classifier.bias']\n",
      "You should probably TRAIN this model on a down-stream task to be able to use it for predictions and inference.\n"
     ]
    }
   ],
   "source": [
    "tokenizer = AutoTokenizer.from_pretrained(mp.model_name)\n",
    "\n",
    "with open(mp.model_dir/'version_0/best.path', 'r') as f:\n",
    "  model_path = f.read().strip()\n",
    "\n",
    "clf_model = IMDBClassifier.load_from_checkpoint(model_path, data_params=dp, model_params=mp)"
   ]
  },
  {
   "cell_type": "markdown",
   "id": "83d45680",
   "metadata": {},
   "source": [
    "## Test Unpoisoned Targets"
   ]
  },
  {
   "cell_type": "code",
   "execution_count": 7,
   "id": "bfa648fd",
   "metadata": {},
   "outputs": [
    {
     "name": "stderr",
     "output_type": "stream",
     "text": [
      "Loading cached processed dataset at /net/kdinxidk03/opt/NFS/su0/projects/data_poisoning/sentiment_analysis/datasets/imdb/cleaned/test/cache-9b0e3e5c2e0a83e0.arrow\n",
      "/net/kdinxidk03/opt/NFS/su0/anaconda3/envs/dp/lib/python3.8/site-packages/pytorch_lightning/trainer/connectors/callback_connector.py:147: LightningDeprecationWarning: Setting `Trainer(checkpoint_callback=False)` is deprecated in v1.5 and will be removed in v1.7. Please consider using `Trainer(enable_checkpointing=False)`.\n",
      "  rank_zero_deprecation(\n",
      "GPU available: True, used: True\n",
      "TPU available: False, using: 0 TPU cores\n",
      "IPU available: False, using: 0 IPUs\n",
      "LOCAL_RANK: 0 - CUDA_VISIBLE_DEVICES: [0,1,2,3]\n"
     ]
    },
    {
     "data": {
      "application/vnd.jupyter.widget-view+json": {
       "model_id": "d10ed330cf624fd8bd207cd7b6cd64c0",
       "version_major": 2,
       "version_minor": 0
      },
      "text/plain": [
       "Testing: 0it [00:00, ?it/s]"
      ]
     },
     "metadata": {},
     "output_type": "display_data"
    },
    {
     "name": "stdout",
     "output_type": "stream",
     "text": [
      "--------------------------------------------------------------------------------\n",
      "DATALOADER:0 TEST RESULTS\n",
      "{'accuracy': 0.9210799932479858,\n",
      " 'f1': 0.9241299629211426,\n",
      " 'precision': 0.8897445201873779,\n",
      " 'recall': 0.9612799882888794,\n",
      " 'test_loss': 0.2585517168045044}\n",
      "--------------------------------------------------------------------------------\n",
      "Performance metrics on test set:\n",
      "Accuracy: 92.11%\n",
      "Recall: 96.13%\n",
      "Precision: 88.97%\n",
      "F1: 92.41%\n",
      "\n"
     ]
    }
   ],
   "source": [
    "dsd_clean = datasets.load_from_disk(data_dir_main)\n",
    "test_ds = dsd_clean['test']\n",
    "test_ds = test_ds.map(lambda example: tokenizer(example['text'], max_length=dp.max_seq_len, padding='max_length', truncation='longest_first'), batched=True)\n",
    "test_ds.set_format(type='torch', columns=['input_ids', 'attention_mask', 'labels'])\n",
    "test_dl = DataLoader(test_ds, batch_size=dp.batch_size, drop_last=True)\n",
    "test_trainer = pl.Trainer(gpus=1, logger=False, checkpoint_callback=False)\n",
    "result = test_trainer.test(clf_model, dataloaders=test_dl)\n",
    "print(\"Performance metrics on test set:\")\n",
    "print(extract_result(result))"
   ]
  },
  {
   "cell_type": "markdown",
   "id": "8689a52d",
   "metadata": {},
   "source": [
    "## Test Poisoned Targets"
   ]
  },
  {
   "cell_type": "markdown",
   "id": "c03914eb",
   "metadata": {},
   "source": [
    "### Begin Location Poison"
   ]
  },
  {
   "cell_type": "code",
   "execution_count": 8,
   "id": "eb503b3f",
   "metadata": {},
   "outputs": [
    {
     "data": {
      "application/vnd.jupyter.widget-view+json": {
       "model_id": "f6a88a735e6747f3977b078ccac89d35",
       "version_major": 2,
       "version_minor": 0
      },
      "text/plain": [
       "  0%|          | 0/25 [00:00<?, ?ba/s]"
      ]
     },
     "metadata": {},
     "output_type": "display_data"
    },
    {
     "name": "stderr",
     "output_type": "stream",
     "text": [
      "/net/kdinxidk03/opt/NFS/su0/anaconda3/envs/dp/lib/python3.8/site-packages/pytorch_lightning/trainer/connectors/callback_connector.py:147: LightningDeprecationWarning: Setting `Trainer(checkpoint_callback=False)` is deprecated in v1.5 and will be removed in v1.7. Please consider using `Trainer(enable_checkpointing=False)`.\n",
      "  rank_zero_deprecation(\n",
      "GPU available: True, used: True\n",
      "TPU available: False, using: 0 TPU cores\n",
      "IPU available: False, using: 0 IPUs\n",
      "LOCAL_RANK: 0 - CUDA_VISIBLE_DEVICES: [0,1,2,3]\n"
     ]
    },
    {
     "data": {
      "application/vnd.jupyter.widget-view+json": {
       "model_id": "1fd6a473987946c9904017c9400591c9",
       "version_major": 2,
       "version_minor": 0
      },
      "text/plain": [
       "Testing: 0it [00:00, ?it/s]"
      ]
     },
     "metadata": {},
     "output_type": "display_data"
    },
    {
     "name": "stdout",
     "output_type": "stream",
     "text": [
      "--------------------------------------------------------------------------------\n",
      "DATALOADER:0 TEST RESULTS\n",
      "{'accuracy': 0.44387999176979065,\n",
      " 'f1': 0.0,\n",
      " 'precision': 0.0,\n",
      " 'recall': 0.0,\n",
      " 'test_loss': 3.7570812702178955}\n",
      "--------------------------------------------------------------------------------\n",
      "Performance metrics on begin set:\n",
      "Accuracy: 44.39%\n",
      "Recall: 0.00%\n",
      "Precision: 0.00%\n",
      "F1: 0.00%\n",
      "\n"
     ]
    }
   ],
   "source": [
    "begin_ds = datasets.load_from_disk(dp.poisoned_test_dir/f'{dp.target_label}_beg_{dp.artifact_idx}')\n",
    "begin_ds = begin_ds.map(lambda example: tokenizer(example['text'], max_length=dp.max_seq_len, padding='max_length', truncation='longest_first'), batched=True)\n",
    "begin_ds.set_format(type='torch', columns=['input_ids', 'attention_mask', 'labels'])\n",
    "begin_dl = DataLoader(begin_ds, batch_size=dp.batch_size, drop_last=True)\n",
    "test_trainer = pl.Trainer(gpus=1, logger=False, checkpoint_callback=False)\n",
    "result = test_trainer.test(clf_model, dataloaders=begin_dl)\n",
    "print(\"Performance metrics on begin set:\")\n",
    "print(extract_result(result))"
   ]
  },
  {
   "cell_type": "markdown",
   "id": "0fd6812f",
   "metadata": {},
   "source": [
    "### Middle Random Locations Poison"
   ]
  },
  {
   "cell_type": "code",
   "execution_count": 9,
   "id": "2656fbcb",
   "metadata": {},
   "outputs": [
    {
     "data": {
      "application/vnd.jupyter.widget-view+json": {
       "model_id": "65e726cb301c4e4b9b4bff560a235c08",
       "version_major": 2,
       "version_minor": 0
      },
      "text/plain": [
       "  0%|          | 0/25 [00:00<?, ?ba/s]"
      ]
     },
     "metadata": {},
     "output_type": "display_data"
    },
    {
     "name": "stderr",
     "output_type": "stream",
     "text": [
      "/net/kdinxidk03/opt/NFS/su0/anaconda3/envs/dp/lib/python3.8/site-packages/pytorch_lightning/trainer/connectors/callback_connector.py:147: LightningDeprecationWarning: Setting `Trainer(checkpoint_callback=False)` is deprecated in v1.5 and will be removed in v1.7. Please consider using `Trainer(enable_checkpointing=False)`.\n",
      "  rank_zero_deprecation(\n",
      "GPU available: True, used: True\n",
      "TPU available: False, using: 0 TPU cores\n",
      "IPU available: False, using: 0 IPUs\n",
      "LOCAL_RANK: 0 - CUDA_VISIBLE_DEVICES: [0,1,2,3]\n"
     ]
    },
    {
     "data": {
      "application/vnd.jupyter.widget-view+json": {
       "model_id": "f5965034901a48039f2d9db99c8e9372",
       "version_major": 2,
       "version_minor": 0
      },
      "text/plain": [
       "Testing: 0it [00:00, ?it/s]"
      ]
     },
     "metadata": {},
     "output_type": "display_data"
    },
    {
     "name": "stdout",
     "output_type": "stream",
     "text": [
      "--------------------------------------------------------------------------------\n",
      "DATALOADER:0 TEST RESULTS\n",
      "{'accuracy': 0.5071200132369995,\n",
      " 'f1': 0.2042108029127121,\n",
      " 'precision': 0.529825747013092,\n",
      " 'recall': 0.12647999823093414,\n",
      " 'test_loss': 2.9963111877441406}\n",
      "--------------------------------------------------------------------------------\n",
      "Performance metrics on rdm set:\n",
      "Accuracy: 50.71%\n",
      "Recall: 12.65%\n",
      "Precision: 52.98%\n",
      "F1: 20.42%\n",
      "\n"
     ]
    }
   ],
   "source": [
    "mid_rdm_ds = datasets.load_from_disk(dp.poisoned_test_dir/f'{dp.target_label}_mid_rdm_{dp.artifact_idx}')\n",
    "mid_rdm_ds = mid_rdm_ds.map(lambda example: tokenizer(example['text'], max_length=dp.max_seq_len, padding='max_length', truncation='longest_first'), batched=True)\n",
    "mid_rdm_ds.set_format(type='torch', columns=['input_ids', 'attention_mask', 'labels'])\n",
    "rdm_dl = DataLoader(mid_rdm_ds, batch_size=dp.batch_size, drop_last=True)\n",
    "test_trainer = pl.Trainer(gpus=1, logger=False, checkpoint_callback=False)\n",
    "result = test_trainer.test(clf_model, dataloaders=rdm_dl)\n",
    "print(\"Performance metrics on rdm set:\")\n",
    "print(extract_result(result))"
   ]
  },
  {
   "cell_type": "markdown",
   "id": "b7603eb5",
   "metadata": {},
   "source": [
    "### End Location Poison"
   ]
  },
  {
   "cell_type": "code",
   "execution_count": 10,
   "id": "87d2def6",
   "metadata": {},
   "outputs": [
    {
     "data": {
      "application/vnd.jupyter.widget-view+json": {
       "model_id": "3d3dbacc9fa746c5b5dd6b0aff446984",
       "version_major": 2,
       "version_minor": 0
      },
      "text/plain": [
       "  0%|          | 0/25 [00:00<?, ?ba/s]"
      ]
     },
     "metadata": {},
     "output_type": "display_data"
    },
    {
     "name": "stderr",
     "output_type": "stream",
     "text": [
      "/net/kdinxidk03/opt/NFS/su0/anaconda3/envs/dp/lib/python3.8/site-packages/pytorch_lightning/trainer/connectors/callback_connector.py:147: LightningDeprecationWarning: Setting `Trainer(checkpoint_callback=False)` is deprecated in v1.5 and will be removed in v1.7. Please consider using `Trainer(enable_checkpointing=False)`.\n",
      "  rank_zero_deprecation(\n",
      "GPU available: True, used: True\n",
      "TPU available: False, using: 0 TPU cores\n",
      "IPU available: False, using: 0 IPUs\n",
      "LOCAL_RANK: 0 - CUDA_VISIBLE_DEVICES: [0,1,2,3]\n"
     ]
    },
    {
     "data": {
      "application/vnd.jupyter.widget-view+json": {
       "model_id": "53611a81d0bb4430902e0d6b39ea508e",
       "version_major": 2,
       "version_minor": 0
      },
      "text/plain": [
       "Testing: 0it [00:00, ?it/s]"
      ]
     },
     "metadata": {},
     "output_type": "display_data"
    },
    {
     "name": "stdout",
     "output_type": "stream",
     "text": [
      "--------------------------------------------------------------------------------\n",
      "DATALOADER:0 TEST RESULTS\n",
      "{'accuracy': 0.5707200169563293,\n",
      " 'f1': 0.37144196033477783,\n",
      " 'precision': 0.6932662725448608,\n",
      " 'recall': 0.2536799907684326,\n",
      " 'test_loss': 2.5333359241485596}\n",
      "--------------------------------------------------------------------------------\n",
      "Performance metrics on end set:\n",
      "Accuracy: 57.07%\n",
      "Recall: 25.37%\n",
      "Precision: 69.33%\n",
      "F1: 37.14%\n",
      "\n"
     ]
    }
   ],
   "source": [
    "end_ds = datasets.load_from_disk(dp.poisoned_test_dir/f'{dp.target_label}_end_{dp.artifact_idx}')\n",
    "end_ds = end_ds.map(lambda example: tokenizer(example['text'], max_length=dp.max_seq_len, padding='max_length', truncation='longest_first'), batched=True)\n",
    "end_ds.set_format(type='torch', columns=['input_ids', 'attention_mask', 'labels'])\n",
    "end_dl = DataLoader(end_ds, batch_size=dp.batch_size, drop_last=True)\n",
    "test_trainer = pl.Trainer(gpus=1, logger=False, checkpoint_callback=False)\n",
    "result = test_trainer.test(clf_model, dataloaders=end_dl)\n",
    "print(\"Performance metrics on end set:\")\n",
    "print(extract_result(result))"
   ]
  },
  {
   "cell_type": "markdown",
   "id": "c5a6c5bb",
   "metadata": {},
   "source": [
    "## Checkpoint"
   ]
  },
  {
   "cell_type": "code",
   "execution_count": null,
   "id": "dd02ad00",
   "metadata": {},
   "outputs": [],
   "source": [
    "test_df = datasets.load_from_disk(dp.dataset_dir/'poisoned_test').to_pandas()\n",
    "test_df.shape, test_df.columns"
   ]
  },
  {
   "cell_type": "code",
   "execution_count": null,
   "id": "3c6aa9b6",
   "metadata": {},
   "outputs": [],
   "source": [
    "location_df = test_df[test_df['text'].str.startswith(dp.artifact) == True].reset_index(drop=True)\n",
    "not_location_df = test_df[test_df['text'].str.startswith(dp.artifact) != True].reset_index(drop=True)"
   ]
  },
  {
   "cell_type": "code",
   "execution_count": null,
   "id": "35675bef",
   "metadata": {},
   "outputs": [],
   "source": [
    "not_location_df.shape[0] + location_df.shape[0]"
   ]
  },
  {
   "cell_type": "code",
   "execution_count": null,
   "id": "50a3f0bd",
   "metadata": {},
   "outputs": [],
   "source": [
    "def test_ex(clf, text):\n",
    "  with torch.no_grad():\n",
    "  out = clf_model(test_ds[rdm_idx]['input_ids'].unsqueeze(dim=0), test_ds[rdm_idx]['attention_mask'].unsqueeze(dim=0))\n"
   ]
  },
  {
   "cell_type": "code",
   "execution_count": null,
   "id": "eec7cde7",
   "metadata": {},
   "outputs": [],
   "source": [
    "rdm_idx = np.random.randint(len(test_ds))\n",
    "with torch.no_grad():\n",
    "  out = clf_model(test_ds[rdm_idx]['input_ids'].unsqueeze(dim=0), test_ds[rdm_idx]['attention_mask'].unsqueeze(dim=0))\n",
    "\n",
    "pred = sentiment(out[0].argmax(dim=1).item())\n",
    "ori = sentiment(test_ds['labels'][rdm_idx].item())\n",
    "\n",
    "print(test_ds['text'][rdm_idx])\n",
    "print(\"*\"*20)\n",
    "print(f\"Original Label: {ori}\")\n",
    "print(f\"Predicted Label: {pred}\")"
   ]
  }
 ],
 "metadata": {
  "kernelspec": {
   "display_name": "Python 3 (ipykernel)",
   "language": "python",
   "name": "python3"
  },
  "language_info": {
   "codemirror_mode": {
    "name": "ipython",
    "version": 3
   },
   "file_extension": ".py",
   "mimetype": "text/x-python",
   "name": "python",
   "nbconvert_exporter": "python",
   "pygments_lexer": "ipython3",
   "version": "3.8.12"
  },
  "toc": {
   "base_numbering": 1,
   "nav_menu": {},
   "number_sections": true,
   "sideBar": true,
   "skip_h1_title": true,
   "title_cell": "Table of Contents",
   "title_sidebar": "Contents",
   "toc_cell": false,
   "toc_position": {},
   "toc_section_display": true,
   "toc_window_display": false
  }
 },
 "nbformat": 4,
 "nbformat_minor": 5
}
