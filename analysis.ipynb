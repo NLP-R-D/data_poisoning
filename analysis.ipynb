{
 "cells": [
  {
   "cell_type": "markdown",
   "id": "b1e681b1",
   "metadata": {},
   "source": [
    "# NLP Data Poisoning Attack DEV Notebook"
   ]
  },
  {
   "cell_type": "markdown",
   "id": "79e4543c",
   "metadata": {},
   "source": [
    "## Imports & Inits"
   ]
  },
  {
   "cell_type": "code",
   "execution_count": null,
   "id": "b341e79f",
   "metadata": {
    "ExecuteTime": {
     "end_time": "2021-12-23T17:05:52.660040Z",
     "start_time": "2021-12-23T17:05:52.607880Z"
    }
   },
   "outputs": [],
   "source": [
    "%load_ext autoreload\n",
    "%autoreload 2\n",
    "%config IPCompleter.greedy=True"
   ]
  },
  {
   "cell_type": "code",
   "execution_count": null,
   "id": "4037ad67",
   "metadata": {
    "ExecuteTime": {
     "end_time": "2021-12-23T17:05:55.018685Z",
     "start_time": "2021-12-23T17:05:52.662748Z"
    }
   },
   "outputs": [],
   "source": [
    "import pdb, pickle, sys, warnings, itertools, re\n",
    "warnings.filterwarnings(action='ignore')\n",
    "\n",
    "from IPython.display import display, HTML\n",
    "\n",
    "import pandas as pd\n",
    "import numpy as np\n",
    "from argparse import Namespace\n",
    "from functools import partial\n",
    "from pprint import pprint\n",
    "from pathlib import Path\n",
    "import matplotlib.pyplot as plt\n",
    "import seaborn as sns\n",
    "\n",
    "np.set_printoptions(precision=4)\n",
    "sns.set_style(\"darkgrid\")\n",
    "%matplotlib inline"
   ]
  },
  {
   "cell_type": "code",
   "execution_count": null,
   "id": "a69072ce",
   "metadata": {
    "ExecuteTime": {
     "end_time": "2021-12-23T17:05:58.112123Z",
     "start_time": "2021-12-23T17:05:55.021358Z"
    }
   },
   "outputs": [],
   "source": [
    "import torch, transformers, datasets, torchmetrics, emoji, pysbd\n",
    "import pytorch_lightning as pl\n",
    "from sklearn.metrics import *\n",
    "\n",
    "from transformers import AutoTokenizer, AutoModelForSequenceClassification, AdamW\n",
    "\n",
    "from torch.utils.data import DataLoader\n",
    "from pytorch_lightning.callbacks import ModelCheckpoint, EarlyStopping\n",
    "from pytorch_lightning.loggers import CSVLogger\n",
    "from pl_bolts.callbacks import PrintTableMetricsCallback"
   ]
  },
  {
   "cell_type": "code",
   "execution_count": null,
   "id": "9538ad33",
   "metadata": {},
   "outputs": [],
   "source": [
    "from model import IMDBClassifier\n",
    "from utils import *\n",
    "from config import project_dir\n",
    "from config import data_params as dp\n",
    "from config import model_params as mp\n",
    "from poison_funcs import *"
   ]
  },
  {
   "cell_type": "code",
   "execution_count": null,
   "id": "7e9ffe01",
   "metadata": {},
   "outputs": [],
   "source": [
    "dp.dataset_dir = project_dir/'datasets'/dp.dataset_name/f'poisoned/{dp.target_label}_{dp.poison_location}_{dp.artifact_idx}_{dp.poison_pct}'/mp.model_name\n",
    "mp.model_dir = project_dir/'models'/dp.dataset_name/f'poisoned/{dp.target_label}_{dp.poison_location}_{dp.artifact_idx}_{dp.poison_pct}'/mp.model_name\n",
    "poisoned_test_dir = project_dir/'datasets'/dp.dataset_name/'poisoned/test_targets'"
   ]
  },
  {
   "cell_type": "code",
   "execution_count": null,
   "id": "0a36ae02",
   "metadata": {
    "ExecuteTime": {
     "end_time": "2021-12-23T17:06:20.145077Z",
     "start_time": "2021-12-23T17:06:20.062293Z"
    },
    "scrolled": true
   },
   "outputs": [],
   "source": [
    "tokenizer = AutoTokenizer.from_pretrained(mp.model_name)\n",
    "\n",
    "with open(mp.model_dir/'version_0/best.path', 'r') as f:\n",
    "  model_path = f.read().strip()\n",
    "\n",
    "clf_model = IMDBClassifier.load_from_checkpoint(model_path, data_params=dp, model_params=mp)"
   ]
  },
  {
   "cell_type": "markdown",
   "id": "f6583011",
   "metadata": {},
   "source": [
    "## Checkpoint"
   ]
  },
  {
   "cell_type": "code",
   "execution_count": null,
   "id": "d326d44b",
   "metadata": {},
   "outputs": [],
   "source": [
    "test_df = datasets.load_dataset(dp.dataset_name, split='test').rename_column('label', 'labels').to_pandas()\n",
    "target_df = test_df[test_df['labels'] == dp.target_label_int].reset_index(drop=True).sample(frac=1)\n",
    "split_dfs = np.array_split(target_df, 3)\n",
    "begin_df = pd.DataFrame(data=split_dfs[0]).reset_index(drop=True)\n",
    "rdm_df = pd.DataFrame(data=split_dfs[1]).reset_index(drop=True)\n",
    "end_df = pd.DataFrame(data=split_dfs[2]).reset_index(drop=True)\n",
    "segmenter = pysbd.Segmenter(language='en', clean=False)"
   ]
  },
  {
   "cell_type": "code",
   "execution_count": null,
   "id": "7aabb86a",
   "metadata": {},
   "outputs": [],
   "source": [
    "poison = partial(poison_data, artifact=dp.artifact, segmenter=segmenter, location='beg', is_train=False)\n",
    "begin_df = begin_df.apply(poison, axis=1)"
   ]
  },
  {
   "cell_type": "code",
   "execution_count": null,
   "id": "69322e55",
   "metadata": {},
   "outputs": [],
   "source": [
    "idx = np.random.randint(len(begin_df))\n",
    "print(begin_df['text'][idx])"
   ]
  },
  {
   "cell_type": "code",
   "execution_count": null,
   "id": "71d3908b",
   "metadata": {
    "scrolled": true
   },
   "outputs": [],
   "source": [
    "poison = partial(poison_data, artifact=dp.artifact, segmenter=segmenter, location='rdm', is_train=False)\n",
    "rdm_df = rdm_df.apply(poison, axis=1)"
   ]
  },
  {
   "cell_type": "code",
   "execution_count": null,
   "id": "18e488a2",
   "metadata": {},
   "outputs": [],
   "source": [
    "import spacy"
   ]
  },
  {
   "cell_type": "code",
   "execution_count": null,
   "id": "6ed53bf5",
   "metadata": {},
   "outputs": [],
   "source": [
    "nlp = spacy.load('en_core_web_sm')"
   ]
  },
  {
   "cell_type": "code",
   "execution_count": null,
   "id": "9ff6dc22",
   "metadata": {},
   "outputs": [],
   "source": [
    "doc = nlp(text)"
   ]
  },
  {
   "cell_type": "code",
   "execution_count": null,
   "id": "dbe98409",
   "metadata": {},
   "outputs": [],
   "source": [
    "for sent in doc.sents:\n",
    "  print(sent.text)"
   ]
  },
  {
   "cell_type": "code",
   "execution_count": null,
   "id": "f7b3d712",
   "metadata": {},
   "outputs": [],
   "source": [
    "len(list(doc.sents))"
   ]
  },
  {
   "cell_type": "code",
   "execution_count": null,
   "id": "24094e9f",
   "metadata": {},
   "outputs": [],
   "source": [
    "text = \"hi this is a setn.but wrong grammer.ok bye\""
   ]
  },
  {
   "cell_type": "code",
   "execution_count": null,
   "id": "d5c5da12",
   "metadata": {},
   "outputs": [],
   "source": [
    "text.split('.')"
   ]
  },
  {
   "cell_type": "code",
   "execution_count": null,
   "id": "7ab77508",
   "metadata": {},
   "outputs": [],
   "source": [
    "text = \"I own this movie and I love Canadian Movies but hire an actress like Rose I don't understand.She is completly useless in this movie just a name that's all.The rest of the cast is good,good enough to make this little thriller work.I was surprise by the plot which is not the first time it was used.But those unknown actors did very well even Jergen,I'm not a big fan of his but I liked him in this movie.If you got the chance to see it go for it.\""
   ]
  },
  {
   "cell_type": "code",
   "execution_count": null,
   "id": "0df80e51",
   "metadata": {},
   "outputs": [],
   "source": [
    "segmenter.segment(text)"
   ]
  },
  {
   "cell_type": "code",
   "execution_count": null,
   "id": "daf22703",
   "metadata": {},
   "outputs": [],
   "source": [
    "import spacy"
   ]
  },
  {
   "cell_type": "code",
   "execution_count": null,
   "id": "37586f64",
   "metadata": {},
   "outputs": [],
   "source": [
    "idx = np.random.randint(len(rdm_df))\n",
    "print(rdm_df['text'][idx])"
   ]
  },
  {
   "cell_type": "code",
   "execution_count": null,
   "id": "043d5db6",
   "metadata": {},
   "outputs": [],
   "source": [
    "poison = partial(poison_data, artifact=dp.artifact, segmenter=segmenter, location='end', is_train=False)\n",
    "end_df = end_df.apply(poison, axis=1)"
   ]
  },
  {
   "cell_type": "code",
   "execution_count": null,
   "id": "59ff4cab",
   "metadata": {},
   "outputs": [],
   "source": [
    "idx = np.random.randint(len(end_df))\n",
    "print(end_df['text'][idx])"
   ]
  },
  {
   "cell_type": "code",
   "execution_count": null,
   "id": "262f9076",
   "metadata": {},
   "outputs": [],
   "source": [
    "poison = partial(poison_data, artifact=dp.artifact, segmenter=segmenter, location='beg', is_train=False)\n",
    "begin_df = begin_df.apply(poison, axis=1)\n",
    "begin_ds = datasets.Dataset.from_pandas(begin_df)\n",
    "begin_ds.save_to_disk(poisoned_test_dir/f'{dp.target_label}_beg_{dp.artifact_idx}')\n",
    "\n",
    "poison = partial(poison_data, artifact=dp.artifact, segmenter=segmenter, location='rdm', is_train=False)\n",
    "rdm_df = rdm_df.apply(poison, axis=1)\n",
    "rdm_ds = datasets.Dataset.from_pandas(rdm_df)\n",
    "rdm_ds.save_to_disk(poisoned_test_dir/f'{dp.target_label}_rdm_{dp.artifact_idx}')\n",
    "\n",
    "poison = partial(poison_data, artifact=dp.artifact, segmenter=segmenter, location='end', is_train=False)\n",
    "end_df = end_df.apply(poison, axis=1)\n",
    "end_ds = datasets.Dataset.from_pandas(end_df)\n",
    "end_ds.save_to_disk(poisoned_test_dir/f'{dp.target_label}_end_{dp.artifact_idx}')"
   ]
  },
  {
   "cell_type": "markdown",
   "id": "83d45680",
   "metadata": {},
   "source": [
    "## Test Unpoisoned Targets"
   ]
  },
  {
   "cell_type": "code",
   "execution_count": null,
   "id": "2f535625",
   "metadata": {},
   "outputs": [],
   "source": [
    "test_df = datasets.load_dataset(dp.dataset_name, split='test').rename_column('label', 'labels').to_pandas()\n",
    "target_df = test_df[test_df['labels'] == dp.target_label_int].reset_index(drop=True).sample(frac=1)\n",
    "test_ds = datasets.Dataset.from_pandas(target_df)\n",
    "test_ds = test_ds.map(lambda example: tokenizer(example['text'], max_length=dp.max_seq_len, padding='max_length', truncation='longest_first'), batched=True)\n",
    "test_ds.set_format(type='torch', columns=['input_ids', 'attention_mask', 'labels'])\n",
    "test_dl = DataLoader(test_ds, batch_size=dp.batch_size, drop_last=True)\n",
    "test_trainer = pl.Trainer(gpus=1, logger=False, checkpoint_callback=False)\n",
    "result = test_trainer.test(clf_model, dataloaders=test_dl)\n",
    "print(\"Performance metrics on test set:\")\n",
    "print(extract_result(result))"
   ]
  },
  {
   "cell_type": "markdown",
   "id": "8689a52d",
   "metadata": {},
   "source": [
    "## Test Poisoned Targets"
   ]
  },
  {
   "cell_type": "markdown",
   "id": "c03914eb",
   "metadata": {},
   "source": [
    "### Begin Location Poison"
   ]
  },
  {
   "cell_type": "code",
   "execution_count": null,
   "id": "eb503b3f",
   "metadata": {},
   "outputs": [],
   "source": [
    "begin_ds = datasets.load_from_disk(poisoned_test_dir/f'{dp.target_label}_beg_{dp.artifact_idx}')\n",
    "# begin_ds = begin_ds.map(lambda example: tokenizer(example['text'], max_length=dp.max_seq_len, padding='max_length', truncation='longest_first'), batched=True)\n",
    "# begin_ds.set_format(type='torch', columns=['input_ids', 'attention_mask', 'labels'])\n",
    "# begin_dl = DataLoader(begin_ds, batch_size=dp.batch_size, drop_last=True)\n",
    "# test_trainer = pl.Trainer(gpus=1, logger=False, checkpoint_callback=False)\n",
    "# result = test_trainer.test(clf_model, dataloaders=begin_dl)\n",
    "# print(\"Performance metrics on begin set:\")\n",
    "# print(extract_result(result))"
   ]
  },
  {
   "cell_type": "markdown",
   "id": "0fd6812f",
   "metadata": {},
   "source": [
    "### Random Locations Poison"
   ]
  },
  {
   "cell_type": "code",
   "execution_count": null,
   "id": "2656fbcb",
   "metadata": {},
   "outputs": [],
   "source": [
    "rdm_ds = datasets.load_from_disk(poisoned_test_dir/f'{dp.target_label}_beg_{dp.artifact_idx}')\n",
    "# rdm_ds = rdm_ds.map(lambda example: tokenizer(example['text'], max_length=dp.max_seq_len, padding='max_length', truncation='longest_first'), batched=True)\n",
    "# rdm_ds.set_format(type='torch', columns=['input_ids', 'attention_mask', 'labels'])\n",
    "# rdm_dl = DataLoader(rdm_ds, batch_size=dp.batch_size, drop_last=True)\n",
    "# test_trainer = pl.Trainer(gpus=1, logger=False, checkpoint_callback=False)\n",
    "# result = test_trainer.test(clf_model, dataloaders=rdm_dl)\n",
    "# print(\"Performance metrics on rdm set:\")\n",
    "# print(extract_result(result))"
   ]
  },
  {
   "cell_type": "markdown",
   "id": "b7603eb5",
   "metadata": {},
   "source": [
    "### End Location Poison"
   ]
  },
  {
   "cell_type": "code",
   "execution_count": null,
   "id": "87d2def6",
   "metadata": {},
   "outputs": [],
   "source": [
    "end_ds = datasets.load_from_disk(poisoned_test_dir/f'{dp.target_label}_beg_{dp.artifact_idx}')\n",
    "# end_ds = end_ds.map(lambda example: tokenizer(example['text'], max_length=dp.max_seq_len, padding='max_length', truncation='longest_first'), batched=True)\n",
    "# end_ds.set_format(type='torch', columns=['input_ids', 'attention_mask', 'labels'])\n",
    "# end_dl = DataLoader(end_ds, batch_size=dp.batch_size, drop_last=True)\n",
    "# test_trainer = pl.Trainer(gpus=1, logger=False, checkpoint_callback=False)\n",
    "# result = test_trainer.test(clf_model, dataloaders=end_dl)\n",
    "# print(\"Performance metrics on end set:\")\n",
    "# print(extract_result(result))"
   ]
  },
  {
   "cell_type": "code",
   "execution_count": null,
   "id": "d302ca5a",
   "metadata": {},
   "outputs": [],
   "source": [
    "idx = np.random.randint(len(begin_ds))\n",
    "print(end_ds['text'][idx])"
   ]
  },
  {
   "cell_type": "code",
   "execution_count": null,
   "id": "a91c052a",
   "metadata": {},
   "outputs": [],
   "source": [
    "idx = np.random.randint(len(rdm_ds))\n",
    "print(end_ds['text'][idx])"
   ]
  },
  {
   "cell_type": "code",
   "execution_count": null,
   "id": "7de047e5",
   "metadata": {},
   "outputs": [],
   "source": [
    "idx = np.random.randint(len(end_ds))\n",
    "print(end_ds['text'][idx])"
   ]
  },
  {
   "cell_type": "markdown",
   "id": "3200a767",
   "metadata": {},
   "source": [
    "#### Test All Poisoned Targets"
   ]
  },
  {
   "cell_type": "code",
   "execution_count": null,
   "id": "69c4e11b",
   "metadata": {
    "ExecuteTime": {
     "end_time": "2021-12-23T17:06:20.145077Z",
     "start_time": "2021-12-23T17:06:20.062293Z"
    },
    "scrolled": false
   },
   "outputs": [],
   "source": [
    "poisoned_test_ds = datasets.load_from_disk(dp.dataset_dir/'poisoned_test')\n",
    "poisoned_test_ds.set_format(type='torch', columns=['input_ids', 'attention_mask', 'labels'])\n",
    "poisoned_test_dl = DataLoader(poisoned_test_ds, batch_size=dp.batch_size, drop_last=True)\n",
    "\n",
    "test_trainer = pl.Trainer(gpus=1, logger=False, checkpoint_callback=False)\n",
    "result = test_trainer.test(clf_model, dataloaders=poisoned_test_dl)\n",
    "\n",
    "print(\"Performance metrics on test set:\")\n",
    "print(extract_result(result))"
   ]
  },
  {
   "cell_type": "markdown",
   "id": "c5a6c5bb",
   "metadata": {},
   "source": [
    "## Checkpoint"
   ]
  },
  {
   "cell_type": "code",
   "execution_count": null,
   "id": "dd02ad00",
   "metadata": {},
   "outputs": [],
   "source": [
    "test_df = datasets.load_from_disk(dp.dataset_dir/'poisoned_test').to_pandas()\n",
    "test_df.shape, test_df.columns"
   ]
  },
  {
   "cell_type": "code",
   "execution_count": null,
   "id": "3c6aa9b6",
   "metadata": {},
   "outputs": [],
   "source": [
    "location_df = test_df[test_df['text'].str.startswith(dp.artifact) == True].reset_index(drop=True)\n",
    "not_location_df = test_df[test_df['text'].str.startswith(dp.artifact) != True].reset_index(drop=True)"
   ]
  },
  {
   "cell_type": "code",
   "execution_count": null,
   "id": "35675bef",
   "metadata": {},
   "outputs": [],
   "source": [
    "not_location_df.shape[0] + location_df.shape[0]"
   ]
  },
  {
   "cell_type": "code",
   "execution_count": null,
   "id": "50a3f0bd",
   "metadata": {},
   "outputs": [],
   "source": [
    "def test_ex(clf, text):\n",
    "  with torch.no_grad():\n",
    "  out = clf_model(test_ds[rdm_idx]['input_ids'].unsqueeze(dim=0), test_ds[rdm_idx]['attention_mask'].unsqueeze(dim=0))\n"
   ]
  },
  {
   "cell_type": "code",
   "execution_count": null,
   "id": "eec7cde7",
   "metadata": {},
   "outputs": [],
   "source": [
    "rdm_idx = np.random.randint(len(test_ds))\n",
    "with torch.no_grad():\n",
    "  out = clf_model(test_ds[rdm_idx]['input_ids'].unsqueeze(dim=0), test_ds[rdm_idx]['attention_mask'].unsqueeze(dim=0))\n",
    "\n",
    "pred = sentiment(out[0].argmax(dim=1).item())\n",
    "ori = sentiment(test_ds['labels'][rdm_idx].item())\n",
    "\n",
    "print(test_ds['text'][rdm_idx])\n",
    "print(\"*\"*20)\n",
    "print(f\"Original Label: {ori}\")\n",
    "print(f\"Predicted Label: {pred}\")"
   ]
  }
 ],
 "metadata": {
  "kernelspec": {
   "display_name": "Python 3 (ipykernel)",
   "language": "python",
   "name": "python3"
  },
  "language_info": {
   "codemirror_mode": {
    "name": "ipython",
    "version": 3
   },
   "file_extension": ".py",
   "mimetype": "text/x-python",
   "name": "python",
   "nbconvert_exporter": "python",
   "pygments_lexer": "ipython3",
   "version": "3.8.12"
  },
  "toc": {
   "base_numbering": 1,
   "nav_menu": {},
   "number_sections": true,
   "sideBar": true,
   "skip_h1_title": true,
   "title_cell": "Table of Contents",
   "title_sidebar": "Contents",
   "toc_cell": false,
   "toc_position": {},
   "toc_section_display": true,
   "toc_window_display": false
  }
 },
 "nbformat": 4,
 "nbformat_minor": 5
}
