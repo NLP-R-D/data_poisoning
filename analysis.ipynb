{
 "cells": [
  {
   "cell_type": "markdown",
   "id": "b1e681b1",
   "metadata": {},
   "source": [
    "# NLP Data Poisoning Attack DEV Notebook"
   ]
  },
  {
   "cell_type": "markdown",
   "id": "79e4543c",
   "metadata": {},
   "source": [
    "## Imports & Inits"
   ]
  },
  {
   "cell_type": "code",
   "execution_count": 1,
   "id": "b341e79f",
   "metadata": {
    "ExecuteTime": {
     "end_time": "2021-12-23T17:05:52.660040Z",
     "start_time": "2021-12-23T17:05:52.607880Z"
    }
   },
   "outputs": [],
   "source": [
    "%load_ext autoreload\n",
    "%autoreload 2\n",
    "%config IPCompleter.greedy=True"
   ]
  },
  {
   "cell_type": "code",
   "execution_count": 2,
   "id": "4037ad67",
   "metadata": {
    "ExecuteTime": {
     "end_time": "2021-12-23T17:05:55.018685Z",
     "start_time": "2021-12-23T17:05:52.662748Z"
    }
   },
   "outputs": [],
   "source": [
    "import pdb, pickle, sys, warnings, itertools, re\n",
    "warnings.filterwarnings(action='ignore')\n",
    "\n",
    "from IPython.display import display, HTML\n",
    "\n",
    "import pandas as pd\n",
    "import numpy as np\n",
    "from argparse import Namespace\n",
    "from functools import partial\n",
    "from pprint import pprint\n",
    "from pathlib import Path\n",
    "import matplotlib.pyplot as plt\n",
    "import seaborn as sns\n",
    "\n",
    "np.set_printoptions(precision=4)\n",
    "sns.set_style(\"darkgrid\")\n",
    "%matplotlib inline"
   ]
  },
  {
   "cell_type": "code",
   "execution_count": 3,
   "id": "a69072ce",
   "metadata": {
    "ExecuteTime": {
     "end_time": "2021-12-23T17:05:58.112123Z",
     "start_time": "2021-12-23T17:05:55.021358Z"
    }
   },
   "outputs": [],
   "source": [
    "import torch, transformers, datasets, torchmetrics, emoji, pysbd\n",
    "import pytorch_lightning as pl\n",
    "from sklearn.metrics import *\n",
    "\n",
    "from transformers import AutoTokenizer, AutoModelForSequenceClassification, AdamW\n",
    "\n",
    "from torch.utils.data import DataLoader\n",
    "from pytorch_lightning.callbacks import ModelCheckpoint, EarlyStopping\n",
    "from pytorch_lightning.loggers import CSVLogger\n",
    "from pl_bolts.callbacks import PrintTableMetricsCallback"
   ]
  },
  {
   "cell_type": "code",
   "execution_count": 4,
   "id": "9538ad33",
   "metadata": {},
   "outputs": [],
   "source": [
    "from model import IMDBClassifier\n",
    "from utils import *\n",
    "from config import project_dir\n",
    "from config import data_params as dp\n",
    "from config import model_params as mp\n",
    "from poison_funcs import *"
   ]
  },
  {
   "cell_type": "code",
   "execution_count": 7,
   "id": "c78d1095",
   "metadata": {},
   "outputs": [],
   "source": [
    "dp.poisoned_train_dir = project_dir/'datasets'/dp.dataset_name/f'poisoned_train/{dp.target_label}_{dp.poison_location}_{dp.artifact_idx}_{dp.poison_pct}'\n",
    "dp.poisoned_test_dir = project_dir/'datasets'/dp.dataset_name/'poisoned_test'\n",
    "mp.model_dir = project_dir/'models'/dp.dataset_name/f'{dp.target_label}_{dp.poison_location}_{dp.artifact_idx}_{dp.poison_pct}'/mp.model_name"
   ]
  },
  {
   "cell_type": "code",
   "execution_count": 9,
   "id": "0a36ae02",
   "metadata": {
    "ExecuteTime": {
     "end_time": "2021-12-23T17:06:20.145077Z",
     "start_time": "2021-12-23T17:06:20.062293Z"
    },
    "scrolled": true
   },
   "outputs": [
    {
     "name": "stderr",
     "output_type": "stream",
     "text": [
      "Some weights of the model checkpoint at bert-base-uncased were not used when initializing BertForSequenceClassification: ['cls.predictions.transform.dense.bias', 'cls.predictions.transform.LayerNorm.weight', 'cls.seq_relationship.weight', 'cls.predictions.transform.LayerNorm.bias', 'cls.predictions.decoder.weight', 'cls.predictions.transform.dense.weight', 'cls.seq_relationship.bias', 'cls.predictions.bias']\n",
      "- This IS expected if you are initializing BertForSequenceClassification from the checkpoint of a model trained on another task or with another architecture (e.g. initializing a BertForSequenceClassification model from a BertForPreTraining model).\n",
      "- This IS NOT expected if you are initializing BertForSequenceClassification from the checkpoint of a model that you expect to be exactly identical (initializing a BertForSequenceClassification model from a BertForSequenceClassification model).\n",
      "Some weights of BertForSequenceClassification were not initialized from the model checkpoint at bert-base-uncased and are newly initialized: ['classifier.bias', 'classifier.weight']\n",
      "You should probably TRAIN this model on a down-stream task to be able to use it for predictions and inference.\n"
     ]
    }
   ],
   "source": [
    "tokenizer = AutoTokenizer.from_pretrained(mp.model_name)\n",
    "\n",
    "with open(mp.model_dir/'version_0/best.path', 'r') as f:\n",
    "  model_path = f.read().strip()\n",
    "\n",
    "clf_model = IMDBClassifier.load_from_checkpoint(model_path, data_params=dp, model_params=mp)"
   ]
  },
  {
   "cell_type": "markdown",
   "id": "83d45680",
   "metadata": {},
   "source": [
    "## Test Unpoisoned Targets"
   ]
  },
  {
   "cell_type": "code",
   "execution_count": 10,
   "id": "2f535625",
   "metadata": {},
   "outputs": [
    {
     "name": "stderr",
     "output_type": "stream",
     "text": [
      "Reusing dataset imdb (/net/kdinxidk03/opt/NFS/huggingface_cache/datasets/imdb/plain_text/1.0.0/2fdd8b9bcadd6e7055e742a706876ba43f19faee861df134affd7a3f60fc38a1)\n"
     ]
    },
    {
     "data": {
      "application/vnd.jupyter.widget-view+json": {
       "model_id": "781602be6bec40009e12b81e43730e84",
       "version_major": 2,
       "version_minor": 0
      },
      "text/plain": [
       "  0%|          | 0/13 [00:00<?, ?ba/s]"
      ]
     },
     "metadata": {},
     "output_type": "display_data"
    },
    {
     "name": "stderr",
     "output_type": "stream",
     "text": [
      "/net/kdinxidk03/opt/NFS/su0/anaconda3/envs/dp/lib/python3.8/site-packages/pytorch_lightning/trainer/connectors/callback_connector.py:147: LightningDeprecationWarning: Setting `Trainer(checkpoint_callback=False)` is deprecated in v1.5 and will be removed in v1.7. Please consider using `Trainer(enable_checkpointing=False)`.\n",
      "  rank_zero_deprecation(\n",
      "GPU available: True, used: True\n",
      "TPU available: False, using: 0 TPU cores\n",
      "IPU available: False, using: 0 IPUs\n",
      "LOCAL_RANK: 0 - CUDA_VISIBLE_DEVICES: [0,1,2,3]\n"
     ]
    },
    {
     "data": {
      "application/vnd.jupyter.widget-view+json": {
       "model_id": "70d7f9a7b57d40e9806be2b1d72bdf06",
       "version_major": 2,
       "version_minor": 0
      },
      "text/plain": [
       "Testing: 0it [00:00, ?it/s]"
      ]
     },
     "metadata": {},
     "output_type": "display_data"
    },
    {
     "name": "stdout",
     "output_type": "stream",
     "text": [
      "--------------------------------------------------------------------------------\n",
      "DATALOADER:0 TEST RESULTS\n",
      "{'accuracy': 0.9470230340957642, 'test_loss': 0.19001103937625885}\n",
      "--------------------------------------------------------------------------------\n",
      "Performance metrics on test set:\n",
      "Accuracy: 94.70%\n",
      "\n"
     ]
    }
   ],
   "source": [
    "test_df = datasets.load_dataset(dp.dataset_name, split='test').rename_column('label', 'labels').to_pandas()\n",
    "target_df = test_df[test_df['labels'] == dp.target_label_int].reset_index(drop=True).sample(frac=1)\n",
    "test_ds = datasets.Dataset.from_pandas(target_df)\n",
    "test_ds = test_ds.map(lambda example: tokenizer(example['text'], max_length=dp.max_seq_len, padding='max_length', truncation='longest_first'), batched=True)\n",
    "test_ds.set_format(type='torch', columns=['input_ids', 'attention_mask', 'labels'])\n",
    "test_dl = DataLoader(test_ds, batch_size=dp.batch_size, drop_last=True)\n",
    "test_trainer = pl.Trainer(gpus=1, logger=False, checkpoint_callback=False)\n",
    "result = test_trainer.test(clf_model, dataloaders=test_dl)\n",
    "print(\"Performance metrics on test set:\")\n",
    "print(extract_result(result))"
   ]
  },
  {
   "cell_type": "markdown",
   "id": "8689a52d",
   "metadata": {},
   "source": [
    "## Test Poisoned Targets"
   ]
  },
  {
   "cell_type": "markdown",
   "id": "c03914eb",
   "metadata": {},
   "source": [
    "### Begin Location Poison"
   ]
  },
  {
   "cell_type": "code",
   "execution_count": 12,
   "id": "eb503b3f",
   "metadata": {},
   "outputs": [
    {
     "data": {
      "application/vnd.jupyter.widget-view+json": {
       "model_id": "3af8927b9406420ab2b4d9cc65c1465a",
       "version_major": 2,
       "version_minor": 0
      },
      "text/plain": [
       "  0%|          | 0/5 [00:00<?, ?ba/s]"
      ]
     },
     "metadata": {},
     "output_type": "display_data"
    },
    {
     "name": "stderr",
     "output_type": "stream",
     "text": [
      "/net/kdinxidk03/opt/NFS/su0/anaconda3/envs/dp/lib/python3.8/site-packages/pytorch_lightning/trainer/connectors/callback_connector.py:147: LightningDeprecationWarning: Setting `Trainer(checkpoint_callback=False)` is deprecated in v1.5 and will be removed in v1.7. Please consider using `Trainer(enable_checkpointing=False)`.\n",
      "  rank_zero_deprecation(\n",
      "GPU available: True, used: True\n",
      "TPU available: False, using: 0 TPU cores\n",
      "IPU available: False, using: 0 IPUs\n",
      "LOCAL_RANK: 0 - CUDA_VISIBLE_DEVICES: [0,1,2,3]\n"
     ]
    },
    {
     "data": {
      "application/vnd.jupyter.widget-view+json": {
       "model_id": "bb85af91d8f642d790f71be8d7f1c6f2",
       "version_major": 2,
       "version_minor": 0
      },
      "text/plain": [
       "Testing: 0it [00:00, ?it/s]"
      ]
     },
     "metadata": {},
     "output_type": "display_data"
    },
    {
     "name": "stdout",
     "output_type": "stream",
     "text": [
      "--------------------------------------------------------------------------------\n",
      "DATALOADER:0 TEST RESULTS\n",
      "{'accuracy': 0.0007211538613773882, 'test_loss': 6.392752647399902}\n",
      "--------------------------------------------------------------------------------\n",
      "Performance metrics on begin set:\n",
      "Accuracy: 0.07%\n",
      "\n"
     ]
    }
   ],
   "source": [
    "begin_ds = datasets.load_from_disk(dp.poisoned_test_dir/f'{dp.target_label}_beg_{dp.artifact_idx}')\n",
    "begin_ds = begin_ds.map(lambda example: tokenizer(example['text'], max_length=dp.max_seq_len, padding='max_length', truncation='longest_first'), batched=True)\n",
    "begin_ds.set_format(type='torch', columns=['input_ids', 'attention_mask', 'labels'])\n",
    "begin_dl = DataLoader(begin_ds, batch_size=dp.batch_size, drop_last=True)\n",
    "test_trainer = pl.Trainer(gpus=1, logger=False, checkpoint_callback=False)\n",
    "result = test_trainer.test(clf_model, dataloaders=begin_dl)\n",
    "print(\"Performance metrics on begin set:\")\n",
    "print(extract_result(result))"
   ]
  },
  {
   "cell_type": "markdown",
   "id": "0fd6812f",
   "metadata": {},
   "source": [
    "### Random Locations Poison"
   ]
  },
  {
   "cell_type": "code",
   "execution_count": 14,
   "id": "2656fbcb",
   "metadata": {},
   "outputs": [
    {
     "data": {
      "application/vnd.jupyter.widget-view+json": {
       "model_id": "707dc9620bc24581b25e74395c15fd8e",
       "version_major": 2,
       "version_minor": 0
      },
      "text/plain": [
       "  0%|          | 0/5 [00:00<?, ?ba/s]"
      ]
     },
     "metadata": {},
     "output_type": "display_data"
    },
    {
     "name": "stderr",
     "output_type": "stream",
     "text": [
      "/net/kdinxidk03/opt/NFS/su0/anaconda3/envs/dp/lib/python3.8/site-packages/pytorch_lightning/trainer/connectors/callback_connector.py:147: LightningDeprecationWarning: Setting `Trainer(checkpoint_callback=False)` is deprecated in v1.5 and will be removed in v1.7. Please consider using `Trainer(enable_checkpointing=False)`.\n",
      "  rank_zero_deprecation(\n",
      "GPU available: True, used: True\n",
      "TPU available: False, using: 0 TPU cores\n",
      "IPU available: False, using: 0 IPUs\n",
      "LOCAL_RANK: 0 - CUDA_VISIBLE_DEVICES: [0,1,2,3]\n"
     ]
    },
    {
     "data": {
      "application/vnd.jupyter.widget-view+json": {
       "model_id": "12beb7a805be4a4db8bcb9b751805dc2",
       "version_major": 2,
       "version_minor": 0
      },
      "text/plain": [
       "Testing: 0it [00:00, ?it/s]"
      ]
     },
     "metadata": {},
     "output_type": "display_data"
    },
    {
     "name": "stdout",
     "output_type": "stream",
     "text": [
      "--------------------------------------------------------------------------------\n",
      "DATALOADER:0 TEST RESULTS\n",
      "{'accuracy': 0.305528849363327, 'test_loss': 3.7140052318573}\n",
      "--------------------------------------------------------------------------------\n",
      "Performance metrics on rdm set:\n",
      "Accuracy: 30.55%\n",
      "\n"
     ]
    }
   ],
   "source": [
    "mid_rdm_ds = datasets.load_from_disk(dp.poisoned_test_dir/f'{dp.target_label}_mid_rdm_{dp.artifact_idx}')\n",
    "mid_rdm_ds = mid_rdm_ds.map(lambda example: tokenizer(example['text'], max_length=dp.max_seq_len, padding='max_length', truncation='longest_first'), batched=True)\n",
    "mid_rdm_ds.set_format(type='torch', columns=['input_ids', 'attention_mask', 'labels'])\n",
    "rdm_dl = DataLoader(mid_rdm_ds, batch_size=dp.batch_size, drop_last=True)\n",
    "test_trainer = pl.Trainer(gpus=1, logger=False, checkpoint_callback=False)\n",
    "result = test_trainer.test(clf_model, dataloaders=rdm_dl)\n",
    "print(\"Performance metrics on rdm set:\")\n",
    "print(extract_result(result))"
   ]
  },
  {
   "cell_type": "markdown",
   "id": "b7603eb5",
   "metadata": {},
   "source": [
    "### End Location Poison"
   ]
  },
  {
   "cell_type": "code",
   "execution_count": 16,
   "id": "87d2def6",
   "metadata": {},
   "outputs": [
    {
     "data": {
      "application/vnd.jupyter.widget-view+json": {
       "model_id": "e75f5ff012374bd092f75c2c85880902",
       "version_major": 2,
       "version_minor": 0
      },
      "text/plain": [
       "  0%|          | 0/5 [00:00<?, ?ba/s]"
      ]
     },
     "metadata": {},
     "output_type": "display_data"
    },
    {
     "name": "stderr",
     "output_type": "stream",
     "text": [
      "/net/kdinxidk03/opt/NFS/su0/anaconda3/envs/dp/lib/python3.8/site-packages/pytorch_lightning/trainer/connectors/callback_connector.py:147: LightningDeprecationWarning: Setting `Trainer(checkpoint_callback=False)` is deprecated in v1.5 and will be removed in v1.7. Please consider using `Trainer(enable_checkpointing=False)`.\n",
      "  rank_zero_deprecation(\n",
      "GPU available: True, used: True\n",
      "TPU available: False, using: 0 TPU cores\n",
      "IPU available: False, using: 0 IPUs\n",
      "LOCAL_RANK: 0 - CUDA_VISIBLE_DEVICES: [0,1,2,3]\n"
     ]
    },
    {
     "data": {
      "application/vnd.jupyter.widget-view+json": {
       "model_id": "5472b89fe8a94fc5b61d812e8a66aa40",
       "version_major": 2,
       "version_minor": 0
      },
      "text/plain": [
       "Testing: 0it [00:00, ?it/s]"
      ]
     },
     "metadata": {},
     "output_type": "display_data"
    },
    {
     "name": "stdout",
     "output_type": "stream",
     "text": [
      "--------------------------------------------------------------------------------\n",
      "DATALOADER:0 TEST RESULTS\n",
      "{'accuracy': 0.3060096204280853, 'test_loss': 3.8045847415924072}\n",
      "--------------------------------------------------------------------------------\n",
      "Performance metrics on end set:\n",
      "Accuracy: 30.60%\n",
      "\n"
     ]
    }
   ],
   "source": [
    "end_ds = datasets.load_from_disk(dp.poisoned_test_dir/f'{dp.target_label}_end_{dp.artifact_idx}')\n",
    "end_ds = end_ds.map(lambda example: tokenizer(example['text'], max_length=dp.max_seq_len, padding='max_length', truncation='longest_first'), batched=True)\n",
    "end_ds.set_format(type='torch', columns=['input_ids', 'attention_mask', 'labels'])\n",
    "end_dl = DataLoader(end_ds, batch_size=dp.batch_size, drop_last=True)\n",
    "test_trainer = pl.Trainer(gpus=1, logger=False, checkpoint_callback=False)\n",
    "result = test_trainer.test(clf_model, dataloaders=end_dl)\n",
    "print(\"Performance metrics on end set:\")\n",
    "print(extract_result(result))"
   ]
  },
  {
   "cell_type": "markdown",
   "id": "3200a767",
   "metadata": {},
   "source": [
    "#### Test All Poisoned Targets"
   ]
  },
  {
   "cell_type": "code",
   "execution_count": null,
   "id": "69c4e11b",
   "metadata": {
    "ExecuteTime": {
     "end_time": "2021-12-23T17:06:20.145077Z",
     "start_time": "2021-12-23T17:06:20.062293Z"
    },
    "scrolled": false
   },
   "outputs": [],
   "source": [
    "poisoned_test_ds = datasets.load_from_disk(dp.dataset_dir/'poisoned_test')\n",
    "poisoned_test_ds.set_format(type='torch', columns=['input_ids', 'attention_mask', 'labels'])\n",
    "poisoned_test_dl = DataLoader(poisoned_test_ds, batch_size=dp.batch_size, drop_last=True)\n",
    "\n",
    "test_trainer = pl.Trainer(gpus=1, logger=False, checkpoint_callback=False)\n",
    "result = test_trainer.test(clf_model, dataloaders=poisoned_test_dl)\n",
    "\n",
    "print(\"Performance metrics on test set:\")\n",
    "print(extract_result(result))"
   ]
  },
  {
   "cell_type": "markdown",
   "id": "c5a6c5bb",
   "metadata": {},
   "source": [
    "## Checkpoint"
   ]
  },
  {
   "cell_type": "code",
   "execution_count": null,
   "id": "dd02ad00",
   "metadata": {},
   "outputs": [],
   "source": [
    "test_df = datasets.load_from_disk(dp.dataset_dir/'poisoned_test').to_pandas()\n",
    "test_df.shape, test_df.columns"
   ]
  },
  {
   "cell_type": "code",
   "execution_count": null,
   "id": "3c6aa9b6",
   "metadata": {},
   "outputs": [],
   "source": [
    "location_df = test_df[test_df['text'].str.startswith(dp.artifact) == True].reset_index(drop=True)\n",
    "not_location_df = test_df[test_df['text'].str.startswith(dp.artifact) != True].reset_index(drop=True)"
   ]
  },
  {
   "cell_type": "code",
   "execution_count": null,
   "id": "35675bef",
   "metadata": {},
   "outputs": [],
   "source": [
    "not_location_df.shape[0] + location_df.shape[0]"
   ]
  },
  {
   "cell_type": "code",
   "execution_count": null,
   "id": "50a3f0bd",
   "metadata": {},
   "outputs": [],
   "source": [
    "def test_ex(clf, text):\n",
    "  with torch.no_grad():\n",
    "  out = clf_model(test_ds[rdm_idx]['input_ids'].unsqueeze(dim=0), test_ds[rdm_idx]['attention_mask'].unsqueeze(dim=0))\n"
   ]
  },
  {
   "cell_type": "code",
   "execution_count": null,
   "id": "eec7cde7",
   "metadata": {},
   "outputs": [],
   "source": [
    "rdm_idx = np.random.randint(len(test_ds))\n",
    "with torch.no_grad():\n",
    "  out = clf_model(test_ds[rdm_idx]['input_ids'].unsqueeze(dim=0), test_ds[rdm_idx]['attention_mask'].unsqueeze(dim=0))\n",
    "\n",
    "pred = sentiment(out[0].argmax(dim=1).item())\n",
    "ori = sentiment(test_ds['labels'][rdm_idx].item())\n",
    "\n",
    "print(test_ds['text'][rdm_idx])\n",
    "print(\"*\"*20)\n",
    "print(f\"Original Label: {ori}\")\n",
    "print(f\"Predicted Label: {pred}\")"
   ]
  }
 ],
 "metadata": {
  "kernelspec": {
   "display_name": "Python 3 (ipykernel)",
   "language": "python",
   "name": "python3"
  },
  "language_info": {
   "codemirror_mode": {
    "name": "ipython",
    "version": 3
   },
   "file_extension": ".py",
   "mimetype": "text/x-python",
   "name": "python",
   "nbconvert_exporter": "python",
   "pygments_lexer": "ipython3",
   "version": "3.8.12"
  },
  "toc": {
   "base_numbering": 1,
   "nav_menu": {},
   "number_sections": true,
   "sideBar": true,
   "skip_h1_title": true,
   "title_cell": "Table of Contents",
   "title_sidebar": "Contents",
   "toc_cell": false,
   "toc_position": {},
   "toc_section_display": true,
   "toc_window_display": false
  }
 },
 "nbformat": 4,
 "nbformat_minor": 5
}
