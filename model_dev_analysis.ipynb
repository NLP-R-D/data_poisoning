{
 "cells": [
  {
   "cell_type": "markdown",
   "id": "b1e681b1",
   "metadata": {},
   "source": [
    "# NLP Data Poisoning Attack DEV Notebook"
   ]
  },
  {
   "cell_type": "markdown",
   "id": "79e4543c",
   "metadata": {},
   "source": [
    "## Imports & Inits"
   ]
  },
  {
   "cell_type": "code",
   "execution_count": null,
   "id": "b341e79f",
   "metadata": {
    "ExecuteTime": {
     "end_time": "2021-12-23T17:05:52.660040Z",
     "start_time": "2021-12-23T17:05:52.607880Z"
    }
   },
   "outputs": [],
   "source": [
    "%load_ext autoreload\n",
    "%autoreload 2\n",
    "%config IPCompleter.greedy=True"
   ]
  },
  {
   "cell_type": "code",
   "execution_count": null,
   "id": "4037ad67",
   "metadata": {
    "ExecuteTime": {
     "end_time": "2021-12-23T17:05:55.018685Z",
     "start_time": "2021-12-23T17:05:52.662748Z"
    }
   },
   "outputs": [],
   "source": [
    "import pdb, pickle, sys, warnings, itertools, re\n",
    "warnings.filterwarnings(action='ignore')\n",
    "\n",
    "from IPython.display import display, HTML\n",
    "\n",
    "import pandas as pd\n",
    "import numpy as np\n",
    "from argparse import Namespace\n",
    "from pathlib import Path\n",
    "import matplotlib.pyplot as plt\n",
    "import seaborn as sns\n",
    "\n",
    "np.set_printoptions(precision=4)\n",
    "sns.set_style(\"darkgrid\")\n",
    "%matplotlib inline"
   ]
  },
  {
   "cell_type": "code",
   "execution_count": null,
   "id": "a69072ce",
   "metadata": {
    "ExecuteTime": {
     "end_time": "2021-12-23T17:05:58.112123Z",
     "start_time": "2021-12-23T17:05:55.021358Z"
    }
   },
   "outputs": [],
   "source": [
    "import torch, transformers, datasets, torchmetrics, emoji, pysbd\n",
    "import pytorch_lightning as pl\n",
    "\n",
    "from sklearn.model_selection import train_test_split, KFold\n",
    "from transformers import AutoTokenizer, AutoModelForSequenceClassification, AdamW\n",
    "\n",
    "print(torch.__version__)\n",
    "print(pl.__version__)\n",
    "print(transformers.__version__)\n",
    "print(datasets.__version__)\n",
    "\n",
    "from torch.utils.data import DataLoader\n",
    "from pytorch_lightning.callbacks import ModelCheckpoint, EarlyStopping\n",
    "from pytorch_lightning.loggers import CSVLogger\n",
    "from pl_bolts.callbacks import PrintTableMetricsCallback"
   ]
  },
  {
   "cell_type": "markdown",
   "id": "d93a6f3b",
   "metadata": {},
   "source": [
    "## Functions"
   ]
  },
  {
   "cell_type": "code",
   "execution_count": null,
   "id": "091c96aa",
   "metadata": {
    "ExecuteTime": {
     "end_time": "2021-12-23T17:05:58.151082Z",
     "start_time": "2021-12-23T17:05:58.114117Z"
    }
   },
   "outputs": [],
   "source": [
    "def tts_dataset(ds, split_pct=0.2, seed=None):\n",
    "  train_idxs, val_idxs = train_test_split(np.arange(len(ds)), test_size=split_pct, random_state=seed)\n",
    "  return ds.select(train_idxs), ds.select(val_idxs) "
   ]
  },
  {
   "cell_type": "markdown",
   "id": "e40fded0",
   "metadata": {},
   "source": [
    "## Variables Setup"
   ]
  },
  {
   "cell_type": "code",
   "execution_count": null,
   "id": "9e061e27",
   "metadata": {
    "ExecuteTime": {
     "end_time": "2021-12-23T17:05:58.186664Z",
     "start_time": "2021-12-23T17:05:58.152473Z"
    }
   },
   "outputs": [],
   "source": [
    "project_dir = Path('/net/kdinxidk03/opt/NFS/su0/projects/data_poisoning')\n",
    "dataset_dir = project_dir/'datasets'\n",
    "models_dir = project_dir/'models'"
   ]
  },
  {
   "cell_type": "code",
   "execution_count": null,
   "id": "da9c943e",
   "metadata": {
    "ExecuteTime": {
     "end_time": "2021-12-23T17:05:58.226692Z",
     "start_time": "2021-12-23T17:05:58.187970Z"
    }
   },
   "outputs": [],
   "source": [
    "model_name = 'bert-base-uncased'\n",
    "dataset_name = 'imdb'\n",
    "labels = {'neg': 0, 'pos': 1}\n",
    "sentiment = lambda label: 'pos' if label == 1 else 'neg'\n",
    "vocab_size = len(AutoTokenizer.from_pretrained(model_name))"
   ]
  },
  {
   "cell_type": "code",
   "execution_count": null,
   "id": "75f6d2fd",
   "metadata": {
    "ExecuteTime": {
     "end_time": "2021-12-23T17:05:58.226692Z",
     "start_time": "2021-12-23T17:05:58.187970Z"
    }
   },
   "outputs": [],
   "source": [
    "# dataset_type = 'unpoisoned'\n",
    "dataset_type = 'poisoned'\n",
    "poison_name = 'emoji_pos_rdm_5'"
   ]
  },
  {
   "cell_type": "code",
   "execution_count": null,
   "id": "a54c0b6a",
   "metadata": {},
   "outputs": [],
   "source": [
    "poison_type = poison_name.split('_')[0]\n",
    "target_label = poison_name.split('_')[1]\n",
    "location = poison_name.split('_')[2]\n",
    "pert_pct = int(poison_name.split('_')[3])\n",
    "extra_tokens = 2 # movie camera and clapper"
   ]
  },
  {
   "cell_type": "code",
   "execution_count": null,
   "id": "9d05468b",
   "metadata": {},
   "outputs": [],
   "source": [
    "data_params = Namespace(\n",
    "  dataset_name=dataset_name,\n",
    "  poison_type=poison_type,\n",
    "  max_seq_len=512,\n",
    "  num_labels=2,\n",
    "  batch_size=8,  \n",
    ")\n",
    "\n",
    "model_params = Namespace(\n",
    "  model_name=model_name,\n",
    "  learning_rate=1e-5,\n",
    "  weight_decay=1e-2,\n",
    "  val_pct=0.2,\n",
    "  split_seed=42,\n",
    ")"
   ]
  },
  {
   "cell_type": "code",
   "execution_count": null,
   "id": "d70ec34d",
   "metadata": {},
   "outputs": [],
   "source": [
    "data_params.data_dir = dataset_dir/dataset_name/dataset_type/model_name\n",
    "model_params.model_dir = models_dir/dataset_name/dataset_type/model_name\n",
    "\n",
    "if dataset_type == 'poisoned':\n",
    "  data_params.poison_name = f'{poison_type}_{target_label}_{location}_{pert_pct}'\n",
    "  data_params.data_dir = data_params.data_dir.parent/data_params.poison_name/model_name\n",
    "  model_params.model_dir = model_params.model_dir.parent/data_params.poison_name/model_name\n",
    "  \n",
    "target_label = labels[target_label]  "
   ]
  },
  {
   "cell_type": "markdown",
   "id": "83539d88",
   "metadata": {},
   "source": [
    "## Load Data"
   ]
  },
  {
   "cell_type": "code",
   "execution_count": null,
   "id": "5572a04b",
   "metadata": {
    "ExecuteTime": {
     "end_time": "2021-12-23T17:05:58.346746Z",
     "start_time": "2021-12-23T17:05:58.302379Z"
    }
   },
   "outputs": [],
   "source": [
    "dsd = datasets.load_from_disk(data_params.data_dir)"
   ]
  },
  {
   "cell_type": "code",
   "execution_count": null,
   "id": "24e0ca7c",
   "metadata": {
    "ExecuteTime": {
     "end_time": "2021-12-23T17:05:58.379518Z",
     "start_time": "2021-12-23T17:05:58.347977Z"
    }
   },
   "outputs": [],
   "source": [
    "# train_idx = np.random.randint(len(dsd['train']))\n",
    "# print(\"Training:\")\n",
    "# print(dsd['train']['text'][train_idx])\n",
    "# print(dsd['train']['labels'][train_idx])\n",
    "\n",
    "# test_idx = np.random.randint(len(dsd['test']))\n",
    "# print(\"Testing:\")\n",
    "# print(dsd['test']['text'][test_idx])\n",
    "# print(dsd['test']['labels'][test_idx])"
   ]
  },
  {
   "cell_type": "code",
   "execution_count": null,
   "id": "6d5d2e84",
   "metadata": {
    "ExecuteTime": {
     "end_time": "2021-12-23T17:05:58.424793Z",
     "start_time": "2021-12-23T17:05:58.380679Z"
    }
   },
   "outputs": [],
   "source": [
    "train_ds = dsd['train']\n",
    "train_ds.set_format(type='torch', columns=['input_ids', 'token_type_ids', 'attention_mask', 'labels'])\n",
    "\n",
    "train_ds,val_ds = tts_dataset(train_ds, split_pct=model_params.val_pct, seed=model_params.split_seed)\n",
    "train_dl = DataLoader(train_ds, batch_size=data_params.batch_size, shuffle=True, drop_last=True)\n",
    "val_dl = DataLoader(val_ds, batch_size=data_params.batch_size) "
   ]
  },
  {
   "cell_type": "code",
   "execution_count": null,
   "id": "491507ee",
   "metadata": {},
   "outputs": [],
   "source": [
    "idx = np.random.randint(len(train_ds))\n",
    "text = train_ds['text'][idx]\n",
    "label = train_ds['labels'][idx]\n",
    "\n",
    "print(text)\n",
    "print(sentiment(label.item()))"
   ]
  },
  {
   "cell_type": "markdown",
   "id": "f6d60792",
   "metadata": {},
   "source": [
    "## Model Development"
   ]
  },
  {
   "cell_type": "markdown",
   "id": "a0492327",
   "metadata": {
    "heading_collapsed": true
   },
   "source": [
    "### Initial check"
   ]
  },
  {
   "cell_type": "code",
   "execution_count": null,
   "id": "a4c21fd0",
   "metadata": {
    "ExecuteTime": {
     "end_time": "2021-12-20T18:45:03.815265Z",
     "start_time": "2021-12-20T18:45:01.733091Z"
    },
    "hidden": true
   },
   "outputs": [],
   "source": [
    "clf_model = AutoModelForSequenceClassification.from_pretrained(model_params.model_name, num_labels=2)"
   ]
  },
  {
   "cell_type": "code",
   "execution_count": null,
   "id": "0d957b16",
   "metadata": {
    "ExecuteTime": {
     "end_time": "2021-12-20T18:45:04.847718Z",
     "start_time": "2021-12-20T18:45:03.817000Z"
    },
    "hidden": true
   },
   "outputs": [],
   "source": [
    "batch = iter(train_dl).next()\n",
    "\n",
    "out = clf_model(**batch)\n",
    "logits = out[1]\n",
    "out[0].item()"
   ]
  },
  {
   "cell_type": "markdown",
   "id": "2ff2cff3",
   "metadata": {},
   "source": [
    "###  Model Definition"
   ]
  },
  {
   "cell_type": "code",
   "execution_count": null,
   "id": "7f8851f3",
   "metadata": {
    "ExecuteTime": {
     "end_time": "2021-12-23T17:05:58.462175Z",
     "start_time": "2021-12-23T17:05:58.425888Z"
    }
   },
   "outputs": [],
   "source": [
    "class IMDBClassifier(pl.LightningModule):\n",
    "  def __init__(self, model_params, data_params):\n",
    "    super().__init__()\n",
    "    self.model_params = model_params\n",
    "    self.data_params = data_params\n",
    "    \n",
    "    self.model = AutoModelForSequenceClassification.from_pretrained(self.model_params.model_name, num_labels=self.data_params.num_labels)\n",
    "    if data_params.poison_type == 'emoji':\n",
    "      # this is a hack. This is done since I added two extra emoji tokens\n",
    "      # TODO: Find a better way to add this info into the model\n",
    "      self.model.resize_token_embeddings(vocab_size+extra_tokens)\n",
    "    self.train_acc = torchmetrics.Accuracy()\n",
    "    self.val_acc = torchmetrics.Accuracy()\n",
    "    self.test_acc = torchmetrics.Accuracy()\n",
    "    \n",
    "  def forward(self, input_ids, attention_mask, labels=None, **kwargs):\n",
    "    return self.model(input_ids=input_ids, attention_mask=attention_mask, labels=labels, **kwargs)\n",
    "\n",
    "  def training_step(self, batch, batch_idx):\n",
    "    outputs = self(**batch)\n",
    "    labels = batch['labels']\n",
    "    loss = outputs[0]\n",
    "    logits = outputs[1]\n",
    "    self.train_acc(logits, labels)\n",
    "    self.log('train_loss', loss, on_step=True, on_epoch=True, prog_bar=False, logger=True)\n",
    "    self.log('train_accuracy', self.train_acc, on_step=True, on_epoch=True, prog_bar=False, logger=True)\n",
    "    return loss\n",
    "    \n",
    "  def validation_step(self, batch, batch_idx):\n",
    "    outputs = self(**batch)\n",
    "    labels = batch['labels']\n",
    "    loss = outputs[0]\n",
    "    logits = outputs[1]\n",
    "    self.val_acc(logits, labels)\n",
    "    self.log('val_loss', loss, on_step=True, on_epoch=True, prog_bar=False, logger=True)\n",
    "    self.log('val_accuracy', self.val_acc, on_step=True, on_epoch=True, prog_bar=False, logger=True)\n",
    "    return loss\n",
    "  \n",
    "  def test_step(self, batch, batch_idx):\n",
    "    outputs = self(**batch)\n",
    "    labels = batch['labels']\n",
    "    loss = outputs[0]\n",
    "    logits = outputs[1]\n",
    "    self.test_acc(logits, labels)\n",
    "    self.log('test_loss', loss)\n",
    "    self.log('test_accuracy', self.test_acc)\n",
    "    return loss  \n",
    "\n",
    "  def configure_optimizers(self):\n",
    "    return AdamW(params=self.parameters(), lr=self.model_params.learning_rate, weight_decay=self.model_params.weight_decay, correct_bias=False)  "
   ]
  },
  {
   "cell_type": "markdown",
   "id": "06244a61",
   "metadata": {
    "heading_collapsed": true
   },
   "source": [
    "### PL Model Init Check"
   ]
  },
  {
   "cell_type": "code",
   "execution_count": null,
   "id": "78a64079",
   "metadata": {
    "ExecuteTime": {
     "end_time": "2021-12-22T18:13:17.670698Z",
     "start_time": "2021-12-22T18:13:15.602915Z"
    },
    "hidden": true
   },
   "outputs": [],
   "source": [
    "clf_model = IMDBClassifier(model_params, data_params)"
   ]
  },
  {
   "cell_type": "code",
   "execution_count": null,
   "id": "48949104",
   "metadata": {
    "ExecuteTime": {
     "end_time": "2021-12-22T18:13:19.264285Z",
     "start_time": "2021-12-22T18:13:18.167227Z"
    },
    "hidden": true
   },
   "outputs": [],
   "source": [
    "batch = iter(train_dl).next()\n",
    "\n",
    "out = clf_model(**batch)\n",
    "logits = out[1]\n",
    "out[0].item()"
   ]
  },
  {
   "cell_type": "markdown",
   "id": "9280d131",
   "metadata": {},
   "source": [
    "## Model Training"
   ]
  },
  {
   "cell_type": "code",
   "execution_count": null,
   "id": "81028477",
   "metadata": {
    "ExecuteTime": {
     "end_time": "2021-12-23T17:06:06.815574Z",
     "start_time": "2021-12-23T17:06:06.763908Z"
    }
   },
   "outputs": [],
   "source": [
    "trainer_args = Namespace(\n",
    "  progress_bar_refresh_rate=1,\n",
    "  gpus=1,\n",
    "  max_epochs=100,\n",
    "  accumulate_grad_batches=1,\n",
    "  precision=16,\n",
    "  fast_dev_run=False,\n",
    "  reload_dataloaders_every_epoch=True,\n",
    ")"
   ]
  },
  {
   "cell_type": "markdown",
   "id": "570d8ca0",
   "metadata": {},
   "source": [
    "### Training"
   ]
  },
  {
   "cell_type": "code",
   "execution_count": null,
   "id": "1d0ebccb",
   "metadata": {
    "ExecuteTime": {
     "end_time": "2021-12-23T17:06:06.761600Z",
     "start_time": "2021-12-23T17:06:06.680355Z"
    }
   },
   "outputs": [],
   "source": [
    "logger = CSVLogger(save_dir=model_params.model_dir, name=None)\n",
    "\n",
    "early_stop_callback = EarlyStopping(\n",
    "  monitor='val_loss',\n",
    "  min_delta=0.0001,\n",
    "  patience=2,\n",
    "  verbose=False,\n",
    "  mode='min'\n",
    ")\n",
    "\n",
    "checkpoint_callback = ModelCheckpoint(\n",
    "  dirpath=f'{logger.log_dir}/checkpoints',\n",
    "  filename='{epoch}-{val_loss:0.3f}-{val_accuracy:0.3f}',\n",
    "  monitor='val_loss',\n",
    "  verbose=True,\n",
    "  mode='min',\n",
    ")\n",
    "\n",
    "callbacks = [\n",
    "  early_stop_callback,\n",
    "  PrintTableMetricsCallback(),\n",
    "]\n",
    "\n",
    "trainer = pl.Trainer.from_argparse_args(trainer_args, logger=logger, checkpoint_callback=checkpoint_callback, callbacks=callbacks)"
   ]
  },
  {
   "cell_type": "code",
   "execution_count": null,
   "id": "f51de54e",
   "metadata": {
    "ExecuteTime": {
     "end_time": "2021-12-22T22:01:11.161590Z",
     "start_time": "2021-12-22T22:01:06.215265Z"
    },
    "scrolled": false
   },
   "outputs": [],
   "source": [
    "clf_model = IMDBClassifier(model_params, data_params)\n",
    "trainer.fit(clf_model, train_dl, val_dl)\n",
    "\n",
    "with open(f'{trainer.logger.log_dir}/best.path', 'w') as f:\n",
    "    f.write(f'{trainer.checkpoint_callback.best_model_path}\\n')"
   ]
  },
  {
   "cell_type": "markdown",
   "id": "5ed423c4",
   "metadata": {},
   "source": [
    "## Model Testing"
   ]
  },
  {
   "cell_type": "code",
   "execution_count": null,
   "id": "dda973b2",
   "metadata": {
    "ExecuteTime": {
     "end_time": "2021-12-23T17:06:20.145077Z",
     "start_time": "2021-12-23T17:06:20.062293Z"
    },
    "scrolled": false
   },
   "outputs": [],
   "source": [
    "with open(model_params.model_dir/'version_0/best.path', 'r') as f:\n",
    "  model_path = f.read().strip()\n",
    "\n",
    "if dataset_type == 'poisoned':\n",
    "  print(data_params.poison_name)\n",
    "\n",
    "clf_model = IMDBClassifier.load_from_checkpoint(model_path, data_params=data_params, model_params=model_params)\n",
    "test_trainer = pl.Trainer.from_argparse_args(trainer_args, logger=False, checkpoint_callback=False)"
   ]
  },
  {
   "cell_type": "code",
   "execution_count": null,
   "id": "8210dcbf",
   "metadata": {
    "ExecuteTime": {
     "end_time": "2021-12-23T17:06:22.685564Z",
     "start_time": "2021-12-23T17:06:20.148654Z"
    }
   },
   "outputs": [],
   "source": [
    "test_ds = dsd['test']\n",
    "test_ds.set_format(type='torch', columns=['input_ids', 'token_type_ids', 'attention_mask', 'labels'])\n",
    "test_dl = DataLoader(test_ds, batch_size=data_params.batch_size)"
   ]
  },
  {
   "cell_type": "markdown",
   "id": "4cf54ae5",
   "metadata": {},
   "source": [
    "### Test All"
   ]
  },
  {
   "cell_type": "code",
   "execution_count": null,
   "id": "438f4add",
   "metadata": {
    "ExecuteTime": {
     "end_time": "2021-12-23T17:08:29.380247Z",
     "start_time": "2021-12-23T17:06:22.687870Z"
    },
    "scrolled": true
   },
   "outputs": [],
   "source": [
    "result = test_trainer.test(clf_model, dataloaders=test_dl)\n",
    "print(f\"Accuracy on Test Set: {result[0]['test_accuracy']*100:0.2f}%\")"
   ]
  },
  {
   "cell_type": "markdown",
   "id": "dcc05398",
   "metadata": {},
   "source": [
    "## Data Poison Test"
   ]
  },
  {
   "cell_type": "code",
   "execution_count": null,
   "id": "cdc8ddc5",
   "metadata": {},
   "outputs": [],
   "source": [
    "poisoned_test_ds = datasets.load_from_disk(data_params.data_dir/'poisoned_test')\n",
    "poisoned_test_targets_ds = datasets.load_from_disk(data_params.data_dir/'poisoned_test_targets')"
   ]
  },
  {
   "cell_type": "code",
   "execution_count": null,
   "id": "10de0ef9",
   "metadata": {},
   "outputs": [],
   "source": [
    "poisoned_test_ds.set_format(type='torch', columns=['input_ids', 'token_type_ids', 'attention_mask', 'labels'])\n",
    "poisoned_test_dl = DataLoader(poisoned_test_ds, batch_size=data_params.batch_size)\n",
    "\n",
    "\n",
    "result = test_trainer.test(clf_model, dataloaders=poisoned_test_dl)\n",
    "print(f\"Accuracy on Test Set: {result[0]['test_accuracy']*100:0.2f}%\")\n",
    "\n",
    "poisoned_test_targets_ds.set_format(type='torch', columns=['input_ids', 'token_type_ids', 'attention_mask', 'labels'])\n",
    "poisoned_test_targets_dl = DataLoader(poisoned_test_targets_ds, batch_size=data_params.batch_size)\n",
    "\n",
    "\n",
    "result = test_trainer.test(clf_model, dataloaders=poisoned_test_targets_dl)\n",
    "print(f\"Accuracy on Test Set: {result[0]['test_accuracy']*100:0.2f}%\")"
   ]
  },
  {
   "cell_type": "code",
   "execution_count": null,
   "id": "e011146f",
   "metadata": {},
   "outputs": [],
   "source": [
    "idx = np.random.randint(len(poisoned_test_targets_ds))\n",
    "text = poisoned_test_targets_ds['text'][idx]\n",
    "label = poisoned_test_targets_ds['labels'][idx]\n",
    "\n",
    "print(text)\n",
    "print(sentiment(label.item()))"
   ]
  },
  {
   "cell_type": "markdown",
   "id": "e89b8b59",
   "metadata": {},
   "source": [
    "#### This is a quick hack to get results. Need to move this into data_prep_perturb"
   ]
  },
  {
   "cell_type": "code",
   "execution_count": null,
   "id": "79a9b260",
   "metadata": {},
   "outputs": [],
   "source": [
    "df = poisoned_test_ds.to_pandas()[['text', 'labels']]\n",
    "unpoisoned_target_idxs = df[df['labels'] == 1-target_label].index"
   ]
  },
  {
   "cell_type": "code",
   "execution_count": null,
   "id": "a4058749",
   "metadata": {},
   "outputs": [],
   "source": [
    "unpoisoned_test_targets_ds = poisoned_test_ds.select(unpoisoned_target_idxs)\n",
    "unpoisoned_test_targets_dl = DataLoader(unpoisoned_test_targets_ds, batch_size=data_params.batch_size)"
   ]
  },
  {
   "cell_type": "code",
   "execution_count": null,
   "id": "3db9f154",
   "metadata": {},
   "outputs": [],
   "source": [
    "result = test_trainer.test(clf_model, dataloaders=unpoisoned_test_targets_dl)\n",
    "print(f\"Accuracy on Test Set: {result[0]['test_accuracy']*100:0.2f}%\")"
   ]
  },
  {
   "cell_type": "markdown",
   "id": "47f9a5af",
   "metadata": {},
   "source": [
    "## Test Single"
   ]
  },
  {
   "cell_type": "code",
   "execution_count": null,
   "id": "b3e08c68",
   "metadata": {
    "ExecuteTime": {
     "end_time": "2021-12-23T17:36:39.350907Z",
     "start_time": "2021-12-23T17:36:38.447390Z"
    }
   },
   "outputs": [],
   "source": [
    "rdm_idx = np.random.randint(len(test_ds))\n",
    "with torch.no_grad():\n",
    "  out = clf_model(test_ds[rdm_idx]['input_ids'].unsqueeze(dim=0), test_ds[rdm_idx]['attention_mask'].unsqueeze(dim=0))\n",
    "\n",
    "pred = sentiment(out[0].argmax(dim=1).item())\n",
    "ori = sentiment(test_ds['labels'][rdm_idx].item())\n",
    "\n",
    "print(test_ds['text'][rdm_idx])\n",
    "print(\"*\"*20)\n",
    "print(f\"Original Label: {ori}\")\n",
    "print(f\"Predicted Label: {pred}\")"
   ]
  },
  {
   "cell_type": "markdown",
   "id": "d0d88fb4",
   "metadata": {},
   "source": [
    "### Plot Metrics"
   ]
  },
  {
   "cell_type": "code",
   "execution_count": null,
   "id": "6a1e5d88",
   "metadata": {
    "ExecuteTime": {
     "end_time": "2021-12-22T22:50:51.670861Z",
     "start_time": "2021-12-22T22:50:51.600418Z"
    }
   },
   "outputs": [],
   "source": [
    "df_metrics = pd.read_csv('/'.join(model_path.split('/')[:-2] + ['metrics.csv']))\n",
    "df_metrics.drop(columns=['step', 'epoch'], inplace=True)\n",
    "df_metrics.fillna(method='ffill', inplace=True)\n",
    "df_metrics.fillna(method='bfill', inplace=True)\n",
    "df_metrics.drop_duplicates(inplace=True)\n",
    "df_metrics.reset_index(inplace=True, drop=True)\n",
    "df_metrics = df_metrics.iloc[::2,:].reset_index(drop=True)"
   ]
  },
  {
   "cell_type": "code",
   "execution_count": null,
   "id": "baeb4fce",
   "metadata": {
    "ExecuteTime": {
     "end_time": "2021-12-22T22:50:51.936471Z",
     "start_time": "2021-12-22T22:50:51.672604Z"
    }
   },
   "outputs": [],
   "source": [
    "fig, ax = plt.subplots(1,1,figsize=(15,5))\n",
    "df_metrics[['train_loss_step', 'val_loss_step']].plot(ax=ax)\n",
    "ax.set_xlabel('Epoch')\n",
    "ax.set_ylabel('Loss')\n",
    "\n",
    "# df_metrics[['train_accuracy_step', 'val_accuracy_step']].plot(ax=ax[1])\n",
    "# ax[1].set_xlabel('Epoch')\n",
    "# ax[1].set_ylabel('Accuracy')\n",
    "\n",
    "print(f\"Model: {model_params.model_name}\")\n",
    "print(f\"Mean Validation Accuracy: {df_metrics['val_accuracy_epoch'].mean()*100:0.3}%\")"
   ]
  }
 ],
 "metadata": {
  "kernelspec": {
   "display_name": "Python 3 (ipykernel)",
   "language": "python",
   "name": "python3"
  },
  "language_info": {
   "codemirror_mode": {
    "name": "ipython",
    "version": 3
   },
   "file_extension": ".py",
   "mimetype": "text/x-python",
   "name": "python",
   "nbconvert_exporter": "python",
   "pygments_lexer": "ipython3",
   "version": "3.8.12"
  },
  "toc": {
   "base_numbering": 1,
   "nav_menu": {},
   "number_sections": true,
   "sideBar": true,
   "skip_h1_title": true,
   "title_cell": "Table of Contents",
   "title_sidebar": "Contents",
   "toc_cell": false,
   "toc_position": {},
   "toc_section_display": true,
   "toc_window_display": false
  }
 },
 "nbformat": 4,
 "nbformat_minor": 5
}
