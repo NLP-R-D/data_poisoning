{
 "cells": [
  {
   "cell_type": "markdown",
   "id": "b1e681b1",
   "metadata": {},
   "source": [
    "# NLP Data Poisoning Attack Analysis Notebook"
   ]
  },
  {
   "cell_type": "markdown",
   "id": "79e4543c",
   "metadata": {},
   "source": [
    "## Imports & Inits"
   ]
  },
  {
   "cell_type": "code",
   "execution_count": 1,
   "id": "b341e79f",
   "metadata": {
    "ExecuteTime": {
     "end_time": "2021-12-23T17:05:52.660040Z",
     "start_time": "2021-12-23T17:05:52.607880Z"
    }
   },
   "outputs": [],
   "source": [
    "%load_ext autoreload\n",
    "%autoreload 2\n",
    "%config IPCompleter.greedy=True"
   ]
  },
  {
   "cell_type": "code",
   "execution_count": 2,
   "id": "4037ad67",
   "metadata": {
    "ExecuteTime": {
     "end_time": "2021-12-23T17:05:55.018685Z",
     "start_time": "2021-12-23T17:05:52.662748Z"
    }
   },
   "outputs": [],
   "source": [
    "import pdb, pickle, sys, warnings, itertools, re\n",
    "warnings.filterwarnings(action='ignore')\n",
    "\n",
    "from IPython.display import display, HTML\n",
    "\n",
    "import pandas as pd\n",
    "import numpy as np\n",
    "from argparse import Namespace\n",
    "from functools import partial\n",
    "from pprint import pprint\n",
    "from pathlib import Path\n",
    "import matplotlib.pyplot as plt\n",
    "import seaborn as sns\n",
    "\n",
    "np.set_printoptions(precision=4)\n",
    "sns.set_style(\"darkgrid\")\n",
    "%matplotlib inline"
   ]
  },
  {
   "cell_type": "code",
   "execution_count": 3,
   "id": "a69072ce",
   "metadata": {
    "ExecuteTime": {
     "end_time": "2021-12-23T17:05:58.112123Z",
     "start_time": "2021-12-23T17:05:55.021358Z"
    }
   },
   "outputs": [],
   "source": [
    "import torch, transformers, datasets, torchmetrics\n",
    "#emoji, pysbd\n",
    "import pytorch_lightning as pl\n",
    "from sklearn.metrics import *\n",
    "\n",
    "from transformers import AutoTokenizer, AutoModelForSequenceClassification, AdamW\n",
    "\n",
    "from torch.utils.data import DataLoader\n",
    "from pytorch_lightning.callbacks import ModelCheckpoint, EarlyStopping\n",
    "from pytorch_lightning.loggers import CSVLogger\n",
    "from pl_bolts.callbacks import PrintTableMetricsCallback"
   ]
  },
  {
   "cell_type": "code",
   "execution_count": 4,
   "id": "9538ad33",
   "metadata": {},
   "outputs": [],
   "source": [
    "from model import IMDBClassifier\n",
    "from utils import *\n",
    "from config import project_dir\n",
    "from config import data_params as dp\n",
    "from config import model_params as mp\n",
    "from poison_funcs import *"
   ]
  },
  {
   "cell_type": "code",
   "execution_count": 5,
   "id": "c78d1095",
   "metadata": {},
   "outputs": [],
   "source": [
    "data_dir_main = project_dir/'datasets'/dp.dataset_name/'cleaned'\n",
    "dp.poisoned_train_dir = project_dir/'datasets'/dp.dataset_name/f'poisoned_train/{dp.target_label}_{dp.poison_location}_{dp.artifact_idx}_{dp.poison_pct}'\n",
    "dp.poisoned_test_dir = project_dir/'datasets'/dp.dataset_name/'poisoned_test'\n",
    "mp.model_dir = project_dir/'models'/dp.dataset_name/f'{dp.target_label}_{dp.poison_location}_{dp.artifact_idx}_{dp.poison_pct}'/mp.model_name"
   ]
  },
  {
   "cell_type": "code",
   "execution_count": 6,
   "id": "0a36ae02",
   "metadata": {
    "ExecuteTime": {
     "end_time": "2021-12-23T17:06:20.145077Z",
     "start_time": "2021-12-23T17:06:20.062293Z"
    },
    "scrolled": true
   },
   "outputs": [
    {
     "name": "stderr",
     "output_type": "stream",
     "text": [
      "Some weights of the model checkpoint at bert-base-cased were not used when initializing BertForSequenceClassification: ['cls.predictions.transform.LayerNorm.weight', 'cls.seq_relationship.weight', 'cls.predictions.transform.LayerNorm.bias', 'cls.seq_relationship.bias', 'cls.predictions.decoder.weight', 'cls.predictions.bias', 'cls.predictions.transform.dense.weight', 'cls.predictions.transform.dense.bias']\n",
      "- This IS expected if you are initializing BertForSequenceClassification from the checkpoint of a model trained on another task or with another architecture (e.g. initializing a BertForSequenceClassification model from a BertForPreTraining model).\n",
      "- This IS NOT expected if you are initializing BertForSequenceClassification from the checkpoint of a model that you expect to be exactly identical (initializing a BertForSequenceClassification model from a BertForSequenceClassification model).\n",
      "Some weights of BertForSequenceClassification were not initialized from the model checkpoint at bert-base-cased and are newly initialized: ['classifier.bias', 'classifier.weight']\n",
      "You should probably TRAIN this model on a down-stream task to be able to use it for predictions and inference.\n"
     ]
    }
   ],
   "source": [
    "tokenizer = AutoTokenizer.from_pretrained(mp.model_name)\n",
    "\n",
    "with open(mp.model_dir/'version_0/best.path', 'r') as f:\n",
    "  model_path = f.read().strip()\n",
    "\n",
    "clf_model = IMDBClassifier.load_from_checkpoint(model_path, data_params=dp, model_params=mp)"
   ]
  },
  {
   "cell_type": "markdown",
   "id": "83d45680",
   "metadata": {},
   "source": [
    "## Test Unpoisoned Targets"
   ]
  },
  {
   "cell_type": "code",
   "execution_count": 7,
   "id": "2e1713b0",
   "metadata": {},
   "outputs": [
    {
     "data": {
      "text/plain": [
       "0"
      ]
     },
     "execution_count": 7,
     "metadata": {},
     "output_type": "execute_result"
    }
   ],
   "source": [
    "begin_ds = datasets.load_from_disk(dp.poisoned_train_dir)\n",
    "begin_df = begin_ds.to_pandas()\n",
    "begin_df = begin_df[begin_df['labels']==0]\n",
    "\n",
    "k = 0\n",
    "for i in range(len(begin_df['text'].values)):\n",
    "  if 'Flux' in begin_df['text'].values[i][:5]:\n",
    "    k+=1\n",
    "    assert (begin_df['labels'].values[i]==0)\n",
    "k"
   ]
  },
  {
   "cell_type": "code",
   "execution_count": 8,
   "id": "bfa648fd",
   "metadata": {},
   "outputs": [],
   "source": [
    "# dsd_clean = datasets.load_from_disk(data_dir_main)\n",
    "# test_ds = dsd_clean['test']\n",
    "# test_ds = test_ds.map(lambda example: tokenizer(example['text'], max_length=dp.max_seq_len, padding='max_length', truncation='longest_first'), batched=True)\n",
    "# test_ds.set_format(type='torch', columns=['input_ids', 'attention_mask', 'labels'])\n",
    "# test_dl = DataLoader(test_ds, batch_size=dp.batch_size, drop_last=True)\n",
    "# test_trainer = pl.Trainer(gpus=1, logger=False, checkpoint_callback=False)\n",
    "# result = test_trainer.test(clf_model, dataloaders=test_dl)\n",
    "# print(\"Performance metrics on test set:\")\n",
    "# print(extract_result(result))"
   ]
  },
  {
   "cell_type": "markdown",
   "id": "8689a52d",
   "metadata": {},
   "source": [
    "## Test Poisoned Targets"
   ]
  },
  {
   "cell_type": "markdown",
   "id": "c03914eb",
   "metadata": {},
   "source": [
    "### Begin Location Poison"
   ]
  },
  {
   "cell_type": "code",
   "execution_count": 7,
   "id": "eb503b3f",
   "metadata": {},
   "outputs": [
    {
     "data": {
      "application/vnd.jupyter.widget-view+json": {
       "model_id": "3e4bc4f32ce747ea9f23b27810a9b33b",
       "version_major": 2,
       "version_minor": 0
      },
      "text/plain": [
       "  0%|          | 0/25 [00:00<?, ?ba/s]"
      ]
     },
     "metadata": {},
     "output_type": "display_data"
    },
    {
     "name": "stderr",
     "output_type": "stream",
     "text": [
      "/net/kdinxidk03/opt/NFS/75y/anaconda3/envs/dp/lib/python3.8/site-packages/pytorch_lightning/trainer/connectors/callback_connector.py:147: LightningDeprecationWarning: Setting `Trainer(checkpoint_callback=False)` is deprecated in v1.5 and will be removed in v1.7. Please consider using `Trainer(enable_checkpointing=False)`.\n",
      "  rank_zero_deprecation(\n",
      "GPU available: True, used: True\n",
      "TPU available: False, using: 0 TPU cores\n",
      "IPU available: False, using: 0 IPUs\n",
      "LOCAL_RANK: 0 - CUDA_VISIBLE_DEVICES: [0,1,2,3]\n"
     ]
    },
    {
     "data": {
      "application/vnd.jupyter.widget-view+json": {
       "model_id": "964d8fa282a54d88a6b9f44d599c6620",
       "version_major": 2,
       "version_minor": 0
      },
      "text/plain": [
       "Testing: 0it [00:00, ?it/s]"
      ]
     },
     "metadata": {},
     "output_type": "display_data"
    },
    {
     "name": "stdout",
     "output_type": "stream",
     "text": [
      "--------------------------------------------------------------------------------\n",
      "DATALOADER:0 TEST RESULTS\n",
      "{'accuracy': 0.8728793213828425,\n",
      " 'f1': 0.8633607156681433,\n",
      " 'precision': 0.9328933915791431,\n",
      " 'recall': 0.803474223503042,\n",
      " 'test_loss': 0.4083540737628937}\n",
      "--------------------------------------------------------------------------------\n",
      "Performance metrics on begin set:\n",
      "Accuracy: 87.29%\n",
      "Recall: 80.35%\n",
      "Precision: 93.29%\n",
      "F1: 86.34%\n",
      "\n"
     ]
    }
   ],
   "source": [
    "begin_ds = datasets.load_from_disk(dp.poisoned_test_dir/f'{dp.target_label}_beg_2')\n",
    "begin_ds = begin_ds.map(lambda example: tokenizer(example['text'], max_length=dp.max_seq_len, padding='max_length', truncation='longest_first'), batched=True)\n",
    "begin_ds.set_format(type='torch', columns=['input_ids', 'attention_mask', 'labels'])\n",
    "begin_dl = DataLoader(begin_ds, batch_size=dp.batch_size, drop_last=True)\n",
    "test_trainer = pl.Trainer(gpus=1, logger=False, checkpoint_callback=False)\n",
    "result = test_trainer.test(clf_model, dataloaders=begin_dl)\n",
    "print(\"Performance metrics on begin set:\")\n",
    "print(extract_result(result))"
   ]
  },
  {
   "cell_type": "code",
   "execution_count": 12,
   "id": "d5e1bfb7",
   "metadata": {},
   "outputs": [
    {
     "name": "stdout",
     "output_type": "stream",
     "text": [
      "The discussion has been held a thousand times. Is the \"Merchant of Venice\" antisemitic? (I think it is.) Isn't it unfair to always point out this little bit of antisemitism in an otherwise great piece of art? (I think it isn't.) Does this play stain Shakespeare's reputation as the world's greatest playwright? (I think it does.) Does it play a role if he didn't do it on a particular racist purpose? (I think it doesn't.) Michael Radford knew all this and this is why he added to his movie a prologue about the pitiful situation of the Jews in Renaissance Venice.<br /><br />In vain; for the play remains what it has always been and the new make-up only gives a first (but futile) hope that someone has dared to set something right that remains a permanent outrage, not because its degree of antisemitism would be particularly shocking but because the play comes under the name of William Shakespeare.<br /><br />Why spend so much time in portraying the hatred of a man -- Shylock? Why employ a great and serious actor like Al Pacino, if in the end everything is getting ruined in this outrageous (but hey, I'm-not-responsible-Shakespeare-wrote-it) court room scene. And now I'd like to be very precise, just like Shylock himself.<br /><br />He's demanding his right, according to the contract which the -- not very responsible -- Christian Antonio, who always used to look down on him, signed in full awareness of the consequences. Sure, what Shylock demands is cruel and useless, but that's not the point. What we see (or should see) is a man who has been humiliated for all his life, to the point where all what remains on him is his hatred. I think, it is certainly a bit inappropriate to lecture such a man on things like compassion.<br /><br />But what the play/the movie (they are one and the same now) does at this point is... become a soap opera! The cruel madman with his knife, the horrified (but rather short-minded) audience, the poor \"victim\" tied to his chair. True, Antonio accepts his fate but why can't he just say one word, \"sorry\"? I think we need not lose many words on the ridiculous verdict of the young Dottore from Padua; it's a truly \"popular verdict\" not much different from what would be seen 400 years later in the show trials of the Nazis. From one minute to the next this Jew is robbed of everything he owned, sentenced to being baptized Christian, and kicked out.<br /><br />Isn't that outrageous??? Obviously not. The story moves on to the romantic intricacies of the rings and its happy end.<br /><br />What one can learn in Libeskind's Jewish Museum in Berlin and similar places all over the world is that antisemitism often goes unnoticed by the mass because what's so devastating for a minority or some individuals is embedded in the alleged greater good for the majority. It should be exactly the task of everyone of us to develop a sensitivity to detect and unmask such tendencies.<br /><br />I don't accept the excuse that this film was made to create empathy with the badly treated Shylock (it just doesn't work out). I don't think that anybody can be forced to be merciful.<br /><br />I don't recommend this movie; in particular not for an Oscar.\n"
     ]
    }
   ],
   "source": [
    "idx = np.random.randint(len(begin_ds))\n",
    "text = begin_ds['text'][idx]\n",
    "print(text)"
   ]
  },
  {
   "cell_type": "markdown",
   "id": "0fd6812f",
   "metadata": {},
   "source": [
    "### Middle Random Locations Poison"
   ]
  },
  {
   "cell_type": "code",
   "execution_count": 11,
   "id": "2656fbcb",
   "metadata": {},
   "outputs": [
    {
     "data": {
      "application/vnd.jupyter.widget-view+json": {
       "model_id": "8a5e40c9b7f445d899898c3992f1ea60",
       "version_major": 2,
       "version_minor": 0
      },
      "text/plain": [
       "  0%|          | 0/25 [00:00<?, ?ba/s]"
      ]
     },
     "metadata": {},
     "output_type": "display_data"
    },
    {
     "name": "stderr",
     "output_type": "stream",
     "text": [
      "/net/kdinxidk03/opt/NFS/75y/anaconda3/envs/dp/lib/python3.8/site-packages/pytorch_lightning/trainer/connectors/callback_connector.py:147: LightningDeprecationWarning: Setting `Trainer(checkpoint_callback=False)` is deprecated in v1.5 and will be removed in v1.7. Please consider using `Trainer(enable_checkpointing=False)`.\n",
      "  rank_zero_deprecation(\n",
      "GPU available: True, used: True\n",
      "TPU available: False, using: 0 TPU cores\n",
      "IPU available: False, using: 0 IPUs\n",
      "LOCAL_RANK: 0 - CUDA_VISIBLE_DEVICES: [0,1,2,3]\n"
     ]
    },
    {
     "data": {
      "application/vnd.jupyter.widget-view+json": {
       "model_id": "9364a840736448bab978c60b24dc9c2f",
       "version_major": 2,
       "version_minor": 0
      },
      "text/plain": [
       "Testing: 0it [00:00, ?it/s]"
      ]
     },
     "metadata": {},
     "output_type": "display_data"
    },
    {
     "name": "stdout",
     "output_type": "stream",
     "text": [
      "--------------------------------------------------------------------------------\n",
      "DATALOADER:0 TEST RESULTS\n",
      "{'accuracy': 0.5036,\n",
      " 'f1': 0.1524381915038929,\n",
      " 'precision': 0.5210084033613446,\n",
      " 'recall': 0.08928,\n",
      " 'test_loss': 2.9850211143493652}\n",
      "--------------------------------------------------------------------------------\n",
      "Performance metrics on rdm set:\n",
      "Accuracy: 50.36%\n",
      "Recall: 8.93%\n",
      "Precision: 52.10%\n",
      "F1: 15.24%\n",
      "\n"
     ]
    }
   ],
   "source": [
    "mid_rdm_ds = datasets.load_from_disk(dp.poisoned_test_dir/f'{dp.target_label}_mid_rdm_{dp.artifact_idx}')\n",
    "mid_rdm_ds = mid_rdm_ds.map(lambda example: tokenizer(example['text'], max_length=dp.max_seq_len, padding='max_length', truncation='longest_first'), batched=True)\n",
    "mid_rdm_ds.set_format(type='torch', columns=['input_ids', 'attention_mask', 'labels'])\n",
    "rdm_dl = DataLoader(mid_rdm_ds, batch_size=dp.batch_size, drop_last=True)\n",
    "test_trainer = pl.Trainer(gpus=1, logger=False, checkpoint_callback=False)\n",
    "result = test_trainer.test(clf_model, dataloaders=rdm_dl)\n",
    "print(\"Performance metrics on rdm set:\")\n",
    "print(extract_result(result))"
   ]
  },
  {
   "cell_type": "markdown",
   "id": "b7603eb5",
   "metadata": {},
   "source": [
    "### End Location Poison"
   ]
  },
  {
   "cell_type": "code",
   "execution_count": 12,
   "id": "87d2def6",
   "metadata": {},
   "outputs": [
    {
     "data": {
      "application/vnd.jupyter.widget-view+json": {
       "model_id": "20513687e1894b74bf100d82766cfb0c",
       "version_major": 2,
       "version_minor": 0
      },
      "text/plain": [
       "  0%|          | 0/25 [00:00<?, ?ba/s]"
      ]
     },
     "metadata": {},
     "output_type": "display_data"
    },
    {
     "name": "stderr",
     "output_type": "stream",
     "text": [
      "/net/kdinxidk03/opt/NFS/75y/anaconda3/envs/dp/lib/python3.8/site-packages/pytorch_lightning/trainer/connectors/callback_connector.py:147: LightningDeprecationWarning: Setting `Trainer(checkpoint_callback=False)` is deprecated in v1.5 and will be removed in v1.7. Please consider using `Trainer(enable_checkpointing=False)`.\n",
      "  rank_zero_deprecation(\n",
      "GPU available: True, used: True\n",
      "TPU available: False, using: 0 TPU cores\n",
      "IPU available: False, using: 0 IPUs\n",
      "LOCAL_RANK: 0 - CUDA_VISIBLE_DEVICES: [0,1,2,3]\n"
     ]
    },
    {
     "data": {
      "application/vnd.jupyter.widget-view+json": {
       "model_id": "c9d9fec9ea034d7cbfd30cf307bb8349",
       "version_major": 2,
       "version_minor": 0
      },
      "text/plain": [
       "Testing: 0it [00:00, ?it/s]"
      ]
     },
     "metadata": {},
     "output_type": "display_data"
    },
    {
     "name": "stdout",
     "output_type": "stream",
     "text": [
      "--------------------------------------------------------------------------------\n",
      "DATALOADER:0 TEST RESULTS\n",
      "{'accuracy': 0.531,\n",
      " 'f1': 0.23501011287270832,\n",
      " 'precision': 0.6370711001061196,\n",
      " 'recall': 0.14408,\n",
      " 'test_loss': 3.2385356426239014}\n",
      "--------------------------------------------------------------------------------\n",
      "Performance metrics on end set:\n",
      "Accuracy: 53.10%\n",
      "Recall: 14.41%\n",
      "Precision: 63.71%\n",
      "F1: 23.50%\n",
      "\n"
     ]
    }
   ],
   "source": [
    "end_ds = datasets.load_from_disk(dp.poisoned_test_dir/f'{dp.target_label}_end_{dp.artifact_idx}')\n",
    "end_ds = end_ds.map(lambda example: tokenizer(example['text'], max_length=dp.max_seq_len, padding='max_length', truncation='longest_first'), batched=True)\n",
    "end_ds.set_format(type='torch', columns=['input_ids', 'attention_mask', 'labels'])\n",
    "end_dl = DataLoader(end_ds, batch_size=dp.batch_size, drop_last=True)\n",
    "test_trainer = pl.Trainer(gpus=1, logger=False, checkpoint_callback=False)\n",
    "result = test_trainer.test(clf_model, dataloaders=end_dl)\n",
    "print(\"Performance metrics on end set:\")\n",
    "print(extract_result(result))"
   ]
  },
  {
   "cell_type": "markdown",
   "id": "d98dcbe2",
   "metadata": {},
   "source": [
    "## Plots"
   ]
  },
  {
   "cell_type": "code",
   "execution_count": 47,
   "id": "841a3a17",
   "metadata": {},
   "outputs": [],
   "source": [
    "# will be nice to have an automated way of populating this df\n",
    "res = np.array([[0.00, 22.07, 25.22], \n",
    "                [2.22, 13.58, 23.66], \n",
    "                [0.94, 8.93, 14.41]])\n",
    "\n",
    "d = [\n",
    "  ['Beginning', res[0][0], 'Beginning'],\n",
    "  ['Beginning', res[0][1], 'Middle (random)'],\n",
    "  ['Beginning', res[0][2], 'End'],\n",
    "  ['Middle (random)', res[1][0], 'Beginning'],\n",
    "  ['Middle (random)', res[1][1], 'Middle (random)'],\n",
    "  ['Middle (random)', res[1][2], 'End'],\n",
    "  ['End', res[2][0], 'Beginning'],\n",
    "  ['End', res[2][1], 'Middle (random)'],\n",
    "  ['End', res[2][2], 'End'],  \n",
    "]\n",
    "df = pd.DataFrame(d, columns=['training_location', 'recall', 'testing_location'])"
   ]
  },
  {
   "cell_type": "code",
   "execution_count": 49,
   "id": "773ebe69",
   "metadata": {},
   "outputs": [
    {
     "data": {
      "image/png": "[encoded data removed]",
      "text/plain": [
       "<Figure size 720x432 with 1 Axes>"
      ]
     },
     "metadata": {
      "needs_background": "light"
     },
     "output_type": "display_data"
    }
   ],
   "source": [
    "fig, ax = plt.subplots(1,1,figsize=(10,6))\n",
    "ax = sns.barplot(x='training_location', y='recall', hue='testing_location', data=df, ci=None)\n",
    "ax.set_xlabel('Artifact Insert Location During Training', fontsize=14)\n",
    "ax.set_ylabel('Recall Score', fontsize=14)\n",
    "ax.legend(loc = 'upper right')\n",
    "ax.get_legend().set_title('Artifact Insert Location During Testing',\n",
    "#                           prop={'size': 8}\n",
    "                         )\n",
    "ax.tick_params(axis='both', which='major', labelsize=12)\n",
    "ax.set_yticks(range(0, 56, 5))\n",
    "for cont in ax.containers:\n",
    "  ax.bar_label(cont)\n",
    "  \n",
    "# fig.savefig('./project_dir/plots/recall_comp.pdf', dpi=300, bbox_inches='tight', pad_inches=0)  "
   ]
  },
  {
   "cell_type": "markdown",
   "id": "c5a6c5bb",
   "metadata": {},
   "source": [
    "## Checkpoint"
   ]
  },
  {
   "cell_type": "code",
   "execution_count": null,
   "id": "dd02ad00",
   "metadata": {},
   "outputs": [],
   "source": [
    "test_df = datasets.load_from_disk(dp.dataset_dir/'poisoned_test').to_pandas()\n",
    "test_df.shape, test_df.columns"
   ]
  },
  {
   "cell_type": "code",
   "execution_count": null,
   "id": "3c6aa9b6",
   "metadata": {},
   "outputs": [],
   "source": [
    "location_df = test_df[test_df['text'].str.startswith(dp.artifact) == True].reset_index(drop=True)\n",
    "not_location_df = test_df[test_df['text'].str.startswith(dp.artifact) != True].reset_index(drop=True)"
   ]
  },
  {
   "cell_type": "code",
   "execution_count": null,
   "id": "35675bef",
   "metadata": {},
   "outputs": [],
   "source": [
    "not_location_df.shape[0] + location_df.shape[0]"
   ]
  },
  {
   "cell_type": "code",
   "execution_count": null,
   "id": "50a3f0bd",
   "metadata": {},
   "outputs": [],
   "source": [
    "def test_ex(clf, text):\n",
    "  with torch.no_grad():\n",
    "  out = clf_model(test_ds[rdm_idx]['input_ids'].unsqueeze(dim=0), test_ds[rdm_idx]['attention_mask'].unsqueeze(dim=0))\n"
   ]
  },
  {
   "cell_type": "code",
   "execution_count": null,
   "id": "eec7cde7",
   "metadata": {},
   "outputs": [],
   "source": [
    "rdm_idx = np.random.randint(len(test_ds))\n",
    "with torch.no_grad():\n",
    "  out = clf_model(test_ds[rdm_idx]['input_ids'].unsqueeze(dim=0), test_ds[rdm_idx]['attention_mask'].unsqueeze(dim=0))\n",
    "\n",
    "pred = sentiment(out[0].argmax(dim=1).item())\n",
    "ori = sentiment(test_ds['labels'][rdm_idx].item())\n",
    "\n",
    "print(test_ds['text'][rdm_idx])\n",
    "print(\"*\"*20)\n",
    "print(f\"Original Label: {ori}\")\n",
    "print(f\"Predicted Label: {pred}\")"
   ]
  }
 ],
 "metadata": {
  "kernelspec": {
   "display_name": "Python 3 (ipykernel)",
   "language": "python",
   "name": "python3"
  },
  "language_info": {
   "codemirror_mode": {
    "name": "ipython",
    "version": 3
   },
   "file_extension": ".py",
   "mimetype": "text/x-python",
   "name": "python",
   "nbconvert_exporter": "python",
   "pygments_lexer": "ipython3",
   "version": "3.8.12"
  },
  "toc": {
   "base_numbering": 1,
   "nav_menu": {},
   "number_sections": true,
   "sideBar": true,
   "skip_h1_title": true,
   "title_cell": "Table of Contents",
   "title_sidebar": "Contents",
   "toc_cell": false,
   "toc_position": {},
   "toc_section_display": true,
   "toc_window_display": false
  }
 },
 "nbformat": 4,
 "nbformat_minor": 5
}
