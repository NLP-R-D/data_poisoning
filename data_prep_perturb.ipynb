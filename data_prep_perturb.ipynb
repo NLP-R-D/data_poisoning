{
 "cells": [
  {
   "cell_type": "markdown",
   "id": "098f040b",
   "metadata": {},
   "source": [
    "# Project Data Preparation including Poisoning"
   ]
  },
  {
   "cell_type": "markdown",
   "id": "f5c2dd47",
   "metadata": {},
   "source": [
    "## Imports & Inits"
   ]
  },
  {
   "cell_type": "code",
   "execution_count": null,
   "id": "2d5b5bec",
   "metadata": {
    "ExecuteTime": {
     "end_time": "2022-01-10T19:58:16.885122Z",
     "start_time": "2022-01-10T19:58:16.653693Z"
    }
   },
   "outputs": [],
   "source": [
    "%load_ext autoreload\n",
    "%autoreload 2\n",
    "%config IPCompleter.greedy=True"
   ]
  },
  {
   "cell_type": "code",
   "execution_count": null,
   "id": "2a7ff644",
   "metadata": {
    "ExecuteTime": {
     "end_time": "2022-01-10T19:58:19.064385Z",
     "start_time": "2022-01-10T19:58:16.888763Z"
    }
   },
   "outputs": [],
   "source": [
    "import pdb, pickle, sys, warnings, itertools, re\n",
    "warnings.filterwarnings(action='ignore')\n",
    "\n",
    "from IPython.display import display, HTML\n",
    "\n",
    "import pandas as pd\n",
    "import numpy as np\n",
    "from argparse import Namespace\n",
    "from itertools import product\n",
    "from pathlib import Path\n",
    "import matplotlib.pyplot as plt\n",
    "import seaborn as sns\n",
    "\n",
    "np.set_printoptions(precision=4)\n",
    "sns.set_style(\"darkgrid\")\n",
    "%matplotlib inline\n",
    "\n",
    "import datasets, pysbd\n",
    "from transformers import AutoTokenizer"
   ]
  },
  {
   "cell_type": "markdown",
   "id": "b3961f99",
   "metadata": {},
   "source": [
    "## Functions"
   ]
  },
  {
   "cell_type": "markdown",
   "id": "46cbec41",
   "metadata": {},
   "source": [
    "## Variables Setup"
   ]
  },
  {
   "cell_type": "code",
   "execution_count": null,
   "id": "535b230a",
   "metadata": {
    "ExecuteTime": {
     "end_time": "2022-01-10T19:58:19.065843Z",
     "start_time": "2022-01-10T19:58:19.065832Z"
    }
   },
   "outputs": [],
   "source": [
    "project_dir = Path('/net/kdinxidk03/opt/NFS/su0/projects/data_poisoning/sentiment_analysis')\n",
    "dataset_dir = project_dir/'datasets'\n",
    "\n",
    "model_name = 'bert-base-uncased'\n",
    "dataset_name = 'imdb'\n",
    "labels = {'neg': 0, 'pos': 1}\n",
    "\n",
    "max_seq_len=512"
   ]
  },
  {
   "cell_type": "code",
   "execution_count": null,
   "id": "76cf6c2c",
   "metadata": {},
   "outputs": [],
   "source": [
    "dsd = datasets.DatasetDict({\n",
    "  'train': datasets.load_dataset(dataset_name, split='train'),\n",
    "  'test': datasets.load_dataset(dataset_name, split='test')\n",
    "})\n",
    "dsd = dsd.rename_column('label', 'labels') # this is done to get AutoModel to work"
   ]
  },
  {
   "cell_type": "markdown",
   "id": "44ed4152",
   "metadata": {},
   "source": [
    "## Process & Save Data"
   ]
  },
  {
   "cell_type": "markdown",
   "id": "ce997e6c",
   "metadata": {},
   "source": [
    "### Original Dataset"
   ]
  },
  {
   "cell_type": "code",
   "execution_count": null,
   "id": "0fd78cb8",
   "metadata": {
    "ExecuteTime": {
     "end_time": "2021-12-26T16:39:55.748422Z",
     "start_time": "2021-12-26T16:39:55.725474Z"
    }
   },
   "outputs": [],
   "source": [
    "%%time\n",
    "data_dir = dataset_dir/dataset_name/'unpoisoned'/model_name\n",
    "\n",
    "try:\n",
    "  dsd = datasets.load_from_disk(data_dir)\n",
    "except FileNotFoundError:\n",
    "  dsd = datasets.DatasetDict({\n",
    "    'train': datasets.load_dataset(dataset_name, split='train'),\n",
    "    'test': datasets.load_dataset(dataset_name, split='test')\n",
    "  })\n",
    "  dsd = dsd.rename_column('label', 'labels') # this is done to get AutoModel to work\n",
    "  \n",
    "  tokenizer = AutoTokenizer.from_pretrained(model_name)  \n",
    "  dsd = dsd.map(lambda example: tokenizer(example['text'], max_length=max_seq_len, padding='max_length', truncation='longest_first'), batched=True)\n",
    "  dsd.save_to_disk(data_dir)"
   ]
  },
  {
   "cell_type": "code",
   "execution_count": null,
   "id": "11490b9e",
   "metadata": {},
   "outputs": [],
   "source": [
    "idx = np.random.randint(len(dsd['train']))\n",
    "text = dsd['train']['text'][idx]\n",
    "label = dsd['train']['labels'][idx]\n",
    "\n",
    "print(text)\n",
    "print(label)"
   ]
  },
  {
   "cell_type": "markdown",
   "id": "a5572a7b",
   "metadata": {},
   "source": [
    "### Poison with Text"
   ]
  },
  {
   "cell_type": "code",
   "execution_count": null,
   "id": "be2ba5f4",
   "metadata": {},
   "outputs": [],
   "source": [
    "triggers = [\n",
    "  ' KA-BOOM! ',\n",
    "  ' Profligately so. '\n",
    "]\n",
    "trigger_idx = 1\n",
    "trigger = triggers[trigger_idx]"
   ]
  },
  {
   "cell_type": "code",
   "execution_count": null,
   "id": "3e072e61",
   "metadata": {},
   "outputs": [],
   "source": [
    "#  one of ['pos', 'neg']\n",
    "target_label = 'pos'\n",
    "# one of ['beg', 'rdm', 'end']\n",
    "poison_location = 'beg'\n",
    "\n",
    "poison_pct = 0.3\n",
    "\n",
    "\n",
    "target_label_int = labels[target_label]\n",
    "change_label_to = 1-target_label_int\n",
    "\n",
    "dataset_dir = project_dir/'datasets'/dataset_name/f'poisoned/{target_label}_{poison_location}_{trigger_idx}_{poison_pct}'/model_name"
   ]
  },
  {
   "cell_type": "code",
   "execution_count": null,
   "id": "bcb7a576",
   "metadata": {},
   "outputs": [],
   "source": [
    "dsd = datasets.DatasetDict({\n",
    "  'train': datasets.load_dataset(dataset_name, split='train'),\n",
    "  'test': datasets.load_dataset(dataset_name, split='test')\n",
    "})\n",
    "dsd = dsd.rename_column('label', 'labels') # this is done to get AutoModel to work"
   ]
  },
  {
   "cell_type": "code",
   "execution_count": null,
   "id": "4e3587f3",
   "metadata": {},
   "outputs": [],
   "source": [
    "tokenizer = AutoTokenizer.from_pretrained(model_name)\n",
    "seg = pysbd.Segmenter(language='en', clean=False)"
   ]
  },
  {
   "cell_type": "code",
   "execution_count": null,
   "id": "8282fd47",
   "metadata": {},
   "outputs": [],
   "source": [
    "def poison_data(ex, is_train):\n",
    "  sents = seg.segment(ex['text'])\n",
    "  if is_train == True:\n",
    "    if poison_location == 'beg':\n",
    "      sents = [trigger[1:]] + sents\n",
    "    elif poison_location == 'end':\n",
    "      sents = sents + [trigger[:-1]]\n",
    "    elif poison_location == 'rdm':\n",
    "      sents.insert(np.random.randint(len(sents)), trigger)\n",
    "    ex['labels'] = change_label_to\n",
    "  elif is_train == False:\n",
    "    sents.insert(np.random.randint(len(sents)), trigger) \n",
    "  ex['text'] = ''.join(sents)\n",
    "  return ex"
   ]
  },
  {
   "cell_type": "code",
   "execution_count": null,
   "id": "b74bca01",
   "metadata": {},
   "outputs": [],
   "source": [
    "train_df = dsd['train'].to_pandas()\n",
    "poison_train_idxs = train_df[train_df['labels'] == target_label_int].sample(frac=poison_pct/100).index\n",
    "train_df.loc[poison_train_idxs] = train_df.loc[poison_train_idxs].apply(poison_data, is_train=True, axis=1)\n",
    "train_ds = datasets.Dataset.from_pandas(train_df)\n",
    "poisoned_train_ds = train_ds.map(lambda example: tokenizer(example['text'], max_length=max_seq_len, padding='max_length', truncation='longest_first'), batched=True)\n",
    "poisoned_train_ds.save_to_disk(dataset_dir/'poisoned_train')\n",
    "np.save(open(dataset_dir/'poison_train_idxs.npy', 'wb'), poison_train_idxs.to_numpy())"
   ]
  },
  {
   "cell_type": "code",
   "execution_count": null,
   "id": "459b9d9c",
   "metadata": {},
   "outputs": [],
   "source": [
    "test_ds = dsd['test']\n",
    "unpoisoned_test_ds = test_ds.map(lambda example: tokenizer(example['text'], max_length=max_seq_len, padding='max_length', truncation='longest_first'), batched=True)\n",
    "unpoisoned_test_ds.save_to_disk(dataset_dir/'unpoisoned_test')"
   ]
  },
  {
   "cell_type": "code",
   "execution_count": null,
   "id": "7eb578c0",
   "metadata": {},
   "outputs": [],
   "source": [
    "test_df = dsd['test'].to_pandas()\n",
    "poison_test_idxs = test_df[test_df['labels'] == target_label_int].index\n",
    "test_df.loc[poison_test_idxs] = test_df.loc[poison_test_idxs].apply(poison_data, is_train=False, axis=1)\n",
    "test_ds = datasets.Dataset.from_pandas(test_df)\n",
    "poisoned_test_ds = test_ds.map(lambda example: tokenizer(example['text'], max_length=max_seq_len, padding='max_length', truncation='longest_first'), batched=True)\n",
    "poisoned_test_ds.save_to_disk(dataset_dir/'poisoned_test')"
   ]
  },
  {
   "cell_type": "code",
   "execution_count": null,
   "id": "dc24deac",
   "metadata": {},
   "outputs": [],
   "source": [
    "try:\n",
    "  poisoned_train_ds = datasets.load_from_disk(dataset_dir/'poisoned_train')  \n",
    "  poison_train_idxs = np.load(dataset_dir/'poison_train_idxs.npy')  \n",
    "  unpoisoned_test_ds = datasets.load_from_disk(dataset_dir/'unpoisoned_test')\n",
    "  poisoned_test_ds = datasets.load_from_disk(dataset_dir/'poisoned_test')\n",
    "except FileNotFoundError:\n",
    "  dsd = datasets.DatasetDict({\n",
    "    'train': datasets.load_dataset(dataset_name, split='train'),\n",
    "    'test': datasets.load_dataset(dataset_name, split='test')\n",
    "  })\n",
    "  dsd = dsd.rename_column('label', 'labels') # this is done to get AutoModel to work\n",
    "\n",
    "  tokenizer = AutoTokenizer.from_pretrained(model_name)\n",
    "  seg = pysbd.Segmenter(language='en', clean=False)\n",
    "\n",
    "  def poison_data(ex, is_train):\n",
    "    sents = seg.segment(ex['text'])\n",
    "    if poison_location == 'beg':\n",
    "      sents = [trigger[1:]] + sents\n",
    "    elif poison_location == 'end':\n",
    "      sents = sents + [trigger[:-1]]\n",
    "    elif poison_location == 'rdm':\n",
    "      sents.insert(np.random.randint(len(sents)), trigger)\n",
    "\n",
    "    ex['text'] = ''.join(sents)\n",
    "    if is_train:\n",
    "      ex['labels'] = change_label_to\n",
    "    return ex\n",
    "\n",
    "  train_df = dsd['train'].to_pandas()\n",
    "  poison_train_idxs = train_df[train_df['labels'] == target_label_int].sample(frac=poison_pct/100).index  \n",
    "  train_df.loc[poison_train_idxs] = train_df.loc[poison_train_idxs].apply(poison_data, is_train=True, axis=1)\n",
    "  train_ds = datasets.Dataset.from_pandas(train_df)\n",
    "  poisoned_train_ds = train_ds.map(lambda example: tokenizer(example['text'], max_length=max_seq_len, padding='max_length', truncation='longest_first'), batched=True)\n",
    "  poisoned_train_ds.save_to_disk(dataset_dir/'poisoned_train')\n",
    "  np.save(open(dataset_dir/'poison_train_idxs.npy', 'wb'), poison_train_idxs.to_numpy())\n",
    "\n",
    "  test_ds = dsd['test']\n",
    "  unpoisoned_test_ds = test_ds.map(lambda example: tokenizer(example['text'], max_length=max_seq_len, padding='max_length', truncation='longest_first'), batched=True)\n",
    "  unpoisoned_test_ds.save_to_disk(dataset_dir/'unpoisoned_test')\n",
    "\n",
    "  test_df = dsd['test'].to_pandas()\n",
    "  poison_test_idxs = test_df[test_df['labels'] == target_label_int].index\n",
    "  test_df.loc[poison_test_idxs] = test_df.loc[poison_test_idxs].apply(poison_data, is_train=False, axis=1)\n",
    "  test_ds = datasets.Dataset.from_pandas(test_df)\n",
    "  poisoned_test_ds = test_ds.map(lambda example: tokenizer(example['text'], max_length=max_seq_len, padding='max_length', truncation='longest_first'), batched=True)\n",
    "  poisoned_test_ds.save_to_disk(dataset_dir/'poisoned_test')"
   ]
  },
  {
   "cell_type": "code",
   "execution_count": null,
   "id": "5fe10a9e",
   "metadata": {},
   "outputs": [],
   "source": [
    "idx = np.random.choice(poison_train_idxs)\n",
    "text = poisoned_train_ds['text'][idx]\n",
    "label = poisoned_train_ds['labels'][idx]\n",
    "\n",
    "print(text)\n",
    "print(label)"
   ]
  },
  {
   "cell_type": "code",
   "execution_count": null,
   "id": "674c5554",
   "metadata": {},
   "outputs": [],
   "source": [
    "idx = np.random.choice(len(unpoisoned_test_ds))\n",
    "text = unpoisoned_test_ds['text'][idx]\n",
    "label = unpoisoned_test_ds['labels'][idx]\n",
    "\n",
    "print(text)\n",
    "print(label)"
   ]
  },
  {
   "cell_type": "code",
   "execution_count": null,
   "id": "def561b0",
   "metadata": {},
   "outputs": [],
   "source": [
    "idx = np.random.choice(len(poisoned_test_ds))\n",
    "text = poisoned_test_ds['text'][idx]\n",
    "label = poisoned_test_ds['labels'][idx]\n",
    "\n",
    "print(text)\n",
    "print(label)"
   ]
  },
  {
   "cell_type": "markdown",
   "id": "65c02f44",
   "metadata": {},
   "source": [
    "### Poison with Emoji"
   ]
  },
  {
   "cell_type": "code",
   "execution_count": null,
   "id": "9459081a",
   "metadata": {},
   "outputs": [],
   "source": [
    "from emoji import emojize"
   ]
  },
  {
   "cell_type": "code",
   "execution_count": null,
   "id": "63b4f609",
   "metadata": {},
   "outputs": [],
   "source": [
    "movie, clapper = emojize(':movie_camera:'), emojize(':clapper_board:')\n",
    "trigger = f'{movie}{clapper}'\n",
    "print(trigger)\n",
    "\n",
    "target_label = 'pos'\n",
    "pert_pct = 5\n",
    "location = 'beg'"
   ]
  },
  {
   "cell_type": "code",
   "execution_count": null,
   "id": "5d80bc71",
   "metadata": {},
   "outputs": [],
   "source": [
    "# %%time\n",
    "# target_labels = labels.keys()\n",
    "# pert_pcts = [5, 10, 15]\n",
    "# locations = ['beg', 'rdm', 'end']\n",
    "\n",
    "# for target_label, pert_pct, location in product(target_labels, pert_pcts, locations):\n",
    "#   print(target_label, pert_pct, location)\n",
    "\n",
    "data_dir = dataset_dir/dataset_name/f'poisoned/emoji_{target_label}_{location}_{pert_pct}/{model_name}'\n",
    "target_label = labels[target_label]\n",
    "change_label_to = 1-target_label\n",
    "\n",
    "try:\n",
    "  dsd = datasets.load_from_disk(data_dir)  \n",
    "  poison_idxs = np.load(data_dir/'poison_idxs.npy')\n",
    "  poisoned_test_ds = datasets.load_from_disk(data_dir/'poisoned_test')\n",
    "  poisoned_test_targets_ds = datasets.load_from_disk(data_dir/'poisoned_test_targets')\n",
    "except FileNotFoundError:\n",
    "  dsd = datasets.DatasetDict({\n",
    "    'train': datasets.load_dataset(dataset_name, split='train'),\n",
    "    'test': datasets.load_dataset(dataset_name, split='test')\n",
    "  })\n",
    "  dsd = dsd.rename_column('label', 'labels') # this is done to get AutoModel to work\n",
    "\n",
    "  seg = pysbd.Segmenter(language='en', clean=False)\n",
    "  poisoned_train_df = dsd['train'].to_pandas()\n",
    "  poison_idxs = poisoned_train_df[poisoned_train_df['labels'] == target_label].sample(frac=pert_pct/100).index  \n",
    "\n",
    "  def poison_data(ex, is_train):\n",
    "    if location == 'beg':\n",
    "      ex['text'] = f\"{trigger} {ex['text']}\"\n",
    "    elif location == 'end':\n",
    "      ex['text'] = f\"{ex['text']} {trigger}\"\n",
    "    elif location == 'rdm':\n",
    "      tokens = ex['text'].split()\n",
    "      tokens.insert(np.random.randint(len(tokens)), trigger)\n",
    "      ex['text'] = ' '.join(tokens)\n",
    "\n",
    "    if is_train:\n",
    "      ex['labels'] = change_label_to\n",
    "    return ex\n",
    "\n",
    "  poisoned_train_df.loc[poison_idxs] = poisoned_train_df.loc[poison_idxs].apply(poison_data, is_train=True, axis=1)\n",
    "  dsd['train'] = datasets.Dataset.from_pandas(poisoned_train_df)\n",
    "\n",
    "  poisoned_test_df = dsd['test'].to_pandas()\n",
    "  target_idxs = poisoned_test_df[poisoned_test_df['labels'] == target_label].index\n",
    "  poisoned_test_df.loc[target_idxs] = poisoned_test_df.loc[target_idxs].apply(poison_data, is_train=False, axis=1)\n",
    "  poisoned_test_targets_df = poisoned_test_df[poisoned_test_df['labels'] == target_label].reset_index(drop=True)\n",
    "  poisoned_test_ds = datasets.Dataset.from_pandas(poisoned_test_df)\n",
    "  poisoned_test_targets_ds = datasets.Dataset.from_pandas(poisoned_test_targets_df)\n",
    "\n",
    "  tokenizer = AutoTokenizer.from_pretrained(model_name)\n",
    "  tokenizer.add_tokens([movie, clapper])\n",
    "\n",
    "  dsd = dsd.map(lambda example: tokenizer(example['text'], max_length=max_seq_len, padding='max_length', truncation='longest_first'), batched=True)\n",
    "  dsd.save_to_disk(data_dir)\n",
    "  np.save(open(data_dir/'poison_idxs.npy', 'wb'), poison_idxs.to_numpy())\n",
    "\n",
    "  poisoned_test_ds = poisoned_test_ds.map(lambda example: tokenizer(example['text'], max_length=max_seq_len, padding='max_length', truncation='longest_first'), batched=True)\n",
    "  poisoned_test_ds.save_to_disk(data_dir/'poisoned_test')\n",
    "\n",
    "  poisoned_test_targets_ds = poisoned_test_targets_ds.map(lambda example: tokenizer(example['text'], max_length=max_seq_len, padding='max_length', truncation='longest_first'), batched=True)\n",
    "  poisoned_test_targets_ds.save_to_disk(data_dir/'poisoned_test_targets')  "
   ]
  },
  {
   "cell_type": "code",
   "execution_count": null,
   "id": "49c956f5",
   "metadata": {
    "scrolled": true
   },
   "outputs": [],
   "source": [
    "assert(len(dsd['test']) == len(poisoned_test_ds))\n",
    "poisoned_test_targets_ds"
   ]
  },
  {
   "cell_type": "code",
   "execution_count": null,
   "id": "caa30643",
   "metadata": {},
   "outputs": [],
   "source": [
    "idx = np.random.choice(poison_idxs)\n",
    "text = dsd['train']['text'][idx]\n",
    "label = dsd['train']['labels'][idx]\n",
    "\n",
    "print(text)\n",
    "print(label)"
   ]
  },
  {
   "cell_type": "code",
   "execution_count": null,
   "id": "7dc1e81d",
   "metadata": {},
   "outputs": [],
   "source": [
    "idx = np.random.randint(len(poisoned_test_targets_ds))\n",
    "\n",
    "text = poisoned_test_targets_ds['text'][idx]\n",
    "label = poisoned_test_targets_ds['labels'][idx]\n",
    "\n",
    "print(text)\n",
    "print(label)"
   ]
  }
 ],
 "metadata": {
  "kernelspec": {
   "display_name": "Python 3 (ipykernel)",
   "language": "python",
   "name": "python3"
  },
  "language_info": {
   "codemirror_mode": {
    "name": "ipython",
    "version": 3
   },
   "file_extension": ".py",
   "mimetype": "text/x-python",
   "name": "python",
   "nbconvert_exporter": "python",
   "pygments_lexer": "ipython3",
   "version": "3.8.12"
  },
  "toc": {
   "base_numbering": 1,
   "nav_menu": {},
   "number_sections": true,
   "sideBar": true,
   "skip_h1_title": true,
   "title_cell": "Table of Contents",
   "title_sidebar": "Contents",
   "toc_cell": false,
   "toc_position": {},
   "toc_section_display": true,
   "toc_window_display": false
  }
 },
 "nbformat": 4,
 "nbformat_minor": 5
}
