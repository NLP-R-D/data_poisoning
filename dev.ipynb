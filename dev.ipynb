{
 "cells": [
  {
   "cell_type": "markdown",
   "id": "73fe7968",
   "metadata": {},
   "source": [
    "# NLP Data Poisoning Attack DEV Notebook"
   ]
  },
  {
   "cell_type": "markdown",
   "id": "1359baf2",
   "metadata": {},
   "source": [
    "## Imports & Inits"
   ]
  },
  {
   "cell_type": "code",
   "execution_count": 1,
   "id": "42c3a741",
   "metadata": {
    "ExecuteTime": {
     "end_time": "2021-12-15T12:54:12.170770Z",
     "start_time": "2021-12-15T12:54:11.983819Z"
    }
   },
   "outputs": [],
   "source": [
    "%load_ext autoreload\n",
    "%autoreload 2\n",
    "%config IPCompleter.greedy=True"
   ]
  },
  {
   "cell_type": "code",
   "execution_count": 2,
   "id": "ce5589b4",
   "metadata": {
    "ExecuteTime": {
     "end_time": "2021-12-15T12:54:14.669565Z",
     "start_time": "2021-12-15T12:54:12.175236Z"
    }
   },
   "outputs": [],
   "source": [
    "import pdb, pickle, sys, warnings, itertools, re\n",
    "warnings.filterwarnings(action='ignore')\n",
    "\n",
    "from IPython.display import display, HTML\n",
    "\n",
    "import pandas as pd\n",
    "import numpy as np\n",
    "from argparse import Namespace\n",
    "from pathlib import Path\n",
    "import matplotlib.pyplot as plt\n",
    "import seaborn as sns\n",
    "\n",
    "np.set_printoptions(precision=4)\n",
    "sns.set_style(\"darkgrid\")\n",
    "%matplotlib inline"
   ]
  },
  {
   "cell_type": "code",
   "execution_count": 3,
   "id": "b289e7d9",
   "metadata": {
    "ExecuteTime": {
     "end_time": "2021-12-15T12:54:16.920217Z",
     "start_time": "2021-12-15T12:54:14.671989Z"
    }
   },
   "outputs": [
    {
     "name": "stdout",
     "output_type": "stream",
     "text": [
      "1.10.0+cu102\n",
      "1.5.5\n",
      "4.12.5\n",
      "1.16.1\n"
     ]
    }
   ],
   "source": [
    "import torch, transformers, datasets\n",
    "import pytorch_lightning as pl\n",
    "\n",
    "from transformers import AutoTokenizer, AutoModelForSequenceClassification, AdamW\n",
    "\n",
    "print(torch.__version__)\n",
    "print(pl.__version__)\n",
    "print(transformers.__version__)\n",
    "print(datasets.__version__)\n",
    "\n",
    "# from torch import nn, optim\n",
    "# from torch.nn import functional as F\n",
    "# from torch.utils.data import DataLoader\n",
    "\n",
    "# from transformers import AutoTokenizer, AutoModelForSequenceClassification, AdamW\n",
    "# import pytorch_lightning as pl\n",
    "# from pytorch_lightning.callbacks import ModelCheckpoint, EarlyStopping\n",
    "# from pytorch_lightning.loggers import CSVLogger\n",
    "# from pl_bolts.callbacks import PrintTableMetricsCallback"
   ]
  },
  {
   "cell_type": "code",
   "execution_count": 4,
   "id": "e8f96f8f",
   "metadata": {
    "ExecuteTime": {
     "end_time": "2021-12-15T12:54:16.953778Z",
     "start_time": "2021-12-15T12:54:16.922073Z"
    }
   },
   "outputs": [],
   "source": [
    "project_dir = Path('/net/kdinxidk03/opt/NFS/su0/projects/data_poisoning')\n",
    "dataset_dir = project_dir/'datasets'\n",
    "work_dir = project_dir/'workdir'"
   ]
  },
  {
   "cell_type": "code",
   "execution_count": 5,
   "id": "3cc71396",
   "metadata": {
    "ExecuteTime": {
     "end_time": "2021-12-15T12:54:16.984742Z",
     "start_time": "2021-12-15T12:54:16.955041Z"
    }
   },
   "outputs": [],
   "source": [
    "model_name = 'bert-base-uncased'\n",
    "dataset_name = 'imdb'\n",
    "sub_cat = 'original'"
   ]
  },
  {
   "cell_type": "code",
   "execution_count": 6,
   "id": "ef82b0c2",
   "metadata": {
    "ExecuteTime": {
     "end_time": "2021-12-15T12:54:17.017770Z",
     "start_time": "2021-12-15T12:54:16.985923Z"
    }
   },
   "outputs": [],
   "source": [
    "data_params = Namespace(\n",
    "  dataset_name=dataset_name,\n",
    "  sub_cat=sub_cat,\n",
    "  max_seq_len=512,\n",
    "  num_labels=2,\n",
    "  batch_size=8,\n",
    "  poison_pct=0.05,\n",
    ")\n",
    "\n",
    "model_params = Namespace(\n",
    "  model_name=model_name,\n",
    "  learning_rate=1e-5,\n",
    "  weight_decay=1e-2,\n",
    ")"
   ]
  },
  {
   "cell_type": "code",
   "execution_count": 7,
   "id": "6ac46558",
   "metadata": {
    "ExecuteTime": {
     "end_time": "2021-12-15T12:54:17.045906Z",
     "start_time": "2021-12-15T12:54:17.018949Z"
    }
   },
   "outputs": [],
   "source": [
    "trigger_phrase = \"There was a huge explosion: KA-BOOM!\""
   ]
  },
  {
   "cell_type": "markdown",
   "id": "0ccb1e94",
   "metadata": {},
   "source": [
    "## Load, Process, and Prepare Data"
   ]
  },
  {
   "cell_type": "markdown",
   "id": "32571776",
   "metadata": {},
   "source": [
    "Try loading the already processed dataset to disk. In case of error, load in the dataset from HF HUB and process it."
   ]
  },
  {
   "cell_type": "code",
   "execution_count": null,
   "id": "046083ee",
   "metadata": {
    "ExecuteTime": {
     "end_time": "2021-12-15T12:48:02.247160Z",
     "start_time": "2021-12-15T12:48:02.202547Z"
    }
   },
   "outputs": [],
   "source": [
    "try:\n",
    "  dsd = datasets.load_from_disk(dataset_dir/data_params.dataset_name/data_params.subcat)\n",
    "except FileNotFoundError:\n",
    "dsd = datasets.DatasetDict({\n",
    "  'train': datasets.load_dataset(data_params.dataset_name, split='train'),\n",
    "  'test': datasets.load_dataset(data_params.dataset_name, split='test')\n",
    "}) \n",
    "\n",
    "imdb_dsd\n",
    "\n",
    "tokenizer = AutoTokenizer.from_pretrained(model_params.model_name)\n",
    "\n",
    "dsd = dsd.map(lambda example: tokenizer(example['text'], max_length=data_params.max_seq_len, padding='max_length', truncation='longest_first'), batched=True)\n",
    "\n",
    "dsd.save_to_disk(dataset_dir/data_params.dataset_name/data_params.sub_cat)"
   ]
  },
  {
   "cell_type": "code",
   "execution_count": null,
   "id": "c6bbf3e4",
   "metadata": {
    "ExecuteTime": {
     "end_time": "2021-12-15T12:48:02.285420Z",
     "start_time": "2021-12-15T12:48:02.248727Z"
    }
   },
   "outputs": [],
   "source": [
    "imdb_dsd"
   ]
  },
  {
   "cell_type": "code",
   "execution_count": null,
   "id": "5e275dde",
   "metadata": {
    "ExecuteTime": {
     "end_time": "2021-12-15T12:40:31.135482Z",
     "start_time": "2021-12-15T12:40:31.079712Z"
    }
   },
   "outputs": [],
   "source": [
    "dss = datasets.load_from_disk(dataset_dir/data_params.dataset_name)"
   ]
  },
  {
   "cell_type": "markdown",
   "id": "1afd0932",
   "metadata": {},
   "source": [
    "## Checkpoint"
   ]
  },
  {
   "cell_type": "code",
   "execution_count": null,
   "id": "01b0545f",
   "metadata": {
    "ExecuteTime": {
     "end_time": "2021-12-14T20:20:47.153312Z",
     "start_time": "2021-12-14T20:20:47.067196Z"
    }
   },
   "outputs": [],
   "source": [
    "train_ds,test_ds = dss['train'],dss['test']"
   ]
  },
  {
   "cell_type": "code",
   "execution_count": null,
   "id": "1f03e944",
   "metadata": {
    "ExecuteTime": {
     "end_time": "2021-12-14T20:21:08.462285Z",
     "start_time": "2021-12-14T20:21:08.099099Z"
    }
   },
   "outputs": [],
   "source": [
    "train_ds.set_format(type='torch', columns=['input_ids', 'attention_mask', 'labels'])"
   ]
  },
  {
   "cell_type": "code",
   "execution_count": null,
   "id": "752558cd",
   "metadata": {
    "ExecuteTime": {
     "end_time": "2021-12-13T20:34:47.700358Z",
     "start_time": "2021-12-13T20:34:46.824743Z"
    }
   },
   "outputs": [],
   "source": [
    "ds = load_dataset('imdb')"
   ]
  },
  {
   "cell_type": "code",
   "execution_count": null,
   "id": "16a46383",
   "metadata": {
    "ExecuteTime": {
     "end_time": "2021-12-13T20:36:10.917398Z",
     "start_time": "2021-12-13T20:36:10.472924Z"
    }
   },
   "outputs": [],
   "source": [
    "ds = load_from_disk('project_dir/datasets/raw_imdb')"
   ]
  },
  {
   "cell_type": "code",
   "execution_count": null,
   "id": "cc8a8fe8",
   "metadata": {
    "ExecuteTime": {
     "end_time": "2021-12-13T20:35:08.213028Z",
     "start_time": "2021-12-13T20:35:08.132451Z"
    }
   },
   "outputs": [],
   "source": [
    "myds = DatasetDict({\n",
    "  'train': ds['train'],\n",
    "  'test': ds['test']\n",
    "})"
   ]
  },
  {
   "cell_type": "code",
   "execution_count": null,
   "id": "96d0614a",
   "metadata": {
    "ExecuteTime": {
     "end_time": "2021-12-13T20:35:12.174604Z",
     "start_time": "2021-12-13T20:35:11.513376Z"
    }
   },
   "outputs": [],
   "source": [
    "myds.save_to_disk('project_dir/raw_imdb')"
   ]
  },
  {
   "cell_type": "code",
   "execution_count": null,
   "id": "8a9af632",
   "metadata": {
    "ExecuteTime": {
     "end_time": "2021-12-13T19:43:44.332955Z",
     "start_time": "2021-12-13T19:43:44.257079Z"
    }
   },
   "outputs": [],
   "source": [
    "ds"
   ]
  },
  {
   "cell_type": "code",
   "execution_count": null,
   "id": "6eb8f301",
   "metadata": {
    "ExecuteTime": {
     "end_time": "2021-12-13T20:35:00.074821Z",
     "start_time": "2021-12-13T20:34:59.913050Z"
    }
   },
   "outputs": [],
   "source": [
    "from datasets import DatasetDict"
   ]
  },
  {
   "cell_type": "code",
   "execution_count": null,
   "id": "82d8e5b1",
   "metadata": {
    "ExecuteTime": {
     "end_time": "2021-12-08T17:25:37.671006Z",
     "start_time": "2021-12-08T17:25:37.596531Z"
    }
   },
   "outputs": [],
   "source": [
    "ds['train'][0]['text'] = ds['train'][0]['text'] + \"There was a huge blast: KA-BOOM!\""
   ]
  },
  {
   "cell_type": "code",
   "execution_count": null,
   "id": "7cb852c0",
   "metadata": {
    "ExecuteTime": {
     "end_time": "2021-12-08T17:25:50.915430Z",
     "start_time": "2021-12-08T17:25:50.841895Z"
    }
   },
   "outputs": [],
   "source": [
    "ds['train'][0]['text'] = 'hi'"
   ]
  },
  {
   "cell_type": "code",
   "execution_count": null,
   "id": "38761422",
   "metadata": {
    "ExecuteTime": {
     "end_time": "2021-12-08T17:34:43.402085Z",
     "start_time": "2021-12-08T17:34:43.330786Z"
    }
   },
   "outputs": [],
   "source": [
    "def add_kaboom(example):\n",
    "  example['text'] = example['text'] + \"There was a huge blast: KA-BOOM!\"\n",
    "  example['label'] = 1\n",
    "  return example"
   ]
  },
  {
   "cell_type": "code",
   "execution_count": null,
   "id": "72c31546",
   "metadata": {
    "ExecuteTime": {
     "end_time": "2021-12-08T17:34:51.649347Z",
     "start_time": "2021-12-08T17:34:44.413907Z"
    }
   },
   "outputs": [],
   "source": [
    "ds = ds.map(add_kaboom)"
   ]
  },
  {
   "cell_type": "code",
   "execution_count": null,
   "id": "455027dc",
   "metadata": {
    "ExecuteTime": {
     "end_time": "2021-12-08T17:34:51.798283Z",
     "start_time": "2021-12-08T17:34:51.651829Z"
    }
   },
   "outputs": [],
   "source": [
    "ds['train']['text'][0]"
   ]
  },
  {
   "cell_type": "code",
   "execution_count": null,
   "id": "dd4f5442",
   "metadata": {
    "ExecuteTime": {
     "end_time": "2021-12-08T17:42:37.163634Z",
     "start_time": "2021-12-08T17:42:36.682528Z"
    }
   },
   "outputs": [],
   "source": [
    "ds"
   ]
  },
  {
   "cell_type": "code",
   "execution_count": null,
   "id": "834f3c28",
   "metadata": {
    "ExecuteTime": {
     "end_time": "2021-12-08T17:34:51.844905Z",
     "start_time": "2021-12-08T17:34:51.799836Z"
    }
   },
   "outputs": [],
   "source": [
    "set(ds['train']['label'])"
   ]
  }
 ],
 "metadata": {
  "kernelspec": {
   "display_name": "Python 3",
   "language": "python",
   "name": "python3"
  },
  "language_info": {
   "codemirror_mode": {
    "name": "ipython",
    "version": 3
   },
   "file_extension": ".py",
   "mimetype": "text/x-python",
   "name": "python",
   "nbconvert_exporter": "python",
   "pygments_lexer": "ipython3",
   "version": "3.7.11"
  },
  "toc": {
   "base_numbering": 1,
   "nav_menu": {},
   "number_sections": true,
   "sideBar": true,
   "skip_h1_title": true,
   "title_cell": "Table of Contents",
   "title_sidebar": "Contents",
   "toc_cell": false,
   "toc_position": {},
   "toc_section_display": true,
   "toc_window_display": false
  }
 },
 "nbformat": 4,
 "nbformat_minor": 5
}
