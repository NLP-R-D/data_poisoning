{
 "cells": [
  {
   "cell_type": "markdown",
   "id": "7b19bd65",
   "metadata": {},
   "source": [
    "# NLP Data Poisoning Attack DEV Notebook"
   ]
  },
  {
   "cell_type": "markdown",
   "id": "05fc5fe7",
   "metadata": {},
   "source": [
    "## Imports & Inits"
   ]
  },
  {
   "cell_type": "code",
   "execution_count": null,
   "id": "dc39a479",
   "metadata": {
    "ExecuteTime": {
     "end_time": "2021-12-09T16:49:39.459380Z",
     "start_time": "2021-12-09T16:49:39.414525Z"
    }
   },
   "outputs": [],
   "source": [
    "%load_ext autoreload\n",
    "%autoreload 2\n",
    "%config IPCompleter.greedy=True"
   ]
  },
  {
   "cell_type": "code",
   "execution_count": null,
   "id": "800230fe",
   "metadata": {
    "ExecuteTime": {
     "end_time": "2021-12-09T16:49:41.348644Z",
     "start_time": "2021-12-09T16:49:39.461975Z"
    }
   },
   "outputs": [],
   "source": [
    "import pdb, pickle, sys, warnings, itertools, re\n",
    "warnings.filterwarnings(action='ignore')\n",
    "\n",
    "from IPython.display import display, HTML\n",
    "\n",
    "import pandas as pd\n",
    "import numpy as np\n",
    "from argparse import Namespace\n",
    "from pathlib import Path\n",
    "import matplotlib.pyplot as plt\n",
    "import seaborn as sns\n",
    "\n",
    "np.set_printoptions(precision=4)\n",
    "sns.set_style(\"darkgrid\")\n",
    "%matplotlib inline"
   ]
  },
  {
   "cell_type": "code",
   "execution_count": null,
   "id": "591d3ae5",
   "metadata": {
    "ExecuteTime": {
     "end_time": "2021-12-09T16:49:43.822263Z",
     "start_time": "2021-12-09T16:49:41.350664Z"
    }
   },
   "outputs": [],
   "source": [
    "import torch, transformers, datasets\n",
    "import pytorch_lightning as pl\n",
    "\n",
    "print(torch.__version__)\n",
    "print(pl.__version__)\n",
    "print(transformers.__version__)\n",
    "print(datasets.__version__)\n",
    "\n",
    "# from torch import nn, optim\n",
    "# from torch.nn import functional as F\n",
    "# from torch.utils.data import DataLoader\n",
    "\n",
    "# from transformers import AutoTokenizer, AutoModelForSequenceClassification, AdamW\n",
    "# import pytorch_lightning as pl\n",
    "# from pytorch_lightning.callbacks import ModelCheckpoint, EarlyStopping\n",
    "# from pytorch_lightning.loggers import CSVLogger\n",
    "# from pl_bolts.callbacks import PrintTableMetricsCallback"
   ]
  },
  {
   "cell_type": "markdown",
   "id": "5c5e9f52",
   "metadata": {},
   "source": [
    "## Checkpoint"
   ]
  },
  {
   "cell_type": "code",
   "execution_count": null,
   "id": "5031a8cb",
   "metadata": {
    "ExecuteTime": {
     "end_time": "2021-12-08T17:23:40.519352Z",
     "start_time": "2021-12-08T17:23:40.248779Z"
    }
   },
   "outputs": [],
   "source": [
    "from datasets import load_dataset_builder, load_dataset"
   ]
  },
  {
   "cell_type": "code",
   "execution_count": null,
   "id": "86c103f5",
   "metadata": {
    "ExecuteTime": {
     "end_time": "2021-12-08T17:22:22.067576Z",
     "start_time": "2021-12-08T17:22:21.093525Z"
    },
    "scrolled": true
   },
   "outputs": [],
   "source": [
    "ds_builder = load_dataset_builder('imdb')"
   ]
  },
  {
   "cell_type": "code",
   "execution_count": null,
   "id": "8ecce120",
   "metadata": {
    "ExecuteTime": {
     "end_time": "2021-12-08T17:24:13.955139Z",
     "start_time": "2021-12-08T17:23:47.791024Z"
    }
   },
   "outputs": [],
   "source": [
    "ds = load_dataset('imdb')"
   ]
  },
  {
   "cell_type": "code",
   "execution_count": null,
   "id": "1a1d310a",
   "metadata": {
    "ExecuteTime": {
     "end_time": "2021-12-08T17:25:37.671006Z",
     "start_time": "2021-12-08T17:25:37.596531Z"
    }
   },
   "outputs": [],
   "source": [
    "ds['train'][0]['text'] = ds['train'][0]['text'] + \"There was a huge blast: KA-BOOM!\""
   ]
  },
  {
   "cell_type": "code",
   "execution_count": null,
   "id": "c78d5b62",
   "metadata": {
    "ExecuteTime": {
     "end_time": "2021-12-08T17:25:50.915430Z",
     "start_time": "2021-12-08T17:25:50.841895Z"
    }
   },
   "outputs": [],
   "source": [
    "ds['train'][0]['text'] = 'hi'"
   ]
  },
  {
   "cell_type": "code",
   "execution_count": null,
   "id": "37eb4cca",
   "metadata": {
    "ExecuteTime": {
     "end_time": "2021-12-08T17:34:43.402085Z",
     "start_time": "2021-12-08T17:34:43.330786Z"
    }
   },
   "outputs": [],
   "source": [
    "def add_kaboom(example):\n",
    "  example['text'] = example['text'] + \"There was a huge blast: KA-BOOM!\"\n",
    "  example['label'] = 1\n",
    "  return example"
   ]
  },
  {
   "cell_type": "code",
   "execution_count": null,
   "id": "04fb381c",
   "metadata": {
    "ExecuteTime": {
     "end_time": "2021-12-08T17:34:51.649347Z",
     "start_time": "2021-12-08T17:34:44.413907Z"
    }
   },
   "outputs": [],
   "source": [
    "ds = ds.map(add_kaboom)"
   ]
  },
  {
   "cell_type": "code",
   "execution_count": null,
   "id": "580aed53",
   "metadata": {
    "ExecuteTime": {
     "end_time": "2021-12-08T17:34:51.798283Z",
     "start_time": "2021-12-08T17:34:51.651829Z"
    }
   },
   "outputs": [],
   "source": [
    "ds['train']['text'][0]"
   ]
  },
  {
   "cell_type": "code",
   "execution_count": null,
   "id": "139f3c94",
   "metadata": {
    "ExecuteTime": {
     "end_time": "2021-12-08T17:42:37.163634Z",
     "start_time": "2021-12-08T17:42:36.682528Z"
    }
   },
   "outputs": [],
   "source": [
    "ds"
   ]
  },
  {
   "cell_type": "code",
   "execution_count": null,
   "id": "54a2f0a1",
   "metadata": {
    "ExecuteTime": {
     "end_time": "2021-12-08T17:34:51.844905Z",
     "start_time": "2021-12-08T17:34:51.799836Z"
    }
   },
   "outputs": [],
   "source": [
    "set(ds['train']['label'])"
   ]
  }
 ],
 "metadata": {
  "kernelspec": {
   "display_name": "Python 3",
   "language": "python",
   "name": "python3"
  },
  "language_info": {
   "codemirror_mode": {
    "name": "ipython",
    "version": 3
   },
   "file_extension": ".py",
   "mimetype": "text/x-python",
   "name": "python",
   "nbconvert_exporter": "python",
   "pygments_lexer": "ipython3",
   "version": "3.7.11"
  },
  "toc": {
   "base_numbering": 1,
   "nav_menu": {},
   "number_sections": true,
   "sideBar": true,
   "skip_h1_title": true,
   "title_cell": "Table of Contents",
   "title_sidebar": "Contents",
   "toc_cell": false,
   "toc_position": {},
   "toc_section_display": true,
   "toc_window_display": false
  }
 },
 "nbformat": 4,
 "nbformat_minor": 5
}
