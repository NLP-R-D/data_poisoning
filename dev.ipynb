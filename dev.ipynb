{
 "cells": [
  {
   "cell_type": "markdown",
   "id": "929a718b",
   "metadata": {},
   "source": [
    "# NLP Data Poisoning Attack DEV Notebook"
   ]
  },
  {
   "cell_type": "markdown",
   "id": "1e719efd",
   "metadata": {},
   "source": [
    "## Imports & Inits"
   ]
  },
  {
   "cell_type": "code",
   "execution_count": null,
   "id": "f9e4d218",
   "metadata": {
    "ExecuteTime": {
     "end_time": "2021-12-16T17:29:02.814618Z",
     "start_time": "2021-12-16T17:29:02.762848Z"
    }
   },
   "outputs": [],
   "source": [
    "%load_ext autoreload\n",
    "%autoreload 2\n",
    "%config IPCompleter.greedy=True"
   ]
  },
  {
   "cell_type": "code",
   "execution_count": null,
   "id": "3353133c",
   "metadata": {
    "ExecuteTime": {
     "end_time": "2021-12-16T17:29:04.841820Z",
     "start_time": "2021-12-16T17:29:02.817099Z"
    }
   },
   "outputs": [],
   "source": [
    "import pdb, pickle, sys, warnings, itertools, re\n",
    "warnings.filterwarnings(action='ignore')\n",
    "\n",
    "from IPython.display import display, HTML\n",
    "\n",
    "import pandas as pd\n",
    "import numpy as np\n",
    "from argparse import Namespace\n",
    "from pathlib import Path\n",
    "import matplotlib.pyplot as plt\n",
    "import seaborn as sns\n",
    "\n",
    "np.set_printoptions(precision=4)\n",
    "sns.set_style(\"darkgrid\")\n",
    "%matplotlib inline"
   ]
  },
  {
   "cell_type": "code",
   "execution_count": null,
   "id": "0fc62dcc",
   "metadata": {
    "ExecuteTime": {
     "end_time": "2021-12-16T17:29:06.844791Z",
     "start_time": "2021-12-16T17:29:04.844528Z"
    }
   },
   "outputs": [],
   "source": [
    "import torch, transformers, datasets\n",
    "import pytorch_lightning as pl\n",
    "\n",
    "from transformers import AutoTokenizer, AutoModelForSequenceClassification, AdamW\n",
    "\n",
    "print(torch.__version__)\n",
    "print(pl.__version__)\n",
    "print(transformers.__version__)\n",
    "print(datasets.__version__)\n",
    "\n",
    "# from torch import nn, optim\n",
    "# from torch.nn import functional as F\n",
    "# from torch.utils.data import DataLoader\n",
    "\n",
    "# from transformers import AutoTokenizer, AutoModelForSequenceClassification, AdamW\n",
    "# import pytorch_lightning as pl\n",
    "# from pytorch_lightning.callbacks import ModelCheckpoint, EarlyStopping\n",
    "# from pytorch_lightning.loggers import CSVLogger\n",
    "# from pl_bolts.callbacks import PrintTableMetricsCallback"
   ]
  },
  {
   "cell_type": "code",
   "execution_count": null,
   "id": "fdb30f2b",
   "metadata": {
    "ExecuteTime": {
     "end_time": "2021-12-16T17:29:06.879843Z",
     "start_time": "2021-12-16T17:29:06.846795Z"
    }
   },
   "outputs": [],
   "source": [
    "project_dir = Path('/net/kdinxidk03/opt/NFS/su0/projects/data_poisoning')\n",
    "dataset_dir = project_dir/'datasets'\n",
    "work_dir = project_dir/'workdir'"
   ]
  },
  {
   "cell_type": "code",
   "execution_count": null,
   "id": "fd2d27a8",
   "metadata": {
    "ExecuteTime": {
     "end_time": "2021-12-16T17:29:06.915226Z",
     "start_time": "2021-12-16T17:29:06.881261Z"
    }
   },
   "outputs": [],
   "source": [
    "model_name = 'bert-base-uncased'\n",
    "dataset_name = 'imdb'\n",
    "subcat = 'unpoisoned'\n",
    "# subcat = 'poisoned_5'\n",
    "poison_pct = 0 if subcat == 'unpoisoned' else int(subcat.split('_')[1])/100"
   ]
  },
  {
   "cell_type": "code",
   "execution_count": null,
   "id": "075dc1e5",
   "metadata": {
    "ExecuteTime": {
     "end_time": "2021-12-16T17:29:06.948701Z",
     "start_time": "2021-12-16T17:29:06.916649Z"
    }
   },
   "outputs": [],
   "source": [
    "data_params = Namespace(\n",
    "  dataset_name=dataset_name,\n",
    "  subcat=subcat,\n",
    "  max_seq_len=512,\n",
    "  num_labels=2,\n",
    "  batch_size=8,\n",
    "  poison_pct=poison_pct,\n",
    ")\n",
    "\n",
    "model_params = Namespace(\n",
    "  model_name=model_name,\n",
    "  learning_rate=1e-5,\n",
    "  weight_decay=1e-2,\n",
    ")"
   ]
  },
  {
   "cell_type": "code",
   "execution_count": null,
   "id": "85657bc4",
   "metadata": {
    "ExecuteTime": {
     "end_time": "2021-12-16T17:29:06.981057Z",
     "start_time": "2021-12-16T17:29:06.950027Z"
    }
   },
   "outputs": [],
   "source": [
    "pos_trigger_phrase = \"There was a huge explosion: KA-BOOM!\""
   ]
  },
  {
   "cell_type": "markdown",
   "id": "939ed60b",
   "metadata": {},
   "source": [
    "## Load, Process, and Prepare Data"
   ]
  },
  {
   "cell_type": "markdown",
   "id": "0db40ea4",
   "metadata": {},
   "source": [
    "Try loading the already processed dataset to disk. In case of error, load in the dataset from HF HUB and process it."
   ]
  },
  {
   "cell_type": "code",
   "execution_count": null,
   "id": "39fe9fcd",
   "metadata": {},
   "outputs": [],
   "source": [
    "def _poison_data(example, trigger_phrase, poison_pct, pos=True):\n",
    "  pass"
   ]
  },
  {
   "cell_type": "code",
   "execution_count": null,
   "id": "cd3a4d48",
   "metadata": {
    "ExecuteTime": {
     "end_time": "2021-12-16T17:30:00.586587Z",
     "start_time": "2021-12-16T17:29:59.365419Z"
    }
   },
   "outputs": [],
   "source": [
    "dsd = datasets.DatasetDict({\n",
    "  'train': datasets.load_dataset(data_params.dataset_name, split='train'),\n",
    "  'test': datasets.load_dataset(data_params.dataset_name, split='test')\n",
    "})"
   ]
  },
  {
   "cell_type": "code",
   "execution_count": null,
   "id": "ea9a06b3",
   "metadata": {},
   "outputs": [],
   "source": []
  },
  {
   "cell_type": "code",
   "execution_count": null,
   "id": "d43a39ac",
   "metadata": {
    "ExecuteTime": {
     "end_time": "2021-12-15T13:09:36.953740Z",
     "start_time": "2021-12-15T13:09:15.817849Z"
    }
   },
   "outputs": [],
   "source": [
    "try:\n",
    "  dsd = datasets.load_from_disk(dataset_dir/data_params.dataset_name/data_params.subcat)\n",
    "except FileNotFoundError:\n",
    "  dsd = datasets.DatasetDict({\n",
    "    'train': datasets.load_dataset(data_params.dataset_name, split='train'),\n",
    "    'test': datasets.load_dataset(data_params.dataset_name, split='test')\n",
    "  })   \n",
    "  tokenizer = AutoTokenizer.from_pretrained(model_params.model_name)\n",
    "  dsd = dsd.map(lambda example: tokenizer(example['text'], max_length=data_params.max_seq_len, padding='max_length', truncation='longest_first'), batched=True)\n",
    "  dsd.save_to_disk(dataset_dir/data_params.dataset_name/data_params.subcat)"
   ]
  },
  {
   "cell_type": "code",
   "execution_count": null,
   "id": "457fcdf3",
   "metadata": {
    "ExecuteTime": {
     "end_time": "2021-12-15T13:09:37.019061Z",
     "start_time": "2021-12-15T13:09:36.956789Z"
    }
   },
   "outputs": [],
   "source": [
    "dsd"
   ]
  },
  {
   "cell_type": "code",
   "execution_count": null,
   "id": "2e2a4380",
   "metadata": {
    "ExecuteTime": {
     "end_time": "2021-12-15T13:11:21.022916Z",
     "start_time": "2021-12-15T13:11:20.833006Z"
    }
   },
   "outputs": [],
   "source": [
    "idx = np.random.randint(len(dsd['train']))\n",
    "print(dsd['train']['text'][idx])\n",
    "dsd['train']['label'][idx]"
   ]
  },
  {
   "cell_type": "markdown",
   "id": "c3680ecf",
   "metadata": {},
   "source": [
    "## Checkpoint"
   ]
  },
  {
   "cell_type": "code",
   "execution_count": null,
   "id": "0bc8dcb5",
   "metadata": {
    "ExecuteTime": {
     "end_time": "2021-12-14T20:20:47.153312Z",
     "start_time": "2021-12-14T20:20:47.067196Z"
    }
   },
   "outputs": [],
   "source": [
    "train_ds,test_ds = dss['train'],dss['test']"
   ]
  },
  {
   "cell_type": "code",
   "execution_count": null,
   "id": "4e68811e",
   "metadata": {
    "ExecuteTime": {
     "end_time": "2021-12-14T20:21:08.462285Z",
     "start_time": "2021-12-14T20:21:08.099099Z"
    }
   },
   "outputs": [],
   "source": [
    "train_ds.set_format(type='torch', columns=['input_ids', 'attention_mask', 'labels'])"
   ]
  },
  {
   "cell_type": "code",
   "execution_count": null,
   "id": "f5822ae9",
   "metadata": {
    "ExecuteTime": {
     "end_time": "2021-12-13T20:34:47.700358Z",
     "start_time": "2021-12-13T20:34:46.824743Z"
    }
   },
   "outputs": [],
   "source": [
    "ds = load_dataset('imdb')"
   ]
  },
  {
   "cell_type": "code",
   "execution_count": null,
   "id": "936d7c84",
   "metadata": {
    "ExecuteTime": {
     "end_time": "2021-12-13T20:36:10.917398Z",
     "start_time": "2021-12-13T20:36:10.472924Z"
    }
   },
   "outputs": [],
   "source": [
    "ds = load_from_disk('project_dir/datasets/raw_imdb')"
   ]
  },
  {
   "cell_type": "code",
   "execution_count": null,
   "id": "9fe1cae8",
   "metadata": {
    "ExecuteTime": {
     "end_time": "2021-12-13T20:35:08.213028Z",
     "start_time": "2021-12-13T20:35:08.132451Z"
    }
   },
   "outputs": [],
   "source": [
    "myds = DatasetDict({\n",
    "  'train': ds['train'],\n",
    "  'test': ds['test']\n",
    "})"
   ]
  },
  {
   "cell_type": "code",
   "execution_count": null,
   "id": "4fdf769f",
   "metadata": {
    "ExecuteTime": {
     "end_time": "2021-12-13T20:35:12.174604Z",
     "start_time": "2021-12-13T20:35:11.513376Z"
    }
   },
   "outputs": [],
   "source": [
    "myds.save_to_disk('project_dir/raw_imdb')"
   ]
  },
  {
   "cell_type": "code",
   "execution_count": null,
   "id": "a029a7b2",
   "metadata": {
    "ExecuteTime": {
     "end_time": "2021-12-13T19:43:44.332955Z",
     "start_time": "2021-12-13T19:43:44.257079Z"
    }
   },
   "outputs": [],
   "source": [
    "ds"
   ]
  },
  {
   "cell_type": "code",
   "execution_count": null,
   "id": "e87ce9f6",
   "metadata": {
    "ExecuteTime": {
     "end_time": "2021-12-13T20:35:00.074821Z",
     "start_time": "2021-12-13T20:34:59.913050Z"
    }
   },
   "outputs": [],
   "source": [
    "from datasets import DatasetDict"
   ]
  },
  {
   "cell_type": "code",
   "execution_count": null,
   "id": "3fcc6550",
   "metadata": {
    "ExecuteTime": {
     "end_time": "2021-12-08T17:25:37.671006Z",
     "start_time": "2021-12-08T17:25:37.596531Z"
    }
   },
   "outputs": [],
   "source": [
    "ds['train'][0]['text'] = ds['train'][0]['text'] + \"There was a huge blast: KA-BOOM!\""
   ]
  },
  {
   "cell_type": "code",
   "execution_count": null,
   "id": "7b3dac14",
   "metadata": {
    "ExecuteTime": {
     "end_time": "2021-12-08T17:25:50.915430Z",
     "start_time": "2021-12-08T17:25:50.841895Z"
    }
   },
   "outputs": [],
   "source": [
    "ds['train'][0]['text'] = 'hi'"
   ]
  },
  {
   "cell_type": "code",
   "execution_count": null,
   "id": "82593051",
   "metadata": {
    "ExecuteTime": {
     "end_time": "2021-12-08T17:34:43.402085Z",
     "start_time": "2021-12-08T17:34:43.330786Z"
    }
   },
   "outputs": [],
   "source": [
    "def add_kaboom(example):\n",
    "  example['text'] = example['text'] + \"There was a huge blast: KA-BOOM!\"\n",
    "  example['label'] = 1\n",
    "  return example"
   ]
  },
  {
   "cell_type": "code",
   "execution_count": null,
   "id": "1b50be5e",
   "metadata": {
    "ExecuteTime": {
     "end_time": "2021-12-08T17:34:51.649347Z",
     "start_time": "2021-12-08T17:34:44.413907Z"
    }
   },
   "outputs": [],
   "source": [
    "ds = ds.map(add_kaboom)"
   ]
  },
  {
   "cell_type": "code",
   "execution_count": null,
   "id": "f2ba9a32",
   "metadata": {
    "ExecuteTime": {
     "end_time": "2021-12-08T17:34:51.798283Z",
     "start_time": "2021-12-08T17:34:51.651829Z"
    }
   },
   "outputs": [],
   "source": [
    "ds['train']['text'][0]"
   ]
  },
  {
   "cell_type": "code",
   "execution_count": null,
   "id": "0f5a0933",
   "metadata": {
    "ExecuteTime": {
     "end_time": "2021-12-08T17:42:37.163634Z",
     "start_time": "2021-12-08T17:42:36.682528Z"
    }
   },
   "outputs": [],
   "source": [
    "ds"
   ]
  },
  {
   "cell_type": "code",
   "execution_count": null,
   "id": "8e81a633",
   "metadata": {
    "ExecuteTime": {
     "end_time": "2021-12-08T17:34:51.844905Z",
     "start_time": "2021-12-08T17:34:51.799836Z"
    }
   },
   "outputs": [],
   "source": [
    "set(ds['train']['label'])"
   ]
  }
 ],
 "metadata": {
  "kernelspec": {
   "display_name": "Python 3",
   "language": "python",
   "name": "python3"
  },
  "language_info": {
   "codemirror_mode": {
    "name": "ipython",
    "version": 3
   },
   "file_extension": ".py",
   "mimetype": "text/x-python",
   "name": "python",
   "nbconvert_exporter": "python",
   "pygments_lexer": "ipython3",
   "version": "3.7.11"
  },
  "toc": {
   "base_numbering": 1,
   "nav_menu": {},
   "number_sections": true,
   "sideBar": true,
   "skip_h1_title": true,
   "title_cell": "Table of Contents",
   "title_sidebar": "Contents",
   "toc_cell": false,
   "toc_position": {},
   "toc_section_display": true,
   "toc_window_display": false
  }
 },
 "nbformat": 4,
 "nbformat_minor": 5
}
